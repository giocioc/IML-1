{
 "cells": [
  {
   "cell_type": "markdown",
   "id": "ae636fbbc79a8b12",
   "metadata": {},
   "source": [
    "# Introduzione al Machine Learning 2023-2024\n",
    "### Bernardini Jacopo, Ciocca Giorgio, Marini Tommaso\n",
    "### Exam Project, First Part: Data Exploration, Clustering  and Classification"
   ]
  },
  {
   "cell_type": "markdown",
   "id": "cd245889",
   "metadata": {},
   "source": [
    "## Dictionary"
   ]
  },
  {
   "cell_type": "markdown",
   "id": "ce310d7c",
   "metadata": {},
   "source": [
    "The dataset we are going to analise has 16 attributes, which we list in the following along with their meaning, as per the PUMS Data Dictionary.\n",
    "\n",
    "- ### ``AGEP``: Age. \n",
    "\n",
    "> 0 $\\to$ Under 1 year. \n",
    "\n",
    "> 1..99 $\\to$ 1 to 99 years (Top-coded).\n",
    "\n",
    "- ### ``SCHL``: Educational attainment.\n",
    "\n",
    "> bb $\\to$ N/A (less than 3 years old).\n",
    "\n",
    "> 01 $\\to$ No schooling completed.\n",
    "\n",
    "> 02 $\\to$ Nursery school, preschool.\n",
    "\n",
    "> 03 $\\to$ Kindergarten.\n",
    "\n",
    "> 04 $\\to$ Grade 1.\n",
    "\n",
    "> 05 $\\to$ Grade 2.\n",
    "\n",
    "> 06 $\\to$ Grade 3.\n",
    "\n",
    "> 07 $\\to$ Grade 4.\n",
    "\n",
    "> 08 $\\to$ Grade 5.\n",
    "\n",
    "> 09 $\\to$ Grade 6.\n",
    "\n",
    "> 10 $\\to$ Grade 7.\n",
    "\n",
    "> 11 $\\to$ Grade 8.\n",
    "\n",
    "> 12 $\\to$ Grade 9.\n",
    "\n",
    "> 13 $\\to$ Grade 10.\n",
    "\n",
    "> 14 $\\to$ Grade 11.\n",
    "\n",
    "> 15 $\\to$ 12th grade - no diploma.\n",
    "\n",
    "> 16 $\\to$ Regular high school diploma.\n",
    "\n",
    "> 17 $\\to$ GED or alternative credential.\n",
    "\n",
    "> 18 $\\to$ Some college, but less than 1 year.\n",
    "\n",
    "> 19 $\\to$ 1 or more years of college credit, no degree.\n",
    "\n",
    "> 20 $\\to$ Associate's degree.\n",
    "\n",
    "> 21 $\\to$ Bachelor's degree.\n",
    "\n",
    "> 22 $\\to$ Master's degree.\n",
    "\n",
    "> 23 $\\to$ Professional degree beyond a bachelor's degree.\n",
    "\n",
    "> 24 $\\to$ Doctorate degree.\n",
    "\n",
    "- ### ``MAR``: Marital status.\n",
    "\n",
    "> 1 $\\to$ Married.\n",
    " \n",
    "> 2 $\\to$ Widowed.\n",
    "\n",
    "> 3 $\\to$ Divorced.\n",
    " \n",
    "> 4 $\\to$ Separated.\n",
    " \n",
    "> 5 $\\to$ Never married or under 15 years old.\n",
    "\n",
    "- ### ``RELP``: Relationship.\n",
    "\n",
    "> 00 $\\to$ Reference person.\n",
    "\n",
    "> 01 $\\to$ Husband/wife.\n",
    "\n",
    "> 02 $\\to$ Biological son or daughter.\n",
    "\n",
    "> 03 $\\to$ Adopted son or daughter.\n",
    " \n",
    "> 04 $\\to$ Stepson or stepdaughter.\n",
    "\n",
    "> 05 $\\to$ Brother or sister.\n",
    "\n",
    "> 06 $\\to$ Father or mother.\n",
    "\n",
    "> 07 $\\to$ Grandchild.\n",
    "\n",
    "> 08 $\\to$ Parent-in-law.\n",
    "\n",
    "> 09 $\\to$ Son-in-law or daughter-in-law.\n",
    "\n",
    "> 10 $\\to$ Other relative.\n",
    "\n",
    "> 11 $\\to$ Roomer or boarder.\n",
    "\n",
    "> 12 $\\to$ Housemate or roommate.\n",
    "\n",
    "> 13 $\\to$ Unmarried partner.\n",
    "\n",
    "> 14 $\\to$ Foster child.\n",
    "\n",
    "> 15 $\\to$ Other nonrelative.\n",
    "\n",
    "> 16 $\\to$ Institutionalized group quarters population.\n",
    "\n",
    "> 17 $\\to$ Noninstitutionalized group quarters population.   \n",
    " \n",
    "- ### ``DIS``: Disability recode.\n",
    " \n",
    "> 1 $\\to$ With a disability.\n",
    "\n",
    "> 2 $\\to$ Without a disability.\n",
    "\n",
    "- ### ``ESP``: Employment status of parents.\n",
    "\n",
    "> b $\\to$ N/A (not own child of householder, and not child in subfamily)\n",
    "\n",
    "> Living with two parents:\n",
    "\n",
    "> > 1 $\\to$ Both parents in labor force.\n",
    "\n",
    "> > 2 $\\to$ Father only in labor force.\n",
    "\n",
    "> > 3 $\\to$ Mother only in labor force.\n",
    "\n",
    "> > 4 $\\to$ Neither parent in labor force.\n",
    " \n",
    "> Living with one parent: \n",
    "\n",
    "> > Living with father:\n",
    "\n",
    "> > > 5 $\\to$ Father in the labor force.\n",
    "\n",
    "> > > 6 $\\to$ Father not in labor force \n",
    "\n",
    "> > Living with mother:\n",
    " \n",
    "> > > 7 $\\to$ Mother in the labor force.\n",
    "\n",
    "> > > 8 $\\to$ Mother not in labor force. \n",
    "\n",
    "- ### ``CIT``: Citizenship status.\n",
    "\n",
    "> 1 $\\to$ Born in the U.S..\n",
    "\n",
    "> 2 $\\to$ Born in Puerto Rico, Guam, the U.S. Virgin Islands, or the .Northern Marianas. \n",
    "\n",
    "> 3 $\\to$ Born abroad of American parent(s).\n",
    "\n",
    "> 4 $\\to$ U.S. citizen by naturalization.\n",
    "\n",
    "> 5 $\\to$ Not a citizen of the U.S..\n",
    "\n",
    "- ### ``MIG``: Mobility status (lived here 1 year ago).\n",
    " \n",
    "> b $\\to$ N/A (less than 1 year old).\n",
    "\n",
    "> 1 $\\to$ Yes, same house (nonmovers).\n",
    "\n",
    "> 2 $\\to$ No, outside US and Puerto Rico.\n",
    "\n",
    "> 3 $\\to$ No, different house in US or Puerto Rico.\n",
    "\n",
    "- ### ``MIL``: Military service.\n",
    "\n",
    "> b $\\to$ N/A (less than 17 years old).\n",
    " \n",
    "> 1 $\\to$ Now on active duty.\n",
    "\n",
    "> 2 $\\to$ On active duty in the past, but not now.\n",
    " \n",
    "> 3 $\\to$ Only on active duty for training in Reserves/National Guard.\n",
    "\n",
    "> 4 $\\to$ Never served in the military.\n",
    "\n",
    "- ### ``ANC``: Ancestry recode.\n",
    "\n",
    "> 1 $\\to$ Single.\n",
    "\n",
    "> 2 $\\to$ Multiple.\n",
    "\n",
    "> 3 $\\to$ Unclassified.\n",
    "\n",
    "> 4 $\\to$ Not reported.\n",
    "\n",
    "> 8 $\\to$ Suppressed for data year 2018 for select PUMAs.\n",
    "\n",
    "- ### ``NATIVITY``: Nativity.\n",
    "\n",
    "> 1 $\\to$ Native.\n",
    "\n",
    "> 2 $\\to$ Foreign born.\n",
    "\n",
    "- ### ``DEAR``: Hearing difficulty.\n",
    "\n",
    "> 1 $\\to$ Yes.\n",
    "\n",
    "> 2 $\\to$ No.\n",
    "\n",
    "- ### ``DEYE``: Vision difficulty.\n",
    "\n",
    "> 1 $\\to$ Yes.\n",
    "\n",
    "> 2 $\\to$ No.\n",
    "\n",
    "- ### ``DREM``: Cognitive difficulty.\n",
    "\n",
    "> b $\\to$ N/A (Less than 5 years old).\n",
    "\n",
    "> 1 $\\to$ Yes.\n",
    "\n",
    "> 2 $\\to$ No.\n",
    "\n",
    "- ### ``SEX``: Sex.\n",
    "\n",
    "> 1 $\\to$ Male.\n",
    "\n",
    "> 2 $\\to$ Female.\n",
    "\n",
    "- ### ``ESR`: Employment status recode.\n",
    "\n",
    "> b $\\to$ N/A (less than 16 years old).\n",
    "\n",
    "> 1 $\\to$ Civilian employed, at work.\n",
    "\n",
    "> 2 $\\to$ Civilian employed, with a job but not at work.\n",
    "\n",
    "> 3 $\\to$ Unemployed.\n",
    "\n",
    "> 4 $\\to$ Armed forces, at work.\n",
    "\n",
    "> 5 $\\to$ Armed forces, with a job but not at work.\n",
    "\n",
    "> 6 $\\to$ Not in labor force."
   ]
  },
  {
   "cell_type": "markdown",
   "id": "91c2ba1d",
   "metadata": {},
   "source": [
    "## 1. Data Exploration"
   ]
  },
  {
   "cell_type": "markdown",
   "id": "43c847192814d75a",
   "metadata": {},
   "source": [
    "Libraries import."
   ]
  },
  {
   "cell_type": "code",
   "execution_count": 6,
   "id": "6707c599167ce45a",
   "metadata": {
    "ExecuteTime": {
     "end_time": "2024-05-23T14:24:42.369626Z",
     "start_time": "2024-05-23T14:24:42.364772Z"
    }
   },
   "outputs": [],
   "source": [
    "import numpy as np\n",
    "import pandas as pd\n",
    "import pylab as plt\n",
    "from sklearn import metrics"
   ]
  },
  {
   "cell_type": "markdown",
   "id": "8dccef71ffb70e2b",
   "metadata": {},
   "source": [
    "File reading and substitution of 'notknown' values with NaNs "
   ]
  },
  {
   "cell_type": "code",
   "execution_count": 7,
   "id": "ee60770bbf92f958",
   "metadata": {
    "ExecuteTime": {
     "end_time": "2024-05-23T16:43:19.154312Z",
     "start_time": "2024-05-23T16:43:17.488495Z"
    }
   },
   "outputs": [
    {
     "data": {
      "text/html": [
       "<div>\n",
       "<style scoped>\n",
       "    .dataframe tbody tr th:only-of-type {\n",
       "        vertical-align: middle;\n",
       "    }\n",
       "\n",
       "    .dataframe tbody tr th {\n",
       "        vertical-align: top;\n",
       "    }\n",
       "\n",
       "    .dataframe thead th {\n",
       "        text-align: right;\n",
       "    }\n",
       "</style>\n",
       "<table border=\"1\" class=\"dataframe\">\n",
       "  <thead>\n",
       "    <tr style=\"text-align: right;\">\n",
       "      <th></th>\n",
       "      <th>AGEP</th>\n",
       "      <th>SCHL</th>\n",
       "      <th>MAR</th>\n",
       "      <th>RELP</th>\n",
       "      <th>DIS</th>\n",
       "      <th>ESP</th>\n",
       "      <th>CIT</th>\n",
       "      <th>MIG</th>\n",
       "      <th>MIL</th>\n",
       "      <th>ANC</th>\n",
       "      <th>NATIVITY</th>\n",
       "      <th>DEAR</th>\n",
       "      <th>DEYE</th>\n",
       "      <th>DREM</th>\n",
       "      <th>SEX</th>\n",
       "      <th>ESR</th>\n",
       "    </tr>\n",
       "  </thead>\n",
       "  <tbody>\n",
       "    <tr>\n",
       "      <th>0</th>\n",
       "      <td>21.0</td>\n",
       "      <td>16.0</td>\n",
       "      <td>5.0</td>\n",
       "      <td>17.0</td>\n",
       "      <td>2.0</td>\n",
       "      <td>0.0</td>\n",
       "      <td>1.0</td>\n",
       "      <td>1.0</td>\n",
       "      <td>4.0</td>\n",
       "      <td>1.0</td>\n",
       "      <td>1.0</td>\n",
       "      <td>2.0</td>\n",
       "      <td>2.0</td>\n",
       "      <td>2.0</td>\n",
       "      <td>2.0</td>\n",
       "      <td>True</td>\n",
       "    </tr>\n",
       "    <tr>\n",
       "      <th>1</th>\n",
       "      <td>19.0</td>\n",
       "      <td>16.0</td>\n",
       "      <td>5.0</td>\n",
       "      <td>17.0</td>\n",
       "      <td>2.0</td>\n",
       "      <td>0.0</td>\n",
       "      <td>1.0</td>\n",
       "      <td>1.0</td>\n",
       "      <td>4.0</td>\n",
       "      <td>1.0</td>\n",
       "      <td>1.0</td>\n",
       "      <td>2.0</td>\n",
       "      <td>2.0</td>\n",
       "      <td>2.0</td>\n",
       "      <td>2.0</td>\n",
       "      <td>False</td>\n",
       "    </tr>\n",
       "    <tr>\n",
       "      <th>2</th>\n",
       "      <td>24.0</td>\n",
       "      <td>12.0</td>\n",
       "      <td>5.0</td>\n",
       "      <td>16.0</td>\n",
       "      <td>1.0</td>\n",
       "      <td>0.0</td>\n",
       "      <td>1.0</td>\n",
       "      <td>1.0</td>\n",
       "      <td>4.0</td>\n",
       "      <td>1.0</td>\n",
       "      <td>1.0</td>\n",
       "      <td>2.0</td>\n",
       "      <td>2.0</td>\n",
       "      <td>1.0</td>\n",
       "      <td>1.0</td>\n",
       "      <td>False</td>\n",
       "    </tr>\n",
       "    <tr>\n",
       "      <th>3</th>\n",
       "      <td>20.0</td>\n",
       "      <td>16.0</td>\n",
       "      <td>5.0</td>\n",
       "      <td>17.0</td>\n",
       "      <td>2.0</td>\n",
       "      <td>0.0</td>\n",
       "      <td>1.0</td>\n",
       "      <td>1.0</td>\n",
       "      <td>3.0</td>\n",
       "      <td>1.0</td>\n",
       "      <td>1.0</td>\n",
       "      <td>2.0</td>\n",
       "      <td>NaN</td>\n",
       "      <td>2.0</td>\n",
       "      <td>2.0</td>\n",
       "      <td>True</td>\n",
       "    </tr>\n",
       "    <tr>\n",
       "      <th>4</th>\n",
       "      <td>31.0</td>\n",
       "      <td>17.0</td>\n",
       "      <td>5.0</td>\n",
       "      <td>17.0</td>\n",
       "      <td>2.0</td>\n",
       "      <td>0.0</td>\n",
       "      <td>1.0</td>\n",
       "      <td>3.0</td>\n",
       "      <td>4.0</td>\n",
       "      <td>4.0</td>\n",
       "      <td>1.0</td>\n",
       "      <td>2.0</td>\n",
       "      <td>2.0</td>\n",
       "      <td>2.0</td>\n",
       "      <td>1.0</td>\n",
       "      <td>True</td>\n",
       "    </tr>\n",
       "  </tbody>\n",
       "</table>\n",
       "</div>"
      ],
      "text/plain": [
       "   AGEP  SCHL  MAR  RELP  DIS  ESP  CIT  MIG  MIL  ANC  NATIVITY  DEAR  DEYE  \\\n",
       "0  21.0  16.0  5.0  17.0  2.0  0.0  1.0  1.0  4.0  1.0       1.0   2.0   2.0   \n",
       "1  19.0  16.0  5.0  17.0  2.0  0.0  1.0  1.0  4.0  1.0       1.0   2.0   2.0   \n",
       "2  24.0  12.0  5.0  16.0  1.0  0.0  1.0  1.0  4.0  1.0       1.0   2.0   2.0   \n",
       "3  20.0  16.0  5.0  17.0  2.0  0.0  1.0  1.0  3.0  1.0       1.0   2.0   NaN   \n",
       "4  31.0  17.0  5.0  17.0  2.0  0.0  1.0  3.0  4.0  4.0       1.0   2.0   2.0   \n",
       "\n",
       "   DREM  SEX    ESR  \n",
       "0   2.0  2.0   True  \n",
       "1   2.0  2.0  False  \n",
       "2   1.0  1.0  False  \n",
       "3   2.0  2.0   True  \n",
       "4   2.0  1.0   True  "
      ]
     },
     "execution_count": 7,
     "metadata": {},
     "output_type": "execute_result"
    }
   ],
   "source": [
    "filename = r'data\\pums.csv'\n",
    "data = pd.read_csv(filename, na_values='notknown')\n",
    "data.head()"
   ]
  },
  {
   "cell_type": "markdown",
   "id": "840d9abae8f53744",
   "metadata": {},
   "source": [
    "First data check."
   ]
  },
  {
   "cell_type": "code",
   "execution_count": 8,
   "id": "622aac498c665f3f",
   "metadata": {
    "ExecuteTime": {
     "end_time": "2024-05-23T14:24:43.772611Z",
     "start_time": "2024-05-23T14:24:43.730385Z"
    }
   },
   "outputs": [
    {
     "name": "stdout",
     "output_type": "stream",
     "text": [
      "<class 'pandas.core.frame.DataFrame'>\n",
      "RangeIndex: 746336 entries, 0 to 746335\n",
      "Data columns (total 16 columns):\n",
      " #   Column    Non-Null Count   Dtype  \n",
      "---  ------    --------------   -----  \n",
      " 0   AGEP      746336 non-null  float64\n",
      " 1   SCHL      709133 non-null  float64\n",
      " 2   MAR       746336 non-null  float64\n",
      " 3   RELP      709213 non-null  float64\n",
      " 4   DIS       746336 non-null  float64\n",
      " 5   ESP       746336 non-null  float64\n",
      " 6   CIT       709287 non-null  float64\n",
      " 7   MIG       746336 non-null  float64\n",
      " 8   MIL       746336 non-null  float64\n",
      " 9   ANC       746336 non-null  float64\n",
      " 10  NATIVITY  708813 non-null  float64\n",
      " 11  DEAR      708974 non-null  float64\n",
      " 12  DEYE      709267 non-null  float64\n",
      " 13  DREM      746336 non-null  float64\n",
      " 14  SEX       746336 non-null  float64\n",
      " 15  ESR       746336 non-null  bool   \n",
      "dtypes: bool(1), float64(15)\n",
      "memory usage: 86.1 MB\n"
     ]
    }
   ],
   "source": [
    "data.info()"
   ]
  },
  {
   "cell_type": "code",
   "execution_count": 9,
   "id": "2223d31645f841f2",
   "metadata": {
    "ExecuteTime": {
     "end_time": "2024-05-23T14:24:43.803651Z",
     "start_time": "2024-05-23T14:24:43.773619Z"
    }
   },
   "outputs": [
    {
     "data": {
      "text/plain": [
       "AGEP            0\n",
       "SCHL        37203\n",
       "MAR             0\n",
       "RELP        37123\n",
       "DIS             0\n",
       "ESP             0\n",
       "CIT         37049\n",
       "MIG             0\n",
       "MIL             0\n",
       "ANC             0\n",
       "NATIVITY    37523\n",
       "DEAR        37362\n",
       "DEYE        37069\n",
       "DREM            0\n",
       "SEX             0\n",
       "ESR             0\n",
       "dtype: int64"
      ]
     },
     "execution_count": 9,
     "metadata": {},
     "output_type": "execute_result"
    }
   ],
   "source": [
    "data.isnull().sum()"
   ]
  },
  {
   "cell_type": "code",
   "execution_count": 10,
   "id": "fb18ffc0f3a54595",
   "metadata": {
    "ExecuteTime": {
     "end_time": "2024-05-23T14:24:44.395007Z",
     "start_time": "2024-05-23T14:24:43.805660Z"
    }
   },
   "outputs": [
    {
     "data": {
      "text/html": [
       "<div>\n",
       "<style scoped>\n",
       "    .dataframe tbody tr th:only-of-type {\n",
       "        vertical-align: middle;\n",
       "    }\n",
       "\n",
       "    .dataframe tbody tr th {\n",
       "        vertical-align: top;\n",
       "    }\n",
       "\n",
       "    .dataframe thead th {\n",
       "        text-align: right;\n",
       "    }\n",
       "</style>\n",
       "<table border=\"1\" class=\"dataframe\">\n",
       "  <thead>\n",
       "    <tr style=\"text-align: right;\">\n",
       "      <th></th>\n",
       "      <th>AGEP</th>\n",
       "      <th>SCHL</th>\n",
       "      <th>MAR</th>\n",
       "      <th>RELP</th>\n",
       "      <th>DIS</th>\n",
       "      <th>ESP</th>\n",
       "      <th>CIT</th>\n",
       "      <th>MIG</th>\n",
       "      <th>MIL</th>\n",
       "      <th>ANC</th>\n",
       "      <th>NATIVITY</th>\n",
       "      <th>DEAR</th>\n",
       "      <th>DEYE</th>\n",
       "      <th>DREM</th>\n",
       "      <th>SEX</th>\n",
       "    </tr>\n",
       "  </thead>\n",
       "  <tbody>\n",
       "    <tr>\n",
       "      <th>count</th>\n",
       "      <td>746336.000000</td>\n",
       "      <td>709133.000000</td>\n",
       "      <td>746336.000000</td>\n",
       "      <td>709213.000000</td>\n",
       "      <td>746336.000000</td>\n",
       "      <td>746336.000000</td>\n",
       "      <td>709287.000000</td>\n",
       "      <td>746336.000000</td>\n",
       "      <td>746336.000000</td>\n",
       "      <td>746336.000000</td>\n",
       "      <td>708813.000000</td>\n",
       "      <td>708974.000000</td>\n",
       "      <td>709267.000000</td>\n",
       "      <td>746336.000000</td>\n",
       "      <td>746336.000000</td>\n",
       "    </tr>\n",
       "    <tr>\n",
       "      <th>mean</th>\n",
       "      <td>40.378314</td>\n",
       "      <td>15.426601</td>\n",
       "      <td>2.995578</td>\n",
       "      <td>2.679022</td>\n",
       "      <td>1.866040</td>\n",
       "      <td>0.617611</td>\n",
       "      <td>1.693518</td>\n",
       "      <td>1.247413</td>\n",
       "      <td>3.080612</td>\n",
       "      <td>1.757976</td>\n",
       "      <td>1.192635</td>\n",
       "      <td>1.960921</td>\n",
       "      <td>1.975131</td>\n",
       "      <td>1.844122</td>\n",
       "      <td>1.507907</td>\n",
       "    </tr>\n",
       "    <tr>\n",
       "      <th>std</th>\n",
       "      <td>23.374484</td>\n",
       "      <td>6.381558</td>\n",
       "      <td>1.865125</td>\n",
       "      <td>4.336577</td>\n",
       "      <td>0.340609</td>\n",
       "      <td>1.678300</td>\n",
       "      <td>1.390452</td>\n",
       "      <td>0.675038</td>\n",
       "      <td>1.608065</td>\n",
       "      <td>1.097682</td>\n",
       "      <td>0.394369</td>\n",
       "      <td>0.193783</td>\n",
       "      <td>0.155727</td>\n",
       "      <td>0.485527</td>\n",
       "      <td>0.499938</td>\n",
       "    </tr>\n",
       "    <tr>\n",
       "      <th>min</th>\n",
       "      <td>0.000000</td>\n",
       "      <td>0.000000</td>\n",
       "      <td>1.000000</td>\n",
       "      <td>0.000000</td>\n",
       "      <td>1.000000</td>\n",
       "      <td>0.000000</td>\n",
       "      <td>1.000000</td>\n",
       "      <td>0.000000</td>\n",
       "      <td>0.000000</td>\n",
       "      <td>1.000000</td>\n",
       "      <td>1.000000</td>\n",
       "      <td>1.000000</td>\n",
       "      <td>1.000000</td>\n",
       "      <td>0.000000</td>\n",
       "      <td>1.000000</td>\n",
       "    </tr>\n",
       "    <tr>\n",
       "      <th>25%</th>\n",
       "      <td>20.000000</td>\n",
       "      <td>13.000000</td>\n",
       "      <td>1.000000</td>\n",
       "      <td>0.000000</td>\n",
       "      <td>2.000000</td>\n",
       "      <td>0.000000</td>\n",
       "      <td>1.000000</td>\n",
       "      <td>1.000000</td>\n",
       "      <td>2.000000</td>\n",
       "      <td>1.000000</td>\n",
       "      <td>1.000000</td>\n",
       "      <td>2.000000</td>\n",
       "      <td>2.000000</td>\n",
       "      <td>2.000000</td>\n",
       "      <td>1.000000</td>\n",
       "    </tr>\n",
       "    <tr>\n",
       "      <th>50%</th>\n",
       "      <td>40.000000</td>\n",
       "      <td>17.000000</td>\n",
       "      <td>3.000000</td>\n",
       "      <td>1.000000</td>\n",
       "      <td>2.000000</td>\n",
       "      <td>0.000000</td>\n",
       "      <td>1.000000</td>\n",
       "      <td>1.000000</td>\n",
       "      <td>4.000000</td>\n",
       "      <td>1.000000</td>\n",
       "      <td>1.000000</td>\n",
       "      <td>2.000000</td>\n",
       "      <td>2.000000</td>\n",
       "      <td>2.000000</td>\n",
       "      <td>2.000000</td>\n",
       "    </tr>\n",
       "    <tr>\n",
       "      <th>75%</th>\n",
       "      <td>59.000000</td>\n",
       "      <td>20.000000</td>\n",
       "      <td>5.000000</td>\n",
       "      <td>2.000000</td>\n",
       "      <td>2.000000</td>\n",
       "      <td>0.000000</td>\n",
       "      <td>1.000000</td>\n",
       "      <td>1.000000</td>\n",
       "      <td>4.000000</td>\n",
       "      <td>2.000000</td>\n",
       "      <td>1.000000</td>\n",
       "      <td>2.000000</td>\n",
       "      <td>2.000000</td>\n",
       "      <td>2.000000</td>\n",
       "      <td>2.000000</td>\n",
       "    </tr>\n",
       "    <tr>\n",
       "      <th>max</th>\n",
       "      <td>94.000000</td>\n",
       "      <td>24.000000</td>\n",
       "      <td>5.000000</td>\n",
       "      <td>17.000000</td>\n",
       "      <td>2.000000</td>\n",
       "      <td>8.000000</td>\n",
       "      <td>5.000000</td>\n",
       "      <td>3.000000</td>\n",
       "      <td>4.000000</td>\n",
       "      <td>4.000000</td>\n",
       "      <td>2.000000</td>\n",
       "      <td>2.000000</td>\n",
       "      <td>2.000000</td>\n",
       "      <td>2.000000</td>\n",
       "      <td>2.000000</td>\n",
       "    </tr>\n",
       "  </tbody>\n",
       "</table>\n",
       "</div>"
      ],
      "text/plain": [
       "                AGEP           SCHL            MAR           RELP  \\\n",
       "count  746336.000000  709133.000000  746336.000000  709213.000000   \n",
       "mean       40.378314      15.426601       2.995578       2.679022   \n",
       "std        23.374484       6.381558       1.865125       4.336577   \n",
       "min         0.000000       0.000000       1.000000       0.000000   \n",
       "25%        20.000000      13.000000       1.000000       0.000000   \n",
       "50%        40.000000      17.000000       3.000000       1.000000   \n",
       "75%        59.000000      20.000000       5.000000       2.000000   \n",
       "max        94.000000      24.000000       5.000000      17.000000   \n",
       "\n",
       "                 DIS            ESP            CIT            MIG  \\\n",
       "count  746336.000000  746336.000000  709287.000000  746336.000000   \n",
       "mean        1.866040       0.617611       1.693518       1.247413   \n",
       "std         0.340609       1.678300       1.390452       0.675038   \n",
       "min         1.000000       0.000000       1.000000       0.000000   \n",
       "25%         2.000000       0.000000       1.000000       1.000000   \n",
       "50%         2.000000       0.000000       1.000000       1.000000   \n",
       "75%         2.000000       0.000000       1.000000       1.000000   \n",
       "max         2.000000       8.000000       5.000000       3.000000   \n",
       "\n",
       "                 MIL            ANC       NATIVITY           DEAR  \\\n",
       "count  746336.000000  746336.000000  708813.000000  708974.000000   \n",
       "mean        3.080612       1.757976       1.192635       1.960921   \n",
       "std         1.608065       1.097682       0.394369       0.193783   \n",
       "min         0.000000       1.000000       1.000000       1.000000   \n",
       "25%         2.000000       1.000000       1.000000       2.000000   \n",
       "50%         4.000000       1.000000       1.000000       2.000000   \n",
       "75%         4.000000       2.000000       1.000000       2.000000   \n",
       "max         4.000000       4.000000       2.000000       2.000000   \n",
       "\n",
       "                DEYE           DREM            SEX  \n",
       "count  709267.000000  746336.000000  746336.000000  \n",
       "mean        1.975131       1.844122       1.507907  \n",
       "std         0.155727       0.485527       0.499938  \n",
       "min         1.000000       0.000000       1.000000  \n",
       "25%         2.000000       2.000000       1.000000  \n",
       "50%         2.000000       2.000000       2.000000  \n",
       "75%         2.000000       2.000000       2.000000  \n",
       "max         2.000000       2.000000       2.000000  "
      ]
     },
     "execution_count": 10,
     "metadata": {},
     "output_type": "execute_result"
    }
   ],
   "source": [
    "data.describe()"
   ]
  },
  {
   "cell_type": "markdown",
   "id": "bc2cf571d0c5750e",
   "metadata": {},
   "source": [
    "Having found that the number of null values in any feature is of the same order of magnitude, we check which rows present more than one NaN.\n",
    "We check whether there are some completely corrupted instances to delete."
   ]
  },
  {
   "cell_type": "code",
   "execution_count": 11,
   "id": "7128baabfc4c6fce",
   "metadata": {
    "ExecuteTime": {
     "end_time": "2024-05-23T14:24:44.500951Z",
     "start_time": "2024-05-23T14:24:44.396018Z"
    }
   },
   "outputs": [
    {
     "data": {
      "text/plain": [
       "0"
      ]
     },
     "execution_count": 11,
     "metadata": {},
     "output_type": "execute_result"
    }
   ],
   "source": [
    "len(data[data.isnull().sum(axis=1)==6].index)"
   ]
  },
  {
   "cell_type": "markdown",
   "id": "26629e577f83b398",
   "metadata": {},
   "source": [
    "There are no completely empty rows to delete."
   ]
  },
  {
   "cell_type": "markdown",
   "id": "54a1cbed1eb8ab94",
   "metadata": {},
   "source": [
    "Replace Boolean target variable with 0 and 1"
   ]
  },
  {
   "cell_type": "code",
   "execution_count": 12,
   "id": "d1c58966affbb5fc",
   "metadata": {
    "ExecuteTime": {
     "end_time": "2024-05-23T16:43:28.360987Z",
     "start_time": "2024-05-23T16:43:28.100400Z"
    }
   },
   "outputs": [
    {
     "data": {
      "text/html": [
       "<div>\n",
       "<style scoped>\n",
       "    .dataframe tbody tr th:only-of-type {\n",
       "        vertical-align: middle;\n",
       "    }\n",
       "\n",
       "    .dataframe tbody tr th {\n",
       "        vertical-align: top;\n",
       "    }\n",
       "\n",
       "    .dataframe thead th {\n",
       "        text-align: right;\n",
       "    }\n",
       "</style>\n",
       "<table border=\"1\" class=\"dataframe\">\n",
       "  <thead>\n",
       "    <tr style=\"text-align: right;\">\n",
       "      <th></th>\n",
       "      <th>AGEP</th>\n",
       "      <th>SCHL</th>\n",
       "      <th>MAR</th>\n",
       "      <th>RELP</th>\n",
       "      <th>DIS</th>\n",
       "      <th>ESP</th>\n",
       "      <th>CIT</th>\n",
       "      <th>MIG</th>\n",
       "      <th>MIL</th>\n",
       "      <th>ANC</th>\n",
       "      <th>NATIVITY</th>\n",
       "      <th>DEAR</th>\n",
       "      <th>DEYE</th>\n",
       "      <th>DREM</th>\n",
       "      <th>SEX</th>\n",
       "      <th>ESR</th>\n",
       "    </tr>\n",
       "  </thead>\n",
       "  <tbody>\n",
       "    <tr>\n",
       "      <th>0</th>\n",
       "      <td>21.0</td>\n",
       "      <td>16.0</td>\n",
       "      <td>5.0</td>\n",
       "      <td>17.0</td>\n",
       "      <td>2.0</td>\n",
       "      <td>0.0</td>\n",
       "      <td>1.0</td>\n",
       "      <td>1.0</td>\n",
       "      <td>4.0</td>\n",
       "      <td>1.0</td>\n",
       "      <td>1.0</td>\n",
       "      <td>2.0</td>\n",
       "      <td>2.0</td>\n",
       "      <td>2.0</td>\n",
       "      <td>2.0</td>\n",
       "      <td>1</td>\n",
       "    </tr>\n",
       "    <tr>\n",
       "      <th>1</th>\n",
       "      <td>19.0</td>\n",
       "      <td>16.0</td>\n",
       "      <td>5.0</td>\n",
       "      <td>17.0</td>\n",
       "      <td>2.0</td>\n",
       "      <td>0.0</td>\n",
       "      <td>1.0</td>\n",
       "      <td>1.0</td>\n",
       "      <td>4.0</td>\n",
       "      <td>1.0</td>\n",
       "      <td>1.0</td>\n",
       "      <td>2.0</td>\n",
       "      <td>2.0</td>\n",
       "      <td>2.0</td>\n",
       "      <td>2.0</td>\n",
       "      <td>0</td>\n",
       "    </tr>\n",
       "    <tr>\n",
       "      <th>2</th>\n",
       "      <td>24.0</td>\n",
       "      <td>12.0</td>\n",
       "      <td>5.0</td>\n",
       "      <td>16.0</td>\n",
       "      <td>1.0</td>\n",
       "      <td>0.0</td>\n",
       "      <td>1.0</td>\n",
       "      <td>1.0</td>\n",
       "      <td>4.0</td>\n",
       "      <td>1.0</td>\n",
       "      <td>1.0</td>\n",
       "      <td>2.0</td>\n",
       "      <td>2.0</td>\n",
       "      <td>1.0</td>\n",
       "      <td>1.0</td>\n",
       "      <td>0</td>\n",
       "    </tr>\n",
       "    <tr>\n",
       "      <th>3</th>\n",
       "      <td>20.0</td>\n",
       "      <td>16.0</td>\n",
       "      <td>5.0</td>\n",
       "      <td>17.0</td>\n",
       "      <td>2.0</td>\n",
       "      <td>0.0</td>\n",
       "      <td>1.0</td>\n",
       "      <td>1.0</td>\n",
       "      <td>3.0</td>\n",
       "      <td>1.0</td>\n",
       "      <td>1.0</td>\n",
       "      <td>2.0</td>\n",
       "      <td>NaN</td>\n",
       "      <td>2.0</td>\n",
       "      <td>2.0</td>\n",
       "      <td>1</td>\n",
       "    </tr>\n",
       "    <tr>\n",
       "      <th>4</th>\n",
       "      <td>31.0</td>\n",
       "      <td>17.0</td>\n",
       "      <td>5.0</td>\n",
       "      <td>17.0</td>\n",
       "      <td>2.0</td>\n",
       "      <td>0.0</td>\n",
       "      <td>1.0</td>\n",
       "      <td>3.0</td>\n",
       "      <td>4.0</td>\n",
       "      <td>4.0</td>\n",
       "      <td>1.0</td>\n",
       "      <td>2.0</td>\n",
       "      <td>2.0</td>\n",
       "      <td>2.0</td>\n",
       "      <td>1.0</td>\n",
       "      <td>1</td>\n",
       "    </tr>\n",
       "  </tbody>\n",
       "</table>\n",
       "</div>"
      ],
      "text/plain": [
       "   AGEP  SCHL  MAR  RELP  DIS  ESP  CIT  MIG  MIL  ANC  NATIVITY  DEAR  DEYE  \\\n",
       "0  21.0  16.0  5.0  17.0  2.0  0.0  1.0  1.0  4.0  1.0       1.0   2.0   2.0   \n",
       "1  19.0  16.0  5.0  17.0  2.0  0.0  1.0  1.0  4.0  1.0       1.0   2.0   2.0   \n",
       "2  24.0  12.0  5.0  16.0  1.0  0.0  1.0  1.0  4.0  1.0       1.0   2.0   2.0   \n",
       "3  20.0  16.0  5.0  17.0  2.0  0.0  1.0  1.0  3.0  1.0       1.0   2.0   NaN   \n",
       "4  31.0  17.0  5.0  17.0  2.0  0.0  1.0  3.0  4.0  4.0       1.0   2.0   2.0   \n",
       "\n",
       "   DREM  SEX  ESR  \n",
       "0   2.0  2.0    1  \n",
       "1   2.0  2.0    0  \n",
       "2   1.0  1.0    0  \n",
       "3   2.0  2.0    1  \n",
       "4   2.0  1.0    1  "
      ]
     },
     "execution_count": 12,
     "metadata": {},
     "output_type": "execute_result"
    }
   ],
   "source": [
    "data=data.replace({False:0, True:1})\n",
    "data.head()"
   ]
  },
  {
   "cell_type": "markdown",
   "id": "31c7f75ba6f5c351",
   "metadata": {},
   "source": [
    "We calculate the correlation matrix in order to detect possible correlations to exploit."
   ]
  },
  {
   "cell_type": "code",
   "execution_count": 13,
   "id": "3f3d340b",
   "metadata": {
    "ExecuteTime": {
     "end_time": "2024-05-23T14:24:45.522966Z",
     "start_time": "2024-05-23T14:24:44.873954Z"
    }
   },
   "outputs": [
    {
     "data": {
      "text/html": [
       "<div>\n",
       "<style scoped>\n",
       "    .dataframe tbody tr th:only-of-type {\n",
       "        vertical-align: middle;\n",
       "    }\n",
       "\n",
       "    .dataframe tbody tr th {\n",
       "        vertical-align: top;\n",
       "    }\n",
       "\n",
       "    .dataframe thead th {\n",
       "        text-align: right;\n",
       "    }\n",
       "</style>\n",
       "<table border=\"1\" class=\"dataframe\">\n",
       "  <thead>\n",
       "    <tr style=\"text-align: right;\">\n",
       "      <th></th>\n",
       "      <th>AGEP</th>\n",
       "      <th>SCHL</th>\n",
       "      <th>MAR</th>\n",
       "      <th>RELP</th>\n",
       "      <th>DIS</th>\n",
       "      <th>ESP</th>\n",
       "      <th>CIT</th>\n",
       "      <th>MIG</th>\n",
       "      <th>MIL</th>\n",
       "      <th>ANC</th>\n",
       "      <th>NATIVITY</th>\n",
       "      <th>DEAR</th>\n",
       "      <th>DEYE</th>\n",
       "      <th>DREM</th>\n",
       "      <th>SEX</th>\n",
       "      <th>ESR</th>\n",
       "    </tr>\n",
       "  </thead>\n",
       "  <tbody>\n",
       "    <tr>\n",
       "      <th>AGEP</th>\n",
       "      <td>1.000000</td>\n",
       "      <td>0.526318</td>\n",
       "      <td>-0.652526</td>\n",
       "      <td>-0.160553</td>\n",
       "      <td>-0.319932</td>\n",
       "      <td>-0.495892</td>\n",
       "      <td>0.136805</td>\n",
       "      <td>-0.094053</td>\n",
       "      <td>0.610013</td>\n",
       "      <td>-0.075151</td>\n",
       "      <td>0.159861</td>\n",
       "      <td>-0.240264</td>\n",
       "      <td>-0.127749</td>\n",
       "      <td>0.297545</td>\n",
       "      <td>0.045604</td>\n",
       "      <td>0.108214</td>\n",
       "    </tr>\n",
       "    <tr>\n",
       "      <th>SCHL</th>\n",
       "      <td>0.526318</td>\n",
       "      <td>1.000000</td>\n",
       "      <td>-0.437045</td>\n",
       "      <td>-0.106178</td>\n",
       "      <td>-0.034417</td>\n",
       "      <td>-0.534254</td>\n",
       "      <td>0.013117</td>\n",
       "      <td>0.051095</td>\n",
       "      <td>0.710749</td>\n",
       "      <td>-0.055516</td>\n",
       "      <td>0.026687</td>\n",
       "      <td>-0.036743</td>\n",
       "      <td>-0.002851</td>\n",
       "      <td>0.508846</td>\n",
       "      <td>0.020629</td>\n",
       "      <td>0.433160</td>\n",
       "    </tr>\n",
       "    <tr>\n",
       "      <th>MAR</th>\n",
       "      <td>-0.652526</td>\n",
       "      <td>-0.437045</td>\n",
       "      <td>1.000000</td>\n",
       "      <td>0.324343</td>\n",
       "      <td>0.084751</td>\n",
       "      <td>0.395482</td>\n",
       "      <td>-0.197440</td>\n",
       "      <td>0.091173</td>\n",
       "      <td>-0.486286</td>\n",
       "      <td>0.067081</td>\n",
       "      <td>-0.212588</td>\n",
       "      <td>0.100159</td>\n",
       "      <td>0.034025</td>\n",
       "      <td>-0.243272</td>\n",
       "      <td>-0.037797</td>\n",
       "      <td>-0.236155</td>\n",
       "    </tr>\n",
       "    <tr>\n",
       "      <th>RELP</th>\n",
       "      <td>-0.160553</td>\n",
       "      <td>-0.106178</td>\n",
       "      <td>0.324343</td>\n",
       "      <td>1.000000</td>\n",
       "      <td>-0.090447</td>\n",
       "      <td>0.028915</td>\n",
       "      <td>-0.007710</td>\n",
       "      <td>0.202360</td>\n",
       "      <td>-0.026641</td>\n",
       "      <td>0.051846</td>\n",
       "      <td>-0.018830</td>\n",
       "      <td>-0.004358</td>\n",
       "      <td>-0.043709</td>\n",
       "      <td>-0.090742</td>\n",
       "      <td>-0.041623</td>\n",
       "      <td>-0.141054</td>\n",
       "    </tr>\n",
       "    <tr>\n",
       "      <th>DIS</th>\n",
       "      <td>-0.319932</td>\n",
       "      <td>-0.034417</td>\n",
       "      <td>0.084751</td>\n",
       "      <td>-0.090447</td>\n",
       "      <td>1.000000</td>\n",
       "      <td>0.093754</td>\n",
       "      <td>0.037943</td>\n",
       "      <td>-0.000815</td>\n",
       "      <td>-0.102686</td>\n",
       "      <td>-0.006058</td>\n",
       "      <td>0.031085</td>\n",
       "      <td>0.512855</td>\n",
       "      <td>0.405873</td>\n",
       "      <td>0.190759</td>\n",
       "      <td>-0.004698</td>\n",
       "      <td>0.209605</td>\n",
       "    </tr>\n",
       "    <tr>\n",
       "      <th>ESP</th>\n",
       "      <td>-0.495892</td>\n",
       "      <td>-0.534254</td>\n",
       "      <td>0.395482</td>\n",
       "      <td>0.028915</td>\n",
       "      <td>0.093754</td>\n",
       "      <td>1.000000</td>\n",
       "      <td>-0.139069</td>\n",
       "      <td>-0.016679</td>\n",
       "      <td>-0.650507</td>\n",
       "      <td>0.037561</td>\n",
       "      <td>-0.145389</td>\n",
       "      <td>0.063005</td>\n",
       "      <td>0.038179</td>\n",
       "      <td>-0.286680</td>\n",
       "      <td>-0.014166</td>\n",
       "      <td>-0.323080</td>\n",
       "    </tr>\n",
       "    <tr>\n",
       "      <th>CIT</th>\n",
       "      <td>0.136805</td>\n",
       "      <td>0.013117</td>\n",
       "      <td>-0.197440</td>\n",
       "      <td>-0.007710</td>\n",
       "      <td>0.037943</td>\n",
       "      <td>-0.139069</td>\n",
       "      <td>1.000000</td>\n",
       "      <td>-0.010506</td>\n",
       "      <td>0.210177</td>\n",
       "      <td>-0.154963</td>\n",
       "      <td>0.975068</td>\n",
       "      <td>0.025188</td>\n",
       "      <td>-0.000428</td>\n",
       "      <td>0.109111</td>\n",
       "      <td>0.011768</td>\n",
       "      <td>0.108761</td>\n",
       "    </tr>\n",
       "    <tr>\n",
       "      <th>MIG</th>\n",
       "      <td>-0.094053</td>\n",
       "      <td>0.051095</td>\n",
       "      <td>0.091173</td>\n",
       "      <td>0.202360</td>\n",
       "      <td>-0.000815</td>\n",
       "      <td>-0.016679</td>\n",
       "      <td>-0.010506</td>\n",
       "      <td>1.000000</td>\n",
       "      <td>0.041475</td>\n",
       "      <td>0.032566</td>\n",
       "      <td>-0.018573</td>\n",
       "      <td>0.016514</td>\n",
       "      <td>-0.003608</td>\n",
       "      <td>0.034611</td>\n",
       "      <td>-0.011250</td>\n",
       "      <td>0.020511</td>\n",
       "    </tr>\n",
       "    <tr>\n",
       "      <th>MIL</th>\n",
       "      <td>0.610013</td>\n",
       "      <td>0.710749</td>\n",
       "      <td>-0.486286</td>\n",
       "      <td>-0.026641</td>\n",
       "      <td>-0.102686</td>\n",
       "      <td>-0.650507</td>\n",
       "      <td>0.210177</td>\n",
       "      <td>0.041475</td>\n",
       "      <td>1.000000</td>\n",
       "      <td>-0.072090</td>\n",
       "      <td>0.217732</td>\n",
       "      <td>-0.041023</td>\n",
       "      <td>-0.047215</td>\n",
       "      <td>0.391905</td>\n",
       "      <td>0.084040</td>\n",
       "      <td>0.455615</td>\n",
       "    </tr>\n",
       "    <tr>\n",
       "      <th>ANC</th>\n",
       "      <td>-0.075151</td>\n",
       "      <td>-0.055516</td>\n",
       "      <td>0.067081</td>\n",
       "      <td>0.051846</td>\n",
       "      <td>-0.006058</td>\n",
       "      <td>0.037561</td>\n",
       "      <td>-0.154963</td>\n",
       "      <td>0.032566</td>\n",
       "      <td>-0.072090</td>\n",
       "      <td>1.000000</td>\n",
       "      <td>-0.160468</td>\n",
       "      <td>0.000405</td>\n",
       "      <td>0.001006</td>\n",
       "      <td>-0.050561</td>\n",
       "      <td>0.003481</td>\n",
       "      <td>-0.022187</td>\n",
       "    </tr>\n",
       "    <tr>\n",
       "      <th>NATIVITY</th>\n",
       "      <td>0.159861</td>\n",
       "      <td>0.026687</td>\n",
       "      <td>-0.212588</td>\n",
       "      <td>-0.018830</td>\n",
       "      <td>0.031085</td>\n",
       "      <td>-0.145389</td>\n",
       "      <td>0.975068</td>\n",
       "      <td>-0.018573</td>\n",
       "      <td>0.217732</td>\n",
       "      <td>-0.160468</td>\n",
       "      <td>1.000000</td>\n",
       "      <td>0.020730</td>\n",
       "      <td>-0.001856</td>\n",
       "      <td>0.109656</td>\n",
       "      <td>0.015864</td>\n",
       "      <td>0.110149</td>\n",
       "    </tr>\n",
       "    <tr>\n",
       "      <th>DEAR</th>\n",
       "      <td>-0.240264</td>\n",
       "      <td>-0.036743</td>\n",
       "      <td>0.100159</td>\n",
       "      <td>-0.004358</td>\n",
       "      <td>0.512855</td>\n",
       "      <td>0.063005</td>\n",
       "      <td>0.025188</td>\n",
       "      <td>0.016514</td>\n",
       "      <td>-0.041023</td>\n",
       "      <td>0.000405</td>\n",
       "      <td>0.020730</td>\n",
       "      <td>1.000000</td>\n",
       "      <td>0.231059</td>\n",
       "      <td>0.049433</td>\n",
       "      <td>0.034801</td>\n",
       "      <td>0.098217</td>\n",
       "    </tr>\n",
       "    <tr>\n",
       "      <th>DEYE</th>\n",
       "      <td>-0.127749</td>\n",
       "      <td>-0.002851</td>\n",
       "      <td>0.034025</td>\n",
       "      <td>-0.043709</td>\n",
       "      <td>0.405873</td>\n",
       "      <td>0.038179</td>\n",
       "      <td>-0.000428</td>\n",
       "      <td>-0.003608</td>\n",
       "      <td>-0.047215</td>\n",
       "      <td>0.001006</td>\n",
       "      <td>-0.001856</td>\n",
       "      <td>0.231059</td>\n",
       "      <td>1.000000</td>\n",
       "      <td>0.066936</td>\n",
       "      <td>-0.009537</td>\n",
       "      <td>0.072056</td>\n",
       "    </tr>\n",
       "    <tr>\n",
       "      <th>DREM</th>\n",
       "      <td>0.297545</td>\n",
       "      <td>0.508846</td>\n",
       "      <td>-0.243272</td>\n",
       "      <td>-0.090742</td>\n",
       "      <td>0.190759</td>\n",
       "      <td>-0.286680</td>\n",
       "      <td>0.109111</td>\n",
       "      <td>0.034611</td>\n",
       "      <td>0.391905</td>\n",
       "      <td>-0.050561</td>\n",
       "      <td>0.109656</td>\n",
       "      <td>0.049433</td>\n",
       "      <td>0.066936</td>\n",
       "      <td>1.000000</td>\n",
       "      <td>0.010203</td>\n",
       "      <td>0.265008</td>\n",
       "    </tr>\n",
       "    <tr>\n",
       "      <th>SEX</th>\n",
       "      <td>0.045604</td>\n",
       "      <td>0.020629</td>\n",
       "      <td>-0.037797</td>\n",
       "      <td>-0.041623</td>\n",
       "      <td>-0.004698</td>\n",
       "      <td>-0.014166</td>\n",
       "      <td>0.011768</td>\n",
       "      <td>-0.011250</td>\n",
       "      <td>0.084040</td>\n",
       "      <td>0.003481</td>\n",
       "      <td>0.015864</td>\n",
       "      <td>0.034801</td>\n",
       "      <td>-0.009537</td>\n",
       "      <td>0.010203</td>\n",
       "      <td>1.000000</td>\n",
       "      <td>-0.070236</td>\n",
       "    </tr>\n",
       "    <tr>\n",
       "      <th>ESR</th>\n",
       "      <td>0.108214</td>\n",
       "      <td>0.433160</td>\n",
       "      <td>-0.236155</td>\n",
       "      <td>-0.141054</td>\n",
       "      <td>0.209605</td>\n",
       "      <td>-0.323080</td>\n",
       "      <td>0.108761</td>\n",
       "      <td>0.020511</td>\n",
       "      <td>0.455615</td>\n",
       "      <td>-0.022187</td>\n",
       "      <td>0.110149</td>\n",
       "      <td>0.098217</td>\n",
       "      <td>0.072056</td>\n",
       "      <td>0.265008</td>\n",
       "      <td>-0.070236</td>\n",
       "      <td>1.000000</td>\n",
       "    </tr>\n",
       "  </tbody>\n",
       "</table>\n",
       "</div>"
      ],
      "text/plain": [
       "              AGEP      SCHL       MAR      RELP       DIS       ESP  \\\n",
       "AGEP      1.000000  0.526318 -0.652526 -0.160553 -0.319932 -0.495892   \n",
       "SCHL      0.526318  1.000000 -0.437045 -0.106178 -0.034417 -0.534254   \n",
       "MAR      -0.652526 -0.437045  1.000000  0.324343  0.084751  0.395482   \n",
       "RELP     -0.160553 -0.106178  0.324343  1.000000 -0.090447  0.028915   \n",
       "DIS      -0.319932 -0.034417  0.084751 -0.090447  1.000000  0.093754   \n",
       "ESP      -0.495892 -0.534254  0.395482  0.028915  0.093754  1.000000   \n",
       "CIT       0.136805  0.013117 -0.197440 -0.007710  0.037943 -0.139069   \n",
       "MIG      -0.094053  0.051095  0.091173  0.202360 -0.000815 -0.016679   \n",
       "MIL       0.610013  0.710749 -0.486286 -0.026641 -0.102686 -0.650507   \n",
       "ANC      -0.075151 -0.055516  0.067081  0.051846 -0.006058  0.037561   \n",
       "NATIVITY  0.159861  0.026687 -0.212588 -0.018830  0.031085 -0.145389   \n",
       "DEAR     -0.240264 -0.036743  0.100159 -0.004358  0.512855  0.063005   \n",
       "DEYE     -0.127749 -0.002851  0.034025 -0.043709  0.405873  0.038179   \n",
       "DREM      0.297545  0.508846 -0.243272 -0.090742  0.190759 -0.286680   \n",
       "SEX       0.045604  0.020629 -0.037797 -0.041623 -0.004698 -0.014166   \n",
       "ESR       0.108214  0.433160 -0.236155 -0.141054  0.209605 -0.323080   \n",
       "\n",
       "               CIT       MIG       MIL       ANC  NATIVITY      DEAR  \\\n",
       "AGEP      0.136805 -0.094053  0.610013 -0.075151  0.159861 -0.240264   \n",
       "SCHL      0.013117  0.051095  0.710749 -0.055516  0.026687 -0.036743   \n",
       "MAR      -0.197440  0.091173 -0.486286  0.067081 -0.212588  0.100159   \n",
       "RELP     -0.007710  0.202360 -0.026641  0.051846 -0.018830 -0.004358   \n",
       "DIS       0.037943 -0.000815 -0.102686 -0.006058  0.031085  0.512855   \n",
       "ESP      -0.139069 -0.016679 -0.650507  0.037561 -0.145389  0.063005   \n",
       "CIT       1.000000 -0.010506  0.210177 -0.154963  0.975068  0.025188   \n",
       "MIG      -0.010506  1.000000  0.041475  0.032566 -0.018573  0.016514   \n",
       "MIL       0.210177  0.041475  1.000000 -0.072090  0.217732 -0.041023   \n",
       "ANC      -0.154963  0.032566 -0.072090  1.000000 -0.160468  0.000405   \n",
       "NATIVITY  0.975068 -0.018573  0.217732 -0.160468  1.000000  0.020730   \n",
       "DEAR      0.025188  0.016514 -0.041023  0.000405  0.020730  1.000000   \n",
       "DEYE     -0.000428 -0.003608 -0.047215  0.001006 -0.001856  0.231059   \n",
       "DREM      0.109111  0.034611  0.391905 -0.050561  0.109656  0.049433   \n",
       "SEX       0.011768 -0.011250  0.084040  0.003481  0.015864  0.034801   \n",
       "ESR       0.108761  0.020511  0.455615 -0.022187  0.110149  0.098217   \n",
       "\n",
       "              DEYE      DREM       SEX       ESR  \n",
       "AGEP     -0.127749  0.297545  0.045604  0.108214  \n",
       "SCHL     -0.002851  0.508846  0.020629  0.433160  \n",
       "MAR       0.034025 -0.243272 -0.037797 -0.236155  \n",
       "RELP     -0.043709 -0.090742 -0.041623 -0.141054  \n",
       "DIS       0.405873  0.190759 -0.004698  0.209605  \n",
       "ESP       0.038179 -0.286680 -0.014166 -0.323080  \n",
       "CIT      -0.000428  0.109111  0.011768  0.108761  \n",
       "MIG      -0.003608  0.034611 -0.011250  0.020511  \n",
       "MIL      -0.047215  0.391905  0.084040  0.455615  \n",
       "ANC       0.001006 -0.050561  0.003481 -0.022187  \n",
       "NATIVITY -0.001856  0.109656  0.015864  0.110149  \n",
       "DEAR      0.231059  0.049433  0.034801  0.098217  \n",
       "DEYE      1.000000  0.066936 -0.009537  0.072056  \n",
       "DREM      0.066936  1.000000  0.010203  0.265008  \n",
       "SEX      -0.009537  0.010203  1.000000 -0.070236  \n",
       "ESR       0.072056  0.265008 -0.070236  1.000000  "
      ]
     },
     "execution_count": 13,
     "metadata": {},
     "output_type": "execute_result"
    }
   ],
   "source": [
    "data.corr()"
   ]
  },
  {
   "cell_type": "markdown",
   "id": "85706dc8a382086f",
   "metadata": {},
   "source": [
    "We note, for example, the correlation between the ``CIT`` and ``NATIVITY``."
   ]
  },
  {
   "cell_type": "markdown",
   "id": "411e0921c3961104",
   "metadata": {},
   "source": [
    "### Missing Values Reconstruction "
   ]
  },
  {
   "cell_type": "markdown",
   "id": "ff43accb44addea8",
   "metadata": {},
   "source": [
    "#### Analysis of  ``DEYE`` and ``DEAR``\n",
    "\n",
    "We substitute the NaN values of ``DEYE`` and ``DEAR`` with the mode of the class."
   ]
  },
  {
   "cell_type": "code",
   "execution_count": 14,
   "id": "b3fa783c4b7a7630",
   "metadata": {
    "ExecuteTime": {
     "end_time": "2024-05-23T16:43:33.409103Z",
     "start_time": "2024-05-23T16:43:33.354585Z"
    }
   },
   "outputs": [
    {
     "data": {
      "text/plain": [
       "AGEP            0\n",
       "SCHL        37203\n",
       "MAR             0\n",
       "RELP        37123\n",
       "DIS             0\n",
       "ESP             0\n",
       "CIT         37049\n",
       "MIG             0\n",
       "MIL             0\n",
       "ANC             0\n",
       "NATIVITY    37523\n",
       "DEAR            0\n",
       "DEYE            0\n",
       "DREM            0\n",
       "SEX             0\n",
       "ESR             0\n",
       "dtype: int64"
      ]
     },
     "execution_count": 14,
     "metadata": {},
     "output_type": "execute_result"
    }
   ],
   "source": [
    "data['DEYE'] = data['DEYE'].fillna(data['DEYE'].mode()[0])\n",
    "data['DEAR'] = data['DEAR'].fillna(data['DEYE'].mode()[0])\n",
    "data.isna().sum()"
   ]
  },
  {
   "cell_type": "markdown",
   "id": "bd12b297a04c9ac9",
   "metadata": {},
   "source": [
    "#### Analysis of ``CIT`` and ``NATIVITY``\n",
    "\n",
    "For notation purposes, we convert the NATIVITY class into a boolean one."
   ]
  },
  {
   "cell_type": "code",
   "execution_count": 15,
   "id": "9b0bf39dc6f263a8",
   "metadata": {
    "ExecuteTime": {
     "end_time": "2024-05-23T16:43:35.801761Z",
     "start_time": "2024-05-23T16:43:35.793098Z"
    }
   },
   "outputs": [],
   "source": [
    "data['NATIVITY'] = data['NATIVITY'] - 1"
   ]
  },
  {
   "cell_type": "markdown",
   "id": "d4237ae0f3b2e9ff",
   "metadata": {},
   "source": [
    "From the following scatterplot is possible to notice that NATIVITY and CIT carry similar information, we attempt to reconstruct the missing information in one class from the other."
   ]
  },
  {
   "cell_type": "code",
   "execution_count": 16,
   "id": "7d1f3b46e1bef88",
   "metadata": {
    "ExecuteTime": {
     "end_time": "2024-05-23T14:24:56.722560Z",
     "start_time": "2024-05-23T14:24:45.610703Z"
    }
   },
   "outputs": [
    {
     "data": {
      "text/plain": [
       "array([[<Axes: xlabel='CIT', ylabel='CIT'>,\n",
       "        <Axes: xlabel='NATIVITY', ylabel='CIT'>],\n",
       "       [<Axes: xlabel='CIT', ylabel='NATIVITY'>,\n",
       "        <Axes: xlabel='NATIVITY', ylabel='NATIVITY'>]], dtype=object)"
      ]
     },
     "execution_count": 16,
     "metadata": {},
     "output_type": "execute_result"
    },
    {
     "data": {
      "image/png": "[encoded data removed]",
      "text/plain": [
       "<Figure size 640x480 with 4 Axes>"
      ]
     },
     "metadata": {},
     "output_type": "display_data"
    }
   ],
   "source": [
    "pd.plotting.scatter_matrix(data[['CIT','NATIVITY']])"
   ]
  },
  {
   "cell_type": "markdown",
   "id": "147786f3e23c4a5f",
   "metadata": {},
   "source": [
    "\n",
    "Firstly, we check the number of instances in which both of the classes are missing values. "
   ]
  },
  {
   "cell_type": "code",
   "execution_count": 17,
   "id": "8b6de7ffaaa9c982",
   "metadata": {
    "ExecuteTime": {
     "end_time": "2024-05-23T16:43:45.352511Z",
     "start_time": "2024-05-23T16:43:45.342733Z"
    }
   },
   "outputs": [
    {
     "name": "stdout",
     "output_type": "stream",
     "text": [
      "The amount of such instances is:  1862\n"
     ]
    }
   ],
   "source": [
    "cond = data['CIT'].isna() & data['NATIVITY'].isna()\n",
    "print('The amount of such instances is: ', cond.sum())"
   ]
  },
  {
   "cell_type": "markdown",
   "id": "ee00642dc603091",
   "metadata": {},
   "source": [
    "We see that the number of these specific instances is negligible with respect to the total amount of data points, therefore we drop them."
   ]
  },
  {
   "cell_type": "code",
   "execution_count": 18,
   "id": "414226e89df0f437",
   "metadata": {
    "ExecuteTime": {
     "end_time": "2024-05-23T16:43:47.181510Z",
     "start_time": "2024-05-23T16:43:47.123477Z"
    }
   },
   "outputs": [],
   "source": [
    "data = data.loc[~cond]"
   ]
  },
  {
   "cell_type": "markdown",
   "id": "504d4dcfd94be16e",
   "metadata": {},
   "source": [
    "From the previous scatterplot (or the dictionary) it is possible to notice that ``NATIVITY`` is uniquely determined by ``CIT``. Because of this we fill the missing values of ``NATIVITY`` from the corresponding values of ``CIT``. "
   ]
  },
  {
   "cell_type": "code",
   "execution_count": 19,
   "id": "993af1c9c50da206",
   "metadata": {
    "ExecuteTime": {
     "end_time": "2024-05-23T16:43:49.103638Z",
     "start_time": "2024-05-23T16:43:49.083652Z"
    }
   },
   "outputs": [],
   "source": [
    "data.loc[(data['NATIVITY'].isnull()) & (data['CIT']<4), 'NATIVITY'] = 0\n",
    "data.loc[(data['NATIVITY'].isnull()) & (data['CIT']>3), 'NATIVITY'] = 1"
   ]
  },
  {
   "cell_type": "markdown",
   "id": "e5022653",
   "metadata": {},
   "source": [
    "From the scatterplot we see that there are two classes of ``CIT``. \n",
    "\n",
    "* If ``NATIVITY`` is 0, then ``CIT`` is either 1, 2 or 3; from the histogram the most likely is 1, which we choose to fill the missing ``CIT`` values.\n",
    "* If ``NATIVITY`` is 1, then ``CIT`` is either 4 or 5; from the histogram we notice that they are evenly distributed, consequently we fill the ``CIT`` missing values by randomly sampling from {4,5}."
   ]
  },
  {
   "cell_type": "code",
   "execution_count": 20,
   "id": "578497502b0c5dd",
   "metadata": {
    "ExecuteTime": {
     "end_time": "2024-05-23T16:43:51.056119Z",
     "start_time": "2024-05-23T16:43:51.009585Z"
    }
   },
   "outputs": [
    {
     "data": {
      "text/plain": [
       "AGEP            0\n",
       "SCHL        37103\n",
       "MAR             0\n",
       "RELP        37036\n",
       "DIS             0\n",
       "ESP             0\n",
       "CIT             0\n",
       "MIG             0\n",
       "MIL             0\n",
       "ANC             0\n",
       "NATIVITY        0\n",
       "DEAR            0\n",
       "DEYE            0\n",
       "DREM            0\n",
       "SEX             0\n",
       "ESR             0\n",
       "dtype: int64"
      ]
     },
     "execution_count": 20,
     "metadata": {},
     "output_type": "execute_result"
    }
   ],
   "source": [
    "data.loc[(data['CIT'].isnull()) & (data['NATIVITY']==0), 'CIT'] = 1\n",
    "data.loc[(data['CIT'].isnull()) & (data['NATIVITY']==1), 'CIT'] = np.random.randint(4,5)\n",
    "data.isna().sum()"
   ]
  },
  {
   "cell_type": "markdown",
   "id": "37cf0c382fc02d1a",
   "metadata": {},
   "source": [
    "#### Analysis of ``RELP``\n",
    "\n",
    "From the dictionary, we don't see this class as particularly relevant, reason for which we decide to drop it. "
   ]
  },
  {
   "cell_type": "code",
   "execution_count": 21,
   "id": "8cdf9a79",
   "metadata": {
    "ExecuteTime": {
     "end_time": "2024-05-23T16:43:54.042519Z",
     "start_time": "2024-05-23T16:43:53.972233Z"
    }
   },
   "outputs": [
    {
     "data": {
      "text/plain": [
       "AGEP            0\n",
       "SCHL        37103\n",
       "MAR             0\n",
       "DIS             0\n",
       "ESP             0\n",
       "CIT             0\n",
       "MIG             0\n",
       "MIL             0\n",
       "ANC             0\n",
       "NATIVITY        0\n",
       "DEAR            0\n",
       "DEYE            0\n",
       "DREM            0\n",
       "SEX             0\n",
       "ESR             0\n",
       "dtype: int64"
      ]
     },
     "execution_count": 21,
     "metadata": {},
     "output_type": "execute_result"
    }
   ],
   "source": [
    "data=data.drop('RELP', axis=1)\n",
    "data.isna().sum()"
   ]
  },
  {
   "cell_type": "markdown",
   "id": "60085bb9",
   "metadata": {},
   "source": [
    "#### Analysis of ``SCHL``\n",
    "\n",
    "From the following scatterplot, it is possible to infer that the classes ``SCHL`` and ``AGEP`` present correlation since ``AGEP`` imposes an upper bound on ``SCHL``."
   ]
  },
  {
   "cell_type": "code",
   "execution_count": 22,
   "id": "d26951e5",
   "metadata": {
    "ExecuteTime": {
     "end_time": "2024-05-23T16:44:09.378389Z",
     "start_time": "2024-05-23T16:43:56.256231Z"
    }
   },
   "outputs": [
    {
     "data": {
      "text/plain": [
       "array([[<Axes: xlabel='SCHL', ylabel='SCHL'>,\n",
       "        <Axes: xlabel='AGEP', ylabel='SCHL'>],\n",
       "       [<Axes: xlabel='SCHL', ylabel='AGEP'>,\n",
       "        <Axes: xlabel='AGEP', ylabel='AGEP'>]], dtype=object)"
      ]
     },
     "execution_count": 22,
     "metadata": {},
     "output_type": "execute_result"
    },
    {
     "data": {
      "image/png": "[encoded data removed]",
      "text/plain": [
       "<Figure size 640x480 with 4 Axes>"
      ]
     },
     "metadata": {},
     "output_type": "display_data"
    }
   ],
   "source": [
    "pd.plotting.scatter_matrix(data[['SCHL','AGEP']])"
   ]
  },
  {
   "cell_type": "markdown",
   "id": "a11981c6def62383",
   "metadata": {},
   "source": [
    "Given the meaning of the class, we would opt for replacing the missing values of ``SCHL`` with the median value of ``SCHL`` at the corresponding ``AGEP``. However, the fact that the median in principle is not an integer, we would introduce a bias by rounding to the nearest integer; therefore we choose the mode."
   ]
  },
  {
   "cell_type": "code",
   "execution_count": 23,
   "id": "e3288c4f",
   "metadata": {
    "ExecuteTime": {
     "end_time": "2024-05-23T16:44:09.614369Z",
     "start_time": "2024-05-23T16:44:09.379396Z"
    }
   },
   "outputs": [
    {
     "data": {
      "text/plain": [
       "AGEP        0\n",
       "SCHL        0\n",
       "MAR         0\n",
       "DIS         0\n",
       "ESP         0\n",
       "CIT         0\n",
       "MIG         0\n",
       "MIL         0\n",
       "ANC         0\n",
       "NATIVITY    0\n",
       "DEAR        0\n",
       "DEYE        0\n",
       "DREM        0\n",
       "SEX         0\n",
       "ESR         0\n",
       "dtype: int64"
      ]
     },
     "execution_count": 23,
     "metadata": {},
     "output_type": "execute_result"
    }
   ],
   "source": [
    "data['SCHL_mode']=data.groupby('AGEP')['SCHL'].transform(lambda x: x.mode().iloc[0])\n",
    "data['SCHL']=data['SCHL'].fillna(data['SCHL_mode'])\n",
    "data.drop('SCHL_mode', axis=1, inplace=True)\n",
    "data.isna().sum()"
   ]
  },
  {
   "cell_type": "markdown",
   "id": "fb6dda8f",
   "metadata": {},
   "source": [
    "## 2) CLUSTERING\n",
    "\n",
    "We now attempt to classify the target class by means of unsupervised algorithms. The given target variable is ``ESR``, therefore we save it in a separate object."
   ]
  },
  {
   "cell_type": "code",
   "execution_count": 24,
   "id": "f32d1150",
   "metadata": {
    "ExecuteTime": {
     "end_time": "2024-05-23T16:44:16.877723Z",
     "start_time": "2024-05-23T16:44:16.823791Z"
    }
   },
   "outputs": [],
   "source": [
    "data_target = data['ESR']\n",
    "data.drop('ESR', axis=1, inplace=True)"
   ]
  },
  {
   "cell_type": "markdown",
   "id": "76dae806",
   "metadata": {},
   "source": [
    "We start by normalizing the data."
   ]
  },
  {
   "cell_type": "code",
   "execution_count": 25,
   "id": "42c095c2",
   "metadata": {
    "ExecuteTime": {
     "end_time": "2024-05-23T16:44:19.618387Z",
     "start_time": "2024-05-23T16:44:19.434133Z"
    }
   },
   "outputs": [
    {
     "data": {
      "text/plain": [
       "StandardScaler(copy=True, with_mean=True, with_std=True)"
      ]
     },
     "execution_count": 25,
     "metadata": {},
     "output_type": "execute_result"
    }
   ],
   "source": [
    "from sklearn.preprocessing import StandardScaler, MinMaxScaler\n",
    "scaler = StandardScaler()\n",
    "scaler.fit(data.values)"
   ]
  },
  {
   "cell_type": "code",
   "execution_count": 26,
   "id": "fb6a11e5",
   "metadata": {
    "ExecuteTime": {
     "end_time": "2024-05-23T16:44:23.178993Z",
     "start_time": "2024-05-23T16:44:23.081352Z"
    }
   },
   "outputs": [],
   "source": [
    "data_scaled=scaler.transform(data.values)"
   ]
  },
  {
   "cell_type": "markdown",
   "id": "72946fc3",
   "metadata": {},
   "source": [
    "### K-means\n",
    "\n",
    "The first algorithm we test is the K-Means algorithm with two clusters."
   ]
  },
  {
   "cell_type": "code",
   "execution_count": 27,
   "id": "141dcf5e",
   "metadata": {
    "ExecuteTime": {
     "end_time": "2024-05-23T14:59:42.715447Z",
     "start_time": "2024-05-23T14:59:42.712108Z"
    }
   },
   "outputs": [],
   "source": [
    "from sklearn.cluster import KMeans"
   ]
  },
  {
   "cell_type": "code",
   "execution_count": 28,
   "id": "902d180b",
   "metadata": {
    "ExecuteTime": {
     "end_time": "2024-05-23T16:23:19.406500Z",
     "start_time": "2024-05-23T16:23:10.809357Z"
    }
   },
   "outputs": [
    {
     "data": {
      "text/plain": [
       "KMeans(algorithm='auto', copy_x=True, init='k-means++', max_iter=300,\n",
       "       n_clusters=2, n_init=50, n_jobs=None, precompute_distances='auto',\n",
       "       random_state=None, tol=0.0001, verbose=0)"
      ]
     },
     "execution_count": 28,
     "metadata": {},
     "output_type": "execute_result"
    }
   ],
   "source": [
    "kmeans = KMeans(n_clusters=2, n_init=50, max_iter=300)\n",
    "kmeans.fit(data_scaled)"
   ]
  },
  {
   "cell_type": "code",
   "execution_count": 29,
   "id": "0243bf9e",
   "metadata": {
    "ExecuteTime": {
     "end_time": "2024-05-23T15:00:30.458128Z",
     "start_time": "2024-05-23T15:00:30.442457Z"
    }
   },
   "outputs": [
    {
     "data": {
      "text/plain": [
       "(array([0, 1]), array([593195, 151279], dtype=int64))"
      ]
     },
     "execution_count": 29,
     "metadata": {},
     "output_type": "execute_result"
    }
   ],
   "source": [
    "np.unique(kmeans.labels_, return_counts=True)"
   ]
  },
  {
   "cell_type": "markdown",
   "id": "18c27e0f",
   "metadata": {},
   "source": [
    "#### Visualization of Clusters \n",
    "\n",
    "We visualize the clusters by the method of parallel coordinates."
   ]
  },
  {
   "cell_type": "code",
   "execution_count": 30,
   "id": "84801c24",
   "metadata": {
    "ExecuteTime": {
     "end_time": "2024-05-23T15:02:47.061309Z",
     "start_time": "2024-05-23T15:02:46.891627Z"
    }
   },
   "outputs": [
    {
     "data": {
      "image/png": "[encoded data removed]",
      "text/plain": [
       "<Figure size 800x400 with 1 Axes>"
      ]
     },
     "metadata": {},
     "output_type": "display_data"
    }
   ],
   "source": [
    "centers = kmeans.cluster_centers_\n",
    "\n",
    "plt.figure(figsize=(8, 4))\n",
    "for i in range(0, len(centers)):\n",
    "    plt.plot(centers[i], marker='o', label='Cluster %s' % i)\n",
    "plt.tick_params(axis='both', which='major', labelsize=15)\n",
    "plt.xticks(range(0, len(data.columns)), data.columns, fontsize=8)\n",
    "plt.legend(fontsize=15)\n",
    "plt.show()"
   ]
  },
  {
   "cell_type": "markdown",
   "id": "1f218979",
   "metadata": {},
   "source": [
    "The clustering algorithm provides the best separation in correspondence of the ``AGEP``, ``SCHL``, ``ESP`` and ``MIL`` classes. \n",
    "\n",
    "We plot the clusters on some of these subspaces comparing with the target variable."
   ]
  },
  {
   "cell_type": "code",
   "execution_count": 31,
   "id": "747be09836329e6b",
   "metadata": {
    "ExecuteTime": {
     "end_time": "2024-05-23T15:31:29.798547Z",
     "start_time": "2024-05-23T15:31:02.221884Z"
    }
   },
   "outputs": [
    {
     "data": {
      "image/png": "[encoded data removed]",
      "text/plain": [
       "<Figure size 1200x400 with 2 Axes>"
      ]
     },
     "metadata": {},
     "output_type": "display_data"
    }
   ],
   "source": [
    "fig, (ax1, ax2) = plt.subplots(1, 2, figsize=(12, 4))\n",
    "\n",
    "\n",
    "ax1.scatter(data['AGEP'], data['MIL'], \n",
    "           c=kmeans.labels_, s=20)\n",
    "ax1.tick_params(axis='both', which='major', labelsize=10)\n",
    "ax1.set_xlabel('AGEP', fontsize=12)\n",
    "ax1.set_ylabel('MIL', fontsize=12)\n",
    "ax1.set_title('K-Means Clustering', fontsize=14)\n",
    "\n",
    "ax2.scatter(data['AGEP'], data['MIL'], \n",
    "           c=data_target, s=20)\n",
    "ax2.tick_params(axis='both', which='major', labelsize=10)\n",
    "ax2.set_xlabel('AGEP', fontsize=12)\n",
    "ax2.set_ylabel('MIL', fontsize=12)\n",
    "ax2.set_title('Ground Truth', fontsize=14)\n",
    "\n",
    "plt.show()"
   ]
  },
  {
   "cell_type": "code",
   "execution_count": 32,
   "id": "72df6602d0042d18",
   "metadata": {
    "ExecuteTime": {
     "end_time": "2024-05-23T15:31:57.430077Z",
     "start_time": "2024-05-23T15:31:29.799552Z"
    }
   },
   "outputs": [
    {
     "data": {
      "image/png": "[encoded data removed]",
      "text/plain": [
       "<Figure size 1200x400 with 2 Axes>"
      ]
     },
     "metadata": {},
     "output_type": "display_data"
    }
   ],
   "source": [
    "fig, (ax1, ax2) = plt.subplots(1, 2, figsize=(12, 4))\n",
    "\n",
    "\n",
    "ax1.scatter(data['ESP'], data['SCHL'], \n",
    "           c=kmeans.labels_, s=20)\n",
    "ax1.tick_params(axis='both', which='major', labelsize=10)\n",
    "ax1.set_xlabel('ESP', fontsize=12)\n",
    "ax1.set_ylabel('SCHL', fontsize=12)\n",
    "ax1.set_title('K-Means Clustering', fontsize=14)\n",
    "\n",
    "ax2.scatter(data['ESP'], data['SCHL'], \n",
    "           c=data_target, s=20)\n",
    "ax2.tick_params(axis='both', which='major', labelsize=10)\n",
    "ax2.set_xlabel('ESP', fontsize=12)\n",
    "ax2.set_ylabel('SCHL', fontsize=12)\n",
    "ax2.set_title('Ground Truth', fontsize=14)\n",
    "\n",
    "plt.show()"
   ]
  },
  {
   "cell_type": "markdown",
   "id": "5c113518d6ed6cd0",
   "metadata": {},
   "source": [
    "We already note that the algorithm does not capture the ground truth correctly.\n",
    "\n",
    "We visualize the clusters with a spider plot."
   ]
  },
  {
   "cell_type": "code",
   "execution_count": 33,
   "id": "fcf49b1f",
   "metadata": {
    "ExecuteTime": {
     "end_time": "2024-05-23T15:58:15.552331Z",
     "start_time": "2024-05-23T15:58:15.102532Z"
    }
   },
   "outputs": [
    {
     "name": "stderr",
     "output_type": "stream",
     "text": [
      "c:\\ProgramData\\Anaconda3\\lib\\site-packages\\ipykernel_launcher.py:10: MatplotlibDeprecationWarning: Adding an axes using the same arguments as a previous axes currently reuses the earlier instance.  In a future version, a new instance will always be created and returned.  Meanwhile, this warning can be suppressed, and the future behavior ensured, by passing a unique label to each axes instance.\n",
      "  # Remove the CWD from sys.path while we load stuff.\n"
     ]
    },
    {
     "data": {
      "image/png": "[encoded data removed]",
      "text/plain": [
       "<Figure size 640x480 with 1 Axes>"
      ]
     },
     "metadata": {},
     "output_type": "display_data"
    }
   ],
   "source": [
    "from math import pi\n",
    " \n",
    "N = len(data.columns)\n",
    "\n",
    "for i in range(0, len(centers)):\n",
    "    angles = [n / float(N) * 2 * pi for n in range(N)]\n",
    "    values = centers[i].tolist()\n",
    "    values += values[:1]\n",
    "    angles += angles[:1]\n",
    "    ax = plt.subplot(polar=True)\n",
    "    plt.xticks(angles[:-1], data.columns, color='grey', size=8) \n",
    "    ax.plot(angles, values, linewidth=1, linestyle='solid')\n",
    "    ax.fill(angles, values, 'b', alpha=0.1)\n"
   ]
  },
  {
   "cell_type": "markdown",
   "id": "5561d9c41b59b3e2",
   "metadata": {},
   "source": [
    "#### Sound evaluation\n",
    "\n",
    "We evaluate the clusters with internal evaluation metrics."
   ]
  },
  {
   "cell_type": "code",
   "execution_count": 34,
   "id": "ee0052a1e8480b82",
   "metadata": {
    "ExecuteTime": {
     "end_time": "2024-05-23T16:33:04.535259Z",
     "start_time": "2024-05-23T16:32:58.122717Z"
    }
   },
   "outputs": [
    {
     "name": "stdout",
     "output_type": "stream",
     "text": [
      "SSE = 8183664\n",
      "Separation = 1.43\n",
      "Silhouette 0.299\n"
     ]
    }
   ],
   "source": [
    "print('SSE = %.0f' % kmeans.inertia_)\n",
    "print('Separation = %.2f' % metrics.davies_bouldin_score(data_scaled, kmeans.labels_))\n",
    "#sample subset of data to compute silhouette for computational reasons\n",
    "N=20000\n",
    "indices = np.random.choice(len(data_scaled), size=N, replace=False)\n",
    "data_scaled_random = data_scaled[indices]\n",
    "kmeans.labels_random = kmeans.labels_[indices]\n",
    "print('Silhouette %.3f' % metrics.silhouette_score(data_scaled_random, kmeans.labels_random))"
   ]
  },
  {
   "cell_type": "markdown",
   "id": "1f7ba39eea4df98b",
   "metadata": {},
   "source": [
    "And with external ones."
   ]
  },
  {
   "cell_type": "code",
   "execution_count": 35,
   "id": "66feea8412ce266",
   "metadata": {
    "ExecuteTime": {
     "end_time": "2024-05-23T16:22:27.773771Z",
     "start_time": "2024-05-23T16:22:26.664043Z"
    }
   },
   "outputs": [
    {
     "name": "stdout",
     "output_type": "stream",
     "text": [
      "Rand score = 0.09\n",
      "Homogeneity score = 0.19\n",
      "Completeness score = 0.26\n",
      "Harmonic mean between completeness and homogeneity = 0.23\n"
     ]
    }
   ],
   "source": [
    "print('Rand score = %.2f' % metrics.adjusted_rand_score(data_target, kmeans.labels_))\n",
    "print('Homogeneity score = %.2f' % metrics.homogeneity_score(data_target, kmeans.labels_)) \n",
    "print('Completeness score = %.2f' % metrics.completeness_score(data_target, kmeans.labels_))\n",
    "print('Harmonic mean between completeness and homogeneity = %.2f' % metrics.v_measure_score(data_target, kmeans.labels_, beta=2))"
   ]
  },
  {
   "cell_type": "markdown",
   "id": "5b9b707e30c7954e",
   "metadata": {},
   "source": [
    "Now we compute the confusion matrix."
   ]
  },
  {
   "cell_type": "code",
   "execution_count": 36,
   "id": "a2f6430cd19c53fc",
   "metadata": {
    "ExecuteTime": {
     "end_time": "2024-05-23T16:36:32.408421Z",
     "start_time": "2024-05-23T16:36:32.286467Z"
    }
   },
   "outputs": [
    {
     "data": {
      "text/plain": [
       "array([[257497, 149710],\n",
       "       [335698,   1569]], dtype=int64)"
      ]
     },
     "execution_count": 36,
     "metadata": {},
     "output_type": "execute_result"
    }
   ],
   "source": [
    "metrics.confusion_matrix(data_target, kmeans.labels_)"
   ]
  },
  {
   "cell_type": "markdown",
   "id": "3057f72d6912ef2b",
   "metadata": {},
   "source": []
  },
  {
   "cell_type": "markdown",
   "id": "60d968238f744868",
   "metadata": {},
   "source": [
    "This metrics confirm that the algorithm does not classify correctly the target variable."
   ]
  },
  {
   "cell_type": "markdown",
   "id": "e484be8ec04b4e90",
   "metadata": {},
   "source": [
    "\n",
    "#### Parameter Tuning"
   ]
  },
  {
   "cell_type": "markdown",
   "id": "8622908cfe852253",
   "metadata": {},
   "source": [
    "Now we evaluate the SSE for different ``n_clusters`` values in order to find the optimal number of ``n_clusters``."
   ]
  },
  {
   "cell_type": "code",
   "execution_count": 37,
   "id": "87b9008a908831cb",
   "metadata": {
    "ExecuteTime": {
     "end_time": "2024-05-23T16:11:51.781513Z",
     "start_time": "2024-05-23T16:07:41.614989Z"
    }
   },
   "outputs": [
    {
     "ename": "KeyboardInterrupt",
     "evalue": "",
     "output_type": "error",
     "traceback": [
      "\u001b[1;31m---------------------------------------------------------------------------\u001b[0m",
      "\u001b[1;31mKeyboardInterrupt\u001b[0m                         Traceback (most recent call last)",
      "\u001b[1;32m~\\AppData\\Local\\Temp\\ipykernel_13052\\1359071360.py\u001b[0m in \u001b[0;36m<module>\u001b[1;34m\u001b[0m\n\u001b[0;32m      3\u001b[0m \u001b[1;32mfor\u001b[0m \u001b[0mk\u001b[0m \u001b[1;32min\u001b[0m \u001b[0mrange\u001b[0m\u001b[1;33m(\u001b[0m\u001b[1;36m2\u001b[0m\u001b[1;33m,\u001b[0m \u001b[0mmax_k\u001b[0m \u001b[1;33m+\u001b[0m \u001b[1;36m1\u001b[0m\u001b[1;33m)\u001b[0m\u001b[1;33m:\u001b[0m\u001b[1;33m\u001b[0m\u001b[1;33m\u001b[0m\u001b[0m\n\u001b[0;32m      4\u001b[0m     \u001b[0mkmeans\u001b[0m \u001b[1;33m=\u001b[0m \u001b[0mKMeans\u001b[0m\u001b[1;33m(\u001b[0m\u001b[0mn_clusters\u001b[0m\u001b[1;33m=\u001b[0m\u001b[0mk\u001b[0m\u001b[1;33m,\u001b[0m \u001b[0mn_init\u001b[0m\u001b[1;33m=\u001b[0m\u001b[1;36m10\u001b[0m\u001b[1;33m,\u001b[0m \u001b[0mmax_iter\u001b[0m\u001b[1;33m=\u001b[0m\u001b[1;36m300\u001b[0m\u001b[1;33m)\u001b[0m\u001b[1;33m\u001b[0m\u001b[1;33m\u001b[0m\u001b[0m\n\u001b[1;32m----> 5\u001b[1;33m     \u001b[0mkmeans\u001b[0m\u001b[1;33m.\u001b[0m\u001b[0mfit\u001b[0m\u001b[1;33m(\u001b[0m\u001b[0mdata_scaled\u001b[0m\u001b[1;33m)\u001b[0m\u001b[1;33m\u001b[0m\u001b[1;33m\u001b[0m\u001b[0m\n\u001b[0m\u001b[0;32m      6\u001b[0m \u001b[1;33m\u001b[0m\u001b[0m\n\u001b[0;32m      7\u001b[0m     \u001b[0msse\u001b[0m \u001b[1;33m=\u001b[0m \u001b[0mkmeans\u001b[0m\u001b[1;33m.\u001b[0m\u001b[0minertia_\u001b[0m\u001b[1;33m\u001b[0m\u001b[1;33m\u001b[0m\u001b[0m\n",
      "\u001b[1;32mc:\\ProgramData\\Anaconda3\\lib\\site-packages\\sklearn\\cluster\\k_means_.py\u001b[0m in \u001b[0;36mfit\u001b[1;34m(self, X, y, sample_weight)\u001b[0m\n\u001b[0;32m    970\u001b[0m                 \u001b[0mtol\u001b[0m\u001b[1;33m=\u001b[0m\u001b[0mself\u001b[0m\u001b[1;33m.\u001b[0m\u001b[0mtol\u001b[0m\u001b[1;33m,\u001b[0m \u001b[0mrandom_state\u001b[0m\u001b[1;33m=\u001b[0m\u001b[0mrandom_state\u001b[0m\u001b[1;33m,\u001b[0m \u001b[0mcopy_x\u001b[0m\u001b[1;33m=\u001b[0m\u001b[0mself\u001b[0m\u001b[1;33m.\u001b[0m\u001b[0mcopy_x\u001b[0m\u001b[1;33m,\u001b[0m\u001b[1;33m\u001b[0m\u001b[1;33m\u001b[0m\u001b[0m\n\u001b[0;32m    971\u001b[0m                 \u001b[0mn_jobs\u001b[0m\u001b[1;33m=\u001b[0m\u001b[0mself\u001b[0m\u001b[1;33m.\u001b[0m\u001b[0mn_jobs\u001b[0m\u001b[1;33m,\u001b[0m \u001b[0malgorithm\u001b[0m\u001b[1;33m=\u001b[0m\u001b[0mself\u001b[0m\u001b[1;33m.\u001b[0m\u001b[0malgorithm\u001b[0m\u001b[1;33m,\u001b[0m\u001b[1;33m\u001b[0m\u001b[1;33m\u001b[0m\u001b[0m\n\u001b[1;32m--> 972\u001b[1;33m                 return_n_iter=True)\n\u001b[0m\u001b[0;32m    973\u001b[0m         \u001b[1;32mreturn\u001b[0m \u001b[0mself\u001b[0m\u001b[1;33m\u001b[0m\u001b[1;33m\u001b[0m\u001b[0m\n\u001b[0;32m    974\u001b[0m \u001b[1;33m\u001b[0m\u001b[0m\n",
      "\u001b[1;32mc:\\ProgramData\\Anaconda3\\lib\\site-packages\\sklearn\\cluster\\k_means_.py\u001b[0m in \u001b[0;36mk_means\u001b[1;34m(X, n_clusters, sample_weight, init, precompute_distances, n_init, max_iter, verbose, tol, random_state, copy_x, n_jobs, algorithm, return_n_iter)\u001b[0m\n\u001b[0;32m    379\u001b[0m                 \u001b[0mverbose\u001b[0m\u001b[1;33m=\u001b[0m\u001b[0mverbose\u001b[0m\u001b[1;33m,\u001b[0m \u001b[0mprecompute_distances\u001b[0m\u001b[1;33m=\u001b[0m\u001b[0mprecompute_distances\u001b[0m\u001b[1;33m,\u001b[0m\u001b[1;33m\u001b[0m\u001b[1;33m\u001b[0m\u001b[0m\n\u001b[0;32m    380\u001b[0m                 \u001b[0mtol\u001b[0m\u001b[1;33m=\u001b[0m\u001b[0mtol\u001b[0m\u001b[1;33m,\u001b[0m \u001b[0mx_squared_norms\u001b[0m\u001b[1;33m=\u001b[0m\u001b[0mx_squared_norms\u001b[0m\u001b[1;33m,\u001b[0m\u001b[1;33m\u001b[0m\u001b[1;33m\u001b[0m\u001b[0m\n\u001b[1;32m--> 381\u001b[1;33m                 random_state=random_state)\n\u001b[0m\u001b[0;32m    382\u001b[0m             \u001b[1;31m# determine if these results are the best so far\u001b[0m\u001b[1;33m\u001b[0m\u001b[1;33m\u001b[0m\u001b[1;33m\u001b[0m\u001b[0m\n\u001b[0;32m    383\u001b[0m             \u001b[1;32mif\u001b[0m \u001b[0mbest_inertia\u001b[0m \u001b[1;32mis\u001b[0m \u001b[1;32mNone\u001b[0m \u001b[1;32mor\u001b[0m \u001b[0minertia\u001b[0m \u001b[1;33m<\u001b[0m \u001b[0mbest_inertia\u001b[0m\u001b[1;33m:\u001b[0m\u001b[1;33m\u001b[0m\u001b[1;33m\u001b[0m\u001b[0m\n",
      "\u001b[1;32mc:\\ProgramData\\Anaconda3\\lib\\site-packages\\sklearn\\cluster\\k_means_.py\u001b[0m in \u001b[0;36m_kmeans_single_elkan\u001b[1;34m(X, sample_weight, n_clusters, max_iter, init, verbose, x_squared_norms, random_state, tol, precompute_distances)\u001b[0m\n\u001b[0;32m    443\u001b[0m     centers, labels, n_iter = k_means_elkan(X, checked_sample_weight,\n\u001b[0;32m    444\u001b[0m                                             \u001b[0mn_clusters\u001b[0m\u001b[1;33m,\u001b[0m \u001b[0mcenters\u001b[0m\u001b[1;33m,\u001b[0m \u001b[0mtol\u001b[0m\u001b[1;33m=\u001b[0m\u001b[0mtol\u001b[0m\u001b[1;33m,\u001b[0m\u001b[1;33m\u001b[0m\u001b[1;33m\u001b[0m\u001b[0m\n\u001b[1;32m--> 445\u001b[1;33m                                             max_iter=max_iter, verbose=verbose)\n\u001b[0m\u001b[0;32m    446\u001b[0m     \u001b[1;32mif\u001b[0m \u001b[0msample_weight\u001b[0m \u001b[1;32mis\u001b[0m \u001b[1;32mNone\u001b[0m\u001b[1;33m:\u001b[0m\u001b[1;33m\u001b[0m\u001b[1;33m\u001b[0m\u001b[0m\n\u001b[0;32m    447\u001b[0m         \u001b[0minertia\u001b[0m \u001b[1;33m=\u001b[0m \u001b[0mnp\u001b[0m\u001b[1;33m.\u001b[0m\u001b[0msum\u001b[0m\u001b[1;33m(\u001b[0m\u001b[1;33m(\u001b[0m\u001b[0mX\u001b[0m \u001b[1;33m-\u001b[0m \u001b[0mcenters\u001b[0m\u001b[1;33m[\u001b[0m\u001b[0mlabels\u001b[0m\u001b[1;33m]\u001b[0m\u001b[1;33m)\u001b[0m \u001b[1;33m**\u001b[0m \u001b[1;36m2\u001b[0m\u001b[1;33m,\u001b[0m \u001b[0mdtype\u001b[0m\u001b[1;33m=\u001b[0m\u001b[0mnp\u001b[0m\u001b[1;33m.\u001b[0m\u001b[0mfloat64\u001b[0m\u001b[1;33m)\u001b[0m\u001b[1;33m\u001b[0m\u001b[1;33m\u001b[0m\u001b[0m\n",
      "\u001b[1;32msklearn\\cluster\\_k_means_elkan.pyx\u001b[0m in \u001b[0;36msklearn.cluster._k_means_elkan.k_means_elkan\u001b[1;34m()\u001b[0m\n",
      "\u001b[1;32mc:\\ProgramData\\Anaconda3\\lib\\site-packages\\numpy\\core\\fromnumeric.py\u001b[0m in \u001b[0;36msum\u001b[1;34m(a, axis, dtype, out, keepdims, initial)\u001b[0m\n\u001b[0;32m   1964\u001b[0m \u001b[1;33m\u001b[0m\u001b[0m\n\u001b[0;32m   1965\u001b[0m \u001b[1;33m\u001b[0m\u001b[0m\n\u001b[1;32m-> 1966\u001b[1;33m \u001b[1;33m@\u001b[0m\u001b[0marray_function_dispatch\u001b[0m\u001b[1;33m(\u001b[0m\u001b[0m_sum_dispatcher\u001b[0m\u001b[1;33m)\u001b[0m\u001b[1;33m\u001b[0m\u001b[1;33m\u001b[0m\u001b[0m\n\u001b[0m\u001b[0;32m   1967\u001b[0m \u001b[1;32mdef\u001b[0m \u001b[0msum\u001b[0m\u001b[1;33m(\u001b[0m\u001b[0ma\u001b[0m\u001b[1;33m,\u001b[0m \u001b[0maxis\u001b[0m\u001b[1;33m=\u001b[0m\u001b[1;32mNone\u001b[0m\u001b[1;33m,\u001b[0m \u001b[0mdtype\u001b[0m\u001b[1;33m=\u001b[0m\u001b[1;32mNone\u001b[0m\u001b[1;33m,\u001b[0m \u001b[0mout\u001b[0m\u001b[1;33m=\u001b[0m\u001b[1;32mNone\u001b[0m\u001b[1;33m,\u001b[0m \u001b[0mkeepdims\u001b[0m\u001b[1;33m=\u001b[0m\u001b[0mnp\u001b[0m\u001b[1;33m.\u001b[0m\u001b[0m_NoValue\u001b[0m\u001b[1;33m,\u001b[0m \u001b[0minitial\u001b[0m\u001b[1;33m=\u001b[0m\u001b[0mnp\u001b[0m\u001b[1;33m.\u001b[0m\u001b[0m_NoValue\u001b[0m\u001b[1;33m)\u001b[0m\u001b[1;33m:\u001b[0m\u001b[1;33m\u001b[0m\u001b[1;33m\u001b[0m\u001b[0m\n\u001b[0;32m   1968\u001b[0m     \"\"\"\n",
      "\u001b[1;31mKeyboardInterrupt\u001b[0m: "
     ]
    }
   ],
   "source": [
    "sse_list = list()\n",
    "max_k = 25\n",
    "for k in range(2, max_k + 1):\n",
    "    kmeans = KMeans(n_clusters=k, n_init=10, max_iter=300)\n",
    "    kmeans.fit(data_scaled)\n",
    "    \n",
    "    sse = kmeans.inertia_\n",
    "    sse_list.append(sse)"
   ]
  },
  {
   "cell_type": "markdown",
   "id": "e99e475f577eb0a4",
   "metadata": {},
   "source": []
  },
  {
   "cell_type": "code",
   "execution_count": null,
   "id": "6a08c541209377a6",
   "metadata": {
    "ExecuteTime": {
     "end_time": "2024-05-23T16:12:08.685875Z",
     "start_time": "2024-05-23T16:12:08.535798Z"
    }
   },
   "outputs": [
    {
     "data": {
      "image/png": "[encoded data removed]",
      "text/plain": [
       "<Figure size 640x480 with 1 Axes>"
      ]
     },
     "metadata": {},
     "output_type": "display_data"
    }
   ],
   "source": [
    "plt.plot(range(2, len(sse_list) + 2), sse_list, 'o--')\n",
    "plt.ylabel('SSE', fontsize=20)\n",
    "plt.xlabel('K', fontsize=20)\n",
    "plt.tick_params(axis='both', which='major', labelsize=10)\n",
    "plt.xticks([2,3,4,5,6,7,8,9,10,11,12,13,14,15,16,17,18,19,20,21,22,23,24,25])\n",
    "plt.show()"
   ]
  },
  {
   "cell_type": "markdown",
   "id": "e5a59f27ec9e3b37",
   "metadata": {},
   "source": [
    "For a better visualization, let us display the differences between adjacent values of SSE."
   ]
  },
  {
   "cell_type": "code",
   "execution_count": null,
   "id": "df000c3e-dcd1-4c69-90b3-b7fbc9590924",
   "metadata": {
    "ExecuteTime": {
     "end_time": "2024-05-23T16:15:14.034267Z",
     "start_time": "2024-05-23T16:15:13.821658Z"
    }
   },
   "outputs": [
    {
     "data": {
      "image/png": "[encoded data removed]",
      "text/plain": [
       "<Figure size 640x480 with 1 Axes>"
      ]
     },
     "metadata": {},
     "output_type": "display_data"
    }
   ],
   "source": [
    "diff = []\n",
    "for i in range(len(sse_list)-1):\n",
    "    diff.append(-sse_list[i+1]+sse_list[i])\n",
    "plt.plot(range(2, len(sse_list) + 1), diff, 'o--')\n",
    "plt.ylabel(r'$\\Delta$ SSE', fontsize=22)\n",
    "plt.xlabel('K', fontsize=22)\n",
    "plt.tick_params(axis='both', which='major', labelsize=10)\n",
    "plt.xticks([2,3,4,5,6,7,8,9,10,11,12,13,14,15,16,17,18,19,20,21,22,23,24])\n",
    "plt.show()"
   ]
  },
  {
   "cell_type": "markdown",
   "id": "82ef44ffa08aad6f",
   "metadata": {},
   "source": [
    "Around k=15, the differences stabilize to zero, which shows that that is the optimal ``n_clusters``. \n",
    "However, looking for 15 clusters is not meaningful since our target variable is boolean."
   ]
  },
  {
   "cell_type": "markdown",
   "id": "ca8fd4877503118e",
   "metadata": {},
   "source": [
    "### Hierirchical clustering\n",
    "\n",
    "The second Clustering method we test is Hierarchical clustering."
   ]
  },
  {
   "cell_type": "code",
   "execution_count": null,
   "id": "554e5565-af92-4909-8345-99fd5976c61e",
   "metadata": {
    "ExecuteTime": {
     "end_time": "2024-05-23T16:51:31.586403Z",
     "start_time": "2024-05-23T16:51:31.546964Z"
    }
   },
   "outputs": [],
   "source": [
    "from scipy.spatial.distance import pdist\n",
    "from scipy.cluster.hierarchy import linkage, dendrogram, cut_tree\n",
    "\n",
    "#sample subset of data to compute silhouette for computational reasons\n",
    "N = 10000\n",
    "data['ESR'] = data_target  \n",
    "data_random = data.sample(N)\n",
    "data_random_target = data_random['ESR']\n",
    "data_random.drop('ESR', axis=1)\n",
    "scaler.fit(data_random.values)\n",
    "data_random_scaled=scaler.transform(data_random.values)"
   ]
  },
  {
   "cell_type": "code",
   "execution_count": null,
   "id": "bf4d948e-05a5-4c6e-a780-51cb036e53a4",
   "metadata": {
    "ExecuteTime": {
     "end_time": "2024-05-23T16:51:41.478688Z",
     "start_time": "2024-05-23T16:51:36.245884Z"
    }
   },
   "outputs": [
    {
     "data": {
      "image/png": "[encoded data removed]",
      "text/plain": [
       "<Figure size 640x480 with 1 Axes>"
      ]
     },
     "metadata": {},
     "output_type": "display_data"
    }
   ],
   "source": [
    "data_dist = pdist(data_random_scaled, metric='euclidean')\n",
    "data_link = linkage(data_dist, method='complete', metric='euclidean')\n",
    "res = dendrogram(data_link, color_threshold=0.1, truncate_mode='lastp')\n",
    "clusters = cut_tree(data_link, n_clusters=2).flatten()"
   ]
  },
  {
   "cell_type": "markdown",
   "id": "d5521be218009054",
   "metadata": {},
   "source": [
    "#### Sound evaluation\n",
    "\n",
    "We evaluate the clusters with internal evaluation metrics, cutting at the two-branches level."
   ]
  },
  {
   "cell_type": "code",
   "execution_count": null,
   "id": "99d1deae2d40d2c",
   "metadata": {
    "ExecuteTime": {
     "end_time": "2024-05-23T16:51:47.942221Z",
     "start_time": "2024-05-23T16:51:44.992504Z"
    }
   },
   "outputs": [
    {
     "name": "stdout",
     "output_type": "stream",
     "text": [
      "Separation = 1.00\n",
      "Silhouette 0.460\n"
     ]
    }
   ],
   "source": [
    "print('Separation = %.2f' % metrics.davies_bouldin_score(data_random_scaled, clusters))\n",
    "print('Silhouette %.3f' % metrics.silhouette_score(data_random_scaled, clusters))"
   ]
  },
  {
   "cell_type": "markdown",
   "id": "7f1be3a4308adcce",
   "metadata": {},
   "source": [
    "And with external ones."
   ]
  },
  {
   "cell_type": "code",
   "execution_count": null,
   "id": "e9c1a2eb5be93ff6",
   "metadata": {
    "ExecuteTime": {
     "end_time": "2024-05-23T16:53:40.161818Z",
     "start_time": "2024-05-23T16:53:40.148366Z"
    }
   },
   "outputs": [
    {
     "name": "stdout",
     "output_type": "stream",
     "text": [
      "Rand score = -0.003921\n",
      "Homogeneity score = 0.004094\n",
      "Completeness score = 0.026244\n",
      "Harmonic mean between completeness and homogeneity = 0.009361\n"
     ]
    }
   ],
   "source": [
    "print('Rand score = %f' % metrics.adjusted_rand_score(data_random_target, clusters))\n",
    "print('Homogeneity score = %f' % metrics.homogeneity_score(data_random_target, clusters)) \n",
    "print('Completeness score = %f' % metrics.completeness_score(data_random_target, clusters))\n",
    "print('Harmonic mean between completeness and homogeneity = %f' % metrics.v_measure_score(data_random_target, clusters, beta=2))"
   ]
  },
  {
   "cell_type": "markdown",
   "id": "77ee7599e235d294",
   "metadata": {},
   "source": [
    "Now we compute the confusion matrix."
   ]
  },
  {
   "cell_type": "code",
   "execution_count": null,
   "id": "edb9300c-4ee7-4cd9-bf46-eb1b4ec7609c",
   "metadata": {
    "ExecuteTime": {
     "end_time": "2024-05-23T16:54:05.092626Z",
     "start_time": "2024-05-23T16:54:05.085759Z"
    }
   },
   "outputs": [
    {
     "data": {
      "text/plain": [
       "array([[5356,  177],\n",
       "       [4420,   47]], dtype=int64)"
      ]
     },
     "execution_count": 156,
     "metadata": {},
     "output_type": "execute_result"
    }
   ],
   "source": [
    "metrics.confusion_matrix(data_random_target, clusters)"
   ]
  },
  {
   "cell_type": "markdown",
   "id": "f6362b619c12350b",
   "metadata": {},
   "source": [
    "We conclude that Hierarchical clustering cannot cluster correctly our data with respect to our target variable."
   ]
  },
  {
   "cell_type": "markdown",
   "id": "e151ede9727333f7",
   "metadata": {},
   "source": [
    "### DBSCAN\n",
    "\n",
    "FALLO!!!"
   ]
  },
  {
   "cell_type": "markdown",
   "id": "03ddf945",
   "metadata": {},
   "source": [
    "## 3) Classification"
   ]
  },
  {
   "cell_type": "markdown",
   "id": "38434b0a",
   "metadata": {},
   "source": [
    "We now attempt to classify the target variable ``ESR`` by means of supervised learning."
   ]
  },
  {
   "cell_type": "markdown",
   "id": "8133fc03",
   "metadata": {},
   "source": [
    "To apply supervised learning we add the target variable back to the data set."
   ]
  },
  {
   "cell_type": "code",
   "execution_count": 25,
   "id": "0a6c6b88",
   "metadata": {},
   "outputs": [
    {
     "data": {
      "text/html": [
       "<div>\n",
       "<style scoped>\n",
       "    .dataframe tbody tr th:only-of-type {\n",
       "        vertical-align: middle;\n",
       "    }\n",
       "\n",
       "    .dataframe tbody tr th {\n",
       "        vertical-align: top;\n",
       "    }\n",
       "\n",
       "    .dataframe thead th {\n",
       "        text-align: right;\n",
       "    }\n",
       "</style>\n",
       "<table border=\"1\" class=\"dataframe\">\n",
       "  <thead>\n",
       "    <tr style=\"text-align: right;\">\n",
       "      <th></th>\n",
       "      <th>AGEP</th>\n",
       "      <th>SCHL</th>\n",
       "      <th>MAR</th>\n",
       "      <th>DIS</th>\n",
       "      <th>ESP</th>\n",
       "      <th>CIT</th>\n",
       "      <th>MIG</th>\n",
       "      <th>MIL</th>\n",
       "      <th>ANC</th>\n",
       "      <th>NATIVITY</th>\n",
       "      <th>DEAR</th>\n",
       "      <th>DEYE</th>\n",
       "      <th>DREM</th>\n",
       "      <th>SEX</th>\n",
       "      <th>ESR</th>\n",
       "    </tr>\n",
       "  </thead>\n",
       "  <tbody>\n",
       "    <tr>\n",
       "      <th>0</th>\n",
       "      <td>21.0</td>\n",
       "      <td>16.0</td>\n",
       "      <td>5.0</td>\n",
       "      <td>2.0</td>\n",
       "      <td>0.0</td>\n",
       "      <td>1.0</td>\n",
       "      <td>1.0</td>\n",
       "      <td>4.0</td>\n",
       "      <td>1.0</td>\n",
       "      <td>0.0</td>\n",
       "      <td>2.0</td>\n",
       "      <td>2.0</td>\n",
       "      <td>2.0</td>\n",
       "      <td>2.0</td>\n",
       "      <td>1</td>\n",
       "    </tr>\n",
       "    <tr>\n",
       "      <th>1</th>\n",
       "      <td>19.0</td>\n",
       "      <td>16.0</td>\n",
       "      <td>5.0</td>\n",
       "      <td>2.0</td>\n",
       "      <td>0.0</td>\n",
       "      <td>1.0</td>\n",
       "      <td>1.0</td>\n",
       "      <td>4.0</td>\n",
       "      <td>1.0</td>\n",
       "      <td>0.0</td>\n",
       "      <td>2.0</td>\n",
       "      <td>2.0</td>\n",
       "      <td>2.0</td>\n",
       "      <td>2.0</td>\n",
       "      <td>0</td>\n",
       "    </tr>\n",
       "    <tr>\n",
       "      <th>2</th>\n",
       "      <td>24.0</td>\n",
       "      <td>12.0</td>\n",
       "      <td>5.0</td>\n",
       "      <td>1.0</td>\n",
       "      <td>0.0</td>\n",
       "      <td>1.0</td>\n",
       "      <td>1.0</td>\n",
       "      <td>4.0</td>\n",
       "      <td>1.0</td>\n",
       "      <td>0.0</td>\n",
       "      <td>2.0</td>\n",
       "      <td>2.0</td>\n",
       "      <td>1.0</td>\n",
       "      <td>1.0</td>\n",
       "      <td>0</td>\n",
       "    </tr>\n",
       "    <tr>\n",
       "      <th>3</th>\n",
       "      <td>20.0</td>\n",
       "      <td>16.0</td>\n",
       "      <td>5.0</td>\n",
       "      <td>2.0</td>\n",
       "      <td>0.0</td>\n",
       "      <td>1.0</td>\n",
       "      <td>1.0</td>\n",
       "      <td>3.0</td>\n",
       "      <td>1.0</td>\n",
       "      <td>0.0</td>\n",
       "      <td>2.0</td>\n",
       "      <td>2.0</td>\n",
       "      <td>2.0</td>\n",
       "      <td>2.0</td>\n",
       "      <td>1</td>\n",
       "    </tr>\n",
       "    <tr>\n",
       "      <th>4</th>\n",
       "      <td>31.0</td>\n",
       "      <td>17.0</td>\n",
       "      <td>5.0</td>\n",
       "      <td>2.0</td>\n",
       "      <td>0.0</td>\n",
       "      <td>1.0</td>\n",
       "      <td>3.0</td>\n",
       "      <td>4.0</td>\n",
       "      <td>4.0</td>\n",
       "      <td>0.0</td>\n",
       "      <td>2.0</td>\n",
       "      <td>2.0</td>\n",
       "      <td>2.0</td>\n",
       "      <td>1.0</td>\n",
       "      <td>1</td>\n",
       "    </tr>\n",
       "  </tbody>\n",
       "</table>\n",
       "</div>"
      ],
      "text/plain": [
       "   AGEP  SCHL  MAR  DIS  ESP  CIT  MIG  MIL  ANC  NATIVITY  DEAR  DEYE  DREM  \\\n",
       "0  21.0  16.0  5.0  2.0  0.0  1.0  1.0  4.0  1.0       0.0   2.0   2.0   2.0   \n",
       "1  19.0  16.0  5.0  2.0  0.0  1.0  1.0  4.0  1.0       0.0   2.0   2.0   2.0   \n",
       "2  24.0  12.0  5.0  1.0  0.0  1.0  1.0  4.0  1.0       0.0   2.0   2.0   1.0   \n",
       "3  20.0  16.0  5.0  2.0  0.0  1.0  1.0  3.0  1.0       0.0   2.0   2.0   2.0   \n",
       "4  31.0  17.0  5.0  2.0  0.0  1.0  3.0  4.0  4.0       0.0   2.0   2.0   2.0   \n",
       "\n",
       "   SEX  ESR  \n",
       "0  2.0    1  \n",
       "1  2.0    0  \n",
       "2  1.0    0  \n",
       "3  2.0    1  \n",
       "4  1.0    1  "
      ]
     },
     "execution_count": 25,
     "metadata": {},
     "output_type": "execute_result"
    }
   ],
   "source": [
    "data['ESR']=data_target\n",
    "data.head()"
   ]
  },
  {
   "cell_type": "markdown",
   "id": "40f9d0e6",
   "metadata": {},
   "source": [
    "### Decision Tree"
   ]
  },
  {
   "cell_type": "markdown",
   "id": "a53c90ad",
   "metadata": {},
   "source": [
    "The first supervised learning algorithm we test is Decision tree."
   ]
  },
  {
   "cell_type": "code",
   "execution_count": 26,
   "id": "ae09057d-3855-4624-874f-c0ec2d94d4fe",
   "metadata": {},
   "outputs": [],
   "source": [
    "from sklearn.tree import DecisionTreeClassifier\n",
    "from sklearn.model_selection import train_test_split\n",
    "from sklearn.metrics import confusion_matrix\n",
    "from sklearn.metrics import accuracy_score, f1_score, classification_report"
   ]
  },
  {
   "cell_type": "markdown",
   "id": "3b45d72b",
   "metadata": {},
   "source": [
    "We prepare our data and we split them in test and train sets with a ratio of 0.3."
   ]
  },
  {
   "cell_type": "code",
   "execution_count": 27,
   "id": "b12b725d",
   "metadata": {},
   "outputs": [],
   "source": [
    "predictors = [col for col in data.columns if col != 'ESR']\n",
    "X = data[predictors].values\n",
    "y = data['ESR']\n",
    "\n",
    "X_train, X_test, y_train, y_test = train_test_split(X, y, \n",
    "                                                    test_size=0.3, \n",
    "                                                    random_state=100, \n",
    "                                                    stratify=y)"
   ]
  },
  {
   "cell_type": "markdown",
   "id": "8fbd43f4",
   "metadata": {},
   "source": [
    "We prepare the Decision tree, and fit it to the data."
   ]
  },
  {
   "cell_type": "code",
   "execution_count": 28,
   "id": "ba6b7814",
   "metadata": {},
   "outputs": [
    {
     "data": {
      "text/html": [
       "<style>#sk-container-id-1 {color: black;background-color: white;}#sk-container-id-1 pre{padding: 0;}#sk-container-id-1 div.sk-toggleable {background-color: white;}#sk-container-id-1 label.sk-toggleable__label {cursor: pointer;display: block;width: 100%;margin-bottom: 0;padding: 0.3em;box-sizing: border-box;text-align: center;}#sk-container-id-1 label.sk-toggleable__label-arrow:before {content: \"▸\";float: left;margin-right: 0.25em;color: #696969;}#sk-container-id-1 label.sk-toggleable__label-arrow:hover:before {color: black;}#sk-container-id-1 div.sk-estimator:hover label.sk-toggleable__label-arrow:before {color: black;}#sk-container-id-1 div.sk-toggleable__content {max-height: 0;max-width: 0;overflow: hidden;text-align: left;background-color: #f0f8ff;}#sk-container-id-1 div.sk-toggleable__content pre {margin: 0.2em;color: black;border-radius: 0.25em;background-color: #f0f8ff;}#sk-container-id-1 input.sk-toggleable__control:checked~div.sk-toggleable__content {max-height: 200px;max-width: 100%;overflow: auto;}#sk-container-id-1 input.sk-toggleable__control:checked~label.sk-toggleable__label-arrow:before {content: \"▾\";}#sk-container-id-1 div.sk-estimator input.sk-toggleable__control:checked~label.sk-toggleable__label {background-color: #d4ebff;}#sk-container-id-1 div.sk-label input.sk-toggleable__control:checked~label.sk-toggleable__label {background-color: #d4ebff;}#sk-container-id-1 input.sk-hidden--visually {border: 0;clip: rect(1px 1px 1px 1px);clip: rect(1px, 1px, 1px, 1px);height: 1px;margin: -1px;overflow: hidden;padding: 0;position: absolute;width: 1px;}#sk-container-id-1 div.sk-estimator {font-family: monospace;background-color: #f0f8ff;border: 1px dotted black;border-radius: 0.25em;box-sizing: border-box;margin-bottom: 0.5em;}#sk-container-id-1 div.sk-estimator:hover {background-color: #d4ebff;}#sk-container-id-1 div.sk-parallel-item::after {content: \"\";width: 100%;border-bottom: 1px solid gray;flex-grow: 1;}#sk-container-id-1 div.sk-label:hover label.sk-toggleable__label {background-color: #d4ebff;}#sk-container-id-1 div.sk-serial::before {content: \"\";position: absolute;border-left: 1px solid gray;box-sizing: border-box;top: 0;bottom: 0;left: 50%;z-index: 0;}#sk-container-id-1 div.sk-serial {display: flex;flex-direction: column;align-items: center;background-color: white;padding-right: 0.2em;padding-left: 0.2em;position: relative;}#sk-container-id-1 div.sk-item {position: relative;z-index: 1;}#sk-container-id-1 div.sk-parallel {display: flex;align-items: stretch;justify-content: center;background-color: white;position: relative;}#sk-container-id-1 div.sk-item::before, #sk-container-id-1 div.sk-parallel-item::before {content: \"\";position: absolute;border-left: 1px solid gray;box-sizing: border-box;top: 0;bottom: 0;left: 50%;z-index: -1;}#sk-container-id-1 div.sk-parallel-item {display: flex;flex-direction: column;z-index: 1;position: relative;background-color: white;}#sk-container-id-1 div.sk-parallel-item:first-child::after {align-self: flex-end;width: 50%;}#sk-container-id-1 div.sk-parallel-item:last-child::after {align-self: flex-start;width: 50%;}#sk-container-id-1 div.sk-parallel-item:only-child::after {width: 0;}#sk-container-id-1 div.sk-dashed-wrapped {border: 1px dashed gray;margin: 0 0.4em 0.5em 0.4em;box-sizing: border-box;padding-bottom: 0.4em;background-color: white;}#sk-container-id-1 div.sk-label label {font-family: monospace;font-weight: bold;display: inline-block;line-height: 1.2em;}#sk-container-id-1 div.sk-label-container {text-align: center;}#sk-container-id-1 div.sk-container {/* jupyter's `normalize.less` sets `[hidden] { display: none; }` but bootstrap.min.css set `[hidden] { display: none !important; }` so we also need the `!important` here to be able to override the default hidden behavior on the sphinx rendered scikit-learn.org. See: https://github.com/scikit-learn/scikit-learn/issues/21755 */display: inline-block !important;position: relative;}#sk-container-id-1 div.sk-text-repr-fallback {display: none;}</style><div id=\"sk-container-id-1\" class=\"sk-top-container\"><div class=\"sk-text-repr-fallback\"><pre>DecisionTreeClassifier()</pre><b>In a Jupyter environment, please rerun this cell to show the HTML representation or trust the notebook. <br />On GitHub, the HTML representation is unable to render, please try loading this page with nbviewer.org.</b></div><div class=\"sk-container\" hidden><div class=\"sk-item\"><div class=\"sk-estimator sk-toggleable\"><input class=\"sk-toggleable__control sk-hidden--visually\" id=\"sk-estimator-id-1\" type=\"checkbox\" checked><label for=\"sk-estimator-id-1\" class=\"sk-toggleable__label sk-toggleable__label-arrow\">DecisionTreeClassifier</label><div class=\"sk-toggleable__content\"><pre>DecisionTreeClassifier()</pre></div></div></div></div></div>"
      ],
      "text/plain": [
       "DecisionTreeClassifier()"
      ]
     },
     "execution_count": 28,
     "metadata": {},
     "output_type": "execute_result"
    }
   ],
   "source": [
    "clf = DecisionTreeClassifier(criterion='gini', max_depth=None, \n",
    "                             min_samples_split=2, min_samples_leaf=1)\n",
    "clf.fit(X_train, y_train)"
   ]
  },
  {
   "cell_type": "markdown",
   "id": "22d4a0b2",
   "metadata": {},
   "source": [
    "Let us see the relative importance of different features in classsifying the target."
   ]
  },
  {
   "cell_type": "code",
   "execution_count": 29,
   "id": "c32b0e18",
   "metadata": {},
   "outputs": [
    {
     "name": "stdout",
     "output_type": "stream",
     "text": [
      "AGEP 0.7083494466940551\n",
      "SCHL 0.06890140842285858\n",
      "MAR 0.035050805849003615\n",
      "DIS 0.061519444506720124\n",
      "ESP 0.0007583264876503675\n",
      "CIT 0.02172155853372873\n",
      "MIG 0.015754921858807384\n",
      "MIL 0.022316818031105662\n",
      "ANC 0.030623108726098452\n",
      "NATIVITY 0.004217905878636801\n",
      "DEAR 0.004033267678375902\n",
      "DEYE 0.003942870604996608\n",
      "DREM 0.004219771805835168\n",
      "SEX 0.01859034492212754\n",
      "[0 1]\n"
     ]
    }
   ],
   "source": [
    "for col, imp in zip(predictors, clf.feature_importances_):\n",
    "    print(col, imp)\n",
    "print(clf.classes_)"
   ]
  },
  {
   "cell_type": "markdown",
   "id": "fbb5b1c9",
   "metadata": {},
   "source": [
    "Let us test our decision tree on the train set to see its accuracy and other metrics. "
   ]
  },
  {
   "cell_type": "code",
   "execution_count": 30,
   "id": "857cd568",
   "metadata": {},
   "outputs": [],
   "source": [
    "from sklearn.model_selection import cross_val_score\n",
    "from sklearn.model_selection import cross_validate"
   ]
  },
  {
   "cell_type": "code",
   "execution_count": 31,
   "id": "b0395f3e",
   "metadata": {},
   "outputs": [
    {
     "name": "stdout",
     "output_type": "stream",
     "text": [
      "Accuracy 0.8\n",
      "F1-score [0.\n",
      "              precision    recall  f1-score   support\n",
      "\n",
      "           0       0.89      0.84      0.87    285044\n",
      "           1       0.82      0.87      0.85    236087\n",
      "\n",
      "    accuracy                           0.86    521131\n",
      "   macro avg       0.86      0.86      0.86    521131\n",
      "weighted avg       0.86      0.86      0.86    521131\n",
      "\n"
     ]
    },
    {
     "data": {
      "text/plain": [
       "array([[240605,  44439],\n",
       "       [ 30217, 205870]], dtype=int64)"
      ]
     },
     "execution_count": 31,
     "metadata": {},
     "output_type": "execute_result"
    }
   ],
   "source": [
    "y_pred = clf.predict(X_train)\n",
    "print('Train Accuracy %.3s' % accuracy_score(y_test, y_pred))\n",
    "print('Train F1-score %.3s' % f1_score(y_test, y_pred, average=None))\n",
    "print(classification_report(y_test, y_pred))\n",
    "print('Train Confusion Matrix')\n",
    "confusion_matrix(y_test, y_pred)"
   ]
  },
  {
   "cell_type": "markdown",
   "id": "10611f37",
   "metadata": {},
   "source": [
    "Let us test our decision tree on the test set to see its accuracy and other metrics."
   ]
  },
  {
   "cell_type": "code",
   "execution_count": 32,
   "id": "ac35d34c",
   "metadata": {},
   "outputs": [
    {
     "name": "stdout",
     "output_type": "stream",
     "text": [
      "Accuracy 0.7\n",
      "F1-score [0.\n",
      "              precision    recall  f1-score   support\n",
      "\n",
      "           0       0.83      0.78      0.80    122163\n",
      "           1       0.75      0.80      0.78    101180\n",
      "\n",
      "    accuracy                           0.79    223343\n",
      "   macro avg       0.79      0.79      0.79    223343\n",
      "weighted avg       0.79      0.79      0.79    223343\n",
      "\n"
     ]
    },
    {
     "data": {
      "text/plain": [
       "array([[95819, 26344],\n",
       "       [20102, 81078]], dtype=int64)"
      ]
     },
     "execution_count": 32,
     "metadata": {},
     "output_type": "execute_result"
    }
   ],
   "source": [
    "y_pred = clf.predict(X_test)\n",
    "print('Test Accuracy %.3s' % accuracy_score(y_test, y_pred))\n",
    "print('Test F1-score %.3s' % f1_score(y_test, y_pred, average=None))\n",
    "print(classification_report(y_test, y_pred))\n",
    "print('Test Confusion Matrix')\n",
    "confusion_matrix(y_test, y_pred)"
   ]
  },
  {
   "cell_type": "markdown",
   "id": "45ef0c58",
   "metadata": {},
   "source": [
    "Let us now estimate the error on these metrics with a cross validation techinique."
   ]
  },
  {
   "cell_type": "code",
   "execution_count": 33,
   "id": "e5050e0c",
   "metadata": {},
   "outputs": [
    {
     "name": "stdout",
     "output_type": "stream",
     "text": [
      "Accuracy: 0.789 (+/- 0.003)\n",
      "F1-score: 0.788 (+/- 0.003)\n"
     ]
    }
   ],
   "source": [
    "scores = cross_val_score(clf, X_train, y_train, cv=10)\n",
    "print('Accuracy: %0.3f (+/- %0.3f)' % (scores.mean(), scores.std() * 2))\n",
    "\n",
    "scores = cross_val_score(clf, X_train, y_train, cv=10, scoring='f1_macro')\n",
    "print('F1-score: %0.3f (+/- %0.3f)' % (scores.mean(), scores.std() * 2))"
   ]
  },
  {
   "cell_type": "markdown",
   "id": "3e1d983c",
   "metadata": {},
   "source": [
    "We note that the difference between the accuracy in the test and train set is large compaered to the error. Therefore, we suspect that the parameters we chose for the tree may give an overfitting to the train data."
   ]
  },
  {
   "cell_type": "markdown",
   "id": "af748c41",
   "metadata": {},
   "source": [
    "#### Parameter tuning"
   ]
  },
  {
   "cell_type": "markdown",
   "id": "9b860171",
   "metadata": {},
   "source": [
    "Given the result of the previous analysis, we now want to find the best parameters ``min_samples_leaf`` and ``min_samples_split``  for our decision tree. To this purpose we build decision trees with different values of these parameters and we compute their accuracy on test and train set."
   ]
  },
  {
   "cell_type": "code",
   "execution_count": 39,
   "id": "fcf4bff9",
   "metadata": {},
   "outputs": [],
   "source": [
    "samples_leaf = np.linspace(0, 30, 20, dtype=int) + 1\n",
    "samples_split = np.linspace(0, 200, 20, dtype=int) + 2\n",
    "\n",
    "acc_train = np.zeros((len(samples_split), len(samples_leaf)))\n",
    "acc_test = np.zeros((len(samples_split), len(samples_leaf)))\n",
    "\n",
    "\n",
    "for i, min_samples_l in enumerate(samples_leaf):\n",
    "    for j, min_samples_s in enumerate(samples_split):\n",
    "        \n",
    "        clf = DecisionTreeClassifier(criterion='gini', max_depth=None, \n",
    "                             min_samples_split=min_samples_s, min_samples_leaf=min_samples_l)\n",
    "        clf.fit(X_train, y_train)\n",
    "\n",
    "        y_pred_train = clf.predict(X_train)\n",
    "        acc_train[j, i] = accuracy_score(y_train, y_pred_train)\n",
    "        \n",
    "        y_pred_test = clf.predict(X_test)\n",
    "        acc_test[j, i] = accuracy_score(y_test, y_pred_test)"
   ]
  },
  {
   "cell_type": "markdown",
   "id": "357cf0e7-4e57-45b7-8f7e-60426cb9f601",
   "metadata": {},
   "source": [
    "To look for overfitting, we plot the logarithmic discrepancy between the train and test accuracy, normalized with the error we estimated before."
   ]
  },
  {
   "cell_type": "code",
   "execution_count": 41,
   "id": "1b22b8f3-18da-4aeb-bf1b-6531a1a6ba9d",
   "metadata": {},
   "outputs": [
    {
     "data": {
      "image/png": "[encoded data removed]",
      "text/plain": [
       "<Figure size 800x600 with 2 Axes>"
      ]
     },
     "metadata": {},
     "output_type": "display_data"
    }
   ],
   "source": [
    "plt.figure(figsize=(8, 6))\n",
    "plt.imshow(np.log((acc_train-acc_test)/0.003), interpolation='nearest', aspect='auto', cmap='viridis')\n",
    "plt.colorbar(label= r'Normalized $\\Delta$Accuracy')\n",
    "plt.xticks(ticks=np.arange(len(samples_leaf)), labels=samples_leaf)\n",
    "plt.yticks(ticks=np.arange(len(samples_split)), labels=samples_split)\n",
    "plt.xlabel('min_samples_leaf')\n",
    "plt.ylabel('min_samples_split')\n",
    "plt.title(r'Normalized $\\Delta$Accuracy')\n",
    "plt.show()"
   ]
  },
  {
   "cell_type": "markdown",
   "id": "8056abf3-bfe0-44e7-a92f-81c7fcd71087",
   "metadata": {},
   "source": [
    "We see that possible overfitting is in the region ...\n",
    "We plot 1-dimensional slices of the above graph, cut at the values that intersect the overfitting region."
   ]
  },
  {
   "cell_type": "code",
   "execution_count": null,
   "id": "f16f906d-bc62-400c-894e-3064c4a7d186",
   "metadata": {},
   "outputs": [],
   "source": [
    "target_min_samples_leaf = 20\n",
    "fixed_index = np.argmin(np.abs(samples_leaf - target_min_samples_leaf))\n",
    "fixed_min_samples_leaf = samples_leaf[fixed_index]\n",
    "\n",
    "plt.figure(figsize=(10, 6))\n",
    "plt.plot(samples_split, acc_test[:, fixed_index], marker='.', linestyle='-',  color='red', label=\"Test set\")\n",
    "plt.plot(samples_split, acc_train[:, fixed_index], marker='.', linestyle='-',  color='blue', label=\"Train set\")\n",
    "plt.xlabel('min_samples_split')\n",
    "plt.ylabel('Accuracy')\n",
    "plt.title(f'Test Accuracy for min_samples_leaf = {fixed_min_samples_leaf}')\n",
    "plt.grid(True)\n",
    "plt.legend()\n",
    "plt.show()"
   ]
  },
  {
   "cell_type": "code",
   "execution_count": 70,
   "id": "6d1cce4d",
   "metadata": {},
   "outputs": [],
   "source": [
    "target_min_samples_split = 20\n",
    "fixed_index = np.argmin(np.abs(samples_split - target_min_samples_split))\n",
    "fixed_min_samples_split = samples_split[fixed_index]\n",
    "\n",
    "plt.figure(figsize=(10, 6))\n",
    "plt.plot(samples_leaf, acc_test[fixed_index, :], marker='.', linestyle='-',  color='red', label=\"Test set\")\n",
    "plt.plot(samples_leaf, acc_train[fixed_index, :], marker='.', linestyle='-',  color='blue', label=\"Train set\")\n",
    "plt.xlabel('min_samples_leaf')\n",
    "plt.ylabel('Accuracy')\n",
    "plt.title(f'Test Accuracy for min_samples_split = {fixed_min_samples_split}')\n",
    "plt.grid(True)\n",
    "plt.legend()\n",
    "plt.show()"
   ]
  },
  {
   "cell_type": "markdown",
   "id": "7d2d5512",
   "metadata": {},
   "source": [
    "We conclude that the best parameters are: ``min_samples_split`` $=...$, ``min_samples_leaf``$=...$."
   ]
  },
  {
   "cell_type": "code",
   "execution_count": null,
   "id": "6294f6fc",
   "metadata": {},
   "outputs": [],
   "source": [
    "clf = DecisionTreeClassifier(criterion='gini', max_depth=None, \n",
    "                             min_samples_split=1500, min_samples_leaf=20)\n",
    "clf.fit(X_train, y_train)"
   ]
  },
  {
   "cell_type": "markdown",
   "id": "744b281b-0efc-4eea-9ce9-9e334e25a6b6",
   "metadata": {},
   "source": [
    "#### Sound evaluation"
   ]
  },
  {
   "cell_type": "markdown",
   "id": "a9f00919-bb3e-425f-9fd2-6e1062251ef9",
   "metadata": {},
   "source": [
    "We now perform a sound evaluation analysis on the Decision Tree with optimal parameters. "
   ]
  },
  {
   "cell_type": "code",
   "execution_count": null,
   "id": "84c8489c",
   "metadata": {},
   "outputs": [],
   "source": [
    "y_pred = clf.predict(X_train)\n",
    "print('Train Accuracy %.3s' % accuracy_score(y_test, y_pred))\n",
    "print('Train F1-score %.3s' % f1_score(y_test, y_pred, average=None))\n",
    "print(classification_report(y_test, y_pred))\n",
    "print('Train Confusion Matrix')\n",
    "confusion_matrix(y_test, y_pred)"
   ]
  },
  {
   "cell_type": "code",
   "execution_count": null,
   "id": "d2881386-0880-4f6a-adcc-0dae66f8982e",
   "metadata": {},
   "outputs": [],
   "source": [
    "y_pred = clf.predict(X_test)\n",
    "print('Test Accuracy %.3s' % accuracy_score(y_test, y_pred))\n",
    "print('Test F1-score %.3s' % f1_score(y_test, y_pred, average=None))\n",
    "print(classification_report(y_test, y_pred))\n",
    "print('Test Confusion Matrix')\n",
    "confusion_matrix(y_test, y_pred)"
   ]
  },
  {
   "cell_type": "markdown",
   "id": "f7343642",
   "metadata": {},
   "source": [
    "#### ROC curve"
   ]
  },
  {
   "cell_type": "code",
   "execution_count": null,
   "id": "2482e6fc",
   "metadata": {},
   "outputs": [],
   "source": [
    "from sklearn.metrics import roc_curve, auc, roc_auc_score"
   ]
  },
  {
   "cell_type": "code",
   "execution_count": null,
   "id": "437fdbaa",
   "metadata": {},
   "outputs": [],
   "source": [
    "fpr, tpr, _ = roc_curve(y_test, y_pred)\n",
    "roc_auc = auc(fpr, tpr)\n",
    "roc_auc = roc_auc_score(y_test, y_pred, average=None)"
   ]
  },
  {
   "cell_type": "code",
   "execution_count": null,
   "id": "6d54920f",
   "metadata": {},
   "outputs": [],
   "source": [
    "plt.plot([0, 1], [0, 1], \"k--\", label=\"chance level (AUC = 0.5)\")\n",
    "plt.plot(fpr, tpr, color='darkorange', lw=2, label=f'ROC curve (area={roc_auc:.2f})')\n",
    "plt.xlabel(\"False Positive Rate\")\n",
    "plt.ylabel(\"True Positive Rate\")\n",
    "plt.legend()\n",
    "plt.show()"
   ]
  },
  {
   "cell_type": "markdown",
   "id": "779eaea7",
   "metadata": {},
   "source": [
    "### Random Forest"
   ]
  },
  {
   "cell_type": "markdown",
   "id": "b286757e-ad75-4614-a9d0-5c1ed1eea53c",
   "metadata": {},
   "source": [
    "The second supervised learning algorithm we test is Random Forest."
   ]
  },
  {
   "cell_type": "code",
   "execution_count": null,
   "id": "b8fcae04",
   "metadata": {},
   "outputs": [],
   "source": [
    "from sklearn.ensemble import RandomForestClassifier"
   ]
  },
  {
   "cell_type": "code",
   "execution_count": null,
   "id": "4ee951aa",
   "metadata": {},
   "outputs": [],
   "source": [
    "clf = RandomForestClassifier(n_estimators=100, \n",
    "                             criterion='gini', \n",
    "                             max_depth=None, \n",
    "                             min_samples_split=1500, \n",
    "                             min_samples_leaf=20, \n",
    "                             class_weight=None)"
   ]
  },
  {
   "cell_type": "markdown",
   "id": "eccf9e95-8127-458d-8ffd-9e96d106548b",
   "metadata": {},
   "source": [
    "Let us evaluate the accuracy on test and train set."
   ]
  },
  {
   "cell_type": "code",
   "execution_count": null,
   "id": "256696833e93fda",
   "metadata": {},
   "outputs": [],
   "source": [
    "clf.fit(X_train, y_train)\n",
    "y_pred = clf.predict(X_test)\n",
    "print('Test Accuracy %.3s' % accuracy_score(y_test, y_pred))\n",
    "y_pred = clf.predict(X_train)\n",
    "print('Train Accuracy %.3s' % accuracy_score(y_test, y_pred))"
   ]
  },
  {
   "cell_type": "markdown",
   "id": "75319147956e989a",
   "metadata": {},
   "source": [
    "#### Parameter tuning"
   ]
  },
  {
   "cell_type": "markdown",
   "id": "a82fadea-47e9-4c7f-aec7-a0dcee28c8c8",
   "metadata": {},
   "source": [
    "We now estimate the optimal ``max_features`` parameter."
   ]
  },
  {
   "cell_type": "code",
   "execution_count": null,
   "id": "83478253",
   "metadata": {},
   "outputs": [],
   "source": [
    "acc_train = list()\n",
    "acc_test = list()\n",
    "samples=np.linspace(1,len(data.keys())-1,len(data.keys())-1,dtype=int)\n",
    "\n",
    "for features in samples:\n",
    "    clf = RandomForestClassifier(n_estimators=100, \n",
    "                             criterion='gini', \n",
    "                             max_depth=None, \n",
    "                             min_samples_split=1500, \n",
    "                             min_samples_leaf=20, \n",
    "                             max_features=features,\n",
    "                             class_weight=None)\n",
    "    clf.fit(X_train, y_train)\n",
    "\n",
    "    y_pred = clf.predict(X_train)\n",
    "    acc_train.append(accuracy_score(y_train, y_pred))\n",
    "    y_pred = clf.predict(X_test)\n",
    "    acc_test.append(accuracy_score(y_test, y_pred))"
   ]
  },
  {
   "cell_type": "markdown",
   "id": "e33a874d-9946-4a7f-bf99-6d5a04832ca5",
   "metadata": {},
   "source": [
    "We plot the train and test accuracy for different values of ``max_features``."
   ]
  },
  {
   "cell_type": "code",
   "execution_count": null,
   "id": "747cd35d-cef5-47c1-a3fc-202535af6c59",
   "metadata": {},
   "outputs": [],
   "source": [
    "plt.figure(figsize=(10, 6))\n",
    "plt.plot(samples, acc_test, marker='.', linestyle='-',  color='red', label=\"Test set\")\n",
    "plt.plot(samples, acc_train, marker='.', linestyle='-',  color='blue', label=\"Train set\")\n",
    "plt.xlabel('max_features')\n",
    "plt.ylabel('Accuracy')\n",
    "plt.title(f'Accuracy')\n",
    "plt.grid(True)\n",
    "plt.legend()\n",
    "plt.show()"
   ]
  },
  {
   "cell_type": "markdown",
   "id": "7a7459eb-60e3-4eeb-bfcc-5e3a0f2c4930",
   "metadata": {},
   "source": [
    "We conclude that the optimal parameter is ``max_features``$=...$."
   ]
  },
  {
   "cell_type": "markdown",
   "id": "b342d4ab",
   "metadata": {},
   "source": [
    "#### ROC curve"
   ]
  },
  {
   "cell_type": "code",
   "execution_count": null,
   "id": "b5da188f",
   "metadata": {},
   "outputs": [],
   "source": [
    "fpr, tpr, _ = roc_curve(y_test, y_pred)\n",
    "roc_auc = auc(fpr, tpr)\n",
    "roc_auc = roc_auc_score(y_test, y_pred, average=None)"
   ]
  },
  {
   "cell_type": "code",
   "execution_count": null,
   "id": "f146802f",
   "metadata": {},
   "outputs": [],
   "source": [
    "plt.plot([0, 1], [0, 1], \"k--\", label=\"chance level (AUC = 0.5)\")\n",
    "plt.plot(fpr, tpr, color='darkorange', lw=2, label=f'ROC curve (area={roc_auc:.2f})')\n",
    "plt.xlabel(\"False Positive Rate\")\n",
    "plt.ylabel(\"True Positive Rate\")\n",
    "plt.legend()\n",
    "plt.show()"
   ]
  },
  {
   "cell_type": "markdown",
   "id": "46bbad60",
   "metadata": {},
   "source": [
    "Cross Validation"
   ]
  },
  {
   "cell_type": "code",
   "execution_count": null,
   "id": "77829a60",
   "metadata": {},
   "outputs": [],
   "source": [
    "scores = cross_val_score(clf, X_train, y_train, cv=10)\n",
    "print('Accuracy: %0.4f (+/- %0.2f)' % (scores.mean(), scores.std() * 2))\n",
    "\n",
    "scores = cross_val_score(clf, X_train, y_train, cv=10, scoring='f1_macro')\n",
    "print('F1-score: %0.4f (+/- %0.2f)' % (scores.mean(), scores.std() * 2))"
   ]
  }
 ],
 "metadata": {
  "kernelspec": {
   "display_name": "Python 3 (ipykernel)",
   "language": "python",
   "name": "python3"
  },
  "language_info": {
   "codemirror_mode": {
    "name": "ipython",
    "version": 3
   },
   "file_extension": ".py",
   "mimetype": "text/x-python",
   "name": "python",
   "nbconvert_exporter": "python",
   "pygments_lexer": "ipython3",
   "version": "3.11.7"
  },
  "vscode": {
   "interpreter": {
    "hash": "ad2bdc8ecc057115af97d19610ffacc2b4e99fae6737bb82f5d7fb13d2f2c186"
   }
  }
 },
 "nbformat": 4,
 "nbformat_minor": 5
}
