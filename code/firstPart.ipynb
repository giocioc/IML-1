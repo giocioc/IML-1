{
 "cells": [
  {
   "metadata": {
    "ExecuteTime": {
     "end_time": "2024-05-08T16:23:36.195475Z",
     "start_time": "2024-05-08T16:23:36.191388Z"
    }
   },
   "cell_type": "code",
   "source": [
    "import numpy as np\n",
    "import pandas as pd"
   ],
   "id": "6707c599167ce45a",
   "outputs": [],
   "execution_count": 4
  },
  {
   "metadata": {
    "ExecuteTime": {
     "end_time": "2024-05-08T16:43:16.236284Z",
     "start_time": "2024-05-08T16:43:15.226255Z"
    }
   },
   "cell_type": "code",
   "source": [
    "filename = r'C:\\Users\\giorg\\Desktop\\uni\\magistrale\\Introduzione al Machine Learning\\Project - fist part\\IML-1\\pums.csv'\n",
    "data = pd.read_csv(filename, na_values='notknown')\n",
    "data.info()"
   ],
   "id": "95c136a26fe0e094",
   "outputs": [
    {
     "name": "stdout",
     "output_type": "stream",
     "text": [
      "<class 'pandas.core.frame.DataFrame'>\n",
      "RangeIndex: 746336 entries, 0 to 746335\n",
      "Data columns (total 16 columns):\n",
      " #   Column    Non-Null Count   Dtype  \n",
      "---  ------    --------------   -----  \n",
      " 0   AGEP      746336 non-null  float64\n",
      " 1   SCHL      709133 non-null  float64\n",
      " 2   MAR       746336 non-null  float64\n",
      " 3   RELP      709213 non-null  float64\n",
      " 4   DIS       746336 non-null  float64\n",
      " 5   ESP       746336 non-null  float64\n",
      " 6   CIT       709287 non-null  float64\n",
      " 7   MIG       746336 non-null  float64\n",
      " 8   MIL       746336 non-null  float64\n",
      " 9   ANC       746336 non-null  float64\n",
      " 10  NATIVITY  708813 non-null  float64\n",
      " 11  DEAR      708974 non-null  float64\n",
      " 12  DEYE      709267 non-null  float64\n",
      " 13  DREM      746336 non-null  float64\n",
      " 14  SEX       746336 non-null  float64\n",
      " 15  ESR       746336 non-null  bool   \n",
      "dtypes: bool(1), float64(15)\n",
      "memory usage: 86.1 MB\n"
     ]
    }
   ],
   "execution_count": 21
  },
  {
   "metadata": {
    "ExecuteTime": {
     "end_time": "2024-05-08T17:16:49.700838Z",
     "start_time": "2024-05-08T17:16:49.692080Z"
    }
   },
   "cell_type": "code",
   "source": "",
   "id": "19dc044c039027be",
   "outputs": [
    {
     "data": {
      "text/plain": [
       "37203"
      ]
     },
     "execution_count": 32,
     "metadata": {},
     "output_type": "execute_result"
    }
   ],
   "execution_count": 32
  },
  {
   "metadata": {},
   "cell_type": "code",
   "outputs": [
    {
     "data": {
      "text/plain": [
       "709213"
      ]
     },
     "execution_count": 19,
     "metadata": {},
     "output_type": "execute_result"
    }
   ],
   "execution_count": 19,
   "source": [
    "cond0 = data['RELP']!='notknown'\n",
    "cond1 = data['RELP']!='16.0'\n",
    "cond2 = data['RELP']!='17.0'\n",
    "data['RELP'][cond1 & cond2 & cond0].count()"
   ],
   "id": "77fef287f90ea527"
  },
  {
   "metadata": {
    "ExecuteTime": {
     "end_time": "2024-05-08T17:04:36.958049Z",
     "start_time": "2024-05-08T17:04:36.590683Z"
    }
   },
   "cell_type": "code",
   "source": "data['AGEP'].hist(bins=100)",
   "id": "9f262c5cfcb141ef",
   "outputs": [
    {
     "data": {
      "text/plain": [
       "<Axes: >"
      ]
     },
     "execution_count": 27,
     "metadata": {},
     "output_type": "execute_result"
    },
    {
     "data": {
      "text/plain": [
       "<Figure size 640x480 with 1 Axes>"
      ],
      "image/png": "[encoded data removed]"
     },
     "metadata": {},
     "output_type": "display_data"
    }
   ],
   "execution_count": 27
  }
 ],
 "metadata": {
  "kernelspec": {
   "display_name": "Python 3",
   "language": "python",
   "name": "python3"
  },
  "language_info": {
   "codemirror_mode": {
    "name": "ipython",
    "version": 2
   },
   "file_extension": ".py",
   "mimetype": "text/x-python",
   "name": "python",
   "nbconvert_exporter": "python",
   "pygments_lexer": "ipython2",
   "version": "2.7.6"
  }
 },
 "nbformat": 4,
 "nbformat_minor": 5
}
