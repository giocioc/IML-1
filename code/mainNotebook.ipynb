{
 "cells": [
  {
   "cell_type": "markdown",
   "id": "ae636fbbc79a8b12",
   "metadata": {},
   "source": [
    "# Introduzione al Machine Learning 2023-2024\n",
    "## Bernardini Jacopo, Ciocca Giorgio, Marini Tommaso\n",
    "## Exam Project, First Part: Data Exploration, Clustering  and Classification"
   ]
  },
  {
   "cell_type": "markdown",
   "id": "ce310d7c",
   "metadata": {},
   "source": [
    "## 1) Data Exploration"
   ]
  },
  {
   "cell_type": "markdown",
   "id": "43c847192814d75a",
   "metadata": {},
   "source": [
    "Libraries import"
   ]
  },
  {
   "cell_type": "code",
   "execution_count": 2,
   "id": "6707c599167ce45a",
   "metadata": {
    "ExecuteTime": {
     "end_time": "2024-05-16T09:59:46.578134Z",
     "start_time": "2024-05-16T09:59:46.559784Z"
    }
   },
   "outputs": [
    {
     "ename": "AttributeError",
     "evalue": "module 'pandas' has no attribute 'compat'",
     "output_type": "error",
     "traceback": [
      "\u001b[1;31m---------------------------------------------------------------------------\u001b[0m",
      "\u001b[1;31mAttributeError\u001b[0m                            Traceback (most recent call last)",
      "\u001b[1;32m~\\AppData\\Local\\Temp\\ipykernel_14928\\3320246657.py\u001b[0m in \u001b[0;36m<module>\u001b[1;34m\u001b[0m\n\u001b[0;32m      1\u001b[0m \u001b[1;32mimport\u001b[0m \u001b[0mnumpy\u001b[0m \u001b[1;32mas\u001b[0m \u001b[0mnp\u001b[0m\u001b[1;33m\u001b[0m\u001b[1;33m\u001b[0m\u001b[0m\n\u001b[1;32m----> 2\u001b[1;33m \u001b[1;32mimport\u001b[0m \u001b[0mpandas\u001b[0m \u001b[1;32mas\u001b[0m \u001b[0mpd\u001b[0m\u001b[1;33m\u001b[0m\u001b[1;33m\u001b[0m\u001b[0m\n\u001b[0m\u001b[0;32m      3\u001b[0m \u001b[1;32mimport\u001b[0m \u001b[0mpylab\u001b[0m \u001b[1;32mas\u001b[0m \u001b[0mplt\u001b[0m\u001b[1;33m\u001b[0m\u001b[1;33m\u001b[0m\u001b[0m\n\u001b[0;32m      4\u001b[0m \u001b[1;32mfrom\u001b[0m \u001b[0msklearn\u001b[0m \u001b[1;32mimport\u001b[0m \u001b[0mmetrics\u001b[0m\u001b[1;33m\u001b[0m\u001b[1;33m\u001b[0m\u001b[0m\n",
      "\u001b[1;32mc:\\ProgramData\\Anaconda3\\lib\\site-packages\\pandas\\__init__.py\u001b[0m in \u001b[0;36m<module>\u001b[1;34m\u001b[0m\n\u001b[0;32m    194\u001b[0m \u001b[1;31m# GH 27101\u001b[0m\u001b[1;33m\u001b[0m\u001b[1;33m\u001b[0m\u001b[1;33m\u001b[0m\u001b[0m\n\u001b[0;32m    195\u001b[0m \u001b[1;31m# TODO: remove Panel compat in 1.0\u001b[0m\u001b[1;33m\u001b[0m\u001b[1;33m\u001b[0m\u001b[1;33m\u001b[0m\u001b[0m\n\u001b[1;32m--> 196\u001b[1;33m \u001b[1;32mif\u001b[0m \u001b[0mpandas\u001b[0m\u001b[1;33m.\u001b[0m\u001b[0mcompat\u001b[0m\u001b[1;33m.\u001b[0m\u001b[0mPY37\u001b[0m\u001b[1;33m:\u001b[0m\u001b[1;33m\u001b[0m\u001b[1;33m\u001b[0m\u001b[0m\n\u001b[0m\u001b[0;32m    197\u001b[0m \u001b[1;33m\u001b[0m\u001b[0m\n\u001b[0;32m    198\u001b[0m     \u001b[1;32mdef\u001b[0m \u001b[0m__getattr__\u001b[0m\u001b[1;33m(\u001b[0m\u001b[0mname\u001b[0m\u001b[1;33m)\u001b[0m\u001b[1;33m:\u001b[0m\u001b[1;33m\u001b[0m\u001b[1;33m\u001b[0m\u001b[0m\n",
      "\u001b[1;31mAttributeError\u001b[0m: module 'pandas' has no attribute 'compat'"
     ]
    }
   ],
   "source": [
    "import numpy as np\n",
    "import pandas as pd\n",
    "import pylab as plt\n",
    "from sklearn import metrics"
   ]
  },
  {
   "cell_type": "markdown",
   "id": "8dccef71ffb70e2b",
   "metadata": {},
   "source": [
    "File reading and substitution of 'notknown' values with NaNs "
   ]
  },
  {
   "cell_type": "code",
   "execution_count": null,
   "id": "ee60770bbf92f958",
   "metadata": {
    "ExecuteTime": {
     "end_time": "2024-05-16T09:59:48.314963Z",
     "start_time": "2024-05-16T09:59:47.082911Z"
    }
   },
   "outputs": [
    {
     "data": {
      "text/html": [
       "<div>\n",
       "<style scoped>\n",
       "    .dataframe tbody tr th:only-of-type {\n",
       "        vertical-align: middle;\n",
       "    }\n",
       "\n",
       "    .dataframe tbody tr th {\n",
       "        vertical-align: top;\n",
       "    }\n",
       "\n",
       "    .dataframe thead th {\n",
       "        text-align: right;\n",
       "    }\n",
       "</style>\n",
       "<table border=\"1\" class=\"dataframe\">\n",
       "  <thead>\n",
       "    <tr style=\"text-align: right;\">\n",
       "      <th></th>\n",
       "      <th>AGEP</th>\n",
       "      <th>SCHL</th>\n",
       "      <th>MAR</th>\n",
       "      <th>RELP</th>\n",
       "      <th>DIS</th>\n",
       "      <th>ESP</th>\n",
       "      <th>CIT</th>\n",
       "      <th>MIG</th>\n",
       "      <th>MIL</th>\n",
       "      <th>ANC</th>\n",
       "      <th>NATIVITY</th>\n",
       "      <th>DEAR</th>\n",
       "      <th>DEYE</th>\n",
       "      <th>DREM</th>\n",
       "      <th>SEX</th>\n",
       "      <th>ESR</th>\n",
       "    </tr>\n",
       "  </thead>\n",
       "  <tbody>\n",
       "    <tr>\n",
       "      <td>0</td>\n",
       "      <td>21.0</td>\n",
       "      <td>16.0</td>\n",
       "      <td>5.0</td>\n",
       "      <td>17.0</td>\n",
       "      <td>2.0</td>\n",
       "      <td>0.0</td>\n",
       "      <td>1.0</td>\n",
       "      <td>1.0</td>\n",
       "      <td>4.0</td>\n",
       "      <td>1.0</td>\n",
       "      <td>1.0</td>\n",
       "      <td>2.0</td>\n",
       "      <td>2.0</td>\n",
       "      <td>2.0</td>\n",
       "      <td>2.0</td>\n",
       "      <td>True</td>\n",
       "    </tr>\n",
       "    <tr>\n",
       "      <td>1</td>\n",
       "      <td>19.0</td>\n",
       "      <td>16.0</td>\n",
       "      <td>5.0</td>\n",
       "      <td>17.0</td>\n",
       "      <td>2.0</td>\n",
       "      <td>0.0</td>\n",
       "      <td>1.0</td>\n",
       "      <td>1.0</td>\n",
       "      <td>4.0</td>\n",
       "      <td>1.0</td>\n",
       "      <td>1.0</td>\n",
       "      <td>2.0</td>\n",
       "      <td>2.0</td>\n",
       "      <td>2.0</td>\n",
       "      <td>2.0</td>\n",
       "      <td>False</td>\n",
       "    </tr>\n",
       "    <tr>\n",
       "      <td>2</td>\n",
       "      <td>24.0</td>\n",
       "      <td>12.0</td>\n",
       "      <td>5.0</td>\n",
       "      <td>16.0</td>\n",
       "      <td>1.0</td>\n",
       "      <td>0.0</td>\n",
       "      <td>1.0</td>\n",
       "      <td>1.0</td>\n",
       "      <td>4.0</td>\n",
       "      <td>1.0</td>\n",
       "      <td>1.0</td>\n",
       "      <td>2.0</td>\n",
       "      <td>2.0</td>\n",
       "      <td>1.0</td>\n",
       "      <td>1.0</td>\n",
       "      <td>False</td>\n",
       "    </tr>\n",
       "    <tr>\n",
       "      <td>3</td>\n",
       "      <td>20.0</td>\n",
       "      <td>16.0</td>\n",
       "      <td>5.0</td>\n",
       "      <td>17.0</td>\n",
       "      <td>2.0</td>\n",
       "      <td>0.0</td>\n",
       "      <td>1.0</td>\n",
       "      <td>1.0</td>\n",
       "      <td>3.0</td>\n",
       "      <td>1.0</td>\n",
       "      <td>1.0</td>\n",
       "      <td>2.0</td>\n",
       "      <td>NaN</td>\n",
       "      <td>2.0</td>\n",
       "      <td>2.0</td>\n",
       "      <td>True</td>\n",
       "    </tr>\n",
       "    <tr>\n",
       "      <td>4</td>\n",
       "      <td>31.0</td>\n",
       "      <td>17.0</td>\n",
       "      <td>5.0</td>\n",
       "      <td>17.0</td>\n",
       "      <td>2.0</td>\n",
       "      <td>0.0</td>\n",
       "      <td>1.0</td>\n",
       "      <td>3.0</td>\n",
       "      <td>4.0</td>\n",
       "      <td>4.0</td>\n",
       "      <td>1.0</td>\n",
       "      <td>2.0</td>\n",
       "      <td>2.0</td>\n",
       "      <td>2.0</td>\n",
       "      <td>1.0</td>\n",
       "      <td>True</td>\n",
       "    </tr>\n",
       "  </tbody>\n",
       "</table>\n",
       "</div>"
      ],
      "text/plain": [
       "   AGEP  SCHL  MAR  RELP  DIS  ESP  CIT  MIG  MIL  ANC  NATIVITY  DEAR  DEYE  \\\n",
       "0  21.0  16.0  5.0  17.0  2.0  0.0  1.0  1.0  4.0  1.0       1.0   2.0   2.0   \n",
       "1  19.0  16.0  5.0  17.0  2.0  0.0  1.0  1.0  4.0  1.0       1.0   2.0   2.0   \n",
       "2  24.0  12.0  5.0  16.0  1.0  0.0  1.0  1.0  4.0  1.0       1.0   2.0   2.0   \n",
       "3  20.0  16.0  5.0  17.0  2.0  0.0  1.0  1.0  3.0  1.0       1.0   2.0   NaN   \n",
       "4  31.0  17.0  5.0  17.0  2.0  0.0  1.0  3.0  4.0  4.0       1.0   2.0   2.0   \n",
       "\n",
       "   DREM  SEX    ESR  \n",
       "0   2.0  2.0   True  \n",
       "1   2.0  2.0  False  \n",
       "2   1.0  1.0  False  \n",
       "3   2.0  2.0   True  \n",
       "4   2.0  1.0   True  "
      ]
     },
     "execution_count": 215,
     "metadata": {},
     "output_type": "execute_result"
    }
   ],
   "source": [
    "filename = r'C:\\Users\\Utente\\OneDrive\\Desktop\\MachineLearning\\pums.csv'\n",
    "data = pd.read_csv(filename, na_values='notknown')\n",
    "data.head()"
   ]
  },
  {
   "cell_type": "code",
   "execution_count": null,
   "id": "7128baabfc4c6fce",
   "metadata": {
    "ExecuteTime": {
     "end_time": "2024-05-16T09:59:48.463714Z",
     "start_time": "2024-05-16T09:59:48.314963Z"
    }
   },
   "outputs": [
    {
     "data": {
      "text/html": [
       "<div>\n",
       "<style scoped>\n",
       "    .dataframe tbody tr th:only-of-type {\n",
       "        vertical-align: middle;\n",
       "    }\n",
       "\n",
       "    .dataframe tbody tr th {\n",
       "        vertical-align: top;\n",
       "    }\n",
       "\n",
       "    .dataframe thead th {\n",
       "        text-align: right;\n",
       "    }\n",
       "</style>\n",
       "<table border=\"1\" class=\"dataframe\">\n",
       "  <thead>\n",
       "    <tr style=\"text-align: right;\">\n",
       "      <th></th>\n",
       "      <th>AGEP</th>\n",
       "      <th>SCHL</th>\n",
       "      <th>MAR</th>\n",
       "      <th>RELP</th>\n",
       "      <th>DIS</th>\n",
       "      <th>ESP</th>\n",
       "      <th>CIT</th>\n",
       "      <th>MIG</th>\n",
       "      <th>MIL</th>\n",
       "      <th>ANC</th>\n",
       "      <th>NATIVITY</th>\n",
       "      <th>DEAR</th>\n",
       "      <th>DEYE</th>\n",
       "      <th>DREM</th>\n",
       "      <th>SEX</th>\n",
       "      <th>ESR</th>\n",
       "    </tr>\n",
       "  </thead>\n",
       "  <tbody>\n",
       "    <tr>\n",
       "      <td>89</td>\n",
       "      <td>48.0</td>\n",
       "      <td>19.0</td>\n",
       "      <td>3.0</td>\n",
       "      <td>16.0</td>\n",
       "      <td>2.0</td>\n",
       "      <td>0.0</td>\n",
       "      <td>1.0</td>\n",
       "      <td>3.0</td>\n",
       "      <td>4.0</td>\n",
       "      <td>1.0</td>\n",
       "      <td>NaN</td>\n",
       "      <td>2.0</td>\n",
       "      <td>NaN</td>\n",
       "      <td>2.0</td>\n",
       "      <td>2.0</td>\n",
       "      <td>False</td>\n",
       "    </tr>\n",
       "    <tr>\n",
       "      <td>128</td>\n",
       "      <td>64.0</td>\n",
       "      <td>12.0</td>\n",
       "      <td>2.0</td>\n",
       "      <td>NaN</td>\n",
       "      <td>1.0</td>\n",
       "      <td>0.0</td>\n",
       "      <td>1.0</td>\n",
       "      <td>1.0</td>\n",
       "      <td>4.0</td>\n",
       "      <td>1.0</td>\n",
       "      <td>1.0</td>\n",
       "      <td>1.0</td>\n",
       "      <td>NaN</td>\n",
       "      <td>2.0</td>\n",
       "      <td>1.0</td>\n",
       "      <td>False</td>\n",
       "    </tr>\n",
       "    <tr>\n",
       "      <td>135</td>\n",
       "      <td>45.0</td>\n",
       "      <td>12.0</td>\n",
       "      <td>5.0</td>\n",
       "      <td>NaN</td>\n",
       "      <td>2.0</td>\n",
       "      <td>0.0</td>\n",
       "      <td>1.0</td>\n",
       "      <td>1.0</td>\n",
       "      <td>4.0</td>\n",
       "      <td>4.0</td>\n",
       "      <td>NaN</td>\n",
       "      <td>2.0</td>\n",
       "      <td>2.0</td>\n",
       "      <td>2.0</td>\n",
       "      <td>1.0</td>\n",
       "      <td>False</td>\n",
       "    </tr>\n",
       "    <tr>\n",
       "      <td>212</td>\n",
       "      <td>25.0</td>\n",
       "      <td>19.0</td>\n",
       "      <td>5.0</td>\n",
       "      <td>16.0</td>\n",
       "      <td>2.0</td>\n",
       "      <td>0.0</td>\n",
       "      <td>1.0</td>\n",
       "      <td>3.0</td>\n",
       "      <td>4.0</td>\n",
       "      <td>1.0</td>\n",
       "      <td>NaN</td>\n",
       "      <td>NaN</td>\n",
       "      <td>2.0</td>\n",
       "      <td>2.0</td>\n",
       "      <td>1.0</td>\n",
       "      <td>False</td>\n",
       "    </tr>\n",
       "    <tr>\n",
       "      <td>230</td>\n",
       "      <td>92.0</td>\n",
       "      <td>NaN</td>\n",
       "      <td>1.0</td>\n",
       "      <td>16.0</td>\n",
       "      <td>1.0</td>\n",
       "      <td>0.0</td>\n",
       "      <td>1.0</td>\n",
       "      <td>1.0</td>\n",
       "      <td>3.0</td>\n",
       "      <td>1.0</td>\n",
       "      <td>1.0</td>\n",
       "      <td>NaN</td>\n",
       "      <td>2.0</td>\n",
       "      <td>2.0</td>\n",
       "      <td>1.0</td>\n",
       "      <td>False</td>\n",
       "    </tr>\n",
       "    <tr>\n",
       "      <td>...</td>\n",
       "      <td>...</td>\n",
       "      <td>...</td>\n",
       "      <td>...</td>\n",
       "      <td>...</td>\n",
       "      <td>...</td>\n",
       "      <td>...</td>\n",
       "      <td>...</td>\n",
       "      <td>...</td>\n",
       "      <td>...</td>\n",
       "      <td>...</td>\n",
       "      <td>...</td>\n",
       "      <td>...</td>\n",
       "      <td>...</td>\n",
       "      <td>...</td>\n",
       "      <td>...</td>\n",
       "      <td>...</td>\n",
       "    </tr>\n",
       "    <tr>\n",
       "      <td>746268</td>\n",
       "      <td>59.0</td>\n",
       "      <td>19.0</td>\n",
       "      <td>1.0</td>\n",
       "      <td>0.0</td>\n",
       "      <td>2.0</td>\n",
       "      <td>0.0</td>\n",
       "      <td>1.0</td>\n",
       "      <td>1.0</td>\n",
       "      <td>4.0</td>\n",
       "      <td>1.0</td>\n",
       "      <td>NaN</td>\n",
       "      <td>2.0</td>\n",
       "      <td>NaN</td>\n",
       "      <td>2.0</td>\n",
       "      <td>2.0</td>\n",
       "      <td>True</td>\n",
       "    </tr>\n",
       "    <tr>\n",
       "      <td>746277</td>\n",
       "      <td>12.0</td>\n",
       "      <td>9.0</td>\n",
       "      <td>5.0</td>\n",
       "      <td>2.0</td>\n",
       "      <td>2.0</td>\n",
       "      <td>2.0</td>\n",
       "      <td>1.0</td>\n",
       "      <td>1.0</td>\n",
       "      <td>0.0</td>\n",
       "      <td>2.0</td>\n",
       "      <td>NaN</td>\n",
       "      <td>NaN</td>\n",
       "      <td>2.0</td>\n",
       "      <td>2.0</td>\n",
       "      <td>2.0</td>\n",
       "      <td>False</td>\n",
       "    </tr>\n",
       "    <tr>\n",
       "      <td>746298</td>\n",
       "      <td>54.0</td>\n",
       "      <td>NaN</td>\n",
       "      <td>1.0</td>\n",
       "      <td>1.0</td>\n",
       "      <td>2.0</td>\n",
       "      <td>0.0</td>\n",
       "      <td>1.0</td>\n",
       "      <td>1.0</td>\n",
       "      <td>4.0</td>\n",
       "      <td>4.0</td>\n",
       "      <td>NaN</td>\n",
       "      <td>2.0</td>\n",
       "      <td>2.0</td>\n",
       "      <td>2.0</td>\n",
       "      <td>1.0</td>\n",
       "      <td>True</td>\n",
       "    </tr>\n",
       "    <tr>\n",
       "      <td>746323</td>\n",
       "      <td>63.0</td>\n",
       "      <td>16.0</td>\n",
       "      <td>1.0</td>\n",
       "      <td>1.0</td>\n",
       "      <td>2.0</td>\n",
       "      <td>0.0</td>\n",
       "      <td>NaN</td>\n",
       "      <td>1.0</td>\n",
       "      <td>4.0</td>\n",
       "      <td>1.0</td>\n",
       "      <td>NaN</td>\n",
       "      <td>2.0</td>\n",
       "      <td>2.0</td>\n",
       "      <td>2.0</td>\n",
       "      <td>2.0</td>\n",
       "      <td>True</td>\n",
       "    </tr>\n",
       "    <tr>\n",
       "      <td>746332</td>\n",
       "      <td>47.0</td>\n",
       "      <td>NaN</td>\n",
       "      <td>1.0</td>\n",
       "      <td>0.0</td>\n",
       "      <td>1.0</td>\n",
       "      <td>0.0</td>\n",
       "      <td>1.0</td>\n",
       "      <td>1.0</td>\n",
       "      <td>4.0</td>\n",
       "      <td>4.0</td>\n",
       "      <td>NaN</td>\n",
       "      <td>1.0</td>\n",
       "      <td>1.0</td>\n",
       "      <td>2.0</td>\n",
       "      <td>1.0</td>\n",
       "      <td>False</td>\n",
       "    </tr>\n",
       "  </tbody>\n",
       "</table>\n",
       "<p>24288 rows × 16 columns</p>\n",
       "</div>"
      ],
      "text/plain": [
       "        AGEP  SCHL  MAR  RELP  DIS  ESP  CIT  MIG  MIL  ANC  NATIVITY  DEAR  \\\n",
       "89      48.0  19.0  3.0  16.0  2.0  0.0  1.0  3.0  4.0  1.0       NaN   2.0   \n",
       "128     64.0  12.0  2.0   NaN  1.0  0.0  1.0  1.0  4.0  1.0       1.0   1.0   \n",
       "135     45.0  12.0  5.0   NaN  2.0  0.0  1.0  1.0  4.0  4.0       NaN   2.0   \n",
       "212     25.0  19.0  5.0  16.0  2.0  0.0  1.0  3.0  4.0  1.0       NaN   NaN   \n",
       "230     92.0   NaN  1.0  16.0  1.0  0.0  1.0  1.0  3.0  1.0       1.0   NaN   \n",
       "...      ...   ...  ...   ...  ...  ...  ...  ...  ...  ...       ...   ...   \n",
       "746268  59.0  19.0  1.0   0.0  2.0  0.0  1.0  1.0  4.0  1.0       NaN   2.0   \n",
       "746277  12.0   9.0  5.0   2.0  2.0  2.0  1.0  1.0  0.0  2.0       NaN   NaN   \n",
       "746298  54.0   NaN  1.0   1.0  2.0  0.0  1.0  1.0  4.0  4.0       NaN   2.0   \n",
       "746323  63.0  16.0  1.0   1.0  2.0  0.0  NaN  1.0  4.0  1.0       NaN   2.0   \n",
       "746332  47.0   NaN  1.0   0.0  1.0  0.0  1.0  1.0  4.0  4.0       NaN   1.0   \n",
       "\n",
       "        DEYE  DREM  SEX    ESR  \n",
       "89       NaN   2.0  2.0  False  \n",
       "128      NaN   2.0  1.0  False  \n",
       "135      2.0   2.0  1.0  False  \n",
       "212      2.0   2.0  1.0  False  \n",
       "230      2.0   2.0  1.0  False  \n",
       "...      ...   ...  ...    ...  \n",
       "746268   NaN   2.0  2.0   True  \n",
       "746277   2.0   2.0  2.0  False  \n",
       "746298   2.0   2.0  1.0   True  \n",
       "746323   2.0   2.0  2.0   True  \n",
       "746332   1.0   2.0  1.0  False  \n",
       "\n",
       "[24288 rows x 16 columns]"
      ]
     },
     "execution_count": 216,
     "metadata": {},
     "output_type": "execute_result"
    }
   ],
   "source": [
    "data[data.isnull().sum(axis=1)>1]"
   ]
  },
  {
   "cell_type": "markdown",
   "id": "54a1cbed1eb8ab94",
   "metadata": {},
   "source": [
    "Replace Boolean target variable with O and 1\n"
   ]
  },
  {
   "cell_type": "code",
   "execution_count": null,
   "id": "d1c58966affbb5fc",
   "metadata": {
    "ExecuteTime": {
     "end_time": "2024-05-16T09:59:48.732328Z",
     "start_time": "2024-05-16T09:59:48.463714Z"
    }
   },
   "outputs": [
    {
     "data": {
      "text/html": [
       "<div>\n",
       "<style scoped>\n",
       "    .dataframe tbody tr th:only-of-type {\n",
       "        vertical-align: middle;\n",
       "    }\n",
       "\n",
       "    .dataframe tbody tr th {\n",
       "        vertical-align: top;\n",
       "    }\n",
       "\n",
       "    .dataframe thead th {\n",
       "        text-align: right;\n",
       "    }\n",
       "</style>\n",
       "<table border=\"1\" class=\"dataframe\">\n",
       "  <thead>\n",
       "    <tr style=\"text-align: right;\">\n",
       "      <th></th>\n",
       "      <th>AGEP</th>\n",
       "      <th>SCHL</th>\n",
       "      <th>MAR</th>\n",
       "      <th>RELP</th>\n",
       "      <th>DIS</th>\n",
       "      <th>ESP</th>\n",
       "      <th>CIT</th>\n",
       "      <th>MIG</th>\n",
       "      <th>MIL</th>\n",
       "      <th>ANC</th>\n",
       "      <th>NATIVITY</th>\n",
       "      <th>DEAR</th>\n",
       "      <th>DEYE</th>\n",
       "      <th>DREM</th>\n",
       "      <th>SEX</th>\n",
       "      <th>ESR</th>\n",
       "    </tr>\n",
       "  </thead>\n",
       "  <tbody>\n",
       "    <tr>\n",
       "      <td>0</td>\n",
       "      <td>21.0</td>\n",
       "      <td>16.0</td>\n",
       "      <td>5.0</td>\n",
       "      <td>17.0</td>\n",
       "      <td>2.0</td>\n",
       "      <td>0.0</td>\n",
       "      <td>1.0</td>\n",
       "      <td>1.0</td>\n",
       "      <td>4.0</td>\n",
       "      <td>1.0</td>\n",
       "      <td>1.0</td>\n",
       "      <td>2.0</td>\n",
       "      <td>2.0</td>\n",
       "      <td>2.0</td>\n",
       "      <td>2.0</td>\n",
       "      <td>1</td>\n",
       "    </tr>\n",
       "    <tr>\n",
       "      <td>1</td>\n",
       "      <td>19.0</td>\n",
       "      <td>16.0</td>\n",
       "      <td>5.0</td>\n",
       "      <td>17.0</td>\n",
       "      <td>2.0</td>\n",
       "      <td>0.0</td>\n",
       "      <td>1.0</td>\n",
       "      <td>1.0</td>\n",
       "      <td>4.0</td>\n",
       "      <td>1.0</td>\n",
       "      <td>1.0</td>\n",
       "      <td>2.0</td>\n",
       "      <td>2.0</td>\n",
       "      <td>2.0</td>\n",
       "      <td>2.0</td>\n",
       "      <td>0</td>\n",
       "    </tr>\n",
       "    <tr>\n",
       "      <td>2</td>\n",
       "      <td>24.0</td>\n",
       "      <td>12.0</td>\n",
       "      <td>5.0</td>\n",
       "      <td>16.0</td>\n",
       "      <td>1.0</td>\n",
       "      <td>0.0</td>\n",
       "      <td>1.0</td>\n",
       "      <td>1.0</td>\n",
       "      <td>4.0</td>\n",
       "      <td>1.0</td>\n",
       "      <td>1.0</td>\n",
       "      <td>2.0</td>\n",
       "      <td>2.0</td>\n",
       "      <td>1.0</td>\n",
       "      <td>1.0</td>\n",
       "      <td>0</td>\n",
       "    </tr>\n",
       "    <tr>\n",
       "      <td>3</td>\n",
       "      <td>20.0</td>\n",
       "      <td>16.0</td>\n",
       "      <td>5.0</td>\n",
       "      <td>17.0</td>\n",
       "      <td>2.0</td>\n",
       "      <td>0.0</td>\n",
       "      <td>1.0</td>\n",
       "      <td>1.0</td>\n",
       "      <td>3.0</td>\n",
       "      <td>1.0</td>\n",
       "      <td>1.0</td>\n",
       "      <td>2.0</td>\n",
       "      <td>NaN</td>\n",
       "      <td>2.0</td>\n",
       "      <td>2.0</td>\n",
       "      <td>1</td>\n",
       "    </tr>\n",
       "    <tr>\n",
       "      <td>4</td>\n",
       "      <td>31.0</td>\n",
       "      <td>17.0</td>\n",
       "      <td>5.0</td>\n",
       "      <td>17.0</td>\n",
       "      <td>2.0</td>\n",
       "      <td>0.0</td>\n",
       "      <td>1.0</td>\n",
       "      <td>3.0</td>\n",
       "      <td>4.0</td>\n",
       "      <td>4.0</td>\n",
       "      <td>1.0</td>\n",
       "      <td>2.0</td>\n",
       "      <td>2.0</td>\n",
       "      <td>2.0</td>\n",
       "      <td>1.0</td>\n",
       "      <td>1</td>\n",
       "    </tr>\n",
       "  </tbody>\n",
       "</table>\n",
       "</div>"
      ],
      "text/plain": [
       "   AGEP  SCHL  MAR  RELP  DIS  ESP  CIT  MIG  MIL  ANC  NATIVITY  DEAR  DEYE  \\\n",
       "0  21.0  16.0  5.0  17.0  2.0  0.0  1.0  1.0  4.0  1.0       1.0   2.0   2.0   \n",
       "1  19.0  16.0  5.0  17.0  2.0  0.0  1.0  1.0  4.0  1.0       1.0   2.0   2.0   \n",
       "2  24.0  12.0  5.0  16.0  1.0  0.0  1.0  1.0  4.0  1.0       1.0   2.0   2.0   \n",
       "3  20.0  16.0  5.0  17.0  2.0  0.0  1.0  1.0  3.0  1.0       1.0   2.0   NaN   \n",
       "4  31.0  17.0  5.0  17.0  2.0  0.0  1.0  3.0  4.0  4.0       1.0   2.0   2.0   \n",
       "\n",
       "   DREM  SEX  ESR  \n",
       "0   2.0  2.0    1  \n",
       "1   2.0  2.0    0  \n",
       "2   1.0  1.0    0  \n",
       "3   2.0  2.0    1  \n",
       "4   2.0  1.0    1  "
      ]
     },
     "execution_count": 217,
     "metadata": {},
     "output_type": "execute_result"
    }
   ],
   "source": [
    "data=data.replace({False:0, True:1})\n",
    "data.head()"
   ]
  },
  {
   "cell_type": "markdown",
   "id": "db8622fc307ab9bf",
   "metadata": {},
   "source": [
    "First data check"
   ]
  },
  {
   "cell_type": "code",
   "execution_count": null,
   "id": "95c136a26fe0e094",
   "metadata": {
    "ExecuteTime": {
     "end_time": "2024-05-16T09:59:48.789265Z",
     "start_time": "2024-05-16T09:59:48.732328Z"
    }
   },
   "outputs": [
    {
     "name": "stdout",
     "output_type": "stream",
     "text": [
      "<class 'pandas.core.frame.DataFrame'>\n",
      "RangeIndex: 746336 entries, 0 to 746335\n",
      "Data columns (total 16 columns):\n",
      "AGEP        746336 non-null float64\n",
      "SCHL        709133 non-null float64\n",
      "MAR         746336 non-null float64\n",
      "RELP        709213 non-null float64\n",
      "DIS         746336 non-null float64\n",
      "ESP         746336 non-null float64\n",
      "CIT         709287 non-null float64\n",
      "MIG         746336 non-null float64\n",
      "MIL         746336 non-null float64\n",
      "ANC         746336 non-null float64\n",
      "NATIVITY    708813 non-null float64\n",
      "DEAR        708974 non-null float64\n",
      "DEYE        709267 non-null float64\n",
      "DREM        746336 non-null float64\n",
      "SEX         746336 non-null float64\n",
      "ESR         746336 non-null int64\n",
      "dtypes: float64(15), int64(1)\n",
      "memory usage: 91.1 MB\n"
     ]
    },
    {
     "data": {
      "text/plain": [
       "AGEP            0\n",
       "SCHL        37203\n",
       "MAR             0\n",
       "RELP        37123\n",
       "DIS             0\n",
       "ESP             0\n",
       "CIT         37049\n",
       "MIG             0\n",
       "MIL             0\n",
       "ANC             0\n",
       "NATIVITY    37523\n",
       "DEAR        37362\n",
       "DEYE        37069\n",
       "DREM            0\n",
       "SEX             0\n",
       "ESR             0\n",
       "dtype: int64"
      ]
     },
     "execution_count": 218,
     "metadata": {},
     "output_type": "execute_result"
    }
   ],
   "source": [
    "data.info()\n",
    "data.isnull().sum()"
   ]
  },
  {
   "cell_type": "code",
   "execution_count": null,
   "id": "3f3d340b",
   "metadata": {
    "ExecuteTime": {
     "end_time": "2024-05-16T09:59:49.400208Z",
     "start_time": "2024-05-16T09:59:48.789265Z"
    }
   },
   "outputs": [
    {
     "data": {
      "text/html": [
       "<div>\n",
       "<style scoped>\n",
       "    .dataframe tbody tr th:only-of-type {\n",
       "        vertical-align: middle;\n",
       "    }\n",
       "\n",
       "    .dataframe tbody tr th {\n",
       "        vertical-align: top;\n",
       "    }\n",
       "\n",
       "    .dataframe thead th {\n",
       "        text-align: right;\n",
       "    }\n",
       "</style>\n",
       "<table border=\"1\" class=\"dataframe\">\n",
       "  <thead>\n",
       "    <tr style=\"text-align: right;\">\n",
       "      <th></th>\n",
       "      <th>AGEP</th>\n",
       "      <th>SCHL</th>\n",
       "      <th>MAR</th>\n",
       "      <th>RELP</th>\n",
       "      <th>DIS</th>\n",
       "      <th>ESP</th>\n",
       "      <th>CIT</th>\n",
       "      <th>MIG</th>\n",
       "      <th>MIL</th>\n",
       "      <th>ANC</th>\n",
       "      <th>NATIVITY</th>\n",
       "      <th>DEAR</th>\n",
       "      <th>DEYE</th>\n",
       "      <th>DREM</th>\n",
       "      <th>SEX</th>\n",
       "      <th>ESR</th>\n",
       "    </tr>\n",
       "  </thead>\n",
       "  <tbody>\n",
       "    <tr>\n",
       "      <td>AGEP</td>\n",
       "      <td>1.000000</td>\n",
       "      <td>0.526318</td>\n",
       "      <td>-0.652526</td>\n",
       "      <td>-0.160553</td>\n",
       "      <td>-0.319932</td>\n",
       "      <td>-0.495892</td>\n",
       "      <td>0.136805</td>\n",
       "      <td>-0.094053</td>\n",
       "      <td>0.610013</td>\n",
       "      <td>-0.075151</td>\n",
       "      <td>0.159861</td>\n",
       "      <td>-0.240264</td>\n",
       "      <td>-0.127749</td>\n",
       "      <td>0.297545</td>\n",
       "      <td>0.045604</td>\n",
       "      <td>0.108214</td>\n",
       "    </tr>\n",
       "    <tr>\n",
       "      <td>SCHL</td>\n",
       "      <td>0.526318</td>\n",
       "      <td>1.000000</td>\n",
       "      <td>-0.437045</td>\n",
       "      <td>-0.106178</td>\n",
       "      <td>-0.034417</td>\n",
       "      <td>-0.534254</td>\n",
       "      <td>0.013117</td>\n",
       "      <td>0.051095</td>\n",
       "      <td>0.710749</td>\n",
       "      <td>-0.055516</td>\n",
       "      <td>0.026687</td>\n",
       "      <td>-0.036743</td>\n",
       "      <td>-0.002851</td>\n",
       "      <td>0.508846</td>\n",
       "      <td>0.020629</td>\n",
       "      <td>0.433160</td>\n",
       "    </tr>\n",
       "    <tr>\n",
       "      <td>MAR</td>\n",
       "      <td>-0.652526</td>\n",
       "      <td>-0.437045</td>\n",
       "      <td>1.000000</td>\n",
       "      <td>0.324343</td>\n",
       "      <td>0.084751</td>\n",
       "      <td>0.395482</td>\n",
       "      <td>-0.197440</td>\n",
       "      <td>0.091173</td>\n",
       "      <td>-0.486286</td>\n",
       "      <td>0.067081</td>\n",
       "      <td>-0.212588</td>\n",
       "      <td>0.100159</td>\n",
       "      <td>0.034025</td>\n",
       "      <td>-0.243272</td>\n",
       "      <td>-0.037797</td>\n",
       "      <td>-0.236155</td>\n",
       "    </tr>\n",
       "    <tr>\n",
       "      <td>RELP</td>\n",
       "      <td>-0.160553</td>\n",
       "      <td>-0.106178</td>\n",
       "      <td>0.324343</td>\n",
       "      <td>1.000000</td>\n",
       "      <td>-0.090447</td>\n",
       "      <td>0.028915</td>\n",
       "      <td>-0.007710</td>\n",
       "      <td>0.202360</td>\n",
       "      <td>-0.026641</td>\n",
       "      <td>0.051846</td>\n",
       "      <td>-0.018830</td>\n",
       "      <td>-0.004358</td>\n",
       "      <td>-0.043709</td>\n",
       "      <td>-0.090742</td>\n",
       "      <td>-0.041623</td>\n",
       "      <td>-0.141054</td>\n",
       "    </tr>\n",
       "    <tr>\n",
       "      <td>DIS</td>\n",
       "      <td>-0.319932</td>\n",
       "      <td>-0.034417</td>\n",
       "      <td>0.084751</td>\n",
       "      <td>-0.090447</td>\n",
       "      <td>1.000000</td>\n",
       "      <td>0.093754</td>\n",
       "      <td>0.037943</td>\n",
       "      <td>-0.000815</td>\n",
       "      <td>-0.102686</td>\n",
       "      <td>-0.006058</td>\n",
       "      <td>0.031085</td>\n",
       "      <td>0.512855</td>\n",
       "      <td>0.405873</td>\n",
       "      <td>0.190759</td>\n",
       "      <td>-0.004698</td>\n",
       "      <td>0.209605</td>\n",
       "    </tr>\n",
       "    <tr>\n",
       "      <td>ESP</td>\n",
       "      <td>-0.495892</td>\n",
       "      <td>-0.534254</td>\n",
       "      <td>0.395482</td>\n",
       "      <td>0.028915</td>\n",
       "      <td>0.093754</td>\n",
       "      <td>1.000000</td>\n",
       "      <td>-0.139069</td>\n",
       "      <td>-0.016679</td>\n",
       "      <td>-0.650507</td>\n",
       "      <td>0.037561</td>\n",
       "      <td>-0.145389</td>\n",
       "      <td>0.063005</td>\n",
       "      <td>0.038179</td>\n",
       "      <td>-0.286680</td>\n",
       "      <td>-0.014166</td>\n",
       "      <td>-0.323080</td>\n",
       "    </tr>\n",
       "    <tr>\n",
       "      <td>CIT</td>\n",
       "      <td>0.136805</td>\n",
       "      <td>0.013117</td>\n",
       "      <td>-0.197440</td>\n",
       "      <td>-0.007710</td>\n",
       "      <td>0.037943</td>\n",
       "      <td>-0.139069</td>\n",
       "      <td>1.000000</td>\n",
       "      <td>-0.010506</td>\n",
       "      <td>0.210177</td>\n",
       "      <td>-0.154963</td>\n",
       "      <td>0.975068</td>\n",
       "      <td>0.025188</td>\n",
       "      <td>-0.000428</td>\n",
       "      <td>0.109111</td>\n",
       "      <td>0.011768</td>\n",
       "      <td>0.108761</td>\n",
       "    </tr>\n",
       "    <tr>\n",
       "      <td>MIG</td>\n",
       "      <td>-0.094053</td>\n",
       "      <td>0.051095</td>\n",
       "      <td>0.091173</td>\n",
       "      <td>0.202360</td>\n",
       "      <td>-0.000815</td>\n",
       "      <td>-0.016679</td>\n",
       "      <td>-0.010506</td>\n",
       "      <td>1.000000</td>\n",
       "      <td>0.041475</td>\n",
       "      <td>0.032566</td>\n",
       "      <td>-0.018573</td>\n",
       "      <td>0.016514</td>\n",
       "      <td>-0.003608</td>\n",
       "      <td>0.034611</td>\n",
       "      <td>-0.011250</td>\n",
       "      <td>0.020511</td>\n",
       "    </tr>\n",
       "    <tr>\n",
       "      <td>MIL</td>\n",
       "      <td>0.610013</td>\n",
       "      <td>0.710749</td>\n",
       "      <td>-0.486286</td>\n",
       "      <td>-0.026641</td>\n",
       "      <td>-0.102686</td>\n",
       "      <td>-0.650507</td>\n",
       "      <td>0.210177</td>\n",
       "      <td>0.041475</td>\n",
       "      <td>1.000000</td>\n",
       "      <td>-0.072090</td>\n",
       "      <td>0.217732</td>\n",
       "      <td>-0.041023</td>\n",
       "      <td>-0.047215</td>\n",
       "      <td>0.391905</td>\n",
       "      <td>0.084040</td>\n",
       "      <td>0.455615</td>\n",
       "    </tr>\n",
       "    <tr>\n",
       "      <td>ANC</td>\n",
       "      <td>-0.075151</td>\n",
       "      <td>-0.055516</td>\n",
       "      <td>0.067081</td>\n",
       "      <td>0.051846</td>\n",
       "      <td>-0.006058</td>\n",
       "      <td>0.037561</td>\n",
       "      <td>-0.154963</td>\n",
       "      <td>0.032566</td>\n",
       "      <td>-0.072090</td>\n",
       "      <td>1.000000</td>\n",
       "      <td>-0.160468</td>\n",
       "      <td>0.000405</td>\n",
       "      <td>0.001006</td>\n",
       "      <td>-0.050561</td>\n",
       "      <td>0.003481</td>\n",
       "      <td>-0.022187</td>\n",
       "    </tr>\n",
       "    <tr>\n",
       "      <td>NATIVITY</td>\n",
       "      <td>0.159861</td>\n",
       "      <td>0.026687</td>\n",
       "      <td>-0.212588</td>\n",
       "      <td>-0.018830</td>\n",
       "      <td>0.031085</td>\n",
       "      <td>-0.145389</td>\n",
       "      <td>0.975068</td>\n",
       "      <td>-0.018573</td>\n",
       "      <td>0.217732</td>\n",
       "      <td>-0.160468</td>\n",
       "      <td>1.000000</td>\n",
       "      <td>0.020730</td>\n",
       "      <td>-0.001856</td>\n",
       "      <td>0.109656</td>\n",
       "      <td>0.015864</td>\n",
       "      <td>0.110149</td>\n",
       "    </tr>\n",
       "    <tr>\n",
       "      <td>DEAR</td>\n",
       "      <td>-0.240264</td>\n",
       "      <td>-0.036743</td>\n",
       "      <td>0.100159</td>\n",
       "      <td>-0.004358</td>\n",
       "      <td>0.512855</td>\n",
       "      <td>0.063005</td>\n",
       "      <td>0.025188</td>\n",
       "      <td>0.016514</td>\n",
       "      <td>-0.041023</td>\n",
       "      <td>0.000405</td>\n",
       "      <td>0.020730</td>\n",
       "      <td>1.000000</td>\n",
       "      <td>0.231059</td>\n",
       "      <td>0.049433</td>\n",
       "      <td>0.034801</td>\n",
       "      <td>0.098217</td>\n",
       "    </tr>\n",
       "    <tr>\n",
       "      <td>DEYE</td>\n",
       "      <td>-0.127749</td>\n",
       "      <td>-0.002851</td>\n",
       "      <td>0.034025</td>\n",
       "      <td>-0.043709</td>\n",
       "      <td>0.405873</td>\n",
       "      <td>0.038179</td>\n",
       "      <td>-0.000428</td>\n",
       "      <td>-0.003608</td>\n",
       "      <td>-0.047215</td>\n",
       "      <td>0.001006</td>\n",
       "      <td>-0.001856</td>\n",
       "      <td>0.231059</td>\n",
       "      <td>1.000000</td>\n",
       "      <td>0.066936</td>\n",
       "      <td>-0.009537</td>\n",
       "      <td>0.072056</td>\n",
       "    </tr>\n",
       "    <tr>\n",
       "      <td>DREM</td>\n",
       "      <td>0.297545</td>\n",
       "      <td>0.508846</td>\n",
       "      <td>-0.243272</td>\n",
       "      <td>-0.090742</td>\n",
       "      <td>0.190759</td>\n",
       "      <td>-0.286680</td>\n",
       "      <td>0.109111</td>\n",
       "      <td>0.034611</td>\n",
       "      <td>0.391905</td>\n",
       "      <td>-0.050561</td>\n",
       "      <td>0.109656</td>\n",
       "      <td>0.049433</td>\n",
       "      <td>0.066936</td>\n",
       "      <td>1.000000</td>\n",
       "      <td>0.010203</td>\n",
       "      <td>0.265008</td>\n",
       "    </tr>\n",
       "    <tr>\n",
       "      <td>SEX</td>\n",
       "      <td>0.045604</td>\n",
       "      <td>0.020629</td>\n",
       "      <td>-0.037797</td>\n",
       "      <td>-0.041623</td>\n",
       "      <td>-0.004698</td>\n",
       "      <td>-0.014166</td>\n",
       "      <td>0.011768</td>\n",
       "      <td>-0.011250</td>\n",
       "      <td>0.084040</td>\n",
       "      <td>0.003481</td>\n",
       "      <td>0.015864</td>\n",
       "      <td>0.034801</td>\n",
       "      <td>-0.009537</td>\n",
       "      <td>0.010203</td>\n",
       "      <td>1.000000</td>\n",
       "      <td>-0.070236</td>\n",
       "    </tr>\n",
       "    <tr>\n",
       "      <td>ESR</td>\n",
       "      <td>0.108214</td>\n",
       "      <td>0.433160</td>\n",
       "      <td>-0.236155</td>\n",
       "      <td>-0.141054</td>\n",
       "      <td>0.209605</td>\n",
       "      <td>-0.323080</td>\n",
       "      <td>0.108761</td>\n",
       "      <td>0.020511</td>\n",
       "      <td>0.455615</td>\n",
       "      <td>-0.022187</td>\n",
       "      <td>0.110149</td>\n",
       "      <td>0.098217</td>\n",
       "      <td>0.072056</td>\n",
       "      <td>0.265008</td>\n",
       "      <td>-0.070236</td>\n",
       "      <td>1.000000</td>\n",
       "    </tr>\n",
       "  </tbody>\n",
       "</table>\n",
       "</div>"
      ],
      "text/plain": [
       "              AGEP      SCHL       MAR      RELP       DIS       ESP  \\\n",
       "AGEP      1.000000  0.526318 -0.652526 -0.160553 -0.319932 -0.495892   \n",
       "SCHL      0.526318  1.000000 -0.437045 -0.106178 -0.034417 -0.534254   \n",
       "MAR      -0.652526 -0.437045  1.000000  0.324343  0.084751  0.395482   \n",
       "RELP     -0.160553 -0.106178  0.324343  1.000000 -0.090447  0.028915   \n",
       "DIS      -0.319932 -0.034417  0.084751 -0.090447  1.000000  0.093754   \n",
       "ESP      -0.495892 -0.534254  0.395482  0.028915  0.093754  1.000000   \n",
       "CIT       0.136805  0.013117 -0.197440 -0.007710  0.037943 -0.139069   \n",
       "MIG      -0.094053  0.051095  0.091173  0.202360 -0.000815 -0.016679   \n",
       "MIL       0.610013  0.710749 -0.486286 -0.026641 -0.102686 -0.650507   \n",
       "ANC      -0.075151 -0.055516  0.067081  0.051846 -0.006058  0.037561   \n",
       "NATIVITY  0.159861  0.026687 -0.212588 -0.018830  0.031085 -0.145389   \n",
       "DEAR     -0.240264 -0.036743  0.100159 -0.004358  0.512855  0.063005   \n",
       "DEYE     -0.127749 -0.002851  0.034025 -0.043709  0.405873  0.038179   \n",
       "DREM      0.297545  0.508846 -0.243272 -0.090742  0.190759 -0.286680   \n",
       "SEX       0.045604  0.020629 -0.037797 -0.041623 -0.004698 -0.014166   \n",
       "ESR       0.108214  0.433160 -0.236155 -0.141054  0.209605 -0.323080   \n",
       "\n",
       "               CIT       MIG       MIL       ANC  NATIVITY      DEAR  \\\n",
       "AGEP      0.136805 -0.094053  0.610013 -0.075151  0.159861 -0.240264   \n",
       "SCHL      0.013117  0.051095  0.710749 -0.055516  0.026687 -0.036743   \n",
       "MAR      -0.197440  0.091173 -0.486286  0.067081 -0.212588  0.100159   \n",
       "RELP     -0.007710  0.202360 -0.026641  0.051846 -0.018830 -0.004358   \n",
       "DIS       0.037943 -0.000815 -0.102686 -0.006058  0.031085  0.512855   \n",
       "ESP      -0.139069 -0.016679 -0.650507  0.037561 -0.145389  0.063005   \n",
       "CIT       1.000000 -0.010506  0.210177 -0.154963  0.975068  0.025188   \n",
       "MIG      -0.010506  1.000000  0.041475  0.032566 -0.018573  0.016514   \n",
       "MIL       0.210177  0.041475  1.000000 -0.072090  0.217732 -0.041023   \n",
       "ANC      -0.154963  0.032566 -0.072090  1.000000 -0.160468  0.000405   \n",
       "NATIVITY  0.975068 -0.018573  0.217732 -0.160468  1.000000  0.020730   \n",
       "DEAR      0.025188  0.016514 -0.041023  0.000405  0.020730  1.000000   \n",
       "DEYE     -0.000428 -0.003608 -0.047215  0.001006 -0.001856  0.231059   \n",
       "DREM      0.109111  0.034611  0.391905 -0.050561  0.109656  0.049433   \n",
       "SEX       0.011768 -0.011250  0.084040  0.003481  0.015864  0.034801   \n",
       "ESR       0.108761  0.020511  0.455615 -0.022187  0.110149  0.098217   \n",
       "\n",
       "              DEYE      DREM       SEX       ESR  \n",
       "AGEP     -0.127749  0.297545  0.045604  0.108214  \n",
       "SCHL     -0.002851  0.508846  0.020629  0.433160  \n",
       "MAR       0.034025 -0.243272 -0.037797 -0.236155  \n",
       "RELP     -0.043709 -0.090742 -0.041623 -0.141054  \n",
       "DIS       0.405873  0.190759 -0.004698  0.209605  \n",
       "ESP       0.038179 -0.286680 -0.014166 -0.323080  \n",
       "CIT      -0.000428  0.109111  0.011768  0.108761  \n",
       "MIG      -0.003608  0.034611 -0.011250  0.020511  \n",
       "MIL      -0.047215  0.391905  0.084040  0.455615  \n",
       "ANC       0.001006 -0.050561  0.003481 -0.022187  \n",
       "NATIVITY -0.001856  0.109656  0.015864  0.110149  \n",
       "DEAR      0.231059  0.049433  0.034801  0.098217  \n",
       "DEYE      1.000000  0.066936 -0.009537  0.072056  \n",
       "DREM      0.066936  1.000000  0.010203  0.265008  \n",
       "SEX      -0.009537  0.010203  1.000000 -0.070236  \n",
       "ESR       0.072056  0.265008 -0.070236  1.000000  "
      ]
     },
     "execution_count": 92,
     "metadata": {},
     "output_type": "execute_result"
    }
   ],
   "source": [
    "data.corr()"
   ]
  },
  {
   "cell_type": "code",
   "execution_count": null,
   "id": "eb491cce",
   "metadata": {
    "ExecuteTime": {
     "end_time": "2024-05-16T09:59:50.071379Z",
     "start_time": "2024-05-16T09:59:49.400208Z"
    }
   },
   "outputs": [
    {
     "data": {
      "text/html": [
       "<div>\n",
       "<style scoped>\n",
       "    .dataframe tbody tr th:only-of-type {\n",
       "        vertical-align: middle;\n",
       "    }\n",
       "\n",
       "    .dataframe tbody tr th {\n",
       "        vertical-align: top;\n",
       "    }\n",
       "\n",
       "    .dataframe thead th {\n",
       "        text-align: right;\n",
       "    }\n",
       "</style>\n",
       "<table border=\"1\" class=\"dataframe\">\n",
       "  <thead>\n",
       "    <tr style=\"text-align: right;\">\n",
       "      <th></th>\n",
       "      <th>AGEP</th>\n",
       "      <th>SCHL</th>\n",
       "      <th>MAR</th>\n",
       "      <th>RELP</th>\n",
       "      <th>DIS</th>\n",
       "      <th>ESP</th>\n",
       "      <th>CIT</th>\n",
       "      <th>MIG</th>\n",
       "      <th>MIL</th>\n",
       "      <th>ANC</th>\n",
       "      <th>NATIVITY</th>\n",
       "      <th>DEAR</th>\n",
       "      <th>DEYE</th>\n",
       "      <th>DREM</th>\n",
       "      <th>SEX</th>\n",
       "      <th>ESR</th>\n",
       "    </tr>\n",
       "  </thead>\n",
       "  <tbody>\n",
       "    <tr>\n",
       "      <td>count</td>\n",
       "      <td>746336.000000</td>\n",
       "      <td>709133.000000</td>\n",
       "      <td>746336.000000</td>\n",
       "      <td>709213.000000</td>\n",
       "      <td>746336.000000</td>\n",
       "      <td>746336.000000</td>\n",
       "      <td>709287.000000</td>\n",
       "      <td>746336.000000</td>\n",
       "      <td>746336.000000</td>\n",
       "      <td>746336.000000</td>\n",
       "      <td>708813.000000</td>\n",
       "      <td>708974.000000</td>\n",
       "      <td>709267.000000</td>\n",
       "      <td>746336.000000</td>\n",
       "      <td>746336.000000</td>\n",
       "      <td>746336.000000</td>\n",
       "    </tr>\n",
       "    <tr>\n",
       "      <td>mean</td>\n",
       "      <td>40.378314</td>\n",
       "      <td>15.426601</td>\n",
       "      <td>2.995578</td>\n",
       "      <td>2.679022</td>\n",
       "      <td>1.866040</td>\n",
       "      <td>0.617611</td>\n",
       "      <td>1.693518</td>\n",
       "      <td>1.247413</td>\n",
       "      <td>3.080612</td>\n",
       "      <td>1.757976</td>\n",
       "      <td>1.192635</td>\n",
       "      <td>1.960921</td>\n",
       "      <td>1.975131</td>\n",
       "      <td>1.844122</td>\n",
       "      <td>1.507907</td>\n",
       "      <td>0.453035</td>\n",
       "    </tr>\n",
       "    <tr>\n",
       "      <td>std</td>\n",
       "      <td>23.374484</td>\n",
       "      <td>6.381558</td>\n",
       "      <td>1.865125</td>\n",
       "      <td>4.336577</td>\n",
       "      <td>0.340609</td>\n",
       "      <td>1.678300</td>\n",
       "      <td>1.390452</td>\n",
       "      <td>0.675038</td>\n",
       "      <td>1.608065</td>\n",
       "      <td>1.097682</td>\n",
       "      <td>0.394369</td>\n",
       "      <td>0.193783</td>\n",
       "      <td>0.155727</td>\n",
       "      <td>0.485527</td>\n",
       "      <td>0.499938</td>\n",
       "      <td>0.497790</td>\n",
       "    </tr>\n",
       "    <tr>\n",
       "      <td>min</td>\n",
       "      <td>0.000000</td>\n",
       "      <td>0.000000</td>\n",
       "      <td>1.000000</td>\n",
       "      <td>0.000000</td>\n",
       "      <td>1.000000</td>\n",
       "      <td>0.000000</td>\n",
       "      <td>1.000000</td>\n",
       "      <td>0.000000</td>\n",
       "      <td>0.000000</td>\n",
       "      <td>1.000000</td>\n",
       "      <td>1.000000</td>\n",
       "      <td>1.000000</td>\n",
       "      <td>1.000000</td>\n",
       "      <td>0.000000</td>\n",
       "      <td>1.000000</td>\n",
       "      <td>0.000000</td>\n",
       "    </tr>\n",
       "    <tr>\n",
       "      <td>25%</td>\n",
       "      <td>20.000000</td>\n",
       "      <td>13.000000</td>\n",
       "      <td>1.000000</td>\n",
       "      <td>0.000000</td>\n",
       "      <td>2.000000</td>\n",
       "      <td>0.000000</td>\n",
       "      <td>1.000000</td>\n",
       "      <td>1.000000</td>\n",
       "      <td>2.000000</td>\n",
       "      <td>1.000000</td>\n",
       "      <td>1.000000</td>\n",
       "      <td>2.000000</td>\n",
       "      <td>2.000000</td>\n",
       "      <td>2.000000</td>\n",
       "      <td>1.000000</td>\n",
       "      <td>0.000000</td>\n",
       "    </tr>\n",
       "    <tr>\n",
       "      <td>50%</td>\n",
       "      <td>40.000000</td>\n",
       "      <td>17.000000</td>\n",
       "      <td>3.000000</td>\n",
       "      <td>1.000000</td>\n",
       "      <td>2.000000</td>\n",
       "      <td>0.000000</td>\n",
       "      <td>1.000000</td>\n",
       "      <td>1.000000</td>\n",
       "      <td>4.000000</td>\n",
       "      <td>1.000000</td>\n",
       "      <td>1.000000</td>\n",
       "      <td>2.000000</td>\n",
       "      <td>2.000000</td>\n",
       "      <td>2.000000</td>\n",
       "      <td>2.000000</td>\n",
       "      <td>0.000000</td>\n",
       "    </tr>\n",
       "    <tr>\n",
       "      <td>75%</td>\n",
       "      <td>59.000000</td>\n",
       "      <td>20.000000</td>\n",
       "      <td>5.000000</td>\n",
       "      <td>2.000000</td>\n",
       "      <td>2.000000</td>\n",
       "      <td>0.000000</td>\n",
       "      <td>1.000000</td>\n",
       "      <td>1.000000</td>\n",
       "      <td>4.000000</td>\n",
       "      <td>2.000000</td>\n",
       "      <td>1.000000</td>\n",
       "      <td>2.000000</td>\n",
       "      <td>2.000000</td>\n",
       "      <td>2.000000</td>\n",
       "      <td>2.000000</td>\n",
       "      <td>1.000000</td>\n",
       "    </tr>\n",
       "    <tr>\n",
       "      <td>max</td>\n",
       "      <td>94.000000</td>\n",
       "      <td>24.000000</td>\n",
       "      <td>5.000000</td>\n",
       "      <td>17.000000</td>\n",
       "      <td>2.000000</td>\n",
       "      <td>8.000000</td>\n",
       "      <td>5.000000</td>\n",
       "      <td>3.000000</td>\n",
       "      <td>4.000000</td>\n",
       "      <td>4.000000</td>\n",
       "      <td>2.000000</td>\n",
       "      <td>2.000000</td>\n",
       "      <td>2.000000</td>\n",
       "      <td>2.000000</td>\n",
       "      <td>2.000000</td>\n",
       "      <td>1.000000</td>\n",
       "    </tr>\n",
       "  </tbody>\n",
       "</table>\n",
       "</div>"
      ],
      "text/plain": [
       "                AGEP           SCHL            MAR           RELP  \\\n",
       "count  746336.000000  709133.000000  746336.000000  709213.000000   \n",
       "mean       40.378314      15.426601       2.995578       2.679022   \n",
       "std        23.374484       6.381558       1.865125       4.336577   \n",
       "min         0.000000       0.000000       1.000000       0.000000   \n",
       "25%        20.000000      13.000000       1.000000       0.000000   \n",
       "50%        40.000000      17.000000       3.000000       1.000000   \n",
       "75%        59.000000      20.000000       5.000000       2.000000   \n",
       "max        94.000000      24.000000       5.000000      17.000000   \n",
       "\n",
       "                 DIS            ESP            CIT            MIG  \\\n",
       "count  746336.000000  746336.000000  709287.000000  746336.000000   \n",
       "mean        1.866040       0.617611       1.693518       1.247413   \n",
       "std         0.340609       1.678300       1.390452       0.675038   \n",
       "min         1.000000       0.000000       1.000000       0.000000   \n",
       "25%         2.000000       0.000000       1.000000       1.000000   \n",
       "50%         2.000000       0.000000       1.000000       1.000000   \n",
       "75%         2.000000       0.000000       1.000000       1.000000   \n",
       "max         2.000000       8.000000       5.000000       3.000000   \n",
       "\n",
       "                 MIL            ANC       NATIVITY           DEAR  \\\n",
       "count  746336.000000  746336.000000  708813.000000  708974.000000   \n",
       "mean        3.080612       1.757976       1.192635       1.960921   \n",
       "std         1.608065       1.097682       0.394369       0.193783   \n",
       "min         0.000000       1.000000       1.000000       1.000000   \n",
       "25%         2.000000       1.000000       1.000000       2.000000   \n",
       "50%         4.000000       1.000000       1.000000       2.000000   \n",
       "75%         4.000000       2.000000       1.000000       2.000000   \n",
       "max         4.000000       4.000000       2.000000       2.000000   \n",
       "\n",
       "                DEYE           DREM            SEX            ESR  \n",
       "count  709267.000000  746336.000000  746336.000000  746336.000000  \n",
       "mean        1.975131       1.844122       1.507907       0.453035  \n",
       "std         0.155727       0.485527       0.499938       0.497790  \n",
       "min         1.000000       0.000000       1.000000       0.000000  \n",
       "25%         2.000000       2.000000       1.000000       0.000000  \n",
       "50%         2.000000       2.000000       2.000000       0.000000  \n",
       "75%         2.000000       2.000000       2.000000       1.000000  \n",
       "max         2.000000       2.000000       2.000000       1.000000  "
      ]
     },
     "execution_count": 93,
     "metadata": {},
     "output_type": "execute_result"
    }
   ],
   "source": [
    "data.describe()"
   ]
  },
  {
   "cell_type": "code",
   "execution_count": null,
   "id": "4d032297ff367d4b",
   "metadata": {
    "ExecuteTime": {
     "end_time": "2024-05-16T09:59:50.075668Z",
     "start_time": "2024-05-16T09:59:50.071379Z"
    }
   },
   "outputs": [],
   "source": [
    "#data['SCHL'].hist()"
   ]
  },
  {
   "cell_type": "code",
   "execution_count": null,
   "id": "e71a2bd02b67e6f7",
   "metadata": {
    "ExecuteTime": {
     "end_time": "2024-05-16T09:59:50.087656Z",
     "start_time": "2024-05-16T09:59:50.075668Z"
    }
   },
   "outputs": [],
   "source": [
    "#data['MAR'].hist()"
   ]
  },
  {
   "cell_type": "code",
   "execution_count": null,
   "id": "373294b20e5f6b5b",
   "metadata": {
    "ExecuteTime": {
     "end_time": "2024-05-16T09:59:50.097530Z",
     "start_time": "2024-05-16T09:59:50.087656Z"
    }
   },
   "outputs": [],
   "source": [
    "#data['RELP'].hist(bins=18)\n",
    "#data[data['RELP']==7].mean()"
   ]
  },
  {
   "cell_type": "code",
   "execution_count": null,
   "id": "b3eb087c459547f9",
   "metadata": {
    "ExecuteTime": {
     "end_time": "2024-05-16T09:59:50.108363Z",
     "start_time": "2024-05-16T09:59:50.097530Z"
    }
   },
   "outputs": [],
   "source": [
    "#data['DIS'].hist()"
   ]
  },
  {
   "cell_type": "code",
   "execution_count": null,
   "id": "2f2f3ae0e0ec5c0a",
   "metadata": {
    "ExecuteTime": {
     "end_time": "2024-05-16T09:59:50.120931Z",
     "start_time": "2024-05-16T09:59:50.108363Z"
    }
   },
   "outputs": [],
   "source": [
    "#data['ESP'].hist()"
   ]
  },
  {
   "cell_type": "code",
   "execution_count": null,
   "id": "aab92fab67317f7d",
   "metadata": {
    "ExecuteTime": {
     "end_time": "2024-05-16T09:59:50.132361Z",
     "start_time": "2024-05-16T09:59:50.120931Z"
    }
   },
   "outputs": [],
   "source": [
    "#data['CIT'].hist()"
   ]
  },
  {
   "cell_type": "code",
   "execution_count": null,
   "id": "a2b9b8b6483a7a0d",
   "metadata": {
    "ExecuteTime": {
     "end_time": "2024-05-16T09:59:50.143081Z",
     "start_time": "2024-05-16T09:59:50.132361Z"
    }
   },
   "outputs": [],
   "source": [
    "#data['MIG'].hist()"
   ]
  },
  {
   "cell_type": "code",
   "execution_count": null,
   "id": "6183246054fcf673",
   "metadata": {
    "ExecuteTime": {
     "end_time": "2024-05-16T09:59:50.154924Z",
     "start_time": "2024-05-16T09:59:50.143081Z"
    }
   },
   "outputs": [],
   "source": [
    "#data['MIL'].hist()"
   ]
  },
  {
   "cell_type": "code",
   "execution_count": null,
   "id": "4a815b462a6b3648",
   "metadata": {
    "ExecuteTime": {
     "end_time": "2024-05-16T09:59:50.165363Z",
     "start_time": "2024-05-16T09:59:50.154924Z"
    }
   },
   "outputs": [],
   "source": [
    "#data['ANC'].hist()"
   ]
  },
  {
   "cell_type": "code",
   "execution_count": null,
   "id": "6639608628f66df6",
   "metadata": {
    "ExecuteTime": {
     "end_time": "2024-05-16T09:59:50.180524Z",
     "start_time": "2024-05-16T09:59:50.165363Z"
    }
   },
   "outputs": [],
   "source": [
    "#data['NATIVITY'].hist()"
   ]
  },
  {
   "cell_type": "code",
   "execution_count": null,
   "id": "6ee7b65e2417bb92",
   "metadata": {
    "ExecuteTime": {
     "end_time": "2024-05-16T09:59:50.190818Z",
     "start_time": "2024-05-16T09:59:50.180524Z"
    }
   },
   "outputs": [],
   "source": [
    " #data['DEAR'].hist()"
   ]
  },
  {
   "cell_type": "code",
   "execution_count": null,
   "id": "f224f1ddbcbd9c96",
   "metadata": {
    "ExecuteTime": {
     "end_time": "2024-05-16T09:59:50.201157Z",
     "start_time": "2024-05-16T09:59:50.190818Z"
    }
   },
   "outputs": [],
   "source": [
    "#data['DEYE'].hist()"
   ]
  },
  {
   "cell_type": "code",
   "execution_count": null,
   "id": "530973aa3823bc17",
   "metadata": {
    "ExecuteTime": {
     "end_time": "2024-05-16T09:59:50.212357Z",
     "start_time": "2024-05-16T09:59:50.201157Z"
    }
   },
   "outputs": [],
   "source": [
    "#data['DREM'].hist()"
   ]
  },
  {
   "cell_type": "code",
   "execution_count": null,
   "id": "a34e84f19c8d4765",
   "metadata": {
    "ExecuteTime": {
     "end_time": "2024-05-16T09:59:50.223194Z",
     "start_time": "2024-05-16T09:59:50.212357Z"
    }
   },
   "outputs": [],
   "source": [
    "#data['SEX'].hist()"
   ]
  },
  {
   "cell_type": "code",
   "execution_count": null,
   "id": "374eee89059b6d53",
   "metadata": {
    "ExecuteTime": {
     "end_time": "2024-05-16T09:59:50.235658Z",
     "start_time": "2024-05-16T09:59:50.223194Z"
    }
   },
   "outputs": [],
   "source": [
    "#data['ESR'].hist()"
   ]
  },
  {
   "cell_type": "code",
   "execution_count": null,
   "id": "77fef287f90ea527",
   "metadata": {
    "ExecuteTime": {
     "end_time": "2024-05-16T09:59:50.247225Z",
     "start_time": "2024-05-16T09:59:50.235658Z"
    }
   },
   "outputs": [],
   "source": [
    "#data.corr()"
   ]
  },
  {
   "cell_type": "markdown",
   "id": "ff43accb44addea8",
   "metadata": {},
   "source": [
    "substituted NaN values of DEYE and DEAR with mode"
   ]
  },
  {
   "cell_type": "code",
   "execution_count": null,
   "id": "7ee0e40354bb20b8",
   "metadata": {
    "ExecuteTime": {
     "end_time": "2024-05-16T09:59:50.351988Z",
     "start_time": "2024-05-16T09:59:50.247225Z"
    }
   },
   "outputs": [
    {
     "data": {
      "text/plain": [
       "AGEP            0\n",
       "SCHL        37203\n",
       "MAR             0\n",
       "RELP        37123\n",
       "DIS             0\n",
       "ESP             0\n",
       "CIT         37049\n",
       "MIG             0\n",
       "MIL             0\n",
       "ANC             0\n",
       "NATIVITY    37523\n",
       "DEAR            0\n",
       "DEYE            0\n",
       "DREM            0\n",
       "SEX             0\n",
       "ESR             0\n",
       "dtype: int64"
      ]
     },
     "execution_count": 219,
     "metadata": {},
     "output_type": "execute_result"
    }
   ],
   "source": [
    "data['DEYE']=data['DEYE'].fillna(2)\n",
    "data['DEAR']=data['DEAR'].fillna(2)\n",
    "data.isna().sum()"
   ]
  },
  {
   "cell_type": "markdown",
   "id": "147786f3e23c4a5f",
   "metadata": {},
   "source": [
    "dropping every row in which both CIT and NATIVITY are NaNs"
   ]
  },
  {
   "cell_type": "code",
   "execution_count": null,
   "id": "414226e89df0f437",
   "metadata": {
    "ExecuteTime": {
     "end_time": "2024-05-16T09:59:50.426217Z",
     "start_time": "2024-05-16T09:59:50.353996Z"
    }
   },
   "outputs": [],
   "source": [
    "cond = data['CIT'].isna() & data['NATIVITY'].isna()\n",
    "data = data.loc[~cond]"
   ]
  },
  {
   "cell_type": "code",
   "execution_count": null,
   "id": "84ed7bcceb707642",
   "metadata": {
    "ExecuteTime": {
     "end_time": "2024-05-16T09:59:50.609346Z",
     "start_time": "2024-05-16T09:59:50.426217Z"
    }
   },
   "outputs": [
    {
     "data": {
      "text/plain": [
       "<matplotlib.axes._subplots.AxesSubplot at 0x1c80ea22f88>"
      ]
     },
     "execution_count": 221,
     "metadata": {},
     "output_type": "execute_result"
    },
    {
     "data": {
      "image/png": "[encoded data removed]",
      "text/plain": [
       "<Figure size 640x480 with 1 Axes>"
      ]
     },
     "metadata": {},
     "output_type": "display_data"
    }
   ],
   "source": [
    "data['NATIVITY'] = data['NATIVITY'] - 1\n",
    "data['NATIVITY'].hist()"
   ]
  },
  {
   "cell_type": "code",
   "execution_count": null,
   "id": "de4ae3e7506beee3",
   "metadata": {
    "ExecuteTime": {
     "end_time": "2024-05-16T09:59:50.614201Z",
     "start_time": "2024-05-16T09:59:50.609346Z"
    }
   },
   "outputs": [],
   "source": [
    "#pd.plotting.scatter_matrix(data[['CIT','NATIVITY']])"
   ]
  },
  {
   "cell_type": "markdown",
   "id": "504d4dcfd94be16e",
   "metadata": {},
   "source": [
    "reconstruction of NAT from CIT"
   ]
  },
  {
   "cell_type": "code",
   "execution_count": null,
   "id": "993af1c9c50da206",
   "metadata": {
    "ExecuteTime": {
     "end_time": "2024-05-16T09:59:50.635151Z",
     "start_time": "2024-05-16T09:59:50.614201Z"
    }
   },
   "outputs": [],
   "source": [
    "data.loc[(data['NATIVITY'].isnull()) & (data['CIT']<4), 'NATIVITY'] = 0\n",
    "data.loc[(data['NATIVITY'].isnull()) & (data['CIT']>3), 'NATIVITY'] = 1"
   ]
  },
  {
   "cell_type": "markdown",
   "id": "1dd7175e5c6fe8d9",
   "metadata": {},
   "source": [
    "checking whether we did everything correctly"
   ]
  },
  {
   "cell_type": "code",
   "execution_count": null,
   "id": "9095479c4eb2b005",
   "metadata": {
    "ExecuteTime": {
     "end_time": "2024-05-16T09:59:50.643945Z",
     "start_time": "2024-05-16T09:59:50.638160Z"
    }
   },
   "outputs": [],
   "source": [
    "#pd.plotting.scatter_matrix(data[['CIT','NATIVITY']])"
   ]
  },
  {
   "cell_type": "markdown",
   "id": "e5022653",
   "metadata": {},
   "source": [
    "Fill CIT from correlation with NATIVITY "
   ]
  },
  {
   "cell_type": "code",
   "execution_count": null,
   "id": "578497502b0c5dd",
   "metadata": {
    "ExecuteTime": {
     "end_time": "2024-05-16T09:59:50.699626Z",
     "start_time": "2024-05-16T09:59:50.643945Z"
    }
   },
   "outputs": [
    {
     "data": {
      "text/plain": [
       "AGEP            0\n",
       "SCHL        37103\n",
       "MAR             0\n",
       "RELP        37036\n",
       "DIS             0\n",
       "ESP             0\n",
       "CIT             0\n",
       "MIG             0\n",
       "MIL             0\n",
       "ANC             0\n",
       "NATIVITY        0\n",
       "DEAR            0\n",
       "DEYE            0\n",
       "DREM            0\n",
       "SEX             0\n",
       "ESR             0\n",
       "dtype: int64"
      ]
     },
     "execution_count": 223,
     "metadata": {},
     "output_type": "execute_result"
    }
   ],
   "source": [
    "data.loc[(data['CIT'].isnull()) & (data['NATIVITY']==0), 'CIT'] = 1\n",
    "data.loc[(data['CIT'].isnull()) & (data['NATIVITY']==1), 'CIT'] = np.random.randint(4,5)\n",
    "data.isna().sum()"
   ]
  },
  {
   "cell_type": "code",
   "execution_count": null,
   "id": "8cdf9a79",
   "metadata": {
    "ExecuteTime": {
     "end_time": "2024-05-16T09:59:50.806588Z",
     "start_time": "2024-05-16T09:59:50.701134Z"
    }
   },
   "outputs": [
    {
     "data": {
      "text/plain": [
       "AGEP            0\n",
       "SCHL        37103\n",
       "MAR             0\n",
       "DIS             0\n",
       "ESP             0\n",
       "CIT             0\n",
       "MIG             0\n",
       "MIL             0\n",
       "ANC             0\n",
       "NATIVITY        0\n",
       "DEAR            0\n",
       "DEYE            0\n",
       "DREM            0\n",
       "SEX             0\n",
       "ESR             0\n",
       "dtype: int64"
      ]
     },
     "execution_count": 224,
     "metadata": {},
     "output_type": "execute_result"
    }
   ],
   "source": [
    "data=data.drop('RELP', axis=1)\n",
    "data.isna().sum()"
   ]
  },
  {
   "cell_type": "markdown",
   "id": "60085bb9",
   "metadata": {},
   "source": [
    "Fill missing school by correlation with AGE"
   ]
  },
  {
   "cell_type": "code",
   "execution_count": null,
   "id": "d26951e5",
   "metadata": {
    "ExecuteTime": {
     "end_time": "2024-05-16T09:59:50.815641Z",
     "start_time": "2024-05-16T09:59:50.806588Z"
    }
   },
   "outputs": [],
   "source": [
    "#pd.plotting.scatter_matrix(data[['SCHL','AGEP']])"
   ]
  },
  {
   "cell_type": "code",
   "execution_count": null,
   "id": "e3288c4f",
   "metadata": {
    "ExecuteTime": {
     "end_time": "2024-05-16T09:59:51.090178Z",
     "start_time": "2024-05-16T09:59:50.815641Z"
    }
   },
   "outputs": [
    {
     "data": {
      "text/plain": [
       "AGEP        0\n",
       "SCHL        0\n",
       "MAR         0\n",
       "DIS         0\n",
       "ESP         0\n",
       "CIT         0\n",
       "MIG         0\n",
       "MIL         0\n",
       "ANC         0\n",
       "NATIVITY    0\n",
       "DEAR        0\n",
       "DEYE        0\n",
       "DREM        0\n",
       "SEX         0\n",
       "ESR         0\n",
       "dtype: int64"
      ]
     },
     "execution_count": 226,
     "metadata": {},
     "output_type": "execute_result"
    }
   ],
   "source": [
    "data['SCHL_mode']=data.groupby('AGEP')['SCHL'].transform(lambda x: x.mode().iloc[0])\n",
    "data['SCHL']=data['SCHL'].fillna(data['SCHL_mode'])\n",
    "data.drop('SCHL_mode', axis=1, inplace=True)\n",
    "data.isna().sum()"
   ]
  },
  {
   "cell_type": "markdown",
   "id": "b6a99170",
   "metadata": {},
   "source": [
    "Checking everything is okay"
   ]
  },
  {
   "cell_type": "code",
   "execution_count": null,
   "id": "673b93be",
   "metadata": {
    "ExecuteTime": {
     "end_time": "2024-05-16T09:59:51.095486Z",
     "start_time": "2024-05-16T09:59:51.090178Z"
    }
   },
   "outputs": [],
   "source": [
    "#pd.plotting.scatter_matrix(data[['SCHL','AGEP']])"
   ]
  },
  {
   "cell_type": "markdown",
   "id": "fb6dda8f",
   "metadata": {},
   "source": [
    "## 2) CLUSTERING"
   ]
  },
  {
   "cell_type": "code",
   "execution_count": null,
   "id": "f32d1150",
   "metadata": {
    "ExecuteTime": {
     "end_time": "2024-05-16T09:59:51.146929Z",
     "start_time": "2024-05-16T09:59:51.095486Z"
    }
   },
   "outputs": [],
   "source": [
    "data_target = data['ESR']\n",
    "data.drop('ESR', axis=1, inplace=True)"
   ]
  },
  {
   "cell_type": "markdown",
   "id": "76dae806",
   "metadata": {},
   "source": [
    "Normalization"
   ]
  },
  {
   "cell_type": "code",
   "execution_count": null,
   "id": "42c095c2",
   "metadata": {
    "ExecuteTime": {
     "end_time": "2024-05-16T09:59:51.309229Z",
     "start_time": "2024-05-16T09:59:51.148944Z"
    }
   },
   "outputs": [
    {
     "data": {
      "text/plain": [
       "StandardScaler(copy=True, with_mean=True, with_std=True)"
      ]
     },
     "execution_count": 122,
     "metadata": {},
     "output_type": "execute_result"
    }
   ],
   "source": [
    "from sklearn.preprocessing import StandardScaler, MinMaxScaler\n",
    "scaler = StandardScaler()\n",
    "scaler.fit(data.values)"
   ]
  },
  {
   "cell_type": "code",
   "execution_count": null,
   "id": "fb6a11e5",
   "metadata": {
    "ExecuteTime": {
     "end_time": "2024-05-16T09:59:51.446139Z",
     "start_time": "2024-05-16T09:59:51.309229Z"
    }
   },
   "outputs": [],
   "source": [
    "data_scaled=scaler.transform(data.values)"
   ]
  },
  {
   "cell_type": "markdown",
   "id": "72946fc3",
   "metadata": {},
   "source": [
    "### K-means"
   ]
  },
  {
   "cell_type": "code",
   "execution_count": null,
   "id": "141dcf5e",
   "metadata": {
    "ExecuteTime": {
     "end_time": "2024-05-16T09:59:51.452833Z",
     "start_time": "2024-05-16T09:59:51.448150Z"
    }
   },
   "outputs": [],
   "source": [
    "from sklearn.cluster import KMeans"
   ]
  },
  {
   "cell_type": "code",
   "execution_count": null,
   "id": "902d180b",
   "metadata": {
    "ExecuteTime": {
     "end_time": "2024-05-16T10:18:46.255757Z",
     "start_time": "2024-05-16T10:18:39.947122Z"
    }
   },
   "outputs": [
    {
     "ename": "KeyboardInterrupt",
     "evalue": "",
     "output_type": "error",
     "traceback": [
      "\u001b[1;31m---------------------------------------------------------------------------\u001b[0m",
      "\u001b[1;31mKeyboardInterrupt\u001b[0m                         Traceback (most recent call last)",
      "\u001b[1;32m~\\AppData\\Local\\Temp\\ipykernel_43000\\74257927.py\u001b[0m in \u001b[0;36m<module>\u001b[1;34m\u001b[0m\n\u001b[0;32m      1\u001b[0m \u001b[0mkmeans\u001b[0m \u001b[1;33m=\u001b[0m \u001b[0mKMeans\u001b[0m\u001b[1;33m(\u001b[0m\u001b[0mn_clusters\u001b[0m\u001b[1;33m=\u001b[0m\u001b[1;36m2\u001b[0m\u001b[1;33m,\u001b[0m \u001b[0mn_init\u001b[0m\u001b[1;33m=\u001b[0m\u001b[1;36m50\u001b[0m\u001b[1;33m,\u001b[0m \u001b[0mmax_iter\u001b[0m\u001b[1;33m=\u001b[0m\u001b[1;36m300\u001b[0m\u001b[1;33m)\u001b[0m\u001b[1;33m\u001b[0m\u001b[1;33m\u001b[0m\u001b[0m\n\u001b[1;32m----> 2\u001b[1;33m \u001b[0mkmeans\u001b[0m\u001b[1;33m.\u001b[0m\u001b[0mfit\u001b[0m\u001b[1;33m(\u001b[0m\u001b[0mdata_scaled\u001b[0m\u001b[1;33m)\u001b[0m\u001b[1;33m\u001b[0m\u001b[1;33m\u001b[0m\u001b[0m\n\u001b[0m",
      "\u001b[1;32mc:\\ProgramData\\Anaconda3\\lib\\site-packages\\sklearn\\cluster\\k_means_.py\u001b[0m in \u001b[0;36mfit\u001b[1;34m(self, X, y, sample_weight)\u001b[0m\n\u001b[0;32m    970\u001b[0m                 \u001b[0mtol\u001b[0m\u001b[1;33m=\u001b[0m\u001b[0mself\u001b[0m\u001b[1;33m.\u001b[0m\u001b[0mtol\u001b[0m\u001b[1;33m,\u001b[0m \u001b[0mrandom_state\u001b[0m\u001b[1;33m=\u001b[0m\u001b[0mrandom_state\u001b[0m\u001b[1;33m,\u001b[0m \u001b[0mcopy_x\u001b[0m\u001b[1;33m=\u001b[0m\u001b[0mself\u001b[0m\u001b[1;33m.\u001b[0m\u001b[0mcopy_x\u001b[0m\u001b[1;33m,\u001b[0m\u001b[1;33m\u001b[0m\u001b[1;33m\u001b[0m\u001b[0m\n\u001b[0;32m    971\u001b[0m                 \u001b[0mn_jobs\u001b[0m\u001b[1;33m=\u001b[0m\u001b[0mself\u001b[0m\u001b[1;33m.\u001b[0m\u001b[0mn_jobs\u001b[0m\u001b[1;33m,\u001b[0m \u001b[0malgorithm\u001b[0m\u001b[1;33m=\u001b[0m\u001b[0mself\u001b[0m\u001b[1;33m.\u001b[0m\u001b[0malgorithm\u001b[0m\u001b[1;33m,\u001b[0m\u001b[1;33m\u001b[0m\u001b[1;33m\u001b[0m\u001b[0m\n\u001b[1;32m--> 972\u001b[1;33m                 return_n_iter=True)\n\u001b[0m\u001b[0;32m    973\u001b[0m         \u001b[1;32mreturn\u001b[0m \u001b[0mself\u001b[0m\u001b[1;33m\u001b[0m\u001b[1;33m\u001b[0m\u001b[0m\n\u001b[0;32m    974\u001b[0m \u001b[1;33m\u001b[0m\u001b[0m\n",
      "\u001b[1;32mc:\\ProgramData\\Anaconda3\\lib\\site-packages\\sklearn\\cluster\\k_means_.py\u001b[0m in \u001b[0;36mk_means\u001b[1;34m(X, n_clusters, sample_weight, init, precompute_distances, n_init, max_iter, verbose, tol, random_state, copy_x, n_jobs, algorithm, return_n_iter)\u001b[0m\n\u001b[0;32m    379\u001b[0m                 \u001b[0mverbose\u001b[0m\u001b[1;33m=\u001b[0m\u001b[0mverbose\u001b[0m\u001b[1;33m,\u001b[0m \u001b[0mprecompute_distances\u001b[0m\u001b[1;33m=\u001b[0m\u001b[0mprecompute_distances\u001b[0m\u001b[1;33m,\u001b[0m\u001b[1;33m\u001b[0m\u001b[1;33m\u001b[0m\u001b[0m\n\u001b[0;32m    380\u001b[0m                 \u001b[0mtol\u001b[0m\u001b[1;33m=\u001b[0m\u001b[0mtol\u001b[0m\u001b[1;33m,\u001b[0m \u001b[0mx_squared_norms\u001b[0m\u001b[1;33m=\u001b[0m\u001b[0mx_squared_norms\u001b[0m\u001b[1;33m,\u001b[0m\u001b[1;33m\u001b[0m\u001b[1;33m\u001b[0m\u001b[0m\n\u001b[1;32m--> 381\u001b[1;33m                 random_state=random_state)\n\u001b[0m\u001b[0;32m    382\u001b[0m             \u001b[1;31m# determine if these results are the best so far\u001b[0m\u001b[1;33m\u001b[0m\u001b[1;33m\u001b[0m\u001b[1;33m\u001b[0m\u001b[0m\n\u001b[0;32m    383\u001b[0m             \u001b[1;32mif\u001b[0m \u001b[0mbest_inertia\u001b[0m \u001b[1;32mis\u001b[0m \u001b[1;32mNone\u001b[0m \u001b[1;32mor\u001b[0m \u001b[0minertia\u001b[0m \u001b[1;33m<\u001b[0m \u001b[0mbest_inertia\u001b[0m\u001b[1;33m:\u001b[0m\u001b[1;33m\u001b[0m\u001b[1;33m\u001b[0m\u001b[0m\n",
      "\u001b[1;32mc:\\ProgramData\\Anaconda3\\lib\\site-packages\\sklearn\\cluster\\k_means_.py\u001b[0m in \u001b[0;36m_kmeans_single_elkan\u001b[1;34m(X, sample_weight, n_clusters, max_iter, init, verbose, x_squared_norms, random_state, tol, precompute_distances)\u001b[0m\n\u001b[0;32m    445\u001b[0m                                             max_iter=max_iter, verbose=verbose)\n\u001b[0;32m    446\u001b[0m     \u001b[1;32mif\u001b[0m \u001b[0msample_weight\u001b[0m \u001b[1;32mis\u001b[0m \u001b[1;32mNone\u001b[0m\u001b[1;33m:\u001b[0m\u001b[1;33m\u001b[0m\u001b[1;33m\u001b[0m\u001b[0m\n\u001b[1;32m--> 447\u001b[1;33m         \u001b[0minertia\u001b[0m \u001b[1;33m=\u001b[0m \u001b[0mnp\u001b[0m\u001b[1;33m.\u001b[0m\u001b[0msum\u001b[0m\u001b[1;33m(\u001b[0m\u001b[1;33m(\u001b[0m\u001b[0mX\u001b[0m \u001b[1;33m-\u001b[0m \u001b[0mcenters\u001b[0m\u001b[1;33m[\u001b[0m\u001b[0mlabels\u001b[0m\u001b[1;33m]\u001b[0m\u001b[1;33m)\u001b[0m \u001b[1;33m**\u001b[0m \u001b[1;36m2\u001b[0m\u001b[1;33m,\u001b[0m \u001b[0mdtype\u001b[0m\u001b[1;33m=\u001b[0m\u001b[0mnp\u001b[0m\u001b[1;33m.\u001b[0m\u001b[0mfloat64\u001b[0m\u001b[1;33m)\u001b[0m\u001b[1;33m\u001b[0m\u001b[1;33m\u001b[0m\u001b[0m\n\u001b[0m\u001b[0;32m    448\u001b[0m     \u001b[1;32melse\u001b[0m\u001b[1;33m:\u001b[0m\u001b[1;33m\u001b[0m\u001b[1;33m\u001b[0m\u001b[0m\n\u001b[0;32m    449\u001b[0m         sq_distances = np.sum((X - centers[labels]) ** 2, axis=1,\n",
      "\u001b[1;31mKeyboardInterrupt\u001b[0m: "
     ]
    }
   ],
   "source": [
    "kmeans = KMeans(n_clusters=2, n_init=50, max_iter=300)\n",
    "kmeans.fit(data_scaled)"
   ]
  },
  {
   "cell_type": "code",
   "execution_count": null,
   "id": "c34b7828",
   "metadata": {
    "ExecuteTime": {
     "end_time": "2024-05-16T09:59:57.726033Z",
     "start_time": "2024-05-16T09:59:57.707734Z"
    }
   },
   "outputs": [
    {
     "data": {
      "text/plain": [
       "(array([0, 1]), array([593195, 151279], dtype=int64))"
      ]
     },
     "execution_count": 47,
     "metadata": {},
     "output_type": "execute_result"
    }
   ],
   "source": [
    "np.unique(kmeans.labels_, return_counts=True)"
   ]
  },
  {
   "cell_type": "code",
   "execution_count": null,
   "id": "0243bf9e",
   "metadata": {
    "ExecuteTime": {
     "end_time": "2024-05-16T09:59:57.733332Z",
     "start_time": "2024-05-16T09:59:57.726033Z"
    }
   },
   "outputs": [
    {
     "data": {
      "text/plain": [
       "337267"
      ]
     },
     "execution_count": 48,
     "metadata": {},
     "output_type": "execute_result"
    }
   ],
   "source": [
    "data_target.sum()"
   ]
  },
  {
   "cell_type": "markdown",
   "id": "18c27e0f",
   "metadata": {},
   "source": [
    "Visualization"
   ]
  },
  {
   "cell_type": "markdown",
   "id": "6fb6319d",
   "metadata": {},
   "source": [
    "Parallel coordinates"
   ]
  },
  {
   "cell_type": "code",
   "execution_count": null,
   "id": "84801c24",
   "metadata": {
    "ExecuteTime": {
     "end_time": "2024-05-16T09:59:57.889358Z",
     "start_time": "2024-05-16T09:59:57.733908Z"
    }
   },
   "outputs": [
    {
     "data": {
      "image/png": "[encoded data removed]",
      "text/plain": [
       "<Figure size 800x400 with 1 Axes>"
      ]
     },
     "metadata": {},
     "output_type": "display_data"
    }
   ],
   "source": [
    "centers = kmeans.cluster_centers_\n",
    "\n",
    "plt.figure(figsize=(8, 4))\n",
    "for i in range(0, len(centers)):\n",
    "    plt.plot(centers[i], marker='o', label='Cluster %s' % i)\n",
    "plt.tick_params(axis='both', which='major', labelsize=22)\n",
    "plt.xticks(range(0, len(data.columns)), data.columns, fontsize=8)\n",
    "plt.legend(fontsize=20)\n",
    "plt.show()\n"
   ]
  },
  {
   "cell_type": "markdown",
   "id": "1f218979",
   "metadata": {},
   "source": [
    "Labels clustering"
   ]
  },
  {
   "cell_type": "code",
   "execution_count": null,
   "id": "4335ca8d",
   "metadata": {
    "ExecuteTime": {
     "end_time": "2024-05-16T10:00:08.806814Z",
     "start_time": "2024-05-16T09:59:57.889358Z"
    }
   },
   "outputs": [
    {
     "data": {
      "image/png": "[encoded data removed]",
      "text/plain": [
       "<Figure size 640x480 with 1 Axes>"
      ]
     },
     "metadata": {},
     "output_type": "display_data"
    }
   ],
   "source": [
    "plt.scatter(data['AGEP'], data['MIL'], \n",
    "           c=kmeans.labels_, s=20)\n",
    "plt.tick_params(axis='both', which='major', labelsize=22)\n",
    "plt.xlabel('AGEP')\n",
    "plt.ylabel('MIL')\n",
    "plt.show()"
   ]
  },
  {
   "cell_type": "markdown",
   "id": "28a89af3",
   "metadata": {},
   "source": [
    "Labels target"
   ]
  },
  {
   "cell_type": "code",
   "execution_count": null,
   "id": "465199de",
   "metadata": {
    "ExecuteTime": {
     "end_time": "2024-05-16T10:00:19.569953Z",
     "start_time": "2024-05-16T10:00:08.806814Z"
    }
   },
   "outputs": [
    {
     "data": {
      "image/png": "[encoded data removed]",
      "text/plain": [
       "<Figure size 640x480 with 1 Axes>"
      ]
     },
     "metadata": {},
     "output_type": "display_data"
    }
   ],
   "source": [
    "plt.scatter(data['AGEP'], data['MIL'], \n",
    "           c=data_target, s=20)\n",
    "plt.tick_params(axis='both', which='major', labelsize=22)\n",
    "plt.xlabel('AGEP')\n",
    "plt.ylabel('MIL')\n",
    "plt.show()"
   ]
  },
  {
   "cell_type": "code",
   "execution_count": null,
   "id": "fcf49b1f",
   "metadata": {
    "ExecuteTime": {
     "end_time": "2024-05-16T10:00:19.941536Z",
     "start_time": "2024-05-16T10:00:19.569953Z"
    }
   },
   "outputs": [
    {
     "name": "stderr",
     "output_type": "stream",
     "text": [
      "c:\\ProgramData\\Anaconda3\\lib\\site-packages\\ipykernel_launcher.py:12: MatplotlibDeprecationWarning: Adding an axes using the same arguments as a previous axes currently reuses the earlier instance.  In a future version, a new instance will always be created and returned.  Meanwhile, this warning can be suppressed, and the future behavior ensured, by passing a unique label to each axes instance.\n",
      "  if sys.path[0] == \"\":\n"
     ]
    },
    {
     "data": {
      "image/png": "[encoded data removed]",
      "text/plain": [
       "<Figure size 640x480 with 1 Axes>"
      ]
     },
     "metadata": {},
     "output_type": "display_data"
    }
   ],
   "source": [
    "from math import pi\n",
    " \n",
    "# number of variable\n",
    "N = len(data.columns)\n",
    "# What will be the angle of each axis in the plot? (we divide the plot / number of variable)\n",
    "for i in range(0, len(centers)):\n",
    "    angles = [n / float(N) * 2 * pi for n in range(N)]\n",
    "    values = centers[i].tolist()\n",
    "    values += values[:1]\n",
    "    angles += angles[:1]\n",
    "    # Initialise the spider plot\n",
    "    ax = plt.subplot(polar=True)\n",
    "# Draw one axe per variable + add labels labels yet\n",
    "    plt.xticks(angles[:-1], data.columns, color='grey', size=8) \n",
    "# Plot data\n",
    "    ax.plot(angles, values, linewidth=1, linestyle='solid')\n",
    " # Fill area\n",
    "    ax.fill(angles, values, 'b', alpha=0.1)\n"
   ]
  },
  {
   "cell_type": "markdown",
   "id": "5561d9c41b59b3e2",
   "metadata": {},
   "source": [
    "sse evaluation"
   ]
  },
  {
   "cell_type": "code",
   "execution_count": null,
   "id": "87b9008a908831cb",
   "metadata": {
    "ExecuteTime": {
     "end_time": "2024-05-16T10:03:45.700662Z",
     "start_time": "2024-05-16T10:02:36.987685Z"
    }
   },
   "outputs": [
    {
     "name": "stdout",
     "output_type": "stream",
     "text": [
      "SSE 8183663.680038075\n",
      "Separation 1.4302660090250339\n",
      "2\n",
      "3\n",
      "4\n",
      "5\n",
      "6\n"
     ]
    },
    {
     "ename": "KeyboardInterrupt",
     "evalue": "",
     "output_type": "error",
     "traceback": [
      "\u001b[1;31m---------------------------------------------------------------------------\u001b[0m",
      "\u001b[1;31mKeyboardInterrupt\u001b[0m                         Traceback (most recent call last)",
      "\u001b[1;32m~\\AppData\\Local\\Temp\\ipykernel_43000\\3762865306.py\u001b[0m in \u001b[0;36m<module>\u001b[1;34m\u001b[0m\n\u001b[0;32m      7\u001b[0m     \u001b[0mprint\u001b[0m\u001b[1;33m(\u001b[0m\u001b[0mk\u001b[0m\u001b[1;33m)\u001b[0m\u001b[1;33m\u001b[0m\u001b[1;33m\u001b[0m\u001b[0m\n\u001b[0;32m      8\u001b[0m     \u001b[0mkmeans\u001b[0m \u001b[1;33m=\u001b[0m \u001b[0mKMeans\u001b[0m\u001b[1;33m(\u001b[0m\u001b[0mn_clusters\u001b[0m\u001b[1;33m=\u001b[0m\u001b[0mk\u001b[0m\u001b[1;33m,\u001b[0m \u001b[0mn_init\u001b[0m\u001b[1;33m=\u001b[0m\u001b[1;36m10\u001b[0m\u001b[1;33m,\u001b[0m \u001b[0mmax_iter\u001b[0m\u001b[1;33m=\u001b[0m\u001b[1;36m300\u001b[0m\u001b[1;33m)\u001b[0m\u001b[1;33m\u001b[0m\u001b[1;33m\u001b[0m\u001b[0m\n\u001b[1;32m----> 9\u001b[1;33m     \u001b[0mkmeans\u001b[0m\u001b[1;33m.\u001b[0m\u001b[0mfit\u001b[0m\u001b[1;33m(\u001b[0m\u001b[0mdata_scaled\u001b[0m\u001b[1;33m)\u001b[0m\u001b[1;33m\u001b[0m\u001b[1;33m\u001b[0m\u001b[0m\n\u001b[0m\u001b[0;32m     10\u001b[0m \u001b[1;33m\u001b[0m\u001b[0m\n\u001b[0;32m     11\u001b[0m     \u001b[0msse\u001b[0m \u001b[1;33m=\u001b[0m \u001b[0mkmeans\u001b[0m\u001b[1;33m.\u001b[0m\u001b[0minertia_\u001b[0m\u001b[1;33m\u001b[0m\u001b[1;33m\u001b[0m\u001b[0m\n",
      "\u001b[1;32mc:\\ProgramData\\Anaconda3\\lib\\site-packages\\sklearn\\cluster\\k_means_.py\u001b[0m in \u001b[0;36mfit\u001b[1;34m(self, X, y, sample_weight)\u001b[0m\n\u001b[0;32m    970\u001b[0m                 \u001b[0mtol\u001b[0m\u001b[1;33m=\u001b[0m\u001b[0mself\u001b[0m\u001b[1;33m.\u001b[0m\u001b[0mtol\u001b[0m\u001b[1;33m,\u001b[0m \u001b[0mrandom_state\u001b[0m\u001b[1;33m=\u001b[0m\u001b[0mrandom_state\u001b[0m\u001b[1;33m,\u001b[0m \u001b[0mcopy_x\u001b[0m\u001b[1;33m=\u001b[0m\u001b[0mself\u001b[0m\u001b[1;33m.\u001b[0m\u001b[0mcopy_x\u001b[0m\u001b[1;33m,\u001b[0m\u001b[1;33m\u001b[0m\u001b[1;33m\u001b[0m\u001b[0m\n\u001b[0;32m    971\u001b[0m                 \u001b[0mn_jobs\u001b[0m\u001b[1;33m=\u001b[0m\u001b[0mself\u001b[0m\u001b[1;33m.\u001b[0m\u001b[0mn_jobs\u001b[0m\u001b[1;33m,\u001b[0m \u001b[0malgorithm\u001b[0m\u001b[1;33m=\u001b[0m\u001b[0mself\u001b[0m\u001b[1;33m.\u001b[0m\u001b[0malgorithm\u001b[0m\u001b[1;33m,\u001b[0m\u001b[1;33m\u001b[0m\u001b[1;33m\u001b[0m\u001b[0m\n\u001b[1;32m--> 972\u001b[1;33m                 return_n_iter=True)\n\u001b[0m\u001b[0;32m    973\u001b[0m         \u001b[1;32mreturn\u001b[0m \u001b[0mself\u001b[0m\u001b[1;33m\u001b[0m\u001b[1;33m\u001b[0m\u001b[0m\n\u001b[0;32m    974\u001b[0m \u001b[1;33m\u001b[0m\u001b[0m\n",
      "\u001b[1;32mc:\\ProgramData\\Anaconda3\\lib\\site-packages\\sklearn\\cluster\\k_means_.py\u001b[0m in \u001b[0;36mk_means\u001b[1;34m(X, n_clusters, sample_weight, init, precompute_distances, n_init, max_iter, verbose, tol, random_state, copy_x, n_jobs, algorithm, return_n_iter)\u001b[0m\n\u001b[0;32m    411\u001b[0m         \u001b[0mbest_centers\u001b[0m \u001b[1;33m+=\u001b[0m \u001b[0mX_mean\u001b[0m\u001b[1;33m\u001b[0m\u001b[1;33m\u001b[0m\u001b[0m\n\u001b[0;32m    412\u001b[0m \u001b[1;33m\u001b[0m\u001b[0m\n\u001b[1;32m--> 413\u001b[1;33m     \u001b[0mdistinct_clusters\u001b[0m \u001b[1;33m=\u001b[0m \u001b[0mlen\u001b[0m\u001b[1;33m(\u001b[0m\u001b[0mset\u001b[0m\u001b[1;33m(\u001b[0m\u001b[0mbest_labels\u001b[0m\u001b[1;33m)\u001b[0m\u001b[1;33m)\u001b[0m\u001b[1;33m\u001b[0m\u001b[1;33m\u001b[0m\u001b[0m\n\u001b[0m\u001b[0;32m    414\u001b[0m     \u001b[1;32mif\u001b[0m \u001b[0mdistinct_clusters\u001b[0m \u001b[1;33m<\u001b[0m \u001b[0mn_clusters\u001b[0m\u001b[1;33m:\u001b[0m\u001b[1;33m\u001b[0m\u001b[1;33m\u001b[0m\u001b[0m\n\u001b[0;32m    415\u001b[0m         warnings.warn(\"Number of distinct clusters ({}) found smaller than \"\n",
      "\u001b[1;31mKeyboardInterrupt\u001b[0m: "
     ]
    }
   ],
   "source": [
    "print('SSE %s' % kmeans.inertia_)\n",
    "#print('Silhouette %s' % metrics.silhouette_score(data_scaled, kmeans.labels_))\n",
    "print('Separation %s' % metrics.davies_bouldin_score(data_scaled, kmeans.labels_))\n",
    "sse_list = list()\n",
    "max_k = 25\n",
    "for k in range(2, max_k + 1):\n",
    "    print(k)\n",
    "    kmeans = KMeans(n_clusters=k, n_init=10, max_iter=300)\n",
    "    kmeans.fit(data_scaled)\n",
    "    \n",
    "    sse = kmeans.inertia_\n",
    "    sse_list.append(sse)"
   ]
  },
  {
   "cell_type": "code",
   "execution_count": null,
   "id": "75acf974b21520de",
   "metadata": {
    "ExecuteTime": {
     "end_time": "2024-05-16T10:03:49.668547Z",
     "start_time": "2024-05-16T10:03:49.663797Z"
    }
   },
   "outputs": [
    {
     "data": {
      "text/plain": [
       "[8183663.681893597,\n",
       " 6809366.228086495,\n",
       " 5884867.545628322,\n",
       " 5229253.784837404,\n",
       " 4837234.763636641,\n",
       " 4256436.6149395425,\n",
       " 3885033.701068579,\n",
       " 3561744.664622383,\n",
       " 3395617.1702704737,\n",
       " 3102439.98815592,\n",
       " 3038769.367933412,\n",
       " 2885838.546085991,\n",
       " 2787725.2142382045,\n",
       " 2664008.441560707,\n",
       " 2573776.2869061357,\n",
       " 2480107.992592203,\n",
       " 2451903.151352782,\n",
       " 2333407.8658436886,\n",
       " 2308766.454327959,\n",
       " 2190443.93477559,\n",
       " 2153149.921610959,\n",
       " 2114667.775857869,\n",
       " 2056390.4426621543,\n",
       " 2064260.2369501994]"
      ]
     },
     "execution_count": 47,
     "metadata": {},
     "output_type": "execute_result"
    }
   ],
   "source": [
    "sse_list"
   ]
  },
  {
   "cell_type": "code",
   "execution_count": null,
   "id": "6a08c541209377a6",
   "metadata": {
    "ExecuteTime": {
     "end_time": "2024-05-16T10:05:47.667154Z",
     "start_time": "2024-05-16T10:05:47.534433Z"
    }
   },
   "outputs": [
    {
     "data": {
      "image/png": "[encoded data removed]",
      "text/plain": [
       "<Figure size 640x480 with 1 Axes>"
      ]
     },
     "metadata": {},
     "output_type": "display_data"
    }
   ],
   "source": [
    "plt.plot(range(2, len(sse_list) + 2), sse_list, 'o--')\n",
    "plt.ylabel('SSE', fontsize=22)\n",
    "plt.xlabel('K', fontsize=22)\n",
    "plt.tick_params(axis='both', which='major', labelsize=10)\n",
    "plt.xticks([2,3,4,5,6,7,8,9,10,11,12,13,14,15,16,17,18,19,20,21,22,23,24,25])\n",
    "plt.show()"
   ]
  },
  {
   "cell_type": "code",
   "execution_count": null,
   "id": "df000c3e-dcd1-4c69-90b3-b7fbc9590924",
   "metadata": {},
   "outputs": [
    {
     "data": {
      "image/png": "[encoded data removed]",
      "text/plain": [
       "<Figure size 640x480 with 1 Axes>"
      ]
     },
     "metadata": {},
     "output_type": "display_data"
    }
   ],
   "source": [
    "diff = []\n",
    "for i in range(len(sse_list)-1):\n",
    "    diff.append(-sse_list[i+1]+sse_list[i])\n",
    "plt.plot(range(2, len(sse_list) + 1), diff, 'o--')\n",
    "plt.ylabel('diff SSE', fontsize=22)\n",
    "plt.xlabel('K', fontsize=22)\n",
    "plt.tick_params(axis='both', which='major', labelsize=10)\n",
    "plt.xticks([2,3,4,5,6,7,8,9,10,11,12,13,14,15,16,17,18,19,20,21,22,23,24])\n",
    "plt.show()"
   ]
  },
  {
   "cell_type": "markdown",
   "id": "82ef44ffa08aad6f",
   "metadata": {},
   "source": [
    "Le differenze tra le sse non cambiano più quando k=11, quindi è quello ottimale"
   ]
  },
  {
   "cell_type": "markdown",
   "id": "697c5499-f970-4b23-b1b1-554d2d8a298b",
   "metadata": {},
   "source": [
    "External evaluation"
   ]
  },
  {
   "cell_type": "code",
   "execution_count": null,
   "id": "aee1f48fa67755ec",
   "metadata": {
    "ExecuteTime": {
     "end_time": "2024-05-16T10:24:43.226948Z",
     "start_time": "2024-05-16T10:24:41.422555Z"
    }
   },
   "outputs": [
    {
     "data": {
      "text/plain": [
       "KMeans(algorithm='auto', copy_x=True, init='k-means++', max_iter=300,\n",
       "       n_clusters=2, n_init=10, n_jobs=None, precompute_distances='auto',\n",
       "       random_state=None, tol=0.0001, verbose=0)"
      ]
     },
     "execution_count": 55,
     "metadata": {},
     "output_type": "execute_result"
    }
   ],
   "source": [
    "kmeans = KMeans(n_clusters=2, n_init=10, max_iter=300)\n",
    "kmeans.fit(data_scaled)"
   ]
  },
  {
   "cell_type": "code",
   "execution_count": null,
   "id": "61ddfce300e2f1b1",
   "metadata": {
    "ExecuteTime": {
     "end_time": "2024-05-16T10:33:49.408822Z",
     "start_time": "2024-05-16T10:33:49.276048Z"
    }
   },
   "outputs": [
    {
     "data": {
      "text/plain": [
       "0.08960194794404298"
      ]
     },
     "execution_count": 51,
     "metadata": {},
     "output_type": "execute_result"
    }
   ],
   "source": [
    "#Similarity between assignments\n",
    "metrics.adjusted_rand_score(data_target, kmeans.labels_)"
   ]
  },
  {
   "cell_type": "code",
   "execution_count": null,
   "id": "fa1631d88643bec8",
   "metadata": {
    "ExecuteTime": {
     "end_time": "2024-05-16T10:33:51.536465Z",
     "start_time": "2024-05-16T10:33:51.335930Z"
    }
   },
   "outputs": [
    {
     "data": {
      "text/plain": [
       "0.19114767043999156"
      ]
     },
     "execution_count": 52,
     "metadata": {},
     "output_type": "execute_result"
    }
   ],
   "source": [
    "#are cluster composed of objects with the same real labels?\n",
    "metrics.homogeneity_score(data_target, kmeans.labels_) #homogenity score"
   ]
  },
  {
   "cell_type": "code",
   "execution_count": null,
   "id": "aa55eb3085adfdf",
   "metadata": {
    "ExecuteTime": {
     "end_time": "2024-05-16T10:33:53.735974Z",
     "start_time": "2024-05-16T10:33:53.512441Z"
    }
   },
   "outputs": [
    {
     "data": {
      "text/plain": [
       "0.2607885600147016"
      ]
     },
     "execution_count": 53,
     "metadata": {},
     "output_type": "execute_result"
    }
   ],
   "source": [
    "#are real labels concentrated in specific clusters?\n",
    "metrics.completeness_score(data_target, kmeans.labels_)"
   ]
  },
  {
   "cell_type": "code",
   "execution_count": null,
   "id": "43387b46f15b9ba9",
   "metadata": {
    "ExecuteTime": {
     "end_time": "2024-05-16T10:33:56.088143Z",
     "start_time": "2024-05-16T10:33:55.885335Z"
    }
   },
   "outputs": [
    {
     "data": {
      "text/plain": [
       "0.2325472258978556"
      ]
     },
     "execution_count": 54,
     "metadata": {},
     "output_type": "execute_result"
    }
   ],
   "source": [
    "#harmonic mean between completeness_score and homogeneity_score\n",
    "metrics.v_measure_score(data_target, kmeans.labels_, beta=2) "
   ]
  },
  {
   "cell_type": "markdown",
   "id": "1601a31f210b0797",
   "metadata": {},
   "source": [
    "famo la confusion matrix"
   ]
  },
  {
   "cell_type": "code",
   "execution_count": null,
   "id": "5eaa9975fa9d81f1",
   "metadata": {
    "ExecuteTime": {
     "end_time": "2024-05-16T10:36:02.150635Z",
     "start_time": "2024-05-16T10:36:02.012747Z"
    }
   },
   "outputs": [
    {
     "data": {
      "text/plain": [
       "array([[257497, 149710],\n",
       "       [335698,   1569]], dtype=int64)"
      ]
     },
     "execution_count": 55,
     "metadata": {},
     "output_type": "execute_result"
    }
   ],
   "source": [
    "metrics.confusion_matrix(data_target, kmeans.labels_)"
   ]
  },
  {
   "cell_type": "code",
   "execution_count": null,
   "id": "e525e6d9-b5c8-423c-b7ca-e6204b5b9e8f",
   "metadata": {},
   "outputs": [],
   "source": [
    "### DBSCAN\n",
    "#non si fa perche fa caa dioporco scan"
   ]
  },
  {
   "cell_type": "markdown",
   "id": "8eea59cd",
   "metadata": {},
   "source": [
    "### Hierirchical clustering dislessico porcodio"
   ]
  },
  {
   "cell_type": "code",
   "execution_count": null,
   "id": "554e5565-af92-4909-8345-99fd5976c61e",
   "metadata": {},
   "outputs": [],
   "source": [
    "### Gerarchia dei Cumulanti italici\n",
    "from scipy.stats import mode\n",
    "from scipy.spatial.distance import pdist\n",
    "from scipy.cluster.hierarchy import linkage, dendrogram, cut_tree\n",
    "\n",
    "#prendo un po' di dati random perchè un gna fa\n",
    "N = 1000\n",
    "data_random = data.sample(N)\n",
    "scaler.fit(data_random.values)\n",
    "data_random_scaled=scaler.transform(data_random.values)"
   ]
  },
  {
   "cell_type": "code",
   "execution_count": null,
   "id": "bf4d948e-05a5-4c6e-a780-51cb036e53a4",
   "metadata": {},
   "outputs": [
    {
     "data": {
      "image/png": "[encoded data removed]",
      "text/plain": [
       "<Figure size 640x480 with 1 Axes>"
      ]
     },
     "metadata": {},
     "output_type": "display_data"
    }
   ],
   "source": [
    "data_dist = pdist(data_random_scaled, metric='euclidean')\n",
    "data_link = linkage(data_dist, method='complete', metric='euclidean')\n",
    "res = dendrogram(data_link, color_threshold=0.1, truncate_mode='lastp')\n",
    "clusters = cut_tree(data_link, n_clusters=2).flatten()"
   ]
  },
  {
   "cell_type": "markdown",
   "id": "822417e6",
   "metadata": {},
   "source": [
    "Devi prednere sample anche dal target"
   ]
  },
  {
   "cell_type": "code",
   "execution_count": null,
   "id": "edb9300c-4ee7-4cd9-bf46-eb1b4ec7609c",
   "metadata": {},
   "outputs": [
    {
     "ename": "ValueError",
     "evalue": "Found input variables with inconsistent numbers of samples: [744474, 1000]",
     "output_type": "error",
     "traceback": [
      "\u001b[1;31m---------------------------------------------------------------------------\u001b[0m",
      "\u001b[1;31mValueError\u001b[0m                                Traceback (most recent call last)",
      "\u001b[1;32m~\\AppData\\Local\\Temp\\ipykernel_43000\\3211254990.py\u001b[0m in \u001b[0;36m<module>\u001b[1;34m\u001b[0m\n\u001b[1;32m----> 1\u001b[1;33m \u001b[0mmetrics\u001b[0m\u001b[1;33m.\u001b[0m\u001b[0mconfusion_matrix\u001b[0m\u001b[1;33m(\u001b[0m\u001b[0mdata_target\u001b[0m\u001b[1;33m,\u001b[0m \u001b[0mclusters\u001b[0m\u001b[1;33m)\u001b[0m\u001b[1;33m\u001b[0m\u001b[1;33m\u001b[0m\u001b[0m\n\u001b[0m",
      "\u001b[1;32mc:\\ProgramData\\Anaconda3\\lib\\site-packages\\sklearn\\metrics\\classification.py\u001b[0m in \u001b[0;36mconfusion_matrix\u001b[1;34m(y_true, y_pred, labels, sample_weight)\u001b[0m\n\u001b[0;32m    251\u001b[0m \u001b[1;33m\u001b[0m\u001b[0m\n\u001b[0;32m    252\u001b[0m     \"\"\"\n\u001b[1;32m--> 253\u001b[1;33m     \u001b[0my_type\u001b[0m\u001b[1;33m,\u001b[0m \u001b[0my_true\u001b[0m\u001b[1;33m,\u001b[0m \u001b[0my_pred\u001b[0m \u001b[1;33m=\u001b[0m \u001b[0m_check_targets\u001b[0m\u001b[1;33m(\u001b[0m\u001b[0my_true\u001b[0m\u001b[1;33m,\u001b[0m \u001b[0my_pred\u001b[0m\u001b[1;33m)\u001b[0m\u001b[1;33m\u001b[0m\u001b[1;33m\u001b[0m\u001b[0m\n\u001b[0m\u001b[0;32m    254\u001b[0m     \u001b[1;32mif\u001b[0m \u001b[0my_type\u001b[0m \u001b[1;32mnot\u001b[0m \u001b[1;32min\u001b[0m \u001b[1;33m(\u001b[0m\u001b[1;34m\"binary\"\u001b[0m\u001b[1;33m,\u001b[0m \u001b[1;34m\"multiclass\"\u001b[0m\u001b[1;33m)\u001b[0m\u001b[1;33m:\u001b[0m\u001b[1;33m\u001b[0m\u001b[1;33m\u001b[0m\u001b[0m\n\u001b[0;32m    255\u001b[0m         \u001b[1;32mraise\u001b[0m \u001b[0mValueError\u001b[0m\u001b[1;33m(\u001b[0m\u001b[1;34m\"%s is not supported\"\u001b[0m \u001b[1;33m%\u001b[0m \u001b[0my_type\u001b[0m\u001b[1;33m)\u001b[0m\u001b[1;33m\u001b[0m\u001b[1;33m\u001b[0m\u001b[0m\n",
      "\u001b[1;32mc:\\ProgramData\\Anaconda3\\lib\\site-packages\\sklearn\\metrics\\classification.py\u001b[0m in \u001b[0;36m_check_targets\u001b[1;34m(y_true, y_pred)\u001b[0m\n\u001b[0;32m     69\u001b[0m     \u001b[0my_pred\u001b[0m \u001b[1;33m:\u001b[0m \u001b[0marray\u001b[0m \u001b[1;32mor\u001b[0m \u001b[0mindicator\u001b[0m \u001b[0mmatrix\u001b[0m\u001b[1;33m\u001b[0m\u001b[1;33m\u001b[0m\u001b[0m\n\u001b[0;32m     70\u001b[0m     \"\"\"\n\u001b[1;32m---> 71\u001b[1;33m     \u001b[0mcheck_consistent_length\u001b[0m\u001b[1;33m(\u001b[0m\u001b[0my_true\u001b[0m\u001b[1;33m,\u001b[0m \u001b[0my_pred\u001b[0m\u001b[1;33m)\u001b[0m\u001b[1;33m\u001b[0m\u001b[1;33m\u001b[0m\u001b[0m\n\u001b[0m\u001b[0;32m     72\u001b[0m     \u001b[0mtype_true\u001b[0m \u001b[1;33m=\u001b[0m \u001b[0mtype_of_target\u001b[0m\u001b[1;33m(\u001b[0m\u001b[0my_true\u001b[0m\u001b[1;33m)\u001b[0m\u001b[1;33m\u001b[0m\u001b[1;33m\u001b[0m\u001b[0m\n\u001b[0;32m     73\u001b[0m     \u001b[0mtype_pred\u001b[0m \u001b[1;33m=\u001b[0m \u001b[0mtype_of_target\u001b[0m\u001b[1;33m(\u001b[0m\u001b[0my_pred\u001b[0m\u001b[1;33m)\u001b[0m\u001b[1;33m\u001b[0m\u001b[1;33m\u001b[0m\u001b[0m\n",
      "\u001b[1;32mc:\\ProgramData\\Anaconda3\\lib\\site-packages\\sklearn\\utils\\validation.py\u001b[0m in \u001b[0;36mcheck_consistent_length\u001b[1;34m(*arrays)\u001b[0m\n\u001b[0;32m    203\u001b[0m     \u001b[1;32mif\u001b[0m \u001b[0mlen\u001b[0m\u001b[1;33m(\u001b[0m\u001b[0muniques\u001b[0m\u001b[1;33m)\u001b[0m \u001b[1;33m>\u001b[0m \u001b[1;36m1\u001b[0m\u001b[1;33m:\u001b[0m\u001b[1;33m\u001b[0m\u001b[1;33m\u001b[0m\u001b[0m\n\u001b[0;32m    204\u001b[0m         raise ValueError(\"Found input variables with inconsistent numbers of\"\n\u001b[1;32m--> 205\u001b[1;33m                          \" samples: %r\" % [int(l) for l in lengths])\n\u001b[0m\u001b[0;32m    206\u001b[0m \u001b[1;33m\u001b[0m\u001b[0m\n\u001b[0;32m    207\u001b[0m \u001b[1;33m\u001b[0m\u001b[0m\n",
      "\u001b[1;31mValueError\u001b[0m: Found input variables with inconsistent numbers of samples: [744474, 1000]"
     ]
    }
   ],
   "source": [
    "metrics.confusion_matrix(data_target, clusters)\n"
   ]
  },
  {
   "cell_type": "markdown",
   "id": "03ddf945",
   "metadata": {},
   "source": [
    "## 3) Classification"
   ]
  },
  {
   "cell_type": "markdown",
   "id": "40f9d0e6",
   "metadata": {},
   "source": [
    "### Decision Tree"
   ]
  },
  {
   "cell_type": "code",
   "execution_count": null,
   "id": "ae09057d-3855-4624-874f-c0ec2d94d4fe",
   "metadata": {},
   "outputs": [],
   "source": [
    "from sklearn.tree import DecisionTreeClassifier\n",
    "from sklearn.model_selection import train_test_split\n",
    "from sklearn.metrics import confusion_matrix\n",
    "from sklearn.metrics import accuracy_score, f1_score, classification_report"
   ]
  },
  {
   "cell_type": "markdown",
   "id": "d0ef89d3",
   "metadata": {},
   "source": [
    "Add the target variable"
   ]
  },
  {
   "cell_type": "code",
   "execution_count": null,
   "id": "c6f440c5",
   "metadata": {},
   "outputs": [
    {
     "data": {
      "text/html": [
       "<div>\n",
       "<style scoped>\n",
       "    .dataframe tbody tr th:only-of-type {\n",
       "        vertical-align: middle;\n",
       "    }\n",
       "\n",
       "    .dataframe tbody tr th {\n",
       "        vertical-align: top;\n",
       "    }\n",
       "\n",
       "    .dataframe thead th {\n",
       "        text-align: right;\n",
       "    }\n",
       "</style>\n",
       "<table border=\"1\" class=\"dataframe\">\n",
       "  <thead>\n",
       "    <tr style=\"text-align: right;\">\n",
       "      <th></th>\n",
       "      <th>AGEP</th>\n",
       "      <th>SCHL</th>\n",
       "      <th>MAR</th>\n",
       "      <th>DIS</th>\n",
       "      <th>ESP</th>\n",
       "      <th>CIT</th>\n",
       "      <th>MIG</th>\n",
       "      <th>MIL</th>\n",
       "      <th>ANC</th>\n",
       "      <th>NATIVITY</th>\n",
       "      <th>DEAR</th>\n",
       "      <th>DEYE</th>\n",
       "      <th>DREM</th>\n",
       "      <th>SEX</th>\n",
       "      <th>ESR</th>\n",
       "    </tr>\n",
       "  </thead>\n",
       "  <tbody>\n",
       "    <tr>\n",
       "      <td>0</td>\n",
       "      <td>21.0</td>\n",
       "      <td>16.0</td>\n",
       "      <td>5.0</td>\n",
       "      <td>2.0</td>\n",
       "      <td>0.0</td>\n",
       "      <td>1.0</td>\n",
       "      <td>1.0</td>\n",
       "      <td>4.0</td>\n",
       "      <td>1.0</td>\n",
       "      <td>0.0</td>\n",
       "      <td>2.0</td>\n",
       "      <td>2.0</td>\n",
       "      <td>2.0</td>\n",
       "      <td>2.0</td>\n",
       "      <td>1</td>\n",
       "    </tr>\n",
       "    <tr>\n",
       "      <td>1</td>\n",
       "      <td>19.0</td>\n",
       "      <td>16.0</td>\n",
       "      <td>5.0</td>\n",
       "      <td>2.0</td>\n",
       "      <td>0.0</td>\n",
       "      <td>1.0</td>\n",
       "      <td>1.0</td>\n",
       "      <td>4.0</td>\n",
       "      <td>1.0</td>\n",
       "      <td>0.0</td>\n",
       "      <td>2.0</td>\n",
       "      <td>2.0</td>\n",
       "      <td>2.0</td>\n",
       "      <td>2.0</td>\n",
       "      <td>0</td>\n",
       "    </tr>\n",
       "    <tr>\n",
       "      <td>2</td>\n",
       "      <td>24.0</td>\n",
       "      <td>12.0</td>\n",
       "      <td>5.0</td>\n",
       "      <td>1.0</td>\n",
       "      <td>0.0</td>\n",
       "      <td>1.0</td>\n",
       "      <td>1.0</td>\n",
       "      <td>4.0</td>\n",
       "      <td>1.0</td>\n",
       "      <td>0.0</td>\n",
       "      <td>2.0</td>\n",
       "      <td>2.0</td>\n",
       "      <td>1.0</td>\n",
       "      <td>1.0</td>\n",
       "      <td>0</td>\n",
       "    </tr>\n",
       "    <tr>\n",
       "      <td>3</td>\n",
       "      <td>20.0</td>\n",
       "      <td>16.0</td>\n",
       "      <td>5.0</td>\n",
       "      <td>2.0</td>\n",
       "      <td>0.0</td>\n",
       "      <td>1.0</td>\n",
       "      <td>1.0</td>\n",
       "      <td>3.0</td>\n",
       "      <td>1.0</td>\n",
       "      <td>0.0</td>\n",
       "      <td>2.0</td>\n",
       "      <td>2.0</td>\n",
       "      <td>2.0</td>\n",
       "      <td>2.0</td>\n",
       "      <td>1</td>\n",
       "    </tr>\n",
       "    <tr>\n",
       "      <td>4</td>\n",
       "      <td>31.0</td>\n",
       "      <td>17.0</td>\n",
       "      <td>5.0</td>\n",
       "      <td>2.0</td>\n",
       "      <td>0.0</td>\n",
       "      <td>1.0</td>\n",
       "      <td>3.0</td>\n",
       "      <td>4.0</td>\n",
       "      <td>4.0</td>\n",
       "      <td>0.0</td>\n",
       "      <td>2.0</td>\n",
       "      <td>2.0</td>\n",
       "      <td>2.0</td>\n",
       "      <td>1.0</td>\n",
       "      <td>1</td>\n",
       "    </tr>\n",
       "  </tbody>\n",
       "</table>\n",
       "</div>"
      ],
      "text/plain": [
       "   AGEP  SCHL  MAR  DIS  ESP  CIT  MIG  MIL  ANC  NATIVITY  DEAR  DEYE  DREM  \\\n",
       "0  21.0  16.0  5.0  2.0  0.0  1.0  1.0  4.0  1.0       0.0   2.0   2.0   2.0   \n",
       "1  19.0  16.0  5.0  2.0  0.0  1.0  1.0  4.0  1.0       0.0   2.0   2.0   2.0   \n",
       "2  24.0  12.0  5.0  1.0  0.0  1.0  1.0  4.0  1.0       0.0   2.0   2.0   1.0   \n",
       "3  20.0  16.0  5.0  2.0  0.0  1.0  1.0  3.0  1.0       0.0   2.0   2.0   2.0   \n",
       "4  31.0  17.0  5.0  2.0  0.0  1.0  3.0  4.0  4.0       0.0   2.0   2.0   2.0   \n",
       "\n",
       "   SEX  ESR  \n",
       "0  2.0    1  \n",
       "1  2.0    0  \n",
       "2  1.0    0  \n",
       "3  2.0    1  \n",
       "4  1.0    1  "
      ]
     },
     "execution_count": 228,
     "metadata": {},
     "output_type": "execute_result"
    }
   ],
   "source": [
    "data['ESR']=data_target\n",
    "data.head()"
   ]
  },
  {
   "cell_type": "markdown",
   "id": "ff15211f",
   "metadata": {},
   "source": [
    "prepare decision tree"
   ]
  },
  {
   "cell_type": "code",
   "execution_count": null,
   "id": "a15a68b1",
   "metadata": {},
   "outputs": [],
   "source": [
    "predictors = [col for col in data.columns if col != 'ESR']\n",
    "X = data[predictors].values\n",
    "y = data['ESR']"
   ]
  },
  {
   "cell_type": "markdown",
   "id": "3b45d72b",
   "metadata": {},
   "source": [
    "Split in training and test"
   ]
  },
  {
   "cell_type": "code",
   "execution_count": null,
   "id": "b12b725d",
   "metadata": {},
   "outputs": [],
   "source": [
    "X_train, X_test, y_train, y_test = train_test_split(X, y, \n",
    "                                                    test_size=0.3, \n",
    "                                                    random_state=100, \n",
    "                                                    stratify=y)"
   ]
  },
  {
   "cell_type": "markdown",
   "id": "8fbd43f4",
   "metadata": {},
   "source": [
    "Build decision tree"
   ]
  },
  {
   "cell_type": "code",
   "execution_count": null,
   "id": "ba6b7814",
   "metadata": {},
   "outputs": [
    {
     "data": {
      "text/plain": [
       "DecisionTreeClassifier(class_weight=None, criterion='gini', max_depth=None,\n",
       "                       max_features=None, max_leaf_nodes=None,\n",
       "                       min_impurity_decrease=0.0, min_impurity_split=None,\n",
       "                       min_samples_leaf=1, min_samples_split=2,\n",
       "                       min_weight_fraction_leaf=0.0, presort=False,\n",
       "                       random_state=None, splitter='best')"
      ]
     },
     "execution_count": 147,
     "metadata": {},
     "output_type": "execute_result"
    }
   ],
   "source": [
    "clf = DecisionTreeClassifier(criterion='gini', max_depth=None, \n",
    "                             min_samples_split=2, min_samples_leaf=1)\n",
    "clf.fit(X_train, y_train)"
   ]
  },
  {
   "cell_type": "markdown",
   "id": "22d4a0b2",
   "metadata": {},
   "source": [
    "Features iportance"
   ]
  },
  {
   "cell_type": "code",
   "execution_count": null,
   "id": "c32b0e18",
   "metadata": {},
   "outputs": [
    {
     "name": "stdout",
     "output_type": "stream",
     "text": [
      "AGEP 0.7088378217285067\n",
      "SCHL 0.06898758113826874\n",
      "MAR 0.03492356224835205\n",
      "DIS 0.06152759914245324\n",
      "ESP 0.0007640622241918589\n",
      "CIT 0.02047821563701505\n",
      "MIG 0.015726905823860056\n",
      "MIL 0.0220407283021323\n",
      "ANC 0.03065334630153008\n",
      "NATIVITY 0.005281244692562728\n",
      "DEAR 0.004005675659007779\n",
      "DEYE 0.003904731482965313\n",
      "DREM 0.004224329010652146\n",
      "SEX 0.018644196608502007\n",
      "[0 1]\n"
     ]
    }
   ],
   "source": [
    "for col, imp in zip(predictors, clf.feature_importances_):\n",
    "    print(col, imp)\n",
    "print(clf.classes_)"
   ]
  },
  {
   "cell_type": "markdown",
   "id": "0a7895db",
   "metadata": {},
   "source": [
    "Apply on training set "
   ]
  },
  {
   "cell_type": "code",
   "execution_count": null,
   "id": "b0395f3e",
   "metadata": {},
   "outputs": [
    {
     "name": "stdout",
     "output_type": "stream",
     "text": [
      "Accuracy 0.8567423546094936\n",
      "F1-score [0.86569425 0.8465119 ]\n",
      "              precision    recall  f1-score   support\n",
      "\n",
      "           0       0.89      0.84      0.87    285044\n",
      "           1       0.82      0.87      0.85    236087\n",
      "\n",
      "    accuracy                           0.86    521131\n",
      "   macro avg       0.86      0.86      0.86    521131\n",
      "weighted avg       0.86      0.86      0.86    521131\n",
      "\n"
     ]
    },
    {
     "data": {
      "text/plain": [
       "array([[240605,  44439],\n",
       "       [ 30217, 205870]], dtype=int64)"
      ]
     },
     "execution_count": 149,
     "metadata": {},
     "output_type": "execute_result"
    }
   ],
   "source": [
    "y_pred = clf.predict(X_train)\n",
    "print('Accuracy %s' % accuracy_score(y_train, y_pred))\n",
    "print('F1-score %s' % f1_score(y_train, y_pred, average=None))\n",
    "print(classification_report(y_train, y_pred))\n",
    "confusion_matrix(y_train, y_pred)"
   ]
  },
  {
   "cell_type": "markdown",
   "id": "10611f37",
   "metadata": {},
   "source": [
    "Apply on test set"
   ]
  },
  {
   "cell_type": "code",
   "execution_count": null,
   "id": "ac35d34c",
   "metadata": {},
   "outputs": [
    {
     "name": "stdout",
     "output_type": "stream",
     "text": [
      "Accuracy 0.7920060176499824\n",
      "F1-score [0.80488399 0.77730798]\n",
      "              precision    recall  f1-score   support\n",
      "\n",
      "           0       0.83      0.78      0.80    122163\n",
      "           1       0.75      0.80      0.78    101180\n",
      "\n",
      "    accuracy                           0.79    223343\n",
      "   macro avg       0.79      0.79      0.79    223343\n",
      "weighted avg       0.79      0.79      0.79    223343\n",
      "\n"
     ]
    },
    {
     "data": {
      "text/plain": [
       "array([[95815, 26348],\n",
       "       [20106, 81074]], dtype=int64)"
      ]
     },
     "execution_count": 150,
     "metadata": {},
     "output_type": "execute_result"
    }
   ],
   "source": [
    "y_pred = clf.predict(X_test)\n",
    "print('Accuracy %s' % accuracy_score(y_test, y_pred))\n",
    "print('F1-score %s' % f1_score(y_test, y_pred, average=None))\n",
    "print(classification_report(y_test, y_pred))\n",
    "confusion_matrix(y_test, y_pred)"
   ]
  },
  {
   "cell_type": "markdown",
   "id": "9b860171",
   "metadata": {},
   "source": [
    "Study possible overfitting and tune hyperparameters"
   ]
  },
  {
   "cell_type": "code",
   "execution_count": null,
   "id": "fcf4bff9",
   "metadata": {},
   "outputs": [],
   "source": [
    "acc_train = list()\n",
    "acc_test = list()\n",
    "samples=[1, 2, 5, 10, 15, 20, 25]\n",
    "\n",
    "for min_samples in samples:\n",
    "    clf = DecisionTreeClassifier(criterion='gini', max_depth=None, \n",
    "                             min_samples_split=1500, min_samples_leaf=min_samples)\n",
    "    clf.fit(X_train, y_train)\n",
    "\n",
    "    y_pred = clf.predict(X_train)\n",
    "    acc_train.append(accuracy_score(y_train, y_pred))\n",
    "    y_pred = clf.predict(X_test)\n",
    "    acc_test.append(accuracy_score(y_test, y_pred))\n",
    "\n"
   ]
  },
  {
   "cell_type": "code",
   "execution_count": null,
   "id": "d4eedc41",
   "metadata": {},
   "outputs": [
    {
     "data": {
      "image/png": "[encoded data removed]",
      "text/plain": [
       "<Figure size 640x480 with 1 Axes>"
      ]
     },
     "metadata": {},
     "output_type": "display_data"
    }
   ],
   "source": [
    "plt.plot(samples, acc_train, 'o--', color='red', label=\"Train set\")\n",
    "plt.plot(samples, acc_test, 'o--', color='blue', label= \"Test set\")\n",
    "plt.xlabel('min_samples_leaf')\n",
    "plt.ylabel('Accuracy')\n",
    "plt.legend()\n",
    "plt.show()"
   ]
  },
  {
   "cell_type": "code",
   "execution_count": null,
   "id": "6d1cce4d",
   "metadata": {},
   "outputs": [],
   "source": [
    "acc_train = list()\n",
    "acc_test = list()\n",
    "samples=[50, 250, 500, 750, 1000, 1250, 1500, 1750, 2000]\n",
    "\n",
    "for min_samples in samples:\n",
    "    clf = DecisionTreeClassifier(criterion='gini', max_depth=None, \n",
    "                             min_samples_split=min_samples, min_samples_leaf=20)\n",
    "    clf.fit(X_train, y_train)\n",
    "\n",
    "    y_pred = clf.predict(X_train)\n",
    "    acc_train.append(accuracy_score(y_train, y_pred))\n",
    "    y_pred = clf.predict(X_test)\n",
    "    acc_test.append(accuracy_score(y_test, y_pred))"
   ]
  },
  {
   "cell_type": "code",
   "execution_count": null,
   "id": "2df8bca6",
   "metadata": {},
   "outputs": [
    {
     "data": {
      "image/png": "[encoded data removed]",
      "text/plain": [
       "<Figure size 640x480 with 1 Axes>"
      ]
     },
     "metadata": {},
     "output_type": "display_data"
    }
   ],
   "source": [
    "samples=[50, 250, 500, 750, 1000, 1250, 1500, 1750, 2000]\n",
    "plt.plot(samples, acc_train, 'o--', color='red', label=\"Train set\")\n",
    "plt.plot(samples, acc_test, 'o--', color='blue', label= \"Test set\")\n",
    "plt.xlabel('min_samples_split')\n",
    "plt.ylabel('Accuracy')\n",
    "plt.legend()\n",
    "plt.show()"
   ]
  },
  {
   "cell_type": "markdown",
   "id": "7d2d5512",
   "metadata": {},
   "source": [
    "We concliude that the best parameters are min_samples_leaf=20 min_samples_split=1500"
   ]
  },
  {
   "cell_type": "code",
   "execution_count": null,
   "id": "6294f6fc",
   "metadata": {},
   "outputs": [
    {
     "data": {
      "text/plain": [
       "DecisionTreeClassifier(class_weight=None, criterion='gini', max_depth=None,\n",
       "                       max_features=None, max_leaf_nodes=None,\n",
       "                       min_impurity_decrease=0.0, min_impurity_split=None,\n",
       "                       min_samples_leaf=20, min_samples_split=1500,\n",
       "                       min_weight_fraction_leaf=0.0, presort=False,\n",
       "                       random_state=None, splitter='best')"
      ]
     },
     "execution_count": 197,
     "metadata": {},
     "output_type": "execute_result"
    }
   ],
   "source": [
    "clf = DecisionTreeClassifier(criterion='gini', max_depth=None, \n",
    "                             min_samples_split=1500, min_samples_leaf=20)\n",
    "clf.fit(X_train, y_train)"
   ]
  },
  {
   "cell_type": "code",
   "execution_count": null,
   "id": "84c8489c",
   "metadata": {},
   "outputs": [
    {
     "name": "stdout",
     "output_type": "stream",
     "text": [
      "Accuracy Test 0.8123872250305584\n",
      "F1-score Test [0.82211298 0.80153648]\n",
      "              precision    recall  f1-score   support\n",
      "\n",
      "           0       0.85      0.79      0.82    122163\n",
      "           1       0.77      0.84      0.80    101180\n",
      "\n",
      "    accuracy                           0.81    223343\n",
      "   macro avg       0.81      0.81      0.81    223343\n",
      "weighted avg       0.82      0.81      0.81    223343\n",
      "\n"
     ]
    },
    {
     "data": {
      "text/plain": [
       "array([[96826, 25337],\n",
       "       [16565, 84615]], dtype=int64)"
      ]
     },
     "execution_count": 198,
     "metadata": {},
     "output_type": "execute_result"
    }
   ],
   "source": [
    "y_pred = clf.predict(X_test)\n",
    "print('Accuracy Test %s' % accuracy_score(y_test, y_pred))\n",
    "print('F1-score Test %s' % f1_score(y_test, y_pred, average=None))\n",
    "print(classification_report(y_test, y_pred))\n",
    "confusion_matrix(y_test, y_pred)"
   ]
  },
  {
   "cell_type": "markdown",
   "id": "f7343642",
   "metadata": {},
   "source": [
    "ROC curve"
   ]
  },
  {
   "cell_type": "code",
   "execution_count": null,
   "id": "2482e6fc",
   "metadata": {},
   "outputs": [],
   "source": [
    "from sklearn.metrics import roc_curve, auc, roc_auc_score"
   ]
  },
  {
   "cell_type": "code",
   "execution_count": null,
   "id": "437fdbaa",
   "metadata": {},
   "outputs": [],
   "source": [
    "fpr, tpr, _ = roc_curve(y_test, y_pred)\n",
    "roc_auc = auc(fpr, tpr)\n",
    "roc_auc = roc_auc_score(y_test, y_pred, average=None)"
   ]
  },
  {
   "cell_type": "code",
   "execution_count": null,
   "id": "6d54920f",
   "metadata": {},
   "outputs": [
    {
     "data": {
      "image/png": "[encoded data removed]",
      "text/plain": [
       "<Figure size 640x480 with 1 Axes>"
      ]
     },
     "metadata": {},
     "output_type": "display_data"
    }
   ],
   "source": [
    "plt.plot([0, 1], [0, 1], \"k--\", label=\"chance level (AUC = 0.5)\")\n",
    "plt.plot(fpr, tpr, color='darkorange', lw=2, label=f'ROC curve (area={roc_auc:.2f})')\n",
    "plt.xlabel(\"False Positive Rate\")\n",
    "plt.ylabel(\"True Positive Rate\")\n",
    "plt.legend()\n",
    "plt.show()"
   ]
  },
  {
   "cell_type": "markdown",
   "id": "cc56b377",
   "metadata": {},
   "source": [
    "Cross Validation"
   ]
  },
  {
   "cell_type": "code",
   "execution_count": null,
   "id": "ad0f82ef",
   "metadata": {},
   "outputs": [],
   "source": [
    "from sklearn.model_selection import cross_val_score\n",
    "from sklearn.model_selection import cross_validate"
   ]
  },
  {
   "cell_type": "code",
   "execution_count": null,
   "id": "124c74de",
   "metadata": {},
   "outputs": [
    {
     "name": "stdout",
     "output_type": "stream",
     "text": [
      "Accuracy: 0.811 (+/- 0.003)\n",
      "F1-score: 0.811 (+/- 0.003)\n"
     ]
    }
   ],
   "source": [
    "scores = cross_val_score(clf, X_train, y_train, cv=10)\n",
    "print('Accuracy: %0.3f (+/- %0.3f)' % (scores.mean(), scores.std() * 2))\n",
    "\n",
    "scores = cross_val_score(clf, X_train, y_train, cv=10, scoring='f1_macro')\n",
    "print('F1-score: %0.3f (+/- %0.3f)' % (scores.mean(), scores.std() * 2))"
   ]
  },
  {
   "cell_type": "markdown",
   "id": "779eaea7",
   "metadata": {},
   "source": [
    "### Random Forest"
   ]
  },
  {
   "cell_type": "code",
   "execution_count": null,
   "id": "b8fcae04",
   "metadata": {},
   "outputs": [],
   "source": [
    "from sklearn.ensemble import RandomForestClassifier"
   ]
  },
  {
   "cell_type": "code",
   "execution_count": null,
   "id": "4ee951aa",
   "metadata": {},
   "outputs": [],
   "source": [
    "clf = RandomForestClassifier(n_estimators=100, \n",
    "                             criterion='gini', \n",
    "                             max_depth=None, \n",
    "                             min_samples_split=1500, \n",
    "                             min_samples_leaf=20, \n",
    "                             class_weight=None)"
   ]
  },
  {
   "cell_type": "code",
   "execution_count": null,
   "id": "83478253",
   "metadata": {},
   "outputs": [
    {
     "data": {
      "text/plain": [
       "0.8119305283801149"
      ]
     },
     "execution_count": 234,
     "metadata": {},
     "output_type": "execute_result"
    }
   ],
   "source": [
    "clf.fit(X_train, y_train)\n",
    "y_pred = clf.predict(X_test)\n",
    "accuracy_score(y_test, y_pred)"
   ]
  },
  {
   "cell_type": "markdown",
   "id": "b342d4ab",
   "metadata": {},
   "source": [
    "ROC curve"
   ]
  },
  {
   "cell_type": "code",
   "execution_count": null,
   "id": "b5da188f",
   "metadata": {},
   "outputs": [],
   "source": [
    "fpr, tpr, _ = roc_curve(y_test, y_pred)\n",
    "roc_auc = auc(fpr, tpr)\n",
    "roc_auc = roc_auc_score(y_test, y_pred, average=None)"
   ]
  },
  {
   "cell_type": "code",
   "execution_count": null,
   "id": "f146802f",
   "metadata": {},
   "outputs": [
    {
     "data": {
      "image/png": "[encoded data removed]",
      "text/plain": [
       "<Figure size 640x480 with 1 Axes>"
      ]
     },
     "metadata": {},
     "output_type": "display_data"
    }
   ],
   "source": [
    "plt.plot([0, 1], [0, 1], \"k--\", label=\"chance level (AUC = 0.5)\")\n",
    "plt.plot(fpr, tpr, color='darkorange', lw=2, label=f'ROC curve (area={roc_auc:.2f})')\n",
    "plt.xlabel(\"False Positive Rate\")\n",
    "plt.ylabel(\"True Positive Rate\")\n",
    "plt.legend()\n",
    "plt.show()"
   ]
  },
  {
   "cell_type": "markdown",
   "id": "46bbad60",
   "metadata": {},
   "source": [
    "Cross Validation"
   ]
  },
  {
   "cell_type": "code",
   "execution_count": null,
   "id": "77829a60",
   "metadata": {},
   "outputs": [
    {
     "ename": "KeyboardInterrupt",
     "evalue": "",
     "output_type": "error",
     "traceback": [
      "\u001b[1;31m---------------------------------------------------------------------------\u001b[0m",
      "\u001b[1;31mKeyboardInterrupt\u001b[0m                         Traceback (most recent call last)",
      "\u001b[1;32m~\\AppData\\Local\\Temp\\ipykernel_43000\\732549511.py\u001b[0m in \u001b[0;36m<module>\u001b[1;34m\u001b[0m\n\u001b[1;32m----> 1\u001b[1;33m \u001b[0mscores\u001b[0m \u001b[1;33m=\u001b[0m \u001b[0mcross_val_score\u001b[0m\u001b[1;33m(\u001b[0m\u001b[0mclf\u001b[0m\u001b[1;33m,\u001b[0m \u001b[0mX_train\u001b[0m\u001b[1;33m,\u001b[0m \u001b[0my_train\u001b[0m\u001b[1;33m,\u001b[0m \u001b[0mcv\u001b[0m\u001b[1;33m=\u001b[0m\u001b[1;36m10\u001b[0m\u001b[1;33m)\u001b[0m\u001b[1;33m\u001b[0m\u001b[1;33m\u001b[0m\u001b[0m\n\u001b[0m\u001b[0;32m      2\u001b[0m \u001b[0mprint\u001b[0m\u001b[1;33m(\u001b[0m\u001b[1;34m'Accuracy: %0.4f (+/- %0.2f)'\u001b[0m \u001b[1;33m%\u001b[0m \u001b[1;33m(\u001b[0m\u001b[0mscores\u001b[0m\u001b[1;33m.\u001b[0m\u001b[0mmean\u001b[0m\u001b[1;33m(\u001b[0m\u001b[1;33m)\u001b[0m\u001b[1;33m,\u001b[0m \u001b[0mscores\u001b[0m\u001b[1;33m.\u001b[0m\u001b[0mstd\u001b[0m\u001b[1;33m(\u001b[0m\u001b[1;33m)\u001b[0m \u001b[1;33m*\u001b[0m \u001b[1;36m2\u001b[0m\u001b[1;33m)\u001b[0m\u001b[1;33m)\u001b[0m\u001b[1;33m\u001b[0m\u001b[1;33m\u001b[0m\u001b[0m\n\u001b[0;32m      3\u001b[0m \u001b[1;33m\u001b[0m\u001b[0m\n\u001b[0;32m      4\u001b[0m \u001b[0mscores\u001b[0m \u001b[1;33m=\u001b[0m \u001b[0mcross_val_score\u001b[0m\u001b[1;33m(\u001b[0m\u001b[0mclf\u001b[0m\u001b[1;33m,\u001b[0m \u001b[0mX_train\u001b[0m\u001b[1;33m,\u001b[0m \u001b[0my_train\u001b[0m\u001b[1;33m,\u001b[0m \u001b[0mcv\u001b[0m\u001b[1;33m=\u001b[0m\u001b[1;36m10\u001b[0m\u001b[1;33m,\u001b[0m \u001b[0mscoring\u001b[0m\u001b[1;33m=\u001b[0m\u001b[1;34m'f1_macro'\u001b[0m\u001b[1;33m)\u001b[0m\u001b[1;33m\u001b[0m\u001b[1;33m\u001b[0m\u001b[0m\n\u001b[0;32m      5\u001b[0m \u001b[0mprint\u001b[0m\u001b[1;33m(\u001b[0m\u001b[1;34m'F1-score: %0.4f (+/- %0.2f)'\u001b[0m \u001b[1;33m%\u001b[0m \u001b[1;33m(\u001b[0m\u001b[0mscores\u001b[0m\u001b[1;33m.\u001b[0m\u001b[0mmean\u001b[0m\u001b[1;33m(\u001b[0m\u001b[1;33m)\u001b[0m\u001b[1;33m,\u001b[0m \u001b[0mscores\u001b[0m\u001b[1;33m.\u001b[0m\u001b[0mstd\u001b[0m\u001b[1;33m(\u001b[0m\u001b[1;33m)\u001b[0m \u001b[1;33m*\u001b[0m \u001b[1;36m2\u001b[0m\u001b[1;33m)\u001b[0m\u001b[1;33m)\u001b[0m\u001b[1;33m\u001b[0m\u001b[1;33m\u001b[0m\u001b[0m\n",
      "\u001b[1;32mc:\\ProgramData\\Anaconda3\\lib\\site-packages\\sklearn\\model_selection\\_validation.py\u001b[0m in \u001b[0;36mcross_val_score\u001b[1;34m(estimator, X, y, groups, scoring, cv, n_jobs, verbose, fit_params, pre_dispatch, error_score)\u001b[0m\n\u001b[0;32m    389\u001b[0m                                 \u001b[0mfit_params\u001b[0m\u001b[1;33m=\u001b[0m\u001b[0mfit_params\u001b[0m\u001b[1;33m,\u001b[0m\u001b[1;33m\u001b[0m\u001b[1;33m\u001b[0m\u001b[0m\n\u001b[0;32m    390\u001b[0m                                 \u001b[0mpre_dispatch\u001b[0m\u001b[1;33m=\u001b[0m\u001b[0mpre_dispatch\u001b[0m\u001b[1;33m,\u001b[0m\u001b[1;33m\u001b[0m\u001b[1;33m\u001b[0m\u001b[0m\n\u001b[1;32m--> 391\u001b[1;33m                                 error_score=error_score)\n\u001b[0m\u001b[0;32m    392\u001b[0m     \u001b[1;32mreturn\u001b[0m \u001b[0mcv_results\u001b[0m\u001b[1;33m[\u001b[0m\u001b[1;34m'test_score'\u001b[0m\u001b[1;33m]\u001b[0m\u001b[1;33m\u001b[0m\u001b[1;33m\u001b[0m\u001b[0m\n\u001b[0;32m    393\u001b[0m \u001b[1;33m\u001b[0m\u001b[0m\n",
      "\u001b[1;32mc:\\ProgramData\\Anaconda3\\lib\\site-packages\\sklearn\\model_selection\\_validation.py\u001b[0m in \u001b[0;36mcross_validate\u001b[1;34m(estimator, X, y, groups, scoring, cv, n_jobs, verbose, fit_params, pre_dispatch, return_train_score, return_estimator, error_score)\u001b[0m\n\u001b[0;32m    230\u001b[0m             \u001b[0mreturn_times\u001b[0m\u001b[1;33m=\u001b[0m\u001b[1;32mTrue\u001b[0m\u001b[1;33m,\u001b[0m \u001b[0mreturn_estimator\u001b[0m\u001b[1;33m=\u001b[0m\u001b[0mreturn_estimator\u001b[0m\u001b[1;33m,\u001b[0m\u001b[1;33m\u001b[0m\u001b[1;33m\u001b[0m\u001b[0m\n\u001b[0;32m    231\u001b[0m             error_score=error_score)\n\u001b[1;32m--> 232\u001b[1;33m         for train, test in cv.split(X, y, groups))\n\u001b[0m\u001b[0;32m    233\u001b[0m \u001b[1;33m\u001b[0m\u001b[0m\n\u001b[0;32m    234\u001b[0m     \u001b[0mzipped_scores\u001b[0m \u001b[1;33m=\u001b[0m \u001b[0mlist\u001b[0m\u001b[1;33m(\u001b[0m\u001b[0mzip\u001b[0m\u001b[1;33m(\u001b[0m\u001b[1;33m*\u001b[0m\u001b[0mscores\u001b[0m\u001b[1;33m)\u001b[0m\u001b[1;33m)\u001b[0m\u001b[1;33m\u001b[0m\u001b[1;33m\u001b[0m\u001b[0m\n",
      "\u001b[1;32mc:\\ProgramData\\Anaconda3\\lib\\site-packages\\joblib\\parallel.py\u001b[0m in \u001b[0;36m__call__\u001b[1;34m(self, iterable)\u001b[0m\n\u001b[0;32m    922\u001b[0m                 \u001b[0mself\u001b[0m\u001b[1;33m.\u001b[0m\u001b[0m_iterating\u001b[0m \u001b[1;33m=\u001b[0m \u001b[0mself\u001b[0m\u001b[1;33m.\u001b[0m\u001b[0m_original_iterator\u001b[0m \u001b[1;32mis\u001b[0m \u001b[1;32mnot\u001b[0m \u001b[1;32mNone\u001b[0m\u001b[1;33m\u001b[0m\u001b[1;33m\u001b[0m\u001b[0m\n\u001b[0;32m    923\u001b[0m \u001b[1;33m\u001b[0m\u001b[0m\n\u001b[1;32m--> 924\u001b[1;33m             \u001b[1;32mwhile\u001b[0m \u001b[0mself\u001b[0m\u001b[1;33m.\u001b[0m\u001b[0mdispatch_one_batch\u001b[0m\u001b[1;33m(\u001b[0m\u001b[0miterator\u001b[0m\u001b[1;33m)\u001b[0m\u001b[1;33m:\u001b[0m\u001b[1;33m\u001b[0m\u001b[1;33m\u001b[0m\u001b[0m\n\u001b[0m\u001b[0;32m    925\u001b[0m                 \u001b[1;32mpass\u001b[0m\u001b[1;33m\u001b[0m\u001b[1;33m\u001b[0m\u001b[0m\n\u001b[0;32m    926\u001b[0m \u001b[1;33m\u001b[0m\u001b[0m\n",
      "\u001b[1;32mc:\\ProgramData\\Anaconda3\\lib\\site-packages\\joblib\\parallel.py\u001b[0m in \u001b[0;36mdispatch_one_batch\u001b[1;34m(self, iterator)\u001b[0m\n\u001b[0;32m    757\u001b[0m                 \u001b[1;32mreturn\u001b[0m \u001b[1;32mFalse\u001b[0m\u001b[1;33m\u001b[0m\u001b[1;33m\u001b[0m\u001b[0m\n\u001b[0;32m    758\u001b[0m             \u001b[1;32melse\u001b[0m\u001b[1;33m:\u001b[0m\u001b[1;33m\u001b[0m\u001b[1;33m\u001b[0m\u001b[0m\n\u001b[1;32m--> 759\u001b[1;33m                 \u001b[0mself\u001b[0m\u001b[1;33m.\u001b[0m\u001b[0m_dispatch\u001b[0m\u001b[1;33m(\u001b[0m\u001b[0mtasks\u001b[0m\u001b[1;33m)\u001b[0m\u001b[1;33m\u001b[0m\u001b[1;33m\u001b[0m\u001b[0m\n\u001b[0m\u001b[0;32m    760\u001b[0m                 \u001b[1;32mreturn\u001b[0m \u001b[1;32mTrue\u001b[0m\u001b[1;33m\u001b[0m\u001b[1;33m\u001b[0m\u001b[0m\n\u001b[0;32m    761\u001b[0m \u001b[1;33m\u001b[0m\u001b[0m\n",
      "\u001b[1;32mc:\\ProgramData\\Anaconda3\\lib\\site-packages\\joblib\\parallel.py\u001b[0m in \u001b[0;36m_dispatch\u001b[1;34m(self, batch)\u001b[0m\n\u001b[0;32m    714\u001b[0m         \u001b[1;32mwith\u001b[0m \u001b[0mself\u001b[0m\u001b[1;33m.\u001b[0m\u001b[0m_lock\u001b[0m\u001b[1;33m:\u001b[0m\u001b[1;33m\u001b[0m\u001b[1;33m\u001b[0m\u001b[0m\n\u001b[0;32m    715\u001b[0m             \u001b[0mjob_idx\u001b[0m \u001b[1;33m=\u001b[0m \u001b[0mlen\u001b[0m\u001b[1;33m(\u001b[0m\u001b[0mself\u001b[0m\u001b[1;33m.\u001b[0m\u001b[0m_jobs\u001b[0m\u001b[1;33m)\u001b[0m\u001b[1;33m\u001b[0m\u001b[1;33m\u001b[0m\u001b[0m\n\u001b[1;32m--> 716\u001b[1;33m             \u001b[0mjob\u001b[0m \u001b[1;33m=\u001b[0m \u001b[0mself\u001b[0m\u001b[1;33m.\u001b[0m\u001b[0m_backend\u001b[0m\u001b[1;33m.\u001b[0m\u001b[0mapply_async\u001b[0m\u001b[1;33m(\u001b[0m\u001b[0mbatch\u001b[0m\u001b[1;33m,\u001b[0m \u001b[0mcallback\u001b[0m\u001b[1;33m=\u001b[0m\u001b[0mcb\u001b[0m\u001b[1;33m)\u001b[0m\u001b[1;33m\u001b[0m\u001b[1;33m\u001b[0m\u001b[0m\n\u001b[0m\u001b[0;32m    717\u001b[0m             \u001b[1;31m# A job can complete so quickly than its callback is\u001b[0m\u001b[1;33m\u001b[0m\u001b[1;33m\u001b[0m\u001b[1;33m\u001b[0m\u001b[0m\n\u001b[0;32m    718\u001b[0m             \u001b[1;31m# called before we get here, causing self._jobs to\u001b[0m\u001b[1;33m\u001b[0m\u001b[1;33m\u001b[0m\u001b[1;33m\u001b[0m\u001b[0m\n",
      "\u001b[1;32mc:\\ProgramData\\Anaconda3\\lib\\site-packages\\joblib\\_parallel_backends.py\u001b[0m in \u001b[0;36mapply_async\u001b[1;34m(self, func, callback)\u001b[0m\n\u001b[0;32m    180\u001b[0m     \u001b[1;32mdef\u001b[0m \u001b[0mapply_async\u001b[0m\u001b[1;33m(\u001b[0m\u001b[0mself\u001b[0m\u001b[1;33m,\u001b[0m \u001b[0mfunc\u001b[0m\u001b[1;33m,\u001b[0m \u001b[0mcallback\u001b[0m\u001b[1;33m=\u001b[0m\u001b[1;32mNone\u001b[0m\u001b[1;33m)\u001b[0m\u001b[1;33m:\u001b[0m\u001b[1;33m\u001b[0m\u001b[1;33m\u001b[0m\u001b[0m\n\u001b[0;32m    181\u001b[0m         \u001b[1;34m\"\"\"Schedule a func to be run\"\"\"\u001b[0m\u001b[1;33m\u001b[0m\u001b[1;33m\u001b[0m\u001b[0m\n\u001b[1;32m--> 182\u001b[1;33m         \u001b[0mresult\u001b[0m \u001b[1;33m=\u001b[0m \u001b[0mImmediateResult\u001b[0m\u001b[1;33m(\u001b[0m\u001b[0mfunc\u001b[0m\u001b[1;33m)\u001b[0m\u001b[1;33m\u001b[0m\u001b[1;33m\u001b[0m\u001b[0m\n\u001b[0m\u001b[0;32m    183\u001b[0m         \u001b[1;32mif\u001b[0m \u001b[0mcallback\u001b[0m\u001b[1;33m:\u001b[0m\u001b[1;33m\u001b[0m\u001b[1;33m\u001b[0m\u001b[0m\n\u001b[0;32m    184\u001b[0m             \u001b[0mcallback\u001b[0m\u001b[1;33m(\u001b[0m\u001b[0mresult\u001b[0m\u001b[1;33m)\u001b[0m\u001b[1;33m\u001b[0m\u001b[1;33m\u001b[0m\u001b[0m\n",
      "\u001b[1;32mc:\\ProgramData\\Anaconda3\\lib\\site-packages\\joblib\\_parallel_backends.py\u001b[0m in \u001b[0;36m__init__\u001b[1;34m(self, batch)\u001b[0m\n\u001b[0;32m    547\u001b[0m         \u001b[1;31m# Don't delay the application, to avoid keeping the input\u001b[0m\u001b[1;33m\u001b[0m\u001b[1;33m\u001b[0m\u001b[1;33m\u001b[0m\u001b[0m\n\u001b[0;32m    548\u001b[0m         \u001b[1;31m# arguments in memory\u001b[0m\u001b[1;33m\u001b[0m\u001b[1;33m\u001b[0m\u001b[1;33m\u001b[0m\u001b[0m\n\u001b[1;32m--> 549\u001b[1;33m         \u001b[0mself\u001b[0m\u001b[1;33m.\u001b[0m\u001b[0mresults\u001b[0m \u001b[1;33m=\u001b[0m \u001b[0mbatch\u001b[0m\u001b[1;33m(\u001b[0m\u001b[1;33m)\u001b[0m\u001b[1;33m\u001b[0m\u001b[1;33m\u001b[0m\u001b[0m\n\u001b[0m\u001b[0;32m    550\u001b[0m \u001b[1;33m\u001b[0m\u001b[0m\n\u001b[0;32m    551\u001b[0m     \u001b[1;32mdef\u001b[0m \u001b[0mget\u001b[0m\u001b[1;33m(\u001b[0m\u001b[0mself\u001b[0m\u001b[1;33m)\u001b[0m\u001b[1;33m:\u001b[0m\u001b[1;33m\u001b[0m\u001b[1;33m\u001b[0m\u001b[0m\n",
      "\u001b[1;32mc:\\ProgramData\\Anaconda3\\lib\\site-packages\\joblib\\parallel.py\u001b[0m in \u001b[0;36m__call__\u001b[1;34m(self)\u001b[0m\n\u001b[0;32m    223\u001b[0m         \u001b[1;32mwith\u001b[0m \u001b[0mparallel_backend\u001b[0m\u001b[1;33m(\u001b[0m\u001b[0mself\u001b[0m\u001b[1;33m.\u001b[0m\u001b[0m_backend\u001b[0m\u001b[1;33m,\u001b[0m \u001b[0mn_jobs\u001b[0m\u001b[1;33m=\u001b[0m\u001b[0mself\u001b[0m\u001b[1;33m.\u001b[0m\u001b[0m_n_jobs\u001b[0m\u001b[1;33m)\u001b[0m\u001b[1;33m:\u001b[0m\u001b[1;33m\u001b[0m\u001b[1;33m\u001b[0m\u001b[0m\n\u001b[0;32m    224\u001b[0m             return [func(*args, **kwargs)\n\u001b[1;32m--> 225\u001b[1;33m                     for func, args, kwargs in self.items]\n\u001b[0m\u001b[0;32m    226\u001b[0m \u001b[1;33m\u001b[0m\u001b[0m\n\u001b[0;32m    227\u001b[0m     \u001b[1;32mdef\u001b[0m \u001b[0m__len__\u001b[0m\u001b[1;33m(\u001b[0m\u001b[0mself\u001b[0m\u001b[1;33m)\u001b[0m\u001b[1;33m:\u001b[0m\u001b[1;33m\u001b[0m\u001b[1;33m\u001b[0m\u001b[0m\n",
      "\u001b[1;32mc:\\ProgramData\\Anaconda3\\lib\\site-packages\\joblib\\parallel.py\u001b[0m in \u001b[0;36m<listcomp>\u001b[1;34m(.0)\u001b[0m\n\u001b[0;32m    223\u001b[0m         \u001b[1;32mwith\u001b[0m \u001b[0mparallel_backend\u001b[0m\u001b[1;33m(\u001b[0m\u001b[0mself\u001b[0m\u001b[1;33m.\u001b[0m\u001b[0m_backend\u001b[0m\u001b[1;33m,\u001b[0m \u001b[0mn_jobs\u001b[0m\u001b[1;33m=\u001b[0m\u001b[0mself\u001b[0m\u001b[1;33m.\u001b[0m\u001b[0m_n_jobs\u001b[0m\u001b[1;33m)\u001b[0m\u001b[1;33m:\u001b[0m\u001b[1;33m\u001b[0m\u001b[1;33m\u001b[0m\u001b[0m\n\u001b[0;32m    224\u001b[0m             return [func(*args, **kwargs)\n\u001b[1;32m--> 225\u001b[1;33m                     for func, args, kwargs in self.items]\n\u001b[0m\u001b[0;32m    226\u001b[0m \u001b[1;33m\u001b[0m\u001b[0m\n\u001b[0;32m    227\u001b[0m     \u001b[1;32mdef\u001b[0m \u001b[0m__len__\u001b[0m\u001b[1;33m(\u001b[0m\u001b[0mself\u001b[0m\u001b[1;33m)\u001b[0m\u001b[1;33m:\u001b[0m\u001b[1;33m\u001b[0m\u001b[1;33m\u001b[0m\u001b[0m\n",
      "\u001b[1;32mc:\\ProgramData\\Anaconda3\\lib\\site-packages\\sklearn\\model_selection\\_validation.py\u001b[0m in \u001b[0;36m_fit_and_score\u001b[1;34m(estimator, X, y, scorer, train, test, verbose, parameters, fit_params, return_train_score, return_parameters, return_n_test_samples, return_times, return_estimator, error_score)\u001b[0m\n\u001b[0;32m    514\u001b[0m             \u001b[0mestimator\u001b[0m\u001b[1;33m.\u001b[0m\u001b[0mfit\u001b[0m\u001b[1;33m(\u001b[0m\u001b[0mX_train\u001b[0m\u001b[1;33m,\u001b[0m \u001b[1;33m**\u001b[0m\u001b[0mfit_params\u001b[0m\u001b[1;33m)\u001b[0m\u001b[1;33m\u001b[0m\u001b[1;33m\u001b[0m\u001b[0m\n\u001b[0;32m    515\u001b[0m         \u001b[1;32melse\u001b[0m\u001b[1;33m:\u001b[0m\u001b[1;33m\u001b[0m\u001b[1;33m\u001b[0m\u001b[0m\n\u001b[1;32m--> 516\u001b[1;33m             \u001b[0mestimator\u001b[0m\u001b[1;33m.\u001b[0m\u001b[0mfit\u001b[0m\u001b[1;33m(\u001b[0m\u001b[0mX_train\u001b[0m\u001b[1;33m,\u001b[0m \u001b[0my_train\u001b[0m\u001b[1;33m,\u001b[0m \u001b[1;33m**\u001b[0m\u001b[0mfit_params\u001b[0m\u001b[1;33m)\u001b[0m\u001b[1;33m\u001b[0m\u001b[1;33m\u001b[0m\u001b[0m\n\u001b[0m\u001b[0;32m    517\u001b[0m \u001b[1;33m\u001b[0m\u001b[0m\n\u001b[0;32m    518\u001b[0m     \u001b[1;32mexcept\u001b[0m \u001b[0mException\u001b[0m \u001b[1;32mas\u001b[0m \u001b[0me\u001b[0m\u001b[1;33m:\u001b[0m\u001b[1;33m\u001b[0m\u001b[1;33m\u001b[0m\u001b[0m\n",
      "\u001b[1;32mc:\\ProgramData\\Anaconda3\\lib\\site-packages\\sklearn\\ensemble\\forest.py\u001b[0m in \u001b[0;36mfit\u001b[1;34m(self, X, y, sample_weight)\u001b[0m\n\u001b[0;32m    328\u001b[0m                     \u001b[0mt\u001b[0m\u001b[1;33m,\u001b[0m \u001b[0mself\u001b[0m\u001b[1;33m,\u001b[0m \u001b[0mX\u001b[0m\u001b[1;33m,\u001b[0m \u001b[0my\u001b[0m\u001b[1;33m,\u001b[0m \u001b[0msample_weight\u001b[0m\u001b[1;33m,\u001b[0m \u001b[0mi\u001b[0m\u001b[1;33m,\u001b[0m \u001b[0mlen\u001b[0m\u001b[1;33m(\u001b[0m\u001b[0mtrees\u001b[0m\u001b[1;33m)\u001b[0m\u001b[1;33m,\u001b[0m\u001b[1;33m\u001b[0m\u001b[1;33m\u001b[0m\u001b[0m\n\u001b[0;32m    329\u001b[0m                     verbose=self.verbose, class_weight=self.class_weight)\n\u001b[1;32m--> 330\u001b[1;33m                 for i, t in enumerate(trees))\n\u001b[0m\u001b[0;32m    331\u001b[0m \u001b[1;33m\u001b[0m\u001b[0m\n\u001b[0;32m    332\u001b[0m             \u001b[1;31m# Collect newly grown trees\u001b[0m\u001b[1;33m\u001b[0m\u001b[1;33m\u001b[0m\u001b[1;33m\u001b[0m\u001b[0m\n",
      "\u001b[1;32mc:\\ProgramData\\Anaconda3\\lib\\site-packages\\joblib\\parallel.py\u001b[0m in \u001b[0;36m__call__\u001b[1;34m(self, iterable)\u001b[0m\n\u001b[0;32m    922\u001b[0m                 \u001b[0mself\u001b[0m\u001b[1;33m.\u001b[0m\u001b[0m_iterating\u001b[0m \u001b[1;33m=\u001b[0m \u001b[0mself\u001b[0m\u001b[1;33m.\u001b[0m\u001b[0m_original_iterator\u001b[0m \u001b[1;32mis\u001b[0m \u001b[1;32mnot\u001b[0m \u001b[1;32mNone\u001b[0m\u001b[1;33m\u001b[0m\u001b[1;33m\u001b[0m\u001b[0m\n\u001b[0;32m    923\u001b[0m \u001b[1;33m\u001b[0m\u001b[0m\n\u001b[1;32m--> 924\u001b[1;33m             \u001b[1;32mwhile\u001b[0m \u001b[0mself\u001b[0m\u001b[1;33m.\u001b[0m\u001b[0mdispatch_one_batch\u001b[0m\u001b[1;33m(\u001b[0m\u001b[0miterator\u001b[0m\u001b[1;33m)\u001b[0m\u001b[1;33m:\u001b[0m\u001b[1;33m\u001b[0m\u001b[1;33m\u001b[0m\u001b[0m\n\u001b[0m\u001b[0;32m    925\u001b[0m                 \u001b[1;32mpass\u001b[0m\u001b[1;33m\u001b[0m\u001b[1;33m\u001b[0m\u001b[0m\n\u001b[0;32m    926\u001b[0m \u001b[1;33m\u001b[0m\u001b[0m\n",
      "\u001b[1;32mc:\\ProgramData\\Anaconda3\\lib\\site-packages\\joblib\\parallel.py\u001b[0m in \u001b[0;36mdispatch_one_batch\u001b[1;34m(self, iterator)\u001b[0m\n\u001b[0;32m    757\u001b[0m                 \u001b[1;32mreturn\u001b[0m \u001b[1;32mFalse\u001b[0m\u001b[1;33m\u001b[0m\u001b[1;33m\u001b[0m\u001b[0m\n\u001b[0;32m    758\u001b[0m             \u001b[1;32melse\u001b[0m\u001b[1;33m:\u001b[0m\u001b[1;33m\u001b[0m\u001b[1;33m\u001b[0m\u001b[0m\n\u001b[1;32m--> 759\u001b[1;33m                 \u001b[0mself\u001b[0m\u001b[1;33m.\u001b[0m\u001b[0m_dispatch\u001b[0m\u001b[1;33m(\u001b[0m\u001b[0mtasks\u001b[0m\u001b[1;33m)\u001b[0m\u001b[1;33m\u001b[0m\u001b[1;33m\u001b[0m\u001b[0m\n\u001b[0m\u001b[0;32m    760\u001b[0m                 \u001b[1;32mreturn\u001b[0m \u001b[1;32mTrue\u001b[0m\u001b[1;33m\u001b[0m\u001b[1;33m\u001b[0m\u001b[0m\n\u001b[0;32m    761\u001b[0m \u001b[1;33m\u001b[0m\u001b[0m\n",
      "\u001b[1;32mc:\\ProgramData\\Anaconda3\\lib\\site-packages\\joblib\\parallel.py\u001b[0m in \u001b[0;36m_dispatch\u001b[1;34m(self, batch)\u001b[0m\n\u001b[0;32m    714\u001b[0m         \u001b[1;32mwith\u001b[0m \u001b[0mself\u001b[0m\u001b[1;33m.\u001b[0m\u001b[0m_lock\u001b[0m\u001b[1;33m:\u001b[0m\u001b[1;33m\u001b[0m\u001b[1;33m\u001b[0m\u001b[0m\n\u001b[0;32m    715\u001b[0m             \u001b[0mjob_idx\u001b[0m \u001b[1;33m=\u001b[0m \u001b[0mlen\u001b[0m\u001b[1;33m(\u001b[0m\u001b[0mself\u001b[0m\u001b[1;33m.\u001b[0m\u001b[0m_jobs\u001b[0m\u001b[1;33m)\u001b[0m\u001b[1;33m\u001b[0m\u001b[1;33m\u001b[0m\u001b[0m\n\u001b[1;32m--> 716\u001b[1;33m             \u001b[0mjob\u001b[0m \u001b[1;33m=\u001b[0m \u001b[0mself\u001b[0m\u001b[1;33m.\u001b[0m\u001b[0m_backend\u001b[0m\u001b[1;33m.\u001b[0m\u001b[0mapply_async\u001b[0m\u001b[1;33m(\u001b[0m\u001b[0mbatch\u001b[0m\u001b[1;33m,\u001b[0m \u001b[0mcallback\u001b[0m\u001b[1;33m=\u001b[0m\u001b[0mcb\u001b[0m\u001b[1;33m)\u001b[0m\u001b[1;33m\u001b[0m\u001b[1;33m\u001b[0m\u001b[0m\n\u001b[0m\u001b[0;32m    717\u001b[0m             \u001b[1;31m# A job can complete so quickly than its callback is\u001b[0m\u001b[1;33m\u001b[0m\u001b[1;33m\u001b[0m\u001b[1;33m\u001b[0m\u001b[0m\n\u001b[0;32m    718\u001b[0m             \u001b[1;31m# called before we get here, causing self._jobs to\u001b[0m\u001b[1;33m\u001b[0m\u001b[1;33m\u001b[0m\u001b[1;33m\u001b[0m\u001b[0m\n",
      "\u001b[1;32mc:\\ProgramData\\Anaconda3\\lib\\site-packages\\joblib\\_parallel_backends.py\u001b[0m in \u001b[0;36mapply_async\u001b[1;34m(self, func, callback)\u001b[0m\n\u001b[0;32m    180\u001b[0m     \u001b[1;32mdef\u001b[0m \u001b[0mapply_async\u001b[0m\u001b[1;33m(\u001b[0m\u001b[0mself\u001b[0m\u001b[1;33m,\u001b[0m \u001b[0mfunc\u001b[0m\u001b[1;33m,\u001b[0m \u001b[0mcallback\u001b[0m\u001b[1;33m=\u001b[0m\u001b[1;32mNone\u001b[0m\u001b[1;33m)\u001b[0m\u001b[1;33m:\u001b[0m\u001b[1;33m\u001b[0m\u001b[1;33m\u001b[0m\u001b[0m\n\u001b[0;32m    181\u001b[0m         \u001b[1;34m\"\"\"Schedule a func to be run\"\"\"\u001b[0m\u001b[1;33m\u001b[0m\u001b[1;33m\u001b[0m\u001b[0m\n\u001b[1;32m--> 182\u001b[1;33m         \u001b[0mresult\u001b[0m \u001b[1;33m=\u001b[0m \u001b[0mImmediateResult\u001b[0m\u001b[1;33m(\u001b[0m\u001b[0mfunc\u001b[0m\u001b[1;33m)\u001b[0m\u001b[1;33m\u001b[0m\u001b[1;33m\u001b[0m\u001b[0m\n\u001b[0m\u001b[0;32m    183\u001b[0m         \u001b[1;32mif\u001b[0m \u001b[0mcallback\u001b[0m\u001b[1;33m:\u001b[0m\u001b[1;33m\u001b[0m\u001b[1;33m\u001b[0m\u001b[0m\n\u001b[0;32m    184\u001b[0m             \u001b[0mcallback\u001b[0m\u001b[1;33m(\u001b[0m\u001b[0mresult\u001b[0m\u001b[1;33m)\u001b[0m\u001b[1;33m\u001b[0m\u001b[1;33m\u001b[0m\u001b[0m\n",
      "\u001b[1;32mc:\\ProgramData\\Anaconda3\\lib\\site-packages\\joblib\\_parallel_backends.py\u001b[0m in \u001b[0;36m__init__\u001b[1;34m(self, batch)\u001b[0m\n\u001b[0;32m    547\u001b[0m         \u001b[1;31m# Don't delay the application, to avoid keeping the input\u001b[0m\u001b[1;33m\u001b[0m\u001b[1;33m\u001b[0m\u001b[1;33m\u001b[0m\u001b[0m\n\u001b[0;32m    548\u001b[0m         \u001b[1;31m# arguments in memory\u001b[0m\u001b[1;33m\u001b[0m\u001b[1;33m\u001b[0m\u001b[1;33m\u001b[0m\u001b[0m\n\u001b[1;32m--> 549\u001b[1;33m         \u001b[0mself\u001b[0m\u001b[1;33m.\u001b[0m\u001b[0mresults\u001b[0m \u001b[1;33m=\u001b[0m \u001b[0mbatch\u001b[0m\u001b[1;33m(\u001b[0m\u001b[1;33m)\u001b[0m\u001b[1;33m\u001b[0m\u001b[1;33m\u001b[0m\u001b[0m\n\u001b[0m\u001b[0;32m    550\u001b[0m \u001b[1;33m\u001b[0m\u001b[0m\n\u001b[0;32m    551\u001b[0m     \u001b[1;32mdef\u001b[0m \u001b[0mget\u001b[0m\u001b[1;33m(\u001b[0m\u001b[0mself\u001b[0m\u001b[1;33m)\u001b[0m\u001b[1;33m:\u001b[0m\u001b[1;33m\u001b[0m\u001b[1;33m\u001b[0m\u001b[0m\n",
      "\u001b[1;32mc:\\ProgramData\\Anaconda3\\lib\\site-packages\\joblib\\parallel.py\u001b[0m in \u001b[0;36m__call__\u001b[1;34m(self)\u001b[0m\n\u001b[0;32m    223\u001b[0m         \u001b[1;32mwith\u001b[0m \u001b[0mparallel_backend\u001b[0m\u001b[1;33m(\u001b[0m\u001b[0mself\u001b[0m\u001b[1;33m.\u001b[0m\u001b[0m_backend\u001b[0m\u001b[1;33m,\u001b[0m \u001b[0mn_jobs\u001b[0m\u001b[1;33m=\u001b[0m\u001b[0mself\u001b[0m\u001b[1;33m.\u001b[0m\u001b[0m_n_jobs\u001b[0m\u001b[1;33m)\u001b[0m\u001b[1;33m:\u001b[0m\u001b[1;33m\u001b[0m\u001b[1;33m\u001b[0m\u001b[0m\n\u001b[0;32m    224\u001b[0m             return [func(*args, **kwargs)\n\u001b[1;32m--> 225\u001b[1;33m                     for func, args, kwargs in self.items]\n\u001b[0m\u001b[0;32m    226\u001b[0m \u001b[1;33m\u001b[0m\u001b[0m\n\u001b[0;32m    227\u001b[0m     \u001b[1;32mdef\u001b[0m \u001b[0m__len__\u001b[0m\u001b[1;33m(\u001b[0m\u001b[0mself\u001b[0m\u001b[1;33m)\u001b[0m\u001b[1;33m:\u001b[0m\u001b[1;33m\u001b[0m\u001b[1;33m\u001b[0m\u001b[0m\n",
      "\u001b[1;32mc:\\ProgramData\\Anaconda3\\lib\\site-packages\\joblib\\parallel.py\u001b[0m in \u001b[0;36m<listcomp>\u001b[1;34m(.0)\u001b[0m\n\u001b[0;32m    223\u001b[0m         \u001b[1;32mwith\u001b[0m \u001b[0mparallel_backend\u001b[0m\u001b[1;33m(\u001b[0m\u001b[0mself\u001b[0m\u001b[1;33m.\u001b[0m\u001b[0m_backend\u001b[0m\u001b[1;33m,\u001b[0m \u001b[0mn_jobs\u001b[0m\u001b[1;33m=\u001b[0m\u001b[0mself\u001b[0m\u001b[1;33m.\u001b[0m\u001b[0m_n_jobs\u001b[0m\u001b[1;33m)\u001b[0m\u001b[1;33m:\u001b[0m\u001b[1;33m\u001b[0m\u001b[1;33m\u001b[0m\u001b[0m\n\u001b[0;32m    224\u001b[0m             return [func(*args, **kwargs)\n\u001b[1;32m--> 225\u001b[1;33m                     for func, args, kwargs in self.items]\n\u001b[0m\u001b[0;32m    226\u001b[0m \u001b[1;33m\u001b[0m\u001b[0m\n\u001b[0;32m    227\u001b[0m     \u001b[1;32mdef\u001b[0m \u001b[0m__len__\u001b[0m\u001b[1;33m(\u001b[0m\u001b[0mself\u001b[0m\u001b[1;33m)\u001b[0m\u001b[1;33m:\u001b[0m\u001b[1;33m\u001b[0m\u001b[1;33m\u001b[0m\u001b[0m\n",
      "\u001b[1;32mc:\\ProgramData\\Anaconda3\\lib\\site-packages\\sklearn\\ensemble\\forest.py\u001b[0m in \u001b[0;36m_parallel_build_trees\u001b[1;34m(tree, forest, X, y, sample_weight, tree_idx, n_trees, verbose, class_weight)\u001b[0m\n\u001b[0;32m    116\u001b[0m             \u001b[0mcurr_sample_weight\u001b[0m \u001b[1;33m*=\u001b[0m \u001b[0mcompute_sample_weight\u001b[0m\u001b[1;33m(\u001b[0m\u001b[1;34m'balanced'\u001b[0m\u001b[1;33m,\u001b[0m \u001b[0my\u001b[0m\u001b[1;33m,\u001b[0m \u001b[0mindices\u001b[0m\u001b[1;33m)\u001b[0m\u001b[1;33m\u001b[0m\u001b[1;33m\u001b[0m\u001b[0m\n\u001b[0;32m    117\u001b[0m \u001b[1;33m\u001b[0m\u001b[0m\n\u001b[1;32m--> 118\u001b[1;33m         \u001b[0mtree\u001b[0m\u001b[1;33m.\u001b[0m\u001b[0mfit\u001b[0m\u001b[1;33m(\u001b[0m\u001b[0mX\u001b[0m\u001b[1;33m,\u001b[0m \u001b[0my\u001b[0m\u001b[1;33m,\u001b[0m \u001b[0msample_weight\u001b[0m\u001b[1;33m=\u001b[0m\u001b[0mcurr_sample_weight\u001b[0m\u001b[1;33m,\u001b[0m \u001b[0mcheck_input\u001b[0m\u001b[1;33m=\u001b[0m\u001b[1;32mFalse\u001b[0m\u001b[1;33m)\u001b[0m\u001b[1;33m\u001b[0m\u001b[1;33m\u001b[0m\u001b[0m\n\u001b[0m\u001b[0;32m    119\u001b[0m     \u001b[1;32melse\u001b[0m\u001b[1;33m:\u001b[0m\u001b[1;33m\u001b[0m\u001b[1;33m\u001b[0m\u001b[0m\n\u001b[0;32m    120\u001b[0m         \u001b[0mtree\u001b[0m\u001b[1;33m.\u001b[0m\u001b[0mfit\u001b[0m\u001b[1;33m(\u001b[0m\u001b[0mX\u001b[0m\u001b[1;33m,\u001b[0m \u001b[0my\u001b[0m\u001b[1;33m,\u001b[0m \u001b[0msample_weight\u001b[0m\u001b[1;33m=\u001b[0m\u001b[0msample_weight\u001b[0m\u001b[1;33m,\u001b[0m \u001b[0mcheck_input\u001b[0m\u001b[1;33m=\u001b[0m\u001b[1;32mFalse\u001b[0m\u001b[1;33m)\u001b[0m\u001b[1;33m\u001b[0m\u001b[1;33m\u001b[0m\u001b[0m\n",
      "\u001b[1;32mc:\\ProgramData\\Anaconda3\\lib\\site-packages\\sklearn\\tree\\tree.py\u001b[0m in \u001b[0;36mfit\u001b[1;34m(self, X, y, sample_weight, check_input, X_idx_sorted)\u001b[0m\n\u001b[0;32m    814\u001b[0m             \u001b[0msample_weight\u001b[0m\u001b[1;33m=\u001b[0m\u001b[0msample_weight\u001b[0m\u001b[1;33m,\u001b[0m\u001b[1;33m\u001b[0m\u001b[1;33m\u001b[0m\u001b[0m\n\u001b[0;32m    815\u001b[0m             \u001b[0mcheck_input\u001b[0m\u001b[1;33m=\u001b[0m\u001b[0mcheck_input\u001b[0m\u001b[1;33m,\u001b[0m\u001b[1;33m\u001b[0m\u001b[1;33m\u001b[0m\u001b[0m\n\u001b[1;32m--> 816\u001b[1;33m             X_idx_sorted=X_idx_sorted)\n\u001b[0m\u001b[0;32m    817\u001b[0m         \u001b[1;32mreturn\u001b[0m \u001b[0mself\u001b[0m\u001b[1;33m\u001b[0m\u001b[1;33m\u001b[0m\u001b[0m\n\u001b[0;32m    818\u001b[0m \u001b[1;33m\u001b[0m\u001b[0m\n",
      "\u001b[1;32mc:\\ProgramData\\Anaconda3\\lib\\site-packages\\sklearn\\tree\\tree.py\u001b[0m in \u001b[0;36mfit\u001b[1;34m(self, X, y, sample_weight, check_input, X_idx_sorted)\u001b[0m\n\u001b[0;32m    378\u001b[0m                                            min_impurity_split)\n\u001b[0;32m    379\u001b[0m \u001b[1;33m\u001b[0m\u001b[0m\n\u001b[1;32m--> 380\u001b[1;33m         \u001b[0mbuilder\u001b[0m\u001b[1;33m.\u001b[0m\u001b[0mbuild\u001b[0m\u001b[1;33m(\u001b[0m\u001b[0mself\u001b[0m\u001b[1;33m.\u001b[0m\u001b[0mtree_\u001b[0m\u001b[1;33m,\u001b[0m \u001b[0mX\u001b[0m\u001b[1;33m,\u001b[0m \u001b[0my\u001b[0m\u001b[1;33m,\u001b[0m \u001b[0msample_weight\u001b[0m\u001b[1;33m,\u001b[0m \u001b[0mX_idx_sorted\u001b[0m\u001b[1;33m)\u001b[0m\u001b[1;33m\u001b[0m\u001b[1;33m\u001b[0m\u001b[0m\n\u001b[0m\u001b[0;32m    381\u001b[0m \u001b[1;33m\u001b[0m\u001b[0m\n\u001b[0;32m    382\u001b[0m         \u001b[1;32mif\u001b[0m \u001b[0mself\u001b[0m\u001b[1;33m.\u001b[0m\u001b[0mn_outputs_\u001b[0m \u001b[1;33m==\u001b[0m \u001b[1;36m1\u001b[0m\u001b[1;33m:\u001b[0m\u001b[1;33m\u001b[0m\u001b[1;33m\u001b[0m\u001b[0m\n",
      "\u001b[1;31mKeyboardInterrupt\u001b[0m: "
     ]
    }
   ],
   "source": [
    "scores = cross_val_score(clf, X_train, y_train, cv=10)\n",
    "print('Accuracy: %0.4f (+/- %0.2f)' % (scores.mean(), scores.std() * 2))\n",
    "\n",
    "scores = cross_val_score(clf, X_train, y_train, cv=10, scoring='f1_macro')\n",
    "print('F1-score: %0.4f (+/- %0.2f)' % (scores.mean(), scores.std() * 2))"
   ]
  }
 ],
 "metadata": {
  "kernelspec": {
   "display_name": "Python 3 (ipykernel)",
   "language": "python",
   "name": "python3"
  },
  "language_info": {
   "codemirror_mode": {
    "name": "ipython",
    "version": 3
   },
   "file_extension": ".py",
   "mimetype": "text/x-python",
   "name": "python",
   "nbconvert_exporter": "python",
   "pygments_lexer": "ipython3",
   "version": "3.7.4"
  },
  "vscode": {
   "interpreter": {
    "hash": "ad2bdc8ecc057115af97d19610ffacc2b4e99fae6737bb82f5d7fb13d2f2c186"
   }
  }
 },
 "nbformat": 4,
 "nbformat_minor": 5
}
