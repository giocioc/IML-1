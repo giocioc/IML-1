{
 "cells": [
  {
   "cell_type": "markdown",
   "id": "ae636fbbc79a8b12",
   "metadata": {},
   "source": [
    "# Introduzione al Machine Learning 2023-2024\n",
    "## Bernardini Jacopo, Ciocca Giorgio, Marini Tommaso\n",
    "## Exam Project, First Part: Data Exploration, Clustering  and Classification"
   ]
  },
  {
   "cell_type": "markdown",
   "id": "ce310d7c",
   "metadata": {},
   "source": [
    "### 1) Data Exploration"
   ]
  },
  {
   "cell_type": "markdown",
   "id": "43c847192814d75a",
   "metadata": {},
   "source": [
    "Libraries import"
   ]
  },
  {
   "cell_type": "code",
   "execution_count": 156,
   "id": "6707c599167ce45a",
   "metadata": {
    "ExecuteTime": {
     "end_time": "2024-05-14T15:05:07.305086Z",
     "start_time": "2024-05-14T15:05:07.302444Z"
    }
   },
   "outputs": [],
   "source": [
    "import numpy as np\n",
    "import pandas as pd\n",
    "import pylab as plt"
   ]
  },
  {
   "cell_type": "markdown",
   "id": "8dccef71ffb70e2b",
   "metadata": {},
   "source": [
    "File reading and substitution of 'notknown' values with NaNs "
   ]
  },
  {
   "cell_type": "code",
   "execution_count": 157,
   "id": "ee60770bbf92f958",
   "metadata": {
    "ExecuteTime": {
     "end_time": "2024-05-14T15:05:08.386558Z",
     "start_time": "2024-05-14T15:05:07.455140Z"
    }
   },
   "outputs": [
    {
     "data": {
      "text/html": [
       "<div>\n",
       "<style scoped>\n",
       "    .dataframe tbody tr th:only-of-type {\n",
       "        vertical-align: middle;\n",
       "    }\n",
       "\n",
       "    .dataframe tbody tr th {\n",
       "        vertical-align: top;\n",
       "    }\n",
       "\n",
       "    .dataframe thead th {\n",
       "        text-align: right;\n",
       "    }\n",
       "</style>\n",
       "<table border=\"1\" class=\"dataframe\">\n",
       "  <thead>\n",
       "    <tr style=\"text-align: right;\">\n",
       "      <th></th>\n",
       "      <th>AGEP</th>\n",
       "      <th>SCHL</th>\n",
       "      <th>MAR</th>\n",
       "      <th>RELP</th>\n",
       "      <th>DIS</th>\n",
       "      <th>ESP</th>\n",
       "      <th>CIT</th>\n",
       "      <th>MIG</th>\n",
       "      <th>MIL</th>\n",
       "      <th>ANC</th>\n",
       "      <th>NATIVITY</th>\n",
       "      <th>DEAR</th>\n",
       "      <th>DEYE</th>\n",
       "      <th>DREM</th>\n",
       "      <th>SEX</th>\n",
       "      <th>ESR</th>\n",
       "    </tr>\n",
       "  </thead>\n",
       "  <tbody>\n",
       "    <tr>\n",
       "      <td>0</td>\n",
       "      <td>21.0</td>\n",
       "      <td>16.0</td>\n",
       "      <td>5.0</td>\n",
       "      <td>17.0</td>\n",
       "      <td>2.0</td>\n",
       "      <td>0.0</td>\n",
       "      <td>1.0</td>\n",
       "      <td>1.0</td>\n",
       "      <td>4.0</td>\n",
       "      <td>1.0</td>\n",
       "      <td>1.0</td>\n",
       "      <td>2.0</td>\n",
       "      <td>2.0</td>\n",
       "      <td>2.0</td>\n",
       "      <td>2.0</td>\n",
       "      <td>True</td>\n",
       "    </tr>\n",
       "    <tr>\n",
       "      <td>1</td>\n",
       "      <td>19.0</td>\n",
       "      <td>16.0</td>\n",
       "      <td>5.0</td>\n",
       "      <td>17.0</td>\n",
       "      <td>2.0</td>\n",
       "      <td>0.0</td>\n",
       "      <td>1.0</td>\n",
       "      <td>1.0</td>\n",
       "      <td>4.0</td>\n",
       "      <td>1.0</td>\n",
       "      <td>1.0</td>\n",
       "      <td>2.0</td>\n",
       "      <td>2.0</td>\n",
       "      <td>2.0</td>\n",
       "      <td>2.0</td>\n",
       "      <td>False</td>\n",
       "    </tr>\n",
       "    <tr>\n",
       "      <td>2</td>\n",
       "      <td>24.0</td>\n",
       "      <td>12.0</td>\n",
       "      <td>5.0</td>\n",
       "      <td>16.0</td>\n",
       "      <td>1.0</td>\n",
       "      <td>0.0</td>\n",
       "      <td>1.0</td>\n",
       "      <td>1.0</td>\n",
       "      <td>4.0</td>\n",
       "      <td>1.0</td>\n",
       "      <td>1.0</td>\n",
       "      <td>2.0</td>\n",
       "      <td>2.0</td>\n",
       "      <td>1.0</td>\n",
       "      <td>1.0</td>\n",
       "      <td>False</td>\n",
       "    </tr>\n",
       "    <tr>\n",
       "      <td>3</td>\n",
       "      <td>20.0</td>\n",
       "      <td>16.0</td>\n",
       "      <td>5.0</td>\n",
       "      <td>17.0</td>\n",
       "      <td>2.0</td>\n",
       "      <td>0.0</td>\n",
       "      <td>1.0</td>\n",
       "      <td>1.0</td>\n",
       "      <td>3.0</td>\n",
       "      <td>1.0</td>\n",
       "      <td>1.0</td>\n",
       "      <td>2.0</td>\n",
       "      <td>NaN</td>\n",
       "      <td>2.0</td>\n",
       "      <td>2.0</td>\n",
       "      <td>True</td>\n",
       "    </tr>\n",
       "    <tr>\n",
       "      <td>4</td>\n",
       "      <td>31.0</td>\n",
       "      <td>17.0</td>\n",
       "      <td>5.0</td>\n",
       "      <td>17.0</td>\n",
       "      <td>2.0</td>\n",
       "      <td>0.0</td>\n",
       "      <td>1.0</td>\n",
       "      <td>3.0</td>\n",
       "      <td>4.0</td>\n",
       "      <td>4.0</td>\n",
       "      <td>1.0</td>\n",
       "      <td>2.0</td>\n",
       "      <td>2.0</td>\n",
       "      <td>2.0</td>\n",
       "      <td>1.0</td>\n",
       "      <td>True</td>\n",
       "    </tr>\n",
       "  </tbody>\n",
       "</table>\n",
       "</div>"
      ],
      "text/plain": [
       "   AGEP  SCHL  MAR  RELP  DIS  ESP  CIT  MIG  MIL  ANC  NATIVITY  DEAR  DEYE  \\\n",
       "0  21.0  16.0  5.0  17.0  2.0  0.0  1.0  1.0  4.0  1.0       1.0   2.0   2.0   \n",
       "1  19.0  16.0  5.0  17.0  2.0  0.0  1.0  1.0  4.0  1.0       1.0   2.0   2.0   \n",
       "2  24.0  12.0  5.0  16.0  1.0  0.0  1.0  1.0  4.0  1.0       1.0   2.0   2.0   \n",
       "3  20.0  16.0  5.0  17.0  2.0  0.0  1.0  1.0  3.0  1.0       1.0   2.0   NaN   \n",
       "4  31.0  17.0  5.0  17.0  2.0  0.0  1.0  3.0  4.0  4.0       1.0   2.0   2.0   \n",
       "\n",
       "   DREM  SEX    ESR  \n",
       "0   2.0  2.0   True  \n",
       "1   2.0  2.0  False  \n",
       "2   1.0  1.0  False  \n",
       "3   2.0  2.0   True  \n",
       "4   2.0  1.0   True  "
      ]
     },
     "execution_count": 157,
     "metadata": {},
     "output_type": "execute_result"
    }
   ],
   "source": [
    "filename = r'C:\\Users\\Utente\\OneDrive\\Desktop\\MachineLearning\\pums.csv'\n",
    "data = pd.read_csv(filename, na_values='notknown')\n",
    "data.head()"
   ]
  },
  {
   "cell_type": "code",
   "execution_count": 158,
   "id": "7128baabfc4c6fce",
   "metadata": {
    "ExecuteTime": {
     "end_time": "2024-05-14T15:05:08.523457Z",
     "start_time": "2024-05-14T15:05:08.387568Z"
    }
   },
   "outputs": [
    {
     "data": {
      "text/html": [
       "<div>\n",
       "<style scoped>\n",
       "    .dataframe tbody tr th:only-of-type {\n",
       "        vertical-align: middle;\n",
       "    }\n",
       "\n",
       "    .dataframe tbody tr th {\n",
       "        vertical-align: top;\n",
       "    }\n",
       "\n",
       "    .dataframe thead th {\n",
       "        text-align: right;\n",
       "    }\n",
       "</style>\n",
       "<table border=\"1\" class=\"dataframe\">\n",
       "  <thead>\n",
       "    <tr style=\"text-align: right;\">\n",
       "      <th></th>\n",
       "      <th>AGEP</th>\n",
       "      <th>SCHL</th>\n",
       "      <th>MAR</th>\n",
       "      <th>RELP</th>\n",
       "      <th>DIS</th>\n",
       "      <th>ESP</th>\n",
       "      <th>CIT</th>\n",
       "      <th>MIG</th>\n",
       "      <th>MIL</th>\n",
       "      <th>ANC</th>\n",
       "      <th>NATIVITY</th>\n",
       "      <th>DEAR</th>\n",
       "      <th>DEYE</th>\n",
       "      <th>DREM</th>\n",
       "      <th>SEX</th>\n",
       "      <th>ESR</th>\n",
       "    </tr>\n",
       "  </thead>\n",
       "  <tbody>\n",
       "    <tr>\n",
       "      <td>89</td>\n",
       "      <td>48.0</td>\n",
       "      <td>19.0</td>\n",
       "      <td>3.0</td>\n",
       "      <td>16.0</td>\n",
       "      <td>2.0</td>\n",
       "      <td>0.0</td>\n",
       "      <td>1.0</td>\n",
       "      <td>3.0</td>\n",
       "      <td>4.0</td>\n",
       "      <td>1.0</td>\n",
       "      <td>NaN</td>\n",
       "      <td>2.0</td>\n",
       "      <td>NaN</td>\n",
       "      <td>2.0</td>\n",
       "      <td>2.0</td>\n",
       "      <td>False</td>\n",
       "    </tr>\n",
       "    <tr>\n",
       "      <td>128</td>\n",
       "      <td>64.0</td>\n",
       "      <td>12.0</td>\n",
       "      <td>2.0</td>\n",
       "      <td>NaN</td>\n",
       "      <td>1.0</td>\n",
       "      <td>0.0</td>\n",
       "      <td>1.0</td>\n",
       "      <td>1.0</td>\n",
       "      <td>4.0</td>\n",
       "      <td>1.0</td>\n",
       "      <td>1.0</td>\n",
       "      <td>1.0</td>\n",
       "      <td>NaN</td>\n",
       "      <td>2.0</td>\n",
       "      <td>1.0</td>\n",
       "      <td>False</td>\n",
       "    </tr>\n",
       "    <tr>\n",
       "      <td>135</td>\n",
       "      <td>45.0</td>\n",
       "      <td>12.0</td>\n",
       "      <td>5.0</td>\n",
       "      <td>NaN</td>\n",
       "      <td>2.0</td>\n",
       "      <td>0.0</td>\n",
       "      <td>1.0</td>\n",
       "      <td>1.0</td>\n",
       "      <td>4.0</td>\n",
       "      <td>4.0</td>\n",
       "      <td>NaN</td>\n",
       "      <td>2.0</td>\n",
       "      <td>2.0</td>\n",
       "      <td>2.0</td>\n",
       "      <td>1.0</td>\n",
       "      <td>False</td>\n",
       "    </tr>\n",
       "    <tr>\n",
       "      <td>212</td>\n",
       "      <td>25.0</td>\n",
       "      <td>19.0</td>\n",
       "      <td>5.0</td>\n",
       "      <td>16.0</td>\n",
       "      <td>2.0</td>\n",
       "      <td>0.0</td>\n",
       "      <td>1.0</td>\n",
       "      <td>3.0</td>\n",
       "      <td>4.0</td>\n",
       "      <td>1.0</td>\n",
       "      <td>NaN</td>\n",
       "      <td>NaN</td>\n",
       "      <td>2.0</td>\n",
       "      <td>2.0</td>\n",
       "      <td>1.0</td>\n",
       "      <td>False</td>\n",
       "    </tr>\n",
       "    <tr>\n",
       "      <td>230</td>\n",
       "      <td>92.0</td>\n",
       "      <td>NaN</td>\n",
       "      <td>1.0</td>\n",
       "      <td>16.0</td>\n",
       "      <td>1.0</td>\n",
       "      <td>0.0</td>\n",
       "      <td>1.0</td>\n",
       "      <td>1.0</td>\n",
       "      <td>3.0</td>\n",
       "      <td>1.0</td>\n",
       "      <td>1.0</td>\n",
       "      <td>NaN</td>\n",
       "      <td>2.0</td>\n",
       "      <td>2.0</td>\n",
       "      <td>1.0</td>\n",
       "      <td>False</td>\n",
       "    </tr>\n",
       "    <tr>\n",
       "      <td>...</td>\n",
       "      <td>...</td>\n",
       "      <td>...</td>\n",
       "      <td>...</td>\n",
       "      <td>...</td>\n",
       "      <td>...</td>\n",
       "      <td>...</td>\n",
       "      <td>...</td>\n",
       "      <td>...</td>\n",
       "      <td>...</td>\n",
       "      <td>...</td>\n",
       "      <td>...</td>\n",
       "      <td>...</td>\n",
       "      <td>...</td>\n",
       "      <td>...</td>\n",
       "      <td>...</td>\n",
       "      <td>...</td>\n",
       "    </tr>\n",
       "    <tr>\n",
       "      <td>746268</td>\n",
       "      <td>59.0</td>\n",
       "      <td>19.0</td>\n",
       "      <td>1.0</td>\n",
       "      <td>0.0</td>\n",
       "      <td>2.0</td>\n",
       "      <td>0.0</td>\n",
       "      <td>1.0</td>\n",
       "      <td>1.0</td>\n",
       "      <td>4.0</td>\n",
       "      <td>1.0</td>\n",
       "      <td>NaN</td>\n",
       "      <td>2.0</td>\n",
       "      <td>NaN</td>\n",
       "      <td>2.0</td>\n",
       "      <td>2.0</td>\n",
       "      <td>True</td>\n",
       "    </tr>\n",
       "    <tr>\n",
       "      <td>746277</td>\n",
       "      <td>12.0</td>\n",
       "      <td>9.0</td>\n",
       "      <td>5.0</td>\n",
       "      <td>2.0</td>\n",
       "      <td>2.0</td>\n",
       "      <td>2.0</td>\n",
       "      <td>1.0</td>\n",
       "      <td>1.0</td>\n",
       "      <td>0.0</td>\n",
       "      <td>2.0</td>\n",
       "      <td>NaN</td>\n",
       "      <td>NaN</td>\n",
       "      <td>2.0</td>\n",
       "      <td>2.0</td>\n",
       "      <td>2.0</td>\n",
       "      <td>False</td>\n",
       "    </tr>\n",
       "    <tr>\n",
       "      <td>746298</td>\n",
       "      <td>54.0</td>\n",
       "      <td>NaN</td>\n",
       "      <td>1.0</td>\n",
       "      <td>1.0</td>\n",
       "      <td>2.0</td>\n",
       "      <td>0.0</td>\n",
       "      <td>1.0</td>\n",
       "      <td>1.0</td>\n",
       "      <td>4.0</td>\n",
       "      <td>4.0</td>\n",
       "      <td>NaN</td>\n",
       "      <td>2.0</td>\n",
       "      <td>2.0</td>\n",
       "      <td>2.0</td>\n",
       "      <td>1.0</td>\n",
       "      <td>True</td>\n",
       "    </tr>\n",
       "    <tr>\n",
       "      <td>746323</td>\n",
       "      <td>63.0</td>\n",
       "      <td>16.0</td>\n",
       "      <td>1.0</td>\n",
       "      <td>1.0</td>\n",
       "      <td>2.0</td>\n",
       "      <td>0.0</td>\n",
       "      <td>NaN</td>\n",
       "      <td>1.0</td>\n",
       "      <td>4.0</td>\n",
       "      <td>1.0</td>\n",
       "      <td>NaN</td>\n",
       "      <td>2.0</td>\n",
       "      <td>2.0</td>\n",
       "      <td>2.0</td>\n",
       "      <td>2.0</td>\n",
       "      <td>True</td>\n",
       "    </tr>\n",
       "    <tr>\n",
       "      <td>746332</td>\n",
       "      <td>47.0</td>\n",
       "      <td>NaN</td>\n",
       "      <td>1.0</td>\n",
       "      <td>0.0</td>\n",
       "      <td>1.0</td>\n",
       "      <td>0.0</td>\n",
       "      <td>1.0</td>\n",
       "      <td>1.0</td>\n",
       "      <td>4.0</td>\n",
       "      <td>4.0</td>\n",
       "      <td>NaN</td>\n",
       "      <td>1.0</td>\n",
       "      <td>1.0</td>\n",
       "      <td>2.0</td>\n",
       "      <td>1.0</td>\n",
       "      <td>False</td>\n",
       "    </tr>\n",
       "  </tbody>\n",
       "</table>\n",
       "<p>24288 rows × 16 columns</p>\n",
       "</div>"
      ],
      "text/plain": [
       "        AGEP  SCHL  MAR  RELP  DIS  ESP  CIT  MIG  MIL  ANC  NATIVITY  DEAR  \\\n",
       "89      48.0  19.0  3.0  16.0  2.0  0.0  1.0  3.0  4.0  1.0       NaN   2.0   \n",
       "128     64.0  12.0  2.0   NaN  1.0  0.0  1.0  1.0  4.0  1.0       1.0   1.0   \n",
       "135     45.0  12.0  5.0   NaN  2.0  0.0  1.0  1.0  4.0  4.0       NaN   2.0   \n",
       "212     25.0  19.0  5.0  16.0  2.0  0.0  1.0  3.0  4.0  1.0       NaN   NaN   \n",
       "230     92.0   NaN  1.0  16.0  1.0  0.0  1.0  1.0  3.0  1.0       1.0   NaN   \n",
       "...      ...   ...  ...   ...  ...  ...  ...  ...  ...  ...       ...   ...   \n",
       "746268  59.0  19.0  1.0   0.0  2.0  0.0  1.0  1.0  4.0  1.0       NaN   2.0   \n",
       "746277  12.0   9.0  5.0   2.0  2.0  2.0  1.0  1.0  0.0  2.0       NaN   NaN   \n",
       "746298  54.0   NaN  1.0   1.0  2.0  0.0  1.0  1.0  4.0  4.0       NaN   2.0   \n",
       "746323  63.0  16.0  1.0   1.0  2.0  0.0  NaN  1.0  4.0  1.0       NaN   2.0   \n",
       "746332  47.0   NaN  1.0   0.0  1.0  0.0  1.0  1.0  4.0  4.0       NaN   1.0   \n",
       "\n",
       "        DEYE  DREM  SEX    ESR  \n",
       "89       NaN   2.0  2.0  False  \n",
       "128      NaN   2.0  1.0  False  \n",
       "135      2.0   2.0  1.0  False  \n",
       "212      2.0   2.0  1.0  False  \n",
       "230      2.0   2.0  1.0  False  \n",
       "...      ...   ...  ...    ...  \n",
       "746268   NaN   2.0  2.0   True  \n",
       "746277   2.0   2.0  2.0  False  \n",
       "746298   2.0   2.0  1.0   True  \n",
       "746323   2.0   2.0  2.0   True  \n",
       "746332   1.0   2.0  1.0  False  \n",
       "\n",
       "[24288 rows x 16 columns]"
      ]
     },
     "execution_count": 158,
     "metadata": {},
     "output_type": "execute_result"
    }
   ],
   "source": [
    "data[data.isnull().sum(axis=1)>1]"
   ]
  },
  {
   "cell_type": "markdown",
   "id": "54a1cbed1eb8ab94",
   "metadata": {},
   "source": [
    "Replace Boolean target variable with O and 1\n"
   ]
  },
  {
   "cell_type": "code",
   "execution_count": 159,
   "id": "d1c58966affbb5fc",
   "metadata": {
    "ExecuteTime": {
     "end_time": "2024-05-14T15:05:08.781597Z",
     "start_time": "2024-05-14T15:05:08.524463Z"
    }
   },
   "outputs": [
    {
     "data": {
      "text/html": [
       "<div>\n",
       "<style scoped>\n",
       "    .dataframe tbody tr th:only-of-type {\n",
       "        vertical-align: middle;\n",
       "    }\n",
       "\n",
       "    .dataframe tbody tr th {\n",
       "        vertical-align: top;\n",
       "    }\n",
       "\n",
       "    .dataframe thead th {\n",
       "        text-align: right;\n",
       "    }\n",
       "</style>\n",
       "<table border=\"1\" class=\"dataframe\">\n",
       "  <thead>\n",
       "    <tr style=\"text-align: right;\">\n",
       "      <th></th>\n",
       "      <th>AGEP</th>\n",
       "      <th>SCHL</th>\n",
       "      <th>MAR</th>\n",
       "      <th>RELP</th>\n",
       "      <th>DIS</th>\n",
       "      <th>ESP</th>\n",
       "      <th>CIT</th>\n",
       "      <th>MIG</th>\n",
       "      <th>MIL</th>\n",
       "      <th>ANC</th>\n",
       "      <th>NATIVITY</th>\n",
       "      <th>DEAR</th>\n",
       "      <th>DEYE</th>\n",
       "      <th>DREM</th>\n",
       "      <th>SEX</th>\n",
       "      <th>ESR</th>\n",
       "    </tr>\n",
       "  </thead>\n",
       "  <tbody>\n",
       "    <tr>\n",
       "      <td>0</td>\n",
       "      <td>21.0</td>\n",
       "      <td>16.0</td>\n",
       "      <td>5.0</td>\n",
       "      <td>17.0</td>\n",
       "      <td>2.0</td>\n",
       "      <td>1.0</td>\n",
       "      <td>0.0</td>\n",
       "      <td>0.0</td>\n",
       "      <td>4.0</td>\n",
       "      <td>0.0</td>\n",
       "      <td>0.0</td>\n",
       "      <td>2.0</td>\n",
       "      <td>2.0</td>\n",
       "      <td>2.0</td>\n",
       "      <td>2.0</td>\n",
       "      <td>0</td>\n",
       "    </tr>\n",
       "    <tr>\n",
       "      <td>1</td>\n",
       "      <td>19.0</td>\n",
       "      <td>16.0</td>\n",
       "      <td>5.0</td>\n",
       "      <td>17.0</td>\n",
       "      <td>2.0</td>\n",
       "      <td>1.0</td>\n",
       "      <td>0.0</td>\n",
       "      <td>0.0</td>\n",
       "      <td>4.0</td>\n",
       "      <td>0.0</td>\n",
       "      <td>0.0</td>\n",
       "      <td>2.0</td>\n",
       "      <td>2.0</td>\n",
       "      <td>2.0</td>\n",
       "      <td>2.0</td>\n",
       "      <td>1</td>\n",
       "    </tr>\n",
       "    <tr>\n",
       "      <td>2</td>\n",
       "      <td>24.0</td>\n",
       "      <td>12.0</td>\n",
       "      <td>5.0</td>\n",
       "      <td>16.0</td>\n",
       "      <td>0.0</td>\n",
       "      <td>1.0</td>\n",
       "      <td>0.0</td>\n",
       "      <td>0.0</td>\n",
       "      <td>4.0</td>\n",
       "      <td>0.0</td>\n",
       "      <td>0.0</td>\n",
       "      <td>2.0</td>\n",
       "      <td>2.0</td>\n",
       "      <td>0.0</td>\n",
       "      <td>0.0</td>\n",
       "      <td>1</td>\n",
       "    </tr>\n",
       "    <tr>\n",
       "      <td>3</td>\n",
       "      <td>20.0</td>\n",
       "      <td>16.0</td>\n",
       "      <td>5.0</td>\n",
       "      <td>17.0</td>\n",
       "      <td>2.0</td>\n",
       "      <td>1.0</td>\n",
       "      <td>0.0</td>\n",
       "      <td>0.0</td>\n",
       "      <td>3.0</td>\n",
       "      <td>0.0</td>\n",
       "      <td>0.0</td>\n",
       "      <td>2.0</td>\n",
       "      <td>NaN</td>\n",
       "      <td>2.0</td>\n",
       "      <td>2.0</td>\n",
       "      <td>0</td>\n",
       "    </tr>\n",
       "    <tr>\n",
       "      <td>4</td>\n",
       "      <td>31.0</td>\n",
       "      <td>17.0</td>\n",
       "      <td>5.0</td>\n",
       "      <td>17.0</td>\n",
       "      <td>2.0</td>\n",
       "      <td>1.0</td>\n",
       "      <td>0.0</td>\n",
       "      <td>3.0</td>\n",
       "      <td>4.0</td>\n",
       "      <td>4.0</td>\n",
       "      <td>0.0</td>\n",
       "      <td>2.0</td>\n",
       "      <td>2.0</td>\n",
       "      <td>2.0</td>\n",
       "      <td>0.0</td>\n",
       "      <td>0</td>\n",
       "    </tr>\n",
       "  </tbody>\n",
       "</table>\n",
       "</div>"
      ],
      "text/plain": [
       "   AGEP  SCHL  MAR  RELP  DIS  ESP  CIT  MIG  MIL  ANC  NATIVITY  DEAR  DEYE  \\\n",
       "0  21.0  16.0  5.0  17.0  2.0  1.0  0.0  0.0  4.0  0.0       0.0   2.0   2.0   \n",
       "1  19.0  16.0  5.0  17.0  2.0  1.0  0.0  0.0  4.0  0.0       0.0   2.0   2.0   \n",
       "2  24.0  12.0  5.0  16.0  0.0  1.0  0.0  0.0  4.0  0.0       0.0   2.0   2.0   \n",
       "3  20.0  16.0  5.0  17.0  2.0  1.0  0.0  0.0  3.0  0.0       0.0   2.0   NaN   \n",
       "4  31.0  17.0  5.0  17.0  2.0  1.0  0.0  3.0  4.0  4.0       0.0   2.0   2.0   \n",
       "\n",
       "   DREM  SEX  ESR  \n",
       "0   2.0  2.0    0  \n",
       "1   2.0  2.0    1  \n",
       "2   0.0  0.0    1  \n",
       "3   2.0  2.0    0  \n",
       "4   2.0  0.0    0  "
      ]
     },
     "execution_count": 159,
     "metadata": {},
     "output_type": "execute_result"
    }
   ],
   "source": [
    "data=data.replace({False:1, True:0})\n",
    "#data = data.infer_objects(copy=False)\n",
    "data.head()"
   ]
  },
  {
   "cell_type": "markdown",
   "id": "db8622fc307ab9bf",
   "metadata": {},
   "source": [
    "First data check"
   ]
  },
  {
   "cell_type": "code",
   "execution_count": 160,
   "id": "95c136a26fe0e094",
   "metadata": {
    "ExecuteTime": {
     "end_time": "2024-05-14T15:05:08.853245Z",
     "start_time": "2024-05-14T15:05:08.782604Z"
    }
   },
   "outputs": [
    {
     "name": "stdout",
     "output_type": "stream",
     "text": [
      "<class 'pandas.core.frame.DataFrame'>\n",
      "RangeIndex: 746336 entries, 0 to 746335\n",
      "Data columns (total 16 columns):\n",
      "AGEP        746336 non-null float64\n",
      "SCHL        709133 non-null float64\n",
      "MAR         746336 non-null float64\n",
      "RELP        709213 non-null float64\n",
      "DIS         746336 non-null float64\n",
      "ESP         746336 non-null float64\n",
      "CIT         709287 non-null float64\n",
      "MIG         746336 non-null float64\n",
      "MIL         746336 non-null float64\n",
      "ANC         746336 non-null float64\n",
      "NATIVITY    708813 non-null float64\n",
      "DEAR        708974 non-null float64\n",
      "DEYE        709267 non-null float64\n",
      "DREM        746336 non-null float64\n",
      "SEX         746336 non-null float64\n",
      "ESR         746336 non-null int64\n",
      "dtypes: float64(15), int64(1)\n",
      "memory usage: 91.1 MB\n"
     ]
    },
    {
     "data": {
      "text/plain": [
       "AGEP            0\n",
       "SCHL        37203\n",
       "MAR             0\n",
       "RELP        37123\n",
       "DIS             0\n",
       "ESP             0\n",
       "CIT         37049\n",
       "MIG             0\n",
       "MIL             0\n",
       "ANC             0\n",
       "NATIVITY    37523\n",
       "DEAR        37362\n",
       "DEYE        37069\n",
       "DREM            0\n",
       "SEX             0\n",
       "ESR             0\n",
       "dtype: int64"
      ]
     },
     "execution_count": 160,
     "metadata": {},
     "output_type": "execute_result"
    }
   ],
   "source": [
    "data.info()\n",
    "data.isnull().sum()"
   ]
  },
  {
   "cell_type": "code",
   "execution_count": 161,
   "id": "3f3d340b",
   "metadata": {},
   "outputs": [
    {
     "data": {
      "text/html": [
       "<div>\n",
       "<style scoped>\n",
       "    .dataframe tbody tr th:only-of-type {\n",
       "        vertical-align: middle;\n",
       "    }\n",
       "\n",
       "    .dataframe tbody tr th {\n",
       "        vertical-align: top;\n",
       "    }\n",
       "\n",
       "    .dataframe thead th {\n",
       "        text-align: right;\n",
       "    }\n",
       "</style>\n",
       "<table border=\"1\" class=\"dataframe\">\n",
       "  <thead>\n",
       "    <tr style=\"text-align: right;\">\n",
       "      <th></th>\n",
       "      <th>AGEP</th>\n",
       "      <th>SCHL</th>\n",
       "      <th>MAR</th>\n",
       "      <th>RELP</th>\n",
       "      <th>DIS</th>\n",
       "      <th>ESP</th>\n",
       "      <th>CIT</th>\n",
       "      <th>MIG</th>\n",
       "      <th>MIL</th>\n",
       "      <th>ANC</th>\n",
       "      <th>NATIVITY</th>\n",
       "      <th>DEAR</th>\n",
       "      <th>DEYE</th>\n",
       "      <th>DREM</th>\n",
       "      <th>SEX</th>\n",
       "      <th>ESR</th>\n",
       "    </tr>\n",
       "  </thead>\n",
       "  <tbody>\n",
       "    <tr>\n",
       "      <td>AGEP</td>\n",
       "      <td>1.000000</td>\n",
       "      <td>0.519828</td>\n",
       "      <td>-0.618938</td>\n",
       "      <td>-0.138617</td>\n",
       "      <td>-0.319927</td>\n",
       "      <td>-0.307659</td>\n",
       "      <td>0.140825</td>\n",
       "      <td>-0.136756</td>\n",
       "      <td>0.573312</td>\n",
       "      <td>-0.074983</td>\n",
       "      <td>0.159864</td>\n",
       "      <td>-0.240258</td>\n",
       "      <td>-0.127745</td>\n",
       "      <td>0.067845</td>\n",
       "      <td>0.045588</td>\n",
       "      <td>-0.108239</td>\n",
       "    </tr>\n",
       "    <tr>\n",
       "      <td>SCHL</td>\n",
       "      <td>0.519828</td>\n",
       "      <td>1.000000</td>\n",
       "      <td>-0.425191</td>\n",
       "      <td>-0.087216</td>\n",
       "      <td>-0.032215</td>\n",
       "      <td>-0.330339</td>\n",
       "      <td>0.012075</td>\n",
       "      <td>-0.003877</td>\n",
       "      <td>0.670909</td>\n",
       "      <td>-0.041250</td>\n",
       "      <td>0.022342</td>\n",
       "      <td>-0.035718</td>\n",
       "      <td>-0.001786</td>\n",
       "      <td>0.263862</td>\n",
       "      <td>0.020407</td>\n",
       "      <td>-0.430964</td>\n",
       "    </tr>\n",
       "    <tr>\n",
       "      <td>MAR</td>\n",
       "      <td>-0.618938</td>\n",
       "      <td>-0.425191</td>\n",
       "      <td>1.000000</td>\n",
       "      <td>0.352516</td>\n",
       "      <td>0.064485</td>\n",
       "      <td>0.237918</td>\n",
       "      <td>-0.200718</td>\n",
       "      <td>0.116903</td>\n",
       "      <td>-0.445436</td>\n",
       "      <td>0.068087</td>\n",
       "      <td>-0.212953</td>\n",
       "      <td>0.087642</td>\n",
       "      <td>0.024780</td>\n",
       "      <td>-0.147347</td>\n",
       "      <td>-0.026625</td>\n",
       "      <td>0.241680</td>\n",
       "    </tr>\n",
       "    <tr>\n",
       "      <td>RELP</td>\n",
       "      <td>-0.138617</td>\n",
       "      <td>-0.087216</td>\n",
       "      <td>0.352516</td>\n",
       "      <td>1.000000</td>\n",
       "      <td>-0.102497</td>\n",
       "      <td>0.033321</td>\n",
       "      <td>-0.015706</td>\n",
       "      <td>0.216493</td>\n",
       "      <td>-0.011845</td>\n",
       "      <td>0.034541</td>\n",
       "      <td>-0.024295</td>\n",
       "      <td>-0.013228</td>\n",
       "      <td>-0.048438</td>\n",
       "      <td>-0.152691</td>\n",
       "      <td>-0.056449</td>\n",
       "      <td>0.127330</td>\n",
       "    </tr>\n",
       "    <tr>\n",
       "      <td>DIS</td>\n",
       "      <td>-0.319927</td>\n",
       "      <td>-0.032215</td>\n",
       "      <td>0.064485</td>\n",
       "      <td>-0.102497</td>\n",
       "      <td>1.000000</td>\n",
       "      <td>0.051191</td>\n",
       "      <td>0.036782</td>\n",
       "      <td>0.008677</td>\n",
       "      <td>-0.089186</td>\n",
       "      <td>-0.004914</td>\n",
       "      <td>0.031085</td>\n",
       "      <td>0.512855</td>\n",
       "      <td>0.405873</td>\n",
       "      <td>0.502685</td>\n",
       "      <td>-0.004698</td>\n",
       "      <td>-0.209605</td>\n",
       "    </tr>\n",
       "    <tr>\n",
       "      <td>ESP</td>\n",
       "      <td>-0.307659</td>\n",
       "      <td>-0.330339</td>\n",
       "      <td>0.237918</td>\n",
       "      <td>0.033321</td>\n",
       "      <td>0.051191</td>\n",
       "      <td>1.000000</td>\n",
       "      <td>-0.086380</td>\n",
       "      <td>0.025520</td>\n",
       "      <td>-0.385567</td>\n",
       "      <td>0.008812</td>\n",
       "      <td>-0.090483</td>\n",
       "      <td>0.037732</td>\n",
       "      <td>0.020746</td>\n",
       "      <td>-0.086719</td>\n",
       "      <td>-0.008824</td>\n",
       "      <td>0.201083</td>\n",
       "    </tr>\n",
       "    <tr>\n",
       "      <td>CIT</td>\n",
       "      <td>0.140825</td>\n",
       "      <td>0.012075</td>\n",
       "      <td>-0.200718</td>\n",
       "      <td>-0.015706</td>\n",
       "      <td>0.036782</td>\n",
       "      <td>-0.086380</td>\n",
       "      <td>1.000000</td>\n",
       "      <td>-0.018380</td>\n",
       "      <td>0.214332</td>\n",
       "      <td>-0.186484</td>\n",
       "      <td>0.974995</td>\n",
       "      <td>0.024546</td>\n",
       "      <td>-0.000775</td>\n",
       "      <td>0.078797</td>\n",
       "      <td>0.012378</td>\n",
       "      <td>-0.109305</td>\n",
       "    </tr>\n",
       "    <tr>\n",
       "      <td>MIG</td>\n",
       "      <td>-0.136756</td>\n",
       "      <td>-0.003877</td>\n",
       "      <td>0.116903</td>\n",
       "      <td>0.216493</td>\n",
       "      <td>0.008677</td>\n",
       "      <td>0.025520</td>\n",
       "      <td>-0.018380</td>\n",
       "      <td>1.000000</td>\n",
       "      <td>-0.004596</td>\n",
       "      <td>0.037641</td>\n",
       "      <td>-0.025797</td>\n",
       "      <td>0.021254</td>\n",
       "      <td>-0.000214</td>\n",
       "      <td>-0.044172</td>\n",
       "      <td>-0.012748</td>\n",
       "      <td>0.001839</td>\n",
       "    </tr>\n",
       "    <tr>\n",
       "      <td>MIL</td>\n",
       "      <td>0.573312</td>\n",
       "      <td>0.670909</td>\n",
       "      <td>-0.445436</td>\n",
       "      <td>-0.011845</td>\n",
       "      <td>-0.089186</td>\n",
       "      <td>-0.385567</td>\n",
       "      <td>0.214332</td>\n",
       "      <td>-0.004596</td>\n",
       "      <td>1.000000</td>\n",
       "      <td>-0.073998</td>\n",
       "      <td>0.220854</td>\n",
       "      <td>-0.025494</td>\n",
       "      <td>-0.043128</td>\n",
       "      <td>0.162740</td>\n",
       "      <td>0.104421</td>\n",
       "      <td>-0.449375</td>\n",
       "    </tr>\n",
       "    <tr>\n",
       "      <td>ANC</td>\n",
       "      <td>-0.074983</td>\n",
       "      <td>-0.041250</td>\n",
       "      <td>0.068087</td>\n",
       "      <td>0.034541</td>\n",
       "      <td>-0.004914</td>\n",
       "      <td>0.008812</td>\n",
       "      <td>-0.186484</td>\n",
       "      <td>0.037641</td>\n",
       "      <td>-0.073998</td>\n",
       "      <td>1.000000</td>\n",
       "      <td>-0.193216</td>\n",
       "      <td>-0.000484</td>\n",
       "      <td>0.003356</td>\n",
       "      <td>-0.037335</td>\n",
       "      <td>0.005504</td>\n",
       "      <td>0.019626</td>\n",
       "    </tr>\n",
       "    <tr>\n",
       "      <td>NATIVITY</td>\n",
       "      <td>0.159864</td>\n",
       "      <td>0.022342</td>\n",
       "      <td>-0.212953</td>\n",
       "      <td>-0.024295</td>\n",
       "      <td>0.031085</td>\n",
       "      <td>-0.090483</td>\n",
       "      <td>0.974995</td>\n",
       "      <td>-0.025797</td>\n",
       "      <td>0.220854</td>\n",
       "      <td>-0.193216</td>\n",
       "      <td>1.000000</td>\n",
       "      <td>0.020730</td>\n",
       "      <td>-0.001856</td>\n",
       "      <td>0.077098</td>\n",
       "      <td>0.015864</td>\n",
       "      <td>-0.110149</td>\n",
       "    </tr>\n",
       "    <tr>\n",
       "      <td>DEAR</td>\n",
       "      <td>-0.240258</td>\n",
       "      <td>-0.035718</td>\n",
       "      <td>0.087642</td>\n",
       "      <td>-0.013228</td>\n",
       "      <td>0.512855</td>\n",
       "      <td>0.037732</td>\n",
       "      <td>0.024546</td>\n",
       "      <td>0.021254</td>\n",
       "      <td>-0.025494</td>\n",
       "      <td>-0.000484</td>\n",
       "      <td>0.020730</td>\n",
       "      <td>1.000000</td>\n",
       "      <td>0.231059</td>\n",
       "      <td>0.155883</td>\n",
       "      <td>0.034801</td>\n",
       "      <td>-0.098217</td>\n",
       "    </tr>\n",
       "    <tr>\n",
       "      <td>DEYE</td>\n",
       "      <td>-0.127745</td>\n",
       "      <td>-0.001786</td>\n",
       "      <td>0.024780</td>\n",
       "      <td>-0.048438</td>\n",
       "      <td>0.405873</td>\n",
       "      <td>0.020746</td>\n",
       "      <td>-0.000775</td>\n",
       "      <td>-0.000214</td>\n",
       "      <td>-0.043128</td>\n",
       "      <td>0.003356</td>\n",
       "      <td>-0.001856</td>\n",
       "      <td>0.231059</td>\n",
       "      <td>1.000000</td>\n",
       "      <td>0.177120</td>\n",
       "      <td>-0.009537</td>\n",
       "      <td>-0.072056</td>\n",
       "    </tr>\n",
       "    <tr>\n",
       "      <td>DREM</td>\n",
       "      <td>0.067845</td>\n",
       "      <td>0.263862</td>\n",
       "      <td>-0.147347</td>\n",
       "      <td>-0.152691</td>\n",
       "      <td>0.502685</td>\n",
       "      <td>-0.086719</td>\n",
       "      <td>0.078797</td>\n",
       "      <td>-0.044172</td>\n",
       "      <td>0.162740</td>\n",
       "      <td>-0.037335</td>\n",
       "      <td>0.077098</td>\n",
       "      <td>0.155883</td>\n",
       "      <td>0.177120</td>\n",
       "      <td>1.000000</td>\n",
       "      <td>0.008893</td>\n",
       "      <td>-0.237647</td>\n",
       "    </tr>\n",
       "    <tr>\n",
       "      <td>SEX</td>\n",
       "      <td>0.045588</td>\n",
       "      <td>0.020407</td>\n",
       "      <td>-0.026625</td>\n",
       "      <td>-0.056449</td>\n",
       "      <td>-0.004698</td>\n",
       "      <td>-0.008824</td>\n",
       "      <td>0.012378</td>\n",
       "      <td>-0.012748</td>\n",
       "      <td>0.104421</td>\n",
       "      <td>0.005504</td>\n",
       "      <td>0.015864</td>\n",
       "      <td>0.034801</td>\n",
       "      <td>-0.009537</td>\n",
       "      <td>0.008893</td>\n",
       "      <td>1.000000</td>\n",
       "      <td>0.070236</td>\n",
       "    </tr>\n",
       "    <tr>\n",
       "      <td>ESR</td>\n",
       "      <td>-0.108239</td>\n",
       "      <td>-0.430964</td>\n",
       "      <td>0.241680</td>\n",
       "      <td>0.127330</td>\n",
       "      <td>-0.209605</td>\n",
       "      <td>0.201083</td>\n",
       "      <td>-0.109305</td>\n",
       "      <td>0.001839</td>\n",
       "      <td>-0.449375</td>\n",
       "      <td>0.019626</td>\n",
       "      <td>-0.110149</td>\n",
       "      <td>-0.098217</td>\n",
       "      <td>-0.072056</td>\n",
       "      <td>-0.237647</td>\n",
       "      <td>0.070236</td>\n",
       "      <td>1.000000</td>\n",
       "    </tr>\n",
       "  </tbody>\n",
       "</table>\n",
       "</div>"
      ],
      "text/plain": [
       "              AGEP      SCHL       MAR      RELP       DIS       ESP  \\\n",
       "AGEP      1.000000  0.519828 -0.618938 -0.138617 -0.319927 -0.307659   \n",
       "SCHL      0.519828  1.000000 -0.425191 -0.087216 -0.032215 -0.330339   \n",
       "MAR      -0.618938 -0.425191  1.000000  0.352516  0.064485  0.237918   \n",
       "RELP     -0.138617 -0.087216  0.352516  1.000000 -0.102497  0.033321   \n",
       "DIS      -0.319927 -0.032215  0.064485 -0.102497  1.000000  0.051191   \n",
       "ESP      -0.307659 -0.330339  0.237918  0.033321  0.051191  1.000000   \n",
       "CIT       0.140825  0.012075 -0.200718 -0.015706  0.036782 -0.086380   \n",
       "MIG      -0.136756 -0.003877  0.116903  0.216493  0.008677  0.025520   \n",
       "MIL       0.573312  0.670909 -0.445436 -0.011845 -0.089186 -0.385567   \n",
       "ANC      -0.074983 -0.041250  0.068087  0.034541 -0.004914  0.008812   \n",
       "NATIVITY  0.159864  0.022342 -0.212953 -0.024295  0.031085 -0.090483   \n",
       "DEAR     -0.240258 -0.035718  0.087642 -0.013228  0.512855  0.037732   \n",
       "DEYE     -0.127745 -0.001786  0.024780 -0.048438  0.405873  0.020746   \n",
       "DREM      0.067845  0.263862 -0.147347 -0.152691  0.502685 -0.086719   \n",
       "SEX       0.045588  0.020407 -0.026625 -0.056449 -0.004698 -0.008824   \n",
       "ESR      -0.108239 -0.430964  0.241680  0.127330 -0.209605  0.201083   \n",
       "\n",
       "               CIT       MIG       MIL       ANC  NATIVITY      DEAR  \\\n",
       "AGEP      0.140825 -0.136756  0.573312 -0.074983  0.159864 -0.240258   \n",
       "SCHL      0.012075 -0.003877  0.670909 -0.041250  0.022342 -0.035718   \n",
       "MAR      -0.200718  0.116903 -0.445436  0.068087 -0.212953  0.087642   \n",
       "RELP     -0.015706  0.216493 -0.011845  0.034541 -0.024295 -0.013228   \n",
       "DIS       0.036782  0.008677 -0.089186 -0.004914  0.031085  0.512855   \n",
       "ESP      -0.086380  0.025520 -0.385567  0.008812 -0.090483  0.037732   \n",
       "CIT       1.000000 -0.018380  0.214332 -0.186484  0.974995  0.024546   \n",
       "MIG      -0.018380  1.000000 -0.004596  0.037641 -0.025797  0.021254   \n",
       "MIL       0.214332 -0.004596  1.000000 -0.073998  0.220854 -0.025494   \n",
       "ANC      -0.186484  0.037641 -0.073998  1.000000 -0.193216 -0.000484   \n",
       "NATIVITY  0.974995 -0.025797  0.220854 -0.193216  1.000000  0.020730   \n",
       "DEAR      0.024546  0.021254 -0.025494 -0.000484  0.020730  1.000000   \n",
       "DEYE     -0.000775 -0.000214 -0.043128  0.003356 -0.001856  0.231059   \n",
       "DREM      0.078797 -0.044172  0.162740 -0.037335  0.077098  0.155883   \n",
       "SEX       0.012378 -0.012748  0.104421  0.005504  0.015864  0.034801   \n",
       "ESR      -0.109305  0.001839 -0.449375  0.019626 -0.110149 -0.098217   \n",
       "\n",
       "              DEYE      DREM       SEX       ESR  \n",
       "AGEP     -0.127745  0.067845  0.045588 -0.108239  \n",
       "SCHL     -0.001786  0.263862  0.020407 -0.430964  \n",
       "MAR       0.024780 -0.147347 -0.026625  0.241680  \n",
       "RELP     -0.048438 -0.152691 -0.056449  0.127330  \n",
       "DIS       0.405873  0.502685 -0.004698 -0.209605  \n",
       "ESP       0.020746 -0.086719 -0.008824  0.201083  \n",
       "CIT      -0.000775  0.078797  0.012378 -0.109305  \n",
       "MIG      -0.000214 -0.044172 -0.012748  0.001839  \n",
       "MIL      -0.043128  0.162740  0.104421 -0.449375  \n",
       "ANC       0.003356 -0.037335  0.005504  0.019626  \n",
       "NATIVITY -0.001856  0.077098  0.015864 -0.110149  \n",
       "DEAR      0.231059  0.155883  0.034801 -0.098217  \n",
       "DEYE      1.000000  0.177120 -0.009537 -0.072056  \n",
       "DREM      0.177120  1.000000  0.008893 -0.237647  \n",
       "SEX      -0.009537  0.008893  1.000000  0.070236  \n",
       "ESR      -0.072056 -0.237647  0.070236  1.000000  "
      ]
     },
     "execution_count": 161,
     "metadata": {},
     "output_type": "execute_result"
    }
   ],
   "source": [
    "data.corr()"
   ]
  },
  {
   "cell_type": "code",
   "execution_count": 162,
   "id": "eb491cce",
   "metadata": {},
   "outputs": [
    {
     "data": {
      "text/html": [
       "<div>\n",
       "<style scoped>\n",
       "    .dataframe tbody tr th:only-of-type {\n",
       "        vertical-align: middle;\n",
       "    }\n",
       "\n",
       "    .dataframe tbody tr th {\n",
       "        vertical-align: top;\n",
       "    }\n",
       "\n",
       "    .dataframe thead th {\n",
       "        text-align: right;\n",
       "    }\n",
       "</style>\n",
       "<table border=\"1\" class=\"dataframe\">\n",
       "  <thead>\n",
       "    <tr style=\"text-align: right;\">\n",
       "      <th></th>\n",
       "      <th>AGEP</th>\n",
       "      <th>SCHL</th>\n",
       "      <th>MAR</th>\n",
       "      <th>RELP</th>\n",
       "      <th>DIS</th>\n",
       "      <th>ESP</th>\n",
       "      <th>CIT</th>\n",
       "      <th>MIG</th>\n",
       "      <th>MIL</th>\n",
       "      <th>ANC</th>\n",
       "      <th>NATIVITY</th>\n",
       "      <th>DEAR</th>\n",
       "      <th>DEYE</th>\n",
       "      <th>DREM</th>\n",
       "      <th>SEX</th>\n",
       "      <th>ESR</th>\n",
       "    </tr>\n",
       "  </thead>\n",
       "  <tbody>\n",
       "    <tr>\n",
       "      <td>count</td>\n",
       "      <td>746336.000000</td>\n",
       "      <td>709133.000000</td>\n",
       "      <td>746336.000000</td>\n",
       "      <td>709213.000000</td>\n",
       "      <td>746336.000000</td>\n",
       "      <td>746336.000000</td>\n",
       "      <td>709287.000000</td>\n",
       "      <td>746336.000000</td>\n",
       "      <td>746336.000000</td>\n",
       "      <td>746336.000000</td>\n",
       "      <td>708813.000000</td>\n",
       "      <td>708974.000000</td>\n",
       "      <td>709267.000000</td>\n",
       "      <td>746336.000000</td>\n",
       "      <td>746336.000000</td>\n",
       "      <td>746336.000000</td>\n",
       "    </tr>\n",
       "    <tr>\n",
       "      <td>mean</td>\n",
       "      <td>40.377495</td>\n",
       "      <td>15.419198</td>\n",
       "      <td>2.575731</td>\n",
       "      <td>2.857239</td>\n",
       "      <td>1.732080</td>\n",
       "      <td>1.333259</td>\n",
       "      <td>0.899883</td>\n",
       "      <td>0.398054</td>\n",
       "      <td>3.276376</td>\n",
       "      <td>1.169318</td>\n",
       "      <td>0.385269</td>\n",
       "      <td>1.921842</td>\n",
       "      <td>1.950261</td>\n",
       "      <td>1.844480</td>\n",
       "      <td>1.015813</td>\n",
       "      <td>0.546965</td>\n",
       "    </tr>\n",
       "    <tr>\n",
       "      <td>std</td>\n",
       "      <td>23.375880</td>\n",
       "      <td>6.398847</td>\n",
       "      <td>2.323348</td>\n",
       "      <td>4.242341</td>\n",
       "      <td>0.681219</td>\n",
       "      <td>1.461575</td>\n",
       "      <td>1.788278</td>\n",
       "      <td>1.001953</td>\n",
       "      <td>1.239827</td>\n",
       "      <td>1.529518</td>\n",
       "      <td>0.788738</td>\n",
       "      <td>0.387566</td>\n",
       "      <td>0.311454</td>\n",
       "      <td>0.484536</td>\n",
       "      <td>0.999876</td>\n",
       "      <td>0.497790</td>\n",
       "    </tr>\n",
       "    <tr>\n",
       "      <td>min</td>\n",
       "      <td>0.000000</td>\n",
       "      <td>0.000000</td>\n",
       "      <td>0.000000</td>\n",
       "      <td>0.000000</td>\n",
       "      <td>0.000000</td>\n",
       "      <td>0.000000</td>\n",
       "      <td>0.000000</td>\n",
       "      <td>0.000000</td>\n",
       "      <td>0.000000</td>\n",
       "      <td>0.000000</td>\n",
       "      <td>0.000000</td>\n",
       "      <td>0.000000</td>\n",
       "      <td>0.000000</td>\n",
       "      <td>0.000000</td>\n",
       "      <td>0.000000</td>\n",
       "      <td>0.000000</td>\n",
       "    </tr>\n",
       "    <tr>\n",
       "      <td>25%</td>\n",
       "      <td>20.000000</td>\n",
       "      <td>13.000000</td>\n",
       "      <td>0.000000</td>\n",
       "      <td>1.000000</td>\n",
       "      <td>2.000000</td>\n",
       "      <td>1.000000</td>\n",
       "      <td>0.000000</td>\n",
       "      <td>0.000000</td>\n",
       "      <td>2.000000</td>\n",
       "      <td>0.000000</td>\n",
       "      <td>0.000000</td>\n",
       "      <td>2.000000</td>\n",
       "      <td>2.000000</td>\n",
       "      <td>2.000000</td>\n",
       "      <td>0.000000</td>\n",
       "      <td>0.000000</td>\n",
       "    </tr>\n",
       "    <tr>\n",
       "      <td>50%</td>\n",
       "      <td>40.000000</td>\n",
       "      <td>17.000000</td>\n",
       "      <td>3.000000</td>\n",
       "      <td>1.000000</td>\n",
       "      <td>2.000000</td>\n",
       "      <td>1.000000</td>\n",
       "      <td>0.000000</td>\n",
       "      <td>0.000000</td>\n",
       "      <td>4.000000</td>\n",
       "      <td>0.000000</td>\n",
       "      <td>0.000000</td>\n",
       "      <td>2.000000</td>\n",
       "      <td>2.000000</td>\n",
       "      <td>2.000000</td>\n",
       "      <td>2.000000</td>\n",
       "      <td>1.000000</td>\n",
       "    </tr>\n",
       "    <tr>\n",
       "      <td>75%</td>\n",
       "      <td>59.000000</td>\n",
       "      <td>20.000000</td>\n",
       "      <td>5.000000</td>\n",
       "      <td>2.000000</td>\n",
       "      <td>2.000000</td>\n",
       "      <td>1.000000</td>\n",
       "      <td>0.000000</td>\n",
       "      <td>0.000000</td>\n",
       "      <td>4.000000</td>\n",
       "      <td>2.000000</td>\n",
       "      <td>0.000000</td>\n",
       "      <td>2.000000</td>\n",
       "      <td>2.000000</td>\n",
       "      <td>2.000000</td>\n",
       "      <td>2.000000</td>\n",
       "      <td>1.000000</td>\n",
       "    </tr>\n",
       "    <tr>\n",
       "      <td>max</td>\n",
       "      <td>94.000000</td>\n",
       "      <td>24.000000</td>\n",
       "      <td>5.000000</td>\n",
       "      <td>17.000000</td>\n",
       "      <td>2.000000</td>\n",
       "      <td>8.000000</td>\n",
       "      <td>5.000000</td>\n",
       "      <td>3.000000</td>\n",
       "      <td>4.000000</td>\n",
       "      <td>4.000000</td>\n",
       "      <td>2.000000</td>\n",
       "      <td>2.000000</td>\n",
       "      <td>2.000000</td>\n",
       "      <td>2.000000</td>\n",
       "      <td>2.000000</td>\n",
       "      <td>1.000000</td>\n",
       "    </tr>\n",
       "  </tbody>\n",
       "</table>\n",
       "</div>"
      ],
      "text/plain": [
       "                AGEP           SCHL            MAR           RELP  \\\n",
       "count  746336.000000  709133.000000  746336.000000  709213.000000   \n",
       "mean       40.377495      15.419198       2.575731       2.857239   \n",
       "std        23.375880       6.398847       2.323348       4.242341   \n",
       "min         0.000000       0.000000       0.000000       0.000000   \n",
       "25%        20.000000      13.000000       0.000000       1.000000   \n",
       "50%        40.000000      17.000000       3.000000       1.000000   \n",
       "75%        59.000000      20.000000       5.000000       2.000000   \n",
       "max        94.000000      24.000000       5.000000      17.000000   \n",
       "\n",
       "                 DIS            ESP            CIT            MIG  \\\n",
       "count  746336.000000  746336.000000  709287.000000  746336.000000   \n",
       "mean        1.732080       1.333259       0.899883       0.398054   \n",
       "std         0.681219       1.461575       1.788278       1.001953   \n",
       "min         0.000000       0.000000       0.000000       0.000000   \n",
       "25%         2.000000       1.000000       0.000000       0.000000   \n",
       "50%         2.000000       1.000000       0.000000       0.000000   \n",
       "75%         2.000000       1.000000       0.000000       0.000000   \n",
       "max         2.000000       8.000000       5.000000       3.000000   \n",
       "\n",
       "                 MIL            ANC       NATIVITY           DEAR  \\\n",
       "count  746336.000000  746336.000000  708813.000000  708974.000000   \n",
       "mean        3.276376       1.169318       0.385269       1.921842   \n",
       "std         1.239827       1.529518       0.788738       0.387566   \n",
       "min         0.000000       0.000000       0.000000       0.000000   \n",
       "25%         2.000000       0.000000       0.000000       2.000000   \n",
       "50%         4.000000       0.000000       0.000000       2.000000   \n",
       "75%         4.000000       2.000000       0.000000       2.000000   \n",
       "max         4.000000       4.000000       2.000000       2.000000   \n",
       "\n",
       "                DEYE           DREM            SEX            ESR  \n",
       "count  709267.000000  746336.000000  746336.000000  746336.000000  \n",
       "mean        1.950261       1.844480       1.015813       0.546965  \n",
       "std         0.311454       0.484536       0.999876       0.497790  \n",
       "min         0.000000       0.000000       0.000000       0.000000  \n",
       "25%         2.000000       2.000000       0.000000       0.000000  \n",
       "50%         2.000000       2.000000       2.000000       1.000000  \n",
       "75%         2.000000       2.000000       2.000000       1.000000  \n",
       "max         2.000000       2.000000       2.000000       1.000000  "
      ]
     },
     "execution_count": 162,
     "metadata": {},
     "output_type": "execute_result"
    }
   ],
   "source": [
    "data.describe()"
   ]
  },
  {
   "cell_type": "code",
   "execution_count": 163,
   "id": "4d032297ff367d4b",
   "metadata": {
    "ExecuteTime": {
     "end_time": "2024-05-14T15:05:09.104652Z",
     "start_time": "2024-05-14T15:05:08.854251Z"
    }
   },
   "outputs": [],
   "source": [
    "#data['SCHL'].hist()"
   ]
  },
  {
   "cell_type": "code",
   "execution_count": 164,
   "id": "e71a2bd02b67e6f7",
   "metadata": {
    "ExecuteTime": {
     "end_time": "2024-05-14T15:05:09.447275Z",
     "start_time": "2024-05-14T15:05:09.105665Z"
    }
   },
   "outputs": [],
   "source": [
    "#data['MAR'].hist()"
   ]
  },
  {
   "cell_type": "code",
   "execution_count": 165,
   "id": "373294b20e5f6b5b",
   "metadata": {
    "ExecuteTime": {
     "end_time": "2024-05-14T15:05:09.723942Z",
     "start_time": "2024-05-14T15:05:09.448282Z"
    }
   },
   "outputs": [],
   "source": [
    "#data['RELP'].hist(bins=18)\n",
    "#data[data['RELP']==7].mean()"
   ]
  },
  {
   "cell_type": "code",
   "execution_count": 166,
   "id": "b3eb087c459547f9",
   "metadata": {
    "ExecuteTime": {
     "end_time": "2024-05-14T15:05:09.928718Z",
     "start_time": "2024-05-14T15:05:09.724947Z"
    }
   },
   "outputs": [],
   "source": [
    "#data['DIS'].hist()"
   ]
  },
  {
   "cell_type": "code",
   "execution_count": 167,
   "id": "2f2f3ae0e0ec5c0a",
   "metadata": {
    "ExecuteTime": {
     "end_time": "2024-05-14T15:05:10.150172Z",
     "start_time": "2024-05-14T15:05:09.929725Z"
    }
   },
   "outputs": [],
   "source": [
    "#data['ESP'].hist()"
   ]
  },
  {
   "cell_type": "code",
   "execution_count": 168,
   "id": "aab92fab67317f7d",
   "metadata": {
    "ExecuteTime": {
     "end_time": "2024-05-14T15:05:10.393939Z",
     "start_time": "2024-05-14T15:05:10.152178Z"
    }
   },
   "outputs": [],
   "source": [
    "#data['CIT'].hist()"
   ]
  },
  {
   "cell_type": "code",
   "execution_count": 169,
   "id": "a2b9b8b6483a7a0d",
   "metadata": {
    "ExecuteTime": {
     "end_time": "2024-05-14T15:05:10.628914Z",
     "start_time": "2024-05-14T15:05:10.394945Z"
    }
   },
   "outputs": [],
   "source": [
    "#data['MIG'].hist()"
   ]
  },
  {
   "cell_type": "code",
   "execution_count": 170,
   "id": "6183246054fcf673",
   "metadata": {
    "ExecuteTime": {
     "end_time": "2024-05-14T15:05:10.998362Z",
     "start_time": "2024-05-14T15:05:10.629919Z"
    }
   },
   "outputs": [],
   "source": [
    "#data['MIL'].hist()"
   ]
  },
  {
   "cell_type": "code",
   "execution_count": 171,
   "id": "4a815b462a6b3648",
   "metadata": {
    "ExecuteTime": {
     "end_time": "2024-05-14T15:05:11.330317Z",
     "start_time": "2024-05-14T15:05:10.999373Z"
    }
   },
   "outputs": [],
   "source": [
    "#data['ANC'].hist()"
   ]
  },
  {
   "cell_type": "code",
   "execution_count": 172,
   "id": "6639608628f66df6",
   "metadata": {
    "ExecuteTime": {
     "end_time": "2024-05-14T15:05:11.623141Z",
     "start_time": "2024-05-14T15:05:11.332326Z"
    }
   },
   "outputs": [],
   "source": [
    "#data['NATIVITY'].hist()"
   ]
  },
  {
   "cell_type": "code",
   "execution_count": 173,
   "id": "6ee7b65e2417bb92",
   "metadata": {
    "ExecuteTime": {
     "end_time": "2024-05-14T15:05:11.858210Z",
     "start_time": "2024-05-14T15:05:11.624146Z"
    }
   },
   "outputs": [],
   "source": [
    " #data['DEAR'].hist()"
   ]
  },
  {
   "cell_type": "code",
   "execution_count": 174,
   "id": "f224f1ddbcbd9c96",
   "metadata": {
    "ExecuteTime": {
     "end_time": "2024-05-14T15:05:12.071199Z",
     "start_time": "2024-05-14T15:05:11.859221Z"
    }
   },
   "outputs": [],
   "source": [
    "#data['DEYE'].hist()"
   ]
  },
  {
   "cell_type": "code",
   "execution_count": 175,
   "id": "530973aa3823bc17",
   "metadata": {
    "ExecuteTime": {
     "end_time": "2024-05-14T15:05:12.311254Z",
     "start_time": "2024-05-14T15:05:12.072206Z"
    }
   },
   "outputs": [],
   "source": [
    "#data['DREM'].hist()"
   ]
  },
  {
   "cell_type": "code",
   "execution_count": 176,
   "id": "a34e84f19c8d4765",
   "metadata": {
    "ExecuteTime": {
     "end_time": "2024-05-14T15:05:12.532695Z",
     "start_time": "2024-05-14T15:05:12.312259Z"
    }
   },
   "outputs": [],
   "source": [
    "#data['SEX'].hist()"
   ]
  },
  {
   "cell_type": "code",
   "execution_count": 177,
   "id": "374eee89059b6d53",
   "metadata": {
    "ExecuteTime": {
     "end_time": "2024-05-14T15:05:12.777029Z",
     "start_time": "2024-05-14T15:05:12.533704Z"
    }
   },
   "outputs": [],
   "source": [
    "#data['ESR'].hist()"
   ]
  },
  {
   "cell_type": "code",
   "execution_count": 178,
   "id": "77fef287f90ea527",
   "metadata": {
    "ExecuteTime": {
     "end_time": "2024-05-14T15:05:13.587391Z",
     "start_time": "2024-05-14T15:05:12.778034Z"
    }
   },
   "outputs": [],
   "source": [
    "#data.corr()"
   ]
  },
  {
   "cell_type": "markdown",
   "id": "ff43accb44addea8",
   "metadata": {},
   "source": [
    "substituted NaN values of DEYE and DEAR with mode"
   ]
  },
  {
   "cell_type": "code",
   "execution_count": 179,
   "id": "7ee0e40354bb20b8",
   "metadata": {
    "ExecuteTime": {
     "end_time": "2024-05-14T15:05:13.632964Z",
     "start_time": "2024-05-14T15:05:13.588403Z"
    }
   },
   "outputs": [
    {
     "data": {
      "text/plain": [
       "AGEP            0\n",
       "SCHL        37203\n",
       "MAR             0\n",
       "RELP        37123\n",
       "DIS             0\n",
       "ESP             0\n",
       "CIT         37049\n",
       "MIG             0\n",
       "MIL             0\n",
       "ANC             0\n",
       "NATIVITY    37523\n",
       "DEAR            0\n",
       "DEYE            0\n",
       "DREM            0\n",
       "SEX             0\n",
       "ESR             0\n",
       "dtype: int64"
      ]
     },
     "execution_count": 179,
     "metadata": {},
     "output_type": "execute_result"
    }
   ],
   "source": [
    "data['DEYE']=data['DEYE'].fillna(2)\n",
    "data['DEAR']=data['DEAR'].fillna(2)\n",
    "data.isna().sum()"
   ]
  },
  {
   "cell_type": "markdown",
   "id": "147786f3e23c4a5f",
   "metadata": {},
   "source": [
    "dropping every row in which both CIT and NATIVITY are NaNs"
   ]
  },
  {
   "cell_type": "code",
   "execution_count": 180,
   "id": "414226e89df0f437",
   "metadata": {
    "ExecuteTime": {
     "end_time": "2024-05-14T15:05:13.713781Z",
     "start_time": "2024-05-14T15:05:13.633970Z"
    }
   },
   "outputs": [],
   "source": [
    "cond = data['CIT'].isna() & data['NATIVITY'].isna()\n",
    "data = data.loc[~cond]"
   ]
  },
  {
   "cell_type": "code",
   "execution_count": 181,
   "id": "84ed7bcceb707642",
   "metadata": {
    "ExecuteTime": {
     "end_time": "2024-05-14T15:05:13.971321Z",
     "start_time": "2024-05-14T15:05:13.714794Z"
    }
   },
   "outputs": [
    {
     "data": {
      "text/plain": [
       "<matplotlib.axes._subplots.AxesSubplot at 0x2390fa57fc8>"
      ]
     },
     "execution_count": 181,
     "metadata": {},
     "output_type": "execute_result"
    },
    {
     "data": {
      "image/png": "[encoded data removed]",
      "text/plain": [
       "<Figure size 640x480 with 1 Axes>"
      ]
     },
     "metadata": {},
     "output_type": "display_data"
    }
   ],
   "source": [
    "data['NATIVITY'] = data['NATIVITY'] - 1\n",
    "data['NATIVITY'].hist()"
   ]
  },
  {
   "cell_type": "code",
   "execution_count": 182,
   "id": "de4ae3e7506beee3",
   "metadata": {
    "ExecuteTime": {
     "end_time": "2024-05-14T15:05:27.315529Z",
     "start_time": "2024-05-14T15:05:13.972326Z"
    }
   },
   "outputs": [],
   "source": [
    "#pd.plotting.scatter_matrix(data[['CIT','NATIVITY']])"
   ]
  },
  {
   "cell_type": "markdown",
   "id": "504d4dcfd94be16e",
   "metadata": {},
   "source": [
    "reconstruction of NAT from CIT"
   ]
  },
  {
   "cell_type": "code",
   "execution_count": 183,
   "id": "993af1c9c50da206",
   "metadata": {
    "ExecuteTime": {
     "end_time": "2024-05-14T15:05:27.330171Z",
     "start_time": "2024-05-14T15:05:27.316540Z"
    }
   },
   "outputs": [],
   "source": [
    "data.loc[(data['NATIVITY'].isnull()) & (data['CIT']<4), 'NATIVITY'] = 0\n",
    "data.loc[(data['NATIVITY'].isnull()) & (data['CIT']>3), 'NATIVITY'] = 1"
   ]
  },
  {
   "cell_type": "markdown",
   "id": "1dd7175e5c6fe8d9",
   "metadata": {},
   "source": [
    "checking whether we did everything correctly"
   ]
  },
  {
   "cell_type": "code",
   "execution_count": 184,
   "id": "9095479c4eb2b005",
   "metadata": {
    "ExecuteTime": {
     "end_time": "2024-05-14T15:05:39.118892Z",
     "start_time": "2024-05-14T15:05:27.331176Z"
    }
   },
   "outputs": [],
   "source": [
    "#pd.plotting.scatter_matrix(data[['CIT','NATIVITY']])"
   ]
  },
  {
   "cell_type": "markdown",
   "id": "e5022653",
   "metadata": {},
   "source": [
    "Fill CIT from correlation with NATIVITY "
   ]
  },
  {
   "cell_type": "code",
   "execution_count": 185,
   "id": "578497502b0c5dd",
   "metadata": {
    "ExecuteTime": {
     "end_time": "2024-05-14T15:05:39.124826Z",
     "start_time": "2024-05-14T15:05:39.120902Z"
    }
   },
   "outputs": [
    {
     "data": {
      "text/plain": [
       "AGEP            0\n",
       "SCHL        37103\n",
       "MAR             0\n",
       "RELP        37036\n",
       "DIS             0\n",
       "ESP             0\n",
       "CIT         28505\n",
       "MIG             0\n",
       "MIL             0\n",
       "ANC             0\n",
       "NATIVITY        0\n",
       "DEAR            0\n",
       "DEYE            0\n",
       "DREM            0\n",
       "SEX             0\n",
       "ESR             0\n",
       "dtype: int64"
      ]
     },
     "execution_count": 185,
     "metadata": {},
     "output_type": "execute_result"
    }
   ],
   "source": [
    "data.loc[(data['CIT'].isnull()) & (data['NATIVITY']==0), 'CIT'] = 1\n",
    "data.loc[(data['CIT'].isnull()) & (data['NATIVITY']==1), 'CIT'] = np.random.randint(4,5)\n",
    "data.isna().sum()"
   ]
  },
  {
   "cell_type": "code",
   "execution_count": 186,
   "id": "8cdf9a79",
   "metadata": {},
   "outputs": [
    {
     "data": {
      "text/plain": [
       "AGEP            0\n",
       "SCHL        37103\n",
       "MAR             0\n",
       "DIS             0\n",
       "ESP             0\n",
       "CIT         28505\n",
       "MIG             0\n",
       "MIL             0\n",
       "ANC             0\n",
       "NATIVITY        0\n",
       "DEAR            0\n",
       "DEYE            0\n",
       "DREM            0\n",
       "SEX             0\n",
       "ESR             0\n",
       "dtype: int64"
      ]
     },
     "execution_count": 186,
     "metadata": {},
     "output_type": "execute_result"
    }
   ],
   "source": [
    "data=data.drop('RELP', axis=1)\n",
    "data.isna().sum()"
   ]
  },
  {
   "cell_type": "markdown",
   "id": "60085bb9",
   "metadata": {},
   "source": [
    "Fill missing school by correlation with AGE"
   ]
  },
  {
   "cell_type": "code",
   "execution_count": 187,
   "id": "d26951e5",
   "metadata": {},
   "outputs": [],
   "source": [
    "#pd.plotting.scatter_matrix(data[['SCHL','AGEP']])"
   ]
  },
  {
   "cell_type": "code",
   "execution_count": 188,
   "id": "e3288c4f",
   "metadata": {},
   "outputs": [
    {
     "data": {
      "text/plain": [
       "AGEP            0\n",
       "SCHL            0\n",
       "MAR             0\n",
       "DIS             0\n",
       "ESP             0\n",
       "CIT         28505\n",
       "MIG             0\n",
       "MIL             0\n",
       "ANC             0\n",
       "NATIVITY        0\n",
       "DEAR            0\n",
       "DEYE            0\n",
       "DREM            0\n",
       "SEX             0\n",
       "ESR             0\n",
       "dtype: int64"
      ]
     },
     "execution_count": 188,
     "metadata": {},
     "output_type": "execute_result"
    }
   ],
   "source": [
    "data['SCHL_mode']=data.groupby('AGEP')['SCHL'].transform(lambda x: x.mode().iloc[0])\n",
    "data['SCHL']=data['SCHL'].fillna(data['SCHL_mode'])\n",
    "data.drop('SCHL_mode', axis=1, inplace=True)\n",
    "data.isna().sum()"
   ]
  },
  {
   "cell_type": "markdown",
   "id": "b6a99170",
   "metadata": {},
   "source": [
    "Checking everything is okay"
   ]
  },
  {
   "cell_type": "code",
   "execution_count": 189,
   "id": "673b93be",
   "metadata": {},
   "outputs": [],
   "source": [
    "#pd.plotting.scatter_matrix(data[['SCHL','AGEP']])"
   ]
  },
  {
   "cell_type": "markdown",
   "id": "fb6dda8f",
   "metadata": {},
   "source": [
    "### 2) CLUSTERING"
   ]
  },
  {
   "cell_type": "code",
   "execution_count": 190,
   "id": "f32d1150",
   "metadata": {},
   "outputs": [],
   "source": [
    "data_target = data['ESR']\n",
    "data.drop('ESR', axis=1, inplace=True)"
   ]
  },
  {
   "cell_type": "markdown",
   "id": "76dae806",
   "metadata": {},
   "source": [
    "Normalization"
   ]
  },
  {
   "cell_type": "code",
   "execution_count": 191,
   "id": "42c095c2",
   "metadata": {},
   "outputs": [
    {
     "data": {
      "text/plain": [
       "StandardScaler(copy=True, with_mean=True, with_std=True)"
      ]
     },
     "execution_count": 191,
     "metadata": {},
     "output_type": "execute_result"
    }
   ],
   "source": [
    "from sklearn.preprocessing import StandardScaler, MinMaxScaler\n",
    "scaler = StandardScaler()\n",
    "scaler.fit(data.values)"
   ]
  },
  {
   "cell_type": "code",
   "execution_count": 192,
   "id": "fb6a11e5",
   "metadata": {},
   "outputs": [],
   "source": [
    "data_scaled=scaler.transform(data.values)"
   ]
  },
  {
   "cell_type": "markdown",
   "id": "72946fc3",
   "metadata": {},
   "source": [
    "#### K-means"
   ]
  },
  {
   "cell_type": "code",
   "execution_count": 193,
   "id": "141dcf5e",
   "metadata": {},
   "outputs": [],
   "source": [
    "from sklearn.cluster import KMeans"
   ]
  },
  {
   "cell_type": "code",
   "execution_count": 196,
   "id": "902d180b",
   "metadata": {},
   "outputs": [
    {
     "ename": "ValueError",
     "evalue": "Input contains NaN, infinity or a value too large for dtype('float64').",
     "output_type": "error",
     "traceback": [
      "\u001b[1;31m---------------------------------------------------------------------------\u001b[0m",
      "\u001b[1;31mValueError\u001b[0m                                Traceback (most recent call last)",
      "\u001b[1;32m~\\AppData\\Local\\Temp\\ipykernel_51232\\74257927.py\u001b[0m in \u001b[0;36m<module>\u001b[1;34m\u001b[0m\n\u001b[0;32m      1\u001b[0m \u001b[0mkmeans\u001b[0m \u001b[1;33m=\u001b[0m \u001b[0mKMeans\u001b[0m\u001b[1;33m(\u001b[0m\u001b[0mn_clusters\u001b[0m\u001b[1;33m=\u001b[0m\u001b[1;36m2\u001b[0m\u001b[1;33m,\u001b[0m \u001b[0mn_init\u001b[0m\u001b[1;33m=\u001b[0m\u001b[1;36m50\u001b[0m\u001b[1;33m,\u001b[0m \u001b[0mmax_iter\u001b[0m\u001b[1;33m=\u001b[0m\u001b[1;36m300\u001b[0m\u001b[1;33m)\u001b[0m\u001b[1;33m\u001b[0m\u001b[1;33m\u001b[0m\u001b[0m\n\u001b[1;32m----> 2\u001b[1;33m \u001b[0mkmeans\u001b[0m\u001b[1;33m.\u001b[0m\u001b[0mfit\u001b[0m\u001b[1;33m(\u001b[0m\u001b[0mdata_scaled\u001b[0m\u001b[1;33m)\u001b[0m\u001b[1;33m\u001b[0m\u001b[1;33m\u001b[0m\u001b[0m\n\u001b[0m",
      "\u001b[1;32mc:\\ProgramData\\Anaconda3\\lib\\site-packages\\sklearn\\cluster\\k_means_.py\u001b[0m in \u001b[0;36mfit\u001b[1;34m(self, X, y, sample_weight)\u001b[0m\n\u001b[0;32m    970\u001b[0m                 \u001b[0mtol\u001b[0m\u001b[1;33m=\u001b[0m\u001b[0mself\u001b[0m\u001b[1;33m.\u001b[0m\u001b[0mtol\u001b[0m\u001b[1;33m,\u001b[0m \u001b[0mrandom_state\u001b[0m\u001b[1;33m=\u001b[0m\u001b[0mrandom_state\u001b[0m\u001b[1;33m,\u001b[0m \u001b[0mcopy_x\u001b[0m\u001b[1;33m=\u001b[0m\u001b[0mself\u001b[0m\u001b[1;33m.\u001b[0m\u001b[0mcopy_x\u001b[0m\u001b[1;33m,\u001b[0m\u001b[1;33m\u001b[0m\u001b[1;33m\u001b[0m\u001b[0m\n\u001b[0;32m    971\u001b[0m                 \u001b[0mn_jobs\u001b[0m\u001b[1;33m=\u001b[0m\u001b[0mself\u001b[0m\u001b[1;33m.\u001b[0m\u001b[0mn_jobs\u001b[0m\u001b[1;33m,\u001b[0m \u001b[0malgorithm\u001b[0m\u001b[1;33m=\u001b[0m\u001b[0mself\u001b[0m\u001b[1;33m.\u001b[0m\u001b[0malgorithm\u001b[0m\u001b[1;33m,\u001b[0m\u001b[1;33m\u001b[0m\u001b[1;33m\u001b[0m\u001b[0m\n\u001b[1;32m--> 972\u001b[1;33m                 return_n_iter=True)\n\u001b[0m\u001b[0;32m    973\u001b[0m         \u001b[1;32mreturn\u001b[0m \u001b[0mself\u001b[0m\u001b[1;33m\u001b[0m\u001b[1;33m\u001b[0m\u001b[0m\n\u001b[0;32m    974\u001b[0m \u001b[1;33m\u001b[0m\u001b[0m\n",
      "\u001b[1;32mc:\\ProgramData\\Anaconda3\\lib\\site-packages\\sklearn\\cluster\\k_means_.py\u001b[0m in \u001b[0;36mk_means\u001b[1;34m(X, n_clusters, sample_weight, init, precompute_distances, n_init, max_iter, verbose, tol, random_state, copy_x, n_jobs, algorithm, return_n_iter)\u001b[0m\n\u001b[0;32m    310\u001b[0m     \u001b[0morder\u001b[0m \u001b[1;33m=\u001b[0m \u001b[1;34m\"C\"\u001b[0m \u001b[1;32mif\u001b[0m \u001b[0mcopy_x\u001b[0m \u001b[1;32melse\u001b[0m \u001b[1;32mNone\u001b[0m\u001b[1;33m\u001b[0m\u001b[1;33m\u001b[0m\u001b[0m\n\u001b[0;32m    311\u001b[0m     X = check_array(X, accept_sparse='csr', dtype=[np.float64, np.float32],\n\u001b[1;32m--> 312\u001b[1;33m                     order=order, copy=copy_x)\n\u001b[0m\u001b[0;32m    313\u001b[0m     \u001b[1;31m# verify that the number of samples given is larger than k\u001b[0m\u001b[1;33m\u001b[0m\u001b[1;33m\u001b[0m\u001b[1;33m\u001b[0m\u001b[0m\n\u001b[0;32m    314\u001b[0m     \u001b[1;32mif\u001b[0m \u001b[0m_num_samples\u001b[0m\u001b[1;33m(\u001b[0m\u001b[0mX\u001b[0m\u001b[1;33m)\u001b[0m \u001b[1;33m<\u001b[0m \u001b[0mn_clusters\u001b[0m\u001b[1;33m:\u001b[0m\u001b[1;33m\u001b[0m\u001b[1;33m\u001b[0m\u001b[0m\n",
      "\u001b[1;32mc:\\ProgramData\\Anaconda3\\lib\\site-packages\\sklearn\\utils\\validation.py\u001b[0m in \u001b[0;36mcheck_array\u001b[1;34m(array, accept_sparse, accept_large_sparse, dtype, order, copy, force_all_finite, ensure_2d, allow_nd, ensure_min_samples, ensure_min_features, warn_on_dtype, estimator)\u001b[0m\n\u001b[0;32m    540\u001b[0m         \u001b[1;32mif\u001b[0m \u001b[0mforce_all_finite\u001b[0m\u001b[1;33m:\u001b[0m\u001b[1;33m\u001b[0m\u001b[1;33m\u001b[0m\u001b[0m\n\u001b[0;32m    541\u001b[0m             _assert_all_finite(array,\n\u001b[1;32m--> 542\u001b[1;33m                                allow_nan=force_all_finite == 'allow-nan')\n\u001b[0m\u001b[0;32m    543\u001b[0m \u001b[1;33m\u001b[0m\u001b[0m\n\u001b[0;32m    544\u001b[0m     \u001b[1;32mif\u001b[0m \u001b[0mensure_min_samples\u001b[0m \u001b[1;33m>\u001b[0m \u001b[1;36m0\u001b[0m\u001b[1;33m:\u001b[0m\u001b[1;33m\u001b[0m\u001b[1;33m\u001b[0m\u001b[0m\n",
      "\u001b[1;32mc:\\ProgramData\\Anaconda3\\lib\\site-packages\\sklearn\\utils\\validation.py\u001b[0m in \u001b[0;36m_assert_all_finite\u001b[1;34m(X, allow_nan)\u001b[0m\n\u001b[0;32m     54\u001b[0m                 not allow_nan and not np.isfinite(X).all()):\n\u001b[0;32m     55\u001b[0m             \u001b[0mtype_err\u001b[0m \u001b[1;33m=\u001b[0m \u001b[1;34m'infinity'\u001b[0m \u001b[1;32mif\u001b[0m \u001b[0mallow_nan\u001b[0m \u001b[1;32melse\u001b[0m \u001b[1;34m'NaN, infinity'\u001b[0m\u001b[1;33m\u001b[0m\u001b[1;33m\u001b[0m\u001b[0m\n\u001b[1;32m---> 56\u001b[1;33m             \u001b[1;32mraise\u001b[0m \u001b[0mValueError\u001b[0m\u001b[1;33m(\u001b[0m\u001b[0mmsg_err\u001b[0m\u001b[1;33m.\u001b[0m\u001b[0mformat\u001b[0m\u001b[1;33m(\u001b[0m\u001b[0mtype_err\u001b[0m\u001b[1;33m,\u001b[0m \u001b[0mX\u001b[0m\u001b[1;33m.\u001b[0m\u001b[0mdtype\u001b[0m\u001b[1;33m)\u001b[0m\u001b[1;33m)\u001b[0m\u001b[1;33m\u001b[0m\u001b[1;33m\u001b[0m\u001b[0m\n\u001b[0m\u001b[0;32m     57\u001b[0m     \u001b[1;31m# for object dtype data, we only check for NaNs (GH-13254)\u001b[0m\u001b[1;33m\u001b[0m\u001b[1;33m\u001b[0m\u001b[1;33m\u001b[0m\u001b[0m\n\u001b[0;32m     58\u001b[0m     \u001b[1;32melif\u001b[0m \u001b[0mX\u001b[0m\u001b[1;33m.\u001b[0m\u001b[0mdtype\u001b[0m \u001b[1;33m==\u001b[0m \u001b[0mnp\u001b[0m\u001b[1;33m.\u001b[0m\u001b[0mdtype\u001b[0m\u001b[1;33m(\u001b[0m\u001b[1;34m'object'\u001b[0m\u001b[1;33m)\u001b[0m \u001b[1;32mand\u001b[0m \u001b[1;32mnot\u001b[0m \u001b[0mallow_nan\u001b[0m\u001b[1;33m:\u001b[0m\u001b[1;33m\u001b[0m\u001b[1;33m\u001b[0m\u001b[0m\n",
      "\u001b[1;31mValueError\u001b[0m: Input contains NaN, infinity or a value too large for dtype('float64')."
     ]
    }
   ],
   "source": [
    "kmeans = KMeans(n_clusters=2, n_init=50, max_iter=300)\n",
    "kmeans.fit(data_scaled)"
   ]
  },
  {
   "cell_type": "code",
   "execution_count": null,
   "id": "c34b7828",
   "metadata": {},
   "outputs": [
    {
     "data": {
      "text/plain": [
       "(array([0, 1]), array([151279, 593195], dtype=int64))"
      ]
     },
     "execution_count": 149,
     "metadata": {},
     "output_type": "execute_result"
    }
   ],
   "source": [
    "np.unique(kmeans.labels_, return_counts=True)"
   ]
  },
  {
   "cell_type": "code",
   "execution_count": null,
   "id": "0243bf9e",
   "metadata": {},
   "outputs": [
    {
     "data": {
      "text/plain": [
       "337267"
      ]
     },
     "execution_count": 150,
     "metadata": {},
     "output_type": "execute_result"
    }
   ],
   "source": [
    "data_target.sum()"
   ]
  },
  {
   "cell_type": "markdown",
   "id": "18c27e0f",
   "metadata": {},
   "source": [
    "Visualization"
   ]
  },
  {
   "cell_type": "markdown",
   "id": "6fb6319d",
   "metadata": {},
   "source": [
    "Parallel coordinates"
   ]
  },
  {
   "cell_type": "code",
   "execution_count": null,
   "id": "84801c24",
   "metadata": {},
   "outputs": [
    {
     "data": {
      "image/png": "[encoded data removed]",
      "text/plain": [
       "<Figure size 800x400 with 1 Axes>"
      ]
     },
     "metadata": {},
     "output_type": "display_data"
    }
   ],
   "source": [
    "centers = kmeans.cluster_centers_\n",
    "\n",
    "plt.figure(figsize=(8, 4))\n",
    "for i in range(0, len(centers)):\n",
    "    plt.plot(centers[i], marker='o', label='Cluster %s' % i)\n",
    "plt.tick_params(axis='both', which='major', labelsize=22)\n",
    "plt.xticks(range(0, len(data.columns)), data.columns, fontsize=8)\n",
    "plt.legend(fontsize=20)\n",
    "plt.show()\n"
   ]
  },
  {
   "cell_type": "markdown",
   "id": "1f218979",
   "metadata": {},
   "source": [
    "Labels clustering"
   ]
  },
  {
   "cell_type": "code",
   "execution_count": null,
   "id": "4335ca8d",
   "metadata": {},
   "outputs": [
    {
     "data": {
      "image/png": "[encoded data removed]",
      "text/plain": [
       "<Figure size 640x480 with 1 Axes>"
      ]
     },
     "metadata": {},
     "output_type": "display_data"
    }
   ],
   "source": [
    "plt.scatter(data['AGEP'], data['MIL'], \n",
    "           c=kmeans.labels_, s=20)\n",
    "plt.tick_params(axis='both', which='major', labelsize=22)\n",
    "plt.xlabel('AGEP')\n",
    "plt.ylabel('MIL')\n",
    "plt.show()"
   ]
  },
  {
   "cell_type": "markdown",
   "id": "28a89af3",
   "metadata": {},
   "source": [
    "Labels target"
   ]
  },
  {
   "cell_type": "code",
   "execution_count": null,
   "id": "465199de",
   "metadata": {},
   "outputs": [
    {
     "data": {
      "image/png": "[encoded data removed]",
      "text/plain": [
       "<Figure size 640x480 with 1 Axes>"
      ]
     },
     "metadata": {},
     "output_type": "display_data"
    }
   ],
   "source": [
    "plt.scatter(data['AGEP'], data['MIL'], \n",
    "           c=data_target, s=20)\n",
    "plt.tick_params(axis='both', which='major', labelsize=22)\n",
    "plt.xlabel('AGEP')\n",
    "plt.ylabel('MIL')\n",
    "plt.show()"
   ]
  },
  {
   "cell_type": "code",
   "execution_count": null,
   "id": "fcf49b1f",
   "metadata": {},
   "outputs": [
    {
     "name": "stderr",
     "output_type": "stream",
     "text": [
      "c:\\ProgramData\\Anaconda3\\lib\\site-packages\\ipykernel_launcher.py:12: MatplotlibDeprecationWarning: Adding an axes using the same arguments as a previous axes currently reuses the earlier instance.  In a future version, a new instance will always be created and returned.  Meanwhile, this warning can be suppressed, and the future behavior ensured, by passing a unique label to each axes instance.\n",
      "  if sys.path[0] == \"\":\n"
     ]
    },
    {
     "data": {
      "image/png": "[encoded data removed]",
      "text/plain": [
       "<Figure size 640x480 with 1 Axes>"
      ]
     },
     "metadata": {},
     "output_type": "display_data"
    }
   ],
   "source": [
    "from math import pi\n",
    " \n",
    "# number of variable\n",
    "N = len(data.columns)\n",
    "# What will be the angle of each axis in the plot? (we divide the plot / number of variable)\n",
    "for i in range(0, len(centers)):\n",
    "    angles = [n / float(N) * 2 * pi for n in range(N)]\n",
    "    values = centers[i].tolist()\n",
    "    values += values[:1]\n",
    "    angles += angles[:1]\n",
    "    # Initialise the spider plot\n",
    "    ax = plt.subplot(polar=True)\n",
    "# Draw one axe per variable + add labels labels yet\n",
    "    plt.xticks(angles[:-1], data.columns, color='grey', size=8) \n",
    "# Plot data\n",
    "    ax.plot(angles, values, linewidth=1, linestyle='solid')\n",
    " # Fill area\n",
    "    ax.fill(angles, values, 'b', alpha=0.1)\n"
   ]
  }
 ],
 "metadata": {
  "kernelspec": {
   "display_name": "Python 3.7.4 ('base')",
   "language": "python",
   "name": "python3"
  },
  "language_info": {
   "codemirror_mode": {
    "name": "ipython",
    "version": 3
   },
   "file_extension": ".py",
   "mimetype": "text/x-python",
   "name": "python",
   "nbconvert_exporter": "python",
   "pygments_lexer": "ipython3",
   "version": "3.7.4"
  },
  "vscode": {
   "interpreter": {
    "hash": "ad2bdc8ecc057115af97d19610ffacc2b4e99fae6737bb82f5d7fb13d2f2c186"
   }
  }
 },
 "nbformat": 4,
 "nbformat_minor": 5
}
