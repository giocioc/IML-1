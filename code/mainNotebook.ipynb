{
 "cells": [
  {
   "cell_type": "markdown",
   "id": "ae636fbbc79a8b12",
   "metadata": {},
   "source": [
    "# Introduzione al Machine Learning 2023-2024\n",
    "### Bernardini Jacopo, Ciocca Giorgio, Marini Tommaso\n",
    "### Exam Project, First Part: Data Exploration, Clustering  and Classification"
   ]
  },
  {
   "cell_type": "markdown",
   "id": "ce310d7c",
   "metadata": {},
   "source": [
    "## 1. Data Exploration\n",
    "\n",
    "We will be examining a dataset that comprises 16 distinct attributes. In order to provide a comprehensive understanding of these attributes, we will list them, accompanied by their respective definitions as provided in the PUMS Data Dictionary.\n",
    "\n",
    "- ### ``AGEP``: Age. \n",
    "\n",
    "> 0 $\\to$ Under 1 year. \n",
    "\n",
    "> 1..99 $\\to$ 1 to 99 years (Top-coded).\n",
    "\n",
    "- ### ``SCHL``: Educational attainment.\n",
    "\n",
    "> bb $\\to$ N/A (less than 3 years old).\n",
    "\n",
    "> 01 $\\to$ No schooling completed.\n",
    "\n",
    "> 02 $\\to$ Nursery school, preschool.\n",
    "\n",
    "> 03 $\\to$ Kindergarten.\n",
    "\n",
    "> 04 $\\to$ Grade 1.\n",
    "\n",
    "> 05 $\\to$ Grade 2.\n",
    "\n",
    "> 06 $\\to$ Grade 3.\n",
    "\n",
    "> 07 $\\to$ Grade 4.\n",
    "\n",
    "> 08 $\\to$ Grade 5.\n",
    "\n",
    "> 09 $\\to$ Grade 6.\n",
    "\n",
    "> 10 $\\to$ Grade 7.\n",
    "\n",
    "> 11 $\\to$ Grade 8.\n",
    "\n",
    "> 12 $\\to$ Grade 9.\n",
    "\n",
    "> 13 $\\to$ Grade 10.\n",
    "\n",
    "> 14 $\\to$ Grade 11.\n",
    "\n",
    "> 15 $\\to$ 12th grade - no diploma.\n",
    "\n",
    "> 16 $\\to$ Regular high school diploma.\n",
    "\n",
    "> 17 $\\to$ GED or alternative credential.\n",
    "\n",
    "> 18 $\\to$ Some college, but less than 1 year.\n",
    "\n",
    "> 19 $\\to$ 1 or more years of college credit, no degree.\n",
    "\n",
    "> 20 $\\to$ Associate's degree.\n",
    "\n",
    "> 21 $\\to$ Bachelor's degree.\n",
    "\n",
    "> 22 $\\to$ Master's degree.\n",
    "\n",
    "> 23 $\\to$ Professional degree beyond a bachelor's degree.\n",
    "\n",
    "> 24 $\\to$ Doctorate degree.\n",
    "\n",
    "- ### ``MAR``: Marital status.\n",
    "\n",
    "> 1 $\\to$ Married.\n",
    " \n",
    "> 2 $\\to$ Widowed.\n",
    "\n",
    "> 3 $\\to$ Divorced.\n",
    " \n",
    "> 4 $\\to$ Separated.\n",
    " \n",
    "> 5 $\\to$ Never married or under 15 years old.\n",
    "\n",
    "- ### ``RELP``: Relationship.\n",
    "\n",
    "> 00 $\\to$ Reference person.\n",
    "\n",
    "> 01 $\\to$ Husband/wife.\n",
    "\n",
    "> 02 $\\to$ Biological son or daughter.\n",
    "\n",
    "> 03 $\\to$ Adopted son or daughter.\n",
    " \n",
    "> 04 $\\to$ Stepson or stepdaughter.\n",
    "\n",
    "> 05 $\\to$ Brother or sister.\n",
    "\n",
    "> 06 $\\to$ Father or mother.\n",
    "\n",
    "> 07 $\\to$ Grandchild.\n",
    "\n",
    "> 08 $\\to$ Parent-in-law.\n",
    "\n",
    "> 09 $\\to$ Son-in-law or daughter-in-law.\n",
    "\n",
    "> 10 $\\to$ Other relative.\n",
    "\n",
    "> 11 $\\to$ Roomer or boarder.\n",
    "\n",
    "> 12 $\\to$ Housemate or roommate.\n",
    "\n",
    "> 13 $\\to$ Unmarried partner.\n",
    "\n",
    "> 14 $\\to$ Foster child.\n",
    "\n",
    "> 15 $\\to$ Other nonrelative.\n",
    "\n",
    "> 16 $\\to$ Institutionalized group quarters population.\n",
    "\n",
    "> 17 $\\to$ Noninstitutionalized group quarters population.   \n",
    " \n",
    "- ### ``DIS``: Disability recode.\n",
    " \n",
    "> 1 $\\to$ With a disability.\n",
    "\n",
    "> 2 $\\to$ Without a disability.\n",
    "\n",
    "- ### ``ESP``: Employment status of parents.\n",
    "\n",
    "> b $\\to$ N/A (not own child of householder, and not child in subfamily)\n",
    "\n",
    "> Living with two parents:\n",
    "\n",
    "> > 1 $\\to$ Both parents in labor force.\n",
    "\n",
    "> > 2 $\\to$ Father only in labor force.\n",
    "\n",
    "> > 3 $\\to$ Mother only in labor force.\n",
    "\n",
    "> > 4 $\\to$ Neither parent in labor force.\n",
    " \n",
    "> Living with one parent: \n",
    "\n",
    "> > Living with father:\n",
    "\n",
    "> > > 5 $\\to$ Father in the labor force.\n",
    "\n",
    "> > > 6 $\\to$ Father not in labor force \n",
    "\n",
    "> > Living with mother:\n",
    " \n",
    "> > > 7 $\\to$ Mother in the labor force.\n",
    "\n",
    "> > > 8 $\\to$ Mother not in labor force. \n",
    "\n",
    "- ### ``CIT``: Citizenship status.\n",
    "\n",
    "> 1 $\\to$ Born in the U.S..\n",
    "\n",
    "> 2 $\\to$ Born in Puerto Rico, Guam, the U.S. Virgin Islands, or the .Northern Marianas. \n",
    "\n",
    "> 3 $\\to$ Born abroad of American parent(s).\n",
    "\n",
    "> 4 $\\to$ U.S. citizen by naturalization.\n",
    "\n",
    "> 5 $\\to$ Not a citizen of the U.S..\n",
    "\n",
    "- ### ``MIG``: Mobility status (lived here 1 year ago).\n",
    " \n",
    "> b $\\to$ N/A (less than 1 year old).\n",
    "\n",
    "> 1 $\\to$ Yes, same house (nonmovers).\n",
    "\n",
    "> 2 $\\to$ No, outside US and Puerto Rico.\n",
    "\n",
    "> 3 $\\to$ No, different house in US or Puerto Rico.\n",
    "\n",
    "- ### ``MIL``: Military service.\n",
    "\n",
    "> b $\\to$ N/A (less than 17 years old).\n",
    " \n",
    "> 1 $\\to$ Now on active duty.\n",
    "\n",
    "> 2 $\\to$ On active duty in the past, but not now.\n",
    " \n",
    "> 3 $\\to$ Only on active duty for training in Reserves/National Guard.\n",
    "\n",
    "> 4 $\\to$ Never served in the military.\n",
    "\n",
    "- ### ``ANC``: Ancestry recode.\n",
    "\n",
    "> 1 $\\to$ Single.\n",
    "\n",
    "> 2 $\\to$ Multiple.\n",
    "\n",
    "> 3 $\\to$ Unclassified.\n",
    "\n",
    "> 4 $\\to$ Not reported.\n",
    "\n",
    "> 8 $\\to$ Suppressed for data year 2018 for select PUMAs.\n",
    "\n",
    "- ### ``NATIVITY``: Nativity.\n",
    "\n",
    "> 1 $\\to$ Native.\n",
    "\n",
    "> 2 $\\to$ Foreign born.\n",
    "\n",
    "- ### ``DEAR``: Hearing difficulty.\n",
    "\n",
    "> 1 $\\to$ Yes.\n",
    "\n",
    "> 2 $\\to$ No.\n",
    "\n",
    "- ### ``DEYE``: Vision difficulty.\n",
    "\n",
    "> 1 $\\to$ Yes.\n",
    "\n",
    "> 2 $\\to$ No.\n",
    "\n",
    "- ### ``DREM``: Cognitive difficulty.\n",
    "\n",
    "> b $\\to$ N/A (Less than 5 years old).\n",
    "\n",
    "> 1 $\\to$ Yes.\n",
    "\n",
    "> 2 $\\to$ No.\n",
    "\n",
    "- ### ``SEX``: Sex.\n",
    "\n",
    "> 1 $\\to$ Male.\n",
    "\n",
    "> 2 $\\to$ Female.\n",
    "\n",
    "- ### ``ESR`: Employment status recode.\n",
    "\n",
    "> b $\\to$ N/A (less than 16 years old).\n",
    "\n",
    "> 1 $\\to$ Civilian employed, at work.\n",
    "\n",
    "> 2 $\\to$ Civilian employed, with a job but not at work.\n",
    "\n",
    "> 3 $\\to$ Unemployed.\n",
    "\n",
    "> 4 $\\to$ Armed forces, at work.\n",
    "\n",
    "> 5 $\\to$ Armed forces, with a job but not at work.\n",
    "\n",
    "> 6 $\\to$ Not in labor force."
   ]
  },
  {
   "cell_type": "markdown",
   "id": "43c847192814d75a",
   "metadata": {},
   "source": "At the beginning of the code, we import the necessary libraries."
  },
  {
   "cell_type": "code",
   "id": "6707c599167ce45a",
   "metadata": {
    "ExecuteTime": {
     "end_time": "2024-05-31T12:09:37.135969Z",
     "start_time": "2024-05-31T12:09:37.128703Z"
    }
   },
   "source": [
    "import numpy as np\n",
    "import pandas as pd\n",
    "import pylab as plt\n",
    "from sklearn import metrics\n",
    "from sklearn.impute import KNNImputer"
   ],
   "outputs": [],
   "execution_count": 23
  },
  {
   "cell_type": "markdown",
   "id": "8dccef71ffb70e2b",
   "metadata": {},
   "source": "We load the dataset."
  },
  {
   "cell_type": "code",
   "id": "ee60770bbf92f958",
   "metadata": {
    "ExecuteTime": {
     "end_time": "2024-05-31T12:09:39.206596Z",
     "start_time": "2024-05-31T12:09:37.885243Z"
    }
   },
   "source": [
    "filename = r'data\\pums.csv'\n",
    "data = pd.read_csv(filename)\n",
    "data.head()"
   ],
   "outputs": [
    {
     "data": {
      "text/plain": [
       "   AGEP  SCHL  MAR  RELP  DIS  ESP  CIT  MIG  MIL  ANC NATIVITY DEAR DEYE  \\\n",
       "0  21.0  16.0  5.0  17.0  2.0  0.0  1.0  1.0  4.0  1.0      1.0  2.0  2.0   \n",
       "1  19.0  16.0  5.0  17.0  2.0  0.0  1.0  1.0  4.0  1.0      1.0  2.0  2.0   \n",
       "2  24.0  12.0  5.0  16.0  1.0  0.0  1.0  1.0  4.0  1.0      1.0  2.0  2.0   \n",
       "3  20.0  16.0  5.0  17.0  2.0  0.0  1.0  1.0  3.0  1.0      1.0  2.0  NaN   \n",
       "4  31.0  17.0  5.0  17.0  2.0  0.0  1.0  3.0  4.0  4.0      1.0  2.0  2.0   \n",
       "\n",
       "   DREM  SEX    ESR  \n",
       "0   2.0  2.0   True  \n",
       "1   2.0  2.0  False  \n",
       "2   1.0  1.0  False  \n",
       "3   2.0  2.0   True  \n",
       "4   2.0  1.0   True  "
      ],
      "text/html": [
       "<div>\n",
       "<style scoped>\n",
       "    .dataframe tbody tr th:only-of-type {\n",
       "        vertical-align: middle;\n",
       "    }\n",
       "\n",
       "    .dataframe tbody tr th {\n",
       "        vertical-align: top;\n",
       "    }\n",
       "\n",
       "    .dataframe thead th {\n",
       "        text-align: right;\n",
       "    }\n",
       "</style>\n",
       "<table border=\"1\" class=\"dataframe\">\n",
       "  <thead>\n",
       "    <tr style=\"text-align: right;\">\n",
       "      <th></th>\n",
       "      <th>AGEP</th>\n",
       "      <th>SCHL</th>\n",
       "      <th>MAR</th>\n",
       "      <th>RELP</th>\n",
       "      <th>DIS</th>\n",
       "      <th>ESP</th>\n",
       "      <th>CIT</th>\n",
       "      <th>MIG</th>\n",
       "      <th>MIL</th>\n",
       "      <th>ANC</th>\n",
       "      <th>NATIVITY</th>\n",
       "      <th>DEAR</th>\n",
       "      <th>DEYE</th>\n",
       "      <th>DREM</th>\n",
       "      <th>SEX</th>\n",
       "      <th>ESR</th>\n",
       "    </tr>\n",
       "  </thead>\n",
       "  <tbody>\n",
       "    <tr>\n",
       "      <th>0</th>\n",
       "      <td>21.0</td>\n",
       "      <td>16.0</td>\n",
       "      <td>5.0</td>\n",
       "      <td>17.0</td>\n",
       "      <td>2.0</td>\n",
       "      <td>0.0</td>\n",
       "      <td>1.0</td>\n",
       "      <td>1.0</td>\n",
       "      <td>4.0</td>\n",
       "      <td>1.0</td>\n",
       "      <td>1.0</td>\n",
       "      <td>2.0</td>\n",
       "      <td>2.0</td>\n",
       "      <td>2.0</td>\n",
       "      <td>2.0</td>\n",
       "      <td>True</td>\n",
       "    </tr>\n",
       "    <tr>\n",
       "      <th>1</th>\n",
       "      <td>19.0</td>\n",
       "      <td>16.0</td>\n",
       "      <td>5.0</td>\n",
       "      <td>17.0</td>\n",
       "      <td>2.0</td>\n",
       "      <td>0.0</td>\n",
       "      <td>1.0</td>\n",
       "      <td>1.0</td>\n",
       "      <td>4.0</td>\n",
       "      <td>1.0</td>\n",
       "      <td>1.0</td>\n",
       "      <td>2.0</td>\n",
       "      <td>2.0</td>\n",
       "      <td>2.0</td>\n",
       "      <td>2.0</td>\n",
       "      <td>False</td>\n",
       "    </tr>\n",
       "    <tr>\n",
       "      <th>2</th>\n",
       "      <td>24.0</td>\n",
       "      <td>12.0</td>\n",
       "      <td>5.0</td>\n",
       "      <td>16.0</td>\n",
       "      <td>1.0</td>\n",
       "      <td>0.0</td>\n",
       "      <td>1.0</td>\n",
       "      <td>1.0</td>\n",
       "      <td>4.0</td>\n",
       "      <td>1.0</td>\n",
       "      <td>1.0</td>\n",
       "      <td>2.0</td>\n",
       "      <td>2.0</td>\n",
       "      <td>1.0</td>\n",
       "      <td>1.0</td>\n",
       "      <td>False</td>\n",
       "    </tr>\n",
       "    <tr>\n",
       "      <th>3</th>\n",
       "      <td>20.0</td>\n",
       "      <td>16.0</td>\n",
       "      <td>5.0</td>\n",
       "      <td>17.0</td>\n",
       "      <td>2.0</td>\n",
       "      <td>0.0</td>\n",
       "      <td>1.0</td>\n",
       "      <td>1.0</td>\n",
       "      <td>3.0</td>\n",
       "      <td>1.0</td>\n",
       "      <td>1.0</td>\n",
       "      <td>2.0</td>\n",
       "      <td>NaN</td>\n",
       "      <td>2.0</td>\n",
       "      <td>2.0</td>\n",
       "      <td>True</td>\n",
       "    </tr>\n",
       "    <tr>\n",
       "      <th>4</th>\n",
       "      <td>31.0</td>\n",
       "      <td>17.0</td>\n",
       "      <td>5.0</td>\n",
       "      <td>17.0</td>\n",
       "      <td>2.0</td>\n",
       "      <td>0.0</td>\n",
       "      <td>1.0</td>\n",
       "      <td>3.0</td>\n",
       "      <td>4.0</td>\n",
       "      <td>4.0</td>\n",
       "      <td>1.0</td>\n",
       "      <td>2.0</td>\n",
       "      <td>2.0</td>\n",
       "      <td>2.0</td>\n",
       "      <td>1.0</td>\n",
       "      <td>True</td>\n",
       "    </tr>\n",
       "  </tbody>\n",
       "</table>\n",
       "</div>"
      ]
     },
     "execution_count": 24,
     "metadata": {},
     "output_type": "execute_result"
    }
   ],
   "execution_count": 24
  },
  {
   "metadata": {},
   "cell_type": "markdown",
   "source": "We check for missing values and the type of each feature.",
   "id": "840d9abae8f53744"
  },
  {
   "metadata": {
    "ExecuteTime": {
     "end_time": "2024-05-31T12:09:39.407001Z",
     "start_time": "2024-05-31T12:09:39.208605Z"
    }
   },
   "cell_type": "code",
   "source": "data.info()",
   "id": "622aac498c665f3f",
   "outputs": [
    {
     "name": "stdout",
     "output_type": "stream",
     "text": [
      "<class 'pandas.core.frame.DataFrame'>\n",
      "RangeIndex: 746336 entries, 0 to 746335\n",
      "Data columns (total 16 columns):\n",
      " #   Column    Non-Null Count   Dtype  \n",
      "---  ------    --------------   -----  \n",
      " 0   AGEP      746336 non-null  float64\n",
      " 1   SCHL      727454 non-null  object \n",
      " 2   MAR       746336 non-null  float64\n",
      " 3   RELP      727972 non-null  object \n",
      " 4   DIS       746336 non-null  float64\n",
      " 5   ESP       746336 non-null  float64\n",
      " 6   CIT       727657 non-null  object \n",
      " 7   MIG       746336 non-null  float64\n",
      " 8   MIL       746336 non-null  float64\n",
      " 9   ANC       746336 non-null  float64\n",
      " 10  NATIVITY  727738 non-null  object \n",
      " 11  DEAR      727608 non-null  object \n",
      " 12  DEYE      727917 non-null  object \n",
      " 13  DREM      746336 non-null  float64\n",
      " 14  SEX       746336 non-null  float64\n",
      " 15  ESR       746336 non-null  bool   \n",
      "dtypes: bool(1), float64(9), object(6)\n",
      "memory usage: 86.1+ MB\n"
     ]
    }
   ],
   "execution_count": 25
  },
  {
   "metadata": {},
   "cell_type": "markdown",
   "source": [
    "We expected some types to present 'b' or 'bb' values, and to be consequently object-typed.  \n",
    " However, some of these are float64-typed. Furthermore, some features that should present only numeric values are object-typed, we investigate the reason for this."
   ],
   "id": "dcd9a7cafaf14c2e"
  },
  {
   "metadata": {
    "ExecuteTime": {
     "end_time": "2024-05-31T12:09:41.442489Z",
     "start_time": "2024-05-31T12:09:39.408009Z"
    }
   },
   "cell_type": "code",
   "source": [
    "mask = pd.concat([pd.to_numeric(data[feature], errors='coerce').isna() for feature in data.columns], axis=1)\n",
    "tmp = data[mask].dropna(how='all')\n",
    "print({i: tmp[i].value_counts() for i in tmp.columns})"
   ],
   "id": "6c3cb280cedb5692",
   "outputs": [
    {
     "name": "stdout",
     "output_type": "stream",
     "text": [
      "{'AGEP': Series([], Name: count, dtype: int64), 'SCHL': SCHL\n",
      "notknown    18321\n",
      "Name: count, dtype: int64, 'MAR': Series([], Name: count, dtype: int64), 'RELP': RELP\n",
      "notknown    18759\n",
      "Name: count, dtype: int64, 'DIS': Series([], Name: count, dtype: int64), 'ESP': Series([], Name: count, dtype: int64), 'CIT': CIT\n",
      "notknown    18370\n",
      "Name: count, dtype: int64, 'MIG': Series([], Name: count, dtype: int64), 'MIL': Series([], Name: count, dtype: int64), 'ANC': Series([], Name: count, dtype: int64), 'NATIVITY': NATIVITY\n",
      "notknown    18925\n",
      "Name: count, dtype: int64, 'DEAR': DEAR\n",
      "notknown    18634\n",
      "Name: count, dtype: int64, 'DEYE': DEYE\n",
      "notknown    18650\n",
      "Name: count, dtype: int64, 'DREM': Series([], Name: count, dtype: int64), 'SEX': Series([], Name: count, dtype: int64), 'ESR': Series([], Name: count, dtype: int64)}\n"
     ]
    }
   ],
   "execution_count": 26
  },
  {
   "metadata": {},
   "cell_type": "markdown",
   "source": "As it can be seen from the previous code, it turns out that the object type is due to the presence of 'notknown' values. We replace these values with NaN and recast the columns into float64.",
   "id": "f1ceb57beb24aaff"
  },
  {
   "metadata": {
    "ExecuteTime": {
     "end_time": "2024-05-31T12:09:43.505628Z",
     "start_time": "2024-05-31T12:09:41.443500Z"
    }
   },
   "cell_type": "code",
   "source": [
    "data = data.replace('notknown', np.nan)\n",
    "object_cols = data.select_dtypes(include=['object']).columns\n",
    "data[object_cols] = data[object_cols].astype('float64')\n",
    "data.info()"
   ],
   "id": "720a48ad7677e33",
   "outputs": [
    {
     "name": "stdout",
     "output_type": "stream",
     "text": [
      "<class 'pandas.core.frame.DataFrame'>\n",
      "RangeIndex: 746336 entries, 0 to 746335\n",
      "Data columns (total 16 columns):\n",
      " #   Column    Non-Null Count   Dtype  \n",
      "---  ------    --------------   -----  \n",
      " 0   AGEP      746336 non-null  float64\n",
      " 1   SCHL      709133 non-null  float64\n",
      " 2   MAR       746336 non-null  float64\n",
      " 3   RELP      709213 non-null  float64\n",
      " 4   DIS       746336 non-null  float64\n",
      " 5   ESP       746336 non-null  float64\n",
      " 6   CIT       709287 non-null  float64\n",
      " 7   MIG       746336 non-null  float64\n",
      " 8   MIL       746336 non-null  float64\n",
      " 9   ANC       746336 non-null  float64\n",
      " 10  NATIVITY  708813 non-null  float64\n",
      " 11  DEAR      708974 non-null  float64\n",
      " 12  DEYE      709267 non-null  float64\n",
      " 13  DREM      746336 non-null  float64\n",
      " 14  SEX       746336 non-null  float64\n",
      " 15  ESR       746336 non-null  bool   \n",
      "dtypes: bool(1), float64(15)\n",
      "memory usage: 86.1 MB\n"
     ]
    }
   ],
   "execution_count": 27
  },
  {
   "metadata": {
    "ExecuteTime": {
     "end_time": "2024-05-31T12:09:43.542897Z",
     "start_time": "2024-05-31T12:09:43.506639Z"
    }
   },
   "cell_type": "code",
   "source": "data.isnull().sum()",
   "id": "2223d31645f841f2",
   "outputs": [
    {
     "data": {
      "text/plain": [
       "AGEP            0\n",
       "SCHL        37203\n",
       "MAR             0\n",
       "RELP        37123\n",
       "DIS             0\n",
       "ESP             0\n",
       "CIT         37049\n",
       "MIG             0\n",
       "MIL             0\n",
       "ANC             0\n",
       "NATIVITY    37523\n",
       "DEAR        37362\n",
       "DEYE        37069\n",
       "DREM            0\n",
       "SEX             0\n",
       "ESR             0\n",
       "dtype: int64"
      ]
     },
     "execution_count": 28,
     "metadata": {},
     "output_type": "execute_result"
    }
   ],
   "execution_count": 28
  },
  {
   "metadata": {
    "ExecuteTime": {
     "end_time": "2024-05-31T12:09:44.474129Z",
     "start_time": "2024-05-31T12:09:43.544905Z"
    }
   },
   "cell_type": "code",
   "source": "data.describe()",
   "id": "fb18ffc0f3a54595",
   "outputs": [
    {
     "data": {
      "text/plain": [
       "                AGEP           SCHL            MAR           RELP  \\\n",
       "count  746336.000000  709133.000000  746336.000000  709213.000000   \n",
       "mean       40.378314      15.426601       2.995578       2.679022   \n",
       "std        23.374484       6.381558       1.865125       4.336577   \n",
       "min         0.000000       0.000000       1.000000       0.000000   \n",
       "25%        20.000000      13.000000       1.000000       0.000000   \n",
       "50%        40.000000      17.000000       3.000000       1.000000   \n",
       "75%        59.000000      20.000000       5.000000       2.000000   \n",
       "max        94.000000      24.000000       5.000000      17.000000   \n",
       "\n",
       "                 DIS            ESP            CIT            MIG  \\\n",
       "count  746336.000000  746336.000000  709287.000000  746336.000000   \n",
       "mean        1.866040       0.617611       1.693518       1.247413   \n",
       "std         0.340609       1.678300       1.390452       0.675038   \n",
       "min         1.000000       0.000000       1.000000       0.000000   \n",
       "25%         2.000000       0.000000       1.000000       1.000000   \n",
       "50%         2.000000       0.000000       1.000000       1.000000   \n",
       "75%         2.000000       0.000000       1.000000       1.000000   \n",
       "max         2.000000       8.000000       5.000000       3.000000   \n",
       "\n",
       "                 MIL            ANC       NATIVITY           DEAR  \\\n",
       "count  746336.000000  746336.000000  708813.000000  708974.000000   \n",
       "mean        3.080612       1.757976       1.192635       1.960921   \n",
       "std         1.608065       1.097682       0.394369       0.193783   \n",
       "min         0.000000       1.000000       1.000000       1.000000   \n",
       "25%         2.000000       1.000000       1.000000       2.000000   \n",
       "50%         4.000000       1.000000       1.000000       2.000000   \n",
       "75%         4.000000       2.000000       1.000000       2.000000   \n",
       "max         4.000000       4.000000       2.000000       2.000000   \n",
       "\n",
       "                DEYE           DREM            SEX  \n",
       "count  709267.000000  746336.000000  746336.000000  \n",
       "mean        1.975131       1.844122       1.507907  \n",
       "std         0.155727       0.485527       0.499938  \n",
       "min         1.000000       0.000000       1.000000  \n",
       "25%         2.000000       2.000000       1.000000  \n",
       "50%         2.000000       2.000000       2.000000  \n",
       "75%         2.000000       2.000000       2.000000  \n",
       "max         2.000000       2.000000       2.000000  "
      ],
      "text/html": [
       "<div>\n",
       "<style scoped>\n",
       "    .dataframe tbody tr th:only-of-type {\n",
       "        vertical-align: middle;\n",
       "    }\n",
       "\n",
       "    .dataframe tbody tr th {\n",
       "        vertical-align: top;\n",
       "    }\n",
       "\n",
       "    .dataframe thead th {\n",
       "        text-align: right;\n",
       "    }\n",
       "</style>\n",
       "<table border=\"1\" class=\"dataframe\">\n",
       "  <thead>\n",
       "    <tr style=\"text-align: right;\">\n",
       "      <th></th>\n",
       "      <th>AGEP</th>\n",
       "      <th>SCHL</th>\n",
       "      <th>MAR</th>\n",
       "      <th>RELP</th>\n",
       "      <th>DIS</th>\n",
       "      <th>ESP</th>\n",
       "      <th>CIT</th>\n",
       "      <th>MIG</th>\n",
       "      <th>MIL</th>\n",
       "      <th>ANC</th>\n",
       "      <th>NATIVITY</th>\n",
       "      <th>DEAR</th>\n",
       "      <th>DEYE</th>\n",
       "      <th>DREM</th>\n",
       "      <th>SEX</th>\n",
       "    </tr>\n",
       "  </thead>\n",
       "  <tbody>\n",
       "    <tr>\n",
       "      <th>count</th>\n",
       "      <td>746336.000000</td>\n",
       "      <td>709133.000000</td>\n",
       "      <td>746336.000000</td>\n",
       "      <td>709213.000000</td>\n",
       "      <td>746336.000000</td>\n",
       "      <td>746336.000000</td>\n",
       "      <td>709287.000000</td>\n",
       "      <td>746336.000000</td>\n",
       "      <td>746336.000000</td>\n",
       "      <td>746336.000000</td>\n",
       "      <td>708813.000000</td>\n",
       "      <td>708974.000000</td>\n",
       "      <td>709267.000000</td>\n",
       "      <td>746336.000000</td>\n",
       "      <td>746336.000000</td>\n",
       "    </tr>\n",
       "    <tr>\n",
       "      <th>mean</th>\n",
       "      <td>40.378314</td>\n",
       "      <td>15.426601</td>\n",
       "      <td>2.995578</td>\n",
       "      <td>2.679022</td>\n",
       "      <td>1.866040</td>\n",
       "      <td>0.617611</td>\n",
       "      <td>1.693518</td>\n",
       "      <td>1.247413</td>\n",
       "      <td>3.080612</td>\n",
       "      <td>1.757976</td>\n",
       "      <td>1.192635</td>\n",
       "      <td>1.960921</td>\n",
       "      <td>1.975131</td>\n",
       "      <td>1.844122</td>\n",
       "      <td>1.507907</td>\n",
       "    </tr>\n",
       "    <tr>\n",
       "      <th>std</th>\n",
       "      <td>23.374484</td>\n",
       "      <td>6.381558</td>\n",
       "      <td>1.865125</td>\n",
       "      <td>4.336577</td>\n",
       "      <td>0.340609</td>\n",
       "      <td>1.678300</td>\n",
       "      <td>1.390452</td>\n",
       "      <td>0.675038</td>\n",
       "      <td>1.608065</td>\n",
       "      <td>1.097682</td>\n",
       "      <td>0.394369</td>\n",
       "      <td>0.193783</td>\n",
       "      <td>0.155727</td>\n",
       "      <td>0.485527</td>\n",
       "      <td>0.499938</td>\n",
       "    </tr>\n",
       "    <tr>\n",
       "      <th>min</th>\n",
       "      <td>0.000000</td>\n",
       "      <td>0.000000</td>\n",
       "      <td>1.000000</td>\n",
       "      <td>0.000000</td>\n",
       "      <td>1.000000</td>\n",
       "      <td>0.000000</td>\n",
       "      <td>1.000000</td>\n",
       "      <td>0.000000</td>\n",
       "      <td>0.000000</td>\n",
       "      <td>1.000000</td>\n",
       "      <td>1.000000</td>\n",
       "      <td>1.000000</td>\n",
       "      <td>1.000000</td>\n",
       "      <td>0.000000</td>\n",
       "      <td>1.000000</td>\n",
       "    </tr>\n",
       "    <tr>\n",
       "      <th>25%</th>\n",
       "      <td>20.000000</td>\n",
       "      <td>13.000000</td>\n",
       "      <td>1.000000</td>\n",
       "      <td>0.000000</td>\n",
       "      <td>2.000000</td>\n",
       "      <td>0.000000</td>\n",
       "      <td>1.000000</td>\n",
       "      <td>1.000000</td>\n",
       "      <td>2.000000</td>\n",
       "      <td>1.000000</td>\n",
       "      <td>1.000000</td>\n",
       "      <td>2.000000</td>\n",
       "      <td>2.000000</td>\n",
       "      <td>2.000000</td>\n",
       "      <td>1.000000</td>\n",
       "    </tr>\n",
       "    <tr>\n",
       "      <th>50%</th>\n",
       "      <td>40.000000</td>\n",
       "      <td>17.000000</td>\n",
       "      <td>3.000000</td>\n",
       "      <td>1.000000</td>\n",
       "      <td>2.000000</td>\n",
       "      <td>0.000000</td>\n",
       "      <td>1.000000</td>\n",
       "      <td>1.000000</td>\n",
       "      <td>4.000000</td>\n",
       "      <td>1.000000</td>\n",
       "      <td>1.000000</td>\n",
       "      <td>2.000000</td>\n",
       "      <td>2.000000</td>\n",
       "      <td>2.000000</td>\n",
       "      <td>2.000000</td>\n",
       "    </tr>\n",
       "    <tr>\n",
       "      <th>75%</th>\n",
       "      <td>59.000000</td>\n",
       "      <td>20.000000</td>\n",
       "      <td>5.000000</td>\n",
       "      <td>2.000000</td>\n",
       "      <td>2.000000</td>\n",
       "      <td>0.000000</td>\n",
       "      <td>1.000000</td>\n",
       "      <td>1.000000</td>\n",
       "      <td>4.000000</td>\n",
       "      <td>2.000000</td>\n",
       "      <td>1.000000</td>\n",
       "      <td>2.000000</td>\n",
       "      <td>2.000000</td>\n",
       "      <td>2.000000</td>\n",
       "      <td>2.000000</td>\n",
       "    </tr>\n",
       "    <tr>\n",
       "      <th>max</th>\n",
       "      <td>94.000000</td>\n",
       "      <td>24.000000</td>\n",
       "      <td>5.000000</td>\n",
       "      <td>17.000000</td>\n",
       "      <td>2.000000</td>\n",
       "      <td>8.000000</td>\n",
       "      <td>5.000000</td>\n",
       "      <td>3.000000</td>\n",
       "      <td>4.000000</td>\n",
       "      <td>4.000000</td>\n",
       "      <td>2.000000</td>\n",
       "      <td>2.000000</td>\n",
       "      <td>2.000000</td>\n",
       "      <td>2.000000</td>\n",
       "      <td>2.000000</td>\n",
       "    </tr>\n",
       "  </tbody>\n",
       "</table>\n",
       "</div>"
      ]
     },
     "execution_count": 29,
     "metadata": {},
     "output_type": "execute_result"
    }
   ],
   "execution_count": 29
  },
  {
   "metadata": {},
   "cell_type": "markdown",
   "source": [
    "Having found that the number of null values in any feature is of the same order of magnitude, we check which rows present more than one NaN.\n",
    "In particular, we check whether there are some completely corrupted instances to delete."
   ],
   "id": "bc2cf571d0c5750e"
  },
  {
   "cell_type": "code",
   "id": "2ee25573e1c5daec",
   "metadata": {
    "ExecuteTime": {
     "end_time": "2024-05-31T12:09:44.623026Z",
     "start_time": "2024-05-31T12:09:44.475137Z"
    }
   },
   "source": "len(data[data.isnull().sum(axis=1)>1].index)",
   "outputs": [
    {
     "data": {
      "text/plain": [
       "24288"
      ]
     },
     "execution_count": 30,
     "metadata": {},
     "output_type": "execute_result"
    }
   ],
   "execution_count": 30
  },
  {
   "metadata": {
    "ExecuteTime": {
     "end_time": "2024-05-31T12:09:44.784382Z",
     "start_time": "2024-05-31T12:09:44.624034Z"
    }
   },
   "cell_type": "code",
   "source": "len(data[data.isnull().sum(axis=1)==6].index)",
   "id": "7128baabfc4c6fce",
   "outputs": [
    {
     "data": {
      "text/plain": [
       "0"
      ]
     },
     "execution_count": 31,
     "metadata": {},
     "output_type": "execute_result"
    }
   ],
   "execution_count": 31
  },
  {
   "metadata": {},
   "cell_type": "markdown",
   "source": "There are no completely empty rows to delete.",
   "id": "26629e577f83b398"
  },
  {
   "cell_type": "markdown",
   "id": "54a1cbed1eb8ab94",
   "metadata": {},
   "source": "We replace Boolean target variable with 0 and 1"
  },
  {
   "cell_type": "code",
   "id": "d1c58966affbb5fc",
   "metadata": {
    "ExecuteTime": {
     "end_time": "2024-05-31T12:09:45.262379Z",
     "start_time": "2024-05-31T12:09:44.785391Z"
    }
   },
   "source": [
    "data.replace({False:0, True:1}, inplace=True)\n",
    "data.head()"
   ],
   "outputs": [
    {
     "name": "stderr",
     "output_type": "stream",
     "text": [
      "C:\\Users\\giorg\\AppData\\Local\\Temp\\ipykernel_10540\\2057611178.py:1: FutureWarning: Downcasting behavior in `replace` is deprecated and will be removed in a future version. To retain the old behavior, explicitly call `result.infer_objects(copy=False)`. To opt-in to the future behavior, set `pd.set_option('future.no_silent_downcasting', True)`\n",
      "  data.replace({False:0, True:1}, inplace=True)\n"
     ]
    },
    {
     "data": {
      "text/plain": [
       "   AGEP  SCHL  MAR  RELP  DIS  ESP  CIT  MIG  MIL  ANC  NATIVITY  DEAR  DEYE  \\\n",
       "0  21.0  16.0  5.0  17.0  2.0  0.0  1.0  1.0  4.0  1.0       1.0   2.0   2.0   \n",
       "1  19.0  16.0  5.0  17.0  2.0  0.0  1.0  1.0  4.0  1.0       1.0   2.0   2.0   \n",
       "2  24.0  12.0  5.0  16.0  1.0  0.0  1.0  1.0  4.0  1.0       1.0   2.0   2.0   \n",
       "3  20.0  16.0  5.0  17.0  2.0  0.0  1.0  1.0  3.0  1.0       1.0   2.0   NaN   \n",
       "4  31.0  17.0  5.0  17.0  2.0  0.0  1.0  3.0  4.0  4.0       1.0   2.0   2.0   \n",
       "\n",
       "   DREM  SEX  ESR  \n",
       "0   2.0  2.0    1  \n",
       "1   2.0  2.0    0  \n",
       "2   1.0  1.0    0  \n",
       "3   2.0  2.0    1  \n",
       "4   2.0  1.0    1  "
      ],
      "text/html": [
       "<div>\n",
       "<style scoped>\n",
       "    .dataframe tbody tr th:only-of-type {\n",
       "        vertical-align: middle;\n",
       "    }\n",
       "\n",
       "    .dataframe tbody tr th {\n",
       "        vertical-align: top;\n",
       "    }\n",
       "\n",
       "    .dataframe thead th {\n",
       "        text-align: right;\n",
       "    }\n",
       "</style>\n",
       "<table border=\"1\" class=\"dataframe\">\n",
       "  <thead>\n",
       "    <tr style=\"text-align: right;\">\n",
       "      <th></th>\n",
       "      <th>AGEP</th>\n",
       "      <th>SCHL</th>\n",
       "      <th>MAR</th>\n",
       "      <th>RELP</th>\n",
       "      <th>DIS</th>\n",
       "      <th>ESP</th>\n",
       "      <th>CIT</th>\n",
       "      <th>MIG</th>\n",
       "      <th>MIL</th>\n",
       "      <th>ANC</th>\n",
       "      <th>NATIVITY</th>\n",
       "      <th>DEAR</th>\n",
       "      <th>DEYE</th>\n",
       "      <th>DREM</th>\n",
       "      <th>SEX</th>\n",
       "      <th>ESR</th>\n",
       "    </tr>\n",
       "  </thead>\n",
       "  <tbody>\n",
       "    <tr>\n",
       "      <th>0</th>\n",
       "      <td>21.0</td>\n",
       "      <td>16.0</td>\n",
       "      <td>5.0</td>\n",
       "      <td>17.0</td>\n",
       "      <td>2.0</td>\n",
       "      <td>0.0</td>\n",
       "      <td>1.0</td>\n",
       "      <td>1.0</td>\n",
       "      <td>4.0</td>\n",
       "      <td>1.0</td>\n",
       "      <td>1.0</td>\n",
       "      <td>2.0</td>\n",
       "      <td>2.0</td>\n",
       "      <td>2.0</td>\n",
       "      <td>2.0</td>\n",
       "      <td>1</td>\n",
       "    </tr>\n",
       "    <tr>\n",
       "      <th>1</th>\n",
       "      <td>19.0</td>\n",
       "      <td>16.0</td>\n",
       "      <td>5.0</td>\n",
       "      <td>17.0</td>\n",
       "      <td>2.0</td>\n",
       "      <td>0.0</td>\n",
       "      <td>1.0</td>\n",
       "      <td>1.0</td>\n",
       "      <td>4.0</td>\n",
       "      <td>1.0</td>\n",
       "      <td>1.0</td>\n",
       "      <td>2.0</td>\n",
       "      <td>2.0</td>\n",
       "      <td>2.0</td>\n",
       "      <td>2.0</td>\n",
       "      <td>0</td>\n",
       "    </tr>\n",
       "    <tr>\n",
       "      <th>2</th>\n",
       "      <td>24.0</td>\n",
       "      <td>12.0</td>\n",
       "      <td>5.0</td>\n",
       "      <td>16.0</td>\n",
       "      <td>1.0</td>\n",
       "      <td>0.0</td>\n",
       "      <td>1.0</td>\n",
       "      <td>1.0</td>\n",
       "      <td>4.0</td>\n",
       "      <td>1.0</td>\n",
       "      <td>1.0</td>\n",
       "      <td>2.0</td>\n",
       "      <td>2.0</td>\n",
       "      <td>1.0</td>\n",
       "      <td>1.0</td>\n",
       "      <td>0</td>\n",
       "    </tr>\n",
       "    <tr>\n",
       "      <th>3</th>\n",
       "      <td>20.0</td>\n",
       "      <td>16.0</td>\n",
       "      <td>5.0</td>\n",
       "      <td>17.0</td>\n",
       "      <td>2.0</td>\n",
       "      <td>0.0</td>\n",
       "      <td>1.0</td>\n",
       "      <td>1.0</td>\n",
       "      <td>3.0</td>\n",
       "      <td>1.0</td>\n",
       "      <td>1.0</td>\n",
       "      <td>2.0</td>\n",
       "      <td>NaN</td>\n",
       "      <td>2.0</td>\n",
       "      <td>2.0</td>\n",
       "      <td>1</td>\n",
       "    </tr>\n",
       "    <tr>\n",
       "      <th>4</th>\n",
       "      <td>31.0</td>\n",
       "      <td>17.0</td>\n",
       "      <td>5.0</td>\n",
       "      <td>17.0</td>\n",
       "      <td>2.0</td>\n",
       "      <td>0.0</td>\n",
       "      <td>1.0</td>\n",
       "      <td>3.0</td>\n",
       "      <td>4.0</td>\n",
       "      <td>4.0</td>\n",
       "      <td>1.0</td>\n",
       "      <td>2.0</td>\n",
       "      <td>2.0</td>\n",
       "      <td>2.0</td>\n",
       "      <td>1.0</td>\n",
       "      <td>1</td>\n",
       "    </tr>\n",
       "  </tbody>\n",
       "</table>\n",
       "</div>"
      ]
     },
     "execution_count": 32,
     "metadata": {},
     "output_type": "execute_result"
    }
   ],
   "execution_count": 32
  },
  {
   "metadata": {},
   "cell_type": "markdown",
   "source": "We calculate the correlation matrix in order to detect possible correlations to exploit.",
   "id": "31c7f75ba6f5c351"
  },
  {
   "cell_type": "code",
   "id": "3f3d340b",
   "metadata": {
    "ExecuteTime": {
     "end_time": "2024-05-31T12:09:45.955837Z",
     "start_time": "2024-05-31T12:09:45.266388Z"
    }
   },
   "source": [
    "data.corr()"
   ],
   "outputs": [
    {
     "data": {
      "text/plain": [
       "              AGEP      SCHL       MAR      RELP       DIS       ESP  \\\n",
       "AGEP      1.000000  0.526318 -0.652526 -0.160553 -0.319932 -0.495892   \n",
       "SCHL      0.526318  1.000000 -0.437045 -0.106178 -0.034417 -0.534254   \n",
       "MAR      -0.652526 -0.437045  1.000000  0.324343  0.084751  0.395482   \n",
       "RELP     -0.160553 -0.106178  0.324343  1.000000 -0.090447  0.028915   \n",
       "DIS      -0.319932 -0.034417  0.084751 -0.090447  1.000000  0.093754   \n",
       "ESP      -0.495892 -0.534254  0.395482  0.028915  0.093754  1.000000   \n",
       "CIT       0.136805  0.013117 -0.197440 -0.007710  0.037943 -0.139069   \n",
       "MIG      -0.094053  0.051095  0.091173  0.202360 -0.000815 -0.016679   \n",
       "MIL       0.610013  0.710749 -0.486286 -0.026641 -0.102686 -0.650507   \n",
       "ANC      -0.075151 -0.055516  0.067081  0.051846 -0.006058  0.037561   \n",
       "NATIVITY  0.159861  0.026687 -0.212588 -0.018830  0.031085 -0.145389   \n",
       "DEAR     -0.240264 -0.036743  0.100159 -0.004358  0.512855  0.063005   \n",
       "DEYE     -0.127749 -0.002851  0.034025 -0.043709  0.405873  0.038179   \n",
       "DREM      0.297545  0.508846 -0.243272 -0.090742  0.190759 -0.286680   \n",
       "SEX       0.045604  0.020629 -0.037797 -0.041623 -0.004698 -0.014166   \n",
       "ESR       0.108214  0.433160 -0.236155 -0.141054  0.209605 -0.323080   \n",
       "\n",
       "               CIT       MIG       MIL       ANC  NATIVITY      DEAR  \\\n",
       "AGEP      0.136805 -0.094053  0.610013 -0.075151  0.159861 -0.240264   \n",
       "SCHL      0.013117  0.051095  0.710749 -0.055516  0.026687 -0.036743   \n",
       "MAR      -0.197440  0.091173 -0.486286  0.067081 -0.212588  0.100159   \n",
       "RELP     -0.007710  0.202360 -0.026641  0.051846 -0.018830 -0.004358   \n",
       "DIS       0.037943 -0.000815 -0.102686 -0.006058  0.031085  0.512855   \n",
       "ESP      -0.139069 -0.016679 -0.650507  0.037561 -0.145389  0.063005   \n",
       "CIT       1.000000 -0.010506  0.210177 -0.154963  0.975068  0.025188   \n",
       "MIG      -0.010506  1.000000  0.041475  0.032566 -0.018573  0.016514   \n",
       "MIL       0.210177  0.041475  1.000000 -0.072090  0.217732 -0.041023   \n",
       "ANC      -0.154963  0.032566 -0.072090  1.000000 -0.160468  0.000405   \n",
       "NATIVITY  0.975068 -0.018573  0.217732 -0.160468  1.000000  0.020730   \n",
       "DEAR      0.025188  0.016514 -0.041023  0.000405  0.020730  1.000000   \n",
       "DEYE     -0.000428 -0.003608 -0.047215  0.001006 -0.001856  0.231059   \n",
       "DREM      0.109111  0.034611  0.391905 -0.050561  0.109656  0.049433   \n",
       "SEX       0.011768 -0.011250  0.084040  0.003481  0.015864  0.034801   \n",
       "ESR       0.108761  0.020511  0.455615 -0.022187  0.110149  0.098217   \n",
       "\n",
       "              DEYE      DREM       SEX       ESR  \n",
       "AGEP     -0.127749  0.297545  0.045604  0.108214  \n",
       "SCHL     -0.002851  0.508846  0.020629  0.433160  \n",
       "MAR       0.034025 -0.243272 -0.037797 -0.236155  \n",
       "RELP     -0.043709 -0.090742 -0.041623 -0.141054  \n",
       "DIS       0.405873  0.190759 -0.004698  0.209605  \n",
       "ESP       0.038179 -0.286680 -0.014166 -0.323080  \n",
       "CIT      -0.000428  0.109111  0.011768  0.108761  \n",
       "MIG      -0.003608  0.034611 -0.011250  0.020511  \n",
       "MIL      -0.047215  0.391905  0.084040  0.455615  \n",
       "ANC       0.001006 -0.050561  0.003481 -0.022187  \n",
       "NATIVITY -0.001856  0.109656  0.015864  0.110149  \n",
       "DEAR      0.231059  0.049433  0.034801  0.098217  \n",
       "DEYE      1.000000  0.066936 -0.009537  0.072056  \n",
       "DREM      0.066936  1.000000  0.010203  0.265008  \n",
       "SEX      -0.009537  0.010203  1.000000 -0.070236  \n",
       "ESR       0.072056  0.265008 -0.070236  1.000000  "
      ],
      "text/html": [
       "<div>\n",
       "<style scoped>\n",
       "    .dataframe tbody tr th:only-of-type {\n",
       "        vertical-align: middle;\n",
       "    }\n",
       "\n",
       "    .dataframe tbody tr th {\n",
       "        vertical-align: top;\n",
       "    }\n",
       "\n",
       "    .dataframe thead th {\n",
       "        text-align: right;\n",
       "    }\n",
       "</style>\n",
       "<table border=\"1\" class=\"dataframe\">\n",
       "  <thead>\n",
       "    <tr style=\"text-align: right;\">\n",
       "      <th></th>\n",
       "      <th>AGEP</th>\n",
       "      <th>SCHL</th>\n",
       "      <th>MAR</th>\n",
       "      <th>RELP</th>\n",
       "      <th>DIS</th>\n",
       "      <th>ESP</th>\n",
       "      <th>CIT</th>\n",
       "      <th>MIG</th>\n",
       "      <th>MIL</th>\n",
       "      <th>ANC</th>\n",
       "      <th>NATIVITY</th>\n",
       "      <th>DEAR</th>\n",
       "      <th>DEYE</th>\n",
       "      <th>DREM</th>\n",
       "      <th>SEX</th>\n",
       "      <th>ESR</th>\n",
       "    </tr>\n",
       "  </thead>\n",
       "  <tbody>\n",
       "    <tr>\n",
       "      <th>AGEP</th>\n",
       "      <td>1.000000</td>\n",
       "      <td>0.526318</td>\n",
       "      <td>-0.652526</td>\n",
       "      <td>-0.160553</td>\n",
       "      <td>-0.319932</td>\n",
       "      <td>-0.495892</td>\n",
       "      <td>0.136805</td>\n",
       "      <td>-0.094053</td>\n",
       "      <td>0.610013</td>\n",
       "      <td>-0.075151</td>\n",
       "      <td>0.159861</td>\n",
       "      <td>-0.240264</td>\n",
       "      <td>-0.127749</td>\n",
       "      <td>0.297545</td>\n",
       "      <td>0.045604</td>\n",
       "      <td>0.108214</td>\n",
       "    </tr>\n",
       "    <tr>\n",
       "      <th>SCHL</th>\n",
       "      <td>0.526318</td>\n",
       "      <td>1.000000</td>\n",
       "      <td>-0.437045</td>\n",
       "      <td>-0.106178</td>\n",
       "      <td>-0.034417</td>\n",
       "      <td>-0.534254</td>\n",
       "      <td>0.013117</td>\n",
       "      <td>0.051095</td>\n",
       "      <td>0.710749</td>\n",
       "      <td>-0.055516</td>\n",
       "      <td>0.026687</td>\n",
       "      <td>-0.036743</td>\n",
       "      <td>-0.002851</td>\n",
       "      <td>0.508846</td>\n",
       "      <td>0.020629</td>\n",
       "      <td>0.433160</td>\n",
       "    </tr>\n",
       "    <tr>\n",
       "      <th>MAR</th>\n",
       "      <td>-0.652526</td>\n",
       "      <td>-0.437045</td>\n",
       "      <td>1.000000</td>\n",
       "      <td>0.324343</td>\n",
       "      <td>0.084751</td>\n",
       "      <td>0.395482</td>\n",
       "      <td>-0.197440</td>\n",
       "      <td>0.091173</td>\n",
       "      <td>-0.486286</td>\n",
       "      <td>0.067081</td>\n",
       "      <td>-0.212588</td>\n",
       "      <td>0.100159</td>\n",
       "      <td>0.034025</td>\n",
       "      <td>-0.243272</td>\n",
       "      <td>-0.037797</td>\n",
       "      <td>-0.236155</td>\n",
       "    </tr>\n",
       "    <tr>\n",
       "      <th>RELP</th>\n",
       "      <td>-0.160553</td>\n",
       "      <td>-0.106178</td>\n",
       "      <td>0.324343</td>\n",
       "      <td>1.000000</td>\n",
       "      <td>-0.090447</td>\n",
       "      <td>0.028915</td>\n",
       "      <td>-0.007710</td>\n",
       "      <td>0.202360</td>\n",
       "      <td>-0.026641</td>\n",
       "      <td>0.051846</td>\n",
       "      <td>-0.018830</td>\n",
       "      <td>-0.004358</td>\n",
       "      <td>-0.043709</td>\n",
       "      <td>-0.090742</td>\n",
       "      <td>-0.041623</td>\n",
       "      <td>-0.141054</td>\n",
       "    </tr>\n",
       "    <tr>\n",
       "      <th>DIS</th>\n",
       "      <td>-0.319932</td>\n",
       "      <td>-0.034417</td>\n",
       "      <td>0.084751</td>\n",
       "      <td>-0.090447</td>\n",
       "      <td>1.000000</td>\n",
       "      <td>0.093754</td>\n",
       "      <td>0.037943</td>\n",
       "      <td>-0.000815</td>\n",
       "      <td>-0.102686</td>\n",
       "      <td>-0.006058</td>\n",
       "      <td>0.031085</td>\n",
       "      <td>0.512855</td>\n",
       "      <td>0.405873</td>\n",
       "      <td>0.190759</td>\n",
       "      <td>-0.004698</td>\n",
       "      <td>0.209605</td>\n",
       "    </tr>\n",
       "    <tr>\n",
       "      <th>ESP</th>\n",
       "      <td>-0.495892</td>\n",
       "      <td>-0.534254</td>\n",
       "      <td>0.395482</td>\n",
       "      <td>0.028915</td>\n",
       "      <td>0.093754</td>\n",
       "      <td>1.000000</td>\n",
       "      <td>-0.139069</td>\n",
       "      <td>-0.016679</td>\n",
       "      <td>-0.650507</td>\n",
       "      <td>0.037561</td>\n",
       "      <td>-0.145389</td>\n",
       "      <td>0.063005</td>\n",
       "      <td>0.038179</td>\n",
       "      <td>-0.286680</td>\n",
       "      <td>-0.014166</td>\n",
       "      <td>-0.323080</td>\n",
       "    </tr>\n",
       "    <tr>\n",
       "      <th>CIT</th>\n",
       "      <td>0.136805</td>\n",
       "      <td>0.013117</td>\n",
       "      <td>-0.197440</td>\n",
       "      <td>-0.007710</td>\n",
       "      <td>0.037943</td>\n",
       "      <td>-0.139069</td>\n",
       "      <td>1.000000</td>\n",
       "      <td>-0.010506</td>\n",
       "      <td>0.210177</td>\n",
       "      <td>-0.154963</td>\n",
       "      <td>0.975068</td>\n",
       "      <td>0.025188</td>\n",
       "      <td>-0.000428</td>\n",
       "      <td>0.109111</td>\n",
       "      <td>0.011768</td>\n",
       "      <td>0.108761</td>\n",
       "    </tr>\n",
       "    <tr>\n",
       "      <th>MIG</th>\n",
       "      <td>-0.094053</td>\n",
       "      <td>0.051095</td>\n",
       "      <td>0.091173</td>\n",
       "      <td>0.202360</td>\n",
       "      <td>-0.000815</td>\n",
       "      <td>-0.016679</td>\n",
       "      <td>-0.010506</td>\n",
       "      <td>1.000000</td>\n",
       "      <td>0.041475</td>\n",
       "      <td>0.032566</td>\n",
       "      <td>-0.018573</td>\n",
       "      <td>0.016514</td>\n",
       "      <td>-0.003608</td>\n",
       "      <td>0.034611</td>\n",
       "      <td>-0.011250</td>\n",
       "      <td>0.020511</td>\n",
       "    </tr>\n",
       "    <tr>\n",
       "      <th>MIL</th>\n",
       "      <td>0.610013</td>\n",
       "      <td>0.710749</td>\n",
       "      <td>-0.486286</td>\n",
       "      <td>-0.026641</td>\n",
       "      <td>-0.102686</td>\n",
       "      <td>-0.650507</td>\n",
       "      <td>0.210177</td>\n",
       "      <td>0.041475</td>\n",
       "      <td>1.000000</td>\n",
       "      <td>-0.072090</td>\n",
       "      <td>0.217732</td>\n",
       "      <td>-0.041023</td>\n",
       "      <td>-0.047215</td>\n",
       "      <td>0.391905</td>\n",
       "      <td>0.084040</td>\n",
       "      <td>0.455615</td>\n",
       "    </tr>\n",
       "    <tr>\n",
       "      <th>ANC</th>\n",
       "      <td>-0.075151</td>\n",
       "      <td>-0.055516</td>\n",
       "      <td>0.067081</td>\n",
       "      <td>0.051846</td>\n",
       "      <td>-0.006058</td>\n",
       "      <td>0.037561</td>\n",
       "      <td>-0.154963</td>\n",
       "      <td>0.032566</td>\n",
       "      <td>-0.072090</td>\n",
       "      <td>1.000000</td>\n",
       "      <td>-0.160468</td>\n",
       "      <td>0.000405</td>\n",
       "      <td>0.001006</td>\n",
       "      <td>-0.050561</td>\n",
       "      <td>0.003481</td>\n",
       "      <td>-0.022187</td>\n",
       "    </tr>\n",
       "    <tr>\n",
       "      <th>NATIVITY</th>\n",
       "      <td>0.159861</td>\n",
       "      <td>0.026687</td>\n",
       "      <td>-0.212588</td>\n",
       "      <td>-0.018830</td>\n",
       "      <td>0.031085</td>\n",
       "      <td>-0.145389</td>\n",
       "      <td>0.975068</td>\n",
       "      <td>-0.018573</td>\n",
       "      <td>0.217732</td>\n",
       "      <td>-0.160468</td>\n",
       "      <td>1.000000</td>\n",
       "      <td>0.020730</td>\n",
       "      <td>-0.001856</td>\n",
       "      <td>0.109656</td>\n",
       "      <td>0.015864</td>\n",
       "      <td>0.110149</td>\n",
       "    </tr>\n",
       "    <tr>\n",
       "      <th>DEAR</th>\n",
       "      <td>-0.240264</td>\n",
       "      <td>-0.036743</td>\n",
       "      <td>0.100159</td>\n",
       "      <td>-0.004358</td>\n",
       "      <td>0.512855</td>\n",
       "      <td>0.063005</td>\n",
       "      <td>0.025188</td>\n",
       "      <td>0.016514</td>\n",
       "      <td>-0.041023</td>\n",
       "      <td>0.000405</td>\n",
       "      <td>0.020730</td>\n",
       "      <td>1.000000</td>\n",
       "      <td>0.231059</td>\n",
       "      <td>0.049433</td>\n",
       "      <td>0.034801</td>\n",
       "      <td>0.098217</td>\n",
       "    </tr>\n",
       "    <tr>\n",
       "      <th>DEYE</th>\n",
       "      <td>-0.127749</td>\n",
       "      <td>-0.002851</td>\n",
       "      <td>0.034025</td>\n",
       "      <td>-0.043709</td>\n",
       "      <td>0.405873</td>\n",
       "      <td>0.038179</td>\n",
       "      <td>-0.000428</td>\n",
       "      <td>-0.003608</td>\n",
       "      <td>-0.047215</td>\n",
       "      <td>0.001006</td>\n",
       "      <td>-0.001856</td>\n",
       "      <td>0.231059</td>\n",
       "      <td>1.000000</td>\n",
       "      <td>0.066936</td>\n",
       "      <td>-0.009537</td>\n",
       "      <td>0.072056</td>\n",
       "    </tr>\n",
       "    <tr>\n",
       "      <th>DREM</th>\n",
       "      <td>0.297545</td>\n",
       "      <td>0.508846</td>\n",
       "      <td>-0.243272</td>\n",
       "      <td>-0.090742</td>\n",
       "      <td>0.190759</td>\n",
       "      <td>-0.286680</td>\n",
       "      <td>0.109111</td>\n",
       "      <td>0.034611</td>\n",
       "      <td>0.391905</td>\n",
       "      <td>-0.050561</td>\n",
       "      <td>0.109656</td>\n",
       "      <td>0.049433</td>\n",
       "      <td>0.066936</td>\n",
       "      <td>1.000000</td>\n",
       "      <td>0.010203</td>\n",
       "      <td>0.265008</td>\n",
       "    </tr>\n",
       "    <tr>\n",
       "      <th>SEX</th>\n",
       "      <td>0.045604</td>\n",
       "      <td>0.020629</td>\n",
       "      <td>-0.037797</td>\n",
       "      <td>-0.041623</td>\n",
       "      <td>-0.004698</td>\n",
       "      <td>-0.014166</td>\n",
       "      <td>0.011768</td>\n",
       "      <td>-0.011250</td>\n",
       "      <td>0.084040</td>\n",
       "      <td>0.003481</td>\n",
       "      <td>0.015864</td>\n",
       "      <td>0.034801</td>\n",
       "      <td>-0.009537</td>\n",
       "      <td>0.010203</td>\n",
       "      <td>1.000000</td>\n",
       "      <td>-0.070236</td>\n",
       "    </tr>\n",
       "    <tr>\n",
       "      <th>ESR</th>\n",
       "      <td>0.108214</td>\n",
       "      <td>0.433160</td>\n",
       "      <td>-0.236155</td>\n",
       "      <td>-0.141054</td>\n",
       "      <td>0.209605</td>\n",
       "      <td>-0.323080</td>\n",
       "      <td>0.108761</td>\n",
       "      <td>0.020511</td>\n",
       "      <td>0.455615</td>\n",
       "      <td>-0.022187</td>\n",
       "      <td>0.110149</td>\n",
       "      <td>0.098217</td>\n",
       "      <td>0.072056</td>\n",
       "      <td>0.265008</td>\n",
       "      <td>-0.070236</td>\n",
       "      <td>1.000000</td>\n",
       "    </tr>\n",
       "  </tbody>\n",
       "</table>\n",
       "</div>"
      ]
     },
     "execution_count": 33,
     "metadata": {},
     "output_type": "execute_result"
    }
   ],
   "execution_count": 33
  },
  {
   "metadata": {},
   "cell_type": "markdown",
   "source": "We note, for example, the high correlation between the ``CIT`` and ``NATIVITY``.",
   "id": "85706dc8a382086f"
  },
  {
   "metadata": {},
   "cell_type": "markdown",
   "source": "### Missing Values Reconstruction ",
   "id": "411e0921c3961104"
  },
  {
   "cell_type": "markdown",
   "id": "260c9ac9f21250b0",
   "metadata": {},
   "source": [
    "#### Analysis of ``DEYE`` and ``DEAR``\n",
    "\n",
    "The handling of these missing values starts from observing that the classes ``DEYE``, ``DEAR`` and ``DREM`` have relevant correlations with ``DIS``."
   ]
  },
  {
   "metadata": {
    "ExecuteTime": {
     "end_time": "2024-05-31T12:11:59.264109Z",
     "start_time": "2024-05-31T12:09:45.956845Z"
    }
   },
   "cell_type": "code",
   "source": "pd.plotting.scatter_matrix(data[['DEAR','DEYE', 'DREM', 'DIS']])",
   "id": "87576e0080ac9cf6",
   "outputs": [
    {
     "data": {
      "text/plain": [
       "array([[<Axes: xlabel='DEAR', ylabel='DEAR'>,\n",
       "        <Axes: xlabel='DEYE', ylabel='DEAR'>,\n",
       "        <Axes: xlabel='DREM', ylabel='DEAR'>,\n",
       "        <Axes: xlabel='DIS', ylabel='DEAR'>],\n",
       "       [<Axes: xlabel='DEAR', ylabel='DEYE'>,\n",
       "        <Axes: xlabel='DEYE', ylabel='DEYE'>,\n",
       "        <Axes: xlabel='DREM', ylabel='DEYE'>,\n",
       "        <Axes: xlabel='DIS', ylabel='DEYE'>],\n",
       "       [<Axes: xlabel='DEAR', ylabel='DREM'>,\n",
       "        <Axes: xlabel='DEYE', ylabel='DREM'>,\n",
       "        <Axes: xlabel='DREM', ylabel='DREM'>,\n",
       "        <Axes: xlabel='DIS', ylabel='DREM'>],\n",
       "       [<Axes: xlabel='DEAR', ylabel='DIS'>,\n",
       "        <Axes: xlabel='DEYE', ylabel='DIS'>,\n",
       "        <Axes: xlabel='DREM', ylabel='DIS'>,\n",
       "        <Axes: xlabel='DIS', ylabel='DIS'>]], dtype=object)"
      ]
     },
     "execution_count": 34,
     "metadata": {},
     "output_type": "execute_result"
    },
    {
     "data": {
      "text/plain": [
       "<Figure size 640x480 with 16 Axes>"
      ],
      "image/png": "[encoded data removed]"
     },
     "metadata": {},
     "output_type": "display_data"
    }
   ],
   "execution_count": 34
  },
  {
   "metadata": {},
   "cell_type": "markdown",
   "source": "From the scatterplot, it is clear that there are no entries with value 1 in one of ``DEYE``, ``DEAR`` or ``DREM`` while having value 2 in ``DIS``. We will try to exploit this information to fill the missing values. ",
   "id": "1aff7eba7ec4e294"
  },
  {
   "metadata": {},
   "cell_type": "markdown",
   "source": "Firstly, we check the number of instances in which both of the classes have missing values.",
   "id": "c1fed9c9c0f7a000"
  },
  {
   "metadata": {
    "ExecuteTime": {
     "end_time": "2024-05-31T12:11:59.278340Z",
     "start_time": "2024-05-31T12:11:59.265116Z"
    }
   },
   "cell_type": "code",
   "source": "print('The number of entries with missing values in both DEYE and DEAR is:', data[(data['DEAR'].isna()) & (data['DEYE'].isna())].shape[0])",
   "id": "cedcdfd173c0e8c5",
   "outputs": [
    {
     "name": "stdout",
     "output_type": "stream",
     "text": [
      "The number of entries with missing values in both DEYE and DEAR is: 1873\n"
     ]
    }
   ],
   "execution_count": 35
  },
  {
   "metadata": {},
   "cell_type": "markdown",
   "source": "Now we analyse the data without NaNs to infer some useful ratios we might need. We start by calculating the number of entries without NaNs in both ``DEYE`` and ``DEAR``.",
   "id": "420d97e722f08784"
  },
  {
   "metadata": {
    "ExecuteTime": {
     "end_time": "2024-05-31T12:11:59.344315Z",
     "start_time": "2024-05-31T12:11:59.279349Z"
    }
   },
   "cell_type": "code",
   "source": [
    "data_tmp = data[(~data['DEAR'].isna()) & (~data['DEYE'].isna())]\n",
    "print('The number of entries without NaNs in both DEYE and DEAR is:', data_tmp.shape[0])"
   ],
   "id": "fb748deb24d9e34c",
   "outputs": [
    {
     "name": "stdout",
     "output_type": "stream",
     "text": [
      "The number of entries without NaNs in both DEYE and DEAR is: 673778\n"
     ]
    }
   ],
   "execution_count": 36
  },
  {
   "metadata": {},
   "cell_type": "markdown",
   "source": "Then we analyse the relative populations.",
   "id": "953bfcb4038298aa"
  },
  {
   "metadata": {
    "ExecuteTime": {
     "end_time": "2024-05-31T12:11:59.484792Z",
     "start_time": "2024-05-31T12:11:59.345322Z"
    }
   },
   "cell_type": "code",
   "source": [
    "deye_no_dear = np.array([], dtype=int)\n",
    "dear_no_deye = np.array([], dtype=int)\n",
    "deye_and_dear = np.array([], dtype=int)\n",
    "\n",
    "for i in [0,1,2]:\n",
    "    deye_no_dear = np.append(deye_no_dear, data_tmp[(data_tmp['DREM']==i) & ((data_tmp['DEYE']==1) & (data_tmp['DEAR']==2))].shape[0])\n",
    "    dear_no_deye = np.append(dear_no_deye, data_tmp[(data_tmp['DREM']==i) & ((data_tmp['DEYE']==2) & (data_tmp['DEAR']==1))].shape[0])\n",
    "    deye_and_dear = np.append(deye_and_dear, data_tmp[(data_tmp['DREM']==i) & ((data_tmp['DEYE']==1) & (data_tmp['DEAR']==1))].shape[0])\n",
    "    if i==0:\n",
    "        print('The number of people having vision difficulty and no hearing difficulty while being less than 5 years old is:', deye_no_dear[i])        \n",
    "        print('The number of people having hearing difficulty and no vision difficulty while being less than 5 years old is:', dear_no_deye[i])        \n",
    "        print('The number of people having both vision and hearing difficulty while being less than 5 years old is:', deye_and_dear[i])\n",
    "        print('==> The total number of people having at least one between vision and hearing difficulty while being less than 5 years old is:', deye_and_dear[i]+dear_no_deye[i]+deye_no_dear[i])\n",
    "        print('\\nThe number of people being less than 5 years old and having a disability different from the ones under analysis is:', data_tmp[(data_tmp['DREM']==i) & (data_tmp['DIS']==1) & (data_tmp['DEYE']==2) & (data_tmp['DEAR']==2)].shape[0])\n",
    "        print('The number of people being less than 5 years old and not having a disability is:', data_tmp[(data_tmp['DREM']==i) & (data_tmp['DIS']==2)].shape[0])\n",
    "    if i==1:\n",
    "        print('=============================================')\n",
    "        print('The number of people having vision difficulty and no hearing difficulty while having a cognitive difficulty is:', deye_no_dear[i])        \n",
    "        print('The number of people having hearing difficulty and no vision difficulty while having a cognitive difficulty is:', dear_no_deye[i])        \n",
    "        print('The number of people having both vision and hearing difficulty while having a cognitive difficulty is:', deye_and_dear[i])\n",
    "        print('==> The total number of people having at least one between vision and hearing difficulty while having a cognitive difficulty is:', deye_and_dear[i]+dear_no_deye[i]+deye_no_dear[i])\n",
    "        print('\\nThe number of people having only a cognitive difficulty is:', data_tmp[(data_tmp['DREM']==i) & (data_tmp['DEYE']==2) & (data_tmp['DEAR']==2)].shape[0])\n",
    "    if i==2:\n",
    "        print('=============================================')\n",
    "        print('The number of people having vision difficulty and no hearing difficulty while not having a cognitive difficulty is:', deye_no_dear[i])        \n",
    "        print('The number of people having hearing difficulty and no vision difficulty while not having a cognitive difficulty is:', dear_no_deye[i])        \n",
    "        print('The number of people having both vision and hearing difficulty while not having a cognitive difficulty is:', deye_and_dear[i])\n",
    "        print('==> The total number of people having at least one between vision and hearing difficulty while not having a cognitive difficulty is:', deye_and_dear[i]+dear_no_deye[i]+deye_no_dear[i])\n",
    "        print('\\nThe number of people not having a cognitive difficulty and having a disability different from the ones under analysis is:', data_tmp[(data_tmp['DREM']==i) & (data_tmp['DIS']==1) & (data_tmp['DEYE']==2) & (data_tmp['DEAR']==2)].shape[0])        \n",
    "        print('The number of people not having disability and being more than 5 years old is:', data_tmp[(data_tmp['DREM']==i) & (data_tmp['DIS']==2)].shape[0])\n"
   ],
   "id": "bb7a0c97efbb1c04",
   "outputs": [
    {
     "name": "stdout",
     "output_type": "stream",
     "text": [
      "The number of people having vision difficulty and no hearing difficulty while being less than 5 years old is: 67\n",
      "The number of people having hearing difficulty and no vision difficulty while being less than 5 years old is: 98\n",
      "The number of people having both vision and hearing difficulty while being less than 5 years old is: 78\n",
      "==> The total number of people having at least one between vision and hearing difficulty while being less than 5 years old is: 243\n",
      "\n",
      "The number of people being less than 5 years old and having a disability different from the ones under analysis is: 0\n",
      "The number of people being less than 5 years old and not having a disability is: 34850\n",
      "=============================================\n",
      "The number of people having vision difficulty and no hearing difficulty while having a cognitive difficulty is: 2966\n",
      "The number of people having hearing difficulty and no vision difficulty while having a cognitive difficulty is: 4165\n",
      "The number of people having both vision and hearing difficulty while having a cognitive difficulty is: 2760\n",
      "==> The total number of people having at least one between vision and hearing difficulty while having a cognitive difficulty is: 9891\n",
      "\n",
      "The number of people having only a cognitive difficulty is: 25032\n",
      "=============================================\n",
      "The number of people having vision difficulty and no hearing difficulty while not having a cognitive difficulty is: 8340\n",
      "The number of people having hearing difficulty and no vision difficulty while not having a cognitive difficulty is: 16764\n",
      "The number of people having both vision and hearing difficulty while not having a cognitive difficulty is: 2515\n",
      "==> The total number of people having at least one between vision and hearing difficulty while not having a cognitive difficulty is: 27619\n",
      "\n",
      "The number of people not having a cognitive difficulty and having a disability different from the ones under analysis is: 27529\n",
      "The number of people not having disability and being more than 5 years old is: 548614\n"
     ]
    }
   ],
   "execution_count": 37
  },
  {
   "metadata": {},
   "cell_type": "markdown",
   "source": "The first modification we make is to check whether a NaN in ``DEYE`` or ``DEAR`` occurs in correspondence of a 2 in ``DIS``, in that case we fill the NaN with 2.",
   "id": "556e3712fda510c0"
  },
  {
   "metadata": {
    "ExecuteTime": {
     "end_time": "2024-05-31T12:11:59.501691Z",
     "start_time": "2024-05-31T12:11:59.485804Z"
    }
   },
   "cell_type": "code",
   "source": [
    "data.loc[(data['DIS']==2) & (data['DEYE'].isna()), 'DEYE'] = 2\n",
    "data.loc[(data['DIS']==2) & (data['DEAR'].isna()), 'DEAR'] = 2"
   ],
   "id": "3c17c8c5e7d9fa3b",
   "outputs": [],
   "execution_count": 38
  },
  {
   "metadata": {},
   "cell_type": "markdown",
   "source": "We check how many NaN values are left in the two classes under analysis.",
   "id": "9cd210290916015b"
  },
  {
   "metadata": {
    "ExecuteTime": {
     "end_time": "2024-05-31T12:11:59.540211Z",
     "start_time": "2024-05-31T12:11:59.502703Z"
    }
   },
   "cell_type": "code",
   "source": "data.isna().sum()",
   "id": "406d07c82d7f1ec8",
   "outputs": [
    {
     "data": {
      "text/plain": [
       "AGEP            0\n",
       "SCHL        37203\n",
       "MAR             0\n",
       "RELP        37123\n",
       "DIS             0\n",
       "ESP             0\n",
       "CIT         37049\n",
       "MIG             0\n",
       "MIL             0\n",
       "ANC             0\n",
       "NATIVITY    37523\n",
       "DEAR         5037\n",
       "DEYE         4893\n",
       "DREM            0\n",
       "SEX             0\n",
       "ESR             0\n",
       "dtype: int64"
      ]
     },
     "execution_count": 39,
     "metadata": {},
     "output_type": "execute_result"
    }
   ],
   "execution_count": 39
  },
  {
   "metadata": {},
   "cell_type": "markdown",
   "source": "Next we calculate the ratios of the various populations we have previously identified. The numbers in the variables correspond to the value of the classes under analysis, in the following order: ``DEYE``, ``DEAR``, ``DREM`` (remembering that ``DIS`` will be 1).",
   "id": "9a33964cefd1f8b"
  },
  {
   "metadata": {
    "ExecuteTime": {
     "end_time": "2024-05-31T12:11:59.594130Z",
     "start_time": "2024-05-31T12:11:59.541219Z"
    }
   },
   "cell_type": "code",
   "source": [
    "dis_non_null = data[(data['DEAR'].notna()) & (data['DEYE'].notna()) & (data['DIS'] == 1)].shape[0] #number of entries with non-null value of DEYE and DEAR and DIS equal to 1\n",
    "r220 = data_tmp[(data_tmp['DREM']==0) & (data_tmp['DIS']==1) & (data_tmp['DEYE']==2) & (data_tmp['DEAR']==2)].shape[0] / dis_non_null\n",
    "r210 = dear_no_deye[0] / dis_non_null\n",
    "r120 = deye_no_dear[0] / dis_non_null\n",
    "r110 = deye_and_dear[0] / dis_non_null\n",
    "r221 = data_tmp[(data_tmp['DREM']==1) & (data_tmp['DEYE']==2) & (data_tmp['DEAR']==2)].shape[0] / dis_non_null\n",
    "r211 = dear_no_deye[1] / dis_non_null\n",
    "r121 = deye_no_dear[1] / dis_non_null\n",
    "r111 = deye_and_dear[1] / dis_non_null\n",
    "r222 = data_tmp[(data_tmp['DREM']==2) & (data_tmp['DIS']==1) & (data_tmp['DEYE']==2) & (data_tmp['DEAR']==2)].shape[0] / dis_non_null\n",
    "r212 = dear_no_deye[2] / dis_non_null\n",
    "r122 = deye_no_dear[2] / dis_non_null\n",
    "r112 = deye_and_dear[2] / dis_non_null\n",
    "print('These ratios add up to', r220 + r210 + r120 + r110 + r221 + r211 + r121 + r111 + r222 + r212 + r122 + r112)"
   ],
   "id": "eb33d7084ca42b62",
   "outputs": [
    {
     "name": "stdout",
     "output_type": "stream",
     "text": [
      "These ratios add up to 1.0\n"
     ]
    }
   ],
   "execution_count": 40
  },
  {
   "metadata": {},
   "cell_type": "markdown",
   "source": "These ratios will be used to estimate the probability of having the corresponding values in the entry. We will use these probabilities to fill the missing values.",
   "id": "a6692859aad1a702"
  },
  {
   "metadata": {
    "ExecuteTime": {
     "end_time": "2024-05-31T12:11:59.771609Z",
     "start_time": "2024-05-31T12:11:59.595140Z"
    }
   },
   "cell_type": "code",
   "source": [
    "#filling the values with both NaNs\n",
    "for i in [0,1,2]:\n",
    "    if (i==0):\n",
    "        normalization = r220 + r210 + r120 + r110\n",
    "        randString = np.random.choice(['2-2','2-1','1-2','1-1'], p=[r220/normalization, r210/normalization, r120/normalization, r110/normalization])\n",
    "    if (i==1):\n",
    "        normalization = r221 + r211 + r121 + r111\n",
    "        randString = np.random.choice(['2-2','2-1','1-2','1-1'], p=[r221/normalization, r211/normalization, r121/normalization, r111/normalization])\n",
    "    if (i==2):\n",
    "        normalization = r222 + r212 + r122 + r112\n",
    "        randString = np.random.choice(['2-2','2-1','1-2','1-1'], p=[r222/normalization, r212/normalization, r122/normalization, r112/normalization])\n",
    "    (data.loc[(data['DEYE'].isna()) & (data['DEAR'].isna()) & (data['DIS'] == 1), 'DEYE'], data.loc[(data['DEYE'].isna()) & (data['DEAR'].isna()) & (data['DIS'] == 1), 'DEAR']) = tuple(map(float, randString.split('-')))\n",
    "    \n",
    "#filling the values with only DEYE NaN\n",
    "for i in [0,1,2]:\n",
    "    for j in [1,2]:\n",
    "        if (i==0):\n",
    "            if (j==1):\n",
    "                normalization = r210 + r110\n",
    "                data.loc[(data['DEYE'].isna()) & (data['DEAR']==j) & (data['DIS'] == 1), 'DEYE'] = np.random.choice([2,1], p=[r210/normalization, r110/normalization])\n",
    "            if (j==2):\n",
    "                normalization = r220 + r120\n",
    "                data.loc[(data['DEYE'].isna()) & (data['DEAR']==j) & (data['DIS'] == 1), 'DEYE'] = np.random.choice([2,1], p=[r220/normalization, r120/normalization])\n",
    "        if (i==1):\n",
    "            if (j==1):\n",
    "                normalization = r211 + r111\n",
    "                data.loc[(data['DEYE'].isna()) & (data['DEAR']==j) & (data['DIS'] == 1), 'DEYE'] = np.random.choice([2,1], p=[r211/normalization, r111/normalization])\n",
    "            if (j==2):\n",
    "                normalization = r221 + r121\n",
    "                data.loc[(data['DEYE'].isna()) & (data['DEAR']==j) & (data['DIS'] == 1), 'DEYE'] = np.random.choice([2,1], p=[r221/normalization, r121/normalization])\n",
    "        if (i==2):\n",
    "            if (j==1):\n",
    "                normalization = r212 + r112\n",
    "                data.loc[(data['DEYE'].isna()) & (data['DEAR']==j) & (data['DIS'] == 1), 'DEYE'] = np.random.choice([2,1], p=[r212/normalization, r112/normalization])\n",
    "            if (j==2):\n",
    "                normalization = r222 + r122\n",
    "                data.loc[(data['DEYE'].isna()) & (data['DEAR']==j) & (data['DIS'] == 1), 'DEYE'] = np.random.choice([2,1], p=[r222/normalization, r122/normalization])\n",
    "                \n",
    "#filling the values with only DEAR NaN\n",
    "for i in [0,1,2]:\n",
    "    for j in [1,2]:\n",
    "        if (i==0):\n",
    "            if (j==1):\n",
    "                normalization = r120 + r110\n",
    "                data.loc[(data['DEYE']==j) & (data['DEAR'].isna()) & (data['DIS'] == 1), 'DEAR'] = np.random.choice([2,1], p=[r120/normalization, r110/normalization])\n",
    "            if (j==2):\n",
    "                normalization = r220 + r210\n",
    "                data.loc[(data['DEYE']==j) & (data['DEAR'].isna()) & (data['DIS'] == 1), 'DEAR'] = np.random.choice([2,1], p=[r220/normalization, r210/normalization])\n",
    "        if (i==1):\n",
    "            if (j==1):\n",
    "                normalization = r121 + r111\n",
    "                data.loc[(data['DEYE']==j) & (data['DEAR'].isna()) & (data['DIS'] == 1), 'DEAR'] = np.random.choice([2,1], p=[r121/normalization, r111/normalization])\n",
    "            if (j==2):\n",
    "                normalization = r221 + r211\n",
    "                data.loc[(data['DEYE']==j) & (data['DEAR'].isna()) & (data['DIS'] == 1), 'DEAR'] = np.random.choice([2,1], p=[r221/normalization, r211/normalization])\n",
    "        if (i==2):\n",
    "            if (j==1):\n",
    "                normalization = r122 + r112\n",
    "                data.loc[(data['DEYE']==j) & (data['DEAR'].isna()) & (data['DIS'] == 1), 'DEAR'] = np.random.choice([2,1], p=[r122/normalization, r112/normalization])\n",
    "            if (j==2):\n",
    "                normalization = r222 + r212\n",
    "                data.loc[(data['DEYE']==j) & (data['DEAR'].isna()) & (data['DIS'] == 1), 'DEAR'] = np.random.choice([2,1], p=[r222/normalization, r212/normalization])"
   ],
   "id": "8155f16692971a15",
   "outputs": [],
   "execution_count": 41
  },
  {
   "metadata": {},
   "cell_type": "markdown",
   "source": "We perform a last check to see if there are still missing values.",
   "id": "461f485d59da6736"
  },
  {
   "metadata": {
    "ExecuteTime": {
     "end_time": "2024-05-31T12:11:59.807371Z",
     "start_time": "2024-05-31T12:11:59.772616Z"
    }
   },
   "cell_type": "code",
   "source": "data.isna().sum()",
   "id": "968e622d78027302",
   "outputs": [
    {
     "data": {
      "text/plain": [
       "AGEP            0\n",
       "SCHL        37203\n",
       "MAR             0\n",
       "RELP        37123\n",
       "DIS             0\n",
       "ESP             0\n",
       "CIT         37049\n",
       "MIG             0\n",
       "MIL             0\n",
       "ANC             0\n",
       "NATIVITY    37523\n",
       "DEAR            0\n",
       "DEYE            0\n",
       "DREM            0\n",
       "SEX             0\n",
       "ESR             0\n",
       "dtype: int64"
      ]
     },
     "execution_count": 42,
     "metadata": {},
     "output_type": "execute_result"
    }
   ],
   "execution_count": 42
  },
  {
   "metadata": {},
   "cell_type": "markdown",
   "source": "#### Analysis of ``CIT`` and ``NATIVITY``",
   "id": "bd12b297a04c9ac9"
  },
  {
   "cell_type": "markdown",
   "id": "d4237ae0f3b2e9ff",
   "metadata": {},
   "source": [
    "From the following scatterplot is possible to notice that NATIVITY and CIT carry similar information. In particular, points having ``NATIVITY``=1 have ``CIT`` $\\in$ {1; 2; 3} and points having ``NATIVITY``=2 have ``CIT`` $\\in$ {4; 5}.  \n",
    " We attempt to exploit these facts in order to reconstruct the missing information in one class from the other."
   ]
  },
  {
   "metadata": {
    "ExecuteTime": {
     "end_time": "2024-05-31T12:12:10.299452Z",
     "start_time": "2024-05-31T12:11:59.808380Z"
    }
   },
   "cell_type": "code",
   "source": "pd.plotting.scatter_matrix(data[['CIT','NATIVITY']])",
   "id": "7d1f3b46e1bef88",
   "outputs": [
    {
     "data": {
      "text/plain": [
       "array([[<Axes: xlabel='CIT', ylabel='CIT'>,\n",
       "        <Axes: xlabel='NATIVITY', ylabel='CIT'>],\n",
       "       [<Axes: xlabel='CIT', ylabel='NATIVITY'>,\n",
       "        <Axes: xlabel='NATIVITY', ylabel='NATIVITY'>]], dtype=object)"
      ]
     },
     "execution_count": 43,
     "metadata": {},
     "output_type": "execute_result"
    },
    {
     "data": {
      "text/plain": [
       "<Figure size 640x480 with 4 Axes>"
      ],
      "image/png": "[encoded data removed]"
     },
     "metadata": {},
     "output_type": "display_data"
    }
   ],
   "execution_count": 43
  },
  {
   "metadata": {},
   "cell_type": "markdown",
   "source": "Firstly, we check the number of instances in which both of the classes have missing values. ",
   "id": "147786f3e23c4a5f"
  },
  {
   "cell_type": "code",
   "id": "8b6de7ffaaa9c982",
   "metadata": {
    "ExecuteTime": {
     "end_time": "2024-05-30T23:35:08.025823Z",
     "start_time": "2024-05-30T23:35:08.018303Z"
    }
   },
   "source": "print('The amount of such instances is: ', ((data['CIT'].isna()) & (data['NATIVITY'].isna())).sum())",
   "outputs": [
    {
     "name": "stdout",
     "output_type": "stream",
     "text": [
      "The amount of such instances is:  1862\n"
     ]
    }
   ],
   "execution_count": 295
  },
  {
   "metadata": {},
   "cell_type": "markdown",
   "source": "We see that the number of these specific instances is negligible with respect to the total amount of data points, therefore we drop them.",
   "id": "ee00642dc603091"
  },
  {
   "metadata": {
    "ExecuteTime": {
     "end_time": "2024-05-30T23:35:08.080439Z",
     "start_time": "2024-05-30T23:35:08.026833Z"
    }
   },
   "cell_type": "code",
   "source": "data = data.loc[~((data['CIT'].isna()) & (data['NATIVITY'].isna()))]",
   "id": "414226e89df0f437",
   "outputs": [],
   "execution_count": 296
  },
  {
   "cell_type": "markdown",
   "id": "504d4dcfd94be16e",
   "metadata": {},
   "source": "From the previous scatterplot (or the dictionary) it is possible to notice that ``NATIVITY`` is uniquely determined by ``CIT``. Because of this we fill the missing values of ``NATIVITY`` from the corresponding values of ``CIT``. "
  },
  {
   "cell_type": "code",
   "id": "993af1c9c50da206",
   "metadata": {
    "ExecuteTime": {
     "end_time": "2024-05-30T23:35:08.100020Z",
     "start_time": "2024-05-30T23:35:08.081446Z"
    }
   },
   "source": [
    "data.loc[(data['NATIVITY'].isnull()) & (data['CIT']<4), 'NATIVITY'] = 1\n",
    "data.loc[(data['NATIVITY'].isnull()) & (data['CIT']>3), 'NATIVITY'] = 2"
   ],
   "outputs": [],
   "execution_count": 297
  },
  {
   "cell_type": "markdown",
   "id": "e5022653",
   "metadata": {},
   "source": [
    "From the scatterplot we see that there are two classes of ``CIT``. \n",
    "\n",
    "* If ``NATIVITY`` is 1, then ``CIT`` is either 1, 2 or 3; we fill the missing ``CIT`` entries via a random sampling from those values, with probabilities estimated from their ratios on the non-null entries.\n",
    "* If ``NATIVITY`` is 2, then ``CIT`` is either 4 or 5; we fill the ``CIT`` missing entries with the same method as before."
   ]
  },
  {
   "cell_type": "code",
   "id": "578497502b0c5dd",
   "metadata": {
    "ExecuteTime": {
     "end_time": "2024-05-30T23:35:08.360835Z",
     "start_time": "2024-05-30T23:35:08.101030Z"
    }
   },
   "source": [
    "r1 = data[data['CIT']==1].shape[0] / data[(data['CIT'].notna()) & (data['NATIVITY']==1)].shape[0]\n",
    "r2 = data[data['CIT']==2].shape[0] / data[(data['CIT'].notna()) & (data['NATIVITY']==1)].shape[0]\n",
    "r3 = data[data['CIT']==3].shape[0] / data[(data['CIT'].notna()) & (data['NATIVITY']==1)].shape[0]\n",
    "r4 = data[data['CIT']==4].shape[0] / data[(data['CIT'].notna()) & (data['NATIVITY']==2)].shape[0]\n",
    "r5 = data[data['CIT']==5].shape[0] / data[(data['CIT'].notna()) & (data['NATIVITY']==2)].shape[0]\n",
    "\n",
    "data.loc[(data['CIT'].isnull()) & (data['NATIVITY']==1), 'CIT'] = np.random.choice([1,2,3], p=[r1,r2,r3])\n",
    "data.loc[(data['CIT'].isnull()) & (data['NATIVITY']==2), 'CIT'] = np.random.choice([4,5], p=[r4,r5])\n",
    "data.isna().sum()"
   ],
   "outputs": [
    {
     "data": {
      "text/plain": [
       "AGEP            0\n",
       "SCHL        37103\n",
       "MAR             0\n",
       "RELP        37036\n",
       "DIS             0\n",
       "ESP             0\n",
       "CIT             0\n",
       "MIG             0\n",
       "MIL             0\n",
       "ANC             0\n",
       "NATIVITY        0\n",
       "DEAR            0\n",
       "DEYE            0\n",
       "DREM            0\n",
       "SEX             0\n",
       "ESR             0\n",
       "dtype: int64"
      ]
     },
     "execution_count": 298,
     "metadata": {},
     "output_type": "execute_result"
    }
   ],
   "execution_count": 298
  },
  {
   "metadata": {},
   "cell_type": "markdown",
   "source": [
    "#### Analysis of ``RELP``\n",
    "\n",
    "We try to use a KNN imputer to fill the missing values of ``RELP``."
   ],
   "id": "37cf0c382fc02d1a"
  },
  {
   "cell_type": "code",
   "id": "8cdf9a79",
   "metadata": {
    "ExecuteTime": {
     "end_time": "2024-05-30T23:36:23.193989Z",
     "start_time": "2024-05-30T23:35:08.361843Z"
    }
   },
   "source": [
    "from sklearn.model_selection import train_test_split\n",
    "\n",
    "# Split the data into training and test sets\n",
    "train_data = data.sample(frac=0.05, random_state=69420)\n",
    "\n",
    "# Create the KNN imputer\n",
    "imputer = KNNImputer(n_neighbors=5)\n",
    "\n",
    "# Fit the imputer on the training set\n",
    "imputer.fit(train_data['RELP'].values.reshape(-1,1))\n",
    "\n",
    "# Apply the imputer to the test set\n",
    "data['RELP'] = imputer.transform(data['RELP'].values.reshape(-1,1))\n",
    "\n",
    "data.isna().sum()"
   ],
   "outputs": [
    {
     "data": {
      "text/plain": [
       "AGEP            0\n",
       "SCHL        37103\n",
       "MAR             0\n",
       "RELP            0\n",
       "DIS             0\n",
       "ESP             0\n",
       "CIT             0\n",
       "MIG             0\n",
       "MIL             0\n",
       "ANC             0\n",
       "NATIVITY        0\n",
       "DEAR            0\n",
       "DEYE            0\n",
       "DREM            0\n",
       "SEX             0\n",
       "ESR             0\n",
       "dtype: int64"
      ]
     },
     "execution_count": 299,
     "metadata": {},
     "output_type": "execute_result"
    }
   ],
   "execution_count": 299
  },
  {
   "cell_type": "markdown",
   "id": "60085bb9",
   "metadata": {},
   "source": [
    "#### Analysis of ``SCHL``\n",
    "\n",
    "From the following scatterplot, it is possible to infer that the classes ``SCHL`` and ``AGEP`` present correlation since ``AGEP`` imposes an upper bound on ``SCHL``."
   ]
  },
  {
   "cell_type": "code",
   "id": "d26951e5",
   "metadata": {
    "ExecuteTime": {
     "end_time": "2024-05-30T23:36:34.376184Z",
     "start_time": "2024-05-30T23:36:23.194999Z"
    }
   },
   "source": "pd.plotting.scatter_matrix(data[['SCHL','AGEP']])",
   "outputs": [
    {
     "data": {
      "text/plain": [
       "array([[<Axes: xlabel='SCHL', ylabel='SCHL'>,\n",
       "        <Axes: xlabel='AGEP', ylabel='SCHL'>],\n",
       "       [<Axes: xlabel='SCHL', ylabel='AGEP'>,\n",
       "        <Axes: xlabel='AGEP', ylabel='AGEP'>]], dtype=object)"
      ]
     },
     "execution_count": 300,
     "metadata": {},
     "output_type": "execute_result"
    },
    {
     "data": {
      "text/plain": [
       "<Figure size 640x480 with 4 Axes>"
      ],
      "image/png": "[encoded data removed]"
     },
     "metadata": {},
     "output_type": "display_data"
    }
   ],
   "execution_count": 300
  },
  {
   "metadata": {},
   "cell_type": "markdown",
   "source": "Given the meaning of the class, we would opt for replacing the missing values of ``SCHL`` with the median value of ``SCHL`` at the corresponding ``AGEP``. However, the fact that the median in principle is not an integer, we would introduce a bias by rounding to the nearest integer; therefore we choose the mode.",
   "id": "a11981c6def62383"
  },
  {
   "cell_type": "code",
   "id": "e3288c4f",
   "metadata": {
    "ExecuteTime": {
     "end_time": "2024-05-30T23:36:34.607350Z",
     "start_time": "2024-05-30T23:36:34.380712Z"
    }
   },
   "source": [
    "data['SCHL_mode']=data.groupby('AGEP')['SCHL'].transform(lambda x: x.mode().iloc[0])\n",
    "data['SCHL']=data['SCHL'].fillna(data['SCHL_mode'])\n",
    "data.drop('SCHL_mode', axis=1, inplace=True)\n",
    "data.isna().sum()"
   ],
   "outputs": [
    {
     "data": {
      "text/plain": [
       "AGEP        0\n",
       "SCHL        0\n",
       "MAR         0\n",
       "RELP        0\n",
       "DIS         0\n",
       "ESP         0\n",
       "CIT         0\n",
       "MIG         0\n",
       "MIL         0\n",
       "ANC         0\n",
       "NATIVITY    0\n",
       "DEAR        0\n",
       "DEYE        0\n",
       "DREM        0\n",
       "SEX         0\n",
       "ESR         0\n",
       "dtype: int64"
      ]
     },
     "execution_count": 301,
     "metadata": {},
     "output_type": "execute_result"
    }
   ],
   "execution_count": 301
  },
  {
   "cell_type": "markdown",
   "id": "fb6dda8f",
   "metadata": {},
   "source": [
    "## 2) CLUSTERING\n",
    "\n",
    "We now attempt to classify the target class by means of unsupervised algorithms. The given target variable is ``ESR``, therefore we save it in a separate object."
   ]
  },
  {
   "cell_type": "code",
   "id": "f32d1150",
   "metadata": {
    "ExecuteTime": {
     "end_time": "2024-05-30T23:36:34.649228Z",
     "start_time": "2024-05-30T23:36:34.608360Z"
    }
   },
   "source": [
    "data_target = data['ESR']\n",
    "data.drop('ESR', axis=1, inplace=True)"
   ],
   "outputs": [],
   "execution_count": 302
  },
  {
   "cell_type": "markdown",
   "id": "76dae806",
   "metadata": {},
   "source": "We start by normalizing the data."
  },
  {
   "cell_type": "code",
   "id": "42c095c2",
   "metadata": {
    "ExecuteTime": {
     "end_time": "2024-05-30T23:36:34.816827Z",
     "start_time": "2024-05-30T23:36:34.650236Z"
    }
   },
   "source": [
    "from sklearn.preprocessing import StandardScaler, MinMaxScaler\n",
    "scaler = StandardScaler()\n",
    "scaler.fit(data.values)"
   ],
   "outputs": [
    {
     "data": {
      "text/plain": [
       "StandardScaler()"
      ],
      "text/html": [
       "<style>#sk-container-id-1 {\n",
       "  /* Definition of color scheme common for light and dark mode */\n",
       "  --sklearn-color-text: black;\n",
       "  --sklearn-color-line: gray;\n",
       "  /* Definition of color scheme for unfitted estimators */\n",
       "  --sklearn-color-unfitted-level-0: #fff5e6;\n",
       "  --sklearn-color-unfitted-level-1: #f6e4d2;\n",
       "  --sklearn-color-unfitted-level-2: #ffe0b3;\n",
       "  --sklearn-color-unfitted-level-3: chocolate;\n",
       "  /* Definition of color scheme for fitted estimators */\n",
       "  --sklearn-color-fitted-level-0: #f0f8ff;\n",
       "  --sklearn-color-fitted-level-1: #d4ebff;\n",
       "  --sklearn-color-fitted-level-2: #b3dbfd;\n",
       "  --sklearn-color-fitted-level-3: cornflowerblue;\n",
       "\n",
       "  /* Specific color for light theme */\n",
       "  --sklearn-color-text-on-default-background: var(--sg-text-color, var(--theme-code-foreground, var(--jp-content-font-color1, black)));\n",
       "  --sklearn-color-background: var(--sg-background-color, var(--theme-background, var(--jp-layout-color0, white)));\n",
       "  --sklearn-color-border-box: var(--sg-text-color, var(--theme-code-foreground, var(--jp-content-font-color1, black)));\n",
       "  --sklearn-color-icon: #696969;\n",
       "\n",
       "  @media (prefers-color-scheme: dark) {\n",
       "    /* Redefinition of color scheme for dark theme */\n",
       "    --sklearn-color-text-on-default-background: var(--sg-text-color, var(--theme-code-foreground, var(--jp-content-font-color1, white)));\n",
       "    --sklearn-color-background: var(--sg-background-color, var(--theme-background, var(--jp-layout-color0, #111)));\n",
       "    --sklearn-color-border-box: var(--sg-text-color, var(--theme-code-foreground, var(--jp-content-font-color1, white)));\n",
       "    --sklearn-color-icon: #878787;\n",
       "  }\n",
       "}\n",
       "\n",
       "#sk-container-id-1 {\n",
       "  color: var(--sklearn-color-text);\n",
       "}\n",
       "\n",
       "#sk-container-id-1 pre {\n",
       "  padding: 0;\n",
       "}\n",
       "\n",
       "#sk-container-id-1 input.sk-hidden--visually {\n",
       "  border: 0;\n",
       "  clip: rect(1px 1px 1px 1px);\n",
       "  clip: rect(1px, 1px, 1px, 1px);\n",
       "  height: 1px;\n",
       "  margin: -1px;\n",
       "  overflow: hidden;\n",
       "  padding: 0;\n",
       "  position: absolute;\n",
       "  width: 1px;\n",
       "}\n",
       "\n",
       "#sk-container-id-1 div.sk-dashed-wrapped {\n",
       "  border: 1px dashed var(--sklearn-color-line);\n",
       "  margin: 0 0.4em 0.5em 0.4em;\n",
       "  box-sizing: border-box;\n",
       "  padding-bottom: 0.4em;\n",
       "  background-color: var(--sklearn-color-background);\n",
       "}\n",
       "\n",
       "#sk-container-id-1 div.sk-container {\n",
       "  /* jupyter's `normalize.less` sets `[hidden] { display: none; }`\n",
       "     but bootstrap.min.css set `[hidden] { display: none !important; }`\n",
       "     so we also need the `!important` here to be able to override the\n",
       "     default hidden behavior on the sphinx rendered scikit-learn.org.\n",
       "     See: https://github.com/scikit-learn/scikit-learn/issues/21755 */\n",
       "  display: inline-block !important;\n",
       "  position: relative;\n",
       "}\n",
       "\n",
       "#sk-container-id-1 div.sk-text-repr-fallback {\n",
       "  display: none;\n",
       "}\n",
       "\n",
       "div.sk-parallel-item,\n",
       "div.sk-serial,\n",
       "div.sk-item {\n",
       "  /* draw centered vertical line to link estimators */\n",
       "  background-image: linear-gradient(var(--sklearn-color-text-on-default-background), var(--sklearn-color-text-on-default-background));\n",
       "  background-size: 2px 100%;\n",
       "  background-repeat: no-repeat;\n",
       "  background-position: center center;\n",
       "}\n",
       "\n",
       "/* Parallel-specific style estimator block */\n",
       "\n",
       "#sk-container-id-1 div.sk-parallel-item::after {\n",
       "  content: \"\";\n",
       "  width: 100%;\n",
       "  border-bottom: 2px solid var(--sklearn-color-text-on-default-background);\n",
       "  flex-grow: 1;\n",
       "}\n",
       "\n",
       "#sk-container-id-1 div.sk-parallel {\n",
       "  display: flex;\n",
       "  align-items: stretch;\n",
       "  justify-content: center;\n",
       "  background-color: var(--sklearn-color-background);\n",
       "  position: relative;\n",
       "}\n",
       "\n",
       "#sk-container-id-1 div.sk-parallel-item {\n",
       "  display: flex;\n",
       "  flex-direction: column;\n",
       "}\n",
       "\n",
       "#sk-container-id-1 div.sk-parallel-item:first-child::after {\n",
       "  align-self: flex-end;\n",
       "  width: 50%;\n",
       "}\n",
       "\n",
       "#sk-container-id-1 div.sk-parallel-item:last-child::after {\n",
       "  align-self: flex-start;\n",
       "  width: 50%;\n",
       "}\n",
       "\n",
       "#sk-container-id-1 div.sk-parallel-item:only-child::after {\n",
       "  width: 0;\n",
       "}\n",
       "\n",
       "/* Serial-specific style estimator block */\n",
       "\n",
       "#sk-container-id-1 div.sk-serial {\n",
       "  display: flex;\n",
       "  flex-direction: column;\n",
       "  align-items: center;\n",
       "  background-color: var(--sklearn-color-background);\n",
       "  padding-right: 1em;\n",
       "  padding-left: 1em;\n",
       "}\n",
       "\n",
       "\n",
       "/* Toggleable style: style used for estimator/Pipeline/ColumnTransformer box that is\n",
       "clickable and can be expanded/collapsed.\n",
       "- Pipeline and ColumnTransformer use this feature and define the default style\n",
       "- Estimators will overwrite some part of the style using the `sk-estimator` class\n",
       "*/\n",
       "\n",
       "/* Pipeline and ColumnTransformer style (default) */\n",
       "\n",
       "#sk-container-id-1 div.sk-toggleable {\n",
       "  /* Default theme specific background. It is overwritten whether we have a\n",
       "  specific estimator or a Pipeline/ColumnTransformer */\n",
       "  background-color: var(--sklearn-color-background);\n",
       "}\n",
       "\n",
       "/* Toggleable label */\n",
       "#sk-container-id-1 label.sk-toggleable__label {\n",
       "  cursor: pointer;\n",
       "  display: block;\n",
       "  width: 100%;\n",
       "  margin-bottom: 0;\n",
       "  padding: 0.5em;\n",
       "  box-sizing: border-box;\n",
       "  text-align: center;\n",
       "}\n",
       "\n",
       "#sk-container-id-1 label.sk-toggleable__label-arrow:before {\n",
       "  /* Arrow on the left of the label */\n",
       "  content: \"▸\";\n",
       "  float: left;\n",
       "  margin-right: 0.25em;\n",
       "  color: var(--sklearn-color-icon);\n",
       "}\n",
       "\n",
       "#sk-container-id-1 label.sk-toggleable__label-arrow:hover:before {\n",
       "  color: var(--sklearn-color-text);\n",
       "}\n",
       "\n",
       "/* Toggleable content - dropdown */\n",
       "\n",
       "#sk-container-id-1 div.sk-toggleable__content {\n",
       "  max-height: 0;\n",
       "  max-width: 0;\n",
       "  overflow: hidden;\n",
       "  text-align: left;\n",
       "  /* unfitted */\n",
       "  background-color: var(--sklearn-color-unfitted-level-0);\n",
       "}\n",
       "\n",
       "#sk-container-id-1 div.sk-toggleable__content.fitted {\n",
       "  /* fitted */\n",
       "  background-color: var(--sklearn-color-fitted-level-0);\n",
       "}\n",
       "\n",
       "#sk-container-id-1 div.sk-toggleable__content pre {\n",
       "  margin: 0.2em;\n",
       "  border-radius: 0.25em;\n",
       "  color: var(--sklearn-color-text);\n",
       "  /* unfitted */\n",
       "  background-color: var(--sklearn-color-unfitted-level-0);\n",
       "}\n",
       "\n",
       "#sk-container-id-1 div.sk-toggleable__content.fitted pre {\n",
       "  /* unfitted */\n",
       "  background-color: var(--sklearn-color-fitted-level-0);\n",
       "}\n",
       "\n",
       "#sk-container-id-1 input.sk-toggleable__control:checked~div.sk-toggleable__content {\n",
       "  /* Expand drop-down */\n",
       "  max-height: 200px;\n",
       "  max-width: 100%;\n",
       "  overflow: auto;\n",
       "}\n",
       "\n",
       "#sk-container-id-1 input.sk-toggleable__control:checked~label.sk-toggleable__label-arrow:before {\n",
       "  content: \"▾\";\n",
       "}\n",
       "\n",
       "/* Pipeline/ColumnTransformer-specific style */\n",
       "\n",
       "#sk-container-id-1 div.sk-label input.sk-toggleable__control:checked~label.sk-toggleable__label {\n",
       "  color: var(--sklearn-color-text);\n",
       "  background-color: var(--sklearn-color-unfitted-level-2);\n",
       "}\n",
       "\n",
       "#sk-container-id-1 div.sk-label.fitted input.sk-toggleable__control:checked~label.sk-toggleable__label {\n",
       "  background-color: var(--sklearn-color-fitted-level-2);\n",
       "}\n",
       "\n",
       "/* Estimator-specific style */\n",
       "\n",
       "/* Colorize estimator box */\n",
       "#sk-container-id-1 div.sk-estimator input.sk-toggleable__control:checked~label.sk-toggleable__label {\n",
       "  /* unfitted */\n",
       "  background-color: var(--sklearn-color-unfitted-level-2);\n",
       "}\n",
       "\n",
       "#sk-container-id-1 div.sk-estimator.fitted input.sk-toggleable__control:checked~label.sk-toggleable__label {\n",
       "  /* fitted */\n",
       "  background-color: var(--sklearn-color-fitted-level-2);\n",
       "}\n",
       "\n",
       "#sk-container-id-1 div.sk-label label.sk-toggleable__label,\n",
       "#sk-container-id-1 div.sk-label label {\n",
       "  /* The background is the default theme color */\n",
       "  color: var(--sklearn-color-text-on-default-background);\n",
       "}\n",
       "\n",
       "/* On hover, darken the color of the background */\n",
       "#sk-container-id-1 div.sk-label:hover label.sk-toggleable__label {\n",
       "  color: var(--sklearn-color-text);\n",
       "  background-color: var(--sklearn-color-unfitted-level-2);\n",
       "}\n",
       "\n",
       "/* Label box, darken color on hover, fitted */\n",
       "#sk-container-id-1 div.sk-label.fitted:hover label.sk-toggleable__label.fitted {\n",
       "  color: var(--sklearn-color-text);\n",
       "  background-color: var(--sklearn-color-fitted-level-2);\n",
       "}\n",
       "\n",
       "/* Estimator label */\n",
       "\n",
       "#sk-container-id-1 div.sk-label label {\n",
       "  font-family: monospace;\n",
       "  font-weight: bold;\n",
       "  display: inline-block;\n",
       "  line-height: 1.2em;\n",
       "}\n",
       "\n",
       "#sk-container-id-1 div.sk-label-container {\n",
       "  text-align: center;\n",
       "}\n",
       "\n",
       "/* Estimator-specific */\n",
       "#sk-container-id-1 div.sk-estimator {\n",
       "  font-family: monospace;\n",
       "  border: 1px dotted var(--sklearn-color-border-box);\n",
       "  border-radius: 0.25em;\n",
       "  box-sizing: border-box;\n",
       "  margin-bottom: 0.5em;\n",
       "  /* unfitted */\n",
       "  background-color: var(--sklearn-color-unfitted-level-0);\n",
       "}\n",
       "\n",
       "#sk-container-id-1 div.sk-estimator.fitted {\n",
       "  /* fitted */\n",
       "  background-color: var(--sklearn-color-fitted-level-0);\n",
       "}\n",
       "\n",
       "/* on hover */\n",
       "#sk-container-id-1 div.sk-estimator:hover {\n",
       "  /* unfitted */\n",
       "  background-color: var(--sklearn-color-unfitted-level-2);\n",
       "}\n",
       "\n",
       "#sk-container-id-1 div.sk-estimator.fitted:hover {\n",
       "  /* fitted */\n",
       "  background-color: var(--sklearn-color-fitted-level-2);\n",
       "}\n",
       "\n",
       "/* Specification for estimator info (e.g. \"i\" and \"?\") */\n",
       "\n",
       "/* Common style for \"i\" and \"?\" */\n",
       "\n",
       ".sk-estimator-doc-link,\n",
       "a:link.sk-estimator-doc-link,\n",
       "a:visited.sk-estimator-doc-link {\n",
       "  float: right;\n",
       "  font-size: smaller;\n",
       "  line-height: 1em;\n",
       "  font-family: monospace;\n",
       "  background-color: var(--sklearn-color-background);\n",
       "  border-radius: 1em;\n",
       "  height: 1em;\n",
       "  width: 1em;\n",
       "  text-decoration: none !important;\n",
       "  margin-left: 1ex;\n",
       "  /* unfitted */\n",
       "  border: var(--sklearn-color-unfitted-level-1) 1pt solid;\n",
       "  color: var(--sklearn-color-unfitted-level-1);\n",
       "}\n",
       "\n",
       ".sk-estimator-doc-link.fitted,\n",
       "a:link.sk-estimator-doc-link.fitted,\n",
       "a:visited.sk-estimator-doc-link.fitted {\n",
       "  /* fitted */\n",
       "  border: var(--sklearn-color-fitted-level-1) 1pt solid;\n",
       "  color: var(--sklearn-color-fitted-level-1);\n",
       "}\n",
       "\n",
       "/* On hover */\n",
       "div.sk-estimator:hover .sk-estimator-doc-link:hover,\n",
       ".sk-estimator-doc-link:hover,\n",
       "div.sk-label-container:hover .sk-estimator-doc-link:hover,\n",
       ".sk-estimator-doc-link:hover {\n",
       "  /* unfitted */\n",
       "  background-color: var(--sklearn-color-unfitted-level-3);\n",
       "  color: var(--sklearn-color-background);\n",
       "  text-decoration: none;\n",
       "}\n",
       "\n",
       "div.sk-estimator.fitted:hover .sk-estimator-doc-link.fitted:hover,\n",
       ".sk-estimator-doc-link.fitted:hover,\n",
       "div.sk-label-container:hover .sk-estimator-doc-link.fitted:hover,\n",
       ".sk-estimator-doc-link.fitted:hover {\n",
       "  /* fitted */\n",
       "  background-color: var(--sklearn-color-fitted-level-3);\n",
       "  color: var(--sklearn-color-background);\n",
       "  text-decoration: none;\n",
       "}\n",
       "\n",
       "/* Span, style for the box shown on hovering the info icon */\n",
       ".sk-estimator-doc-link span {\n",
       "  display: none;\n",
       "  z-index: 9999;\n",
       "  position: relative;\n",
       "  font-weight: normal;\n",
       "  right: .2ex;\n",
       "  padding: .5ex;\n",
       "  margin: .5ex;\n",
       "  width: min-content;\n",
       "  min-width: 20ex;\n",
       "  max-width: 50ex;\n",
       "  color: var(--sklearn-color-text);\n",
       "  box-shadow: 2pt 2pt 4pt #999;\n",
       "  /* unfitted */\n",
       "  background: var(--sklearn-color-unfitted-level-0);\n",
       "  border: .5pt solid var(--sklearn-color-unfitted-level-3);\n",
       "}\n",
       "\n",
       ".sk-estimator-doc-link.fitted span {\n",
       "  /* fitted */\n",
       "  background: var(--sklearn-color-fitted-level-0);\n",
       "  border: var(--sklearn-color-fitted-level-3);\n",
       "}\n",
       "\n",
       ".sk-estimator-doc-link:hover span {\n",
       "  display: block;\n",
       "}\n",
       "\n",
       "/* \"?\"-specific style due to the `<a>` HTML tag */\n",
       "\n",
       "#sk-container-id-1 a.estimator_doc_link {\n",
       "  float: right;\n",
       "  font-size: 1rem;\n",
       "  line-height: 1em;\n",
       "  font-family: monospace;\n",
       "  background-color: var(--sklearn-color-background);\n",
       "  border-radius: 1rem;\n",
       "  height: 1rem;\n",
       "  width: 1rem;\n",
       "  text-decoration: none;\n",
       "  /* unfitted */\n",
       "  color: var(--sklearn-color-unfitted-level-1);\n",
       "  border: var(--sklearn-color-unfitted-level-1) 1pt solid;\n",
       "}\n",
       "\n",
       "#sk-container-id-1 a.estimator_doc_link.fitted {\n",
       "  /* fitted */\n",
       "  border: var(--sklearn-color-fitted-level-1) 1pt solid;\n",
       "  color: var(--sklearn-color-fitted-level-1);\n",
       "}\n",
       "\n",
       "/* On hover */\n",
       "#sk-container-id-1 a.estimator_doc_link:hover {\n",
       "  /* unfitted */\n",
       "  background-color: var(--sklearn-color-unfitted-level-3);\n",
       "  color: var(--sklearn-color-background);\n",
       "  text-decoration: none;\n",
       "}\n",
       "\n",
       "#sk-container-id-1 a.estimator_doc_link.fitted:hover {\n",
       "  /* fitted */\n",
       "  background-color: var(--sklearn-color-fitted-level-3);\n",
       "}\n",
       "</style><div id=\"sk-container-id-1\" class=\"sk-top-container\"><div class=\"sk-text-repr-fallback\"><pre>StandardScaler()</pre><b>In a Jupyter environment, please rerun this cell to show the HTML representation or trust the notebook. <br />On GitHub, the HTML representation is unable to render, please try loading this page with nbviewer.org.</b></div><div class=\"sk-container\" hidden><div class=\"sk-item\"><div class=\"sk-estimator fitted sk-toggleable\"><input class=\"sk-toggleable__control sk-hidden--visually\" id=\"sk-estimator-id-1\" type=\"checkbox\" checked><label for=\"sk-estimator-id-1\" class=\"sk-toggleable__label fitted sk-toggleable__label-arrow fitted\">&nbsp;&nbsp;StandardScaler<a class=\"sk-estimator-doc-link fitted\" rel=\"noreferrer\" target=\"_blank\" href=\"https://scikit-learn.org/1.4/modules/generated/sklearn.preprocessing.StandardScaler.html\">?<span>Documentation for StandardScaler</span></a><span class=\"sk-estimator-doc-link fitted\">i<span>Fitted</span></span></label><div class=\"sk-toggleable__content fitted\"><pre>StandardScaler()</pre></div> </div></div></div></div>"
      ]
     },
     "execution_count": 303,
     "metadata": {},
     "output_type": "execute_result"
    }
   ],
   "execution_count": 303
  },
  {
   "cell_type": "code",
   "id": "fb6a11e5",
   "metadata": {
    "ExecuteTime": {
     "end_time": "2024-05-30T23:36:34.911690Z",
     "start_time": "2024-05-30T23:36:34.817837Z"
    }
   },
   "source": [
    "data_scaled=scaler.transform(data.values)"
   ],
   "outputs": [],
   "execution_count": 304
  },
  {
   "cell_type": "markdown",
   "id": "72946fc3",
   "metadata": {},
   "source": [
    "### K-means\n",
    "\n",
    "The first algorithm we test is the K-Means algorithm with two clusters."
   ]
  },
  {
   "cell_type": "code",
   "id": "141dcf5e",
   "metadata": {
    "ExecuteTime": {
     "end_time": "2024-05-30T23:36:35.366483Z",
     "start_time": "2024-05-30T23:36:34.912714Z"
    }
   },
   "source": [
    "from sklearn.cluster import KMeans"
   ],
   "outputs": [],
   "execution_count": 305
  },
  {
   "cell_type": "code",
   "id": "902d180b",
   "metadata": {
    "ExecuteTime": {
     "end_time": "2024-05-30T23:36:42.960328Z",
     "start_time": "2024-05-30T23:36:35.367487Z"
    }
   },
   "source": [
    "kmeans = KMeans(n_clusters=2, n_init=50, max_iter=300)\n",
    "kmeans.fit(data_scaled)"
   ],
   "outputs": [
    {
     "name": "stderr",
     "output_type": "stream",
     "text": [
      "C:\\Users\\giorg\\AppData\\Local\\Programs\\Python\\Python312\\Lib\\site-packages\\joblib\\externals\\loky\\backend\\context.py:136: UserWarning: Could not find the number of physical cores for the following reason:\n",
      "found 0 physical cores < 1\n",
      "Returning the number of logical cores instead. You can silence this warning by setting LOKY_MAX_CPU_COUNT to the number of cores you want to use.\n",
      "  warnings.warn(\n",
      "  File \"C:\\Users\\giorg\\AppData\\Local\\Programs\\Python\\Python312\\Lib\\site-packages\\joblib\\externals\\loky\\backend\\context.py\", line 282, in _count_physical_cores\n",
      "    raise ValueError(f\"found {cpu_count_physical} physical cores < 1\")\n"
     ]
    },
    {
     "data": {
      "text/plain": [
       "KMeans(n_clusters=2, n_init=50)"
      ],
      "text/html": [
       "<style>#sk-container-id-2 {\n",
       "  /* Definition of color scheme common for light and dark mode */\n",
       "  --sklearn-color-text: black;\n",
       "  --sklearn-color-line: gray;\n",
       "  /* Definition of color scheme for unfitted estimators */\n",
       "  --sklearn-color-unfitted-level-0: #fff5e6;\n",
       "  --sklearn-color-unfitted-level-1: #f6e4d2;\n",
       "  --sklearn-color-unfitted-level-2: #ffe0b3;\n",
       "  --sklearn-color-unfitted-level-3: chocolate;\n",
       "  /* Definition of color scheme for fitted estimators */\n",
       "  --sklearn-color-fitted-level-0: #f0f8ff;\n",
       "  --sklearn-color-fitted-level-1: #d4ebff;\n",
       "  --sklearn-color-fitted-level-2: #b3dbfd;\n",
       "  --sklearn-color-fitted-level-3: cornflowerblue;\n",
       "\n",
       "  /* Specific color for light theme */\n",
       "  --sklearn-color-text-on-default-background: var(--sg-text-color, var(--theme-code-foreground, var(--jp-content-font-color1, black)));\n",
       "  --sklearn-color-background: var(--sg-background-color, var(--theme-background, var(--jp-layout-color0, white)));\n",
       "  --sklearn-color-border-box: var(--sg-text-color, var(--theme-code-foreground, var(--jp-content-font-color1, black)));\n",
       "  --sklearn-color-icon: #696969;\n",
       "\n",
       "  @media (prefers-color-scheme: dark) {\n",
       "    /* Redefinition of color scheme for dark theme */\n",
       "    --sklearn-color-text-on-default-background: var(--sg-text-color, var(--theme-code-foreground, var(--jp-content-font-color1, white)));\n",
       "    --sklearn-color-background: var(--sg-background-color, var(--theme-background, var(--jp-layout-color0, #111)));\n",
       "    --sklearn-color-border-box: var(--sg-text-color, var(--theme-code-foreground, var(--jp-content-font-color1, white)));\n",
       "    --sklearn-color-icon: #878787;\n",
       "  }\n",
       "}\n",
       "\n",
       "#sk-container-id-2 {\n",
       "  color: var(--sklearn-color-text);\n",
       "}\n",
       "\n",
       "#sk-container-id-2 pre {\n",
       "  padding: 0;\n",
       "}\n",
       "\n",
       "#sk-container-id-2 input.sk-hidden--visually {\n",
       "  border: 0;\n",
       "  clip: rect(1px 1px 1px 1px);\n",
       "  clip: rect(1px, 1px, 1px, 1px);\n",
       "  height: 1px;\n",
       "  margin: -1px;\n",
       "  overflow: hidden;\n",
       "  padding: 0;\n",
       "  position: absolute;\n",
       "  width: 1px;\n",
       "}\n",
       "\n",
       "#sk-container-id-2 div.sk-dashed-wrapped {\n",
       "  border: 1px dashed var(--sklearn-color-line);\n",
       "  margin: 0 0.4em 0.5em 0.4em;\n",
       "  box-sizing: border-box;\n",
       "  padding-bottom: 0.4em;\n",
       "  background-color: var(--sklearn-color-background);\n",
       "}\n",
       "\n",
       "#sk-container-id-2 div.sk-container {\n",
       "  /* jupyter's `normalize.less` sets `[hidden] { display: none; }`\n",
       "     but bootstrap.min.css set `[hidden] { display: none !important; }`\n",
       "     so we also need the `!important` here to be able to override the\n",
       "     default hidden behavior on the sphinx rendered scikit-learn.org.\n",
       "     See: https://github.com/scikit-learn/scikit-learn/issues/21755 */\n",
       "  display: inline-block !important;\n",
       "  position: relative;\n",
       "}\n",
       "\n",
       "#sk-container-id-2 div.sk-text-repr-fallback {\n",
       "  display: none;\n",
       "}\n",
       "\n",
       "div.sk-parallel-item,\n",
       "div.sk-serial,\n",
       "div.sk-item {\n",
       "  /* draw centered vertical line to link estimators */\n",
       "  background-image: linear-gradient(var(--sklearn-color-text-on-default-background), var(--sklearn-color-text-on-default-background));\n",
       "  background-size: 2px 100%;\n",
       "  background-repeat: no-repeat;\n",
       "  background-position: center center;\n",
       "}\n",
       "\n",
       "/* Parallel-specific style estimator block */\n",
       "\n",
       "#sk-container-id-2 div.sk-parallel-item::after {\n",
       "  content: \"\";\n",
       "  width: 100%;\n",
       "  border-bottom: 2px solid var(--sklearn-color-text-on-default-background);\n",
       "  flex-grow: 1;\n",
       "}\n",
       "\n",
       "#sk-container-id-2 div.sk-parallel {\n",
       "  display: flex;\n",
       "  align-items: stretch;\n",
       "  justify-content: center;\n",
       "  background-color: var(--sklearn-color-background);\n",
       "  position: relative;\n",
       "}\n",
       "\n",
       "#sk-container-id-2 div.sk-parallel-item {\n",
       "  display: flex;\n",
       "  flex-direction: column;\n",
       "}\n",
       "\n",
       "#sk-container-id-2 div.sk-parallel-item:first-child::after {\n",
       "  align-self: flex-end;\n",
       "  width: 50%;\n",
       "}\n",
       "\n",
       "#sk-container-id-2 div.sk-parallel-item:last-child::after {\n",
       "  align-self: flex-start;\n",
       "  width: 50%;\n",
       "}\n",
       "\n",
       "#sk-container-id-2 div.sk-parallel-item:only-child::after {\n",
       "  width: 0;\n",
       "}\n",
       "\n",
       "/* Serial-specific style estimator block */\n",
       "\n",
       "#sk-container-id-2 div.sk-serial {\n",
       "  display: flex;\n",
       "  flex-direction: column;\n",
       "  align-items: center;\n",
       "  background-color: var(--sklearn-color-background);\n",
       "  padding-right: 1em;\n",
       "  padding-left: 1em;\n",
       "}\n",
       "\n",
       "\n",
       "/* Toggleable style: style used for estimator/Pipeline/ColumnTransformer box that is\n",
       "clickable and can be expanded/collapsed.\n",
       "- Pipeline and ColumnTransformer use this feature and define the default style\n",
       "- Estimators will overwrite some part of the style using the `sk-estimator` class\n",
       "*/\n",
       "\n",
       "/* Pipeline and ColumnTransformer style (default) */\n",
       "\n",
       "#sk-container-id-2 div.sk-toggleable {\n",
       "  /* Default theme specific background. It is overwritten whether we have a\n",
       "  specific estimator or a Pipeline/ColumnTransformer */\n",
       "  background-color: var(--sklearn-color-background);\n",
       "}\n",
       "\n",
       "/* Toggleable label */\n",
       "#sk-container-id-2 label.sk-toggleable__label {\n",
       "  cursor: pointer;\n",
       "  display: block;\n",
       "  width: 100%;\n",
       "  margin-bottom: 0;\n",
       "  padding: 0.5em;\n",
       "  box-sizing: border-box;\n",
       "  text-align: center;\n",
       "}\n",
       "\n",
       "#sk-container-id-2 label.sk-toggleable__label-arrow:before {\n",
       "  /* Arrow on the left of the label */\n",
       "  content: \"▸\";\n",
       "  float: left;\n",
       "  margin-right: 0.25em;\n",
       "  color: var(--sklearn-color-icon);\n",
       "}\n",
       "\n",
       "#sk-container-id-2 label.sk-toggleable__label-arrow:hover:before {\n",
       "  color: var(--sklearn-color-text);\n",
       "}\n",
       "\n",
       "/* Toggleable content - dropdown */\n",
       "\n",
       "#sk-container-id-2 div.sk-toggleable__content {\n",
       "  max-height: 0;\n",
       "  max-width: 0;\n",
       "  overflow: hidden;\n",
       "  text-align: left;\n",
       "  /* unfitted */\n",
       "  background-color: var(--sklearn-color-unfitted-level-0);\n",
       "}\n",
       "\n",
       "#sk-container-id-2 div.sk-toggleable__content.fitted {\n",
       "  /* fitted */\n",
       "  background-color: var(--sklearn-color-fitted-level-0);\n",
       "}\n",
       "\n",
       "#sk-container-id-2 div.sk-toggleable__content pre {\n",
       "  margin: 0.2em;\n",
       "  border-radius: 0.25em;\n",
       "  color: var(--sklearn-color-text);\n",
       "  /* unfitted */\n",
       "  background-color: var(--sklearn-color-unfitted-level-0);\n",
       "}\n",
       "\n",
       "#sk-container-id-2 div.sk-toggleable__content.fitted pre {\n",
       "  /* unfitted */\n",
       "  background-color: var(--sklearn-color-fitted-level-0);\n",
       "}\n",
       "\n",
       "#sk-container-id-2 input.sk-toggleable__control:checked~div.sk-toggleable__content {\n",
       "  /* Expand drop-down */\n",
       "  max-height: 200px;\n",
       "  max-width: 100%;\n",
       "  overflow: auto;\n",
       "}\n",
       "\n",
       "#sk-container-id-2 input.sk-toggleable__control:checked~label.sk-toggleable__label-arrow:before {\n",
       "  content: \"▾\";\n",
       "}\n",
       "\n",
       "/* Pipeline/ColumnTransformer-specific style */\n",
       "\n",
       "#sk-container-id-2 div.sk-label input.sk-toggleable__control:checked~label.sk-toggleable__label {\n",
       "  color: var(--sklearn-color-text);\n",
       "  background-color: var(--sklearn-color-unfitted-level-2);\n",
       "}\n",
       "\n",
       "#sk-container-id-2 div.sk-label.fitted input.sk-toggleable__control:checked~label.sk-toggleable__label {\n",
       "  background-color: var(--sklearn-color-fitted-level-2);\n",
       "}\n",
       "\n",
       "/* Estimator-specific style */\n",
       "\n",
       "/* Colorize estimator box */\n",
       "#sk-container-id-2 div.sk-estimator input.sk-toggleable__control:checked~label.sk-toggleable__label {\n",
       "  /* unfitted */\n",
       "  background-color: var(--sklearn-color-unfitted-level-2);\n",
       "}\n",
       "\n",
       "#sk-container-id-2 div.sk-estimator.fitted input.sk-toggleable__control:checked~label.sk-toggleable__label {\n",
       "  /* fitted */\n",
       "  background-color: var(--sklearn-color-fitted-level-2);\n",
       "}\n",
       "\n",
       "#sk-container-id-2 div.sk-label label.sk-toggleable__label,\n",
       "#sk-container-id-2 div.sk-label label {\n",
       "  /* The background is the default theme color */\n",
       "  color: var(--sklearn-color-text-on-default-background);\n",
       "}\n",
       "\n",
       "/* On hover, darken the color of the background */\n",
       "#sk-container-id-2 div.sk-label:hover label.sk-toggleable__label {\n",
       "  color: var(--sklearn-color-text);\n",
       "  background-color: var(--sklearn-color-unfitted-level-2);\n",
       "}\n",
       "\n",
       "/* Label box, darken color on hover, fitted */\n",
       "#sk-container-id-2 div.sk-label.fitted:hover label.sk-toggleable__label.fitted {\n",
       "  color: var(--sklearn-color-text);\n",
       "  background-color: var(--sklearn-color-fitted-level-2);\n",
       "}\n",
       "\n",
       "/* Estimator label */\n",
       "\n",
       "#sk-container-id-2 div.sk-label label {\n",
       "  font-family: monospace;\n",
       "  font-weight: bold;\n",
       "  display: inline-block;\n",
       "  line-height: 1.2em;\n",
       "}\n",
       "\n",
       "#sk-container-id-2 div.sk-label-container {\n",
       "  text-align: center;\n",
       "}\n",
       "\n",
       "/* Estimator-specific */\n",
       "#sk-container-id-2 div.sk-estimator {\n",
       "  font-family: monospace;\n",
       "  border: 1px dotted var(--sklearn-color-border-box);\n",
       "  border-radius: 0.25em;\n",
       "  box-sizing: border-box;\n",
       "  margin-bottom: 0.5em;\n",
       "  /* unfitted */\n",
       "  background-color: var(--sklearn-color-unfitted-level-0);\n",
       "}\n",
       "\n",
       "#sk-container-id-2 div.sk-estimator.fitted {\n",
       "  /* fitted */\n",
       "  background-color: var(--sklearn-color-fitted-level-0);\n",
       "}\n",
       "\n",
       "/* on hover */\n",
       "#sk-container-id-2 div.sk-estimator:hover {\n",
       "  /* unfitted */\n",
       "  background-color: var(--sklearn-color-unfitted-level-2);\n",
       "}\n",
       "\n",
       "#sk-container-id-2 div.sk-estimator.fitted:hover {\n",
       "  /* fitted */\n",
       "  background-color: var(--sklearn-color-fitted-level-2);\n",
       "}\n",
       "\n",
       "/* Specification for estimator info (e.g. \"i\" and \"?\") */\n",
       "\n",
       "/* Common style for \"i\" and \"?\" */\n",
       "\n",
       ".sk-estimator-doc-link,\n",
       "a:link.sk-estimator-doc-link,\n",
       "a:visited.sk-estimator-doc-link {\n",
       "  float: right;\n",
       "  font-size: smaller;\n",
       "  line-height: 1em;\n",
       "  font-family: monospace;\n",
       "  background-color: var(--sklearn-color-background);\n",
       "  border-radius: 1em;\n",
       "  height: 1em;\n",
       "  width: 1em;\n",
       "  text-decoration: none !important;\n",
       "  margin-left: 1ex;\n",
       "  /* unfitted */\n",
       "  border: var(--sklearn-color-unfitted-level-1) 1pt solid;\n",
       "  color: var(--sklearn-color-unfitted-level-1);\n",
       "}\n",
       "\n",
       ".sk-estimator-doc-link.fitted,\n",
       "a:link.sk-estimator-doc-link.fitted,\n",
       "a:visited.sk-estimator-doc-link.fitted {\n",
       "  /* fitted */\n",
       "  border: var(--sklearn-color-fitted-level-1) 1pt solid;\n",
       "  color: var(--sklearn-color-fitted-level-1);\n",
       "}\n",
       "\n",
       "/* On hover */\n",
       "div.sk-estimator:hover .sk-estimator-doc-link:hover,\n",
       ".sk-estimator-doc-link:hover,\n",
       "div.sk-label-container:hover .sk-estimator-doc-link:hover,\n",
       ".sk-estimator-doc-link:hover {\n",
       "  /* unfitted */\n",
       "  background-color: var(--sklearn-color-unfitted-level-3);\n",
       "  color: var(--sklearn-color-background);\n",
       "  text-decoration: none;\n",
       "}\n",
       "\n",
       "div.sk-estimator.fitted:hover .sk-estimator-doc-link.fitted:hover,\n",
       ".sk-estimator-doc-link.fitted:hover,\n",
       "div.sk-label-container:hover .sk-estimator-doc-link.fitted:hover,\n",
       ".sk-estimator-doc-link.fitted:hover {\n",
       "  /* fitted */\n",
       "  background-color: var(--sklearn-color-fitted-level-3);\n",
       "  color: var(--sklearn-color-background);\n",
       "  text-decoration: none;\n",
       "}\n",
       "\n",
       "/* Span, style for the box shown on hovering the info icon */\n",
       ".sk-estimator-doc-link span {\n",
       "  display: none;\n",
       "  z-index: 9999;\n",
       "  position: relative;\n",
       "  font-weight: normal;\n",
       "  right: .2ex;\n",
       "  padding: .5ex;\n",
       "  margin: .5ex;\n",
       "  width: min-content;\n",
       "  min-width: 20ex;\n",
       "  max-width: 50ex;\n",
       "  color: var(--sklearn-color-text);\n",
       "  box-shadow: 2pt 2pt 4pt #999;\n",
       "  /* unfitted */\n",
       "  background: var(--sklearn-color-unfitted-level-0);\n",
       "  border: .5pt solid var(--sklearn-color-unfitted-level-3);\n",
       "}\n",
       "\n",
       ".sk-estimator-doc-link.fitted span {\n",
       "  /* fitted */\n",
       "  background: var(--sklearn-color-fitted-level-0);\n",
       "  border: var(--sklearn-color-fitted-level-3);\n",
       "}\n",
       "\n",
       ".sk-estimator-doc-link:hover span {\n",
       "  display: block;\n",
       "}\n",
       "\n",
       "/* \"?\"-specific style due to the `<a>` HTML tag */\n",
       "\n",
       "#sk-container-id-2 a.estimator_doc_link {\n",
       "  float: right;\n",
       "  font-size: 1rem;\n",
       "  line-height: 1em;\n",
       "  font-family: monospace;\n",
       "  background-color: var(--sklearn-color-background);\n",
       "  border-radius: 1rem;\n",
       "  height: 1rem;\n",
       "  width: 1rem;\n",
       "  text-decoration: none;\n",
       "  /* unfitted */\n",
       "  color: var(--sklearn-color-unfitted-level-1);\n",
       "  border: var(--sklearn-color-unfitted-level-1) 1pt solid;\n",
       "}\n",
       "\n",
       "#sk-container-id-2 a.estimator_doc_link.fitted {\n",
       "  /* fitted */\n",
       "  border: var(--sklearn-color-fitted-level-1) 1pt solid;\n",
       "  color: var(--sklearn-color-fitted-level-1);\n",
       "}\n",
       "\n",
       "/* On hover */\n",
       "#sk-container-id-2 a.estimator_doc_link:hover {\n",
       "  /* unfitted */\n",
       "  background-color: var(--sklearn-color-unfitted-level-3);\n",
       "  color: var(--sklearn-color-background);\n",
       "  text-decoration: none;\n",
       "}\n",
       "\n",
       "#sk-container-id-2 a.estimator_doc_link.fitted:hover {\n",
       "  /* fitted */\n",
       "  background-color: var(--sklearn-color-fitted-level-3);\n",
       "}\n",
       "</style><div id=\"sk-container-id-2\" class=\"sk-top-container\"><div class=\"sk-text-repr-fallback\"><pre>KMeans(n_clusters=2, n_init=50)</pre><b>In a Jupyter environment, please rerun this cell to show the HTML representation or trust the notebook. <br />On GitHub, the HTML representation is unable to render, please try loading this page with nbviewer.org.</b></div><div class=\"sk-container\" hidden><div class=\"sk-item\"><div class=\"sk-estimator fitted sk-toggleable\"><input class=\"sk-toggleable__control sk-hidden--visually\" id=\"sk-estimator-id-2\" type=\"checkbox\" checked><label for=\"sk-estimator-id-2\" class=\"sk-toggleable__label fitted sk-toggleable__label-arrow fitted\">&nbsp;&nbsp;KMeans<a class=\"sk-estimator-doc-link fitted\" rel=\"noreferrer\" target=\"_blank\" href=\"https://scikit-learn.org/1.4/modules/generated/sklearn.cluster.KMeans.html\">?<span>Documentation for KMeans</span></a><span class=\"sk-estimator-doc-link fitted\">i<span>Fitted</span></span></label><div class=\"sk-toggleable__content fitted\"><pre>KMeans(n_clusters=2, n_init=50)</pre></div> </div></div></div></div>"
      ]
     },
     "execution_count": 306,
     "metadata": {},
     "output_type": "execute_result"
    }
   ],
   "execution_count": 306
  },
  {
   "cell_type": "code",
   "id": "0243bf9e",
   "metadata": {
    "ExecuteTime": {
     "end_time": "2024-05-30T23:36:42.981366Z",
     "start_time": "2024-05-30T23:36:42.961338Z"
    }
   },
   "source": "np.unique(kmeans.labels_, return_counts=True)",
   "outputs": [
    {
     "data": {
      "text/plain": [
       "(array([0, 1]), array([592850, 151624], dtype=int64))"
      ]
     },
     "execution_count": 307,
     "metadata": {},
     "output_type": "execute_result"
    }
   ],
   "execution_count": 307
  },
  {
   "cell_type": "markdown",
   "id": "18c27e0f",
   "metadata": {},
   "source": [
    "#### Visualization of Clusters \n",
    "\n",
    "We visualize the clusters by the method of parallel coordinates."
   ]
  },
  {
   "cell_type": "code",
   "id": "84801c24",
   "metadata": {
    "ExecuteTime": {
     "end_time": "2024-05-30T23:36:43.156625Z",
     "start_time": "2024-05-30T23:36:42.982378Z"
    }
   },
   "source": [
    "centers = kmeans.cluster_centers_\n",
    "\n",
    "plt.figure(figsize=(8, 4))\n",
    "for i in range(0, len(centers)):\n",
    "    plt.plot(centers[i], marker='o', label='Cluster %s' % i)\n",
    "plt.tick_params(axis='both', which='major', labelsize=22)\n",
    "plt.xticks(range(0, len(data.columns)), data.columns, fontsize=8)\n",
    "plt.legend(fontsize=20)\n",
    "plt.show()"
   ],
   "outputs": [
    {
     "data": {
      "text/plain": [
       "<Figure size 800x400 with 1 Axes>"
      ],
      "image/png": "[encoded data removed]"
     },
     "metadata": {},
     "output_type": "display_data"
    }
   ],
   "execution_count": 308
  },
  {
   "cell_type": "markdown",
   "id": "1f218979",
   "metadata": {},
   "source": [
    "The clustering algorithm provides the best separation in correspondence of the ``AGEP``, ``SCHL``, ``ESP`` and ``MIL`` classes. \n",
    "\n",
    "We plot the clusters on some of these subspaces comparing with the target variable."
   ]
  },
  {
   "cell_type": "code",
   "id": "747be09836329e6b",
   "metadata": {
    "ExecuteTime": {
     "end_time": "2024-05-30T23:37:06.716805Z",
     "start_time": "2024-05-30T23:36:43.157633Z"
    }
   },
   "source": [
    "fig, (ax1, ax2) = plt.subplots(1, 2, figsize=(12, 4))\n",
    "\n",
    "\n",
    "ax1.scatter(data['AGEP'], data['MIL'], \n",
    "           c=kmeans.labels_, s=20)\n",
    "ax1.tick_params(axis='both', which='major', labelsize=10)\n",
    "ax1.set_xlabel('AGEP', fontsize=12)\n",
    "ax1.set_ylabel('MIL', fontsize=12)\n",
    "ax1.set_title('K-Means Clustering', fontsize=14)\n",
    "\n",
    "ax2.scatter(data['AGEP'], data['MIL'], \n",
    "           c=data_target, s=20)\n",
    "ax2.tick_params(axis='both', which='major', labelsize=10)\n",
    "ax2.set_xlabel('AGEP', fontsize=12)\n",
    "ax2.set_ylabel('MIL', fontsize=12)\n",
    "ax2.set_title('Ground Truth', fontsize=14)\n",
    "\n",
    "plt.show()"
   ],
   "outputs": [
    {
     "data": {
      "text/plain": [
       "<Figure size 1200x400 with 2 Axes>"
      ],
      "image/png": "[encoded data removed]"
     },
     "metadata": {},
     "output_type": "display_data"
    }
   ],
   "execution_count": 309
  },
  {
   "metadata": {
    "ExecuteTime": {
     "end_time": "2024-05-30T23:37:29.984187Z",
     "start_time": "2024-05-30T23:37:06.717816Z"
    }
   },
   "cell_type": "code",
   "source": [
    "fig, (ax1, ax2) = plt.subplots(1, 2, figsize=(12, 4))\n",
    "\n",
    "\n",
    "ax1.scatter(data['ESP'], data['SCHL'], \n",
    "           c=kmeans.labels_, s=20)\n",
    "ax1.tick_params(axis='both', which='major', labelsize=10)\n",
    "ax1.set_xlabel('ESP', fontsize=12)\n",
    "ax1.set_ylabel('SCHL', fontsize=12)\n",
    "ax1.set_title('K-Means Clustering', fontsize=14)\n",
    "\n",
    "ax2.scatter(data['ESP'], data['SCHL'], \n",
    "           c=data_target, s=20)\n",
    "ax2.tick_params(axis='both', which='major', labelsize=10)\n",
    "ax2.set_xlabel('ESP', fontsize=12)\n",
    "ax2.set_ylabel('SCHL', fontsize=12)\n",
    "ax2.set_title('Ground Truth', fontsize=14)\n",
    "\n",
    "plt.show()"
   ],
   "id": "72df6602d0042d18",
   "outputs": [
    {
     "data": {
      "text/plain": [
       "<Figure size 1200x400 with 2 Axes>"
      ],
      "image/png": "[encoded data removed]"
     },
     "metadata": {},
     "output_type": "display_data"
    }
   ],
   "execution_count": 310
  },
  {
   "metadata": {},
   "cell_type": "markdown",
   "source": [
    "We already note that the algorithm does not capture the ground truth correctly.\n",
    "\n",
    "We visualize the clusters with a spider plot."
   ],
   "id": "5c113518d6ed6cd0"
  },
  {
   "cell_type": "code",
   "id": "fcf49b1f",
   "metadata": {
    "ExecuteTime": {
     "end_time": "2024-05-30T23:37:30.413086Z",
     "start_time": "2024-05-30T23:37:29.985194Z"
    }
   },
   "source": [
    "from math import pi\n",
    " \n",
    "N = len(data.columns)\n",
    "\n",
    "for i in range(0, len(centers)):\n",
    "    angles = [n / float(N) * 2 * pi for n in range(N)]\n",
    "    values = centers[i].tolist()\n",
    "    values += values[:1]\n",
    "    angles += angles[:1]\n",
    "    ax = plt.subplot(polar=True)\n",
    "    plt.xticks(angles[:-1], data.columns, color='grey', size=8) \n",
    "    ax.plot(angles, values, linewidth=1, linestyle='solid')\n",
    "    ax.fill(angles, values, 'b', alpha=0.1)\n"
   ],
   "outputs": [
    {
     "data": {
      "text/plain": [
       "<Figure size 640x480 with 1 Axes>"
      ],
      "image/png": "[encoded data removed]"
     },
     "metadata": {},
     "output_type": "display_data"
    }
   ],
   "execution_count": 311
  },
  {
   "cell_type": "markdown",
   "id": "5561d9c41b59b3e2",
   "metadata": {},
   "source": [
    "#### Sound evaluation\n",
    "\n",
    "We evaluate the clusters with internal evaluation metrics."
   ]
  },
  {
   "cell_type": "code",
   "id": "ee0052a1e8480b82",
   "metadata": {
    "ExecuteTime": {
     "end_time": "2024-05-30T23:37:36.162553Z",
     "start_time": "2024-05-30T23:37:30.414095Z"
    }
   },
   "source": [
    "print('SSE = %.0f' % kmeans.inertia_)\n",
    "print('Separation = %.2f' % metrics.davies_bouldin_score(data_scaled, kmeans.labels_))\n",
    "#sample subset of data to compute silhouette for computational reasons\n",
    "N=20000\n",
    "indices = np.random.choice(len(data_scaled), size=N, replace=False)\n",
    "data_scaled_random = data_scaled[indices]\n",
    "kmeans.labels_random = kmeans.labels_[indices]\n",
    "print('Silhouette %.3f' % metrics.silhouette_score(data_scaled_random, kmeans.labels_random))"
   ],
   "outputs": [
    {
     "name": "stdout",
     "output_type": "stream",
     "text": [
      "SSE = 8925831\n",
      "Separation = 1.48\n",
      "Silhouette 0.277\n"
     ]
    }
   ],
   "execution_count": 312
  },
  {
   "metadata": {},
   "cell_type": "markdown",
   "source": "And with external ones.",
   "id": "1f7ba39eea4df98b"
  },
  {
   "metadata": {
    "ExecuteTime": {
     "end_time": "2024-05-30T23:37:36.842414Z",
     "start_time": "2024-05-30T23:37:36.164568Z"
    }
   },
   "cell_type": "code",
   "source": [
    "print('Rand score = %.2f' % metrics.adjusted_rand_score(data_target, kmeans.labels_))\n",
    "print('Homogeneity score = %.2f' % metrics.homogeneity_score(data_target, kmeans.labels_)) \n",
    "print('Completeness score = %.2f' % metrics.completeness_score(data_target, kmeans.labels_))\n",
    "print('Harmonic mean between completeness and homogeneity = %.2f' % metrics.v_measure_score(data_target, kmeans.labels_, beta=2))"
   ],
   "id": "66feea8412ce266",
   "outputs": [
    {
     "name": "stdout",
     "output_type": "stream",
     "text": [
      "Rand score = 0.09\n",
      "Homogeneity score = 0.19\n",
      "Completeness score = 0.26\n",
      "Harmonic mean between completeness and homogeneity = 0.23\n"
     ]
    }
   ],
   "execution_count": 313
  },
  {
   "metadata": {},
   "cell_type": "markdown",
   "source": "Now we compute the confusion matrix.",
   "id": "5b9b707e30c7954e"
  },
  {
   "metadata": {
    "ExecuteTime": {
     "end_time": "2024-05-30T23:37:36.966198Z",
     "start_time": "2024-05-30T23:37:36.843424Z"
    }
   },
   "cell_type": "code",
   "source": "metrics.confusion_matrix(data_target, kmeans.labels_)",
   "id": "a2f6430cd19c53fc",
   "outputs": [
    {
     "data": {
      "text/plain": [
       "array([[257164, 150043],\n",
       "       [335686,   1581]], dtype=int64)"
      ]
     },
     "execution_count": 314,
     "metadata": {},
     "output_type": "execute_result"
    }
   ],
   "execution_count": 314
  },
  {
   "metadata": {},
   "cell_type": "markdown",
   "source": "",
   "id": "3057f72d6912ef2b"
  },
  {
   "metadata": {},
   "cell_type": "markdown",
   "source": "This metrics confirm that the algorithm does not classify correctly the target variable.",
   "id": "60d968238f744868"
  },
  {
   "metadata": {},
   "cell_type": "markdown",
   "source": [
    "\n",
    "#### Parameter Tuning"
   ],
   "id": "e484be8ec04b4e90"
  },
  {
   "metadata": {},
   "cell_type": "markdown",
   "source": "Now we evaluate the SSE for different ``n_clusters`` values in order to find the optimal number of ``n_clusters``.",
   "id": "8622908cfe852253"
  },
  {
   "metadata": {
    "ExecuteTime": {
     "end_time": "2024-05-30T23:41:30.903296Z",
     "start_time": "2024-05-30T23:37:36.967205Z"
    }
   },
   "cell_type": "code",
   "source": [
    "sse_list = list()\n",
    "max_k = 25\n",
    "for k in range(2, max_k + 1):\n",
    "    kmeans = KMeans(n_clusters=k, n_init=10, max_iter=300)\n",
    "    kmeans.fit(data_scaled)\n",
    "    \n",
    "    sse = kmeans.inertia_\n",
    "    sse_list.append(sse)"
   ],
   "id": "87b9008a908831cb",
   "outputs": [],
   "execution_count": 315
  },
  {
   "metadata": {},
   "cell_type": "markdown",
   "source": "",
   "id": "e99e475f577eb0a4"
  },
  {
   "cell_type": "code",
   "id": "6a08c541209377a6",
   "metadata": {
    "ExecuteTime": {
     "end_time": "2024-05-30T23:41:31.095723Z",
     "start_time": "2024-05-30T23:41:30.904304Z"
    }
   },
   "source": [
    "plt.plot(range(2, len(sse_list) + 2), sse_list, 'o--')\n",
    "plt.ylabel('SSE', fontsize=22)\n",
    "plt.xlabel('K', fontsize=22)\n",
    "plt.tick_params(axis='both', which='major', labelsize=10)\n",
    "plt.xticks([2,3,4,5,6,7,8,9,10,11,12,13,14,15,16,17,18,19,20,21,22,23,24,25])\n",
    "plt.show()"
   ],
   "outputs": [
    {
     "data": {
      "text/plain": [
       "<Figure size 640x480 with 1 Axes>"
      ],
      "image/png": "[encoded data removed]"
     },
     "metadata": {},
     "output_type": "display_data"
    }
   ],
   "execution_count": 316
  },
  {
   "metadata": {},
   "cell_type": "markdown",
   "source": "For a better visualization, let us display the differences between adjacent values of SSE.",
   "id": "e5a59f27ec9e3b37"
  },
  {
   "cell_type": "code",
   "id": "df000c3e-dcd1-4c69-90b3-b7fbc9590924",
   "metadata": {
    "ExecuteTime": {
     "end_time": "2024-05-30T23:41:31.463911Z",
     "start_time": "2024-05-30T23:41:31.096733Z"
    }
   },
   "source": [
    "diff = []\n",
    "for i in range(len(sse_list)-1):\n",
    "    diff.append(-sse_list[i+1]+sse_list[i])\n",
    "plt.plot(range(2, len(sse_list) + 1), diff, 'o--')\n",
    "plt.ylabel(r'$\\Delta$ SSE', fontsize=22)\n",
    "plt.xlabel('K', fontsize=22)\n",
    "plt.tick_params(axis='both', which='major', labelsize=10)\n",
    "plt.xticks([2,3,4,5,6,7,8,9,10,11,12,13,14,15,16,17,18,19,20,21,22,23,24])\n",
    "plt.show()"
   ],
   "outputs": [
    {
     "data": {
      "text/plain": [
       "<Figure size 640x480 with 1 Axes>"
      ],
      "image/png": "[encoded data removed]"
     },
     "metadata": {},
     "output_type": "display_data"
    }
   ],
   "execution_count": 317
  },
  {
   "cell_type": "markdown",
   "id": "82ef44ffa08aad6f",
   "metadata": {},
   "source": [
    "Around k=15, the differences stabilize to zero, which shows that that is the optimal ``n_clusters``. \n",
    "However, looking for 15 clusters is not meaningful since our target variable is boolean."
   ]
  },
  {
   "metadata": {},
   "cell_type": "markdown",
   "source": [
    "### Hierirchical clustering\n",
    "\n",
    "The second Clustering method we test is Hierarchical clustering."
   ],
   "id": "ca8fd4877503118e"
  },
  {
   "cell_type": "code",
   "id": "554e5565-af92-4909-8345-99fd5976c61e",
   "metadata": {
    "ExecuteTime": {
     "end_time": "2024-05-30T23:41:31.527194Z",
     "start_time": "2024-05-30T23:41:31.464922Z"
    }
   },
   "source": [
    "from scipy.spatial.distance import pdist\n",
    "from scipy.cluster.hierarchy import linkage, dendrogram, cut_tree\n",
    "\n",
    "#sample subset of data to compute silhouette for computational reasons\n",
    "N = 10000\n",
    "data['ESR'] = data_target  \n",
    "data_random = data.sample(N)\n",
    "data_random_target = data_random['ESR']\n",
    "data_random.drop('ESR', axis=1)\n",
    "scaler.fit(data_random.values)\n",
    "data_random_scaled=scaler.transform(data_random.values)"
   ],
   "outputs": [],
   "execution_count": 318
  },
  {
   "cell_type": "code",
   "id": "bf4d948e-05a5-4c6e-a780-51cb036e53a4",
   "metadata": {
    "ExecuteTime": {
     "end_time": "2024-05-30T23:41:37.117249Z",
     "start_time": "2024-05-30T23:41:31.528207Z"
    }
   },
   "source": [
    "data_dist = pdist(data_random_scaled, metric='euclidean')\n",
    "data_link = linkage(data_dist, method='complete', metric='euclidean')\n",
    "res = dendrogram(data_link, color_threshold=0.1, truncate_mode='lastp')\n",
    "clusters = cut_tree(data_link, n_clusters=2).flatten()"
   ],
   "outputs": [
    {
     "data": {
      "text/plain": [
       "<Figure size 640x480 with 1 Axes>"
      ],
      "image/png": "[encoded data removed]"
     },
     "metadata": {},
     "output_type": "display_data"
    }
   ],
   "execution_count": 319
  },
  {
   "cell_type": "markdown",
   "id": "d5521be218009054",
   "metadata": {},
   "source": [
    "#### Sound evaluation\n",
    "\n",
    "We evaluate the clusters with internal evaluation metrics, cutting at the two-branches level."
   ]
  },
  {
   "metadata": {
    "ExecuteTime": {
     "end_time": "2024-05-30T23:41:39.184319Z",
     "start_time": "2024-05-30T23:41:37.118259Z"
    }
   },
   "cell_type": "code",
   "source": [
    "print('Separation = %.2f' % metrics.davies_bouldin_score(data_random_scaled, clusters))\n",
    "print('Silhouette %.3f' % metrics.silhouette_score(data_random_scaled, clusters))"
   ],
   "id": "99d1deae2d40d2c",
   "outputs": [
    {
     "name": "stdout",
     "output_type": "stream",
     "text": [
      "Separation = 1.19\n",
      "Silhouette 0.391\n"
     ]
    }
   ],
   "execution_count": 320
  },
  {
   "metadata": {},
   "cell_type": "markdown",
   "source": "And with external ones.",
   "id": "7f1be3a4308adcce"
  },
  {
   "metadata": {
    "ExecuteTime": {
     "end_time": "2024-05-30T23:41:39.205459Z",
     "start_time": "2024-05-30T23:41:39.186327Z"
    }
   },
   "cell_type": "code",
   "source": [
    "print('Rand score = %f' % metrics.adjusted_rand_score(data_random_target, clusters))\n",
    "print('Homogeneity score = %f' % metrics.homogeneity_score(data_random_target, clusters)) \n",
    "print('Completeness score = %f' % metrics.completeness_score(data_random_target, clusters))\n",
    "print('Harmonic mean between completeness and homogeneity = %f' % metrics.v_measure_score(data_random_target, clusters, beta=2))"
   ],
   "id": "e9c1a2eb5be93ff6",
   "outputs": [
    {
     "name": "stdout",
     "output_type": "stream",
     "text": [
      "Rand score = -0.004094\n",
      "Homogeneity score = 0.005294\n",
      "Completeness score = 0.025097\n",
      "Harmonic mean between completeness and homogeneity = 0.011169\n"
     ]
    }
   ],
   "execution_count": 321
  },
  {
   "metadata": {},
   "cell_type": "markdown",
   "source": "Now we compute the confusion matrix.",
   "id": "77ee7599e235d294"
  },
  {
   "cell_type": "code",
   "id": "edb9300c-4ee7-4cd9-bf46-eb1b4ec7609c",
   "metadata": {
    "ExecuteTime": {
     "end_time": "2024-05-30T23:41:39.216275Z",
     "start_time": "2024-05-30T23:41:39.206468Z"
    }
   },
   "source": "metrics.confusion_matrix(data_random_target, clusters)",
   "outputs": [
    {
     "data": {
      "text/plain": [
       "array([[5193,  254],\n",
       "       [4476,   77]], dtype=int64)"
      ]
     },
     "execution_count": 322,
     "metadata": {},
     "output_type": "execute_result"
    }
   ],
   "execution_count": 322
  },
  {
   "metadata": {},
   "cell_type": "markdown",
   "source": "We conclude that Hierarchical clustering cannot cluster correctly our data with respect to our target variable.",
   "id": "f6362b619c12350b"
  },
  {
   "metadata": {},
   "cell_type": "markdown",
   "source": [
    "## DBSCAN\n",
    "\n",
    "FALLO!!!"
   ],
   "id": "e151ede9727333f7"
  },
  {
   "cell_type": "markdown",
   "id": "03ddf945",
   "metadata": {},
   "source": [
    "## 3) Classification"
   ]
  },
  {
   "cell_type": "markdown",
   "id": "40f9d0e6",
   "metadata": {},
   "source": [
    "### Decision Tree"
   ]
  },
  {
   "cell_type": "code",
   "id": "ae09057d-3855-4624-874f-c0ec2d94d4fe",
   "metadata": {
    "ExecuteTime": {
     "end_time": "2024-05-30T23:41:39.222902Z",
     "start_time": "2024-05-30T23:41:39.217292Z"
    }
   },
   "source": [
    "from sklearn.tree import DecisionTreeClassifier\n",
    "from sklearn.model_selection import train_test_split\n",
    "from sklearn.metrics import confusion_matrix\n",
    "from sklearn.metrics import accuracy_score, f1_score, classification_report"
   ],
   "outputs": [],
   "execution_count": 323
  },
  {
   "cell_type": "markdown",
   "id": "d0ef89d3",
   "metadata": {},
   "source": [
    "Add the target variable"
   ]
  },
  {
   "cell_type": "code",
   "id": "c6f440c5",
   "metadata": {
    "ExecuteTime": {
     "end_time": "2024-05-30T23:41:39.254570Z",
     "start_time": "2024-05-30T23:41:39.224913Z"
    }
   },
   "source": [
    "data['ESR']=data_target\n",
    "data.head()"
   ],
   "outputs": [
    {
     "data": {
      "text/plain": [
       "   AGEP  SCHL  MAR  RELP  DIS  ESP  CIT  MIG  MIL  ANC  NATIVITY  DEAR  DEYE  \\\n",
       "0  21.0  16.0  5.0  17.0  2.0  0.0  1.0  1.0  4.0  1.0       0.0   2.0   2.0   \n",
       "1  19.0  16.0  5.0  17.0  2.0  0.0  1.0  1.0  4.0  1.0       0.0   2.0   2.0   \n",
       "2  24.0  12.0  5.0  16.0  1.0  0.0  1.0  1.0  4.0  1.0       0.0   2.0   2.0   \n",
       "3  20.0  16.0  5.0  17.0  2.0  0.0  1.0  1.0  3.0  1.0       0.0   2.0   2.0   \n",
       "4  31.0  17.0  5.0  17.0  2.0  0.0  1.0  3.0  4.0  4.0       0.0   2.0   2.0   \n",
       "\n",
       "   DREM  SEX  ESR  \n",
       "0   2.0  2.0    1  \n",
       "1   2.0  2.0    0  \n",
       "2   1.0  1.0    0  \n",
       "3   2.0  2.0    1  \n",
       "4   2.0  1.0    1  "
      ],
      "text/html": [
       "<div>\n",
       "<style scoped>\n",
       "    .dataframe tbody tr th:only-of-type {\n",
       "        vertical-align: middle;\n",
       "    }\n",
       "\n",
       "    .dataframe tbody tr th {\n",
       "        vertical-align: top;\n",
       "    }\n",
       "\n",
       "    .dataframe thead th {\n",
       "        text-align: right;\n",
       "    }\n",
       "</style>\n",
       "<table border=\"1\" class=\"dataframe\">\n",
       "  <thead>\n",
       "    <tr style=\"text-align: right;\">\n",
       "      <th></th>\n",
       "      <th>AGEP</th>\n",
       "      <th>SCHL</th>\n",
       "      <th>MAR</th>\n",
       "      <th>RELP</th>\n",
       "      <th>DIS</th>\n",
       "      <th>ESP</th>\n",
       "      <th>CIT</th>\n",
       "      <th>MIG</th>\n",
       "      <th>MIL</th>\n",
       "      <th>ANC</th>\n",
       "      <th>NATIVITY</th>\n",
       "      <th>DEAR</th>\n",
       "      <th>DEYE</th>\n",
       "      <th>DREM</th>\n",
       "      <th>SEX</th>\n",
       "      <th>ESR</th>\n",
       "    </tr>\n",
       "  </thead>\n",
       "  <tbody>\n",
       "    <tr>\n",
       "      <th>0</th>\n",
       "      <td>21.0</td>\n",
       "      <td>16.0</td>\n",
       "      <td>5.0</td>\n",
       "      <td>17.0</td>\n",
       "      <td>2.0</td>\n",
       "      <td>0.0</td>\n",
       "      <td>1.0</td>\n",
       "      <td>1.0</td>\n",
       "      <td>4.0</td>\n",
       "      <td>1.0</td>\n",
       "      <td>0.0</td>\n",
       "      <td>2.0</td>\n",
       "      <td>2.0</td>\n",
       "      <td>2.0</td>\n",
       "      <td>2.0</td>\n",
       "      <td>1</td>\n",
       "    </tr>\n",
       "    <tr>\n",
       "      <th>1</th>\n",
       "      <td>19.0</td>\n",
       "      <td>16.0</td>\n",
       "      <td>5.0</td>\n",
       "      <td>17.0</td>\n",
       "      <td>2.0</td>\n",
       "      <td>0.0</td>\n",
       "      <td>1.0</td>\n",
       "      <td>1.0</td>\n",
       "      <td>4.0</td>\n",
       "      <td>1.0</td>\n",
       "      <td>0.0</td>\n",
       "      <td>2.0</td>\n",
       "      <td>2.0</td>\n",
       "      <td>2.0</td>\n",
       "      <td>2.0</td>\n",
       "      <td>0</td>\n",
       "    </tr>\n",
       "    <tr>\n",
       "      <th>2</th>\n",
       "      <td>24.0</td>\n",
       "      <td>12.0</td>\n",
       "      <td>5.0</td>\n",
       "      <td>16.0</td>\n",
       "      <td>1.0</td>\n",
       "      <td>0.0</td>\n",
       "      <td>1.0</td>\n",
       "      <td>1.0</td>\n",
       "      <td>4.0</td>\n",
       "      <td>1.0</td>\n",
       "      <td>0.0</td>\n",
       "      <td>2.0</td>\n",
       "      <td>2.0</td>\n",
       "      <td>1.0</td>\n",
       "      <td>1.0</td>\n",
       "      <td>0</td>\n",
       "    </tr>\n",
       "    <tr>\n",
       "      <th>3</th>\n",
       "      <td>20.0</td>\n",
       "      <td>16.0</td>\n",
       "      <td>5.0</td>\n",
       "      <td>17.0</td>\n",
       "      <td>2.0</td>\n",
       "      <td>0.0</td>\n",
       "      <td>1.0</td>\n",
       "      <td>1.0</td>\n",
       "      <td>3.0</td>\n",
       "      <td>1.0</td>\n",
       "      <td>0.0</td>\n",
       "      <td>2.0</td>\n",
       "      <td>2.0</td>\n",
       "      <td>2.0</td>\n",
       "      <td>2.0</td>\n",
       "      <td>1</td>\n",
       "    </tr>\n",
       "    <tr>\n",
       "      <th>4</th>\n",
       "      <td>31.0</td>\n",
       "      <td>17.0</td>\n",
       "      <td>5.0</td>\n",
       "      <td>17.0</td>\n",
       "      <td>2.0</td>\n",
       "      <td>0.0</td>\n",
       "      <td>1.0</td>\n",
       "      <td>3.0</td>\n",
       "      <td>4.0</td>\n",
       "      <td>4.0</td>\n",
       "      <td>0.0</td>\n",
       "      <td>2.0</td>\n",
       "      <td>2.0</td>\n",
       "      <td>2.0</td>\n",
       "      <td>1.0</td>\n",
       "      <td>1</td>\n",
       "    </tr>\n",
       "  </tbody>\n",
       "</table>\n",
       "</div>"
      ]
     },
     "execution_count": 324,
     "metadata": {},
     "output_type": "execute_result"
    }
   ],
   "execution_count": 324
  },
  {
   "cell_type": "markdown",
   "id": "ff15211f",
   "metadata": {},
   "source": [
    "prepare decision tree"
   ]
  },
  {
   "cell_type": "code",
   "id": "a15a68b1",
   "metadata": {
    "ExecuteTime": {
     "end_time": "2024-05-30T23:41:39.338405Z",
     "start_time": "2024-05-30T23:41:39.255584Z"
    }
   },
   "source": [
    "predictors = [col for col in data.columns if col != 'ESR']\n",
    "X = data[predictors].values\n",
    "y = data['ESR']"
   ],
   "outputs": [],
   "execution_count": 325
  },
  {
   "cell_type": "markdown",
   "id": "3b45d72b",
   "metadata": {},
   "source": [
    "Split in training and test"
   ]
  },
  {
   "cell_type": "code",
   "id": "b12b725d",
   "metadata": {
    "ExecuteTime": {
     "end_time": "2024-05-30T23:41:39.818122Z",
     "start_time": "2024-05-30T23:41:39.339415Z"
    }
   },
   "source": [
    "X_train, X_test, y_train, y_test = train_test_split(X, y, \n",
    "                                                    test_size=0.3, \n",
    "                                                    random_state=100, \n",
    "                                                    stratify=y)"
   ],
   "outputs": [],
   "execution_count": 326
  },
  {
   "cell_type": "markdown",
   "id": "8fbd43f4",
   "metadata": {},
   "source": [
    "Build decision tree"
   ]
  },
  {
   "cell_type": "code",
   "id": "ba6b7814",
   "metadata": {
    "ExecuteTime": {
     "end_time": "2024-05-30T23:41:42.185589Z",
     "start_time": "2024-05-30T23:41:39.819130Z"
    }
   },
   "source": [
    "clf = DecisionTreeClassifier(criterion='gini', max_depth=None, \n",
    "                             min_samples_split=2, min_samples_leaf=1)\n",
    "clf.fit(X_train, y_train)"
   ],
   "outputs": [
    {
     "data": {
      "text/plain": [
       "DecisionTreeClassifier()"
      ],
      "text/html": [
       "<style>#sk-container-id-3 {\n",
       "  /* Definition of color scheme common for light and dark mode */\n",
       "  --sklearn-color-text: black;\n",
       "  --sklearn-color-line: gray;\n",
       "  /* Definition of color scheme for unfitted estimators */\n",
       "  --sklearn-color-unfitted-level-0: #fff5e6;\n",
       "  --sklearn-color-unfitted-level-1: #f6e4d2;\n",
       "  --sklearn-color-unfitted-level-2: #ffe0b3;\n",
       "  --sklearn-color-unfitted-level-3: chocolate;\n",
       "  /* Definition of color scheme for fitted estimators */\n",
       "  --sklearn-color-fitted-level-0: #f0f8ff;\n",
       "  --sklearn-color-fitted-level-1: #d4ebff;\n",
       "  --sklearn-color-fitted-level-2: #b3dbfd;\n",
       "  --sklearn-color-fitted-level-3: cornflowerblue;\n",
       "\n",
       "  /* Specific color for light theme */\n",
       "  --sklearn-color-text-on-default-background: var(--sg-text-color, var(--theme-code-foreground, var(--jp-content-font-color1, black)));\n",
       "  --sklearn-color-background: var(--sg-background-color, var(--theme-background, var(--jp-layout-color0, white)));\n",
       "  --sklearn-color-border-box: var(--sg-text-color, var(--theme-code-foreground, var(--jp-content-font-color1, black)));\n",
       "  --sklearn-color-icon: #696969;\n",
       "\n",
       "  @media (prefers-color-scheme: dark) {\n",
       "    /* Redefinition of color scheme for dark theme */\n",
       "    --sklearn-color-text-on-default-background: var(--sg-text-color, var(--theme-code-foreground, var(--jp-content-font-color1, white)));\n",
       "    --sklearn-color-background: var(--sg-background-color, var(--theme-background, var(--jp-layout-color0, #111)));\n",
       "    --sklearn-color-border-box: var(--sg-text-color, var(--theme-code-foreground, var(--jp-content-font-color1, white)));\n",
       "    --sklearn-color-icon: #878787;\n",
       "  }\n",
       "}\n",
       "\n",
       "#sk-container-id-3 {\n",
       "  color: var(--sklearn-color-text);\n",
       "}\n",
       "\n",
       "#sk-container-id-3 pre {\n",
       "  padding: 0;\n",
       "}\n",
       "\n",
       "#sk-container-id-3 input.sk-hidden--visually {\n",
       "  border: 0;\n",
       "  clip: rect(1px 1px 1px 1px);\n",
       "  clip: rect(1px, 1px, 1px, 1px);\n",
       "  height: 1px;\n",
       "  margin: -1px;\n",
       "  overflow: hidden;\n",
       "  padding: 0;\n",
       "  position: absolute;\n",
       "  width: 1px;\n",
       "}\n",
       "\n",
       "#sk-container-id-3 div.sk-dashed-wrapped {\n",
       "  border: 1px dashed var(--sklearn-color-line);\n",
       "  margin: 0 0.4em 0.5em 0.4em;\n",
       "  box-sizing: border-box;\n",
       "  padding-bottom: 0.4em;\n",
       "  background-color: var(--sklearn-color-background);\n",
       "}\n",
       "\n",
       "#sk-container-id-3 div.sk-container {\n",
       "  /* jupyter's `normalize.less` sets `[hidden] { display: none; }`\n",
       "     but bootstrap.min.css set `[hidden] { display: none !important; }`\n",
       "     so we also need the `!important` here to be able to override the\n",
       "     default hidden behavior on the sphinx rendered scikit-learn.org.\n",
       "     See: https://github.com/scikit-learn/scikit-learn/issues/21755 */\n",
       "  display: inline-block !important;\n",
       "  position: relative;\n",
       "}\n",
       "\n",
       "#sk-container-id-3 div.sk-text-repr-fallback {\n",
       "  display: none;\n",
       "}\n",
       "\n",
       "div.sk-parallel-item,\n",
       "div.sk-serial,\n",
       "div.sk-item {\n",
       "  /* draw centered vertical line to link estimators */\n",
       "  background-image: linear-gradient(var(--sklearn-color-text-on-default-background), var(--sklearn-color-text-on-default-background));\n",
       "  background-size: 2px 100%;\n",
       "  background-repeat: no-repeat;\n",
       "  background-position: center center;\n",
       "}\n",
       "\n",
       "/* Parallel-specific style estimator block */\n",
       "\n",
       "#sk-container-id-3 div.sk-parallel-item::after {\n",
       "  content: \"\";\n",
       "  width: 100%;\n",
       "  border-bottom: 2px solid var(--sklearn-color-text-on-default-background);\n",
       "  flex-grow: 1;\n",
       "}\n",
       "\n",
       "#sk-container-id-3 div.sk-parallel {\n",
       "  display: flex;\n",
       "  align-items: stretch;\n",
       "  justify-content: center;\n",
       "  background-color: var(--sklearn-color-background);\n",
       "  position: relative;\n",
       "}\n",
       "\n",
       "#sk-container-id-3 div.sk-parallel-item {\n",
       "  display: flex;\n",
       "  flex-direction: column;\n",
       "}\n",
       "\n",
       "#sk-container-id-3 div.sk-parallel-item:first-child::after {\n",
       "  align-self: flex-end;\n",
       "  width: 50%;\n",
       "}\n",
       "\n",
       "#sk-container-id-3 div.sk-parallel-item:last-child::after {\n",
       "  align-self: flex-start;\n",
       "  width: 50%;\n",
       "}\n",
       "\n",
       "#sk-container-id-3 div.sk-parallel-item:only-child::after {\n",
       "  width: 0;\n",
       "}\n",
       "\n",
       "/* Serial-specific style estimator block */\n",
       "\n",
       "#sk-container-id-3 div.sk-serial {\n",
       "  display: flex;\n",
       "  flex-direction: column;\n",
       "  align-items: center;\n",
       "  background-color: var(--sklearn-color-background);\n",
       "  padding-right: 1em;\n",
       "  padding-left: 1em;\n",
       "}\n",
       "\n",
       "\n",
       "/* Toggleable style: style used for estimator/Pipeline/ColumnTransformer box that is\n",
       "clickable and can be expanded/collapsed.\n",
       "- Pipeline and ColumnTransformer use this feature and define the default style\n",
       "- Estimators will overwrite some part of the style using the `sk-estimator` class\n",
       "*/\n",
       "\n",
       "/* Pipeline and ColumnTransformer style (default) */\n",
       "\n",
       "#sk-container-id-3 div.sk-toggleable {\n",
       "  /* Default theme specific background. It is overwritten whether we have a\n",
       "  specific estimator or a Pipeline/ColumnTransformer */\n",
       "  background-color: var(--sklearn-color-background);\n",
       "}\n",
       "\n",
       "/* Toggleable label */\n",
       "#sk-container-id-3 label.sk-toggleable__label {\n",
       "  cursor: pointer;\n",
       "  display: block;\n",
       "  width: 100%;\n",
       "  margin-bottom: 0;\n",
       "  padding: 0.5em;\n",
       "  box-sizing: border-box;\n",
       "  text-align: center;\n",
       "}\n",
       "\n",
       "#sk-container-id-3 label.sk-toggleable__label-arrow:before {\n",
       "  /* Arrow on the left of the label */\n",
       "  content: \"▸\";\n",
       "  float: left;\n",
       "  margin-right: 0.25em;\n",
       "  color: var(--sklearn-color-icon);\n",
       "}\n",
       "\n",
       "#sk-container-id-3 label.sk-toggleable__label-arrow:hover:before {\n",
       "  color: var(--sklearn-color-text);\n",
       "}\n",
       "\n",
       "/* Toggleable content - dropdown */\n",
       "\n",
       "#sk-container-id-3 div.sk-toggleable__content {\n",
       "  max-height: 0;\n",
       "  max-width: 0;\n",
       "  overflow: hidden;\n",
       "  text-align: left;\n",
       "  /* unfitted */\n",
       "  background-color: var(--sklearn-color-unfitted-level-0);\n",
       "}\n",
       "\n",
       "#sk-container-id-3 div.sk-toggleable__content.fitted {\n",
       "  /* fitted */\n",
       "  background-color: var(--sklearn-color-fitted-level-0);\n",
       "}\n",
       "\n",
       "#sk-container-id-3 div.sk-toggleable__content pre {\n",
       "  margin: 0.2em;\n",
       "  border-radius: 0.25em;\n",
       "  color: var(--sklearn-color-text);\n",
       "  /* unfitted */\n",
       "  background-color: var(--sklearn-color-unfitted-level-0);\n",
       "}\n",
       "\n",
       "#sk-container-id-3 div.sk-toggleable__content.fitted pre {\n",
       "  /* unfitted */\n",
       "  background-color: var(--sklearn-color-fitted-level-0);\n",
       "}\n",
       "\n",
       "#sk-container-id-3 input.sk-toggleable__control:checked~div.sk-toggleable__content {\n",
       "  /* Expand drop-down */\n",
       "  max-height: 200px;\n",
       "  max-width: 100%;\n",
       "  overflow: auto;\n",
       "}\n",
       "\n",
       "#sk-container-id-3 input.sk-toggleable__control:checked~label.sk-toggleable__label-arrow:before {\n",
       "  content: \"▾\";\n",
       "}\n",
       "\n",
       "/* Pipeline/ColumnTransformer-specific style */\n",
       "\n",
       "#sk-container-id-3 div.sk-label input.sk-toggleable__control:checked~label.sk-toggleable__label {\n",
       "  color: var(--sklearn-color-text);\n",
       "  background-color: var(--sklearn-color-unfitted-level-2);\n",
       "}\n",
       "\n",
       "#sk-container-id-3 div.sk-label.fitted input.sk-toggleable__control:checked~label.sk-toggleable__label {\n",
       "  background-color: var(--sklearn-color-fitted-level-2);\n",
       "}\n",
       "\n",
       "/* Estimator-specific style */\n",
       "\n",
       "/* Colorize estimator box */\n",
       "#sk-container-id-3 div.sk-estimator input.sk-toggleable__control:checked~label.sk-toggleable__label {\n",
       "  /* unfitted */\n",
       "  background-color: var(--sklearn-color-unfitted-level-2);\n",
       "}\n",
       "\n",
       "#sk-container-id-3 div.sk-estimator.fitted input.sk-toggleable__control:checked~label.sk-toggleable__label {\n",
       "  /* fitted */\n",
       "  background-color: var(--sklearn-color-fitted-level-2);\n",
       "}\n",
       "\n",
       "#sk-container-id-3 div.sk-label label.sk-toggleable__label,\n",
       "#sk-container-id-3 div.sk-label label {\n",
       "  /* The background is the default theme color */\n",
       "  color: var(--sklearn-color-text-on-default-background);\n",
       "}\n",
       "\n",
       "/* On hover, darken the color of the background */\n",
       "#sk-container-id-3 div.sk-label:hover label.sk-toggleable__label {\n",
       "  color: var(--sklearn-color-text);\n",
       "  background-color: var(--sklearn-color-unfitted-level-2);\n",
       "}\n",
       "\n",
       "/* Label box, darken color on hover, fitted */\n",
       "#sk-container-id-3 div.sk-label.fitted:hover label.sk-toggleable__label.fitted {\n",
       "  color: var(--sklearn-color-text);\n",
       "  background-color: var(--sklearn-color-fitted-level-2);\n",
       "}\n",
       "\n",
       "/* Estimator label */\n",
       "\n",
       "#sk-container-id-3 div.sk-label label {\n",
       "  font-family: monospace;\n",
       "  font-weight: bold;\n",
       "  display: inline-block;\n",
       "  line-height: 1.2em;\n",
       "}\n",
       "\n",
       "#sk-container-id-3 div.sk-label-container {\n",
       "  text-align: center;\n",
       "}\n",
       "\n",
       "/* Estimator-specific */\n",
       "#sk-container-id-3 div.sk-estimator {\n",
       "  font-family: monospace;\n",
       "  border: 1px dotted var(--sklearn-color-border-box);\n",
       "  border-radius: 0.25em;\n",
       "  box-sizing: border-box;\n",
       "  margin-bottom: 0.5em;\n",
       "  /* unfitted */\n",
       "  background-color: var(--sklearn-color-unfitted-level-0);\n",
       "}\n",
       "\n",
       "#sk-container-id-3 div.sk-estimator.fitted {\n",
       "  /* fitted */\n",
       "  background-color: var(--sklearn-color-fitted-level-0);\n",
       "}\n",
       "\n",
       "/* on hover */\n",
       "#sk-container-id-3 div.sk-estimator:hover {\n",
       "  /* unfitted */\n",
       "  background-color: var(--sklearn-color-unfitted-level-2);\n",
       "}\n",
       "\n",
       "#sk-container-id-3 div.sk-estimator.fitted:hover {\n",
       "  /* fitted */\n",
       "  background-color: var(--sklearn-color-fitted-level-2);\n",
       "}\n",
       "\n",
       "/* Specification for estimator info (e.g. \"i\" and \"?\") */\n",
       "\n",
       "/* Common style for \"i\" and \"?\" */\n",
       "\n",
       ".sk-estimator-doc-link,\n",
       "a:link.sk-estimator-doc-link,\n",
       "a:visited.sk-estimator-doc-link {\n",
       "  float: right;\n",
       "  font-size: smaller;\n",
       "  line-height: 1em;\n",
       "  font-family: monospace;\n",
       "  background-color: var(--sklearn-color-background);\n",
       "  border-radius: 1em;\n",
       "  height: 1em;\n",
       "  width: 1em;\n",
       "  text-decoration: none !important;\n",
       "  margin-left: 1ex;\n",
       "  /* unfitted */\n",
       "  border: var(--sklearn-color-unfitted-level-1) 1pt solid;\n",
       "  color: var(--sklearn-color-unfitted-level-1);\n",
       "}\n",
       "\n",
       ".sk-estimator-doc-link.fitted,\n",
       "a:link.sk-estimator-doc-link.fitted,\n",
       "a:visited.sk-estimator-doc-link.fitted {\n",
       "  /* fitted */\n",
       "  border: var(--sklearn-color-fitted-level-1) 1pt solid;\n",
       "  color: var(--sklearn-color-fitted-level-1);\n",
       "}\n",
       "\n",
       "/* On hover */\n",
       "div.sk-estimator:hover .sk-estimator-doc-link:hover,\n",
       ".sk-estimator-doc-link:hover,\n",
       "div.sk-label-container:hover .sk-estimator-doc-link:hover,\n",
       ".sk-estimator-doc-link:hover {\n",
       "  /* unfitted */\n",
       "  background-color: var(--sklearn-color-unfitted-level-3);\n",
       "  color: var(--sklearn-color-background);\n",
       "  text-decoration: none;\n",
       "}\n",
       "\n",
       "div.sk-estimator.fitted:hover .sk-estimator-doc-link.fitted:hover,\n",
       ".sk-estimator-doc-link.fitted:hover,\n",
       "div.sk-label-container:hover .sk-estimator-doc-link.fitted:hover,\n",
       ".sk-estimator-doc-link.fitted:hover {\n",
       "  /* fitted */\n",
       "  background-color: var(--sklearn-color-fitted-level-3);\n",
       "  color: var(--sklearn-color-background);\n",
       "  text-decoration: none;\n",
       "}\n",
       "\n",
       "/* Span, style for the box shown on hovering the info icon */\n",
       ".sk-estimator-doc-link span {\n",
       "  display: none;\n",
       "  z-index: 9999;\n",
       "  position: relative;\n",
       "  font-weight: normal;\n",
       "  right: .2ex;\n",
       "  padding: .5ex;\n",
       "  margin: .5ex;\n",
       "  width: min-content;\n",
       "  min-width: 20ex;\n",
       "  max-width: 50ex;\n",
       "  color: var(--sklearn-color-text);\n",
       "  box-shadow: 2pt 2pt 4pt #999;\n",
       "  /* unfitted */\n",
       "  background: var(--sklearn-color-unfitted-level-0);\n",
       "  border: .5pt solid var(--sklearn-color-unfitted-level-3);\n",
       "}\n",
       "\n",
       ".sk-estimator-doc-link.fitted span {\n",
       "  /* fitted */\n",
       "  background: var(--sklearn-color-fitted-level-0);\n",
       "  border: var(--sklearn-color-fitted-level-3);\n",
       "}\n",
       "\n",
       ".sk-estimator-doc-link:hover span {\n",
       "  display: block;\n",
       "}\n",
       "\n",
       "/* \"?\"-specific style due to the `<a>` HTML tag */\n",
       "\n",
       "#sk-container-id-3 a.estimator_doc_link {\n",
       "  float: right;\n",
       "  font-size: 1rem;\n",
       "  line-height: 1em;\n",
       "  font-family: monospace;\n",
       "  background-color: var(--sklearn-color-background);\n",
       "  border-radius: 1rem;\n",
       "  height: 1rem;\n",
       "  width: 1rem;\n",
       "  text-decoration: none;\n",
       "  /* unfitted */\n",
       "  color: var(--sklearn-color-unfitted-level-1);\n",
       "  border: var(--sklearn-color-unfitted-level-1) 1pt solid;\n",
       "}\n",
       "\n",
       "#sk-container-id-3 a.estimator_doc_link.fitted {\n",
       "  /* fitted */\n",
       "  border: var(--sklearn-color-fitted-level-1) 1pt solid;\n",
       "  color: var(--sklearn-color-fitted-level-1);\n",
       "}\n",
       "\n",
       "/* On hover */\n",
       "#sk-container-id-3 a.estimator_doc_link:hover {\n",
       "  /* unfitted */\n",
       "  background-color: var(--sklearn-color-unfitted-level-3);\n",
       "  color: var(--sklearn-color-background);\n",
       "  text-decoration: none;\n",
       "}\n",
       "\n",
       "#sk-container-id-3 a.estimator_doc_link.fitted:hover {\n",
       "  /* fitted */\n",
       "  background-color: var(--sklearn-color-fitted-level-3);\n",
       "}\n",
       "</style><div id=\"sk-container-id-3\" class=\"sk-top-container\"><div class=\"sk-text-repr-fallback\"><pre>DecisionTreeClassifier()</pre><b>In a Jupyter environment, please rerun this cell to show the HTML representation or trust the notebook. <br />On GitHub, the HTML representation is unable to render, please try loading this page with nbviewer.org.</b></div><div class=\"sk-container\" hidden><div class=\"sk-item\"><div class=\"sk-estimator fitted sk-toggleable\"><input class=\"sk-toggleable__control sk-hidden--visually\" id=\"sk-estimator-id-3\" type=\"checkbox\" checked><label for=\"sk-estimator-id-3\" class=\"sk-toggleable__label fitted sk-toggleable__label-arrow fitted\">&nbsp;&nbsp;DecisionTreeClassifier<a class=\"sk-estimator-doc-link fitted\" rel=\"noreferrer\" target=\"_blank\" href=\"https://scikit-learn.org/1.4/modules/generated/sklearn.tree.DecisionTreeClassifier.html\">?<span>Documentation for DecisionTreeClassifier</span></a><span class=\"sk-estimator-doc-link fitted\">i<span>Fitted</span></span></label><div class=\"sk-toggleable__content fitted\"><pre>DecisionTreeClassifier()</pre></div> </div></div></div></div>"
      ]
     },
     "execution_count": 327,
     "metadata": {},
     "output_type": "execute_result"
    }
   ],
   "execution_count": 327
  },
  {
   "cell_type": "markdown",
   "id": "22d4a0b2",
   "metadata": {},
   "source": [
    "Features iportance"
   ]
  },
  {
   "cell_type": "code",
   "id": "c32b0e18",
   "metadata": {
    "ExecuteTime": {
     "end_time": "2024-05-30T23:41:42.195458Z",
     "start_time": "2024-05-30T23:41:42.186597Z"
    }
   },
   "source": [
    "for col, imp in zip(predictors, clf.feature_importances_):\n",
    "    print(col, imp)\n",
    "print(clf.classes_)"
   ],
   "outputs": [
    {
     "name": "stdout",
     "output_type": "stream",
     "text": [
      "AGEP 0.6268203789588166\n",
      "SCHL 0.07128317016484143\n",
      "MAR 0.02681681009482902\n",
      "RELP 0.10436706769739956\n",
      "DIS 0.04390058695469596\n",
      "ESP 0.0007609767255751879\n",
      "CIT 0.019506979850206288\n",
      "MIG 0.01839434560746008\n",
      "MIL 0.01756768729765761\n",
      "ANC 0.03612961537779715\n",
      "NATIVITY 0.005270838076986079\n",
      "DEAR 0.0030624909938146367\n",
      "DEYE 0.0040109470458954775\n",
      "DREM 0.0027713089409343397\n",
      "SEX 0.019336796213090538\n",
      "[0 1]\n"
     ]
    }
   ],
   "execution_count": 328
  },
  {
   "cell_type": "markdown",
   "id": "0a7895db",
   "metadata": {},
   "source": [
    "Apply on training set "
   ]
  },
  {
   "cell_type": "code",
   "id": "b0395f3e",
   "metadata": {
    "ExecuteTime": {
     "end_time": "2024-05-30T23:41:43.523321Z",
     "start_time": "2024-05-30T23:41:42.196468Z"
    }
   },
   "source": [
    "y_pred = clf.predict(X_train)\n",
    "print('Accuracy %s' % accuracy_score(y_train, y_pred))\n",
    "print('F1-score %s' % f1_score(y_train, y_pred, average=None))\n",
    "print(classification_report(y_train, y_pred))\n",
    "confusion_matrix(y_train, y_pred)"
   ],
   "outputs": [
    {
     "name": "stdout",
     "output_type": "stream",
     "text": [
      "Accuracy 0.8886134196583968\n",
      "F1-score [0.8970135  0.87872134]\n",
      "              precision    recall  f1-score   support\n",
      "\n",
      "           0       0.91      0.89      0.90    285044\n",
      "           1       0.87      0.89      0.88    236087\n",
      "\n",
      "    accuracy                           0.89    521131\n",
      "   macro avg       0.89      0.89      0.89    521131\n",
      "weighted avg       0.89      0.89      0.89    521131\n",
      "\n"
     ]
    },
    {
     "data": {
      "text/plain": [
       "array([[252795,  32249],\n",
       "       [ 25798, 210289]], dtype=int64)"
      ]
     },
     "execution_count": 329,
     "metadata": {},
     "output_type": "execute_result"
    }
   ],
   "execution_count": 329
  },
  {
   "cell_type": "markdown",
   "id": "10611f37",
   "metadata": {},
   "source": [
    "Apply on test set"
   ]
  },
  {
   "cell_type": "code",
   "id": "ac35d34c",
   "metadata": {
    "ExecuteTime": {
     "end_time": "2024-05-30T23:41:44.097893Z",
     "start_time": "2024-05-30T23:41:43.524328Z"
    }
   },
   "source": [
    "y_pred = clf.predict(X_test)\n",
    "print('Accuracy %s' % accuracy_score(y_test, y_pred))\n",
    "print('F1-score %s' % f1_score(y_test, y_pred, average=None))\n",
    "print(classification_report(y_test, y_pred))\n",
    "confusion_matrix(y_test, y_pred)"
   ],
   "outputs": [
    {
     "name": "stdout",
     "output_type": "stream",
     "text": [
      "Accuracy 0.7894986634906848\n",
      "F1-score [0.8052089 0.771032 ]\n",
      "              precision    recall  f1-score   support\n",
      "\n",
      "           0       0.82      0.80      0.81    122163\n",
      "           1       0.76      0.78      0.77    101180\n",
      "\n",
      "    accuracy                           0.79    223343\n",
      "   macro avg       0.79      0.79      0.79    223343\n",
      "weighted avg       0.79      0.79      0.79    223343\n",
      "\n"
     ]
    },
    {
     "data": {
      "text/plain": [
       "array([[97171, 24992],\n",
       "       [22022, 79158]], dtype=int64)"
      ]
     },
     "execution_count": 330,
     "metadata": {},
     "output_type": "execute_result"
    }
   ],
   "execution_count": 330
  },
  {
   "cell_type": "markdown",
   "id": "9b860171",
   "metadata": {},
   "source": [
    "Study possible overfitting and tune hyperparameters"
   ]
  },
  {
   "cell_type": "code",
   "id": "fcf4bff9",
   "metadata": {
    "ExecuteTime": {
     "end_time": "2024-05-30T23:43:05.804539Z",
     "start_time": "2024-05-30T23:41:44.098902Z"
    }
   },
   "source": [
    "acc_train = list()\n",
    "acc_test = list()\n",
    "samples=np.linspace(0,5000,50,dtype=int)+1\n",
    "\n",
    "for min_samples in samples:\n",
    "    clf = DecisionTreeClassifier(criterion='gini', max_depth=None, \n",
    "                             min_samples_split=1500, min_samples_leaf=min_samples)\n",
    "    clf.fit(X_train, y_train)\n",
    "\n",
    "    y_pred = clf.predict(X_train)\n",
    "    acc_train.append(accuracy_score(y_train, y_pred))\n",
    "    y_pred = clf.predict(X_test)\n",
    "    acc_test.append(accuracy_score(y_test, y_pred))"
   ],
   "outputs": [],
   "execution_count": 331
  },
  {
   "cell_type": "code",
   "id": "d4eedc41",
   "metadata": {
    "ExecuteTime": {
     "end_time": "2024-05-30T23:43:05.933688Z",
     "start_time": "2024-05-30T23:43:05.805570Z"
    }
   },
   "source": [
    "plt.plot(samples, acc_train, 'o--', color='red', label=\"Train set\")\n",
    "plt.plot(samples, acc_test, 'o--', color='blue', label= \"Test set\")\n",
    "plt.xlabel('min_samples_leaf')\n",
    "plt.ylabel('Accuracy')\n",
    "plt.legend()\n",
    "plt.show()"
   ],
   "outputs": [
    {
     "data": {
      "text/plain": [
       "<Figure size 640x480 with 1 Axes>"
      ],
      "image/png": "[encoded data removed]"
     },
     "metadata": {},
     "output_type": "display_data"
    }
   ],
   "execution_count": 332
  },
  {
   "cell_type": "code",
   "id": "6d1cce4d",
   "metadata": {
    "ExecuteTime": {
     "end_time": "2024-05-30T23:43:22.559391Z",
     "start_time": "2024-05-30T23:43:05.934696Z"
    }
   },
   "source": [
    "acc_train = list()\n",
    "acc_test = list()\n",
    "samples=[50, 250, 500, 750, 1000, 1250, 1500, 1750, 2000]\n",
    "\n",
    "for min_samples in samples:\n",
    "    clf = DecisionTreeClassifier(criterion='gini', max_depth=None, \n",
    "                             min_samples_split=min_samples, min_samples_leaf=20)\n",
    "    clf.fit(X_train, y_train)\n",
    "\n",
    "    y_pred = clf.predict(X_train)\n",
    "    acc_train.append(accuracy_score(y_train, y_pred))\n",
    "    y_pred = clf.predict(X_test)\n",
    "    acc_test.append(accuracy_score(y_test, y_pred))"
   ],
   "outputs": [],
   "execution_count": 333
  },
  {
   "cell_type": "code",
   "id": "2df8bca6",
   "metadata": {
    "ExecuteTime": {
     "end_time": "2024-05-30T23:43:22.698030Z",
     "start_time": "2024-05-30T23:43:22.560396Z"
    }
   },
   "source": [
    "samples=[50, 250, 500, 750, 1000, 1250, 1500, 1750, 2000]\n",
    "plt.plot(samples, acc_train, 'o--', color='red', label=\"Train set\")\n",
    "plt.plot(samples, acc_test, 'o--', color='blue', label= \"Test set\")\n",
    "plt.xlabel('min_samples_split')\n",
    "plt.ylabel('Accuracy')\n",
    "plt.legend()\n",
    "plt.show()"
   ],
   "outputs": [
    {
     "data": {
      "text/plain": [
       "<Figure size 640x480 with 1 Axes>"
      ],
      "image/png": "[encoded data removed]"
     },
     "metadata": {},
     "output_type": "display_data"
    }
   ],
   "execution_count": 334
  },
  {
   "cell_type": "markdown",
   "id": "7d2d5512",
   "metadata": {},
   "source": [
    "We concliude that the best parameters are min_samples_leaf=20 min_samples_split=1500"
   ]
  },
  {
   "cell_type": "code",
   "id": "6294f6fc",
   "metadata": {
    "ExecuteTime": {
     "end_time": "2024-05-30T23:43:24.348186Z",
     "start_time": "2024-05-30T23:43:22.699039Z"
    }
   },
   "source": [
    "clf = DecisionTreeClassifier(criterion='gini', max_depth=None, \n",
    "                             min_samples_split=1500, min_samples_leaf=20)\n",
    "clf.fit(X_train, y_train)"
   ],
   "outputs": [
    {
     "data": {
      "text/plain": [
       "DecisionTreeClassifier(min_samples_leaf=20, min_samples_split=1500)"
      ],
      "text/html": [
       "<style>#sk-container-id-4 {\n",
       "  /* Definition of color scheme common for light and dark mode */\n",
       "  --sklearn-color-text: black;\n",
       "  --sklearn-color-line: gray;\n",
       "  /* Definition of color scheme for unfitted estimators */\n",
       "  --sklearn-color-unfitted-level-0: #fff5e6;\n",
       "  --sklearn-color-unfitted-level-1: #f6e4d2;\n",
       "  --sklearn-color-unfitted-level-2: #ffe0b3;\n",
       "  --sklearn-color-unfitted-level-3: chocolate;\n",
       "  /* Definition of color scheme for fitted estimators */\n",
       "  --sklearn-color-fitted-level-0: #f0f8ff;\n",
       "  --sklearn-color-fitted-level-1: #d4ebff;\n",
       "  --sklearn-color-fitted-level-2: #b3dbfd;\n",
       "  --sklearn-color-fitted-level-3: cornflowerblue;\n",
       "\n",
       "  /* Specific color for light theme */\n",
       "  --sklearn-color-text-on-default-background: var(--sg-text-color, var(--theme-code-foreground, var(--jp-content-font-color1, black)));\n",
       "  --sklearn-color-background: var(--sg-background-color, var(--theme-background, var(--jp-layout-color0, white)));\n",
       "  --sklearn-color-border-box: var(--sg-text-color, var(--theme-code-foreground, var(--jp-content-font-color1, black)));\n",
       "  --sklearn-color-icon: #696969;\n",
       "\n",
       "  @media (prefers-color-scheme: dark) {\n",
       "    /* Redefinition of color scheme for dark theme */\n",
       "    --sklearn-color-text-on-default-background: var(--sg-text-color, var(--theme-code-foreground, var(--jp-content-font-color1, white)));\n",
       "    --sklearn-color-background: var(--sg-background-color, var(--theme-background, var(--jp-layout-color0, #111)));\n",
       "    --sklearn-color-border-box: var(--sg-text-color, var(--theme-code-foreground, var(--jp-content-font-color1, white)));\n",
       "    --sklearn-color-icon: #878787;\n",
       "  }\n",
       "}\n",
       "\n",
       "#sk-container-id-4 {\n",
       "  color: var(--sklearn-color-text);\n",
       "}\n",
       "\n",
       "#sk-container-id-4 pre {\n",
       "  padding: 0;\n",
       "}\n",
       "\n",
       "#sk-container-id-4 input.sk-hidden--visually {\n",
       "  border: 0;\n",
       "  clip: rect(1px 1px 1px 1px);\n",
       "  clip: rect(1px, 1px, 1px, 1px);\n",
       "  height: 1px;\n",
       "  margin: -1px;\n",
       "  overflow: hidden;\n",
       "  padding: 0;\n",
       "  position: absolute;\n",
       "  width: 1px;\n",
       "}\n",
       "\n",
       "#sk-container-id-4 div.sk-dashed-wrapped {\n",
       "  border: 1px dashed var(--sklearn-color-line);\n",
       "  margin: 0 0.4em 0.5em 0.4em;\n",
       "  box-sizing: border-box;\n",
       "  padding-bottom: 0.4em;\n",
       "  background-color: var(--sklearn-color-background);\n",
       "}\n",
       "\n",
       "#sk-container-id-4 div.sk-container {\n",
       "  /* jupyter's `normalize.less` sets `[hidden] { display: none; }`\n",
       "     but bootstrap.min.css set `[hidden] { display: none !important; }`\n",
       "     so we also need the `!important` here to be able to override the\n",
       "     default hidden behavior on the sphinx rendered scikit-learn.org.\n",
       "     See: https://github.com/scikit-learn/scikit-learn/issues/21755 */\n",
       "  display: inline-block !important;\n",
       "  position: relative;\n",
       "}\n",
       "\n",
       "#sk-container-id-4 div.sk-text-repr-fallback {\n",
       "  display: none;\n",
       "}\n",
       "\n",
       "div.sk-parallel-item,\n",
       "div.sk-serial,\n",
       "div.sk-item {\n",
       "  /* draw centered vertical line to link estimators */\n",
       "  background-image: linear-gradient(var(--sklearn-color-text-on-default-background), var(--sklearn-color-text-on-default-background));\n",
       "  background-size: 2px 100%;\n",
       "  background-repeat: no-repeat;\n",
       "  background-position: center center;\n",
       "}\n",
       "\n",
       "/* Parallel-specific style estimator block */\n",
       "\n",
       "#sk-container-id-4 div.sk-parallel-item::after {\n",
       "  content: \"\";\n",
       "  width: 100%;\n",
       "  border-bottom: 2px solid var(--sklearn-color-text-on-default-background);\n",
       "  flex-grow: 1;\n",
       "}\n",
       "\n",
       "#sk-container-id-4 div.sk-parallel {\n",
       "  display: flex;\n",
       "  align-items: stretch;\n",
       "  justify-content: center;\n",
       "  background-color: var(--sklearn-color-background);\n",
       "  position: relative;\n",
       "}\n",
       "\n",
       "#sk-container-id-4 div.sk-parallel-item {\n",
       "  display: flex;\n",
       "  flex-direction: column;\n",
       "}\n",
       "\n",
       "#sk-container-id-4 div.sk-parallel-item:first-child::after {\n",
       "  align-self: flex-end;\n",
       "  width: 50%;\n",
       "}\n",
       "\n",
       "#sk-container-id-4 div.sk-parallel-item:last-child::after {\n",
       "  align-self: flex-start;\n",
       "  width: 50%;\n",
       "}\n",
       "\n",
       "#sk-container-id-4 div.sk-parallel-item:only-child::after {\n",
       "  width: 0;\n",
       "}\n",
       "\n",
       "/* Serial-specific style estimator block */\n",
       "\n",
       "#sk-container-id-4 div.sk-serial {\n",
       "  display: flex;\n",
       "  flex-direction: column;\n",
       "  align-items: center;\n",
       "  background-color: var(--sklearn-color-background);\n",
       "  padding-right: 1em;\n",
       "  padding-left: 1em;\n",
       "}\n",
       "\n",
       "\n",
       "/* Toggleable style: style used for estimator/Pipeline/ColumnTransformer box that is\n",
       "clickable and can be expanded/collapsed.\n",
       "- Pipeline and ColumnTransformer use this feature and define the default style\n",
       "- Estimators will overwrite some part of the style using the `sk-estimator` class\n",
       "*/\n",
       "\n",
       "/* Pipeline and ColumnTransformer style (default) */\n",
       "\n",
       "#sk-container-id-4 div.sk-toggleable {\n",
       "  /* Default theme specific background. It is overwritten whether we have a\n",
       "  specific estimator or a Pipeline/ColumnTransformer */\n",
       "  background-color: var(--sklearn-color-background);\n",
       "}\n",
       "\n",
       "/* Toggleable label */\n",
       "#sk-container-id-4 label.sk-toggleable__label {\n",
       "  cursor: pointer;\n",
       "  display: block;\n",
       "  width: 100%;\n",
       "  margin-bottom: 0;\n",
       "  padding: 0.5em;\n",
       "  box-sizing: border-box;\n",
       "  text-align: center;\n",
       "}\n",
       "\n",
       "#sk-container-id-4 label.sk-toggleable__label-arrow:before {\n",
       "  /* Arrow on the left of the label */\n",
       "  content: \"▸\";\n",
       "  float: left;\n",
       "  margin-right: 0.25em;\n",
       "  color: var(--sklearn-color-icon);\n",
       "}\n",
       "\n",
       "#sk-container-id-4 label.sk-toggleable__label-arrow:hover:before {\n",
       "  color: var(--sklearn-color-text);\n",
       "}\n",
       "\n",
       "/* Toggleable content - dropdown */\n",
       "\n",
       "#sk-container-id-4 div.sk-toggleable__content {\n",
       "  max-height: 0;\n",
       "  max-width: 0;\n",
       "  overflow: hidden;\n",
       "  text-align: left;\n",
       "  /* unfitted */\n",
       "  background-color: var(--sklearn-color-unfitted-level-0);\n",
       "}\n",
       "\n",
       "#sk-container-id-4 div.sk-toggleable__content.fitted {\n",
       "  /* fitted */\n",
       "  background-color: var(--sklearn-color-fitted-level-0);\n",
       "}\n",
       "\n",
       "#sk-container-id-4 div.sk-toggleable__content pre {\n",
       "  margin: 0.2em;\n",
       "  border-radius: 0.25em;\n",
       "  color: var(--sklearn-color-text);\n",
       "  /* unfitted */\n",
       "  background-color: var(--sklearn-color-unfitted-level-0);\n",
       "}\n",
       "\n",
       "#sk-container-id-4 div.sk-toggleable__content.fitted pre {\n",
       "  /* unfitted */\n",
       "  background-color: var(--sklearn-color-fitted-level-0);\n",
       "}\n",
       "\n",
       "#sk-container-id-4 input.sk-toggleable__control:checked~div.sk-toggleable__content {\n",
       "  /* Expand drop-down */\n",
       "  max-height: 200px;\n",
       "  max-width: 100%;\n",
       "  overflow: auto;\n",
       "}\n",
       "\n",
       "#sk-container-id-4 input.sk-toggleable__control:checked~label.sk-toggleable__label-arrow:before {\n",
       "  content: \"▾\";\n",
       "}\n",
       "\n",
       "/* Pipeline/ColumnTransformer-specific style */\n",
       "\n",
       "#sk-container-id-4 div.sk-label input.sk-toggleable__control:checked~label.sk-toggleable__label {\n",
       "  color: var(--sklearn-color-text);\n",
       "  background-color: var(--sklearn-color-unfitted-level-2);\n",
       "}\n",
       "\n",
       "#sk-container-id-4 div.sk-label.fitted input.sk-toggleable__control:checked~label.sk-toggleable__label {\n",
       "  background-color: var(--sklearn-color-fitted-level-2);\n",
       "}\n",
       "\n",
       "/* Estimator-specific style */\n",
       "\n",
       "/* Colorize estimator box */\n",
       "#sk-container-id-4 div.sk-estimator input.sk-toggleable__control:checked~label.sk-toggleable__label {\n",
       "  /* unfitted */\n",
       "  background-color: var(--sklearn-color-unfitted-level-2);\n",
       "}\n",
       "\n",
       "#sk-container-id-4 div.sk-estimator.fitted input.sk-toggleable__control:checked~label.sk-toggleable__label {\n",
       "  /* fitted */\n",
       "  background-color: var(--sklearn-color-fitted-level-2);\n",
       "}\n",
       "\n",
       "#sk-container-id-4 div.sk-label label.sk-toggleable__label,\n",
       "#sk-container-id-4 div.sk-label label {\n",
       "  /* The background is the default theme color */\n",
       "  color: var(--sklearn-color-text-on-default-background);\n",
       "}\n",
       "\n",
       "/* On hover, darken the color of the background */\n",
       "#sk-container-id-4 div.sk-label:hover label.sk-toggleable__label {\n",
       "  color: var(--sklearn-color-text);\n",
       "  background-color: var(--sklearn-color-unfitted-level-2);\n",
       "}\n",
       "\n",
       "/* Label box, darken color on hover, fitted */\n",
       "#sk-container-id-4 div.sk-label.fitted:hover label.sk-toggleable__label.fitted {\n",
       "  color: var(--sklearn-color-text);\n",
       "  background-color: var(--sklearn-color-fitted-level-2);\n",
       "}\n",
       "\n",
       "/* Estimator label */\n",
       "\n",
       "#sk-container-id-4 div.sk-label label {\n",
       "  font-family: monospace;\n",
       "  font-weight: bold;\n",
       "  display: inline-block;\n",
       "  line-height: 1.2em;\n",
       "}\n",
       "\n",
       "#sk-container-id-4 div.sk-label-container {\n",
       "  text-align: center;\n",
       "}\n",
       "\n",
       "/* Estimator-specific */\n",
       "#sk-container-id-4 div.sk-estimator {\n",
       "  font-family: monospace;\n",
       "  border: 1px dotted var(--sklearn-color-border-box);\n",
       "  border-radius: 0.25em;\n",
       "  box-sizing: border-box;\n",
       "  margin-bottom: 0.5em;\n",
       "  /* unfitted */\n",
       "  background-color: var(--sklearn-color-unfitted-level-0);\n",
       "}\n",
       "\n",
       "#sk-container-id-4 div.sk-estimator.fitted {\n",
       "  /* fitted */\n",
       "  background-color: var(--sklearn-color-fitted-level-0);\n",
       "}\n",
       "\n",
       "/* on hover */\n",
       "#sk-container-id-4 div.sk-estimator:hover {\n",
       "  /* unfitted */\n",
       "  background-color: var(--sklearn-color-unfitted-level-2);\n",
       "}\n",
       "\n",
       "#sk-container-id-4 div.sk-estimator.fitted:hover {\n",
       "  /* fitted */\n",
       "  background-color: var(--sklearn-color-fitted-level-2);\n",
       "}\n",
       "\n",
       "/* Specification for estimator info (e.g. \"i\" and \"?\") */\n",
       "\n",
       "/* Common style for \"i\" and \"?\" */\n",
       "\n",
       ".sk-estimator-doc-link,\n",
       "a:link.sk-estimator-doc-link,\n",
       "a:visited.sk-estimator-doc-link {\n",
       "  float: right;\n",
       "  font-size: smaller;\n",
       "  line-height: 1em;\n",
       "  font-family: monospace;\n",
       "  background-color: var(--sklearn-color-background);\n",
       "  border-radius: 1em;\n",
       "  height: 1em;\n",
       "  width: 1em;\n",
       "  text-decoration: none !important;\n",
       "  margin-left: 1ex;\n",
       "  /* unfitted */\n",
       "  border: var(--sklearn-color-unfitted-level-1) 1pt solid;\n",
       "  color: var(--sklearn-color-unfitted-level-1);\n",
       "}\n",
       "\n",
       ".sk-estimator-doc-link.fitted,\n",
       "a:link.sk-estimator-doc-link.fitted,\n",
       "a:visited.sk-estimator-doc-link.fitted {\n",
       "  /* fitted */\n",
       "  border: var(--sklearn-color-fitted-level-1) 1pt solid;\n",
       "  color: var(--sklearn-color-fitted-level-1);\n",
       "}\n",
       "\n",
       "/* On hover */\n",
       "div.sk-estimator:hover .sk-estimator-doc-link:hover,\n",
       ".sk-estimator-doc-link:hover,\n",
       "div.sk-label-container:hover .sk-estimator-doc-link:hover,\n",
       ".sk-estimator-doc-link:hover {\n",
       "  /* unfitted */\n",
       "  background-color: var(--sklearn-color-unfitted-level-3);\n",
       "  color: var(--sklearn-color-background);\n",
       "  text-decoration: none;\n",
       "}\n",
       "\n",
       "div.sk-estimator.fitted:hover .sk-estimator-doc-link.fitted:hover,\n",
       ".sk-estimator-doc-link.fitted:hover,\n",
       "div.sk-label-container:hover .sk-estimator-doc-link.fitted:hover,\n",
       ".sk-estimator-doc-link.fitted:hover {\n",
       "  /* fitted */\n",
       "  background-color: var(--sklearn-color-fitted-level-3);\n",
       "  color: var(--sklearn-color-background);\n",
       "  text-decoration: none;\n",
       "}\n",
       "\n",
       "/* Span, style for the box shown on hovering the info icon */\n",
       ".sk-estimator-doc-link span {\n",
       "  display: none;\n",
       "  z-index: 9999;\n",
       "  position: relative;\n",
       "  font-weight: normal;\n",
       "  right: .2ex;\n",
       "  padding: .5ex;\n",
       "  margin: .5ex;\n",
       "  width: min-content;\n",
       "  min-width: 20ex;\n",
       "  max-width: 50ex;\n",
       "  color: var(--sklearn-color-text);\n",
       "  box-shadow: 2pt 2pt 4pt #999;\n",
       "  /* unfitted */\n",
       "  background: var(--sklearn-color-unfitted-level-0);\n",
       "  border: .5pt solid var(--sklearn-color-unfitted-level-3);\n",
       "}\n",
       "\n",
       ".sk-estimator-doc-link.fitted span {\n",
       "  /* fitted */\n",
       "  background: var(--sklearn-color-fitted-level-0);\n",
       "  border: var(--sklearn-color-fitted-level-3);\n",
       "}\n",
       "\n",
       ".sk-estimator-doc-link:hover span {\n",
       "  display: block;\n",
       "}\n",
       "\n",
       "/* \"?\"-specific style due to the `<a>` HTML tag */\n",
       "\n",
       "#sk-container-id-4 a.estimator_doc_link {\n",
       "  float: right;\n",
       "  font-size: 1rem;\n",
       "  line-height: 1em;\n",
       "  font-family: monospace;\n",
       "  background-color: var(--sklearn-color-background);\n",
       "  border-radius: 1rem;\n",
       "  height: 1rem;\n",
       "  width: 1rem;\n",
       "  text-decoration: none;\n",
       "  /* unfitted */\n",
       "  color: var(--sklearn-color-unfitted-level-1);\n",
       "  border: var(--sklearn-color-unfitted-level-1) 1pt solid;\n",
       "}\n",
       "\n",
       "#sk-container-id-4 a.estimator_doc_link.fitted {\n",
       "  /* fitted */\n",
       "  border: var(--sklearn-color-fitted-level-1) 1pt solid;\n",
       "  color: var(--sklearn-color-fitted-level-1);\n",
       "}\n",
       "\n",
       "/* On hover */\n",
       "#sk-container-id-4 a.estimator_doc_link:hover {\n",
       "  /* unfitted */\n",
       "  background-color: var(--sklearn-color-unfitted-level-3);\n",
       "  color: var(--sklearn-color-background);\n",
       "  text-decoration: none;\n",
       "}\n",
       "\n",
       "#sk-container-id-4 a.estimator_doc_link.fitted:hover {\n",
       "  /* fitted */\n",
       "  background-color: var(--sklearn-color-fitted-level-3);\n",
       "}\n",
       "</style><div id=\"sk-container-id-4\" class=\"sk-top-container\"><div class=\"sk-text-repr-fallback\"><pre>DecisionTreeClassifier(min_samples_leaf=20, min_samples_split=1500)</pre><b>In a Jupyter environment, please rerun this cell to show the HTML representation or trust the notebook. <br />On GitHub, the HTML representation is unable to render, please try loading this page with nbviewer.org.</b></div><div class=\"sk-container\" hidden><div class=\"sk-item\"><div class=\"sk-estimator fitted sk-toggleable\"><input class=\"sk-toggleable__control sk-hidden--visually\" id=\"sk-estimator-id-4\" type=\"checkbox\" checked><label for=\"sk-estimator-id-4\" class=\"sk-toggleable__label fitted sk-toggleable__label-arrow fitted\">&nbsp;&nbsp;DecisionTreeClassifier<a class=\"sk-estimator-doc-link fitted\" rel=\"noreferrer\" target=\"_blank\" href=\"https://scikit-learn.org/1.4/modules/generated/sklearn.tree.DecisionTreeClassifier.html\">?<span>Documentation for DecisionTreeClassifier</span></a><span class=\"sk-estimator-doc-link fitted\">i<span>Fitted</span></span></label><div class=\"sk-toggleable__content fitted\"><pre>DecisionTreeClassifier(min_samples_leaf=20, min_samples_split=1500)</pre></div> </div></div></div></div>"
      ]
     },
     "execution_count": 335,
     "metadata": {},
     "output_type": "execute_result"
    }
   ],
   "execution_count": 335
  },
  {
   "cell_type": "code",
   "id": "84c8489c",
   "metadata": {
    "ExecuteTime": {
     "end_time": "2024-05-30T23:43:24.958639Z",
     "start_time": "2024-05-30T23:43:24.349199Z"
    }
   },
   "source": [
    "y_pred = clf.predict(X_test)\n",
    "print('Accuracy Test %s' % accuracy_score(y_test, y_pred))\n",
    "print('F1-score Test %s' % f1_score(y_test, y_pred, average=None))\n",
    "print(classification_report(y_test, y_pred))\n",
    "confusion_matrix(y_test, y_pred)"
   ],
   "outputs": [
    {
     "name": "stdout",
     "output_type": "stream",
     "text": [
      "Accuracy Test 0.8223405255593415\n",
      "F1-score Test [0.83056124 0.81328144]\n",
      "              precision    recall  f1-score   support\n",
      "\n",
      "           0       0.87      0.80      0.83    122163\n",
      "           1       0.78      0.85      0.81    101180\n",
      "\n",
      "    accuracy                           0.82    223343\n",
      "   macro avg       0.82      0.83      0.82    223343\n",
      "weighted avg       0.83      0.82      0.82    223343\n",
      "\n"
     ]
    },
    {
     "data": {
      "text/plain": [
       "array([[97250, 24913],\n",
       "       [14766, 86414]], dtype=int64)"
      ]
     },
     "execution_count": 336,
     "metadata": {},
     "output_type": "execute_result"
    }
   ],
   "execution_count": 336
  },
  {
   "cell_type": "markdown",
   "id": "f7343642",
   "metadata": {},
   "source": [
    "ROC curve"
   ]
  },
  {
   "cell_type": "code",
   "id": "2482e6fc",
   "metadata": {
    "ExecuteTime": {
     "end_time": "2024-05-30T23:43:24.964708Z",
     "start_time": "2024-05-30T23:43:24.959649Z"
    }
   },
   "source": [
    "from sklearn.metrics import roc_curve, auc, roc_auc_score"
   ],
   "outputs": [],
   "execution_count": 337
  },
  {
   "cell_type": "code",
   "id": "437fdbaa",
   "metadata": {
    "ExecuteTime": {
     "end_time": "2024-05-30T23:43:25.068831Z",
     "start_time": "2024-05-30T23:43:24.966719Z"
    }
   },
   "source": [
    "fpr, tpr, _ = roc_curve(y_test, y_pred)\n",
    "roc_auc = auc(fpr, tpr)\n",
    "roc_auc = roc_auc_score(y_test, y_pred, average=None)"
   ],
   "outputs": [],
   "execution_count": 338
  },
  {
   "cell_type": "code",
   "id": "6d54920f",
   "metadata": {
    "ExecuteTime": {
     "end_time": "2024-05-30T23:43:25.251246Z",
     "start_time": "2024-05-30T23:43:25.069839Z"
    }
   },
   "source": [
    "plt.plot([0, 1], [0, 1], \"k--\", label=\"chance level (AUC = 0.5)\")\n",
    "plt.plot(fpr, tpr, color='darkorange', lw=2, label=f'ROC curve (area={roc_auc:.2f})')\n",
    "plt.xlabel(\"False Positive Rate\")\n",
    "plt.ylabel(\"True Positive Rate\")\n",
    "plt.legend()\n",
    "plt.show()"
   ],
   "outputs": [
    {
     "data": {
      "text/plain": [
       "<Figure size 640x480 with 1 Axes>"
      ],
      "image/png": "[encoded data removed]"
     },
     "metadata": {},
     "output_type": "display_data"
    }
   ],
   "execution_count": 339
  },
  {
   "cell_type": "markdown",
   "id": "cc56b377",
   "metadata": {},
   "source": [
    "Cross Validation"
   ]
  },
  {
   "cell_type": "code",
   "id": "ad0f82ef",
   "metadata": {
    "ExecuteTime": {
     "end_time": "2024-05-30T23:43:25.258301Z",
     "start_time": "2024-05-30T23:43:25.253254Z"
    }
   },
   "source": [
    "from sklearn.model_selection import cross_val_score\n",
    "from sklearn.model_selection import cross_validate"
   ],
   "outputs": [],
   "execution_count": 340
  },
  {
   "cell_type": "code",
   "id": "124c74de",
   "metadata": {
    "ExecuteTime": {
     "end_time": "2024-05-30T23:43:55.392940Z",
     "start_time": "2024-05-30T23:43:25.260322Z"
    }
   },
   "source": [
    "scores = cross_val_score(clf, X_train, y_train, cv=10)\n",
    "print('Accuracy: %0.3f (+/- %0.3f)' % (scores.mean(), scores.std() * 2))\n",
    "\n",
    "scores = cross_val_score(clf, X_train, y_train, cv=10, scoring='f1_macro')\n",
    "print('F1-score: %0.3f (+/- %0.3f)' % (scores.mean(), scores.std() * 2))"
   ],
   "outputs": [
    {
     "name": "stdout",
     "output_type": "stream",
     "text": [
      "Accuracy: 0.821 (+/- 0.004)\n",
      "F1-score: 0.820 (+/- 0.003)\n"
     ]
    }
   ],
   "execution_count": 341
  },
  {
   "cell_type": "markdown",
   "id": "779eaea7",
   "metadata": {},
   "source": [
    "### Random Forest"
   ]
  },
  {
   "cell_type": "code",
   "id": "b8fcae04",
   "metadata": {
    "ExecuteTime": {
     "end_time": "2024-05-30T23:43:55.621846Z",
     "start_time": "2024-05-30T23:43:55.393950Z"
    }
   },
   "source": [
    "from sklearn.ensemble import RandomForestClassifier"
   ],
   "outputs": [],
   "execution_count": 342
  },
  {
   "cell_type": "code",
   "id": "4ee951aa",
   "metadata": {
    "ExecuteTime": {
     "end_time": "2024-05-30T23:43:55.627345Z",
     "start_time": "2024-05-30T23:43:55.622855Z"
    }
   },
   "source": [
    "clf = RandomForestClassifier(n_estimators=100, \n",
    "                             criterion='gini', \n",
    "                             max_depth=None, \n",
    "                             min_samples_split=1500, \n",
    "                             min_samples_leaf=20, \n",
    "                             class_weight=None)"
   ],
   "outputs": [],
   "execution_count": 343
  },
  {
   "cell_type": "code",
   "id": "256696833e93fda",
   "metadata": {
    "ExecuteTime": {
     "end_time": "2024-05-30T23:44:21.670834Z",
     "start_time": "2024-05-30T23:43:55.628354Z"
    }
   },
   "source": [
    "clf.fit(X_train, y_train)\n",
    "y_pred = clf.predict(X_test)\n",
    "accuracy_score(y_test, y_pred)"
   ],
   "outputs": [
    {
     "ename": "KeyboardInterrupt",
     "evalue": "",
     "output_type": "error",
     "traceback": [
      "\u001B[1;31m---------------------------------------------------------------------------\u001B[0m",
      "\u001B[1;31mKeyboardInterrupt\u001B[0m                         Traceback (most recent call last)",
      "Cell \u001B[1;32mIn[344], line 1\u001B[0m\n\u001B[1;32m----> 1\u001B[0m \u001B[43mclf\u001B[49m\u001B[38;5;241;43m.\u001B[39;49m\u001B[43mfit\u001B[49m\u001B[43m(\u001B[49m\u001B[43mX_train\u001B[49m\u001B[43m,\u001B[49m\u001B[43m \u001B[49m\u001B[43my_train\u001B[49m\u001B[43m)\u001B[49m\n\u001B[0;32m      2\u001B[0m y_pred \u001B[38;5;241m=\u001B[39m clf\u001B[38;5;241m.\u001B[39mpredict(X_test)\n\u001B[0;32m      3\u001B[0m accuracy_score(y_test, y_pred)\n",
      "File \u001B[1;32m~\\AppData\\Local\\Programs\\Python\\Python312\\Lib\\site-packages\\sklearn\\base.py:1474\u001B[0m, in \u001B[0;36m_fit_context.<locals>.decorator.<locals>.wrapper\u001B[1;34m(estimator, *args, **kwargs)\u001B[0m\n\u001B[0;32m   1467\u001B[0m     estimator\u001B[38;5;241m.\u001B[39m_validate_params()\n\u001B[0;32m   1469\u001B[0m \u001B[38;5;28;01mwith\u001B[39;00m config_context(\n\u001B[0;32m   1470\u001B[0m     skip_parameter_validation\u001B[38;5;241m=\u001B[39m(\n\u001B[0;32m   1471\u001B[0m         prefer_skip_nested_validation \u001B[38;5;129;01mor\u001B[39;00m global_skip_validation\n\u001B[0;32m   1472\u001B[0m     )\n\u001B[0;32m   1473\u001B[0m ):\n\u001B[1;32m-> 1474\u001B[0m     \u001B[38;5;28;01mreturn\u001B[39;00m \u001B[43mfit_method\u001B[49m\u001B[43m(\u001B[49m\u001B[43mestimator\u001B[49m\u001B[43m,\u001B[49m\u001B[43m \u001B[49m\u001B[38;5;241;43m*\u001B[39;49m\u001B[43margs\u001B[49m\u001B[43m,\u001B[49m\u001B[43m \u001B[49m\u001B[38;5;241;43m*\u001B[39;49m\u001B[38;5;241;43m*\u001B[39;49m\u001B[43mkwargs\u001B[49m\u001B[43m)\u001B[49m\n",
      "File \u001B[1;32m~\\AppData\\Local\\Programs\\Python\\Python312\\Lib\\site-packages\\sklearn\\ensemble\\_forest.py:489\u001B[0m, in \u001B[0;36mBaseForest.fit\u001B[1;34m(self, X, y, sample_weight)\u001B[0m\n\u001B[0;32m    478\u001B[0m trees \u001B[38;5;241m=\u001B[39m [\n\u001B[0;32m    479\u001B[0m     \u001B[38;5;28mself\u001B[39m\u001B[38;5;241m.\u001B[39m_make_estimator(append\u001B[38;5;241m=\u001B[39m\u001B[38;5;28;01mFalse\u001B[39;00m, random_state\u001B[38;5;241m=\u001B[39mrandom_state)\n\u001B[0;32m    480\u001B[0m     \u001B[38;5;28;01mfor\u001B[39;00m i \u001B[38;5;129;01min\u001B[39;00m \u001B[38;5;28mrange\u001B[39m(n_more_estimators)\n\u001B[0;32m    481\u001B[0m ]\n\u001B[0;32m    483\u001B[0m \u001B[38;5;66;03m# Parallel loop: we prefer the threading backend as the Cython code\u001B[39;00m\n\u001B[0;32m    484\u001B[0m \u001B[38;5;66;03m# for fitting the trees is internally releasing the Python GIL\u001B[39;00m\n\u001B[0;32m    485\u001B[0m \u001B[38;5;66;03m# making threading more efficient than multiprocessing in\u001B[39;00m\n\u001B[0;32m    486\u001B[0m \u001B[38;5;66;03m# that case. However, for joblib 0.12+ we respect any\u001B[39;00m\n\u001B[0;32m    487\u001B[0m \u001B[38;5;66;03m# parallel_backend contexts set at a higher level,\u001B[39;00m\n\u001B[0;32m    488\u001B[0m \u001B[38;5;66;03m# since correctness does not rely on using threads.\u001B[39;00m\n\u001B[1;32m--> 489\u001B[0m trees \u001B[38;5;241m=\u001B[39m \u001B[43mParallel\u001B[49m\u001B[43m(\u001B[49m\n\u001B[0;32m    490\u001B[0m \u001B[43m    \u001B[49m\u001B[43mn_jobs\u001B[49m\u001B[38;5;241;43m=\u001B[39;49m\u001B[38;5;28;43mself\u001B[39;49m\u001B[38;5;241;43m.\u001B[39;49m\u001B[43mn_jobs\u001B[49m\u001B[43m,\u001B[49m\n\u001B[0;32m    491\u001B[0m \u001B[43m    \u001B[49m\u001B[43mverbose\u001B[49m\u001B[38;5;241;43m=\u001B[39;49m\u001B[38;5;28;43mself\u001B[39;49m\u001B[38;5;241;43m.\u001B[39;49m\u001B[43mverbose\u001B[49m\u001B[43m,\u001B[49m\n\u001B[0;32m    492\u001B[0m \u001B[43m    \u001B[49m\u001B[43mprefer\u001B[49m\u001B[38;5;241;43m=\u001B[39;49m\u001B[38;5;124;43m\"\u001B[39;49m\u001B[38;5;124;43mthreads\u001B[39;49m\u001B[38;5;124;43m\"\u001B[39;49m\u001B[43m,\u001B[49m\n\u001B[0;32m    493\u001B[0m \u001B[43m\u001B[49m\u001B[43m)\u001B[49m\u001B[43m(\u001B[49m\n\u001B[0;32m    494\u001B[0m \u001B[43m    \u001B[49m\u001B[43mdelayed\u001B[49m\u001B[43m(\u001B[49m\u001B[43m_parallel_build_trees\u001B[49m\u001B[43m)\u001B[49m\u001B[43m(\u001B[49m\n\u001B[0;32m    495\u001B[0m \u001B[43m        \u001B[49m\u001B[43mt\u001B[49m\u001B[43m,\u001B[49m\n\u001B[0;32m    496\u001B[0m \u001B[43m        \u001B[49m\u001B[38;5;28;43mself\u001B[39;49m\u001B[38;5;241;43m.\u001B[39;49m\u001B[43mbootstrap\u001B[49m\u001B[43m,\u001B[49m\n\u001B[0;32m    497\u001B[0m \u001B[43m        \u001B[49m\u001B[43mX\u001B[49m\u001B[43m,\u001B[49m\n\u001B[0;32m    498\u001B[0m \u001B[43m        \u001B[49m\u001B[43my\u001B[49m\u001B[43m,\u001B[49m\n\u001B[0;32m    499\u001B[0m \u001B[43m        \u001B[49m\u001B[43msample_weight\u001B[49m\u001B[43m,\u001B[49m\n\u001B[0;32m    500\u001B[0m \u001B[43m        \u001B[49m\u001B[43mi\u001B[49m\u001B[43m,\u001B[49m\n\u001B[0;32m    501\u001B[0m \u001B[43m        \u001B[49m\u001B[38;5;28;43mlen\u001B[39;49m\u001B[43m(\u001B[49m\u001B[43mtrees\u001B[49m\u001B[43m)\u001B[49m\u001B[43m,\u001B[49m\n\u001B[0;32m    502\u001B[0m \u001B[43m        \u001B[49m\u001B[43mverbose\u001B[49m\u001B[38;5;241;43m=\u001B[39;49m\u001B[38;5;28;43mself\u001B[39;49m\u001B[38;5;241;43m.\u001B[39;49m\u001B[43mverbose\u001B[49m\u001B[43m,\u001B[49m\n\u001B[0;32m    503\u001B[0m \u001B[43m        \u001B[49m\u001B[43mclass_weight\u001B[49m\u001B[38;5;241;43m=\u001B[39;49m\u001B[38;5;28;43mself\u001B[39;49m\u001B[38;5;241;43m.\u001B[39;49m\u001B[43mclass_weight\u001B[49m\u001B[43m,\u001B[49m\n\u001B[0;32m    504\u001B[0m \u001B[43m        \u001B[49m\u001B[43mn_samples_bootstrap\u001B[49m\u001B[38;5;241;43m=\u001B[39;49m\u001B[43mn_samples_bootstrap\u001B[49m\u001B[43m,\u001B[49m\n\u001B[0;32m    505\u001B[0m \u001B[43m        \u001B[49m\u001B[43mmissing_values_in_feature_mask\u001B[49m\u001B[38;5;241;43m=\u001B[39;49m\u001B[43mmissing_values_in_feature_mask\u001B[49m\u001B[43m,\u001B[49m\n\u001B[0;32m    506\u001B[0m \u001B[43m    \u001B[49m\u001B[43m)\u001B[49m\n\u001B[0;32m    507\u001B[0m \u001B[43m    \u001B[49m\u001B[38;5;28;43;01mfor\u001B[39;49;00m\u001B[43m \u001B[49m\u001B[43mi\u001B[49m\u001B[43m,\u001B[49m\u001B[43m \u001B[49m\u001B[43mt\u001B[49m\u001B[43m \u001B[49m\u001B[38;5;129;43;01min\u001B[39;49;00m\u001B[43m \u001B[49m\u001B[38;5;28;43menumerate\u001B[39;49m\u001B[43m(\u001B[49m\u001B[43mtrees\u001B[49m\u001B[43m)\u001B[49m\n\u001B[0;32m    508\u001B[0m \u001B[43m\u001B[49m\u001B[43m)\u001B[49m\n\u001B[0;32m    510\u001B[0m \u001B[38;5;66;03m# Collect newly grown trees\u001B[39;00m\n\u001B[0;32m    511\u001B[0m \u001B[38;5;28mself\u001B[39m\u001B[38;5;241m.\u001B[39mestimators_\u001B[38;5;241m.\u001B[39mextend(trees)\n",
      "File \u001B[1;32m~\\AppData\\Local\\Programs\\Python\\Python312\\Lib\\site-packages\\sklearn\\utils\\parallel.py:67\u001B[0m, in \u001B[0;36mParallel.__call__\u001B[1;34m(self, iterable)\u001B[0m\n\u001B[0;32m     62\u001B[0m config \u001B[38;5;241m=\u001B[39m get_config()\n\u001B[0;32m     63\u001B[0m iterable_with_config \u001B[38;5;241m=\u001B[39m (\n\u001B[0;32m     64\u001B[0m     (_with_config(delayed_func, config), args, kwargs)\n\u001B[0;32m     65\u001B[0m     \u001B[38;5;28;01mfor\u001B[39;00m delayed_func, args, kwargs \u001B[38;5;129;01min\u001B[39;00m iterable\n\u001B[0;32m     66\u001B[0m )\n\u001B[1;32m---> 67\u001B[0m \u001B[38;5;28;01mreturn\u001B[39;00m \u001B[38;5;28;43msuper\u001B[39;49m\u001B[43m(\u001B[49m\u001B[43m)\u001B[49m\u001B[38;5;241;43m.\u001B[39;49m\u001B[38;5;21;43m__call__\u001B[39;49m\u001B[43m(\u001B[49m\u001B[43miterable_with_config\u001B[49m\u001B[43m)\u001B[49m\n",
      "File \u001B[1;32m~\\AppData\\Local\\Programs\\Python\\Python312\\Lib\\site-packages\\joblib\\parallel.py:1918\u001B[0m, in \u001B[0;36mParallel.__call__\u001B[1;34m(self, iterable)\u001B[0m\n\u001B[0;32m   1916\u001B[0m     output \u001B[38;5;241m=\u001B[39m \u001B[38;5;28mself\u001B[39m\u001B[38;5;241m.\u001B[39m_get_sequential_output(iterable)\n\u001B[0;32m   1917\u001B[0m     \u001B[38;5;28mnext\u001B[39m(output)\n\u001B[1;32m-> 1918\u001B[0m     \u001B[38;5;28;01mreturn\u001B[39;00m output \u001B[38;5;28;01mif\u001B[39;00m \u001B[38;5;28mself\u001B[39m\u001B[38;5;241m.\u001B[39mreturn_generator \u001B[38;5;28;01melse\u001B[39;00m \u001B[38;5;28;43mlist\u001B[39;49m\u001B[43m(\u001B[49m\u001B[43moutput\u001B[49m\u001B[43m)\u001B[49m\n\u001B[0;32m   1920\u001B[0m \u001B[38;5;66;03m# Let's create an ID that uniquely identifies the current call. If the\u001B[39;00m\n\u001B[0;32m   1921\u001B[0m \u001B[38;5;66;03m# call is interrupted early and that the same instance is immediately\u001B[39;00m\n\u001B[0;32m   1922\u001B[0m \u001B[38;5;66;03m# re-used, this id will be used to prevent workers that were\u001B[39;00m\n\u001B[0;32m   1923\u001B[0m \u001B[38;5;66;03m# concurrently finalizing a task from the previous call to run the\u001B[39;00m\n\u001B[0;32m   1924\u001B[0m \u001B[38;5;66;03m# callback.\u001B[39;00m\n\u001B[0;32m   1925\u001B[0m \u001B[38;5;28;01mwith\u001B[39;00m \u001B[38;5;28mself\u001B[39m\u001B[38;5;241m.\u001B[39m_lock:\n",
      "File \u001B[1;32m~\\AppData\\Local\\Programs\\Python\\Python312\\Lib\\site-packages\\joblib\\parallel.py:1847\u001B[0m, in \u001B[0;36mParallel._get_sequential_output\u001B[1;34m(self, iterable)\u001B[0m\n\u001B[0;32m   1845\u001B[0m \u001B[38;5;28mself\u001B[39m\u001B[38;5;241m.\u001B[39mn_dispatched_batches \u001B[38;5;241m+\u001B[39m\u001B[38;5;241m=\u001B[39m \u001B[38;5;241m1\u001B[39m\n\u001B[0;32m   1846\u001B[0m \u001B[38;5;28mself\u001B[39m\u001B[38;5;241m.\u001B[39mn_dispatched_tasks \u001B[38;5;241m+\u001B[39m\u001B[38;5;241m=\u001B[39m \u001B[38;5;241m1\u001B[39m\n\u001B[1;32m-> 1847\u001B[0m res \u001B[38;5;241m=\u001B[39m \u001B[43mfunc\u001B[49m\u001B[43m(\u001B[49m\u001B[38;5;241;43m*\u001B[39;49m\u001B[43margs\u001B[49m\u001B[43m,\u001B[49m\u001B[43m \u001B[49m\u001B[38;5;241;43m*\u001B[39;49m\u001B[38;5;241;43m*\u001B[39;49m\u001B[43mkwargs\u001B[49m\u001B[43m)\u001B[49m\n\u001B[0;32m   1848\u001B[0m \u001B[38;5;28mself\u001B[39m\u001B[38;5;241m.\u001B[39mn_completed_tasks \u001B[38;5;241m+\u001B[39m\u001B[38;5;241m=\u001B[39m \u001B[38;5;241m1\u001B[39m\n\u001B[0;32m   1849\u001B[0m \u001B[38;5;28mself\u001B[39m\u001B[38;5;241m.\u001B[39mprint_progress()\n",
      "File \u001B[1;32m~\\AppData\\Local\\Programs\\Python\\Python312\\Lib\\site-packages\\sklearn\\utils\\parallel.py:129\u001B[0m, in \u001B[0;36m_FuncWrapper.__call__\u001B[1;34m(self, *args, **kwargs)\u001B[0m\n\u001B[0;32m    127\u001B[0m     config \u001B[38;5;241m=\u001B[39m {}\n\u001B[0;32m    128\u001B[0m \u001B[38;5;28;01mwith\u001B[39;00m config_context(\u001B[38;5;241m*\u001B[39m\u001B[38;5;241m*\u001B[39mconfig):\n\u001B[1;32m--> 129\u001B[0m     \u001B[38;5;28;01mreturn\u001B[39;00m \u001B[38;5;28;43mself\u001B[39;49m\u001B[38;5;241;43m.\u001B[39;49m\u001B[43mfunction\u001B[49m\u001B[43m(\u001B[49m\u001B[38;5;241;43m*\u001B[39;49m\u001B[43margs\u001B[49m\u001B[43m,\u001B[49m\u001B[43m \u001B[49m\u001B[38;5;241;43m*\u001B[39;49m\u001B[38;5;241;43m*\u001B[39;49m\u001B[43mkwargs\u001B[49m\u001B[43m)\u001B[49m\n",
      "File \u001B[1;32m~\\AppData\\Local\\Programs\\Python\\Python312\\Lib\\site-packages\\sklearn\\ensemble\\_forest.py:192\u001B[0m, in \u001B[0;36m_parallel_build_trees\u001B[1;34m(tree, bootstrap, X, y, sample_weight, tree_idx, n_trees, verbose, class_weight, n_samples_bootstrap, missing_values_in_feature_mask)\u001B[0m\n\u001B[0;32m    189\u001B[0m     \u001B[38;5;28;01melif\u001B[39;00m class_weight \u001B[38;5;241m==\u001B[39m \u001B[38;5;124m\"\u001B[39m\u001B[38;5;124mbalanced_subsample\u001B[39m\u001B[38;5;124m\"\u001B[39m:\n\u001B[0;32m    190\u001B[0m         curr_sample_weight \u001B[38;5;241m*\u001B[39m\u001B[38;5;241m=\u001B[39m compute_sample_weight(\u001B[38;5;124m\"\u001B[39m\u001B[38;5;124mbalanced\u001B[39m\u001B[38;5;124m\"\u001B[39m, y, indices\u001B[38;5;241m=\u001B[39mindices)\n\u001B[1;32m--> 192\u001B[0m     \u001B[43mtree\u001B[49m\u001B[38;5;241;43m.\u001B[39;49m\u001B[43m_fit\u001B[49m\u001B[43m(\u001B[49m\n\u001B[0;32m    193\u001B[0m \u001B[43m        \u001B[49m\u001B[43mX\u001B[49m\u001B[43m,\u001B[49m\n\u001B[0;32m    194\u001B[0m \u001B[43m        \u001B[49m\u001B[43my\u001B[49m\u001B[43m,\u001B[49m\n\u001B[0;32m    195\u001B[0m \u001B[43m        \u001B[49m\u001B[43msample_weight\u001B[49m\u001B[38;5;241;43m=\u001B[39;49m\u001B[43mcurr_sample_weight\u001B[49m\u001B[43m,\u001B[49m\n\u001B[0;32m    196\u001B[0m \u001B[43m        \u001B[49m\u001B[43mcheck_input\u001B[49m\u001B[38;5;241;43m=\u001B[39;49m\u001B[38;5;28;43;01mFalse\u001B[39;49;00m\u001B[43m,\u001B[49m\n\u001B[0;32m    197\u001B[0m \u001B[43m        \u001B[49m\u001B[43mmissing_values_in_feature_mask\u001B[49m\u001B[38;5;241;43m=\u001B[39;49m\u001B[43mmissing_values_in_feature_mask\u001B[49m\u001B[43m,\u001B[49m\n\u001B[0;32m    198\u001B[0m \u001B[43m    \u001B[49m\u001B[43m)\u001B[49m\n\u001B[0;32m    199\u001B[0m \u001B[38;5;28;01melse\u001B[39;00m:\n\u001B[0;32m    200\u001B[0m     tree\u001B[38;5;241m.\u001B[39m_fit(\n\u001B[0;32m    201\u001B[0m         X,\n\u001B[0;32m    202\u001B[0m         y,\n\u001B[1;32m   (...)\u001B[0m\n\u001B[0;32m    205\u001B[0m         missing_values_in_feature_mask\u001B[38;5;241m=\u001B[39mmissing_values_in_feature_mask,\n\u001B[0;32m    206\u001B[0m     )\n",
      "File \u001B[1;32m~\\AppData\\Local\\Programs\\Python\\Python312\\Lib\\site-packages\\sklearn\\tree\\_classes.py:305\u001B[0m, in \u001B[0;36mBaseDecisionTree._fit\u001B[1;34m(self, X, y, sample_weight, check_input, missing_values_in_feature_mask)\u001B[0m\n\u001B[0;32m    303\u001B[0m y_encoded \u001B[38;5;241m=\u001B[39m np\u001B[38;5;241m.\u001B[39mzeros(y\u001B[38;5;241m.\u001B[39mshape, dtype\u001B[38;5;241m=\u001B[39m\u001B[38;5;28mint\u001B[39m)\n\u001B[0;32m    304\u001B[0m \u001B[38;5;28;01mfor\u001B[39;00m k \u001B[38;5;129;01min\u001B[39;00m \u001B[38;5;28mrange\u001B[39m(\u001B[38;5;28mself\u001B[39m\u001B[38;5;241m.\u001B[39mn_outputs_):\n\u001B[1;32m--> 305\u001B[0m     classes_k, y_encoded[:, k] \u001B[38;5;241m=\u001B[39m \u001B[43mnp\u001B[49m\u001B[38;5;241;43m.\u001B[39;49m\u001B[43munique\u001B[49m\u001B[43m(\u001B[49m\u001B[43my\u001B[49m\u001B[43m[\u001B[49m\u001B[43m:\u001B[49m\u001B[43m,\u001B[49m\u001B[43m \u001B[49m\u001B[43mk\u001B[49m\u001B[43m]\u001B[49m\u001B[43m,\u001B[49m\u001B[43m \u001B[49m\u001B[43mreturn_inverse\u001B[49m\u001B[38;5;241;43m=\u001B[39;49m\u001B[38;5;28;43;01mTrue\u001B[39;49;00m\u001B[43m)\u001B[49m\n\u001B[0;32m    306\u001B[0m     \u001B[38;5;28mself\u001B[39m\u001B[38;5;241m.\u001B[39mclasses_\u001B[38;5;241m.\u001B[39mappend(classes_k)\n\u001B[0;32m    307\u001B[0m     \u001B[38;5;28mself\u001B[39m\u001B[38;5;241m.\u001B[39mn_classes_\u001B[38;5;241m.\u001B[39mappend(classes_k\u001B[38;5;241m.\u001B[39mshape[\u001B[38;5;241m0\u001B[39m])\n",
      "File \u001B[1;32m~\\AppData\\Local\\Programs\\Python\\Python312\\Lib\\site-packages\\numpy\\lib\\arraysetops.py:274\u001B[0m, in \u001B[0;36munique\u001B[1;34m(ar, return_index, return_inverse, return_counts, axis, equal_nan)\u001B[0m\n\u001B[0;32m    272\u001B[0m ar \u001B[38;5;241m=\u001B[39m np\u001B[38;5;241m.\u001B[39masanyarray(ar)\n\u001B[0;32m    273\u001B[0m \u001B[38;5;28;01mif\u001B[39;00m axis \u001B[38;5;129;01mis\u001B[39;00m \u001B[38;5;28;01mNone\u001B[39;00m:\n\u001B[1;32m--> 274\u001B[0m     ret \u001B[38;5;241m=\u001B[39m \u001B[43m_unique1d\u001B[49m\u001B[43m(\u001B[49m\u001B[43mar\u001B[49m\u001B[43m,\u001B[49m\u001B[43m \u001B[49m\u001B[43mreturn_index\u001B[49m\u001B[43m,\u001B[49m\u001B[43m \u001B[49m\u001B[43mreturn_inverse\u001B[49m\u001B[43m,\u001B[49m\u001B[43m \u001B[49m\u001B[43mreturn_counts\u001B[49m\u001B[43m,\u001B[49m\u001B[43m \u001B[49m\n\u001B[0;32m    275\u001B[0m \u001B[43m                    \u001B[49m\u001B[43mequal_nan\u001B[49m\u001B[38;5;241;43m=\u001B[39;49m\u001B[43mequal_nan\u001B[49m\u001B[43m)\u001B[49m\n\u001B[0;32m    276\u001B[0m     \u001B[38;5;28;01mreturn\u001B[39;00m _unpack_tuple(ret)\n\u001B[0;32m    278\u001B[0m \u001B[38;5;66;03m# axis was specified and not None\u001B[39;00m\n",
      "File \u001B[1;32m~\\AppData\\Local\\Programs\\Python\\Python312\\Lib\\site-packages\\numpy\\lib\\arraysetops.py:359\u001B[0m, in \u001B[0;36m_unique1d\u001B[1;34m(ar, return_index, return_inverse, return_counts, equal_nan)\u001B[0m\n\u001B[0;32m    357\u001B[0m \u001B[38;5;28;01mif\u001B[39;00m return_inverse:\n\u001B[0;32m    358\u001B[0m     imask \u001B[38;5;241m=\u001B[39m np\u001B[38;5;241m.\u001B[39mcumsum(mask) \u001B[38;5;241m-\u001B[39m \u001B[38;5;241m1\u001B[39m\n\u001B[1;32m--> 359\u001B[0m     inv_idx \u001B[38;5;241m=\u001B[39m \u001B[43mnp\u001B[49m\u001B[38;5;241;43m.\u001B[39;49m\u001B[43mempty\u001B[49m\u001B[43m(\u001B[49m\u001B[43mmask\u001B[49m\u001B[38;5;241;43m.\u001B[39;49m\u001B[43mshape\u001B[49m\u001B[43m,\u001B[49m\u001B[43m \u001B[49m\u001B[43mdtype\u001B[49m\u001B[38;5;241;43m=\u001B[39;49m\u001B[43mnp\u001B[49m\u001B[38;5;241;43m.\u001B[39;49m\u001B[43mintp\u001B[49m\u001B[43m)\u001B[49m\n\u001B[0;32m    360\u001B[0m     inv_idx[perm] \u001B[38;5;241m=\u001B[39m imask\n\u001B[0;32m    361\u001B[0m     ret \u001B[38;5;241m+\u001B[39m\u001B[38;5;241m=\u001B[39m (inv_idx,)\n",
      "\u001B[1;31mKeyboardInterrupt\u001B[0m: "
     ]
    }
   ],
   "execution_count": 344
  },
  {
   "metadata": {},
   "cell_type": "markdown",
   "source": "parameter tuning",
   "id": "75319147956e989a"
  },
  {
   "metadata": {
    "ExecuteTime": {
     "end_time": "2024-05-30T23:44:21.671844Z",
     "start_time": "2024-05-30T23:44:21.671844Z"
    }
   },
   "cell_type": "code",
   "source": [
    "acc_train = list()\n",
    "acc_test = list()\n",
    "samples=np.linspace(1,len(data.keys())-1,len(data.keys())-1,dtype=int)\n",
    "\n",
    "for features in samples:\n",
    "    clf = RandomForestClassifier(n_estimators=100, \n",
    "                             criterion='gini', \n",
    "                             max_depth=None, \n",
    "                             min_samples_split=1500, \n",
    "                             min_samples_leaf=20, \n",
    "                             max_features=features,\n",
    "                             class_weight=None)\n",
    "    clf.fit(X_train, y_train)\n",
    "\n",
    "    y_pred = clf.predict(X_train)\n",
    "    acc_train.append(accuracy_score(y_train, y_pred))\n",
    "    y_pred = clf.predict(X_test)\n",
    "    acc_test.append(accuracy_score(y_test, y_pred))"
   ],
   "id": "83478253",
   "outputs": [],
   "execution_count": null
  },
  {
   "cell_type": "markdown",
   "id": "b342d4ab",
   "metadata": {},
   "source": [
    "ROC curve"
   ]
  },
  {
   "cell_type": "code",
   "id": "b5da188f",
   "metadata": {},
   "source": [
    "fpr, tpr, _ = roc_curve(y_test, y_pred)\n",
    "roc_auc = auc(fpr, tpr)\n",
    "roc_auc = roc_auc_score(y_test, y_pred, average=None)"
   ],
   "outputs": [],
   "execution_count": null
  },
  {
   "cell_type": "code",
   "id": "f146802f",
   "metadata": {},
   "source": [
    "plt.plot([0, 1], [0, 1], \"k--\", label=\"chance level (AUC = 0.5)\")\n",
    "plt.plot(fpr, tpr, color='darkorange', lw=2, label=f'ROC curve (area={roc_auc:.2f})')\n",
    "plt.xlabel(\"False Positive Rate\")\n",
    "plt.ylabel(\"True Positive Rate\")\n",
    "plt.legend()\n",
    "plt.show()"
   ],
   "outputs": [],
   "execution_count": null
  },
  {
   "cell_type": "markdown",
   "id": "46bbad60",
   "metadata": {},
   "source": [
    "Cross Validation"
   ]
  },
  {
   "cell_type": "code",
   "id": "77829a60",
   "metadata": {},
   "source": [
    "scores = cross_val_score(clf, X_train, y_train, cv=10)\n",
    "print('Accuracy: %0.4f (+/- %0.2f)' % (scores.mean(), scores.std() * 2))\n",
    "\n",
    "scores = cross_val_score(clf, X_train, y_train, cv=10, scoring='f1_macro')\n",
    "print('F1-score: %0.4f (+/- %0.2f)' % (scores.mean(), scores.std() * 2))"
   ],
   "outputs": [],
   "execution_count": null
  }
 ],
 "metadata": {
  "kernelspec": {
   "display_name": "Python 3 (ipykernel)",
   "language": "python",
   "name": "python3"
  },
  "language_info": {
   "codemirror_mode": {
    "name": "ipython",
    "version": 3
   },
   "file_extension": ".py",
   "mimetype": "text/x-python",
   "name": "python",
   "nbconvert_exporter": "python",
   "pygments_lexer": "ipython3",
   "version": "3.7.4"
  },
  "vscode": {
   "interpreter": {
    "hash": "ad2bdc8ecc057115af97d19610ffacc2b4e99fae6737bb82f5d7fb13d2f2c186"
   }
  }
 },
 "nbformat": 4,
 "nbformat_minor": 5
}
