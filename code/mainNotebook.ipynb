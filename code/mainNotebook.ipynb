{
 "cells": [
  {
   "cell_type": "markdown",
   "id": "ae636fbbc79a8b12",
   "metadata": {},
   "source": [
    "# Introduzione al Machine Learning 2023-2024\n",
    "## Bernardini Jacopo, Ciocca Giorgio, Marini Tommaso\n",
    "## Exam Project, First Part: Data Exploration, Clustering  and Classification"
   ]
  },
  {
   "cell_type": "markdown",
   "id": "ce310d7c",
   "metadata": {},
   "source": [
    "### 1) Data Exploration"
   ]
  },
  {
   "cell_type": "markdown",
   "id": "43c847192814d75a",
   "metadata": {},
   "source": [
    "Libraries import"
   ]
  },
  {
   "cell_type": "code",
   "execution_count": 1,
   "id": "6707c599167ce45a",
   "metadata": {
    "ExecuteTime": {
     "end_time": "2024-05-16T09:59:46.578134Z",
     "start_time": "2024-05-16T09:59:46.559784Z"
    }
   },
   "outputs": [],
   "source": [
    "import numpy as np\n",
    "import pandas as pd\n",
    "import pylab as plt\n",
    "from sklearn import metrics"
   ]
  },
  {
   "cell_type": "markdown",
   "id": "8dccef71ffb70e2b",
   "metadata": {},
   "source": [
    "File reading and substitution of 'notknown' values with NaNs "
   ]
  },
  {
   "cell_type": "code",
   "execution_count": 2,
   "id": "ee60770bbf92f958",
   "metadata": {
    "ExecuteTime": {
     "end_time": "2024-05-16T09:59:48.314963Z",
     "start_time": "2024-05-16T09:59:47.082911Z"
    }
   },
   "outputs": [
    {
     "data": {
      "text/html": [
       "<div>\n",
       "<style scoped>\n",
       "    .dataframe tbody tr th:only-of-type {\n",
       "        vertical-align: middle;\n",
       "    }\n",
       "\n",
       "    .dataframe tbody tr th {\n",
       "        vertical-align: top;\n",
       "    }\n",
       "\n",
       "    .dataframe thead th {\n",
       "        text-align: right;\n",
       "    }\n",
       "</style>\n",
       "<table border=\"1\" class=\"dataframe\">\n",
       "  <thead>\n",
       "    <tr style=\"text-align: right;\">\n",
       "      <th></th>\n",
       "      <th>AGEP</th>\n",
       "      <th>SCHL</th>\n",
       "      <th>MAR</th>\n",
       "      <th>RELP</th>\n",
       "      <th>DIS</th>\n",
       "      <th>ESP</th>\n",
       "      <th>CIT</th>\n",
       "      <th>MIG</th>\n",
       "      <th>MIL</th>\n",
       "      <th>ANC</th>\n",
       "      <th>NATIVITY</th>\n",
       "      <th>DEAR</th>\n",
       "      <th>DEYE</th>\n",
       "      <th>DREM</th>\n",
       "      <th>SEX</th>\n",
       "      <th>ESR</th>\n",
       "    </tr>\n",
       "  </thead>\n",
       "  <tbody>\n",
       "    <tr>\n",
       "      <th>0</th>\n",
       "      <td>21.0</td>\n",
       "      <td>16.0</td>\n",
       "      <td>5.0</td>\n",
       "      <td>17.0</td>\n",
       "      <td>2.0</td>\n",
       "      <td>0.0</td>\n",
       "      <td>1.0</td>\n",
       "      <td>1.0</td>\n",
       "      <td>4.0</td>\n",
       "      <td>1.0</td>\n",
       "      <td>1.0</td>\n",
       "      <td>2.0</td>\n",
       "      <td>2.0</td>\n",
       "      <td>2.0</td>\n",
       "      <td>2.0</td>\n",
       "      <td>True</td>\n",
       "    </tr>\n",
       "    <tr>\n",
       "      <th>1</th>\n",
       "      <td>19.0</td>\n",
       "      <td>16.0</td>\n",
       "      <td>5.0</td>\n",
       "      <td>17.0</td>\n",
       "      <td>2.0</td>\n",
       "      <td>0.0</td>\n",
       "      <td>1.0</td>\n",
       "      <td>1.0</td>\n",
       "      <td>4.0</td>\n",
       "      <td>1.0</td>\n",
       "      <td>1.0</td>\n",
       "      <td>2.0</td>\n",
       "      <td>2.0</td>\n",
       "      <td>2.0</td>\n",
       "      <td>2.0</td>\n",
       "      <td>False</td>\n",
       "    </tr>\n",
       "    <tr>\n",
       "      <th>2</th>\n",
       "      <td>24.0</td>\n",
       "      <td>12.0</td>\n",
       "      <td>5.0</td>\n",
       "      <td>16.0</td>\n",
       "      <td>1.0</td>\n",
       "      <td>0.0</td>\n",
       "      <td>1.0</td>\n",
       "      <td>1.0</td>\n",
       "      <td>4.0</td>\n",
       "      <td>1.0</td>\n",
       "      <td>1.0</td>\n",
       "      <td>2.0</td>\n",
       "      <td>2.0</td>\n",
       "      <td>1.0</td>\n",
       "      <td>1.0</td>\n",
       "      <td>False</td>\n",
       "    </tr>\n",
       "    <tr>\n",
       "      <th>3</th>\n",
       "      <td>20.0</td>\n",
       "      <td>16.0</td>\n",
       "      <td>5.0</td>\n",
       "      <td>17.0</td>\n",
       "      <td>2.0</td>\n",
       "      <td>0.0</td>\n",
       "      <td>1.0</td>\n",
       "      <td>1.0</td>\n",
       "      <td>3.0</td>\n",
       "      <td>1.0</td>\n",
       "      <td>1.0</td>\n",
       "      <td>2.0</td>\n",
       "      <td>NaN</td>\n",
       "      <td>2.0</td>\n",
       "      <td>2.0</td>\n",
       "      <td>True</td>\n",
       "    </tr>\n",
       "    <tr>\n",
       "      <th>4</th>\n",
       "      <td>31.0</td>\n",
       "      <td>17.0</td>\n",
       "      <td>5.0</td>\n",
       "      <td>17.0</td>\n",
       "      <td>2.0</td>\n",
       "      <td>0.0</td>\n",
       "      <td>1.0</td>\n",
       "      <td>3.0</td>\n",
       "      <td>4.0</td>\n",
       "      <td>4.0</td>\n",
       "      <td>1.0</td>\n",
       "      <td>2.0</td>\n",
       "      <td>2.0</td>\n",
       "      <td>2.0</td>\n",
       "      <td>1.0</td>\n",
       "      <td>True</td>\n",
       "    </tr>\n",
       "  </tbody>\n",
       "</table>\n",
       "</div>"
      ],
      "text/plain": [
       "   AGEP  SCHL  MAR  RELP  DIS  ESP  CIT  MIG  MIL  ANC  NATIVITY  DEAR  DEYE  \\\n",
       "0  21.0  16.0  5.0  17.0  2.0  0.0  1.0  1.0  4.0  1.0       1.0   2.0   2.0   \n",
       "1  19.0  16.0  5.0  17.0  2.0  0.0  1.0  1.0  4.0  1.0       1.0   2.0   2.0   \n",
       "2  24.0  12.0  5.0  16.0  1.0  0.0  1.0  1.0  4.0  1.0       1.0   2.0   2.0   \n",
       "3  20.0  16.0  5.0  17.0  2.0  0.0  1.0  1.0  3.0  1.0       1.0   2.0   NaN   \n",
       "4  31.0  17.0  5.0  17.0  2.0  0.0  1.0  3.0  4.0  4.0       1.0   2.0   2.0   \n",
       "\n",
       "   DREM  SEX    ESR  \n",
       "0   2.0  2.0   True  \n",
       "1   2.0  2.0  False  \n",
       "2   1.0  1.0  False  \n",
       "3   2.0  2.0   True  \n",
       "4   2.0  1.0   True  "
      ]
     },
     "execution_count": 2,
     "metadata": {},
     "output_type": "execute_result"
    }
   ],
   "source": [
    "filename = r'data\\pums.csv'\n",
    "data = pd.read_csv(filename, na_values='notknown')\n",
    "data.head()"
   ]
  },
  {
   "cell_type": "code",
   "execution_count": 3,
   "id": "7128baabfc4c6fce",
   "metadata": {
    "ExecuteTime": {
     "end_time": "2024-05-16T09:59:48.463714Z",
     "start_time": "2024-05-16T09:59:48.314963Z"
    }
   },
   "outputs": [
    {
     "data": {
      "text/html": [
       "<div>\n",
       "<style scoped>\n",
       "    .dataframe tbody tr th:only-of-type {\n",
       "        vertical-align: middle;\n",
       "    }\n",
       "\n",
       "    .dataframe tbody tr th {\n",
       "        vertical-align: top;\n",
       "    }\n",
       "\n",
       "    .dataframe thead th {\n",
       "        text-align: right;\n",
       "    }\n",
       "</style>\n",
       "<table border=\"1\" class=\"dataframe\">\n",
       "  <thead>\n",
       "    <tr style=\"text-align: right;\">\n",
       "      <th></th>\n",
       "      <th>AGEP</th>\n",
       "      <th>SCHL</th>\n",
       "      <th>MAR</th>\n",
       "      <th>RELP</th>\n",
       "      <th>DIS</th>\n",
       "      <th>ESP</th>\n",
       "      <th>CIT</th>\n",
       "      <th>MIG</th>\n",
       "      <th>MIL</th>\n",
       "      <th>ANC</th>\n",
       "      <th>NATIVITY</th>\n",
       "      <th>DEAR</th>\n",
       "      <th>DEYE</th>\n",
       "      <th>DREM</th>\n",
       "      <th>SEX</th>\n",
       "      <th>ESR</th>\n",
       "    </tr>\n",
       "  </thead>\n",
       "  <tbody>\n",
       "    <tr>\n",
       "      <th>89</th>\n",
       "      <td>48.0</td>\n",
       "      <td>19.0</td>\n",
       "      <td>3.0</td>\n",
       "      <td>16.0</td>\n",
       "      <td>2.0</td>\n",
       "      <td>0.0</td>\n",
       "      <td>1.0</td>\n",
       "      <td>3.0</td>\n",
       "      <td>4.0</td>\n",
       "      <td>1.0</td>\n",
       "      <td>NaN</td>\n",
       "      <td>2.0</td>\n",
       "      <td>NaN</td>\n",
       "      <td>2.0</td>\n",
       "      <td>2.0</td>\n",
       "      <td>False</td>\n",
       "    </tr>\n",
       "    <tr>\n",
       "      <th>128</th>\n",
       "      <td>64.0</td>\n",
       "      <td>12.0</td>\n",
       "      <td>2.0</td>\n",
       "      <td>NaN</td>\n",
       "      <td>1.0</td>\n",
       "      <td>0.0</td>\n",
       "      <td>1.0</td>\n",
       "      <td>1.0</td>\n",
       "      <td>4.0</td>\n",
       "      <td>1.0</td>\n",
       "      <td>1.0</td>\n",
       "      <td>1.0</td>\n",
       "      <td>NaN</td>\n",
       "      <td>2.0</td>\n",
       "      <td>1.0</td>\n",
       "      <td>False</td>\n",
       "    </tr>\n",
       "    <tr>\n",
       "      <th>135</th>\n",
       "      <td>45.0</td>\n",
       "      <td>12.0</td>\n",
       "      <td>5.0</td>\n",
       "      <td>NaN</td>\n",
       "      <td>2.0</td>\n",
       "      <td>0.0</td>\n",
       "      <td>1.0</td>\n",
       "      <td>1.0</td>\n",
       "      <td>4.0</td>\n",
       "      <td>4.0</td>\n",
       "      <td>NaN</td>\n",
       "      <td>2.0</td>\n",
       "      <td>2.0</td>\n",
       "      <td>2.0</td>\n",
       "      <td>1.0</td>\n",
       "      <td>False</td>\n",
       "    </tr>\n",
       "    <tr>\n",
       "      <th>212</th>\n",
       "      <td>25.0</td>\n",
       "      <td>19.0</td>\n",
       "      <td>5.0</td>\n",
       "      <td>16.0</td>\n",
       "      <td>2.0</td>\n",
       "      <td>0.0</td>\n",
       "      <td>1.0</td>\n",
       "      <td>3.0</td>\n",
       "      <td>4.0</td>\n",
       "      <td>1.0</td>\n",
       "      <td>NaN</td>\n",
       "      <td>NaN</td>\n",
       "      <td>2.0</td>\n",
       "      <td>2.0</td>\n",
       "      <td>1.0</td>\n",
       "      <td>False</td>\n",
       "    </tr>\n",
       "    <tr>\n",
       "      <th>230</th>\n",
       "      <td>92.0</td>\n",
       "      <td>NaN</td>\n",
       "      <td>1.0</td>\n",
       "      <td>16.0</td>\n",
       "      <td>1.0</td>\n",
       "      <td>0.0</td>\n",
       "      <td>1.0</td>\n",
       "      <td>1.0</td>\n",
       "      <td>3.0</td>\n",
       "      <td>1.0</td>\n",
       "      <td>1.0</td>\n",
       "      <td>NaN</td>\n",
       "      <td>2.0</td>\n",
       "      <td>2.0</td>\n",
       "      <td>1.0</td>\n",
       "      <td>False</td>\n",
       "    </tr>\n",
       "    <tr>\n",
       "      <th>...</th>\n",
       "      <td>...</td>\n",
       "      <td>...</td>\n",
       "      <td>...</td>\n",
       "      <td>...</td>\n",
       "      <td>...</td>\n",
       "      <td>...</td>\n",
       "      <td>...</td>\n",
       "      <td>...</td>\n",
       "      <td>...</td>\n",
       "      <td>...</td>\n",
       "      <td>...</td>\n",
       "      <td>...</td>\n",
       "      <td>...</td>\n",
       "      <td>...</td>\n",
       "      <td>...</td>\n",
       "      <td>...</td>\n",
       "    </tr>\n",
       "    <tr>\n",
       "      <th>746268</th>\n",
       "      <td>59.0</td>\n",
       "      <td>19.0</td>\n",
       "      <td>1.0</td>\n",
       "      <td>0.0</td>\n",
       "      <td>2.0</td>\n",
       "      <td>0.0</td>\n",
       "      <td>1.0</td>\n",
       "      <td>1.0</td>\n",
       "      <td>4.0</td>\n",
       "      <td>1.0</td>\n",
       "      <td>NaN</td>\n",
       "      <td>2.0</td>\n",
       "      <td>NaN</td>\n",
       "      <td>2.0</td>\n",
       "      <td>2.0</td>\n",
       "      <td>True</td>\n",
       "    </tr>\n",
       "    <tr>\n",
       "      <th>746277</th>\n",
       "      <td>12.0</td>\n",
       "      <td>9.0</td>\n",
       "      <td>5.0</td>\n",
       "      <td>2.0</td>\n",
       "      <td>2.0</td>\n",
       "      <td>2.0</td>\n",
       "      <td>1.0</td>\n",
       "      <td>1.0</td>\n",
       "      <td>0.0</td>\n",
       "      <td>2.0</td>\n",
       "      <td>NaN</td>\n",
       "      <td>NaN</td>\n",
       "      <td>2.0</td>\n",
       "      <td>2.0</td>\n",
       "      <td>2.0</td>\n",
       "      <td>False</td>\n",
       "    </tr>\n",
       "    <tr>\n",
       "      <th>746298</th>\n",
       "      <td>54.0</td>\n",
       "      <td>NaN</td>\n",
       "      <td>1.0</td>\n",
       "      <td>1.0</td>\n",
       "      <td>2.0</td>\n",
       "      <td>0.0</td>\n",
       "      <td>1.0</td>\n",
       "      <td>1.0</td>\n",
       "      <td>4.0</td>\n",
       "      <td>4.0</td>\n",
       "      <td>NaN</td>\n",
       "      <td>2.0</td>\n",
       "      <td>2.0</td>\n",
       "      <td>2.0</td>\n",
       "      <td>1.0</td>\n",
       "      <td>True</td>\n",
       "    </tr>\n",
       "    <tr>\n",
       "      <th>746323</th>\n",
       "      <td>63.0</td>\n",
       "      <td>16.0</td>\n",
       "      <td>1.0</td>\n",
       "      <td>1.0</td>\n",
       "      <td>2.0</td>\n",
       "      <td>0.0</td>\n",
       "      <td>NaN</td>\n",
       "      <td>1.0</td>\n",
       "      <td>4.0</td>\n",
       "      <td>1.0</td>\n",
       "      <td>NaN</td>\n",
       "      <td>2.0</td>\n",
       "      <td>2.0</td>\n",
       "      <td>2.0</td>\n",
       "      <td>2.0</td>\n",
       "      <td>True</td>\n",
       "    </tr>\n",
       "    <tr>\n",
       "      <th>746332</th>\n",
       "      <td>47.0</td>\n",
       "      <td>NaN</td>\n",
       "      <td>1.0</td>\n",
       "      <td>0.0</td>\n",
       "      <td>1.0</td>\n",
       "      <td>0.0</td>\n",
       "      <td>1.0</td>\n",
       "      <td>1.0</td>\n",
       "      <td>4.0</td>\n",
       "      <td>4.0</td>\n",
       "      <td>NaN</td>\n",
       "      <td>1.0</td>\n",
       "      <td>1.0</td>\n",
       "      <td>2.0</td>\n",
       "      <td>1.0</td>\n",
       "      <td>False</td>\n",
       "    </tr>\n",
       "  </tbody>\n",
       "</table>\n",
       "<p>24288 rows × 16 columns</p>\n",
       "</div>"
      ],
      "text/plain": [
       "        AGEP  SCHL  MAR  RELP  DIS  ESP  CIT  MIG  MIL  ANC  NATIVITY  DEAR  \\\n",
       "89      48.0  19.0  3.0  16.0  2.0  0.0  1.0  3.0  4.0  1.0       NaN   2.0   \n",
       "128     64.0  12.0  2.0   NaN  1.0  0.0  1.0  1.0  4.0  1.0       1.0   1.0   \n",
       "135     45.0  12.0  5.0   NaN  2.0  0.0  1.0  1.0  4.0  4.0       NaN   2.0   \n",
       "212     25.0  19.0  5.0  16.0  2.0  0.0  1.0  3.0  4.0  1.0       NaN   NaN   \n",
       "230     92.0   NaN  1.0  16.0  1.0  0.0  1.0  1.0  3.0  1.0       1.0   NaN   \n",
       "...      ...   ...  ...   ...  ...  ...  ...  ...  ...  ...       ...   ...   \n",
       "746268  59.0  19.0  1.0   0.0  2.0  0.0  1.0  1.0  4.0  1.0       NaN   2.0   \n",
       "746277  12.0   9.0  5.0   2.0  2.0  2.0  1.0  1.0  0.0  2.0       NaN   NaN   \n",
       "746298  54.0   NaN  1.0   1.0  2.0  0.0  1.0  1.0  4.0  4.0       NaN   2.0   \n",
       "746323  63.0  16.0  1.0   1.0  2.0  0.0  NaN  1.0  4.0  1.0       NaN   2.0   \n",
       "746332  47.0   NaN  1.0   0.0  1.0  0.0  1.0  1.0  4.0  4.0       NaN   1.0   \n",
       "\n",
       "        DEYE  DREM  SEX    ESR  \n",
       "89       NaN   2.0  2.0  False  \n",
       "128      NaN   2.0  1.0  False  \n",
       "135      2.0   2.0  1.0  False  \n",
       "212      2.0   2.0  1.0  False  \n",
       "230      2.0   2.0  1.0  False  \n",
       "...      ...   ...  ...    ...  \n",
       "746268   NaN   2.0  2.0   True  \n",
       "746277   2.0   2.0  2.0  False  \n",
       "746298   2.0   2.0  1.0   True  \n",
       "746323   2.0   2.0  2.0   True  \n",
       "746332   1.0   2.0  1.0  False  \n",
       "\n",
       "[24288 rows x 16 columns]"
      ]
     },
     "execution_count": 3,
     "metadata": {},
     "output_type": "execute_result"
    }
   ],
   "source": [
    "data[data.isnull().sum(axis=1)>1]"
   ]
  },
  {
   "cell_type": "markdown",
   "id": "54a1cbed1eb8ab94",
   "metadata": {},
   "source": [
    "Replace Boolean target variable with O and 1\n"
   ]
  },
  {
   "cell_type": "code",
   "execution_count": 4,
   "id": "d1c58966affbb5fc",
   "metadata": {
    "ExecuteTime": {
     "end_time": "2024-05-16T09:59:48.732328Z",
     "start_time": "2024-05-16T09:59:48.463714Z"
    }
   },
   "outputs": [
    {
     "data": {
      "text/html": [
       "<div>\n",
       "<style scoped>\n",
       "    .dataframe tbody tr th:only-of-type {\n",
       "        vertical-align: middle;\n",
       "    }\n",
       "\n",
       "    .dataframe tbody tr th {\n",
       "        vertical-align: top;\n",
       "    }\n",
       "\n",
       "    .dataframe thead th {\n",
       "        text-align: right;\n",
       "    }\n",
       "</style>\n",
       "<table border=\"1\" class=\"dataframe\">\n",
       "  <thead>\n",
       "    <tr style=\"text-align: right;\">\n",
       "      <th></th>\n",
       "      <th>AGEP</th>\n",
       "      <th>SCHL</th>\n",
       "      <th>MAR</th>\n",
       "      <th>RELP</th>\n",
       "      <th>DIS</th>\n",
       "      <th>ESP</th>\n",
       "      <th>CIT</th>\n",
       "      <th>MIG</th>\n",
       "      <th>MIL</th>\n",
       "      <th>ANC</th>\n",
       "      <th>NATIVITY</th>\n",
       "      <th>DEAR</th>\n",
       "      <th>DEYE</th>\n",
       "      <th>DREM</th>\n",
       "      <th>SEX</th>\n",
       "      <th>ESR</th>\n",
       "    </tr>\n",
       "  </thead>\n",
       "  <tbody>\n",
       "    <tr>\n",
       "      <th>0</th>\n",
       "      <td>21.0</td>\n",
       "      <td>16.0</td>\n",
       "      <td>5.0</td>\n",
       "      <td>17.0</td>\n",
       "      <td>2.0</td>\n",
       "      <td>0.0</td>\n",
       "      <td>1.0</td>\n",
       "      <td>1.0</td>\n",
       "      <td>4.0</td>\n",
       "      <td>1.0</td>\n",
       "      <td>1.0</td>\n",
       "      <td>2.0</td>\n",
       "      <td>2.0</td>\n",
       "      <td>2.0</td>\n",
       "      <td>2.0</td>\n",
       "      <td>1</td>\n",
       "    </tr>\n",
       "    <tr>\n",
       "      <th>1</th>\n",
       "      <td>19.0</td>\n",
       "      <td>16.0</td>\n",
       "      <td>5.0</td>\n",
       "      <td>17.0</td>\n",
       "      <td>2.0</td>\n",
       "      <td>0.0</td>\n",
       "      <td>1.0</td>\n",
       "      <td>1.0</td>\n",
       "      <td>4.0</td>\n",
       "      <td>1.0</td>\n",
       "      <td>1.0</td>\n",
       "      <td>2.0</td>\n",
       "      <td>2.0</td>\n",
       "      <td>2.0</td>\n",
       "      <td>2.0</td>\n",
       "      <td>0</td>\n",
       "    </tr>\n",
       "    <tr>\n",
       "      <th>2</th>\n",
       "      <td>24.0</td>\n",
       "      <td>12.0</td>\n",
       "      <td>5.0</td>\n",
       "      <td>16.0</td>\n",
       "      <td>1.0</td>\n",
       "      <td>0.0</td>\n",
       "      <td>1.0</td>\n",
       "      <td>1.0</td>\n",
       "      <td>4.0</td>\n",
       "      <td>1.0</td>\n",
       "      <td>1.0</td>\n",
       "      <td>2.0</td>\n",
       "      <td>2.0</td>\n",
       "      <td>1.0</td>\n",
       "      <td>1.0</td>\n",
       "      <td>0</td>\n",
       "    </tr>\n",
       "    <tr>\n",
       "      <th>3</th>\n",
       "      <td>20.0</td>\n",
       "      <td>16.0</td>\n",
       "      <td>5.0</td>\n",
       "      <td>17.0</td>\n",
       "      <td>2.0</td>\n",
       "      <td>0.0</td>\n",
       "      <td>1.0</td>\n",
       "      <td>1.0</td>\n",
       "      <td>3.0</td>\n",
       "      <td>1.0</td>\n",
       "      <td>1.0</td>\n",
       "      <td>2.0</td>\n",
       "      <td>NaN</td>\n",
       "      <td>2.0</td>\n",
       "      <td>2.0</td>\n",
       "      <td>1</td>\n",
       "    </tr>\n",
       "    <tr>\n",
       "      <th>4</th>\n",
       "      <td>31.0</td>\n",
       "      <td>17.0</td>\n",
       "      <td>5.0</td>\n",
       "      <td>17.0</td>\n",
       "      <td>2.0</td>\n",
       "      <td>0.0</td>\n",
       "      <td>1.0</td>\n",
       "      <td>3.0</td>\n",
       "      <td>4.0</td>\n",
       "      <td>4.0</td>\n",
       "      <td>1.0</td>\n",
       "      <td>2.0</td>\n",
       "      <td>2.0</td>\n",
       "      <td>2.0</td>\n",
       "      <td>1.0</td>\n",
       "      <td>1</td>\n",
       "    </tr>\n",
       "  </tbody>\n",
       "</table>\n",
       "</div>"
      ],
      "text/plain": [
       "   AGEP  SCHL  MAR  RELP  DIS  ESP  CIT  MIG  MIL  ANC  NATIVITY  DEAR  DEYE  \\\n",
       "0  21.0  16.0  5.0  17.0  2.0  0.0  1.0  1.0  4.0  1.0       1.0   2.0   2.0   \n",
       "1  19.0  16.0  5.0  17.0  2.0  0.0  1.0  1.0  4.0  1.0       1.0   2.0   2.0   \n",
       "2  24.0  12.0  5.0  16.0  1.0  0.0  1.0  1.0  4.0  1.0       1.0   2.0   2.0   \n",
       "3  20.0  16.0  5.0  17.0  2.0  0.0  1.0  1.0  3.0  1.0       1.0   2.0   NaN   \n",
       "4  31.0  17.0  5.0  17.0  2.0  0.0  1.0  3.0  4.0  4.0       1.0   2.0   2.0   \n",
       "\n",
       "   DREM  SEX  ESR  \n",
       "0   2.0  2.0    1  \n",
       "1   2.0  2.0    0  \n",
       "2   1.0  1.0    0  \n",
       "3   2.0  2.0    1  \n",
       "4   2.0  1.0    1  "
      ]
     },
     "execution_count": 4,
     "metadata": {},
     "output_type": "execute_result"
    }
   ],
   "source": [
    "data=data.replace({False:0, True:1})\n",
    "data = data.infer_objects(copy=False)\n",
    "data.head()"
   ]
  },
  {
   "cell_type": "markdown",
   "id": "db8622fc307ab9bf",
   "metadata": {},
   "source": [
    "First data check"
   ]
  },
  {
   "cell_type": "code",
   "execution_count": 5,
   "id": "95c136a26fe0e094",
   "metadata": {
    "ExecuteTime": {
     "end_time": "2024-05-16T09:59:48.789265Z",
     "start_time": "2024-05-16T09:59:48.732328Z"
    }
   },
   "outputs": [
    {
     "name": "stdout",
     "output_type": "stream",
     "text": [
      "<class 'pandas.core.frame.DataFrame'>\n",
      "RangeIndex: 746336 entries, 0 to 746335\n",
      "Data columns (total 16 columns):\n",
      " #   Column    Non-Null Count   Dtype  \n",
      "---  ------    --------------   -----  \n",
      " 0   AGEP      746336 non-null  float64\n",
      " 1   SCHL      709133 non-null  float64\n",
      " 2   MAR       746336 non-null  float64\n",
      " 3   RELP      709213 non-null  float64\n",
      " 4   DIS       746336 non-null  float64\n",
      " 5   ESP       746336 non-null  float64\n",
      " 6   CIT       709287 non-null  float64\n",
      " 7   MIG       746336 non-null  float64\n",
      " 8   MIL       746336 non-null  float64\n",
      " 9   ANC       746336 non-null  float64\n",
      " 10  NATIVITY  708813 non-null  float64\n",
      " 11  DEAR      708974 non-null  float64\n",
      " 12  DEYE      709267 non-null  float64\n",
      " 13  DREM      746336 non-null  float64\n",
      " 14  SEX       746336 non-null  float64\n",
      " 15  ESR       746336 non-null  int64  \n",
      "dtypes: float64(15), int64(1)\n",
      "memory usage: 91.1 MB\n"
     ]
    },
    {
     "data": {
      "text/plain": [
       "AGEP            0\n",
       "SCHL        37203\n",
       "MAR             0\n",
       "RELP        37123\n",
       "DIS             0\n",
       "ESP             0\n",
       "CIT         37049\n",
       "MIG             0\n",
       "MIL             0\n",
       "ANC             0\n",
       "NATIVITY    37523\n",
       "DEAR        37362\n",
       "DEYE        37069\n",
       "DREM            0\n",
       "SEX             0\n",
       "ESR             0\n",
       "dtype: int64"
      ]
     },
     "execution_count": 5,
     "metadata": {},
     "output_type": "execute_result"
    }
   ],
   "source": [
    "data.info()\n",
    "data.isnull().sum()"
   ]
  },
  {
   "cell_type": "code",
   "execution_count": 6,
   "id": "3f3d340b",
   "metadata": {
    "ExecuteTime": {
     "end_time": "2024-05-16T09:59:49.400208Z",
     "start_time": "2024-05-16T09:59:48.789265Z"
    }
   },
   "outputs": [
    {
     "data": {
      "text/html": [
       "<div>\n",
       "<style scoped>\n",
       "    .dataframe tbody tr th:only-of-type {\n",
       "        vertical-align: middle;\n",
       "    }\n",
       "\n",
       "    .dataframe tbody tr th {\n",
       "        vertical-align: top;\n",
       "    }\n",
       "\n",
       "    .dataframe thead th {\n",
       "        text-align: right;\n",
       "    }\n",
       "</style>\n",
       "<table border=\"1\" class=\"dataframe\">\n",
       "  <thead>\n",
       "    <tr style=\"text-align: right;\">\n",
       "      <th></th>\n",
       "      <th>AGEP</th>\n",
       "      <th>SCHL</th>\n",
       "      <th>MAR</th>\n",
       "      <th>RELP</th>\n",
       "      <th>DIS</th>\n",
       "      <th>ESP</th>\n",
       "      <th>CIT</th>\n",
       "      <th>MIG</th>\n",
       "      <th>MIL</th>\n",
       "      <th>ANC</th>\n",
       "      <th>NATIVITY</th>\n",
       "      <th>DEAR</th>\n",
       "      <th>DEYE</th>\n",
       "      <th>DREM</th>\n",
       "      <th>SEX</th>\n",
       "      <th>ESR</th>\n",
       "    </tr>\n",
       "  </thead>\n",
       "  <tbody>\n",
       "    <tr>\n",
       "      <th>AGEP</th>\n",
       "      <td>1.000000</td>\n",
       "      <td>0.526318</td>\n",
       "      <td>-0.652526</td>\n",
       "      <td>-0.160553</td>\n",
       "      <td>-0.319932</td>\n",
       "      <td>-0.495892</td>\n",
       "      <td>0.136805</td>\n",
       "      <td>-0.094053</td>\n",
       "      <td>0.610013</td>\n",
       "      <td>-0.075151</td>\n",
       "      <td>0.159861</td>\n",
       "      <td>-0.240264</td>\n",
       "      <td>-0.127749</td>\n",
       "      <td>0.297545</td>\n",
       "      <td>0.045604</td>\n",
       "      <td>0.108214</td>\n",
       "    </tr>\n",
       "    <tr>\n",
       "      <th>SCHL</th>\n",
       "      <td>0.526318</td>\n",
       "      <td>1.000000</td>\n",
       "      <td>-0.437045</td>\n",
       "      <td>-0.106178</td>\n",
       "      <td>-0.034417</td>\n",
       "      <td>-0.534254</td>\n",
       "      <td>0.013117</td>\n",
       "      <td>0.051095</td>\n",
       "      <td>0.710749</td>\n",
       "      <td>-0.055516</td>\n",
       "      <td>0.026687</td>\n",
       "      <td>-0.036743</td>\n",
       "      <td>-0.002851</td>\n",
       "      <td>0.508846</td>\n",
       "      <td>0.020629</td>\n",
       "      <td>0.433160</td>\n",
       "    </tr>\n",
       "    <tr>\n",
       "      <th>MAR</th>\n",
       "      <td>-0.652526</td>\n",
       "      <td>-0.437045</td>\n",
       "      <td>1.000000</td>\n",
       "      <td>0.324343</td>\n",
       "      <td>0.084751</td>\n",
       "      <td>0.395482</td>\n",
       "      <td>-0.197440</td>\n",
       "      <td>0.091173</td>\n",
       "      <td>-0.486286</td>\n",
       "      <td>0.067081</td>\n",
       "      <td>-0.212588</td>\n",
       "      <td>0.100159</td>\n",
       "      <td>0.034025</td>\n",
       "      <td>-0.243272</td>\n",
       "      <td>-0.037797</td>\n",
       "      <td>-0.236155</td>\n",
       "    </tr>\n",
       "    <tr>\n",
       "      <th>RELP</th>\n",
       "      <td>-0.160553</td>\n",
       "      <td>-0.106178</td>\n",
       "      <td>0.324343</td>\n",
       "      <td>1.000000</td>\n",
       "      <td>-0.090447</td>\n",
       "      <td>0.028915</td>\n",
       "      <td>-0.007710</td>\n",
       "      <td>0.202360</td>\n",
       "      <td>-0.026641</td>\n",
       "      <td>0.051846</td>\n",
       "      <td>-0.018830</td>\n",
       "      <td>-0.004358</td>\n",
       "      <td>-0.043709</td>\n",
       "      <td>-0.090742</td>\n",
       "      <td>-0.041623</td>\n",
       "      <td>-0.141054</td>\n",
       "    </tr>\n",
       "    <tr>\n",
       "      <th>DIS</th>\n",
       "      <td>-0.319932</td>\n",
       "      <td>-0.034417</td>\n",
       "      <td>0.084751</td>\n",
       "      <td>-0.090447</td>\n",
       "      <td>1.000000</td>\n",
       "      <td>0.093754</td>\n",
       "      <td>0.037943</td>\n",
       "      <td>-0.000815</td>\n",
       "      <td>-0.102686</td>\n",
       "      <td>-0.006058</td>\n",
       "      <td>0.031085</td>\n",
       "      <td>0.512855</td>\n",
       "      <td>0.405873</td>\n",
       "      <td>0.190759</td>\n",
       "      <td>-0.004698</td>\n",
       "      <td>0.209605</td>\n",
       "    </tr>\n",
       "    <tr>\n",
       "      <th>ESP</th>\n",
       "      <td>-0.495892</td>\n",
       "      <td>-0.534254</td>\n",
       "      <td>0.395482</td>\n",
       "      <td>0.028915</td>\n",
       "      <td>0.093754</td>\n",
       "      <td>1.000000</td>\n",
       "      <td>-0.139069</td>\n",
       "      <td>-0.016679</td>\n",
       "      <td>-0.650507</td>\n",
       "      <td>0.037561</td>\n",
       "      <td>-0.145389</td>\n",
       "      <td>0.063005</td>\n",
       "      <td>0.038179</td>\n",
       "      <td>-0.286680</td>\n",
       "      <td>-0.014166</td>\n",
       "      <td>-0.323080</td>\n",
       "    </tr>\n",
       "    <tr>\n",
       "      <th>CIT</th>\n",
       "      <td>0.136805</td>\n",
       "      <td>0.013117</td>\n",
       "      <td>-0.197440</td>\n",
       "      <td>-0.007710</td>\n",
       "      <td>0.037943</td>\n",
       "      <td>-0.139069</td>\n",
       "      <td>1.000000</td>\n",
       "      <td>-0.010506</td>\n",
       "      <td>0.210177</td>\n",
       "      <td>-0.154963</td>\n",
       "      <td>0.975068</td>\n",
       "      <td>0.025188</td>\n",
       "      <td>-0.000428</td>\n",
       "      <td>0.109111</td>\n",
       "      <td>0.011768</td>\n",
       "      <td>0.108761</td>\n",
       "    </tr>\n",
       "    <tr>\n",
       "      <th>MIG</th>\n",
       "      <td>-0.094053</td>\n",
       "      <td>0.051095</td>\n",
       "      <td>0.091173</td>\n",
       "      <td>0.202360</td>\n",
       "      <td>-0.000815</td>\n",
       "      <td>-0.016679</td>\n",
       "      <td>-0.010506</td>\n",
       "      <td>1.000000</td>\n",
       "      <td>0.041475</td>\n",
       "      <td>0.032566</td>\n",
       "      <td>-0.018573</td>\n",
       "      <td>0.016514</td>\n",
       "      <td>-0.003608</td>\n",
       "      <td>0.034611</td>\n",
       "      <td>-0.011250</td>\n",
       "      <td>0.020511</td>\n",
       "    </tr>\n",
       "    <tr>\n",
       "      <th>MIL</th>\n",
       "      <td>0.610013</td>\n",
       "      <td>0.710749</td>\n",
       "      <td>-0.486286</td>\n",
       "      <td>-0.026641</td>\n",
       "      <td>-0.102686</td>\n",
       "      <td>-0.650507</td>\n",
       "      <td>0.210177</td>\n",
       "      <td>0.041475</td>\n",
       "      <td>1.000000</td>\n",
       "      <td>-0.072090</td>\n",
       "      <td>0.217732</td>\n",
       "      <td>-0.041023</td>\n",
       "      <td>-0.047215</td>\n",
       "      <td>0.391905</td>\n",
       "      <td>0.084040</td>\n",
       "      <td>0.455615</td>\n",
       "    </tr>\n",
       "    <tr>\n",
       "      <th>ANC</th>\n",
       "      <td>-0.075151</td>\n",
       "      <td>-0.055516</td>\n",
       "      <td>0.067081</td>\n",
       "      <td>0.051846</td>\n",
       "      <td>-0.006058</td>\n",
       "      <td>0.037561</td>\n",
       "      <td>-0.154963</td>\n",
       "      <td>0.032566</td>\n",
       "      <td>-0.072090</td>\n",
       "      <td>1.000000</td>\n",
       "      <td>-0.160468</td>\n",
       "      <td>0.000405</td>\n",
       "      <td>0.001006</td>\n",
       "      <td>-0.050561</td>\n",
       "      <td>0.003481</td>\n",
       "      <td>-0.022187</td>\n",
       "    </tr>\n",
       "    <tr>\n",
       "      <th>NATIVITY</th>\n",
       "      <td>0.159861</td>\n",
       "      <td>0.026687</td>\n",
       "      <td>-0.212588</td>\n",
       "      <td>-0.018830</td>\n",
       "      <td>0.031085</td>\n",
       "      <td>-0.145389</td>\n",
       "      <td>0.975068</td>\n",
       "      <td>-0.018573</td>\n",
       "      <td>0.217732</td>\n",
       "      <td>-0.160468</td>\n",
       "      <td>1.000000</td>\n",
       "      <td>0.020730</td>\n",
       "      <td>-0.001856</td>\n",
       "      <td>0.109656</td>\n",
       "      <td>0.015864</td>\n",
       "      <td>0.110149</td>\n",
       "    </tr>\n",
       "    <tr>\n",
       "      <th>DEAR</th>\n",
       "      <td>-0.240264</td>\n",
       "      <td>-0.036743</td>\n",
       "      <td>0.100159</td>\n",
       "      <td>-0.004358</td>\n",
       "      <td>0.512855</td>\n",
       "      <td>0.063005</td>\n",
       "      <td>0.025188</td>\n",
       "      <td>0.016514</td>\n",
       "      <td>-0.041023</td>\n",
       "      <td>0.000405</td>\n",
       "      <td>0.020730</td>\n",
       "      <td>1.000000</td>\n",
       "      <td>0.231059</td>\n",
       "      <td>0.049433</td>\n",
       "      <td>0.034801</td>\n",
       "      <td>0.098217</td>\n",
       "    </tr>\n",
       "    <tr>\n",
       "      <th>DEYE</th>\n",
       "      <td>-0.127749</td>\n",
       "      <td>-0.002851</td>\n",
       "      <td>0.034025</td>\n",
       "      <td>-0.043709</td>\n",
       "      <td>0.405873</td>\n",
       "      <td>0.038179</td>\n",
       "      <td>-0.000428</td>\n",
       "      <td>-0.003608</td>\n",
       "      <td>-0.047215</td>\n",
       "      <td>0.001006</td>\n",
       "      <td>-0.001856</td>\n",
       "      <td>0.231059</td>\n",
       "      <td>1.000000</td>\n",
       "      <td>0.066936</td>\n",
       "      <td>-0.009537</td>\n",
       "      <td>0.072056</td>\n",
       "    </tr>\n",
       "    <tr>\n",
       "      <th>DREM</th>\n",
       "      <td>0.297545</td>\n",
       "      <td>0.508846</td>\n",
       "      <td>-0.243272</td>\n",
       "      <td>-0.090742</td>\n",
       "      <td>0.190759</td>\n",
       "      <td>-0.286680</td>\n",
       "      <td>0.109111</td>\n",
       "      <td>0.034611</td>\n",
       "      <td>0.391905</td>\n",
       "      <td>-0.050561</td>\n",
       "      <td>0.109656</td>\n",
       "      <td>0.049433</td>\n",
       "      <td>0.066936</td>\n",
       "      <td>1.000000</td>\n",
       "      <td>0.010203</td>\n",
       "      <td>0.265008</td>\n",
       "    </tr>\n",
       "    <tr>\n",
       "      <th>SEX</th>\n",
       "      <td>0.045604</td>\n",
       "      <td>0.020629</td>\n",
       "      <td>-0.037797</td>\n",
       "      <td>-0.041623</td>\n",
       "      <td>-0.004698</td>\n",
       "      <td>-0.014166</td>\n",
       "      <td>0.011768</td>\n",
       "      <td>-0.011250</td>\n",
       "      <td>0.084040</td>\n",
       "      <td>0.003481</td>\n",
       "      <td>0.015864</td>\n",
       "      <td>0.034801</td>\n",
       "      <td>-0.009537</td>\n",
       "      <td>0.010203</td>\n",
       "      <td>1.000000</td>\n",
       "      <td>-0.070236</td>\n",
       "    </tr>\n",
       "    <tr>\n",
       "      <th>ESR</th>\n",
       "      <td>0.108214</td>\n",
       "      <td>0.433160</td>\n",
       "      <td>-0.236155</td>\n",
       "      <td>-0.141054</td>\n",
       "      <td>0.209605</td>\n",
       "      <td>-0.323080</td>\n",
       "      <td>0.108761</td>\n",
       "      <td>0.020511</td>\n",
       "      <td>0.455615</td>\n",
       "      <td>-0.022187</td>\n",
       "      <td>0.110149</td>\n",
       "      <td>0.098217</td>\n",
       "      <td>0.072056</td>\n",
       "      <td>0.265008</td>\n",
       "      <td>-0.070236</td>\n",
       "      <td>1.000000</td>\n",
       "    </tr>\n",
       "  </tbody>\n",
       "</table>\n",
       "</div>"
      ],
      "text/plain": [
       "              AGEP      SCHL       MAR      RELP       DIS       ESP  \\\n",
       "AGEP      1.000000  0.526318 -0.652526 -0.160553 -0.319932 -0.495892   \n",
       "SCHL      0.526318  1.000000 -0.437045 -0.106178 -0.034417 -0.534254   \n",
       "MAR      -0.652526 -0.437045  1.000000  0.324343  0.084751  0.395482   \n",
       "RELP     -0.160553 -0.106178  0.324343  1.000000 -0.090447  0.028915   \n",
       "DIS      -0.319932 -0.034417  0.084751 -0.090447  1.000000  0.093754   \n",
       "ESP      -0.495892 -0.534254  0.395482  0.028915  0.093754  1.000000   \n",
       "CIT       0.136805  0.013117 -0.197440 -0.007710  0.037943 -0.139069   \n",
       "MIG      -0.094053  0.051095  0.091173  0.202360 -0.000815 -0.016679   \n",
       "MIL       0.610013  0.710749 -0.486286 -0.026641 -0.102686 -0.650507   \n",
       "ANC      -0.075151 -0.055516  0.067081  0.051846 -0.006058  0.037561   \n",
       "NATIVITY  0.159861  0.026687 -0.212588 -0.018830  0.031085 -0.145389   \n",
       "DEAR     -0.240264 -0.036743  0.100159 -0.004358  0.512855  0.063005   \n",
       "DEYE     -0.127749 -0.002851  0.034025 -0.043709  0.405873  0.038179   \n",
       "DREM      0.297545  0.508846 -0.243272 -0.090742  0.190759 -0.286680   \n",
       "SEX       0.045604  0.020629 -0.037797 -0.041623 -0.004698 -0.014166   \n",
       "ESR       0.108214  0.433160 -0.236155 -0.141054  0.209605 -0.323080   \n",
       "\n",
       "               CIT       MIG       MIL       ANC  NATIVITY      DEAR  \\\n",
       "AGEP      0.136805 -0.094053  0.610013 -0.075151  0.159861 -0.240264   \n",
       "SCHL      0.013117  0.051095  0.710749 -0.055516  0.026687 -0.036743   \n",
       "MAR      -0.197440  0.091173 -0.486286  0.067081 -0.212588  0.100159   \n",
       "RELP     -0.007710  0.202360 -0.026641  0.051846 -0.018830 -0.004358   \n",
       "DIS       0.037943 -0.000815 -0.102686 -0.006058  0.031085  0.512855   \n",
       "ESP      -0.139069 -0.016679 -0.650507  0.037561 -0.145389  0.063005   \n",
       "CIT       1.000000 -0.010506  0.210177 -0.154963  0.975068  0.025188   \n",
       "MIG      -0.010506  1.000000  0.041475  0.032566 -0.018573  0.016514   \n",
       "MIL       0.210177  0.041475  1.000000 -0.072090  0.217732 -0.041023   \n",
       "ANC      -0.154963  0.032566 -0.072090  1.000000 -0.160468  0.000405   \n",
       "NATIVITY  0.975068 -0.018573  0.217732 -0.160468  1.000000  0.020730   \n",
       "DEAR      0.025188  0.016514 -0.041023  0.000405  0.020730  1.000000   \n",
       "DEYE     -0.000428 -0.003608 -0.047215  0.001006 -0.001856  0.231059   \n",
       "DREM      0.109111  0.034611  0.391905 -0.050561  0.109656  0.049433   \n",
       "SEX       0.011768 -0.011250  0.084040  0.003481  0.015864  0.034801   \n",
       "ESR       0.108761  0.020511  0.455615 -0.022187  0.110149  0.098217   \n",
       "\n",
       "              DEYE      DREM       SEX       ESR  \n",
       "AGEP     -0.127749  0.297545  0.045604  0.108214  \n",
       "SCHL     -0.002851  0.508846  0.020629  0.433160  \n",
       "MAR       0.034025 -0.243272 -0.037797 -0.236155  \n",
       "RELP     -0.043709 -0.090742 -0.041623 -0.141054  \n",
       "DIS       0.405873  0.190759 -0.004698  0.209605  \n",
       "ESP       0.038179 -0.286680 -0.014166 -0.323080  \n",
       "CIT      -0.000428  0.109111  0.011768  0.108761  \n",
       "MIG      -0.003608  0.034611 -0.011250  0.020511  \n",
       "MIL      -0.047215  0.391905  0.084040  0.455615  \n",
       "ANC       0.001006 -0.050561  0.003481 -0.022187  \n",
       "NATIVITY -0.001856  0.109656  0.015864  0.110149  \n",
       "DEAR      0.231059  0.049433  0.034801  0.098217  \n",
       "DEYE      1.000000  0.066936 -0.009537  0.072056  \n",
       "DREM      0.066936  1.000000  0.010203  0.265008  \n",
       "SEX      -0.009537  0.010203  1.000000 -0.070236  \n",
       "ESR       0.072056  0.265008 -0.070236  1.000000  "
      ]
     },
     "execution_count": 6,
     "metadata": {},
     "output_type": "execute_result"
    }
   ],
   "source": [
    "data.corr()"
   ]
  },
  {
   "cell_type": "code",
   "execution_count": 7,
   "id": "eb491cce",
   "metadata": {
    "ExecuteTime": {
     "end_time": "2024-05-16T09:59:50.071379Z",
     "start_time": "2024-05-16T09:59:49.400208Z"
    }
   },
   "outputs": [
    {
     "data": {
      "text/html": [
       "<div>\n",
       "<style scoped>\n",
       "    .dataframe tbody tr th:only-of-type {\n",
       "        vertical-align: middle;\n",
       "    }\n",
       "\n",
       "    .dataframe tbody tr th {\n",
       "        vertical-align: top;\n",
       "    }\n",
       "\n",
       "    .dataframe thead th {\n",
       "        text-align: right;\n",
       "    }\n",
       "</style>\n",
       "<table border=\"1\" class=\"dataframe\">\n",
       "  <thead>\n",
       "    <tr style=\"text-align: right;\">\n",
       "      <th></th>\n",
       "      <th>AGEP</th>\n",
       "      <th>SCHL</th>\n",
       "      <th>MAR</th>\n",
       "      <th>RELP</th>\n",
       "      <th>DIS</th>\n",
       "      <th>ESP</th>\n",
       "      <th>CIT</th>\n",
       "      <th>MIG</th>\n",
       "      <th>MIL</th>\n",
       "      <th>ANC</th>\n",
       "      <th>NATIVITY</th>\n",
       "      <th>DEAR</th>\n",
       "      <th>DEYE</th>\n",
       "      <th>DREM</th>\n",
       "      <th>SEX</th>\n",
       "      <th>ESR</th>\n",
       "    </tr>\n",
       "  </thead>\n",
       "  <tbody>\n",
       "    <tr>\n",
       "      <th>count</th>\n",
       "      <td>746336.000000</td>\n",
       "      <td>709133.000000</td>\n",
       "      <td>746336.000000</td>\n",
       "      <td>709213.000000</td>\n",
       "      <td>746336.000000</td>\n",
       "      <td>746336.000000</td>\n",
       "      <td>709287.000000</td>\n",
       "      <td>746336.000000</td>\n",
       "      <td>746336.000000</td>\n",
       "      <td>746336.000000</td>\n",
       "      <td>708813.000000</td>\n",
       "      <td>708974.000000</td>\n",
       "      <td>709267.000000</td>\n",
       "      <td>746336.000000</td>\n",
       "      <td>746336.000000</td>\n",
       "      <td>746336.000000</td>\n",
       "    </tr>\n",
       "    <tr>\n",
       "      <th>mean</th>\n",
       "      <td>40.378314</td>\n",
       "      <td>15.426601</td>\n",
       "      <td>2.995578</td>\n",
       "      <td>2.679022</td>\n",
       "      <td>1.866040</td>\n",
       "      <td>0.617611</td>\n",
       "      <td>1.693518</td>\n",
       "      <td>1.247413</td>\n",
       "      <td>3.080612</td>\n",
       "      <td>1.757976</td>\n",
       "      <td>1.192635</td>\n",
       "      <td>1.960921</td>\n",
       "      <td>1.975131</td>\n",
       "      <td>1.844122</td>\n",
       "      <td>1.507907</td>\n",
       "      <td>0.453035</td>\n",
       "    </tr>\n",
       "    <tr>\n",
       "      <th>std</th>\n",
       "      <td>23.374484</td>\n",
       "      <td>6.381558</td>\n",
       "      <td>1.865125</td>\n",
       "      <td>4.336577</td>\n",
       "      <td>0.340609</td>\n",
       "      <td>1.678300</td>\n",
       "      <td>1.390452</td>\n",
       "      <td>0.675038</td>\n",
       "      <td>1.608065</td>\n",
       "      <td>1.097682</td>\n",
       "      <td>0.394369</td>\n",
       "      <td>0.193783</td>\n",
       "      <td>0.155727</td>\n",
       "      <td>0.485527</td>\n",
       "      <td>0.499938</td>\n",
       "      <td>0.497790</td>\n",
       "    </tr>\n",
       "    <tr>\n",
       "      <th>min</th>\n",
       "      <td>0.000000</td>\n",
       "      <td>0.000000</td>\n",
       "      <td>1.000000</td>\n",
       "      <td>0.000000</td>\n",
       "      <td>1.000000</td>\n",
       "      <td>0.000000</td>\n",
       "      <td>1.000000</td>\n",
       "      <td>0.000000</td>\n",
       "      <td>0.000000</td>\n",
       "      <td>1.000000</td>\n",
       "      <td>1.000000</td>\n",
       "      <td>1.000000</td>\n",
       "      <td>1.000000</td>\n",
       "      <td>0.000000</td>\n",
       "      <td>1.000000</td>\n",
       "      <td>0.000000</td>\n",
       "    </tr>\n",
       "    <tr>\n",
       "      <th>25%</th>\n",
       "      <td>20.000000</td>\n",
       "      <td>13.000000</td>\n",
       "      <td>1.000000</td>\n",
       "      <td>0.000000</td>\n",
       "      <td>2.000000</td>\n",
       "      <td>0.000000</td>\n",
       "      <td>1.000000</td>\n",
       "      <td>1.000000</td>\n",
       "      <td>2.000000</td>\n",
       "      <td>1.000000</td>\n",
       "      <td>1.000000</td>\n",
       "      <td>2.000000</td>\n",
       "      <td>2.000000</td>\n",
       "      <td>2.000000</td>\n",
       "      <td>1.000000</td>\n",
       "      <td>0.000000</td>\n",
       "    </tr>\n",
       "    <tr>\n",
       "      <th>50%</th>\n",
       "      <td>40.000000</td>\n",
       "      <td>17.000000</td>\n",
       "      <td>3.000000</td>\n",
       "      <td>1.000000</td>\n",
       "      <td>2.000000</td>\n",
       "      <td>0.000000</td>\n",
       "      <td>1.000000</td>\n",
       "      <td>1.000000</td>\n",
       "      <td>4.000000</td>\n",
       "      <td>1.000000</td>\n",
       "      <td>1.000000</td>\n",
       "      <td>2.000000</td>\n",
       "      <td>2.000000</td>\n",
       "      <td>2.000000</td>\n",
       "      <td>2.000000</td>\n",
       "      <td>0.000000</td>\n",
       "    </tr>\n",
       "    <tr>\n",
       "      <th>75%</th>\n",
       "      <td>59.000000</td>\n",
       "      <td>20.000000</td>\n",
       "      <td>5.000000</td>\n",
       "      <td>2.000000</td>\n",
       "      <td>2.000000</td>\n",
       "      <td>0.000000</td>\n",
       "      <td>1.000000</td>\n",
       "      <td>1.000000</td>\n",
       "      <td>4.000000</td>\n",
       "      <td>2.000000</td>\n",
       "      <td>1.000000</td>\n",
       "      <td>2.000000</td>\n",
       "      <td>2.000000</td>\n",
       "      <td>2.000000</td>\n",
       "      <td>2.000000</td>\n",
       "      <td>1.000000</td>\n",
       "    </tr>\n",
       "    <tr>\n",
       "      <th>max</th>\n",
       "      <td>94.000000</td>\n",
       "      <td>24.000000</td>\n",
       "      <td>5.000000</td>\n",
       "      <td>17.000000</td>\n",
       "      <td>2.000000</td>\n",
       "      <td>8.000000</td>\n",
       "      <td>5.000000</td>\n",
       "      <td>3.000000</td>\n",
       "      <td>4.000000</td>\n",
       "      <td>4.000000</td>\n",
       "      <td>2.000000</td>\n",
       "      <td>2.000000</td>\n",
       "      <td>2.000000</td>\n",
       "      <td>2.000000</td>\n",
       "      <td>2.000000</td>\n",
       "      <td>1.000000</td>\n",
       "    </tr>\n",
       "  </tbody>\n",
       "</table>\n",
       "</div>"
      ],
      "text/plain": [
       "                AGEP           SCHL            MAR           RELP  \\\n",
       "count  746336.000000  709133.000000  746336.000000  709213.000000   \n",
       "mean       40.378314      15.426601       2.995578       2.679022   \n",
       "std        23.374484       6.381558       1.865125       4.336577   \n",
       "min         0.000000       0.000000       1.000000       0.000000   \n",
       "25%        20.000000      13.000000       1.000000       0.000000   \n",
       "50%        40.000000      17.000000       3.000000       1.000000   \n",
       "75%        59.000000      20.000000       5.000000       2.000000   \n",
       "max        94.000000      24.000000       5.000000      17.000000   \n",
       "\n",
       "                 DIS            ESP            CIT            MIG  \\\n",
       "count  746336.000000  746336.000000  709287.000000  746336.000000   \n",
       "mean        1.866040       0.617611       1.693518       1.247413   \n",
       "std         0.340609       1.678300       1.390452       0.675038   \n",
       "min         1.000000       0.000000       1.000000       0.000000   \n",
       "25%         2.000000       0.000000       1.000000       1.000000   \n",
       "50%         2.000000       0.000000       1.000000       1.000000   \n",
       "75%         2.000000       0.000000       1.000000       1.000000   \n",
       "max         2.000000       8.000000       5.000000       3.000000   \n",
       "\n",
       "                 MIL            ANC       NATIVITY           DEAR  \\\n",
       "count  746336.000000  746336.000000  708813.000000  708974.000000   \n",
       "mean        3.080612       1.757976       1.192635       1.960921   \n",
       "std         1.608065       1.097682       0.394369       0.193783   \n",
       "min         0.000000       1.000000       1.000000       1.000000   \n",
       "25%         2.000000       1.000000       1.000000       2.000000   \n",
       "50%         4.000000       1.000000       1.000000       2.000000   \n",
       "75%         4.000000       2.000000       1.000000       2.000000   \n",
       "max         4.000000       4.000000       2.000000       2.000000   \n",
       "\n",
       "                DEYE           DREM            SEX            ESR  \n",
       "count  709267.000000  746336.000000  746336.000000  746336.000000  \n",
       "mean        1.975131       1.844122       1.507907       0.453035  \n",
       "std         0.155727       0.485527       0.499938       0.497790  \n",
       "min         1.000000       0.000000       1.000000       0.000000  \n",
       "25%         2.000000       2.000000       1.000000       0.000000  \n",
       "50%         2.000000       2.000000       2.000000       0.000000  \n",
       "75%         2.000000       2.000000       2.000000       1.000000  \n",
       "max         2.000000       2.000000       2.000000       1.000000  "
      ]
     },
     "execution_count": 7,
     "metadata": {},
     "output_type": "execute_result"
    }
   ],
   "source": [
    "data.describe()"
   ]
  },
  {
   "cell_type": "code",
   "execution_count": 8,
   "id": "4d032297ff367d4b",
   "metadata": {
    "ExecuteTime": {
     "end_time": "2024-05-16T09:59:50.075668Z",
     "start_time": "2024-05-16T09:59:50.071379Z"
    }
   },
   "outputs": [],
   "source": [
    "#data['SCHL'].hist()"
   ]
  },
  {
   "cell_type": "code",
   "execution_count": 9,
   "id": "e71a2bd02b67e6f7",
   "metadata": {
    "ExecuteTime": {
     "end_time": "2024-05-16T09:59:50.087656Z",
     "start_time": "2024-05-16T09:59:50.075668Z"
    }
   },
   "outputs": [],
   "source": [
    "#data['MAR'].hist()"
   ]
  },
  {
   "cell_type": "code",
   "execution_count": 10,
   "id": "373294b20e5f6b5b",
   "metadata": {
    "ExecuteTime": {
     "end_time": "2024-05-16T09:59:50.097530Z",
     "start_time": "2024-05-16T09:59:50.087656Z"
    }
   },
   "outputs": [],
   "source": [
    "#data['RELP'].hist(bins=18)\n",
    "#data[data['RELP']==7].mean()"
   ]
  },
  {
   "cell_type": "code",
   "execution_count": 11,
   "id": "b3eb087c459547f9",
   "metadata": {
    "ExecuteTime": {
     "end_time": "2024-05-16T09:59:50.108363Z",
     "start_time": "2024-05-16T09:59:50.097530Z"
    }
   },
   "outputs": [],
   "source": [
    "#data['DIS'].hist()"
   ]
  },
  {
   "cell_type": "code",
   "execution_count": 12,
   "id": "2f2f3ae0e0ec5c0a",
   "metadata": {
    "ExecuteTime": {
     "end_time": "2024-05-16T09:59:50.120931Z",
     "start_time": "2024-05-16T09:59:50.108363Z"
    }
   },
   "outputs": [],
   "source": [
    "#data['ESP'].hist()"
   ]
  },
  {
   "cell_type": "code",
   "execution_count": 13,
   "id": "aab92fab67317f7d",
   "metadata": {
    "ExecuteTime": {
     "end_time": "2024-05-16T09:59:50.132361Z",
     "start_time": "2024-05-16T09:59:50.120931Z"
    }
   },
   "outputs": [],
   "source": [
    "#data['CIT'].hist()"
   ]
  },
  {
   "cell_type": "code",
   "execution_count": 14,
   "id": "a2b9b8b6483a7a0d",
   "metadata": {
    "ExecuteTime": {
     "end_time": "2024-05-16T09:59:50.143081Z",
     "start_time": "2024-05-16T09:59:50.132361Z"
    }
   },
   "outputs": [],
   "source": [
    "#data['MIG'].hist()"
   ]
  },
  {
   "cell_type": "code",
   "execution_count": 15,
   "id": "6183246054fcf673",
   "metadata": {
    "ExecuteTime": {
     "end_time": "2024-05-16T09:59:50.154924Z",
     "start_time": "2024-05-16T09:59:50.143081Z"
    }
   },
   "outputs": [],
   "source": [
    "#data['MIL'].hist()"
   ]
  },
  {
   "cell_type": "code",
   "execution_count": 16,
   "id": "4a815b462a6b3648",
   "metadata": {
    "ExecuteTime": {
     "end_time": "2024-05-16T09:59:50.165363Z",
     "start_time": "2024-05-16T09:59:50.154924Z"
    }
   },
   "outputs": [],
   "source": [
    "#data['ANC'].hist()"
   ]
  },
  {
   "cell_type": "code",
   "execution_count": 17,
   "id": "6639608628f66df6",
   "metadata": {
    "ExecuteTime": {
     "end_time": "2024-05-16T09:59:50.180524Z",
     "start_time": "2024-05-16T09:59:50.165363Z"
    }
   },
   "outputs": [],
   "source": [
    "#data['NATIVITY'].hist()"
   ]
  },
  {
   "cell_type": "code",
   "execution_count": 18,
   "id": "6ee7b65e2417bb92",
   "metadata": {
    "ExecuteTime": {
     "end_time": "2024-05-16T09:59:50.190818Z",
     "start_time": "2024-05-16T09:59:50.180524Z"
    }
   },
   "outputs": [],
   "source": [
    " #data['DEAR'].hist()"
   ]
  },
  {
   "cell_type": "code",
   "execution_count": 19,
   "id": "f224f1ddbcbd9c96",
   "metadata": {
    "ExecuteTime": {
     "end_time": "2024-05-16T09:59:50.201157Z",
     "start_time": "2024-05-16T09:59:50.190818Z"
    }
   },
   "outputs": [],
   "source": [
    "#data['DEYE'].hist()"
   ]
  },
  {
   "cell_type": "code",
   "execution_count": 20,
   "id": "530973aa3823bc17",
   "metadata": {
    "ExecuteTime": {
     "end_time": "2024-05-16T09:59:50.212357Z",
     "start_time": "2024-05-16T09:59:50.201157Z"
    }
   },
   "outputs": [],
   "source": [
    "#data['DREM'].hist()"
   ]
  },
  {
   "cell_type": "code",
   "execution_count": 21,
   "id": "a34e84f19c8d4765",
   "metadata": {
    "ExecuteTime": {
     "end_time": "2024-05-16T09:59:50.223194Z",
     "start_time": "2024-05-16T09:59:50.212357Z"
    }
   },
   "outputs": [],
   "source": [
    "#data['SEX'].hist()"
   ]
  },
  {
   "cell_type": "code",
   "execution_count": 22,
   "id": "374eee89059b6d53",
   "metadata": {
    "ExecuteTime": {
     "end_time": "2024-05-16T09:59:50.235658Z",
     "start_time": "2024-05-16T09:59:50.223194Z"
    }
   },
   "outputs": [],
   "source": [
    "#data['ESR'].hist()"
   ]
  },
  {
   "cell_type": "code",
   "execution_count": 23,
   "id": "77fef287f90ea527",
   "metadata": {
    "ExecuteTime": {
     "end_time": "2024-05-16T09:59:50.247225Z",
     "start_time": "2024-05-16T09:59:50.235658Z"
    }
   },
   "outputs": [],
   "source": [
    "#data.corr()"
   ]
  },
  {
   "cell_type": "markdown",
   "id": "ff43accb44addea8",
   "metadata": {},
   "source": [
    "substituted NaN values of DEYE and DEAR with mode"
   ]
  },
  {
   "cell_type": "code",
   "execution_count": 24,
   "id": "7ee0e40354bb20b8",
   "metadata": {
    "ExecuteTime": {
     "end_time": "2024-05-16T09:59:50.351988Z",
     "start_time": "2024-05-16T09:59:50.247225Z"
    }
   },
   "outputs": [
    {
     "data": {
      "text/plain": [
       "AGEP            0\n",
       "SCHL        37203\n",
       "MAR             0\n",
       "RELP        37123\n",
       "DIS             0\n",
       "ESP             0\n",
       "CIT         37049\n",
       "MIG             0\n",
       "MIL             0\n",
       "ANC             0\n",
       "NATIVITY    37523\n",
       "DEAR            0\n",
       "DEYE            0\n",
       "DREM            0\n",
       "SEX             0\n",
       "ESR             0\n",
       "dtype: int64"
      ]
     },
     "execution_count": 24,
     "metadata": {},
     "output_type": "execute_result"
    }
   ],
   "source": [
    "data['DEYE']=data['DEYE'].fillna(2)\n",
    "data['DEAR']=data['DEAR'].fillna(2)\n",
    "data.isna().sum()"
   ]
  },
  {
   "cell_type": "markdown",
   "id": "147786f3e23c4a5f",
   "metadata": {},
   "source": [
    "dropping every row in which both CIT and NATIVITY are NaNs"
   ]
  },
  {
   "cell_type": "code",
   "execution_count": 25,
   "id": "414226e89df0f437",
   "metadata": {
    "ExecuteTime": {
     "end_time": "2024-05-16T09:59:50.426217Z",
     "start_time": "2024-05-16T09:59:50.353996Z"
    }
   },
   "outputs": [],
   "source": [
    "cond = data['CIT'].isna() & data['NATIVITY'].isna()\n",
    "data = data.loc[~cond]"
   ]
  },
  {
   "cell_type": "code",
   "execution_count": 26,
   "id": "84ed7bcceb707642",
   "metadata": {
    "ExecuteTime": {
     "end_time": "2024-05-16T09:59:50.609346Z",
     "start_time": "2024-05-16T09:59:50.426217Z"
    }
   },
   "outputs": [
    {
     "data": {
      "text/plain": [
       "<Axes: >"
      ]
     },
     "execution_count": 26,
     "metadata": {},
     "output_type": "execute_result"
    },
    {
     "data": {
      "image/png": "[encoded data removed]",
      "text/plain": [
       "<Figure size 640x480 with 1 Axes>"
      ]
     },
     "metadata": {},
     "output_type": "display_data"
    }
   ],
   "source": [
    "data['NATIVITY'] = data['NATIVITY'] - 1\n",
    "data['NATIVITY'].hist()"
   ]
  },
  {
   "cell_type": "code",
   "execution_count": 27,
   "id": "de4ae3e7506beee3",
   "metadata": {
    "ExecuteTime": {
     "end_time": "2024-05-16T09:59:50.614201Z",
     "start_time": "2024-05-16T09:59:50.609346Z"
    }
   },
   "outputs": [],
   "source": [
    "#pd.plotting.scatter_matrix(data[['CIT','NATIVITY']])"
   ]
  },
  {
   "cell_type": "markdown",
   "id": "504d4dcfd94be16e",
   "metadata": {},
   "source": [
    "reconstruction of NAT from CIT"
   ]
  },
  {
   "cell_type": "code",
   "execution_count": 28,
   "id": "993af1c9c50da206",
   "metadata": {
    "ExecuteTime": {
     "end_time": "2024-05-16T09:59:50.635151Z",
     "start_time": "2024-05-16T09:59:50.614201Z"
    }
   },
   "outputs": [],
   "source": [
    "data.loc[(data['NATIVITY'].isnull()) & (data['CIT']<4), 'NATIVITY'] = 0\n",
    "data.loc[(data['NATIVITY'].isnull()) & (data['CIT']>3), 'NATIVITY'] = 1"
   ]
  },
  {
   "cell_type": "markdown",
   "id": "1dd7175e5c6fe8d9",
   "metadata": {},
   "source": [
    "checking whether we did everything correctly"
   ]
  },
  {
   "cell_type": "code",
   "execution_count": 29,
   "id": "9095479c4eb2b005",
   "metadata": {
    "ExecuteTime": {
     "end_time": "2024-05-16T09:59:50.643945Z",
     "start_time": "2024-05-16T09:59:50.638160Z"
    }
   },
   "outputs": [],
   "source": [
    "#pd.plotting.scatter_matrix(data[['CIT','NATIVITY']])"
   ]
  },
  {
   "cell_type": "markdown",
   "id": "e5022653",
   "metadata": {},
   "source": [
    "Fill CIT from correlation with NATIVITY "
   ]
  },
  {
   "cell_type": "code",
   "execution_count": 30,
   "id": "578497502b0c5dd",
   "metadata": {
    "ExecuteTime": {
     "end_time": "2024-05-16T09:59:50.699626Z",
     "start_time": "2024-05-16T09:59:50.643945Z"
    }
   },
   "outputs": [
    {
     "data": {
      "text/plain": [
       "AGEP            0\n",
       "SCHL        37103\n",
       "MAR             0\n",
       "RELP        37036\n",
       "DIS             0\n",
       "ESP             0\n",
       "CIT             0\n",
       "MIG             0\n",
       "MIL             0\n",
       "ANC             0\n",
       "NATIVITY        0\n",
       "DEAR            0\n",
       "DEYE            0\n",
       "DREM            0\n",
       "SEX             0\n",
       "ESR             0\n",
       "dtype: int64"
      ]
     },
     "execution_count": 30,
     "metadata": {},
     "output_type": "execute_result"
    }
   ],
   "source": [
    "data.loc[(data['CIT'].isnull()) & (data['NATIVITY']==0), 'CIT'] = 1\n",
    "data.loc[(data['CIT'].isnull()) & (data['NATIVITY']==1), 'CIT'] = np.random.randint(4,5)\n",
    "data.isna().sum()"
   ]
  },
  {
   "cell_type": "code",
   "execution_count": 31,
   "id": "8cdf9a79",
   "metadata": {
    "ExecuteTime": {
     "end_time": "2024-05-16T09:59:50.806588Z",
     "start_time": "2024-05-16T09:59:50.701134Z"
    }
   },
   "outputs": [
    {
     "data": {
      "text/plain": [
       "AGEP            0\n",
       "SCHL        37103\n",
       "MAR             0\n",
       "DIS             0\n",
       "ESP             0\n",
       "CIT             0\n",
       "MIG             0\n",
       "MIL             0\n",
       "ANC             0\n",
       "NATIVITY        0\n",
       "DEAR            0\n",
       "DEYE            0\n",
       "DREM            0\n",
       "SEX             0\n",
       "ESR             0\n",
       "dtype: int64"
      ]
     },
     "execution_count": 31,
     "metadata": {},
     "output_type": "execute_result"
    }
   ],
   "source": [
    "data=data.drop('RELP', axis=1)\n",
    "data.isna().sum()"
   ]
  },
  {
   "cell_type": "markdown",
   "id": "60085bb9",
   "metadata": {},
   "source": [
    "Fill missing school by correlation with AGE"
   ]
  },
  {
   "cell_type": "code",
   "execution_count": 32,
   "id": "d26951e5",
   "metadata": {
    "ExecuteTime": {
     "end_time": "2024-05-16T09:59:50.815641Z",
     "start_time": "2024-05-16T09:59:50.806588Z"
    }
   },
   "outputs": [],
   "source": [
    "#pd.plotting.scatter_matrix(data[['SCHL','AGEP']])"
   ]
  },
  {
   "cell_type": "code",
   "execution_count": 33,
   "id": "e3288c4f",
   "metadata": {
    "ExecuteTime": {
     "end_time": "2024-05-16T09:59:51.090178Z",
     "start_time": "2024-05-16T09:59:50.815641Z"
    }
   },
   "outputs": [
    {
     "data": {
      "text/plain": [
       "AGEP        0\n",
       "SCHL        0\n",
       "MAR         0\n",
       "DIS         0\n",
       "ESP         0\n",
       "CIT         0\n",
       "MIG         0\n",
       "MIL         0\n",
       "ANC         0\n",
       "NATIVITY    0\n",
       "DEAR        0\n",
       "DEYE        0\n",
       "DREM        0\n",
       "SEX         0\n",
       "ESR         0\n",
       "dtype: int64"
      ]
     },
     "execution_count": 33,
     "metadata": {},
     "output_type": "execute_result"
    }
   ],
   "source": [
    "data['SCHL_mode']=data.groupby('AGEP')['SCHL'].transform(lambda x: x.mode().iloc[0])\n",
    "data['SCHL']=data['SCHL'].fillna(data['SCHL_mode'])\n",
    "data.drop('SCHL_mode', axis=1, inplace=True)\n",
    "data.isna().sum()"
   ]
  },
  {
   "cell_type": "markdown",
   "id": "b6a99170",
   "metadata": {},
   "source": [
    "Checking everything is okay"
   ]
  },
  {
   "cell_type": "code",
   "execution_count": 34,
   "id": "673b93be",
   "metadata": {
    "ExecuteTime": {
     "end_time": "2024-05-16T09:59:51.095486Z",
     "start_time": "2024-05-16T09:59:51.090178Z"
    }
   },
   "outputs": [],
   "source": [
    "#pd.plotting.scatter_matrix(data[['SCHL','AGEP']])"
   ]
  },
  {
   "cell_type": "markdown",
   "id": "fb6dda8f",
   "metadata": {},
   "source": [
    "### 2) CLUSTERING"
   ]
  },
  {
   "cell_type": "code",
   "execution_count": 35,
   "id": "f32d1150",
   "metadata": {
    "ExecuteTime": {
     "end_time": "2024-05-16T09:59:51.146929Z",
     "start_time": "2024-05-16T09:59:51.095486Z"
    }
   },
   "outputs": [],
   "source": [
    "data_target = data['ESR']\n",
    "data.drop('ESR', axis=1, inplace=True)"
   ]
  },
  {
   "cell_type": "markdown",
   "id": "76dae806",
   "metadata": {},
   "source": [
    "Normalization"
   ]
  },
  {
   "cell_type": "code",
   "execution_count": 36,
   "id": "42c095c2",
   "metadata": {
    "ExecuteTime": {
     "end_time": "2024-05-16T09:59:51.309229Z",
     "start_time": "2024-05-16T09:59:51.148944Z"
    }
   },
   "outputs": [
    {
     "data": {
      "text/html": [
       "<style>#sk-container-id-1 {color: black;background-color: white;}#sk-container-id-1 pre{padding: 0;}#sk-container-id-1 div.sk-toggleable {background-color: white;}#sk-container-id-1 label.sk-toggleable__label {cursor: pointer;display: block;width: 100%;margin-bottom: 0;padding: 0.3em;box-sizing: border-box;text-align: center;}#sk-container-id-1 label.sk-toggleable__label-arrow:before {content: \"▸\";float: left;margin-right: 0.25em;color: #696969;}#sk-container-id-1 label.sk-toggleable__label-arrow:hover:before {color: black;}#sk-container-id-1 div.sk-estimator:hover label.sk-toggleable__label-arrow:before {color: black;}#sk-container-id-1 div.sk-toggleable__content {max-height: 0;max-width: 0;overflow: hidden;text-align: left;background-color: #f0f8ff;}#sk-container-id-1 div.sk-toggleable__content pre {margin: 0.2em;color: black;border-radius: 0.25em;background-color: #f0f8ff;}#sk-container-id-1 input.sk-toggleable__control:checked~div.sk-toggleable__content {max-height: 200px;max-width: 100%;overflow: auto;}#sk-container-id-1 input.sk-toggleable__control:checked~label.sk-toggleable__label-arrow:before {content: \"▾\";}#sk-container-id-1 div.sk-estimator input.sk-toggleable__control:checked~label.sk-toggleable__label {background-color: #d4ebff;}#sk-container-id-1 div.sk-label input.sk-toggleable__control:checked~label.sk-toggleable__label {background-color: #d4ebff;}#sk-container-id-1 input.sk-hidden--visually {border: 0;clip: rect(1px 1px 1px 1px);clip: rect(1px, 1px, 1px, 1px);height: 1px;margin: -1px;overflow: hidden;padding: 0;position: absolute;width: 1px;}#sk-container-id-1 div.sk-estimator {font-family: monospace;background-color: #f0f8ff;border: 1px dotted black;border-radius: 0.25em;box-sizing: border-box;margin-bottom: 0.5em;}#sk-container-id-1 div.sk-estimator:hover {background-color: #d4ebff;}#sk-container-id-1 div.sk-parallel-item::after {content: \"\";width: 100%;border-bottom: 1px solid gray;flex-grow: 1;}#sk-container-id-1 div.sk-label:hover label.sk-toggleable__label {background-color: #d4ebff;}#sk-container-id-1 div.sk-serial::before {content: \"\";position: absolute;border-left: 1px solid gray;box-sizing: border-box;top: 0;bottom: 0;left: 50%;z-index: 0;}#sk-container-id-1 div.sk-serial {display: flex;flex-direction: column;align-items: center;background-color: white;padding-right: 0.2em;padding-left: 0.2em;position: relative;}#sk-container-id-1 div.sk-item {position: relative;z-index: 1;}#sk-container-id-1 div.sk-parallel {display: flex;align-items: stretch;justify-content: center;background-color: white;position: relative;}#sk-container-id-1 div.sk-item::before, #sk-container-id-1 div.sk-parallel-item::before {content: \"\";position: absolute;border-left: 1px solid gray;box-sizing: border-box;top: 0;bottom: 0;left: 50%;z-index: -1;}#sk-container-id-1 div.sk-parallel-item {display: flex;flex-direction: column;z-index: 1;position: relative;background-color: white;}#sk-container-id-1 div.sk-parallel-item:first-child::after {align-self: flex-end;width: 50%;}#sk-container-id-1 div.sk-parallel-item:last-child::after {align-self: flex-start;width: 50%;}#sk-container-id-1 div.sk-parallel-item:only-child::after {width: 0;}#sk-container-id-1 div.sk-dashed-wrapped {border: 1px dashed gray;margin: 0 0.4em 0.5em 0.4em;box-sizing: border-box;padding-bottom: 0.4em;background-color: white;}#sk-container-id-1 div.sk-label label {font-family: monospace;font-weight: bold;display: inline-block;line-height: 1.2em;}#sk-container-id-1 div.sk-label-container {text-align: center;}#sk-container-id-1 div.sk-container {/* jupyter's `normalize.less` sets `[hidden] { display: none; }` but bootstrap.min.css set `[hidden] { display: none !important; }` so we also need the `!important` here to be able to override the default hidden behavior on the sphinx rendered scikit-learn.org. See: https://github.com/scikit-learn/scikit-learn/issues/21755 */display: inline-block !important;position: relative;}#sk-container-id-1 div.sk-text-repr-fallback {display: none;}</style><div id=\"sk-container-id-1\" class=\"sk-top-container\"><div class=\"sk-text-repr-fallback\"><pre>StandardScaler()</pre><b>In a Jupyter environment, please rerun this cell to show the HTML representation or trust the notebook. <br />On GitHub, the HTML representation is unable to render, please try loading this page with nbviewer.org.</b></div><div class=\"sk-container\" hidden><div class=\"sk-item\"><div class=\"sk-estimator sk-toggleable\"><input class=\"sk-toggleable__control sk-hidden--visually\" id=\"sk-estimator-id-1\" type=\"checkbox\" checked><label for=\"sk-estimator-id-1\" class=\"sk-toggleable__label sk-toggleable__label-arrow\">StandardScaler</label><div class=\"sk-toggleable__content\"><pre>StandardScaler()</pre></div></div></div></div></div>"
      ],
      "text/plain": [
       "StandardScaler()"
      ]
     },
     "execution_count": 36,
     "metadata": {},
     "output_type": "execute_result"
    }
   ],
   "source": [
    "from sklearn.preprocessing import StandardScaler, MinMaxScaler\n",
    "scaler = StandardScaler()\n",
    "scaler.fit(data.values)"
   ]
  },
  {
   "cell_type": "code",
   "execution_count": 37,
   "id": "fb6a11e5",
   "metadata": {
    "ExecuteTime": {
     "end_time": "2024-05-16T09:59:51.446139Z",
     "start_time": "2024-05-16T09:59:51.309229Z"
    }
   },
   "outputs": [],
   "source": [
    "data_scaled=scaler.transform(data.values)"
   ]
  },
  {
   "cell_type": "markdown",
   "id": "72946fc3",
   "metadata": {},
   "source": [
    "#### K-means"
   ]
  },
  {
   "cell_type": "code",
   "execution_count": 38,
   "id": "141dcf5e",
   "metadata": {
    "ExecuteTime": {
     "end_time": "2024-05-16T09:59:51.452833Z",
     "start_time": "2024-05-16T09:59:51.448150Z"
    }
   },
   "outputs": [],
   "source": [
    "from sklearn.cluster import KMeans"
   ]
  },
  {
   "cell_type": "code",
   "execution_count": 39,
   "id": "902d180b",
   "metadata": {
    "ExecuteTime": {
     "end_time": "2024-05-16T10:18:46.255757Z",
     "start_time": "2024-05-16T10:18:39.947122Z"
    }
   },
   "outputs": [
    {
     "data": {
      "text/html": [
       "<style>#sk-container-id-2 {color: black;background-color: white;}#sk-container-id-2 pre{padding: 0;}#sk-container-id-2 div.sk-toggleable {background-color: white;}#sk-container-id-2 label.sk-toggleable__label {cursor: pointer;display: block;width: 100%;margin-bottom: 0;padding: 0.3em;box-sizing: border-box;text-align: center;}#sk-container-id-2 label.sk-toggleable__label-arrow:before {content: \"▸\";float: left;margin-right: 0.25em;color: #696969;}#sk-container-id-2 label.sk-toggleable__label-arrow:hover:before {color: black;}#sk-container-id-2 div.sk-estimator:hover label.sk-toggleable__label-arrow:before {color: black;}#sk-container-id-2 div.sk-toggleable__content {max-height: 0;max-width: 0;overflow: hidden;text-align: left;background-color: #f0f8ff;}#sk-container-id-2 div.sk-toggleable__content pre {margin: 0.2em;color: black;border-radius: 0.25em;background-color: #f0f8ff;}#sk-container-id-2 input.sk-toggleable__control:checked~div.sk-toggleable__content {max-height: 200px;max-width: 100%;overflow: auto;}#sk-container-id-2 input.sk-toggleable__control:checked~label.sk-toggleable__label-arrow:before {content: \"▾\";}#sk-container-id-2 div.sk-estimator input.sk-toggleable__control:checked~label.sk-toggleable__label {background-color: #d4ebff;}#sk-container-id-2 div.sk-label input.sk-toggleable__control:checked~label.sk-toggleable__label {background-color: #d4ebff;}#sk-container-id-2 input.sk-hidden--visually {border: 0;clip: rect(1px 1px 1px 1px);clip: rect(1px, 1px, 1px, 1px);height: 1px;margin: -1px;overflow: hidden;padding: 0;position: absolute;width: 1px;}#sk-container-id-2 div.sk-estimator {font-family: monospace;background-color: #f0f8ff;border: 1px dotted black;border-radius: 0.25em;box-sizing: border-box;margin-bottom: 0.5em;}#sk-container-id-2 div.sk-estimator:hover {background-color: #d4ebff;}#sk-container-id-2 div.sk-parallel-item::after {content: \"\";width: 100%;border-bottom: 1px solid gray;flex-grow: 1;}#sk-container-id-2 div.sk-label:hover label.sk-toggleable__label {background-color: #d4ebff;}#sk-container-id-2 div.sk-serial::before {content: \"\";position: absolute;border-left: 1px solid gray;box-sizing: border-box;top: 0;bottom: 0;left: 50%;z-index: 0;}#sk-container-id-2 div.sk-serial {display: flex;flex-direction: column;align-items: center;background-color: white;padding-right: 0.2em;padding-left: 0.2em;position: relative;}#sk-container-id-2 div.sk-item {position: relative;z-index: 1;}#sk-container-id-2 div.sk-parallel {display: flex;align-items: stretch;justify-content: center;background-color: white;position: relative;}#sk-container-id-2 div.sk-item::before, #sk-container-id-2 div.sk-parallel-item::before {content: \"\";position: absolute;border-left: 1px solid gray;box-sizing: border-box;top: 0;bottom: 0;left: 50%;z-index: -1;}#sk-container-id-2 div.sk-parallel-item {display: flex;flex-direction: column;z-index: 1;position: relative;background-color: white;}#sk-container-id-2 div.sk-parallel-item:first-child::after {align-self: flex-end;width: 50%;}#sk-container-id-2 div.sk-parallel-item:last-child::after {align-self: flex-start;width: 50%;}#sk-container-id-2 div.sk-parallel-item:only-child::after {width: 0;}#sk-container-id-2 div.sk-dashed-wrapped {border: 1px dashed gray;margin: 0 0.4em 0.5em 0.4em;box-sizing: border-box;padding-bottom: 0.4em;background-color: white;}#sk-container-id-2 div.sk-label label {font-family: monospace;font-weight: bold;display: inline-block;line-height: 1.2em;}#sk-container-id-2 div.sk-label-container {text-align: center;}#sk-container-id-2 div.sk-container {/* jupyter's `normalize.less` sets `[hidden] { display: none; }` but bootstrap.min.css set `[hidden] { display: none !important; }` so we also need the `!important` here to be able to override the default hidden behavior on the sphinx rendered scikit-learn.org. See: https://github.com/scikit-learn/scikit-learn/issues/21755 */display: inline-block !important;position: relative;}#sk-container-id-2 div.sk-text-repr-fallback {display: none;}</style><div id=\"sk-container-id-2\" class=\"sk-top-container\"><div class=\"sk-text-repr-fallback\"><pre>KMeans(n_clusters=2, n_init=50)</pre><b>In a Jupyter environment, please rerun this cell to show the HTML representation or trust the notebook. <br />On GitHub, the HTML representation is unable to render, please try loading this page with nbviewer.org.</b></div><div class=\"sk-container\" hidden><div class=\"sk-item\"><div class=\"sk-estimator sk-toggleable\"><input class=\"sk-toggleable__control sk-hidden--visually\" id=\"sk-estimator-id-2\" type=\"checkbox\" checked><label for=\"sk-estimator-id-2\" class=\"sk-toggleable__label sk-toggleable__label-arrow\">KMeans</label><div class=\"sk-toggleable__content\"><pre>KMeans(n_clusters=2, n_init=50)</pre></div></div></div></div></div>"
      ],
      "text/plain": [
       "KMeans(n_clusters=2, n_init=50)"
      ]
     },
     "execution_count": 39,
     "metadata": {},
     "output_type": "execute_result"
    }
   ],
   "source": [
    "kmeans = KMeans(n_clusters=2, n_init=50, max_iter=300)\n",
    "kmeans.fit(data_scaled)"
   ]
  },
  {
   "cell_type": "code",
   "execution_count": 40,
   "id": "c34b7828",
   "metadata": {
    "ExecuteTime": {
     "end_time": "2024-05-16T09:59:57.726033Z",
     "start_time": "2024-05-16T09:59:57.707734Z"
    }
   },
   "outputs": [
    {
     "data": {
      "text/plain": [
       "(array([0, 1]), array([593195, 151279], dtype=int64))"
      ]
     },
     "execution_count": 40,
     "metadata": {},
     "output_type": "execute_result"
    }
   ],
   "source": [
    "np.unique(kmeans.labels_, return_counts=True)"
   ]
  },
  {
   "cell_type": "code",
   "execution_count": 41,
   "id": "0243bf9e",
   "metadata": {
    "ExecuteTime": {
     "end_time": "2024-05-16T09:59:57.733332Z",
     "start_time": "2024-05-16T09:59:57.726033Z"
    }
   },
   "outputs": [
    {
     "data": {
      "text/plain": [
       "337267"
      ]
     },
     "execution_count": 41,
     "metadata": {},
     "output_type": "execute_result"
    }
   ],
   "source": [
    "data_target.sum()"
   ]
  },
  {
   "cell_type": "markdown",
   "id": "18c27e0f",
   "metadata": {},
   "source": [
    "Visualization"
   ]
  },
  {
   "cell_type": "markdown",
   "id": "6fb6319d",
   "metadata": {},
   "source": [
    "Parallel coordinates"
   ]
  },
  {
   "cell_type": "code",
   "execution_count": 42,
   "id": "84801c24",
   "metadata": {
    "ExecuteTime": {
     "end_time": "2024-05-16T09:59:57.889358Z",
     "start_time": "2024-05-16T09:59:57.733908Z"
    }
   },
   "outputs": [
    {
     "data": {
      "image/png": "[encoded data removed]",
      "text/plain": [
       "<Figure size 800x400 with 1 Axes>"
      ]
     },
     "metadata": {},
     "output_type": "display_data"
    }
   ],
   "source": [
    "centers = kmeans.cluster_centers_\n",
    "\n",
    "plt.figure(figsize=(8, 4))\n",
    "for i in range(0, len(centers)):\n",
    "    plt.plot(centers[i], marker='o', label='Cluster %s' % i)\n",
    "plt.tick_params(axis='both', which='major', labelsize=22)\n",
    "plt.xticks(range(0, len(data.columns)), data.columns, fontsize=8)\n",
    "plt.legend(fontsize=20)\n",
    "plt.show()\n"
   ]
  },
  {
   "cell_type": "markdown",
   "id": "1f218979",
   "metadata": {},
   "source": [
    "Labels clustering"
   ]
  },
  {
   "cell_type": "code",
   "execution_count": 43,
   "id": "4335ca8d",
   "metadata": {
    "ExecuteTime": {
     "end_time": "2024-05-16T10:00:08.806814Z",
     "start_time": "2024-05-16T09:59:57.889358Z"
    }
   },
   "outputs": [
    {
     "data": {
      "image/png": "[encoded data removed]",
      "text/plain": [
       "<Figure size 640x480 with 1 Axes>"
      ]
     },
     "metadata": {},
     "output_type": "display_data"
    }
   ],
   "source": [
    "plt.scatter(data['AGEP'], data['MIL'], \n",
    "           c=kmeans.labels_, s=20)\n",
    "plt.tick_params(axis='both', which='major', labelsize=22)\n",
    "plt.xlabel('AGEP')\n",
    "plt.ylabel('MIL')\n",
    "plt.show()"
   ]
  },
  {
   "cell_type": "markdown",
   "id": "28a89af3",
   "metadata": {},
   "source": [
    "Labels target"
   ]
  },
  {
   "cell_type": "code",
   "execution_count": 44,
   "id": "465199de",
   "metadata": {
    "ExecuteTime": {
     "end_time": "2024-05-16T10:00:19.569953Z",
     "start_time": "2024-05-16T10:00:08.806814Z"
    }
   },
   "outputs": [
    {
     "data": {
      "image/png": "[encoded data removed]",
      "text/plain": [
       "<Figure size 640x480 with 1 Axes>"
      ]
     },
     "metadata": {},
     "output_type": "display_data"
    }
   ],
   "source": [
    "plt.scatter(data['AGEP'], data['MIL'], \n",
    "           c=data_target, s=20)\n",
    "plt.tick_params(axis='both', which='major', labelsize=22)\n",
    "plt.xlabel('AGEP')\n",
    "plt.ylabel('MIL')\n",
    "plt.show()"
   ]
  },
  {
   "cell_type": "code",
   "execution_count": 45,
   "id": "fcf49b1f",
   "metadata": {
    "ExecuteTime": {
     "end_time": "2024-05-16T10:00:19.941536Z",
     "start_time": "2024-05-16T10:00:19.569953Z"
    }
   },
   "outputs": [
    {
     "data": {
      "image/png": "[encoded data removed]",
      "text/plain": [
       "<Figure size 640x480 with 1 Axes>"
      ]
     },
     "metadata": {},
     "output_type": "display_data"
    }
   ],
   "source": [
    "from math import pi\n",
    " \n",
    "# number of variable\n",
    "N = len(data.columns)\n",
    "# What will be the angle of each axis in the plot? (we divide the plot / number of variable)\n",
    "for i in range(0, len(centers)):\n",
    "    angles = [n / float(N) * 2 * pi for n in range(N)]\n",
    "    values = centers[i].tolist()\n",
    "    values += values[:1]\n",
    "    angles += angles[:1]\n",
    "    # Initialise the spider plot\n",
    "    ax = plt.subplot(polar=True)\n",
    "# Draw one axe per variable + add labels labels yet\n",
    "    plt.xticks(angles[:-1], data.columns, color='grey', size=8) \n",
    "# Plot data\n",
    "    ax.plot(angles, values, linewidth=1, linestyle='solid')\n",
    " # Fill area\n",
    "    ax.fill(angles, values, 'b', alpha=0.1)\n"
   ]
  },
  {
   "cell_type": "markdown",
   "id": "5561d9c41b59b3e2",
   "metadata": {},
   "source": [
    "sse evaluation"
   ]
  },
  {
   "cell_type": "code",
   "execution_count": 46,
   "id": "87b9008a908831cb",
   "metadata": {
    "ExecuteTime": {
     "end_time": "2024-05-16T10:03:45.700662Z",
     "start_time": "2024-05-16T10:02:36.987685Z"
    }
   },
   "outputs": [
    {
     "name": "stdout",
     "output_type": "stream",
     "text": [
      "SSE 8183663.680038224\n",
      "Separation 1.4302660090250339\n",
      "2\n",
      "3\n",
      "4\n",
      "5\n",
      "6\n",
      "7\n",
      "8\n",
      "9\n",
      "10\n",
      "11\n",
      "12\n",
      "13\n",
      "14\n",
      "15\n",
      "16\n",
      "17\n",
      "18\n",
      "19\n",
      "20\n",
      "21\n",
      "22\n",
      "23\n",
      "24\n",
      "25\n"
     ]
    }
   ],
   "source": [
    "print('SSE %s' % kmeans.inertia_)\n",
    "#print('Silhouette %s' % metrics.silhouette_score(data_scaled, kmeans.labels_))\n",
    "print('Separation %s' % metrics.davies_bouldin_score(data_scaled, kmeans.labels_))\n",
    "sse_list = list()\n",
    "max_k = 25\n",
    "for k in range(2, max_k + 1):\n",
    "    print(k)\n",
    "    kmeans = KMeans(n_clusters=k, n_init=10, max_iter=300)\n",
    "    kmeans.fit(data_scaled)\n",
    "    \n",
    "    sse = kmeans.inertia_\n",
    "    sse_list.append(sse)"
   ]
  },
  {
   "cell_type": "code",
   "execution_count": 47,
   "id": "75acf974b21520de",
   "metadata": {
    "ExecuteTime": {
     "end_time": "2024-05-16T10:03:49.668547Z",
     "start_time": "2024-05-16T10:03:49.663797Z"
    }
   },
   "outputs": [
    {
     "data": {
      "text/plain": [
       "[8183663.681893597,\n",
       " 6809366.228086495,\n",
       " 5884867.545628322,\n",
       " 5229253.784837404,\n",
       " 4837234.763636641,\n",
       " 4256436.6149395425,\n",
       " 3885033.701068579,\n",
       " 3561744.664622383,\n",
       " 3395617.1702704737,\n",
       " 3102439.98815592,\n",
       " 3038769.367933412,\n",
       " 2885838.546085991,\n",
       " 2787725.2142382045,\n",
       " 2664008.441560707,\n",
       " 2573776.2869061357,\n",
       " 2480107.992592203,\n",
       " 2451903.151352782,\n",
       " 2333407.8658436886,\n",
       " 2308766.454327959,\n",
       " 2190443.93477559,\n",
       " 2153149.921610959,\n",
       " 2114667.775857869,\n",
       " 2056390.4426621543,\n",
       " 2064260.2369501994]"
      ]
     },
     "execution_count": 47,
     "metadata": {},
     "output_type": "execute_result"
    }
   ],
   "source": [
    "sse_list"
   ]
  },
  {
   "cell_type": "code",
   "execution_count": 48,
   "id": "6a08c541209377a6",
   "metadata": {
    "ExecuteTime": {
     "end_time": "2024-05-16T10:05:47.667154Z",
     "start_time": "2024-05-16T10:05:47.534433Z"
    }
   },
   "outputs": [
    {
     "data": {
      "image/png": "[encoded data removed]",
      "text/plain": [
       "<Figure size 640x480 with 1 Axes>"
      ]
     },
     "metadata": {},
     "output_type": "display_data"
    }
   ],
   "source": [
    "plt.plot(range(2, len(sse_list) + 2), sse_list, 'o--')\n",
    "plt.ylabel('SSE', fontsize=22)\n",
    "plt.xlabel('K', fontsize=22)\n",
    "plt.tick_params(axis='both', which='major', labelsize=10)\n",
    "plt.xticks([2,3,4,5,6,7,8,9,10,11,12,13,14,15,16,17,18,19,20,21,22,23,24,25])\n",
    "plt.show()"
   ]
  },
  {
   "cell_type": "code",
   "execution_count": 49,
   "id": "df000c3e-dcd1-4c69-90b3-b7fbc9590924",
   "metadata": {},
   "outputs": [
    {
     "data": {
      "image/png": "[encoded data removed]",
      "text/plain": [
       "<Figure size 640x480 with 1 Axes>"
      ]
     },
     "metadata": {},
     "output_type": "display_data"
    }
   ],
   "source": [
    "diff = []\n",
    "for i in range(len(sse_list)-1):\n",
    "    diff.append(-sse_list[i+1]+sse_list[i])\n",
    "plt.plot(range(2, len(sse_list) + 1), diff, 'o--')\n",
    "plt.ylabel('diff SSE', fontsize=22)\n",
    "plt.xlabel('K', fontsize=22)\n",
    "plt.tick_params(axis='both', which='major', labelsize=10)\n",
    "plt.xticks([2,3,4,5,6,7,8,9,10,11,12,13,14,15,16,17,18,19,20,21,22,23,24])\n",
    "plt.show()"
   ]
  },
  {
   "cell_type": "markdown",
   "id": "82ef44ffa08aad6f",
   "metadata": {},
   "source": [
    "Le differenze tra le sse non cambiano più quando k=11, quindi è quello ottimale"
   ]
  },
  {
   "cell_type": "markdown",
   "id": "697c5499-f970-4b23-b1b1-554d2d8a298b",
   "metadata": {},
   "source": [
    "External evaluation"
   ]
  },
  {
   "cell_type": "code",
   "execution_count": 50,
   "id": "aee1f48fa67755ec",
   "metadata": {
    "ExecuteTime": {
     "end_time": "2024-05-16T10:24:43.226948Z",
     "start_time": "2024-05-16T10:24:41.422555Z"
    }
   },
   "outputs": [
    {
     "data": {
      "text/html": [
       "<style>#sk-container-id-3 {color: black;background-color: white;}#sk-container-id-3 pre{padding: 0;}#sk-container-id-3 div.sk-toggleable {background-color: white;}#sk-container-id-3 label.sk-toggleable__label {cursor: pointer;display: block;width: 100%;margin-bottom: 0;padding: 0.3em;box-sizing: border-box;text-align: center;}#sk-container-id-3 label.sk-toggleable__label-arrow:before {content: \"▸\";float: left;margin-right: 0.25em;color: #696969;}#sk-container-id-3 label.sk-toggleable__label-arrow:hover:before {color: black;}#sk-container-id-3 div.sk-estimator:hover label.sk-toggleable__label-arrow:before {color: black;}#sk-container-id-3 div.sk-toggleable__content {max-height: 0;max-width: 0;overflow: hidden;text-align: left;background-color: #f0f8ff;}#sk-container-id-3 div.sk-toggleable__content pre {margin: 0.2em;color: black;border-radius: 0.25em;background-color: #f0f8ff;}#sk-container-id-3 input.sk-toggleable__control:checked~div.sk-toggleable__content {max-height: 200px;max-width: 100%;overflow: auto;}#sk-container-id-3 input.sk-toggleable__control:checked~label.sk-toggleable__label-arrow:before {content: \"▾\";}#sk-container-id-3 div.sk-estimator input.sk-toggleable__control:checked~label.sk-toggleable__label {background-color: #d4ebff;}#sk-container-id-3 div.sk-label input.sk-toggleable__control:checked~label.sk-toggleable__label {background-color: #d4ebff;}#sk-container-id-3 input.sk-hidden--visually {border: 0;clip: rect(1px 1px 1px 1px);clip: rect(1px, 1px, 1px, 1px);height: 1px;margin: -1px;overflow: hidden;padding: 0;position: absolute;width: 1px;}#sk-container-id-3 div.sk-estimator {font-family: monospace;background-color: #f0f8ff;border: 1px dotted black;border-radius: 0.25em;box-sizing: border-box;margin-bottom: 0.5em;}#sk-container-id-3 div.sk-estimator:hover {background-color: #d4ebff;}#sk-container-id-3 div.sk-parallel-item::after {content: \"\";width: 100%;border-bottom: 1px solid gray;flex-grow: 1;}#sk-container-id-3 div.sk-label:hover label.sk-toggleable__label {background-color: #d4ebff;}#sk-container-id-3 div.sk-serial::before {content: \"\";position: absolute;border-left: 1px solid gray;box-sizing: border-box;top: 0;bottom: 0;left: 50%;z-index: 0;}#sk-container-id-3 div.sk-serial {display: flex;flex-direction: column;align-items: center;background-color: white;padding-right: 0.2em;padding-left: 0.2em;position: relative;}#sk-container-id-3 div.sk-item {position: relative;z-index: 1;}#sk-container-id-3 div.sk-parallel {display: flex;align-items: stretch;justify-content: center;background-color: white;position: relative;}#sk-container-id-3 div.sk-item::before, #sk-container-id-3 div.sk-parallel-item::before {content: \"\";position: absolute;border-left: 1px solid gray;box-sizing: border-box;top: 0;bottom: 0;left: 50%;z-index: -1;}#sk-container-id-3 div.sk-parallel-item {display: flex;flex-direction: column;z-index: 1;position: relative;background-color: white;}#sk-container-id-3 div.sk-parallel-item:first-child::after {align-self: flex-end;width: 50%;}#sk-container-id-3 div.sk-parallel-item:last-child::after {align-self: flex-start;width: 50%;}#sk-container-id-3 div.sk-parallel-item:only-child::after {width: 0;}#sk-container-id-3 div.sk-dashed-wrapped {border: 1px dashed gray;margin: 0 0.4em 0.5em 0.4em;box-sizing: border-box;padding-bottom: 0.4em;background-color: white;}#sk-container-id-3 div.sk-label label {font-family: monospace;font-weight: bold;display: inline-block;line-height: 1.2em;}#sk-container-id-3 div.sk-label-container {text-align: center;}#sk-container-id-3 div.sk-container {/* jupyter's `normalize.less` sets `[hidden] { display: none; }` but bootstrap.min.css set `[hidden] { display: none !important; }` so we also need the `!important` here to be able to override the default hidden behavior on the sphinx rendered scikit-learn.org. See: https://github.com/scikit-learn/scikit-learn/issues/21755 */display: inline-block !important;position: relative;}#sk-container-id-3 div.sk-text-repr-fallback {display: none;}</style><div id=\"sk-container-id-3\" class=\"sk-top-container\"><div class=\"sk-text-repr-fallback\"><pre>KMeans(n_clusters=2, n_init=10)</pre><b>In a Jupyter environment, please rerun this cell to show the HTML representation or trust the notebook. <br />On GitHub, the HTML representation is unable to render, please try loading this page with nbviewer.org.</b></div><div class=\"sk-container\" hidden><div class=\"sk-item\"><div class=\"sk-estimator sk-toggleable\"><input class=\"sk-toggleable__control sk-hidden--visually\" id=\"sk-estimator-id-3\" type=\"checkbox\" checked><label for=\"sk-estimator-id-3\" class=\"sk-toggleable__label sk-toggleable__label-arrow\">KMeans</label><div class=\"sk-toggleable__content\"><pre>KMeans(n_clusters=2, n_init=10)</pre></div></div></div></div></div>"
      ],
      "text/plain": [
       "KMeans(n_clusters=2, n_init=10)"
      ]
     },
     "execution_count": 50,
     "metadata": {},
     "output_type": "execute_result"
    }
   ],
   "source": [
    "kmeans = KMeans(n_clusters=2, n_init=10, max_iter=300)\n",
    "kmeans.fit(data_scaled)"
   ]
  },
  {
   "cell_type": "code",
   "execution_count": 51,
   "id": "61ddfce300e2f1b1",
   "metadata": {
    "ExecuteTime": {
     "end_time": "2024-05-16T10:33:49.408822Z",
     "start_time": "2024-05-16T10:33:49.276048Z"
    }
   },
   "outputs": [
    {
     "data": {
      "text/plain": [
       "0.08960194794404298"
      ]
     },
     "execution_count": 51,
     "metadata": {},
     "output_type": "execute_result"
    }
   ],
   "source": [
    "#Similarity between assignments\n",
    "metrics.adjusted_rand_score(data_target, kmeans.labels_)"
   ]
  },
  {
   "cell_type": "code",
   "execution_count": 52,
   "id": "fa1631d88643bec8",
   "metadata": {
    "ExecuteTime": {
     "end_time": "2024-05-16T10:33:51.536465Z",
     "start_time": "2024-05-16T10:33:51.335930Z"
    }
   },
   "outputs": [
    {
     "data": {
      "text/plain": [
       "0.19114767043999156"
      ]
     },
     "execution_count": 52,
     "metadata": {},
     "output_type": "execute_result"
    }
   ],
   "source": [
    "#are cluster composed of objects with the same real labels?\n",
    "metrics.homogeneity_score(data_target, kmeans.labels_) #homogenity score"
   ]
  },
  {
   "cell_type": "code",
   "execution_count": 53,
   "id": "aa55eb3085adfdf",
   "metadata": {
    "ExecuteTime": {
     "end_time": "2024-05-16T10:33:53.735974Z",
     "start_time": "2024-05-16T10:33:53.512441Z"
    }
   },
   "outputs": [
    {
     "data": {
      "text/plain": [
       "0.2607885600147016"
      ]
     },
     "execution_count": 53,
     "metadata": {},
     "output_type": "execute_result"
    }
   ],
   "source": [
    "#are real labels concentrated in specific clusters?\n",
    "metrics.completeness_score(data_target, kmeans.labels_)"
   ]
  },
  {
   "cell_type": "code",
   "execution_count": 54,
   "id": "43387b46f15b9ba9",
   "metadata": {
    "ExecuteTime": {
     "end_time": "2024-05-16T10:33:56.088143Z",
     "start_time": "2024-05-16T10:33:55.885335Z"
    }
   },
   "outputs": [
    {
     "data": {
      "text/plain": [
       "0.2325472258978556"
      ]
     },
     "execution_count": 54,
     "metadata": {},
     "output_type": "execute_result"
    }
   ],
   "source": [
    "#harmonic mean between completeness_score and homogeneity_score\n",
    "metrics.v_measure_score(data_target, kmeans.labels_, beta=2) "
   ]
  },
  {
   "cell_type": "markdown",
   "id": "1601a31f210b0797",
   "metadata": {},
   "source": [
    "famo la confusion matrix"
   ]
  },
  {
   "cell_type": "code",
   "execution_count": 55,
   "id": "5eaa9975fa9d81f1",
   "metadata": {
    "ExecuteTime": {
     "end_time": "2024-05-16T10:36:02.150635Z",
     "start_time": "2024-05-16T10:36:02.012747Z"
    }
   },
   "outputs": [
    {
     "data": {
      "text/plain": [
       "array([[257497, 149710],\n",
       "       [335698,   1569]], dtype=int64)"
      ]
     },
     "execution_count": 55,
     "metadata": {},
     "output_type": "execute_result"
    }
   ],
   "source": [
    "metrics.confusion_matrix(data_target, kmeans.labels_)"
   ]
  },
  {
   "cell_type": "code",
   "execution_count": 57,
   "id": "e525e6d9-b5c8-423c-b7ca-e6204b5b9e8f",
   "metadata": {},
   "outputs": [],
   "source": [
    "### DBSCAN\n",
    "#non si fa perche fa caa dioporco scan"
   ]
  },
  {
   "cell_type": "code",
   "execution_count": 62,
   "id": "554e5565-af92-4909-8345-99fd5976c61e",
   "metadata": {},
   "outputs": [],
   "source": [
    "### Gerarchia dei Cumulanti italici\n",
    "from scipy.stats import mode\n",
    "from scipy.spatial.distance import pdist\n",
    "from scipy.cluster.hierarchy import linkage, dendrogram, cut_tree\n",
    "\n",
    "#prendo un po' di dati random perchè un gna fa\n",
    "N = 1000\n",
    "data_random = data.sample(N)\n",
    "scaler.fit(data_random.values)\n",
    "data_random_scaled=scaler.transform(data_random.values)"
   ]
  },
  {
   "cell_type": "code",
   "execution_count": 64,
   "id": "bf4d948e-05a5-4c6e-a780-51cb036e53a4",
   "metadata": {},
   "outputs": [
    {
     "data": {
      "image/png": "[encoded data removed]",
      "text/plain": [
       "<Figure size 640x480 with 1 Axes>"
      ]
     },
     "metadata": {},
     "output_type": "display_data"
    }
   ],
   "source": [
    "data_dist = pdist(data_random_scaled, metric='euclidean')\n",
    "data_link = linkage(data_dist, method='complete', metric='euclidean')\n",
    "res = dendrogram(data_link, color_threshold=0.1, truncate_mode='lastp')\n",
    "clusters = cut_tree(data_link, n_clusters=2).flatten()"
   ]
  },
  {
   "cell_type": "code",
   "execution_count": 65,
   "id": "edb9300c-4ee7-4cd9-bf46-eb1b4ec7609c",
   "metadata": {},
   "outputs": [
    {
     "data": {
      "text/plain": [
       "array([0, 1, 0, 0, 1, 1, 1, 0, 0, 1, 0, 1, 1, 1, 1, 1, 1, 0, 1, 1, 1, 1,\n",
       "       0, 1, 1, 0, 0, 1, 1, 1, 0, 0, 0, 1, 1, 0, 0, 1, 1, 1, 1, 0, 1, 1,\n",
       "       1, 1, 1, 0, 0, 1, 1, 1, 1, 1, 1, 1, 1, 0, 1, 0, 0, 0, 0, 1, 0, 1,\n",
       "       1, 1, 1, 1, 1, 0, 0, 1, 1, 0, 1, 1, 1, 1, 0, 1, 1, 1, 1, 1, 1, 1,\n",
       "       1, 1, 1, 1, 1, 1, 0, 0, 1, 1, 1, 1, 1, 1, 1, 1, 0, 1, 1, 1, 1, 1,\n",
       "       1, 1, 1, 1, 1, 1, 0, 1, 1, 1, 1, 0, 0, 1, 1, 1, 1, 1, 1, 1, 1, 1,\n",
       "       0, 1, 0, 0, 1, 1, 0, 1, 1, 1, 1, 1, 0, 1, 1, 1, 1, 0, 1, 1, 1, 1,\n",
       "       1, 1, 1, 1, 1, 1, 1, 1, 1, 1, 1, 0, 1, 1, 1, 1, 1, 0, 0, 1, 1, 1,\n",
       "       1, 0, 1, 1, 1, 1, 1, 0, 1, 0, 1, 0, 1, 1, 1, 1, 0, 1, 0, 0, 1, 0,\n",
       "       1, 1, 1, 1, 0, 1, 1, 1, 1, 1, 1, 1, 1, 1, 1, 1, 1, 1, 0, 1, 1, 1,\n",
       "       1, 1, 0, 1, 1, 1, 1, 1, 1, 1, 1, 1, 1, 1, 0, 0, 1, 1, 0, 1, 1, 1,\n",
       "       0, 1, 1, 1, 1, 1, 1, 1, 1, 1, 1, 1, 0, 1, 0, 1, 1, 1, 1, 1, 1, 1,\n",
       "       1, 1, 1, 1, 0, 1, 1, 1, 1, 0, 1, 0, 1, 1, 1, 1, 1, 1, 1, 1, 1, 1,\n",
       "       1, 1, 0, 0, 0, 1, 1, 1, 0, 1, 1, 0, 1, 1, 1, 1, 0, 1, 1, 1, 1, 1,\n",
       "       0, 1, 1, 1, 1, 0, 0, 1, 1, 1, 0, 1, 1, 1, 1, 1, 1, 1, 1, 1, 1, 1,\n",
       "       1, 1, 0, 1, 1, 1, 0, 0, 1, 1, 1, 1, 1, 1, 1, 1, 1, 1, 1, 0, 1, 1,\n",
       "       1, 1, 1, 1, 1, 1, 1, 0, 1, 1, 1, 1, 1, 1, 1, 1, 1, 1, 1, 1, 1, 1,\n",
       "       1, 1, 1, 1, 1, 1, 1, 1, 0, 1, 1, 0, 1, 1, 1, 0, 1, 1, 1, 1, 1, 0,\n",
       "       1, 1, 0, 1, 0, 1, 1, 1, 1, 1, 1, 1, 1, 1, 0, 0, 1, 1, 0, 1, 1, 1,\n",
       "       1, 1, 1, 1, 0, 1, 0, 1, 1, 1, 1, 1, 1, 1, 1, 0, 1, 1, 1, 1, 1, 0,\n",
       "       1, 1, 1, 0, 1, 0, 1, 1, 1, 0, 1, 1, 0, 1, 1, 1, 1, 1, 1, 0, 0, 1,\n",
       "       1, 1, 1, 1, 1, 1, 1, 1, 1, 0, 1, 1, 1, 1, 1, 1, 1, 1, 1, 1, 0, 1,\n",
       "       1, 1, 1, 0, 0, 0, 1, 0, 1, 0, 1, 0, 1, 0, 1, 1, 1, 1, 1, 1, 1, 1,\n",
       "       1, 0, 1, 1, 1, 0, 1, 1, 1, 1, 1, 1, 1, 1, 1, 1, 1, 1, 1, 1, 1, 0,\n",
       "       1, 1, 1, 1, 1, 1, 1, 1, 1, 1, 1, 0, 1, 1, 1, 0, 1, 1, 1, 1, 1, 0,\n",
       "       1, 1, 1, 1, 1, 1, 0, 1, 1, 1, 1, 1, 0, 1, 1, 1, 0, 1, 1, 1, 1, 1,\n",
       "       1, 0, 0, 0, 0, 1, 0, 0, 1, 1, 1, 1, 1, 1, 1, 0, 0, 1, 0, 1, 1, 0,\n",
       "       1, 1, 1, 1, 0, 1, 1, 1, 0, 1, 1, 0, 0, 0, 1, 1, 1, 1, 1, 0, 0, 1,\n",
       "       1, 1, 1, 1, 1, 1, 1, 1, 1, 1, 1, 1, 1, 1, 0, 1, 1, 1, 0, 1, 1, 1,\n",
       "       0, 1, 1, 1, 1, 1, 1, 1, 1, 1, 1, 1, 1, 1, 1, 0, 0, 1, 1, 0, 1, 1,\n",
       "       1, 0, 1, 0, 1, 1, 1, 1, 1, 0, 1, 1, 1, 1, 1, 1, 1, 1, 0, 1, 1, 0,\n",
       "       1, 1, 1, 1, 1, 1, 1, 1, 1, 1, 1, 1, 1, 1, 1, 1, 0, 1, 1, 1, 1, 1,\n",
       "       0, 1, 1, 0, 1, 1, 1, 1, 1, 1, 1, 1, 1, 1, 1, 1, 1, 1, 0, 1, 1, 1,\n",
       "       1, 1, 1, 1, 1, 1, 1, 1, 1, 1, 0, 1, 1, 1, 0, 1, 1, 1, 0, 1, 1, 1,\n",
       "       1, 1, 1, 1, 1, 1, 1, 1, 1, 1, 1, 1, 1, 1, 1, 0, 1, 1, 1, 1, 1, 1,\n",
       "       1, 1, 1, 0, 1, 1, 1, 0, 1, 1, 1, 1, 0, 1, 1, 0, 1, 1, 1, 1, 1, 1,\n",
       "       1, 1, 1, 1, 1, 1, 1, 1, 1, 1, 0, 1, 1, 1, 1, 1, 1, 1, 1, 1, 1, 1,\n",
       "       0, 1, 0, 0, 1, 1, 1, 0, 0, 0, 1, 0, 1, 1, 1, 1, 0, 1, 1, 0, 1, 1,\n",
       "       1, 0, 0, 1, 1, 1, 1, 1, 1, 0, 1, 1, 1, 1, 1, 1, 1, 1, 1, 1, 1, 1,\n",
       "       1, 0, 1, 1, 1, 1, 0, 1, 1, 1, 0, 1, 1, 1, 1, 1, 1, 1, 1, 1, 1, 1,\n",
       "       1, 1, 0, 1, 0, 1, 1, 1, 0, 1, 1, 1, 0, 1, 1, 1, 1, 1, 1, 1, 1, 1,\n",
       "       1, 1, 1, 1, 0, 1, 1, 0, 1, 0, 1, 1, 1, 1, 1, 1, 1, 1, 1, 1, 1, 0,\n",
       "       1, 1, 1, 1, 1, 1, 1, 1, 1, 0, 0, 1, 1, 1, 1, 1, 0, 0, 1, 1, 1, 1,\n",
       "       1, 1, 1, 0, 1, 1, 1, 1, 1, 1, 0, 0, 1, 1, 1, 1, 1, 0, 1, 1, 1, 1,\n",
       "       1, 1, 0, 1, 1, 1, 0, 1, 1, 1, 1, 1, 1, 1, 1, 0, 1, 1, 0, 1, 0, 1,\n",
       "       0, 1, 1, 1, 1, 1, 0, 1, 0, 1])"
      ]
     },
     "execution_count": 65,
     "metadata": {},
     "output_type": "execute_result"
    }
   ],
   "source": [
    "clusters\n"
   ]
  },
  {
   "cell_type": "code",
   "execution_count": null,
   "id": "ae09057d-3855-4624-874f-c0ec2d94d4fe",
   "metadata": {},
   "outputs": [],
   "source": []
  }
 ],
 "metadata": {
  "kernelspec": {
   "display_name": "Python 3 (ipykernel)",
   "language": "python",
   "name": "python3"
  },
  "language_info": {
   "codemirror_mode": {
    "name": "ipython",
    "version": 3
   },
   "file_extension": ".py",
   "mimetype": "text/x-python",
   "name": "python",
   "nbconvert_exporter": "python",
   "pygments_lexer": "ipython3",
   "version": "3.11.7"
  },
  "vscode": {
   "interpreter": {
    "hash": "ad2bdc8ecc057115af97d19610ffacc2b4e99fae6737bb82f5d7fb13d2f2c186"
   }
  }
 },
 "nbformat": 4,
 "nbformat_minor": 5
}
