{
 "cells": [
  {
   "metadata": {},
   "cell_type": "markdown",
   "source": [
    "# Introduzione al Machine Learning 2023-2024\n",
    "## Bernardini Jacopo, Ciocca Giorgio, Marini Tommaso\n",
    "### Exam Project, First Part: Data Exploration, Clustering  and Classification"
   ],
   "id": "ae636fbbc79a8b12"
  },
  {
   "metadata": {},
   "cell_type": "markdown",
   "source": "Libraries import",
   "id": "43c847192814d75a"
  },
  {
   "metadata": {
    "ExecuteTime": {
     "end_time": "2024-05-14T15:05:07.305086Z",
     "start_time": "2024-05-14T15:05:07.302444Z"
    }
   },
   "cell_type": "code",
   "source": [
    "import numpy as np\n",
    "import pandas as pd"
   ],
   "id": "6707c599167ce45a",
   "outputs": [],
   "execution_count": 173
  },
  {
   "metadata": {},
   "cell_type": "markdown",
   "source": "File reading and substitution of 'notknown' values with NaNs ",
   "id": "8dccef71ffb70e2b"
  },
  {
   "metadata": {
    "ExecuteTime": {
     "end_time": "2024-05-14T15:05:08.386558Z",
     "start_time": "2024-05-14T15:05:07.455140Z"
    }
   },
   "cell_type": "code",
   "source": [
    "filename = r'C:\\Users\\giorg\\Desktop\\uni\\magistrale\\Introduzione al Machine Learning\\Project\\IML-1\\code\\data\\pums.csv'\n",
    "data = pd.read_csv(filename, na_values='notknown')\n",
    "data"
   ],
   "id": "ee60770bbf92f958",
   "outputs": [
    {
     "data": {
      "text/plain": [
       "        AGEP  SCHL  MAR  RELP  DIS  ESP  CIT  MIG  MIL  ANC  NATIVITY  DEAR  \\\n",
       "0       21.0  16.0  5.0  17.0  2.0  0.0  1.0  1.0  4.0  1.0       1.0   2.0   \n",
       "1       19.0  16.0  5.0  17.0  2.0  0.0  1.0  1.0  4.0  1.0       1.0   2.0   \n",
       "2       24.0  12.0  5.0  16.0  1.0  0.0  1.0  1.0  4.0  1.0       1.0   2.0   \n",
       "3       20.0  16.0  5.0  17.0  2.0  0.0  1.0  1.0  3.0  1.0       1.0   2.0   \n",
       "4       31.0  17.0  5.0  17.0  2.0  0.0  1.0  3.0  4.0  4.0       1.0   2.0   \n",
       "...      ...   ...  ...   ...  ...  ...  ...  ...  ...  ...       ...   ...   \n",
       "746331   7.0   4.0  5.0   2.0  2.0  1.0  1.0  1.0  0.0  2.0       1.0   2.0   \n",
       "746332  47.0   NaN  1.0   0.0  1.0  0.0  1.0  1.0  4.0  4.0       NaN   1.0   \n",
       "746333  35.0  14.0  1.0   1.0  2.0  0.0  1.0  1.0  4.0  4.0       1.0   2.0   \n",
       "746334   9.0   7.0  5.0   2.0  2.0  4.0  1.0  1.0  0.0  4.0       1.0   2.0   \n",
       "746335  15.0  12.0  5.0   4.0  2.0  4.0  1.0  1.0  0.0  4.0       1.0   2.0   \n",
       "\n",
       "        DEYE  DREM  SEX    ESR  \n",
       "0        2.0   2.0  2.0   True  \n",
       "1        2.0   2.0  2.0  False  \n",
       "2        2.0   1.0  1.0  False  \n",
       "3        NaN   2.0  2.0   True  \n",
       "4        2.0   2.0  1.0   True  \n",
       "...      ...   ...  ...    ...  \n",
       "746331   2.0   2.0  2.0  False  \n",
       "746332   1.0   2.0  1.0  False  \n",
       "746333   2.0   2.0  2.0  False  \n",
       "746334   2.0   2.0  2.0  False  \n",
       "746335   2.0   2.0  1.0  False  \n",
       "\n",
       "[746336 rows x 16 columns]"
      ],
      "text/html": [
       "<div>\n",
       "<style scoped>\n",
       "    .dataframe tbody tr th:only-of-type {\n",
       "        vertical-align: middle;\n",
       "    }\n",
       "\n",
       "    .dataframe tbody tr th {\n",
       "        vertical-align: top;\n",
       "    }\n",
       "\n",
       "    .dataframe thead th {\n",
       "        text-align: right;\n",
       "    }\n",
       "</style>\n",
       "<table border=\"1\" class=\"dataframe\">\n",
       "  <thead>\n",
       "    <tr style=\"text-align: right;\">\n",
       "      <th></th>\n",
       "      <th>AGEP</th>\n",
       "      <th>SCHL</th>\n",
       "      <th>MAR</th>\n",
       "      <th>RELP</th>\n",
       "      <th>DIS</th>\n",
       "      <th>ESP</th>\n",
       "      <th>CIT</th>\n",
       "      <th>MIG</th>\n",
       "      <th>MIL</th>\n",
       "      <th>ANC</th>\n",
       "      <th>NATIVITY</th>\n",
       "      <th>DEAR</th>\n",
       "      <th>DEYE</th>\n",
       "      <th>DREM</th>\n",
       "      <th>SEX</th>\n",
       "      <th>ESR</th>\n",
       "    </tr>\n",
       "  </thead>\n",
       "  <tbody>\n",
       "    <tr>\n",
       "      <th>0</th>\n",
       "      <td>21.0</td>\n",
       "      <td>16.0</td>\n",
       "      <td>5.0</td>\n",
       "      <td>17.0</td>\n",
       "      <td>2.0</td>\n",
       "      <td>0.0</td>\n",
       "      <td>1.0</td>\n",
       "      <td>1.0</td>\n",
       "      <td>4.0</td>\n",
       "      <td>1.0</td>\n",
       "      <td>1.0</td>\n",
       "      <td>2.0</td>\n",
       "      <td>2.0</td>\n",
       "      <td>2.0</td>\n",
       "      <td>2.0</td>\n",
       "      <td>True</td>\n",
       "    </tr>\n",
       "    <tr>\n",
       "      <th>1</th>\n",
       "      <td>19.0</td>\n",
       "      <td>16.0</td>\n",
       "      <td>5.0</td>\n",
       "      <td>17.0</td>\n",
       "      <td>2.0</td>\n",
       "      <td>0.0</td>\n",
       "      <td>1.0</td>\n",
       "      <td>1.0</td>\n",
       "      <td>4.0</td>\n",
       "      <td>1.0</td>\n",
       "      <td>1.0</td>\n",
       "      <td>2.0</td>\n",
       "      <td>2.0</td>\n",
       "      <td>2.0</td>\n",
       "      <td>2.0</td>\n",
       "      <td>False</td>\n",
       "    </tr>\n",
       "    <tr>\n",
       "      <th>2</th>\n",
       "      <td>24.0</td>\n",
       "      <td>12.0</td>\n",
       "      <td>5.0</td>\n",
       "      <td>16.0</td>\n",
       "      <td>1.0</td>\n",
       "      <td>0.0</td>\n",
       "      <td>1.0</td>\n",
       "      <td>1.0</td>\n",
       "      <td>4.0</td>\n",
       "      <td>1.0</td>\n",
       "      <td>1.0</td>\n",
       "      <td>2.0</td>\n",
       "      <td>2.0</td>\n",
       "      <td>1.0</td>\n",
       "      <td>1.0</td>\n",
       "      <td>False</td>\n",
       "    </tr>\n",
       "    <tr>\n",
       "      <th>3</th>\n",
       "      <td>20.0</td>\n",
       "      <td>16.0</td>\n",
       "      <td>5.0</td>\n",
       "      <td>17.0</td>\n",
       "      <td>2.0</td>\n",
       "      <td>0.0</td>\n",
       "      <td>1.0</td>\n",
       "      <td>1.0</td>\n",
       "      <td>3.0</td>\n",
       "      <td>1.0</td>\n",
       "      <td>1.0</td>\n",
       "      <td>2.0</td>\n",
       "      <td>NaN</td>\n",
       "      <td>2.0</td>\n",
       "      <td>2.0</td>\n",
       "      <td>True</td>\n",
       "    </tr>\n",
       "    <tr>\n",
       "      <th>4</th>\n",
       "      <td>31.0</td>\n",
       "      <td>17.0</td>\n",
       "      <td>5.0</td>\n",
       "      <td>17.0</td>\n",
       "      <td>2.0</td>\n",
       "      <td>0.0</td>\n",
       "      <td>1.0</td>\n",
       "      <td>3.0</td>\n",
       "      <td>4.0</td>\n",
       "      <td>4.0</td>\n",
       "      <td>1.0</td>\n",
       "      <td>2.0</td>\n",
       "      <td>2.0</td>\n",
       "      <td>2.0</td>\n",
       "      <td>1.0</td>\n",
       "      <td>True</td>\n",
       "    </tr>\n",
       "    <tr>\n",
       "      <th>...</th>\n",
       "      <td>...</td>\n",
       "      <td>...</td>\n",
       "      <td>...</td>\n",
       "      <td>...</td>\n",
       "      <td>...</td>\n",
       "      <td>...</td>\n",
       "      <td>...</td>\n",
       "      <td>...</td>\n",
       "      <td>...</td>\n",
       "      <td>...</td>\n",
       "      <td>...</td>\n",
       "      <td>...</td>\n",
       "      <td>...</td>\n",
       "      <td>...</td>\n",
       "      <td>...</td>\n",
       "      <td>...</td>\n",
       "    </tr>\n",
       "    <tr>\n",
       "      <th>746331</th>\n",
       "      <td>7.0</td>\n",
       "      <td>4.0</td>\n",
       "      <td>5.0</td>\n",
       "      <td>2.0</td>\n",
       "      <td>2.0</td>\n",
       "      <td>1.0</td>\n",
       "      <td>1.0</td>\n",
       "      <td>1.0</td>\n",
       "      <td>0.0</td>\n",
       "      <td>2.0</td>\n",
       "      <td>1.0</td>\n",
       "      <td>2.0</td>\n",
       "      <td>2.0</td>\n",
       "      <td>2.0</td>\n",
       "      <td>2.0</td>\n",
       "      <td>False</td>\n",
       "    </tr>\n",
       "    <tr>\n",
       "      <th>746332</th>\n",
       "      <td>47.0</td>\n",
       "      <td>NaN</td>\n",
       "      <td>1.0</td>\n",
       "      <td>0.0</td>\n",
       "      <td>1.0</td>\n",
       "      <td>0.0</td>\n",
       "      <td>1.0</td>\n",
       "      <td>1.0</td>\n",
       "      <td>4.0</td>\n",
       "      <td>4.0</td>\n",
       "      <td>NaN</td>\n",
       "      <td>1.0</td>\n",
       "      <td>1.0</td>\n",
       "      <td>2.0</td>\n",
       "      <td>1.0</td>\n",
       "      <td>False</td>\n",
       "    </tr>\n",
       "    <tr>\n",
       "      <th>746333</th>\n",
       "      <td>35.0</td>\n",
       "      <td>14.0</td>\n",
       "      <td>1.0</td>\n",
       "      <td>1.0</td>\n",
       "      <td>2.0</td>\n",
       "      <td>0.0</td>\n",
       "      <td>1.0</td>\n",
       "      <td>1.0</td>\n",
       "      <td>4.0</td>\n",
       "      <td>4.0</td>\n",
       "      <td>1.0</td>\n",
       "      <td>2.0</td>\n",
       "      <td>2.0</td>\n",
       "      <td>2.0</td>\n",
       "      <td>2.0</td>\n",
       "      <td>False</td>\n",
       "    </tr>\n",
       "    <tr>\n",
       "      <th>746334</th>\n",
       "      <td>9.0</td>\n",
       "      <td>7.0</td>\n",
       "      <td>5.0</td>\n",
       "      <td>2.0</td>\n",
       "      <td>2.0</td>\n",
       "      <td>4.0</td>\n",
       "      <td>1.0</td>\n",
       "      <td>1.0</td>\n",
       "      <td>0.0</td>\n",
       "      <td>4.0</td>\n",
       "      <td>1.0</td>\n",
       "      <td>2.0</td>\n",
       "      <td>2.0</td>\n",
       "      <td>2.0</td>\n",
       "      <td>2.0</td>\n",
       "      <td>False</td>\n",
       "    </tr>\n",
       "    <tr>\n",
       "      <th>746335</th>\n",
       "      <td>15.0</td>\n",
       "      <td>12.0</td>\n",
       "      <td>5.0</td>\n",
       "      <td>4.0</td>\n",
       "      <td>2.0</td>\n",
       "      <td>4.0</td>\n",
       "      <td>1.0</td>\n",
       "      <td>1.0</td>\n",
       "      <td>0.0</td>\n",
       "      <td>4.0</td>\n",
       "      <td>1.0</td>\n",
       "      <td>2.0</td>\n",
       "      <td>2.0</td>\n",
       "      <td>2.0</td>\n",
       "      <td>1.0</td>\n",
       "      <td>False</td>\n",
       "    </tr>\n",
       "  </tbody>\n",
       "</table>\n",
       "<p>746336 rows × 16 columns</p>\n",
       "</div>"
      ]
     },
     "execution_count": 174,
     "metadata": {},
     "output_type": "execute_result"
    }
   ],
   "execution_count": 174
  },
  {
   "metadata": {
    "ExecuteTime": {
     "end_time": "2024-05-14T15:05:08.523457Z",
     "start_time": "2024-05-14T15:05:08.387568Z"
    }
   },
   "cell_type": "code",
   "source": "data[data.isnull().sum(axis=1)>1]",
   "id": "7128baabfc4c6fce",
   "outputs": [
    {
     "data": {
      "text/plain": [
       "        AGEP  SCHL  MAR  RELP  DIS  ESP  CIT  MIG  MIL  ANC  NATIVITY  DEAR  \\\n",
       "89      48.0  19.0  3.0  16.0  2.0  0.0  1.0  3.0  4.0  1.0       NaN   2.0   \n",
       "128     64.0  12.0  2.0   NaN  1.0  0.0  1.0  1.0  4.0  1.0       1.0   1.0   \n",
       "135     45.0  12.0  5.0   NaN  2.0  0.0  1.0  1.0  4.0  4.0       NaN   2.0   \n",
       "212     25.0  19.0  5.0  16.0  2.0  0.0  1.0  3.0  4.0  1.0       NaN   NaN   \n",
       "230     92.0   NaN  1.0  16.0  1.0  0.0  1.0  1.0  3.0  1.0       1.0   NaN   \n",
       "...      ...   ...  ...   ...  ...  ...  ...  ...  ...  ...       ...   ...   \n",
       "746268  59.0  19.0  1.0   0.0  2.0  0.0  1.0  1.0  4.0  1.0       NaN   2.0   \n",
       "746277  12.0   9.0  5.0   2.0  2.0  2.0  1.0  1.0  0.0  2.0       NaN   NaN   \n",
       "746298  54.0   NaN  1.0   1.0  2.0  0.0  1.0  1.0  4.0  4.0       NaN   2.0   \n",
       "746323  63.0  16.0  1.0   1.0  2.0  0.0  NaN  1.0  4.0  1.0       NaN   2.0   \n",
       "746332  47.0   NaN  1.0   0.0  1.0  0.0  1.0  1.0  4.0  4.0       NaN   1.0   \n",
       "\n",
       "        DEYE  DREM  SEX    ESR  \n",
       "89       NaN   2.0  2.0  False  \n",
       "128      NaN   2.0  1.0  False  \n",
       "135      2.0   2.0  1.0  False  \n",
       "212      2.0   2.0  1.0  False  \n",
       "230      2.0   2.0  1.0  False  \n",
       "...      ...   ...  ...    ...  \n",
       "746268   NaN   2.0  2.0   True  \n",
       "746277   2.0   2.0  2.0  False  \n",
       "746298   2.0   2.0  1.0   True  \n",
       "746323   2.0   2.0  2.0   True  \n",
       "746332   1.0   2.0  1.0  False  \n",
       "\n",
       "[24288 rows x 16 columns]"
      ],
      "text/html": [
       "<div>\n",
       "<style scoped>\n",
       "    .dataframe tbody tr th:only-of-type {\n",
       "        vertical-align: middle;\n",
       "    }\n",
       "\n",
       "    .dataframe tbody tr th {\n",
       "        vertical-align: top;\n",
       "    }\n",
       "\n",
       "    .dataframe thead th {\n",
       "        text-align: right;\n",
       "    }\n",
       "</style>\n",
       "<table border=\"1\" class=\"dataframe\">\n",
       "  <thead>\n",
       "    <tr style=\"text-align: right;\">\n",
       "      <th></th>\n",
       "      <th>AGEP</th>\n",
       "      <th>SCHL</th>\n",
       "      <th>MAR</th>\n",
       "      <th>RELP</th>\n",
       "      <th>DIS</th>\n",
       "      <th>ESP</th>\n",
       "      <th>CIT</th>\n",
       "      <th>MIG</th>\n",
       "      <th>MIL</th>\n",
       "      <th>ANC</th>\n",
       "      <th>NATIVITY</th>\n",
       "      <th>DEAR</th>\n",
       "      <th>DEYE</th>\n",
       "      <th>DREM</th>\n",
       "      <th>SEX</th>\n",
       "      <th>ESR</th>\n",
       "    </tr>\n",
       "  </thead>\n",
       "  <tbody>\n",
       "    <tr>\n",
       "      <th>89</th>\n",
       "      <td>48.0</td>\n",
       "      <td>19.0</td>\n",
       "      <td>3.0</td>\n",
       "      <td>16.0</td>\n",
       "      <td>2.0</td>\n",
       "      <td>0.0</td>\n",
       "      <td>1.0</td>\n",
       "      <td>3.0</td>\n",
       "      <td>4.0</td>\n",
       "      <td>1.0</td>\n",
       "      <td>NaN</td>\n",
       "      <td>2.0</td>\n",
       "      <td>NaN</td>\n",
       "      <td>2.0</td>\n",
       "      <td>2.0</td>\n",
       "      <td>False</td>\n",
       "    </tr>\n",
       "    <tr>\n",
       "      <th>128</th>\n",
       "      <td>64.0</td>\n",
       "      <td>12.0</td>\n",
       "      <td>2.0</td>\n",
       "      <td>NaN</td>\n",
       "      <td>1.0</td>\n",
       "      <td>0.0</td>\n",
       "      <td>1.0</td>\n",
       "      <td>1.0</td>\n",
       "      <td>4.0</td>\n",
       "      <td>1.0</td>\n",
       "      <td>1.0</td>\n",
       "      <td>1.0</td>\n",
       "      <td>NaN</td>\n",
       "      <td>2.0</td>\n",
       "      <td>1.0</td>\n",
       "      <td>False</td>\n",
       "    </tr>\n",
       "    <tr>\n",
       "      <th>135</th>\n",
       "      <td>45.0</td>\n",
       "      <td>12.0</td>\n",
       "      <td>5.0</td>\n",
       "      <td>NaN</td>\n",
       "      <td>2.0</td>\n",
       "      <td>0.0</td>\n",
       "      <td>1.0</td>\n",
       "      <td>1.0</td>\n",
       "      <td>4.0</td>\n",
       "      <td>4.0</td>\n",
       "      <td>NaN</td>\n",
       "      <td>2.0</td>\n",
       "      <td>2.0</td>\n",
       "      <td>2.0</td>\n",
       "      <td>1.0</td>\n",
       "      <td>False</td>\n",
       "    </tr>\n",
       "    <tr>\n",
       "      <th>212</th>\n",
       "      <td>25.0</td>\n",
       "      <td>19.0</td>\n",
       "      <td>5.0</td>\n",
       "      <td>16.0</td>\n",
       "      <td>2.0</td>\n",
       "      <td>0.0</td>\n",
       "      <td>1.0</td>\n",
       "      <td>3.0</td>\n",
       "      <td>4.0</td>\n",
       "      <td>1.0</td>\n",
       "      <td>NaN</td>\n",
       "      <td>NaN</td>\n",
       "      <td>2.0</td>\n",
       "      <td>2.0</td>\n",
       "      <td>1.0</td>\n",
       "      <td>False</td>\n",
       "    </tr>\n",
       "    <tr>\n",
       "      <th>230</th>\n",
       "      <td>92.0</td>\n",
       "      <td>NaN</td>\n",
       "      <td>1.0</td>\n",
       "      <td>16.0</td>\n",
       "      <td>1.0</td>\n",
       "      <td>0.0</td>\n",
       "      <td>1.0</td>\n",
       "      <td>1.0</td>\n",
       "      <td>3.0</td>\n",
       "      <td>1.0</td>\n",
       "      <td>1.0</td>\n",
       "      <td>NaN</td>\n",
       "      <td>2.0</td>\n",
       "      <td>2.0</td>\n",
       "      <td>1.0</td>\n",
       "      <td>False</td>\n",
       "    </tr>\n",
       "    <tr>\n",
       "      <th>...</th>\n",
       "      <td>...</td>\n",
       "      <td>...</td>\n",
       "      <td>...</td>\n",
       "      <td>...</td>\n",
       "      <td>...</td>\n",
       "      <td>...</td>\n",
       "      <td>...</td>\n",
       "      <td>...</td>\n",
       "      <td>...</td>\n",
       "      <td>...</td>\n",
       "      <td>...</td>\n",
       "      <td>...</td>\n",
       "      <td>...</td>\n",
       "      <td>...</td>\n",
       "      <td>...</td>\n",
       "      <td>...</td>\n",
       "    </tr>\n",
       "    <tr>\n",
       "      <th>746268</th>\n",
       "      <td>59.0</td>\n",
       "      <td>19.0</td>\n",
       "      <td>1.0</td>\n",
       "      <td>0.0</td>\n",
       "      <td>2.0</td>\n",
       "      <td>0.0</td>\n",
       "      <td>1.0</td>\n",
       "      <td>1.0</td>\n",
       "      <td>4.0</td>\n",
       "      <td>1.0</td>\n",
       "      <td>NaN</td>\n",
       "      <td>2.0</td>\n",
       "      <td>NaN</td>\n",
       "      <td>2.0</td>\n",
       "      <td>2.0</td>\n",
       "      <td>True</td>\n",
       "    </tr>\n",
       "    <tr>\n",
       "      <th>746277</th>\n",
       "      <td>12.0</td>\n",
       "      <td>9.0</td>\n",
       "      <td>5.0</td>\n",
       "      <td>2.0</td>\n",
       "      <td>2.0</td>\n",
       "      <td>2.0</td>\n",
       "      <td>1.0</td>\n",
       "      <td>1.0</td>\n",
       "      <td>0.0</td>\n",
       "      <td>2.0</td>\n",
       "      <td>NaN</td>\n",
       "      <td>NaN</td>\n",
       "      <td>2.0</td>\n",
       "      <td>2.0</td>\n",
       "      <td>2.0</td>\n",
       "      <td>False</td>\n",
       "    </tr>\n",
       "    <tr>\n",
       "      <th>746298</th>\n",
       "      <td>54.0</td>\n",
       "      <td>NaN</td>\n",
       "      <td>1.0</td>\n",
       "      <td>1.0</td>\n",
       "      <td>2.0</td>\n",
       "      <td>0.0</td>\n",
       "      <td>1.0</td>\n",
       "      <td>1.0</td>\n",
       "      <td>4.0</td>\n",
       "      <td>4.0</td>\n",
       "      <td>NaN</td>\n",
       "      <td>2.0</td>\n",
       "      <td>2.0</td>\n",
       "      <td>2.0</td>\n",
       "      <td>1.0</td>\n",
       "      <td>True</td>\n",
       "    </tr>\n",
       "    <tr>\n",
       "      <th>746323</th>\n",
       "      <td>63.0</td>\n",
       "      <td>16.0</td>\n",
       "      <td>1.0</td>\n",
       "      <td>1.0</td>\n",
       "      <td>2.0</td>\n",
       "      <td>0.0</td>\n",
       "      <td>NaN</td>\n",
       "      <td>1.0</td>\n",
       "      <td>4.0</td>\n",
       "      <td>1.0</td>\n",
       "      <td>NaN</td>\n",
       "      <td>2.0</td>\n",
       "      <td>2.0</td>\n",
       "      <td>2.0</td>\n",
       "      <td>2.0</td>\n",
       "      <td>True</td>\n",
       "    </tr>\n",
       "    <tr>\n",
       "      <th>746332</th>\n",
       "      <td>47.0</td>\n",
       "      <td>NaN</td>\n",
       "      <td>1.0</td>\n",
       "      <td>0.0</td>\n",
       "      <td>1.0</td>\n",
       "      <td>0.0</td>\n",
       "      <td>1.0</td>\n",
       "      <td>1.0</td>\n",
       "      <td>4.0</td>\n",
       "      <td>4.0</td>\n",
       "      <td>NaN</td>\n",
       "      <td>1.0</td>\n",
       "      <td>1.0</td>\n",
       "      <td>2.0</td>\n",
       "      <td>1.0</td>\n",
       "      <td>False</td>\n",
       "    </tr>\n",
       "  </tbody>\n",
       "</table>\n",
       "<p>24288 rows × 16 columns</p>\n",
       "</div>"
      ]
     },
     "execution_count": 175,
     "metadata": {},
     "output_type": "execute_result"
    }
   ],
   "execution_count": 175
  },
  {
   "metadata": {},
   "cell_type": "markdown",
   "source": "Replace Boolean target variable with O and 1\n",
   "id": "54a1cbed1eb8ab94"
  },
  {
   "metadata": {
    "ExecuteTime": {
     "end_time": "2024-05-14T15:05:08.781597Z",
     "start_time": "2024-05-14T15:05:08.524463Z"
    }
   },
   "cell_type": "code",
   "source": [
    "data=data.replace({False:0, True:1})\n",
    "data     = data.infer_objects(copy=False)\n",
    "data.head()"
   ],
   "id": "d1c58966affbb5fc",
   "outputs": [
    {
     "name": "stderr",
     "output_type": "stream",
     "text": [
      "C:\\Users\\giorg\\AppData\\Local\\Temp\\ipykernel_29980\\1575331312.py:1: FutureWarning: Downcasting behavior in `replace` is deprecated and will be removed in a future version. To retain the old behavior, explicitly call `result.infer_objects(copy=False)`. To opt-in to the future behavior, set `pd.set_option('future.no_silent_downcasting', True)`\n",
      "  data=data.replace({False:0, True:1})\n"
     ]
    },
    {
     "data": {
      "text/plain": [
       "   AGEP  SCHL  MAR  RELP  DIS  ESP  CIT  MIG  MIL  ANC  NATIVITY  DEAR  DEYE  \\\n",
       "0  21.0  16.0  5.0  17.0  2.0  0.0  1.0  1.0  4.0  1.0       1.0   2.0   2.0   \n",
       "1  19.0  16.0  5.0  17.0  2.0  0.0  1.0  1.0  4.0  1.0       1.0   2.0   2.0   \n",
       "2  24.0  12.0  5.0  16.0  1.0  0.0  1.0  1.0  4.0  1.0       1.0   2.0   2.0   \n",
       "3  20.0  16.0  5.0  17.0  2.0  0.0  1.0  1.0  3.0  1.0       1.0   2.0   NaN   \n",
       "4  31.0  17.0  5.0  17.0  2.0  0.0  1.0  3.0  4.0  4.0       1.0   2.0   2.0   \n",
       "\n",
       "   DREM  SEX  ESR  \n",
       "0   2.0  2.0    1  \n",
       "1   2.0  2.0    0  \n",
       "2   1.0  1.0    0  \n",
       "3   2.0  2.0    1  \n",
       "4   2.0  1.0    1  "
      ],
      "text/html": [
       "<div>\n",
       "<style scoped>\n",
       "    .dataframe tbody tr th:only-of-type {\n",
       "        vertical-align: middle;\n",
       "    }\n",
       "\n",
       "    .dataframe tbody tr th {\n",
       "        vertical-align: top;\n",
       "    }\n",
       "\n",
       "    .dataframe thead th {\n",
       "        text-align: right;\n",
       "    }\n",
       "</style>\n",
       "<table border=\"1\" class=\"dataframe\">\n",
       "  <thead>\n",
       "    <tr style=\"text-align: right;\">\n",
       "      <th></th>\n",
       "      <th>AGEP</th>\n",
       "      <th>SCHL</th>\n",
       "      <th>MAR</th>\n",
       "      <th>RELP</th>\n",
       "      <th>DIS</th>\n",
       "      <th>ESP</th>\n",
       "      <th>CIT</th>\n",
       "      <th>MIG</th>\n",
       "      <th>MIL</th>\n",
       "      <th>ANC</th>\n",
       "      <th>NATIVITY</th>\n",
       "      <th>DEAR</th>\n",
       "      <th>DEYE</th>\n",
       "      <th>DREM</th>\n",
       "      <th>SEX</th>\n",
       "      <th>ESR</th>\n",
       "    </tr>\n",
       "  </thead>\n",
       "  <tbody>\n",
       "    <tr>\n",
       "      <th>0</th>\n",
       "      <td>21.0</td>\n",
       "      <td>16.0</td>\n",
       "      <td>5.0</td>\n",
       "      <td>17.0</td>\n",
       "      <td>2.0</td>\n",
       "      <td>0.0</td>\n",
       "      <td>1.0</td>\n",
       "      <td>1.0</td>\n",
       "      <td>4.0</td>\n",
       "      <td>1.0</td>\n",
       "      <td>1.0</td>\n",
       "      <td>2.0</td>\n",
       "      <td>2.0</td>\n",
       "      <td>2.0</td>\n",
       "      <td>2.0</td>\n",
       "      <td>1</td>\n",
       "    </tr>\n",
       "    <tr>\n",
       "      <th>1</th>\n",
       "      <td>19.0</td>\n",
       "      <td>16.0</td>\n",
       "      <td>5.0</td>\n",
       "      <td>17.0</td>\n",
       "      <td>2.0</td>\n",
       "      <td>0.0</td>\n",
       "      <td>1.0</td>\n",
       "      <td>1.0</td>\n",
       "      <td>4.0</td>\n",
       "      <td>1.0</td>\n",
       "      <td>1.0</td>\n",
       "      <td>2.0</td>\n",
       "      <td>2.0</td>\n",
       "      <td>2.0</td>\n",
       "      <td>2.0</td>\n",
       "      <td>0</td>\n",
       "    </tr>\n",
       "    <tr>\n",
       "      <th>2</th>\n",
       "      <td>24.0</td>\n",
       "      <td>12.0</td>\n",
       "      <td>5.0</td>\n",
       "      <td>16.0</td>\n",
       "      <td>1.0</td>\n",
       "      <td>0.0</td>\n",
       "      <td>1.0</td>\n",
       "      <td>1.0</td>\n",
       "      <td>4.0</td>\n",
       "      <td>1.0</td>\n",
       "      <td>1.0</td>\n",
       "      <td>2.0</td>\n",
       "      <td>2.0</td>\n",
       "      <td>1.0</td>\n",
       "      <td>1.0</td>\n",
       "      <td>0</td>\n",
       "    </tr>\n",
       "    <tr>\n",
       "      <th>3</th>\n",
       "      <td>20.0</td>\n",
       "      <td>16.0</td>\n",
       "      <td>5.0</td>\n",
       "      <td>17.0</td>\n",
       "      <td>2.0</td>\n",
       "      <td>0.0</td>\n",
       "      <td>1.0</td>\n",
       "      <td>1.0</td>\n",
       "      <td>3.0</td>\n",
       "      <td>1.0</td>\n",
       "      <td>1.0</td>\n",
       "      <td>2.0</td>\n",
       "      <td>NaN</td>\n",
       "      <td>2.0</td>\n",
       "      <td>2.0</td>\n",
       "      <td>1</td>\n",
       "    </tr>\n",
       "    <tr>\n",
       "      <th>4</th>\n",
       "      <td>31.0</td>\n",
       "      <td>17.0</td>\n",
       "      <td>5.0</td>\n",
       "      <td>17.0</td>\n",
       "      <td>2.0</td>\n",
       "      <td>0.0</td>\n",
       "      <td>1.0</td>\n",
       "      <td>3.0</td>\n",
       "      <td>4.0</td>\n",
       "      <td>4.0</td>\n",
       "      <td>1.0</td>\n",
       "      <td>2.0</td>\n",
       "      <td>2.0</td>\n",
       "      <td>2.0</td>\n",
       "      <td>1.0</td>\n",
       "      <td>1</td>\n",
       "    </tr>\n",
       "  </tbody>\n",
       "</table>\n",
       "</div>"
      ]
     },
     "execution_count": 176,
     "metadata": {},
     "output_type": "execute_result"
    }
   ],
   "execution_count": 176
  },
  {
   "metadata": {},
   "cell_type": "markdown",
   "source": "First data check",
   "id": "db8622fc307ab9bf"
  },
  {
   "metadata": {
    "ExecuteTime": {
     "end_time": "2024-05-14T15:05:08.853245Z",
     "start_time": "2024-05-14T15:05:08.782604Z"
    }
   },
   "cell_type": "code",
   "source": [
    "data.info()\n",
    "data.isnull().sum()"
   ],
   "id": "95c136a26fe0e094",
   "outputs": [
    {
     "name": "stdout",
     "output_type": "stream",
     "text": [
      "<class 'pandas.core.frame.DataFrame'>\n",
      "RangeIndex: 746336 entries, 0 to 746335\n",
      "Data columns (total 16 columns):\n",
      " #   Column    Non-Null Count   Dtype  \n",
      "---  ------    --------------   -----  \n",
      " 0   AGEP      746336 non-null  float64\n",
      " 1   SCHL      709133 non-null  float64\n",
      " 2   MAR       746336 non-null  float64\n",
      " 3   RELP      709213 non-null  float64\n",
      " 4   DIS       746336 non-null  float64\n",
      " 5   ESP       746336 non-null  float64\n",
      " 6   CIT       709287 non-null  float64\n",
      " 7   MIG       746336 non-null  float64\n",
      " 8   MIL       746336 non-null  float64\n",
      " 9   ANC       746336 non-null  float64\n",
      " 10  NATIVITY  708813 non-null  float64\n",
      " 11  DEAR      708974 non-null  float64\n",
      " 12  DEYE      709267 non-null  float64\n",
      " 13  DREM      746336 non-null  float64\n",
      " 14  SEX       746336 non-null  float64\n",
      " 15  ESR       746336 non-null  int64  \n",
      "dtypes: float64(15), int64(1)\n",
      "memory usage: 91.1 MB\n"
     ]
    },
    {
     "data": {
      "text/plain": [
       "AGEP            0\n",
       "SCHL        37203\n",
       "MAR             0\n",
       "RELP        37123\n",
       "DIS             0\n",
       "ESP             0\n",
       "CIT         37049\n",
       "MIG             0\n",
       "MIL             0\n",
       "ANC             0\n",
       "NATIVITY    37523\n",
       "DEAR        37362\n",
       "DEYE        37069\n",
       "DREM            0\n",
       "SEX             0\n",
       "ESR             0\n",
       "dtype: int64"
      ]
     },
     "execution_count": 177,
     "metadata": {},
     "output_type": "execute_result"
    }
   ],
   "execution_count": 177
  },
  {
   "metadata": {
    "ExecuteTime": {
     "end_time": "2024-05-14T15:05:09.104652Z",
     "start_time": "2024-05-14T15:05:08.854251Z"
    }
   },
   "cell_type": "code",
   "source": "data['SCHL'].hist()",
   "id": "4d032297ff367d4b",
   "outputs": [
    {
     "data": {
      "text/plain": [
       "<Axes: >"
      ]
     },
     "execution_count": 178,
     "metadata": {},
     "output_type": "execute_result"
    },
    {
     "data": {
      "text/plain": [
       "<Figure size 640x480 with 1 Axes>"
      ],
      "image/png": "[encoded data removed]"
     },
     "metadata": {},
     "output_type": "display_data"
    }
   ],
   "execution_count": 178
  },
  {
   "metadata": {
    "ExecuteTime": {
     "end_time": "2024-05-14T15:05:09.447275Z",
     "start_time": "2024-05-14T15:05:09.105665Z"
    }
   },
   "cell_type": "code",
   "source": "data['MAR'].hist()",
   "id": "e71a2bd02b67e6f7",
   "outputs": [
    {
     "data": {
      "text/plain": [
       "<Axes: >"
      ]
     },
     "execution_count": 179,
     "metadata": {},
     "output_type": "execute_result"
    },
    {
     "data": {
      "text/plain": [
       "<Figure size 640x480 with 1 Axes>"
      ],
      "image/png": "[encoded data removed]"
     },
     "metadata": {},
     "output_type": "display_data"
    }
   ],
   "execution_count": 179
  },
  {
   "metadata": {
    "ExecuteTime": {
     "end_time": "2024-05-14T15:05:09.723942Z",
     "start_time": "2024-05-14T15:05:09.448282Z"
    }
   },
   "cell_type": "code",
   "source": [
    "data['RELP'].hist(bins=18)\n",
    "data[data['RELP']==7].mean()"
   ],
   "id": "373294b20e5f6b5b",
   "outputs": [
    {
     "data": {
      "text/plain": [
       "AGEP        11.180506\n",
       "SCHL         7.574009\n",
       "MAR          4.919363\n",
       "RELP         7.000000\n",
       "DIS          1.940136\n",
       "ESP          3.553844\n",
       "CIT          1.151597\n",
       "MIG          1.163442\n",
       "MIL          0.971637\n",
       "ANC          1.897107\n",
       "NATIVITY     1.027226\n",
       "DEAR         1.992126\n",
       "DEYE         1.990757\n",
       "DREM         1.422188\n",
       "SEX          1.480340\n",
       "ESR          0.131028\n",
       "dtype: float64"
      ]
     },
     "execution_count": 180,
     "metadata": {},
     "output_type": "execute_result"
    },
    {
     "data": {
      "text/plain": [
       "<Figure size 640x480 with 1 Axes>"
      ],
      "image/png": "[encoded data removed]"
     },
     "metadata": {},
     "output_type": "display_data"
    }
   ],
   "execution_count": 180
  },
  {
   "metadata": {
    "ExecuteTime": {
     "end_time": "2024-05-14T15:05:09.928718Z",
     "start_time": "2024-05-14T15:05:09.724947Z"
    }
   },
   "cell_type": "code",
   "source": "data['DIS'].hist()",
   "id": "b3eb087c459547f9",
   "outputs": [
    {
     "data": {
      "text/plain": [
       "<Axes: >"
      ]
     },
     "execution_count": 181,
     "metadata": {},
     "output_type": "execute_result"
    },
    {
     "data": {
      "text/plain": [
       "<Figure size 640x480 with 1 Axes>"
      ],
      "image/png": "[encoded data removed]"
     },
     "metadata": {},
     "output_type": "display_data"
    }
   ],
   "execution_count": 181
  },
  {
   "metadata": {
    "ExecuteTime": {
     "end_time": "2024-05-14T15:05:10.150172Z",
     "start_time": "2024-05-14T15:05:09.929725Z"
    }
   },
   "cell_type": "code",
   "source": "data['ESP'].hist()",
   "id": "2f2f3ae0e0ec5c0a",
   "outputs": [
    {
     "data": {
      "text/plain": [
       "<Axes: >"
      ]
     },
     "execution_count": 182,
     "metadata": {},
     "output_type": "execute_result"
    },
    {
     "data": {
      "text/plain": [
       "<Figure size 640x480 with 1 Axes>"
      ],
      "image/png": "[encoded data removed]"
     },
     "metadata": {},
     "output_type": "display_data"
    }
   ],
   "execution_count": 182
  },
  {
   "metadata": {
    "ExecuteTime": {
     "end_time": "2024-05-14T15:05:10.393939Z",
     "start_time": "2024-05-14T15:05:10.152178Z"
    }
   },
   "cell_type": "code",
   "source": "data['CIT'].hist()",
   "id": "aab92fab67317f7d",
   "outputs": [
    {
     "data": {
      "text/plain": [
       "<Axes: >"
      ]
     },
     "execution_count": 183,
     "metadata": {},
     "output_type": "execute_result"
    },
    {
     "data": {
      "text/plain": [
       "<Figure size 640x480 with 1 Axes>"
      ],
      "image/png": "[encoded data removed]"
     },
     "metadata": {},
     "output_type": "display_data"
    }
   ],
   "execution_count": 183
  },
  {
   "metadata": {
    "ExecuteTime": {
     "end_time": "2024-05-14T15:05:10.628914Z",
     "start_time": "2024-05-14T15:05:10.394945Z"
    }
   },
   "cell_type": "code",
   "source": "data['MIG'].hist()",
   "id": "a2b9b8b6483a7a0d",
   "outputs": [
    {
     "data": {
      "text/plain": [
       "<Axes: >"
      ]
     },
     "execution_count": 184,
     "metadata": {},
     "output_type": "execute_result"
    },
    {
     "data": {
      "text/plain": [
       "<Figure size 640x480 with 1 Axes>"
      ],
      "image/png": "[encoded data removed]"
     },
     "metadata": {},
     "output_type": "display_data"
    }
   ],
   "execution_count": 184
  },
  {
   "metadata": {
    "ExecuteTime": {
     "end_time": "2024-05-14T15:05:10.998362Z",
     "start_time": "2024-05-14T15:05:10.629919Z"
    }
   },
   "cell_type": "code",
   "source": "data['MIL'].hist()",
   "id": "6183246054fcf673",
   "outputs": [
    {
     "data": {
      "text/plain": [
       "<Axes: >"
      ]
     },
     "execution_count": 185,
     "metadata": {},
     "output_type": "execute_result"
    },
    {
     "data": {
      "text/plain": [
       "<Figure size 640x480 with 1 Axes>"
      ],
      "image/png": "[encoded data removed]"
     },
     "metadata": {},
     "output_type": "display_data"
    }
   ],
   "execution_count": 185
  },
  {
   "metadata": {
    "ExecuteTime": {
     "end_time": "2024-05-14T15:05:11.330317Z",
     "start_time": "2024-05-14T15:05:10.999373Z"
    }
   },
   "cell_type": "code",
   "source": "data['ANC'].hist()",
   "id": "4a815b462a6b3648",
   "outputs": [
    {
     "data": {
      "text/plain": [
       "<Axes: >"
      ]
     },
     "execution_count": 186,
     "metadata": {},
     "output_type": "execute_result"
    },
    {
     "data": {
      "text/plain": [
       "<Figure size 640x480 with 1 Axes>"
      ],
      "image/png": "[encoded data removed]"
     },
     "metadata": {},
     "output_type": "display_data"
    }
   ],
   "execution_count": 186
  },
  {
   "metadata": {
    "ExecuteTime": {
     "end_time": "2024-05-14T15:05:11.623141Z",
     "start_time": "2024-05-14T15:05:11.332326Z"
    }
   },
   "cell_type": "code",
   "source": "data['NATIVITY'].hist()",
   "id": "6639608628f66df6",
   "outputs": [
    {
     "data": {
      "text/plain": [
       "<Axes: >"
      ]
     },
     "execution_count": 187,
     "metadata": {},
     "output_type": "execute_result"
    },
    {
     "data": {
      "text/plain": [
       "<Figure size 640x480 with 1 Axes>"
      ],
      "image/png": "[encoded data removed]"
     },
     "metadata": {},
     "output_type": "display_data"
    }
   ],
   "execution_count": 187
  },
  {
   "metadata": {
    "ExecuteTime": {
     "end_time": "2024-05-14T15:05:11.858210Z",
     "start_time": "2024-05-14T15:05:11.624146Z"
    }
   },
   "cell_type": "code",
   "source": "data['DEAR'].hist()",
   "id": "6ee7b65e2417bb92",
   "outputs": [
    {
     "data": {
      "text/plain": [
       "<Axes: >"
      ]
     },
     "execution_count": 188,
     "metadata": {},
     "output_type": "execute_result"
    },
    {
     "data": {
      "text/plain": [
       "<Figure size 640x480 with 1 Axes>"
      ],
      "image/png": "[encoded data removed]"
     },
     "metadata": {},
     "output_type": "display_data"
    }
   ],
   "execution_count": 188
  },
  {
   "metadata": {
    "ExecuteTime": {
     "end_time": "2024-05-14T15:05:12.071199Z",
     "start_time": "2024-05-14T15:05:11.859221Z"
    }
   },
   "cell_type": "code",
   "source": "data['DEYE'].hist()",
   "id": "f224f1ddbcbd9c96",
   "outputs": [
    {
     "data": {
      "text/plain": [
       "<Axes: >"
      ]
     },
     "execution_count": 189,
     "metadata": {},
     "output_type": "execute_result"
    },
    {
     "data": {
      "text/plain": [
       "<Figure size 640x480 with 1 Axes>"
      ],
      "image/png": "[encoded data removed]"
     },
     "metadata": {},
     "output_type": "display_data"
    }
   ],
   "execution_count": 189
  },
  {
   "metadata": {
    "ExecuteTime": {
     "end_time": "2024-05-14T15:05:12.311254Z",
     "start_time": "2024-05-14T15:05:12.072206Z"
    }
   },
   "cell_type": "code",
   "source": "data['DREM'].hist()",
   "id": "530973aa3823bc17",
   "outputs": [
    {
     "data": {
      "text/plain": [
       "<Axes: >"
      ]
     },
     "execution_count": 190,
     "metadata": {},
     "output_type": "execute_result"
    },
    {
     "data": {
      "text/plain": [
       "<Figure size 640x480 with 1 Axes>"
      ],
      "image/png": "[encoded data removed]"
     },
     "metadata": {},
     "output_type": "display_data"
    }
   ],
   "execution_count": 190
  },
  {
   "metadata": {
    "ExecuteTime": {
     "end_time": "2024-05-14T15:05:12.532695Z",
     "start_time": "2024-05-14T15:05:12.312259Z"
    }
   },
   "cell_type": "code",
   "source": "data['SEX'].hist()",
   "id": "a34e84f19c8d4765",
   "outputs": [
    {
     "data": {
      "text/plain": [
       "<Axes: >"
      ]
     },
     "execution_count": 191,
     "metadata": {},
     "output_type": "execute_result"
    },
    {
     "data": {
      "text/plain": [
       "<Figure size 640x480 with 1 Axes>"
      ],
      "image/png": "[encoded data removed]"
     },
     "metadata": {},
     "output_type": "display_data"
    }
   ],
   "execution_count": 191
  },
  {
   "metadata": {
    "ExecuteTime": {
     "end_time": "2024-05-14T15:05:12.777029Z",
     "start_time": "2024-05-14T15:05:12.533704Z"
    }
   },
   "cell_type": "code",
   "source": "data['ESR'].hist()",
   "id": "374eee89059b6d53",
   "outputs": [
    {
     "data": {
      "text/plain": [
       "<Axes: >"
      ]
     },
     "execution_count": 192,
     "metadata": {},
     "output_type": "execute_result"
    },
    {
     "data": {
      "text/plain": [
       "<Figure size 640x480 with 1 Axes>"
      ],
      "image/png": "[encoded data removed]"
     },
     "metadata": {},
     "output_type": "display_data"
    }
   ],
   "execution_count": 192
  },
  {
   "metadata": {
    "ExecuteTime": {
     "end_time": "2024-05-14T15:05:13.587391Z",
     "start_time": "2024-05-14T15:05:12.778034Z"
    }
   },
   "cell_type": "code",
   "source": "data.corr()",
   "id": "77fef287f90ea527",
   "outputs": [
    {
     "data": {
      "text/plain": [
       "              AGEP      SCHL       MAR      RELP       DIS       ESP  \\\n",
       "AGEP      1.000000  0.526318 -0.652526 -0.160553 -0.319932 -0.495892   \n",
       "SCHL      0.526318  1.000000 -0.437045 -0.106178 -0.034417 -0.534254   \n",
       "MAR      -0.652526 -0.437045  1.000000  0.324343  0.084751  0.395482   \n",
       "RELP     -0.160553 -0.106178  0.324343  1.000000 -0.090447  0.028915   \n",
       "DIS      -0.319932 -0.034417  0.084751 -0.090447  1.000000  0.093754   \n",
       "ESP      -0.495892 -0.534254  0.395482  0.028915  0.093754  1.000000   \n",
       "CIT       0.136805  0.013117 -0.197440 -0.007710  0.037943 -0.139069   \n",
       "MIG      -0.094053  0.051095  0.091173  0.202360 -0.000815 -0.016679   \n",
       "MIL       0.610013  0.710749 -0.486286 -0.026641 -0.102686 -0.650507   \n",
       "ANC      -0.075151 -0.055516  0.067081  0.051846 -0.006058  0.037561   \n",
       "NATIVITY  0.159861  0.026687 -0.212588 -0.018830  0.031085 -0.145389   \n",
       "DEAR     -0.240264 -0.036743  0.100159 -0.004358  0.512855  0.063005   \n",
       "DEYE     -0.127749 -0.002851  0.034025 -0.043709  0.405873  0.038179   \n",
       "DREM      0.297545  0.508846 -0.243272 -0.090742  0.190759 -0.286680   \n",
       "SEX       0.045604  0.020629 -0.037797 -0.041623 -0.004698 -0.014166   \n",
       "ESR       0.108214  0.433160 -0.236155 -0.141054  0.209605 -0.323080   \n",
       "\n",
       "               CIT       MIG       MIL       ANC  NATIVITY      DEAR  \\\n",
       "AGEP      0.136805 -0.094053  0.610013 -0.075151  0.159861 -0.240264   \n",
       "SCHL      0.013117  0.051095  0.710749 -0.055516  0.026687 -0.036743   \n",
       "MAR      -0.197440  0.091173 -0.486286  0.067081 -0.212588  0.100159   \n",
       "RELP     -0.007710  0.202360 -0.026641  0.051846 -0.018830 -0.004358   \n",
       "DIS       0.037943 -0.000815 -0.102686 -0.006058  0.031085  0.512855   \n",
       "ESP      -0.139069 -0.016679 -0.650507  0.037561 -0.145389  0.063005   \n",
       "CIT       1.000000 -0.010506  0.210177 -0.154963  0.975068  0.025188   \n",
       "MIG      -0.010506  1.000000  0.041475  0.032566 -0.018573  0.016514   \n",
       "MIL       0.210177  0.041475  1.000000 -0.072090  0.217732 -0.041023   \n",
       "ANC      -0.154963  0.032566 -0.072090  1.000000 -0.160468  0.000405   \n",
       "NATIVITY  0.975068 -0.018573  0.217732 -0.160468  1.000000  0.020730   \n",
       "DEAR      0.025188  0.016514 -0.041023  0.000405  0.020730  1.000000   \n",
       "DEYE     -0.000428 -0.003608 -0.047215  0.001006 -0.001856  0.231059   \n",
       "DREM      0.109111  0.034611  0.391905 -0.050561  0.109656  0.049433   \n",
       "SEX       0.011768 -0.011250  0.084040  0.003481  0.015864  0.034801   \n",
       "ESR       0.108761  0.020511  0.455615 -0.022187  0.110149  0.098217   \n",
       "\n",
       "              DEYE      DREM       SEX       ESR  \n",
       "AGEP     -0.127749  0.297545  0.045604  0.108214  \n",
       "SCHL     -0.002851  0.508846  0.020629  0.433160  \n",
       "MAR       0.034025 -0.243272 -0.037797 -0.236155  \n",
       "RELP     -0.043709 -0.090742 -0.041623 -0.141054  \n",
       "DIS       0.405873  0.190759 -0.004698  0.209605  \n",
       "ESP       0.038179 -0.286680 -0.014166 -0.323080  \n",
       "CIT      -0.000428  0.109111  0.011768  0.108761  \n",
       "MIG      -0.003608  0.034611 -0.011250  0.020511  \n",
       "MIL      -0.047215  0.391905  0.084040  0.455615  \n",
       "ANC       0.001006 -0.050561  0.003481 -0.022187  \n",
       "NATIVITY -0.001856  0.109656  0.015864  0.110149  \n",
       "DEAR      0.231059  0.049433  0.034801  0.098217  \n",
       "DEYE      1.000000  0.066936 -0.009537  0.072056  \n",
       "DREM      0.066936  1.000000  0.010203  0.265008  \n",
       "SEX      -0.009537  0.010203  1.000000 -0.070236  \n",
       "ESR       0.072056  0.265008 -0.070236  1.000000  "
      ],
      "text/html": [
       "<div>\n",
       "<style scoped>\n",
       "    .dataframe tbody tr th:only-of-type {\n",
       "        vertical-align: middle;\n",
       "    }\n",
       "\n",
       "    .dataframe tbody tr th {\n",
       "        vertical-align: top;\n",
       "    }\n",
       "\n",
       "    .dataframe thead th {\n",
       "        text-align: right;\n",
       "    }\n",
       "</style>\n",
       "<table border=\"1\" class=\"dataframe\">\n",
       "  <thead>\n",
       "    <tr style=\"text-align: right;\">\n",
       "      <th></th>\n",
       "      <th>AGEP</th>\n",
       "      <th>SCHL</th>\n",
       "      <th>MAR</th>\n",
       "      <th>RELP</th>\n",
       "      <th>DIS</th>\n",
       "      <th>ESP</th>\n",
       "      <th>CIT</th>\n",
       "      <th>MIG</th>\n",
       "      <th>MIL</th>\n",
       "      <th>ANC</th>\n",
       "      <th>NATIVITY</th>\n",
       "      <th>DEAR</th>\n",
       "      <th>DEYE</th>\n",
       "      <th>DREM</th>\n",
       "      <th>SEX</th>\n",
       "      <th>ESR</th>\n",
       "    </tr>\n",
       "  </thead>\n",
       "  <tbody>\n",
       "    <tr>\n",
       "      <th>AGEP</th>\n",
       "      <td>1.000000</td>\n",
       "      <td>0.526318</td>\n",
       "      <td>-0.652526</td>\n",
       "      <td>-0.160553</td>\n",
       "      <td>-0.319932</td>\n",
       "      <td>-0.495892</td>\n",
       "      <td>0.136805</td>\n",
       "      <td>-0.094053</td>\n",
       "      <td>0.610013</td>\n",
       "      <td>-0.075151</td>\n",
       "      <td>0.159861</td>\n",
       "      <td>-0.240264</td>\n",
       "      <td>-0.127749</td>\n",
       "      <td>0.297545</td>\n",
       "      <td>0.045604</td>\n",
       "      <td>0.108214</td>\n",
       "    </tr>\n",
       "    <tr>\n",
       "      <th>SCHL</th>\n",
       "      <td>0.526318</td>\n",
       "      <td>1.000000</td>\n",
       "      <td>-0.437045</td>\n",
       "      <td>-0.106178</td>\n",
       "      <td>-0.034417</td>\n",
       "      <td>-0.534254</td>\n",
       "      <td>0.013117</td>\n",
       "      <td>0.051095</td>\n",
       "      <td>0.710749</td>\n",
       "      <td>-0.055516</td>\n",
       "      <td>0.026687</td>\n",
       "      <td>-0.036743</td>\n",
       "      <td>-0.002851</td>\n",
       "      <td>0.508846</td>\n",
       "      <td>0.020629</td>\n",
       "      <td>0.433160</td>\n",
       "    </tr>\n",
       "    <tr>\n",
       "      <th>MAR</th>\n",
       "      <td>-0.652526</td>\n",
       "      <td>-0.437045</td>\n",
       "      <td>1.000000</td>\n",
       "      <td>0.324343</td>\n",
       "      <td>0.084751</td>\n",
       "      <td>0.395482</td>\n",
       "      <td>-0.197440</td>\n",
       "      <td>0.091173</td>\n",
       "      <td>-0.486286</td>\n",
       "      <td>0.067081</td>\n",
       "      <td>-0.212588</td>\n",
       "      <td>0.100159</td>\n",
       "      <td>0.034025</td>\n",
       "      <td>-0.243272</td>\n",
       "      <td>-0.037797</td>\n",
       "      <td>-0.236155</td>\n",
       "    </tr>\n",
       "    <tr>\n",
       "      <th>RELP</th>\n",
       "      <td>-0.160553</td>\n",
       "      <td>-0.106178</td>\n",
       "      <td>0.324343</td>\n",
       "      <td>1.000000</td>\n",
       "      <td>-0.090447</td>\n",
       "      <td>0.028915</td>\n",
       "      <td>-0.007710</td>\n",
       "      <td>0.202360</td>\n",
       "      <td>-0.026641</td>\n",
       "      <td>0.051846</td>\n",
       "      <td>-0.018830</td>\n",
       "      <td>-0.004358</td>\n",
       "      <td>-0.043709</td>\n",
       "      <td>-0.090742</td>\n",
       "      <td>-0.041623</td>\n",
       "      <td>-0.141054</td>\n",
       "    </tr>\n",
       "    <tr>\n",
       "      <th>DIS</th>\n",
       "      <td>-0.319932</td>\n",
       "      <td>-0.034417</td>\n",
       "      <td>0.084751</td>\n",
       "      <td>-0.090447</td>\n",
       "      <td>1.000000</td>\n",
       "      <td>0.093754</td>\n",
       "      <td>0.037943</td>\n",
       "      <td>-0.000815</td>\n",
       "      <td>-0.102686</td>\n",
       "      <td>-0.006058</td>\n",
       "      <td>0.031085</td>\n",
       "      <td>0.512855</td>\n",
       "      <td>0.405873</td>\n",
       "      <td>0.190759</td>\n",
       "      <td>-0.004698</td>\n",
       "      <td>0.209605</td>\n",
       "    </tr>\n",
       "    <tr>\n",
       "      <th>ESP</th>\n",
       "      <td>-0.495892</td>\n",
       "      <td>-0.534254</td>\n",
       "      <td>0.395482</td>\n",
       "      <td>0.028915</td>\n",
       "      <td>0.093754</td>\n",
       "      <td>1.000000</td>\n",
       "      <td>-0.139069</td>\n",
       "      <td>-0.016679</td>\n",
       "      <td>-0.650507</td>\n",
       "      <td>0.037561</td>\n",
       "      <td>-0.145389</td>\n",
       "      <td>0.063005</td>\n",
       "      <td>0.038179</td>\n",
       "      <td>-0.286680</td>\n",
       "      <td>-0.014166</td>\n",
       "      <td>-0.323080</td>\n",
       "    </tr>\n",
       "    <tr>\n",
       "      <th>CIT</th>\n",
       "      <td>0.136805</td>\n",
       "      <td>0.013117</td>\n",
       "      <td>-0.197440</td>\n",
       "      <td>-0.007710</td>\n",
       "      <td>0.037943</td>\n",
       "      <td>-0.139069</td>\n",
       "      <td>1.000000</td>\n",
       "      <td>-0.010506</td>\n",
       "      <td>0.210177</td>\n",
       "      <td>-0.154963</td>\n",
       "      <td>0.975068</td>\n",
       "      <td>0.025188</td>\n",
       "      <td>-0.000428</td>\n",
       "      <td>0.109111</td>\n",
       "      <td>0.011768</td>\n",
       "      <td>0.108761</td>\n",
       "    </tr>\n",
       "    <tr>\n",
       "      <th>MIG</th>\n",
       "      <td>-0.094053</td>\n",
       "      <td>0.051095</td>\n",
       "      <td>0.091173</td>\n",
       "      <td>0.202360</td>\n",
       "      <td>-0.000815</td>\n",
       "      <td>-0.016679</td>\n",
       "      <td>-0.010506</td>\n",
       "      <td>1.000000</td>\n",
       "      <td>0.041475</td>\n",
       "      <td>0.032566</td>\n",
       "      <td>-0.018573</td>\n",
       "      <td>0.016514</td>\n",
       "      <td>-0.003608</td>\n",
       "      <td>0.034611</td>\n",
       "      <td>-0.011250</td>\n",
       "      <td>0.020511</td>\n",
       "    </tr>\n",
       "    <tr>\n",
       "      <th>MIL</th>\n",
       "      <td>0.610013</td>\n",
       "      <td>0.710749</td>\n",
       "      <td>-0.486286</td>\n",
       "      <td>-0.026641</td>\n",
       "      <td>-0.102686</td>\n",
       "      <td>-0.650507</td>\n",
       "      <td>0.210177</td>\n",
       "      <td>0.041475</td>\n",
       "      <td>1.000000</td>\n",
       "      <td>-0.072090</td>\n",
       "      <td>0.217732</td>\n",
       "      <td>-0.041023</td>\n",
       "      <td>-0.047215</td>\n",
       "      <td>0.391905</td>\n",
       "      <td>0.084040</td>\n",
       "      <td>0.455615</td>\n",
       "    </tr>\n",
       "    <tr>\n",
       "      <th>ANC</th>\n",
       "      <td>-0.075151</td>\n",
       "      <td>-0.055516</td>\n",
       "      <td>0.067081</td>\n",
       "      <td>0.051846</td>\n",
       "      <td>-0.006058</td>\n",
       "      <td>0.037561</td>\n",
       "      <td>-0.154963</td>\n",
       "      <td>0.032566</td>\n",
       "      <td>-0.072090</td>\n",
       "      <td>1.000000</td>\n",
       "      <td>-0.160468</td>\n",
       "      <td>0.000405</td>\n",
       "      <td>0.001006</td>\n",
       "      <td>-0.050561</td>\n",
       "      <td>0.003481</td>\n",
       "      <td>-0.022187</td>\n",
       "    </tr>\n",
       "    <tr>\n",
       "      <th>NATIVITY</th>\n",
       "      <td>0.159861</td>\n",
       "      <td>0.026687</td>\n",
       "      <td>-0.212588</td>\n",
       "      <td>-0.018830</td>\n",
       "      <td>0.031085</td>\n",
       "      <td>-0.145389</td>\n",
       "      <td>0.975068</td>\n",
       "      <td>-0.018573</td>\n",
       "      <td>0.217732</td>\n",
       "      <td>-0.160468</td>\n",
       "      <td>1.000000</td>\n",
       "      <td>0.020730</td>\n",
       "      <td>-0.001856</td>\n",
       "      <td>0.109656</td>\n",
       "      <td>0.015864</td>\n",
       "      <td>0.110149</td>\n",
       "    </tr>\n",
       "    <tr>\n",
       "      <th>DEAR</th>\n",
       "      <td>-0.240264</td>\n",
       "      <td>-0.036743</td>\n",
       "      <td>0.100159</td>\n",
       "      <td>-0.004358</td>\n",
       "      <td>0.512855</td>\n",
       "      <td>0.063005</td>\n",
       "      <td>0.025188</td>\n",
       "      <td>0.016514</td>\n",
       "      <td>-0.041023</td>\n",
       "      <td>0.000405</td>\n",
       "      <td>0.020730</td>\n",
       "      <td>1.000000</td>\n",
       "      <td>0.231059</td>\n",
       "      <td>0.049433</td>\n",
       "      <td>0.034801</td>\n",
       "      <td>0.098217</td>\n",
       "    </tr>\n",
       "    <tr>\n",
       "      <th>DEYE</th>\n",
       "      <td>-0.127749</td>\n",
       "      <td>-0.002851</td>\n",
       "      <td>0.034025</td>\n",
       "      <td>-0.043709</td>\n",
       "      <td>0.405873</td>\n",
       "      <td>0.038179</td>\n",
       "      <td>-0.000428</td>\n",
       "      <td>-0.003608</td>\n",
       "      <td>-0.047215</td>\n",
       "      <td>0.001006</td>\n",
       "      <td>-0.001856</td>\n",
       "      <td>0.231059</td>\n",
       "      <td>1.000000</td>\n",
       "      <td>0.066936</td>\n",
       "      <td>-0.009537</td>\n",
       "      <td>0.072056</td>\n",
       "    </tr>\n",
       "    <tr>\n",
       "      <th>DREM</th>\n",
       "      <td>0.297545</td>\n",
       "      <td>0.508846</td>\n",
       "      <td>-0.243272</td>\n",
       "      <td>-0.090742</td>\n",
       "      <td>0.190759</td>\n",
       "      <td>-0.286680</td>\n",
       "      <td>0.109111</td>\n",
       "      <td>0.034611</td>\n",
       "      <td>0.391905</td>\n",
       "      <td>-0.050561</td>\n",
       "      <td>0.109656</td>\n",
       "      <td>0.049433</td>\n",
       "      <td>0.066936</td>\n",
       "      <td>1.000000</td>\n",
       "      <td>0.010203</td>\n",
       "      <td>0.265008</td>\n",
       "    </tr>\n",
       "    <tr>\n",
       "      <th>SEX</th>\n",
       "      <td>0.045604</td>\n",
       "      <td>0.020629</td>\n",
       "      <td>-0.037797</td>\n",
       "      <td>-0.041623</td>\n",
       "      <td>-0.004698</td>\n",
       "      <td>-0.014166</td>\n",
       "      <td>0.011768</td>\n",
       "      <td>-0.011250</td>\n",
       "      <td>0.084040</td>\n",
       "      <td>0.003481</td>\n",
       "      <td>0.015864</td>\n",
       "      <td>0.034801</td>\n",
       "      <td>-0.009537</td>\n",
       "      <td>0.010203</td>\n",
       "      <td>1.000000</td>\n",
       "      <td>-0.070236</td>\n",
       "    </tr>\n",
       "    <tr>\n",
       "      <th>ESR</th>\n",
       "      <td>0.108214</td>\n",
       "      <td>0.433160</td>\n",
       "      <td>-0.236155</td>\n",
       "      <td>-0.141054</td>\n",
       "      <td>0.209605</td>\n",
       "      <td>-0.323080</td>\n",
       "      <td>0.108761</td>\n",
       "      <td>0.020511</td>\n",
       "      <td>0.455615</td>\n",
       "      <td>-0.022187</td>\n",
       "      <td>0.110149</td>\n",
       "      <td>0.098217</td>\n",
       "      <td>0.072056</td>\n",
       "      <td>0.265008</td>\n",
       "      <td>-0.070236</td>\n",
       "      <td>1.000000</td>\n",
       "    </tr>\n",
       "  </tbody>\n",
       "</table>\n",
       "</div>"
      ]
     },
     "execution_count": 193,
     "metadata": {},
     "output_type": "execute_result"
    }
   ],
   "execution_count": 193
  },
  {
   "metadata": {},
   "cell_type": "markdown",
   "source": "substituted NaN values of DEYE and DEAR with mode",
   "id": "ff43accb44addea8"
  },
  {
   "metadata": {
    "ExecuteTime": {
     "end_time": "2024-05-14T15:05:13.632964Z",
     "start_time": "2024-05-14T15:05:13.588403Z"
    }
   },
   "cell_type": "code",
   "source": [
    "data['DEYE']=data['DEYE'].fillna(2)\n",
    "data['DEAR']=data['DEAR'].fillna(2)\n",
    "data.isna().sum()"
   ],
   "id": "7ee0e40354bb20b8",
   "outputs": [
    {
     "data": {
      "text/plain": [
       "AGEP            0\n",
       "SCHL        37203\n",
       "MAR             0\n",
       "RELP        37123\n",
       "DIS             0\n",
       "ESP             0\n",
       "CIT         37049\n",
       "MIG             0\n",
       "MIL             0\n",
       "ANC             0\n",
       "NATIVITY    37523\n",
       "DEAR            0\n",
       "DEYE            0\n",
       "DREM            0\n",
       "SEX             0\n",
       "ESR             0\n",
       "dtype: int64"
      ]
     },
     "execution_count": 194,
     "metadata": {},
     "output_type": "execute_result"
    }
   ],
   "execution_count": 194
  },
  {
   "metadata": {},
   "cell_type": "markdown",
   "source": "dropping every row in which both CIT and NATIVITY are NaNs",
   "id": "147786f3e23c4a5f"
  },
  {
   "metadata": {
    "ExecuteTime": {
     "end_time": "2024-05-14T15:05:13.713781Z",
     "start_time": "2024-05-14T15:05:13.633970Z"
    }
   },
   "cell_type": "code",
   "source": [
    "cond = data['CIT'].isna() & data['NATIVITY'].isna()\n",
    "data = data.loc[~cond]"
   ],
   "id": "414226e89df0f437",
   "outputs": [],
   "execution_count": 195
  },
  {
   "metadata": {
    "ExecuteTime": {
     "end_time": "2024-05-14T15:05:13.971321Z",
     "start_time": "2024-05-14T15:05:13.714794Z"
    }
   },
   "cell_type": "code",
   "source": [
    "data['NATIVITY'] = data['NATIVITY'] - 1\n",
    "data['NATIVITY'].hist()"
   ],
   "id": "84ed7bcceb707642",
   "outputs": [
    {
     "data": {
      "text/plain": [
       "<Axes: >"
      ]
     },
     "execution_count": 196,
     "metadata": {},
     "output_type": "execute_result"
    },
    {
     "data": {
      "text/plain": [
       "<Figure size 640x480 with 1 Axes>"
      ],
      "image/png": "[encoded data removed]"
     },
     "metadata": {},
     "output_type": "display_data"
    }
   ],
   "execution_count": 196
  },
  {
   "metadata": {
    "ExecuteTime": {
     "end_time": "2024-05-14T15:05:27.315529Z",
     "start_time": "2024-05-14T15:05:13.972326Z"
    }
   },
   "cell_type": "code",
   "source": "pd.plotting.scatter_matrix(data[['CIT','NATIVITY']])",
   "id": "de4ae3e7506beee3",
   "outputs": [
    {
     "data": {
      "text/plain": [
       "array([[<Axes: xlabel='CIT', ylabel='CIT'>,\n",
       "        <Axes: xlabel='NATIVITY', ylabel='CIT'>],\n",
       "       [<Axes: xlabel='CIT', ylabel='NATIVITY'>,\n",
       "        <Axes: xlabel='NATIVITY', ylabel='NATIVITY'>]], dtype=object)"
      ]
     },
     "execution_count": 197,
     "metadata": {},
     "output_type": "execute_result"
    },
    {
     "data": {
      "text/plain": [
       "<Figure size 640x480 with 4 Axes>"
      ],
      "image/png": "[encoded data removed]"
     },
     "metadata": {},
     "output_type": "display_data"
    }
   ],
   "execution_count": 197
  },
  {
   "metadata": {},
   "cell_type": "markdown",
   "source": "reconstruction of NAT from CIT",
   "id": "504d4dcfd94be16e"
  },
  {
   "metadata": {
    "ExecuteTime": {
     "end_time": "2024-05-14T15:05:27.330171Z",
     "start_time": "2024-05-14T15:05:27.316540Z"
    }
   },
   "cell_type": "code",
   "source": [
    "data.loc[(data['NATIVITY'].isnull()) & (data['CIT']<4), 'NATIVITY'] = 0\n",
    "data.loc[(data['NATIVITY'].isnull()) & (data['CIT']>3), 'NATIVITY'] = 1"
   ],
   "id": "993af1c9c50da206",
   "outputs": [],
   "execution_count": 198
  },
  {
   "metadata": {},
   "cell_type": "markdown",
   "source": "checking whether we did everything correctly",
   "id": "1dd7175e5c6fe8d9"
  },
  {
   "metadata": {
    "ExecuteTime": {
     "end_time": "2024-05-14T15:05:39.118892Z",
     "start_time": "2024-05-14T15:05:27.331176Z"
    }
   },
   "cell_type": "code",
   "source": "pd.plotting.scatter_matrix(data[['CIT','NATIVITY']])",
   "id": "9095479c4eb2b005",
   "outputs": [
    {
     "data": {
      "text/plain": [
       "array([[<Axes: xlabel='CIT', ylabel='CIT'>,\n",
       "        <Axes: xlabel='NATIVITY', ylabel='CIT'>],\n",
       "       [<Axes: xlabel='CIT', ylabel='NATIVITY'>,\n",
       "        <Axes: xlabel='NATIVITY', ylabel='NATIVITY'>]], dtype=object)"
      ]
     },
     "execution_count": 199,
     "metadata": {},
     "output_type": "execute_result"
    },
    {
     "data": {
      "text/plain": [
       "<Figure size 640x480 with 4 Axes>"
      ],
      "image/png": "[encoded data removed]"
     },
     "metadata": {},
     "output_type": "display_data"
    }
   ],
   "execution_count": 199
  },
  {
   "metadata": {
    "ExecuteTime": {
     "end_time": "2024-05-14T15:05:39.124826Z",
     "start_time": "2024-05-14T15:05:39.120902Z"
    }
   },
   "cell_type": "code",
   "source": "",
   "id": "578497502b0c5dd",
   "outputs": [],
   "execution_count": 199
  }
 ],
 "metadata": {
  "kernelspec": {
   "display_name": "Python 3",
   "language": "python",
   "name": "python3"
  },
  "language_info": {
   "codemirror_mode": {
    "name": "ipython",
    "version": 2
   },
   "file_extension": ".py",
   "mimetype": "text/x-python",
   "name": "python",
   "nbconvert_exporter": "python",
   "pygments_lexer": "ipython2",
   "version": "2.7.6"
  }
 },
 "nbformat": 4,
 "nbformat_minor": 5
}
