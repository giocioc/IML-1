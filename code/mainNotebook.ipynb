{
 "cells": [
  {
   "metadata": {},
   "cell_type": "markdown",
   "source": [
    "# Introduzione al Machine Learning 2023-2024\n",
    "## Bernardini Jacopo, Ciocca Giorgio, Marini Tommaso\n",
    "### Exam Project, First Part: Data Exploration, Clustering  and Classification"
   ],
   "id": "ae636fbbc79a8b12"
  },
  {
   "metadata": {},
   "cell_type": "markdown",
   "source": "Libraries import",
   "id": "43c847192814d75a"
  },
  {
   "metadata": {
    "ExecuteTime": {
     "end_time": "2024-05-14T13:18:48.459666Z",
     "start_time": "2024-05-14T13:18:48.456268Z"
    }
   },
   "cell_type": "code",
   "source": [
    "import numpy as np\n",
    "import pandas as pd"
   ],
   "id": "6707c599167ce45a",
   "outputs": [],
   "execution_count": 1
  },
  {
   "metadata": {},
   "cell_type": "markdown",
   "source": "File reading and substitution of 'notknown' values with NaNs ",
   "id": "8dccef71ffb70e2b"
  },
  {
   "metadata": {
    "ExecuteTime": {
     "end_time": "2024-05-14T13:18:49.294167Z",
     "start_time": "2024-05-14T13:18:48.460673Z"
    }
   },
   "cell_type": "code",
   "source": [
    "filename = r'C:\\Users\\giorg\\Desktop\\uni\\magistrale\\Introduzione al Machine Learning\\Project\\IML-1\\code\\data\\pums.csv'\n",
    "data = pd.read_csv(filename, na_values='notknown')\n",
    "data.head()"
   ],
   "id": "ee60770bbf92f958",
   "outputs": [
    {
     "data": {
      "text/plain": [
       "   AGEP  SCHL  MAR  RELP  DIS  ESP  CIT  MIG  MIL  ANC  NATIVITY  DEAR  DEYE  \\\n",
       "0  21.0  16.0  5.0  17.0  2.0  0.0  1.0  1.0  4.0  1.0       1.0   2.0   2.0   \n",
       "1  19.0  16.0  5.0  17.0  2.0  0.0  1.0  1.0  4.0  1.0       1.0   2.0   2.0   \n",
       "2  24.0  12.0  5.0  16.0  1.0  0.0  1.0  1.0  4.0  1.0       1.0   2.0   2.0   \n",
       "3  20.0  16.0  5.0  17.0  2.0  0.0  1.0  1.0  3.0  1.0       1.0   2.0   NaN   \n",
       "4  31.0  17.0  5.0  17.0  2.0  0.0  1.0  3.0  4.0  4.0       1.0   2.0   2.0   \n",
       "\n",
       "   DREM  SEX    ESR  \n",
       "0   2.0  2.0   True  \n",
       "1   2.0  2.0  False  \n",
       "2   1.0  1.0  False  \n",
       "3   2.0  2.0   True  \n",
       "4   2.0  1.0   True  "
      ],
      "text/html": [
       "<div>\n",
       "<style scoped>\n",
       "    .dataframe tbody tr th:only-of-type {\n",
       "        vertical-align: middle;\n",
       "    }\n",
       "\n",
       "    .dataframe tbody tr th {\n",
       "        vertical-align: top;\n",
       "    }\n",
       "\n",
       "    .dataframe thead th {\n",
       "        text-align: right;\n",
       "    }\n",
       "</style>\n",
       "<table border=\"1\" class=\"dataframe\">\n",
       "  <thead>\n",
       "    <tr style=\"text-align: right;\">\n",
       "      <th></th>\n",
       "      <th>AGEP</th>\n",
       "      <th>SCHL</th>\n",
       "      <th>MAR</th>\n",
       "      <th>RELP</th>\n",
       "      <th>DIS</th>\n",
       "      <th>ESP</th>\n",
       "      <th>CIT</th>\n",
       "      <th>MIG</th>\n",
       "      <th>MIL</th>\n",
       "      <th>ANC</th>\n",
       "      <th>NATIVITY</th>\n",
       "      <th>DEAR</th>\n",
       "      <th>DEYE</th>\n",
       "      <th>DREM</th>\n",
       "      <th>SEX</th>\n",
       "      <th>ESR</th>\n",
       "    </tr>\n",
       "  </thead>\n",
       "  <tbody>\n",
       "    <tr>\n",
       "      <th>0</th>\n",
       "      <td>21.0</td>\n",
       "      <td>16.0</td>\n",
       "      <td>5.0</td>\n",
       "      <td>17.0</td>\n",
       "      <td>2.0</td>\n",
       "      <td>0.0</td>\n",
       "      <td>1.0</td>\n",
       "      <td>1.0</td>\n",
       "      <td>4.0</td>\n",
       "      <td>1.0</td>\n",
       "      <td>1.0</td>\n",
       "      <td>2.0</td>\n",
       "      <td>2.0</td>\n",
       "      <td>2.0</td>\n",
       "      <td>2.0</td>\n",
       "      <td>True</td>\n",
       "    </tr>\n",
       "    <tr>\n",
       "      <th>1</th>\n",
       "      <td>19.0</td>\n",
       "      <td>16.0</td>\n",
       "      <td>5.0</td>\n",
       "      <td>17.0</td>\n",
       "      <td>2.0</td>\n",
       "      <td>0.0</td>\n",
       "      <td>1.0</td>\n",
       "      <td>1.0</td>\n",
       "      <td>4.0</td>\n",
       "      <td>1.0</td>\n",
       "      <td>1.0</td>\n",
       "      <td>2.0</td>\n",
       "      <td>2.0</td>\n",
       "      <td>2.0</td>\n",
       "      <td>2.0</td>\n",
       "      <td>False</td>\n",
       "    </tr>\n",
       "    <tr>\n",
       "      <th>2</th>\n",
       "      <td>24.0</td>\n",
       "      <td>12.0</td>\n",
       "      <td>5.0</td>\n",
       "      <td>16.0</td>\n",
       "      <td>1.0</td>\n",
       "      <td>0.0</td>\n",
       "      <td>1.0</td>\n",
       "      <td>1.0</td>\n",
       "      <td>4.0</td>\n",
       "      <td>1.0</td>\n",
       "      <td>1.0</td>\n",
       "      <td>2.0</td>\n",
       "      <td>2.0</td>\n",
       "      <td>1.0</td>\n",
       "      <td>1.0</td>\n",
       "      <td>False</td>\n",
       "    </tr>\n",
       "    <tr>\n",
       "      <th>3</th>\n",
       "      <td>20.0</td>\n",
       "      <td>16.0</td>\n",
       "      <td>5.0</td>\n",
       "      <td>17.0</td>\n",
       "      <td>2.0</td>\n",
       "      <td>0.0</td>\n",
       "      <td>1.0</td>\n",
       "      <td>1.0</td>\n",
       "      <td>3.0</td>\n",
       "      <td>1.0</td>\n",
       "      <td>1.0</td>\n",
       "      <td>2.0</td>\n",
       "      <td>NaN</td>\n",
       "      <td>2.0</td>\n",
       "      <td>2.0</td>\n",
       "      <td>True</td>\n",
       "    </tr>\n",
       "    <tr>\n",
       "      <th>4</th>\n",
       "      <td>31.0</td>\n",
       "      <td>17.0</td>\n",
       "      <td>5.0</td>\n",
       "      <td>17.0</td>\n",
       "      <td>2.0</td>\n",
       "      <td>0.0</td>\n",
       "      <td>1.0</td>\n",
       "      <td>3.0</td>\n",
       "      <td>4.0</td>\n",
       "      <td>4.0</td>\n",
       "      <td>1.0</td>\n",
       "      <td>2.0</td>\n",
       "      <td>2.0</td>\n",
       "      <td>2.0</td>\n",
       "      <td>1.0</td>\n",
       "      <td>True</td>\n",
       "    </tr>\n",
       "  </tbody>\n",
       "</table>\n",
       "</div>"
      ]
     },
     "execution_count": 2,
     "metadata": {},
     "output_type": "execute_result"
    }
   ],
   "execution_count": 2
  },
  {
   "metadata": {},
   "cell_type": "markdown",
   "source": "Replace Boolean target variable with O and 1",
   "id": "94b3c31a2101756"
  },
  {
   "metadata": {
    "ExecuteTime": {
     "end_time": "2024-05-14T13:20:43.373542Z",
     "start_time": "2024-05-14T13:20:43.327683Z"
    }
   },
   "cell_type": "code",
   "source": [
    "data=data.replace({False:0, True:1})\n",
    "data     = data.infer_objects(copy=False)\n",
    "data.head()"
   ],
   "id": "d1c58966affbb5fc",
   "outputs": [
    {
     "data": {
      "text/plain": [
       "   AGEP  SCHL  MAR  RELP  DIS  ESP  CIT  MIG  MIL  ANC  NATIVITY  DEAR  DEYE  \\\n",
       "0  21.0  16.0  5.0  17.0  2.0  0.0  1.0  1.0  4.0  1.0       1.0   2.0   2.0   \n",
       "1  19.0  16.0  5.0  17.0  2.0  0.0  1.0  1.0  4.0  1.0       1.0   2.0   2.0   \n",
       "2  24.0  12.0  5.0  16.0  1.0  0.0  1.0  1.0  4.0  1.0       1.0   2.0   2.0   \n",
       "3  20.0  16.0  5.0  17.0  2.0  0.0  1.0  1.0  3.0  1.0       1.0   2.0   NaN   \n",
       "4  31.0  17.0  5.0  17.0  2.0  0.0  1.0  3.0  4.0  4.0       1.0   2.0   2.0   \n",
       "\n",
       "   DREM  SEX  ESR  \n",
       "0   2.0  2.0    1  \n",
       "1   2.0  2.0    0  \n",
       "2   1.0  1.0    0  \n",
       "3   2.0  2.0    1  \n",
       "4   2.0  1.0    1  "
      ],
      "text/html": [
       "<div>\n",
       "<style scoped>\n",
       "    .dataframe tbody tr th:only-of-type {\n",
       "        vertical-align: middle;\n",
       "    }\n",
       "\n",
       "    .dataframe tbody tr th {\n",
       "        vertical-align: top;\n",
       "    }\n",
       "\n",
       "    .dataframe thead th {\n",
       "        text-align: right;\n",
       "    }\n",
       "</style>\n",
       "<table border=\"1\" class=\"dataframe\">\n",
       "  <thead>\n",
       "    <tr style=\"text-align: right;\">\n",
       "      <th></th>\n",
       "      <th>AGEP</th>\n",
       "      <th>SCHL</th>\n",
       "      <th>MAR</th>\n",
       "      <th>RELP</th>\n",
       "      <th>DIS</th>\n",
       "      <th>ESP</th>\n",
       "      <th>CIT</th>\n",
       "      <th>MIG</th>\n",
       "      <th>MIL</th>\n",
       "      <th>ANC</th>\n",
       "      <th>NATIVITY</th>\n",
       "      <th>DEAR</th>\n",
       "      <th>DEYE</th>\n",
       "      <th>DREM</th>\n",
       "      <th>SEX</th>\n",
       "      <th>ESR</th>\n",
       "    </tr>\n",
       "  </thead>\n",
       "  <tbody>\n",
       "    <tr>\n",
       "      <th>0</th>\n",
       "      <td>21.0</td>\n",
       "      <td>16.0</td>\n",
       "      <td>5.0</td>\n",
       "      <td>17.0</td>\n",
       "      <td>2.0</td>\n",
       "      <td>0.0</td>\n",
       "      <td>1.0</td>\n",
       "      <td>1.0</td>\n",
       "      <td>4.0</td>\n",
       "      <td>1.0</td>\n",
       "      <td>1.0</td>\n",
       "      <td>2.0</td>\n",
       "      <td>2.0</td>\n",
       "      <td>2.0</td>\n",
       "      <td>2.0</td>\n",
       "      <td>1</td>\n",
       "    </tr>\n",
       "    <tr>\n",
       "      <th>1</th>\n",
       "      <td>19.0</td>\n",
       "      <td>16.0</td>\n",
       "      <td>5.0</td>\n",
       "      <td>17.0</td>\n",
       "      <td>2.0</td>\n",
       "      <td>0.0</td>\n",
       "      <td>1.0</td>\n",
       "      <td>1.0</td>\n",
       "      <td>4.0</td>\n",
       "      <td>1.0</td>\n",
       "      <td>1.0</td>\n",
       "      <td>2.0</td>\n",
       "      <td>2.0</td>\n",
       "      <td>2.0</td>\n",
       "      <td>2.0</td>\n",
       "      <td>0</td>\n",
       "    </tr>\n",
       "    <tr>\n",
       "      <th>2</th>\n",
       "      <td>24.0</td>\n",
       "      <td>12.0</td>\n",
       "      <td>5.0</td>\n",
       "      <td>16.0</td>\n",
       "      <td>1.0</td>\n",
       "      <td>0.0</td>\n",
       "      <td>1.0</td>\n",
       "      <td>1.0</td>\n",
       "      <td>4.0</td>\n",
       "      <td>1.0</td>\n",
       "      <td>1.0</td>\n",
       "      <td>2.0</td>\n",
       "      <td>2.0</td>\n",
       "      <td>1.0</td>\n",
       "      <td>1.0</td>\n",
       "      <td>0</td>\n",
       "    </tr>\n",
       "    <tr>\n",
       "      <th>3</th>\n",
       "      <td>20.0</td>\n",
       "      <td>16.0</td>\n",
       "      <td>5.0</td>\n",
       "      <td>17.0</td>\n",
       "      <td>2.0</td>\n",
       "      <td>0.0</td>\n",
       "      <td>1.0</td>\n",
       "      <td>1.0</td>\n",
       "      <td>3.0</td>\n",
       "      <td>1.0</td>\n",
       "      <td>1.0</td>\n",
       "      <td>2.0</td>\n",
       "      <td>NaN</td>\n",
       "      <td>2.0</td>\n",
       "      <td>2.0</td>\n",
       "      <td>1</td>\n",
       "    </tr>\n",
       "    <tr>\n",
       "      <th>4</th>\n",
       "      <td>31.0</td>\n",
       "      <td>17.0</td>\n",
       "      <td>5.0</td>\n",
       "      <td>17.0</td>\n",
       "      <td>2.0</td>\n",
       "      <td>0.0</td>\n",
       "      <td>1.0</td>\n",
       "      <td>3.0</td>\n",
       "      <td>4.0</td>\n",
       "      <td>4.0</td>\n",
       "      <td>1.0</td>\n",
       "      <td>2.0</td>\n",
       "      <td>2.0</td>\n",
       "      <td>2.0</td>\n",
       "      <td>1.0</td>\n",
       "      <td>1</td>\n",
       "    </tr>\n",
       "  </tbody>\n",
       "</table>\n",
       "</div>"
      ]
     },
     "execution_count": 6,
     "metadata": {},
     "output_type": "execute_result"
    }
   ],
   "execution_count": 6
  },
  {
   "metadata": {},
   "cell_type": "markdown",
   "source": "First data check",
   "id": "db8622fc307ab9bf"
  },
  {
   "metadata": {
    "ExecuteTime": {
     "end_time": "2024-05-14T13:18:49.665843Z",
     "start_time": "2024-05-14T13:18:49.628426Z"
    }
   },
   "cell_type": "code",
   "source": "data.info()",
   "id": "95c136a26fe0e094",
   "outputs": [
    {
     "name": "stdout",
     "output_type": "stream",
     "text": [
      "<class 'pandas.core.frame.DataFrame'>\n",
      "RangeIndex: 746336 entries, 0 to 746335\n",
      "Data columns (total 16 columns):\n",
      " #   Column    Non-Null Count   Dtype  \n",
      "---  ------    --------------   -----  \n",
      " 0   AGEP      746336 non-null  float64\n",
      " 1   SCHL      709133 non-null  float64\n",
      " 2   MAR       746336 non-null  float64\n",
      " 3   RELP      709213 non-null  float64\n",
      " 4   DIS       746336 non-null  float64\n",
      " 5   ESP       746336 non-null  float64\n",
      " 6   CIT       709287 non-null  float64\n",
      " 7   MIG       746336 non-null  float64\n",
      " 8   MIL       746336 non-null  float64\n",
      " 9   ANC       746336 non-null  float64\n",
      " 10  NATIVITY  708813 non-null  float64\n",
      " 11  DEAR      708974 non-null  float64\n",
      " 12  DEYE      709267 non-null  float64\n",
      " 13  DREM      746336 non-null  float64\n",
      " 14  SEX       746336 non-null  float64\n",
      " 15  ESR       746336 non-null  int64  \n",
      "dtypes: float64(15), int64(1)\n",
      "memory usage: 91.1 MB\n"
     ]
    }
   ],
   "execution_count": 4
  },
  {
   "metadata": {
    "ExecuteTime": {
     "end_time": "2024-05-14T13:21:54.048197Z",
     "start_time": "2024-05-14T13:21:53.756074Z"
    }
   },
   "cell_type": "code",
   "source": "data['SCHL'].hist()",
   "id": "4d032297ff367d4b",
   "outputs": [],
   "execution_count": null
  },
  {
   "metadata": {},
   "cell_type": "code",
   "outputs": [
    {
     "data": {
      "text/plain": [
       "<Axes: >"
      ]
     },
     "execution_count": 7,
     "metadata": {},
     "output_type": "execute_result"
    },
    {
     "data": {
      "text/plain": [
       "<Figure size 640x480 with 1 Axes>"
      ],
      "image/png": "[encoded data removed]"
     },
     "metadata": {},
     "output_type": "display_data"
    }
   ],
   "execution_count": 7,
   "source": "",
   "id": "77fef287f90ea527"
  }
 ],
 "metadata": {
  "kernelspec": {
   "display_name": "Python 3",
   "language": "python",
   "name": "python3"
  },
  "language_info": {
   "codemirror_mode": {
    "name": "ipython",
    "version": 2
   },
   "file_extension": ".py",
   "mimetype": "text/x-python",
   "name": "python",
   "nbconvert_exporter": "python",
   "pygments_lexer": "ipython2",
   "version": "2.7.6"
  }
 },
 "nbformat": 4,
 "nbformat_minor": 5
}
